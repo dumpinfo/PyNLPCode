{
 "cells": [
  {
   "cell_type": "code",
   "execution_count": 1,
   "metadata": {},
   "outputs": [
    {
     "name": "stderr",
     "output_type": "stream",
     "text": [
      "/Users/i346047/anaconda3/lib/python3.6/importlib/_bootstrap.py:219: RuntimeWarning: compiletime version 3.5 of module 'tensorflow.python.framework.fast_tensor_util' does not match runtime version 3.6\n",
      "  return f(*args, **kwds)\n",
      "/Users/i346047/anaconda3/lib/python3.6/site-packages/h5py/__init__.py:34: FutureWarning: Conversion of the second argument of issubdtype from `float` to `np.floating` is deprecated. In future, it will be treated as `np.float64 == np.dtype(float).type`.\n",
      "  from ._conv import register_converters as _register_converters\n"
     ]
    }
   ],
   "source": [
    "import numpy as np\n",
    "import librosa\n",
    "import os\n",
    "import random\n",
    "import tflearn\n",
    "import tensorflow as tf"
   ]
  },
  {
   "cell_type": "code",
   "execution_count": 2,
   "metadata": {
    "collapsed": true
   },
   "outputs": [],
   "source": [
    "lr = 0.001\n",
    "iterations_train = 30\n",
    "bsize = 64\n",
    "audio_features = 20  \n",
    "utterance_length = 35  \n",
    "ndigits = 10 "
   ]
  },
  {
   "cell_type": "code",
   "execution_count": 3,
   "metadata": {
    "collapsed": true
   },
   "outputs": [],
   "source": [
    "def get_mfcc_features(fpath):\n",
    "    raw_w,sampling_rate = librosa.load(fpath,mono=True)\n",
    "    mfcc_features = librosa.feature.mfcc(raw_w,sampling_rate)\n",
    "    if(mfcc_features.shape[1]>utterance_length):\n",
    "        mfcc_features = mfcc_features[:,0:utterance_length]\n",
    "    else:\n",
    "        mfcc_features=np.pad(mfcc_features,((0,0),(0,utterance_length-mfcc_features.shape[1])), \n",
    "                             mode='constant', constant_values=0)\n",
    "    return mfcc_features"
   ]
  },
  {
   "cell_type": "code",
   "execution_count": 4,
   "metadata": {},
   "outputs": [
    {
     "name": "stdout",
     "output_type": "stream",
     "text": [
      "Feature shape:  (20, 35)\n",
      "Features:  [-5.16464322e+02  2.18720111e+02 -9.43628435e+01  1.63510496e+01\n",
      "  2.09937445e+01 -4.38791200e+01  1.94267052e+01 -9.41531735e-02\n",
      " -2.99960992e+01  1.39727129e+01  6.60561909e-01 -1.14758965e+01\n",
      "  3.13688180e+00 -1.34556070e+01 -1.43686686e+00  1.17119580e+01\n",
      " -1.54499037e+01 -1.13105764e+01  2.53027299e+00 -1.35725427e+01]\n"
     ]
    },
    {
     "data": {
      "image/png": "[encoded data removed]",
      "text/plain": [
       "<matplotlib.figure.Figure at 0x11c2f75f8>"
      ]
     },
     "metadata": {},
     "output_type": "display_data"
    }
   ],
   "source": [
    "import matplotlib.pyplot as plt\n",
    "import librosa.display\n",
    "%matplotlib inline\n",
    "mfcc_features = get_mfcc_features('../../speech_dset/recordings/train/5_theo_45.wav')\n",
    "plt.figure(figsize=(10, 6))\n",
    "plt.subplot(2, 1, 1)\n",
    "librosa.display.specshow(mfcc_features, x_axis='time')\n",
    "print(\"Feature shape: \", mfcc_features.shape)\n",
    "print(\"Features: \", mfcc_features[:,0])"
   ]
  },
  {
   "cell_type": "code",
   "execution_count": 5,
   "metadata": {
    "collapsed": true
   },
   "outputs": [],
   "source": [
    "def get_batch_mfcc(fpath,batch_size=256):\n",
    "    ft_batch = []\n",
    "    labels_batch = []\n",
    "    files = os.listdir(fpath)\n",
    "    while True:\n",
    "        print(\"Total %d files\" % len(files))\n",
    "        random.shuffle(files)\n",
    "        for fname in files:\n",
    "            if not fname.endswith(\".wav\"): \n",
    "                continue\n",
    "            mfcc_features = get_mfcc_features(fpath+fname)  \n",
    "            label = np.eye(10)[int(fname[0])]\n",
    "            labels_batch.append(label)\n",
    "            ft_batch.append(mfcc_features)\n",
    "            if len(ft_batch) >= batch_size:\n",
    "                yield ft_batch, labels_batch \n",
    "                ft_batch = []  \n",
    "                labels_batch = []"
   ]
  },
  {
   "cell_type": "code",
   "execution_count": 6,
   "metadata": {},
   "outputs": [
    {
     "name": "stdout",
     "output_type": "stream",
     "text": [
      "Training Step: 1199  | total loss: \u001b[1m\u001b[32m0.45749\u001b[0m\u001b[0m | time: 0.617s\n",
      "| Adam | epoch: 300 | loss: 0.45749 - acc: 0.8975 -- iter: 192/256\n",
      "Training Step: 1200  | total loss: \u001b[1m\u001b[32m0.43931\u001b[0m\u001b[0m | time: 1.819s\n",
      "| Adam | epoch: 300 | loss: 0.43931 - acc: 0.9031 | val_loss: 0.18600 - val_acc: 0.9375 -- iter: 256/256\n",
      "--\n",
      "INFO:tensorflow:/tmp/speech_recognition.lstm is not in all_model_checkpoint_paths. Manually adding it.\n"
     ]
    }
   ],
   "source": [
    "train_batch = get_batch_mfcc('../../speech_dset/recordings/train/')\n",
    "sp_network = tflearn.input_data([None, audio_features, utterance_length])\n",
    "sp_network = tflearn.lstm(sp_network, 128*4, dropout=0.5)\n",
    "sp_network = tflearn.fully_connected(sp_network, ndigits, activation='softmax')\n",
    "sp_network = tflearn.regression(sp_network, optimizer='adam', learning_rate=lr, loss='categorical_crossentropy')\n",
    "sp_model = tflearn.DNN(sp_network, tensorboard_verbose=0)\n",
    "while iterations_train > 0:\n",
    "    X_tr, y_tr = next(train_batch)\n",
    "    X_test, y_test = next(train_batch)\n",
    "    sp_model.fit(X_tr, y_tr, n_epoch=10, validation_set=(X_test, y_test), show_metric=True, batch_size=bsize)\n",
    "    iterations_train-=1\n",
    "sp_model.save(\"/tmp/speech_recognition.lstm\")"
   ]
  },
  {
   "cell_type": "code",
   "execution_count": 7,
   "metadata": {},
   "outputs": [
    {
     "name": "stdout",
     "output_type": "stream",
     "text": [
      "INFO:tensorflow:Restoring parameters from /tmp/speech_recognition.lstm\n",
      "[[2.3709694e-03 5.1581711e-03 7.8898791e-04 1.9530311e-03 9.8459840e-01\n",
      "  1.1394228e-03 3.0317350e-04 1.8992715e-03 1.6027489e-03 1.8592674e-04]]\n",
      "Digit predicted:  4\n"
     ]
    }
   ],
   "source": [
    "sp_model.load('/tmp/speech_recognition.lstm')\n",
    "mfcc_features = get_mfcc_features('../../speech_dset/recordings/test/4_jackson_40.wav')\n",
    "mfcc_features = mfcc_features.reshape((1,mfcc_features.shape[0],mfcc_features.shape[1]))\n",
    "prediction_digit = sp_model.predict(mfcc_features)\n",
    "print(prediction_digit)\n",
    "print(\"Digit predicted: \", np.argmax(prediction_digit))"
   ]
  },
  {
   "cell_type": "code",
   "execution_count": null,
   "metadata": {
    "collapsed": true
   },
   "outputs": [],
   "source": []
  }
 ],
 "metadata": {
  "kernelspec": {
   "display_name": "Python 3",
   "language": "python",
   "name": "python3"
  },
  "language_info": {
   "codemirror_mode": {
    "name": "ipython",
    "version": 3
   },
   "file_extension": ".py",
   "mimetype": "text/x-python",
   "name": "python",
   "nbconvert_exporter": "python",
   "pygments_lexer": "ipython3",
   "version": "3.6.3"
  }
 },
 "nbformat": 4,
 "nbformat_minor": 2
}
