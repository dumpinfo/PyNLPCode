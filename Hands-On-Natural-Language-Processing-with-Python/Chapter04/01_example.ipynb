{
 "cells": [
  {
   "cell_type": "markdown",
   "metadata": {},
   "source": [
    "<h1> Topic modeling with NLTK webtext corpus using gensim </h1>"
   ]
  },
  {
   "cell_type": "code",
   "execution_count": 5,
   "metadata": {
    "collapsed": true
   },
   "outputs": [],
   "source": [
    "from nltk.corpus import webtext, stopwords\n",
    "import gensim\n",
    "import random\n",
    "from pprint import pprint\n",
    "import numpy as np\n",
    "import logging\n",
    "#logging.basicConfig(format='%(asctime)s : %(levelname)s : %(message)s', level=logging.INFO)"
   ]
  },
  {
   "cell_type": "code",
   "execution_count": 6,
   "metadata": {
    "collapsed": true
   },
   "outputs": [],
   "source": [
    "firefox = webtext.sents('firefox.txt')\n",
    "wine = webtext.sents('wine.txt')\n",
    "pirates = webtext.sents('pirates.txt')"
   ]
  },
  {
   "cell_type": "code",
   "execution_count": 7,
   "metadata": {
    "collapsed": true
   },
   "outputs": [],
   "source": [
    "all_docs = []\n",
    "all_docs.extend(firefox)\n",
    "all_docs.extend(pirates)\n",
    "all_docs.extend(wine)\n",
    "random.shuffle(all_docs)"
   ]
  },
  {
   "cell_type": "code",
   "execution_count": 8,
   "metadata": {
    "collapsed": true
   },
   "outputs": [],
   "source": [
    "docs = [[word for word in doc if word not in stopwords.words('english')] for doc in all_docs]\n",
    "docs = [doc for doc in docs if len(doc)>1]"
   ]
  },
  {
   "cell_type": "code",
   "execution_count": 9,
   "metadata": {
    "collapsed": true
   },
   "outputs": [],
   "source": [
    "chunksize=len(docs)\n",
    "dictionary = gensim.corpora.Dictionary(docs)\n",
    "corpus = [dictionary.doc2bow(doc) for doc in docs]\n",
    "model = gensim.models.LdaModel(corpus=corpus, id2word=dictionary, num_topics=3,passes=20)"
   ]
  },
  {
   "cell_type": "code",
   "execution_count": 10,
   "metadata": {},
   "outputs": [
    {
     "name": "stdout",
     "output_type": "stream",
     "text": [
      "Topic 1: \n",
      "[(0.029538315, '.'), (0.025298702, '\"'), (0.018974159, \"'\"), (0.017001661, '-'), (0.0097839413, '('), (0.0089947991, 'page'), (0.0080595175, ')'), (0.0076006982, 'window'), (0.0075753955, 'Firefox'), (0.0061700493, 'open'), (0.0058493023, 'menu'), (0.0057583884, 'bar'), (0.005752211, ':'), (0.0057242708, 'tab'), (0.0054682544, 'new'), (0.0053855875, 'Firebird'), (0.0052021407, 'work'), (0.0050605903, 'browser'), (0.00455163, '0'), (0.0045419205, 'button')]\n",
      "Topic 2: \n",
      "[(0.10882618, '.'), (0.048713163, ','), (0.033278842, '-'), (0.019521466, 'I'), (0.018609792, '***'), (0.011298033, 'fruit'), (0.010273052, 'good'), (0.0097078849, 'A'), (0.0089780623, 'wine'), (0.0089215562, \"'\"), (0.0087491088, 'bit'), (0.0080983331, 'quite'), (0.0072782212, 'Top'), (0.0061755609, '****'), (0.0060614017, '**'), (0.005842932, 'nose'), (0.0057750815, 'touch'), (0.0049686432, 'Bare'), (0.0048470194, 'Very'), (0.0047901836, 'palate')]\n",
      "Topic 3: \n",
      "[(0.051035155, ','), (0.043318823, ':'), (0.037644491, '.'), (0.029482145, '['), (0.029230012, ']'), (0.023068342, \"'\"), (0.019555457, '!'), (0.012494524, 'Jack'), (0.011483309, '?'), (0.010315109, '*'), (0.008776715, 'JACK'), (0.008776715, 'SPARROW'), (0.0074223313, '-'), (0.0061529884, 'WILL'), (0.0061529884, 'TURNER'), (0.0060977913, 'Will'), (0.0055771996, 'I'), (0.0054870662, '...'), (0.0041205585, 'ELIZABETH'), (0.0041205585, 'SWANN')]\n"
     ]
    }
   ],
   "source": [
    "top_topics = model.top_topics(corpus)\n",
    "print(\"Topic 1: \")\n",
    "print(top_topics[0][0])\n",
    "print(\"Topic 2: \")\n",
    "print(top_topics[1][0])\n",
    "print(\"Topic 3: \")\n",
    "print(top_topics[2][0])"
   ]
  },
  {
   "cell_type": "code",
   "execution_count": null,
   "metadata": {
    "collapsed": true
   },
   "outputs": [],
   "source": []
  }
 ],
 "metadata": {
  "kernelspec": {
   "display_name": "Python 3",
   "language": "python",
   "name": "python3"
  },
  "language_info": {
   "codemirror_mode": {
    "name": "ipython",
    "version": 3
   },
   "file_extension": ".py",
   "mimetype": "text/x-python",
   "name": "python",
   "nbconvert_exporter": "python",
   "pygments_lexer": "ipython3",
   "version": "3.6.3"
  }
 },
 "nbformat": 4,
 "nbformat_minor": 2
}
