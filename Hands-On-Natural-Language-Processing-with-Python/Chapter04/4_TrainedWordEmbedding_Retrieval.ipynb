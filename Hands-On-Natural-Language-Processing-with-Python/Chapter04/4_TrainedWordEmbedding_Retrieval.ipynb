{
 "cells": [
  {
   "cell_type": "code",
   "execution_count": 1,
   "metadata": {},
   "outputs": [],
   "source": [
    "from gensim.models import KeyedVectors, Word2Vec\n",
    "import numpy as np"
   ]
  },
  {
   "cell_type": "code",
   "execution_count": 2,
   "metadata": {},
   "outputs": [
    {
     "data": {
      "text/plain": [
       "404290"
      ]
     },
     "execution_count": 2,
     "metadata": {},
     "output_type": "execute_result"
    }
   ],
   "source": [
    "import pandas as pd\n",
    "csv_file = \"/Users/i337036/Downloads/train.csv\"\n",
    "df = pd.read_csv(csv_file, encoding='utf-8')\n",
    "len(df)"
   ]
  },
  {
   "cell_type": "code",
   "execution_count": 3,
   "metadata": {},
   "outputs": [
    {
     "data": {
      "text/plain": [
       "array(['id', 'qid1', 'qid2', 'question1', 'question2', 'is_duplicate'],\n",
       "      dtype=object)"
      ]
     },
     "execution_count": 3,
     "metadata": {},
     "output_type": "execute_result"
    }
   ],
   "source": [
    "df.columns.values"
   ]
  },
  {
   "cell_type": "code",
   "execution_count": 4,
   "metadata": {},
   "outputs": [],
   "source": [
    "df = df[df['is_duplicate']==1]"
   ]
  },
  {
   "cell_type": "code",
   "execution_count": 5,
   "metadata": {},
   "outputs": [
    {
     "data": {
      "text/plain": [
       "73776"
      ]
     },
     "execution_count": 5,
     "metadata": {},
     "output_type": "execute_result"
    }
   ],
   "source": [
    "df = df.drop_duplicates(subset=['question1'], keep='first')\n",
    "df = df.drop_duplicates(subset=['question2'], keep='first')\n",
    "len(df)"
   ]
  },
  {
   "cell_type": "code",
   "execution_count": 6,
   "metadata": {},
   "outputs": [
    {
     "data": {
      "text/plain": [
       "73776"
      ]
     },
     "execution_count": 6,
     "metadata": {},
     "output_type": "execute_result"
    }
   ],
   "source": [
    "len((df[\"question1\"] + df[\"question2\"]).unique())"
   ]
  },
  {
   "cell_type": "code",
   "execution_count": 7,
   "metadata": {},
   "outputs": [
    {
     "name": "stdout",
     "output_type": "stream",
     "text": [
      "73776 73776\n"
     ]
    }
   ],
   "source": [
    "q1_list = df.question1.tolist()\n",
    "q2_list = df.question2.tolist()\n",
    "print(len(q1_list), len(q2_list))"
   ]
  },
  {
   "cell_type": "code",
   "execution_count": 8,
   "metadata": {},
   "outputs": [],
   "source": [
    "def clean_sentence(sentence):\n",
    "    sentence = [word for word in sentence.strip().split() if word in word_vecs.wv.vocab]\n",
    "    \n",
    "    return sentence"
   ]
  },
  {
   "cell_type": "code",
   "execution_count": 9,
   "metadata": {},
   "outputs": [],
   "source": [
    "def get_sentence_matrix(sentences):\n",
    "    sentence_mat = np.zeros((len(sentences), 300), dtype=float)\n",
    "    for idx in tqdm(range(len(sentences)), desc=\"Building vectors for %d sentences\" % len(sentences)):\n",
    "        sentence = sentences[idx]\n",
    "        for word in sentence:\n",
    "            sentence_mat[idx, :] += word_vecs[word]\n",
    "            \n",
    "    return sentence_mat"
   ]
  },
  {
   "cell_type": "code",
   "execution_count": 10,
   "metadata": {},
   "outputs": [],
   "source": [
    "from tqdm import tqdm"
   ]
  },
  {
   "cell_type": "code",
   "execution_count": 11,
   "metadata": {},
   "outputs": [
    {
     "name": "stdout",
     "output_type": "stream",
     "text": [
      "147552\n"
     ]
    }
   ],
   "source": [
    "train_sentences = q1_list + q2_list\n",
    "print(len(train_sentences))"
   ]
  },
  {
   "cell_type": "code",
   "execution_count": 12,
   "metadata": {},
   "outputs": [],
   "source": [
    "import logging\n",
    "logging.basicConfig(format='%(asctime)s : %(levelname)s : %(message)s', level=logging.INFO)"
   ]
  },
  {
   "cell_type": "code",
   "execution_count": 13,
   "metadata": {
    "scrolled": true
   },
   "outputs": [
    {
     "name": "stderr",
     "output_type": "stream",
     "text": [
      "2018-04-24 15:48:58,146 : INFO : collecting all words and their counts\n",
      "2018-04-24 15:48:58,147 : WARNING : Each 'sentences' item should be a list of words (usually unicode strings). First item here is instead plain <class 'str'>.\n",
      "2018-04-24 15:48:58,148 : INFO : PROGRESS: at sentence #0, processed 0 words, keeping 0 word types\n",
      "2018-04-24 15:48:58,205 : INFO : PROGRESS: at sentence #10000, processed 518975 words, keeping 127 word types\n",
      "2018-04-24 15:48:58,255 : INFO : PROGRESS: at sentence #20000, processed 1037154 words, keeping 153 word types\n",
      "2018-04-24 15:48:58,308 : INFO : PROGRESS: at sentence #30000, processed 1556651 words, keeping 175 word types\n",
      "2018-04-24 15:48:58,362 : INFO : PROGRESS: at sentence #40000, processed 2079699 words, keeping 184 word types\n",
      "2018-04-24 15:48:58,416 : INFO : PROGRESS: at sentence #50000, processed 2595725 words, keeping 199 word types\n",
      "2018-04-24 15:48:58,470 : INFO : PROGRESS: at sentence #60000, processed 3112930 words, keeping 217 word types\n",
      "2018-04-24 15:48:58,525 : INFO : PROGRESS: at sentence #70000, processed 3631934 words, keeping 225 word types\n",
      "2018-04-24 15:48:58,580 : INFO : PROGRESS: at sentence #80000, processed 4155246 words, keeping 226 word types\n",
      "2018-04-24 15:48:58,634 : INFO : PROGRESS: at sentence #90000, processed 4673231 words, keeping 228 word types\n",
      "2018-04-24 15:48:58,689 : INFO : PROGRESS: at sentence #100000, processed 5193660 words, keeping 229 word types\n",
      "2018-04-24 15:48:58,744 : INFO : PROGRESS: at sentence #110000, processed 5712787 words, keeping 232 word types\n",
      "2018-04-24 15:48:58,799 : INFO : PROGRESS: at sentence #120000, processed 6231650 words, keeping 240 word types\n",
      "2018-04-24 15:48:58,853 : INFO : PROGRESS: at sentence #130000, processed 6745539 words, keeping 250 word types\n",
      "2018-04-24 15:48:58,908 : INFO : PROGRESS: at sentence #140000, processed 7260553 words, keeping 263 word types\n",
      "2018-04-24 15:48:58,949 : INFO : collected 263 word types from a corpus of 7654552 raw words and 147552 sentences\n",
      "2018-04-24 15:48:58,950 : INFO : Loading a fresh vocabulary\n",
      "2018-04-24 15:48:58,951 : INFO : min_count=1 retains 263 unique words (100% of original 263, drops 0)\n",
      "2018-04-24 15:48:58,952 : INFO : min_count=1 leaves 7654552 word corpus (100% of original 7654552, drops 0)\n",
      "2018-04-24 15:48:58,954 : INFO : deleting the raw counts dictionary of 263 items\n",
      "2018-04-24 15:48:58,955 : INFO : sample=0.001 downsamples 27 most-common words\n",
      "2018-04-24 15:48:58,956 : INFO : downsampling leaves estimated 1602023 word corpus (20.9% of prior 7654552)\n",
      "2018-04-24 15:48:58,959 : INFO : estimated required memory for 263 words and 300 dimensions: 762700 bytes\n",
      "2018-04-24 15:48:58,960 : INFO : resetting layer weights\n",
      "2018-04-24 15:48:58,970 : INFO : training model with 8 workers on 263 vocabulary and 300 features, using sg=0 hs=0 sample=0.001 negative=5 window=5\n",
      "2018-04-24 15:48:59,983 : INFO : EPOCH 1 - PROGRESS: at 51.14% examples, 816073 words/s, in_qsize 15, out_qsize 0\n",
      "2018-04-24 15:49:00,861 : INFO : worker thread finished; awaiting finish of 7 more threads\n",
      "2018-04-24 15:49:00,864 : INFO : worker thread finished; awaiting finish of 6 more threads\n",
      "2018-04-24 15:49:00,866 : INFO : worker thread finished; awaiting finish of 5 more threads\n",
      "2018-04-24 15:49:00,868 : INFO : worker thread finished; awaiting finish of 4 more threads\n",
      "2018-04-24 15:49:00,870 : INFO : worker thread finished; awaiting finish of 3 more threads\n",
      "2018-04-24 15:49:00,875 : INFO : worker thread finished; awaiting finish of 2 more threads\n",
      "2018-04-24 15:49:00,878 : INFO : worker thread finished; awaiting finish of 1 more threads\n",
      "2018-04-24 15:49:00,879 : INFO : worker thread finished; awaiting finish of 0 more threads\n",
      "2018-04-24 15:49:00,879 : INFO : EPOCH - 1 : training on 7654552 raw words (1601903 effective words) took 1.9s, 842276 effective words/s\n",
      "2018-04-24 15:49:01,887 : INFO : EPOCH 2 - PROGRESS: at 55.03% examples, 882329 words/s, in_qsize 15, out_qsize 0\n",
      "2018-04-24 15:49:02,705 : INFO : worker thread finished; awaiting finish of 7 more threads\n",
      "2018-04-24 15:49:02,707 : INFO : worker thread finished; awaiting finish of 6 more threads\n",
      "2018-04-24 15:49:02,710 : INFO : worker thread finished; awaiting finish of 5 more threads\n",
      "2018-04-24 15:49:02,715 : INFO : worker thread finished; awaiting finish of 4 more threads\n",
      "2018-04-24 15:49:02,716 : INFO : worker thread finished; awaiting finish of 3 more threads\n",
      "2018-04-24 15:49:02,720 : INFO : worker thread finished; awaiting finish of 2 more threads\n",
      "2018-04-24 15:49:02,723 : INFO : worker thread finished; awaiting finish of 1 more threads\n",
      "2018-04-24 15:49:02,726 : INFO : worker thread finished; awaiting finish of 0 more threads\n",
      "2018-04-24 15:49:02,727 : INFO : EPOCH - 2 : training on 7654552 raw words (1601291 effective words) took 1.8s, 870173 effective words/s\n",
      "2018-04-24 15:49:03,736 : INFO : EPOCH 3 - PROGRESS: at 54.00% examples, 864710 words/s, in_qsize 14, out_qsize 1\n",
      "2018-04-24 15:49:04,563 : INFO : worker thread finished; awaiting finish of 7 more threads\n",
      "2018-04-24 15:49:04,568 : INFO : worker thread finished; awaiting finish of 6 more threads\n",
      "2018-04-24 15:49:04,574 : INFO : worker thread finished; awaiting finish of 5 more threads\n",
      "2018-04-24 15:49:04,575 : INFO : worker thread finished; awaiting finish of 4 more threads\n",
      "2018-04-24 15:49:04,579 : INFO : worker thread finished; awaiting finish of 3 more threads\n",
      "2018-04-24 15:49:04,580 : INFO : worker thread finished; awaiting finish of 2 more threads\n",
      "2018-04-24 15:49:04,581 : INFO : worker thread finished; awaiting finish of 1 more threads\n",
      "2018-04-24 15:49:04,582 : INFO : worker thread finished; awaiting finish of 0 more threads\n",
      "2018-04-24 15:49:04,582 : INFO : EPOCH - 3 : training on 7654552 raw words (1602845 effective words) took 1.8s, 867038 effective words/s\n",
      "2018-04-24 15:49:05,597 : INFO : EPOCH 4 - PROGRESS: at 54.89% examples, 878107 words/s, in_qsize 15, out_qsize 0\n",
      "2018-04-24 15:49:06,407 : INFO : worker thread finished; awaiting finish of 7 more threads\n",
      "2018-04-24 15:49:06,411 : INFO : worker thread finished; awaiting finish of 6 more threads\n",
      "2018-04-24 15:49:06,415 : INFO : worker thread finished; awaiting finish of 5 more threads\n",
      "2018-04-24 15:49:06,416 : INFO : worker thread finished; awaiting finish of 4 more threads\n",
      "2018-04-24 15:49:06,420 : INFO : worker thread finished; awaiting finish of 3 more threads\n",
      "2018-04-24 15:49:06,420 : INFO : worker thread finished; awaiting finish of 2 more threads\n",
      "2018-04-24 15:49:06,421 : INFO : worker thread finished; awaiting finish of 1 more threads\n",
      "2018-04-24 15:49:06,422 : INFO : worker thread finished; awaiting finish of 0 more threads\n",
      "2018-04-24 15:49:06,422 : INFO : EPOCH - 4 : training on 7654552 raw words (1601905 effective words) took 1.8s, 875760 effective words/s\n",
      "2018-04-24 15:49:07,431 : INFO : EPOCH 5 - PROGRESS: at 54.37% examples, 872838 words/s, in_qsize 14, out_qsize 1\n",
      "2018-04-24 15:49:08,218 : INFO : worker thread finished; awaiting finish of 7 more threads\n",
      "2018-04-24 15:49:08,221 : INFO : worker thread finished; awaiting finish of 6 more threads\n",
      "2018-04-24 15:49:08,222 : INFO : worker thread finished; awaiting finish of 5 more threads\n",
      "2018-04-24 15:49:08,224 : INFO : worker thread finished; awaiting finish of 4 more threads\n",
      "2018-04-24 15:49:08,229 : INFO : worker thread finished; awaiting finish of 3 more threads\n",
      "2018-04-24 15:49:08,230 : INFO : worker thread finished; awaiting finish of 2 more threads\n",
      "2018-04-24 15:49:08,234 : INFO : worker thread finished; awaiting finish of 1 more threads\n",
      "2018-04-24 15:49:08,235 : INFO : worker thread finished; awaiting finish of 0 more threads\n",
      "2018-04-24 15:49:08,236 : INFO : EPOCH - 5 : training on 7654552 raw words (1603606 effective words) took 1.8s, 888199 effective words/s\n",
      "2018-04-24 15:49:09,248 : INFO : EPOCH 6 - PROGRESS: at 54.62% examples, 873123 words/s, in_qsize 15, out_qsize 0\n",
      "2018-04-24 15:49:10,050 : INFO : worker thread finished; awaiting finish of 7 more threads\n",
      "2018-04-24 15:49:10,057 : INFO : worker thread finished; awaiting finish of 6 more threads\n",
      "2018-04-24 15:49:10,058 : INFO : worker thread finished; awaiting finish of 5 more threads\n",
      "2018-04-24 15:49:10,059 : INFO : worker thread finished; awaiting finish of 4 more threads\n"
     ]
    },
    {
     "name": "stderr",
     "output_type": "stream",
     "text": [
      "2018-04-24 15:49:10,068 : INFO : worker thread finished; awaiting finish of 3 more threads\n",
      "2018-04-24 15:49:10,069 : INFO : worker thread finished; awaiting finish of 2 more threads\n",
      "2018-04-24 15:49:10,069 : INFO : worker thread finished; awaiting finish of 1 more threads\n",
      "2018-04-24 15:49:10,072 : INFO : worker thread finished; awaiting finish of 0 more threads\n",
      "2018-04-24 15:49:10,073 : INFO : EPOCH - 6 : training on 7654552 raw words (1602355 effective words) took 1.8s, 876228 effective words/s\n",
      "2018-04-24 15:49:11,088 : INFO : EPOCH 7 - PROGRESS: at 53.08% examples, 847056 words/s, in_qsize 15, out_qsize 0\n",
      "2018-04-24 15:49:11,911 : INFO : worker thread finished; awaiting finish of 7 more threads\n",
      "2018-04-24 15:49:11,915 : INFO : worker thread finished; awaiting finish of 6 more threads\n",
      "2018-04-24 15:49:11,916 : INFO : worker thread finished; awaiting finish of 5 more threads\n",
      "2018-04-24 15:49:11,917 : INFO : worker thread finished; awaiting finish of 4 more threads\n",
      "2018-04-24 15:49:11,921 : INFO : worker thread finished; awaiting finish of 3 more threads\n",
      "2018-04-24 15:49:11,923 : INFO : worker thread finished; awaiting finish of 2 more threads\n",
      "2018-04-24 15:49:11,927 : INFO : worker thread finished; awaiting finish of 1 more threads\n",
      "2018-04-24 15:49:11,927 : INFO : worker thread finished; awaiting finish of 0 more threads\n",
      "2018-04-24 15:49:11,928 : INFO : EPOCH - 7 : training on 7654552 raw words (1600665 effective words) took 1.8s, 867204 effective words/s\n",
      "2018-04-24 15:49:12,937 : INFO : EPOCH 8 - PROGRESS: at 54.63% examples, 877150 words/s, in_qsize 15, out_qsize 0\n",
      "2018-04-24 15:49:13,728 : INFO : worker thread finished; awaiting finish of 7 more threads\n",
      "2018-04-24 15:49:13,729 : INFO : worker thread finished; awaiting finish of 6 more threads\n",
      "2018-04-24 15:49:13,733 : INFO : worker thread finished; awaiting finish of 5 more threads\n",
      "2018-04-24 15:49:13,734 : INFO : worker thread finished; awaiting finish of 4 more threads\n",
      "2018-04-24 15:49:13,735 : INFO : worker thread finished; awaiting finish of 3 more threads\n",
      "2018-04-24 15:49:13,741 : INFO : worker thread finished; awaiting finish of 2 more threads\n",
      "2018-04-24 15:49:13,742 : INFO : worker thread finished; awaiting finish of 1 more threads\n",
      "2018-04-24 15:49:13,744 : INFO : worker thread finished; awaiting finish of 0 more threads\n",
      "2018-04-24 15:49:13,745 : INFO : EPOCH - 8 : training on 7654552 raw words (1603096 effective words) took 1.8s, 885966 effective words/s\n",
      "2018-04-24 15:49:14,756 : INFO : EPOCH 9 - PROGRESS: at 56.59% examples, 904840 words/s, in_qsize 13, out_qsize 2\n",
      "2018-04-24 15:49:15,498 : INFO : worker thread finished; awaiting finish of 7 more threads\n",
      "2018-04-24 15:49:15,503 : INFO : worker thread finished; awaiting finish of 6 more threads\n",
      "2018-04-24 15:49:15,506 : INFO : worker thread finished; awaiting finish of 5 more threads\n",
      "2018-04-24 15:49:15,511 : INFO : worker thread finished; awaiting finish of 4 more threads\n",
      "2018-04-24 15:49:15,512 : INFO : worker thread finished; awaiting finish of 3 more threads\n",
      "2018-04-24 15:49:15,513 : INFO : worker thread finished; awaiting finish of 2 more threads\n",
      "2018-04-24 15:49:15,516 : INFO : worker thread finished; awaiting finish of 1 more threads\n",
      "2018-04-24 15:49:15,517 : INFO : worker thread finished; awaiting finish of 0 more threads\n",
      "2018-04-24 15:49:15,517 : INFO : EPOCH - 9 : training on 7654552 raw words (1602448 effective words) took 1.8s, 908052 effective words/s\n",
      "2018-04-24 15:49:16,531 : INFO : EPOCH 10 - PROGRESS: at 52.04% examples, 831029 words/s, in_qsize 16, out_qsize 0\n",
      "2018-04-24 15:49:17,388 : INFO : worker thread finished; awaiting finish of 7 more threads\n",
      "2018-04-24 15:49:17,390 : INFO : worker thread finished; awaiting finish of 6 more threads\n",
      "2018-04-24 15:49:17,394 : INFO : worker thread finished; awaiting finish of 5 more threads\n",
      "2018-04-24 15:49:17,398 : INFO : worker thread finished; awaiting finish of 4 more threads\n",
      "2018-04-24 15:49:17,401 : INFO : worker thread finished; awaiting finish of 3 more threads\n",
      "2018-04-24 15:49:17,402 : INFO : worker thread finished; awaiting finish of 2 more threads\n",
      "2018-04-24 15:49:17,404 : INFO : worker thread finished; awaiting finish of 1 more threads\n",
      "2018-04-24 15:49:17,407 : INFO : worker thread finished; awaiting finish of 0 more threads\n",
      "2018-04-24 15:49:17,408 : INFO : EPOCH - 10 : training on 7654552 raw words (1601767 effective words) took 1.9s, 851251 effective words/s\n",
      "2018-04-24 15:49:18,422 : INFO : EPOCH 11 - PROGRESS: at 56.07% examples, 895775 words/s, in_qsize 16, out_qsize 2\n",
      "2018-04-24 15:49:19,205 : INFO : worker thread finished; awaiting finish of 7 more threads\n",
      "2018-04-24 15:49:19,214 : INFO : worker thread finished; awaiting finish of 6 more threads\n",
      "2018-04-24 15:49:19,217 : INFO : worker thread finished; awaiting finish of 5 more threads\n",
      "2018-04-24 15:49:19,220 : INFO : worker thread finished; awaiting finish of 4 more threads\n",
      "2018-04-24 15:49:19,220 : INFO : worker thread finished; awaiting finish of 3 more threads\n",
      "2018-04-24 15:49:19,222 : INFO : worker thread finished; awaiting finish of 2 more threads\n",
      "2018-04-24 15:49:19,223 : INFO : worker thread finished; awaiting finish of 1 more threads\n",
      "2018-04-24 15:49:19,224 : INFO : worker thread finished; awaiting finish of 0 more threads\n",
      "2018-04-24 15:49:19,225 : INFO : EPOCH - 11 : training on 7654552 raw words (1604186 effective words) took 1.8s, 887336 effective words/s\n",
      "2018-04-24 15:49:20,239 : INFO : EPOCH 12 - PROGRESS: at 56.32% examples, 899660 words/s, in_qsize 14, out_qsize 1\n",
      "2018-04-24 15:49:21,087 : INFO : worker thread finished; awaiting finish of 7 more threads\n",
      "2018-04-24 15:49:21,091 : INFO : worker thread finished; awaiting finish of 6 more threads\n",
      "2018-04-24 15:49:21,092 : INFO : worker thread finished; awaiting finish of 5 more threads\n",
      "2018-04-24 15:49:21,093 : INFO : worker thread finished; awaiting finish of 4 more threads\n",
      "2018-04-24 15:49:21,095 : INFO : worker thread finished; awaiting finish of 3 more threads\n",
      "2018-04-24 15:49:21,096 : INFO : worker thread finished; awaiting finish of 2 more threads\n",
      "2018-04-24 15:49:21,102 : INFO : worker thread finished; awaiting finish of 1 more threads\n",
      "2018-04-24 15:49:21,106 : INFO : worker thread finished; awaiting finish of 0 more threads\n",
      "2018-04-24 15:49:21,107 : INFO : EPOCH - 12 : training on 7654552 raw words (1603737 effective words) took 1.9s, 856288 effective words/s\n",
      "2018-04-24 15:49:22,114 : INFO : EPOCH 13 - PROGRESS: at 50.24% examples, 804528 words/s, in_qsize 16, out_qsize 1\n",
      "2018-04-24 15:49:22,990 : INFO : worker thread finished; awaiting finish of 7 more threads\n",
      "2018-04-24 15:49:22,996 : INFO : worker thread finished; awaiting finish of 6 more threads\n",
      "2018-04-24 15:49:22,997 : INFO : worker thread finished; awaiting finish of 5 more threads\n",
      "2018-04-24 15:49:22,999 : INFO : worker thread finished; awaiting finish of 4 more threads\n",
      "2018-04-24 15:49:23,002 : INFO : worker thread finished; awaiting finish of 3 more threads\n",
      "2018-04-24 15:49:23,005 : INFO : worker thread finished; awaiting finish of 2 more threads\n",
      "2018-04-24 15:49:23,006 : INFO : worker thread finished; awaiting finish of 1 more threads\n",
      "2018-04-24 15:49:23,009 : INFO : worker thread finished; awaiting finish of 0 more threads\n",
      "2018-04-24 15:49:23,009 : INFO : EPOCH - 13 : training on 7654552 raw words (1601071 effective words) took 1.9s, 844464 effective words/s\n",
      "2018-04-24 15:49:24,021 : INFO : EPOCH 14 - PROGRESS: at 54.63% examples, 871579 words/s, in_qsize 14, out_qsize 1\n",
      "2018-04-24 15:49:24,798 : INFO : worker thread finished; awaiting finish of 7 more threads\n",
      "2018-04-24 15:49:24,803 : INFO : worker thread finished; awaiting finish of 6 more threads\n",
      "2018-04-24 15:49:24,804 : INFO : worker thread finished; awaiting finish of 5 more threads\n",
      "2018-04-24 15:49:24,808 : INFO : worker thread finished; awaiting finish of 4 more threads\n",
      "2018-04-24 15:49:24,812 : INFO : worker thread finished; awaiting finish of 3 more threads\n",
      "2018-04-24 15:49:24,813 : INFO : worker thread finished; awaiting finish of 2 more threads\n",
      "2018-04-24 15:49:24,813 : INFO : worker thread finished; awaiting finish of 1 more threads\n",
      "2018-04-24 15:49:24,816 : INFO : worker thread finished; awaiting finish of 0 more threads\n"
     ]
    },
    {
     "name": "stderr",
     "output_type": "stream",
     "text": [
      "2018-04-24 15:49:24,817 : INFO : EPOCH - 14 : training on 7654552 raw words (1601301 effective words) took 1.8s, 889239 effective words/s\n",
      "2018-04-24 15:49:25,832 : INFO : EPOCH 15 - PROGRESS: at 56.32% examples, 897959 words/s, in_qsize 13, out_qsize 2\n",
      "2018-04-24 15:49:26,590 : INFO : worker thread finished; awaiting finish of 7 more threads\n",
      "2018-04-24 15:49:26,592 : INFO : worker thread finished; awaiting finish of 6 more threads\n",
      "2018-04-24 15:49:26,597 : INFO : worker thread finished; awaiting finish of 5 more threads\n",
      "2018-04-24 15:49:26,599 : INFO : worker thread finished; awaiting finish of 4 more threads\n",
      "2018-04-24 15:49:26,601 : INFO : worker thread finished; awaiting finish of 3 more threads\n",
      "2018-04-24 15:49:26,604 : INFO : worker thread finished; awaiting finish of 2 more threads\n",
      "2018-04-24 15:49:26,606 : INFO : worker thread finished; awaiting finish of 1 more threads\n",
      "2018-04-24 15:49:26,607 : INFO : worker thread finished; awaiting finish of 0 more threads\n",
      "2018-04-24 15:49:26,607 : INFO : EPOCH - 15 : training on 7654552 raw words (1602018 effective words) took 1.8s, 898738 effective words/s\n",
      "2018-04-24 15:49:27,618 : INFO : EPOCH 16 - PROGRESS: at 54.50% examples, 874568 words/s, in_qsize 14, out_qsize 1\n",
      "2018-04-24 15:49:28,404 : INFO : worker thread finished; awaiting finish of 7 more threads\n",
      "2018-04-24 15:49:28,405 : INFO : worker thread finished; awaiting finish of 6 more threads\n",
      "2018-04-24 15:49:28,406 : INFO : worker thread finished; awaiting finish of 5 more threads\n",
      "2018-04-24 15:49:28,409 : INFO : worker thread finished; awaiting finish of 4 more threads\n",
      "2018-04-24 15:49:28,414 : INFO : worker thread finished; awaiting finish of 3 more threads\n",
      "2018-04-24 15:49:28,415 : INFO : worker thread finished; awaiting finish of 2 more threads\n",
      "2018-04-24 15:49:28,420 : INFO : worker thread finished; awaiting finish of 1 more threads\n",
      "2018-04-24 15:49:28,423 : INFO : worker thread finished; awaiting finish of 0 more threads\n",
      "2018-04-24 15:49:28,423 : INFO : EPOCH - 16 : training on 7654552 raw words (1603615 effective words) took 1.8s, 887692 effective words/s\n",
      "2018-04-24 15:49:29,431 : INFO : EPOCH 17 - PROGRESS: at 54.24% examples, 870822 words/s, in_qsize 16, out_qsize 0\n",
      "2018-04-24 15:49:30,230 : INFO : worker thread finished; awaiting finish of 7 more threads\n",
      "2018-04-24 15:49:30,232 : INFO : worker thread finished; awaiting finish of 6 more threads\n",
      "2018-04-24 15:49:30,233 : INFO : worker thread finished; awaiting finish of 5 more threads\n",
      "2018-04-24 15:49:30,235 : INFO : worker thread finished; awaiting finish of 4 more threads\n",
      "2018-04-24 15:49:30,238 : INFO : worker thread finished; awaiting finish of 3 more threads\n",
      "2018-04-24 15:49:30,239 : INFO : worker thread finished; awaiting finish of 2 more threads\n",
      "2018-04-24 15:49:30,243 : INFO : worker thread finished; awaiting finish of 1 more threads\n",
      "2018-04-24 15:49:30,244 : INFO : worker thread finished; awaiting finish of 0 more threads\n",
      "2018-04-24 15:49:30,245 : INFO : EPOCH - 17 : training on 7654552 raw words (1602499 effective words) took 1.8s, 883218 effective words/s\n",
      "2018-04-24 15:49:31,255 : INFO : EPOCH 18 - PROGRESS: at 56.32% examples, 902984 words/s, in_qsize 16, out_qsize 1\n",
      "2018-04-24 15:49:32,040 : INFO : worker thread finished; awaiting finish of 7 more threads\n",
      "2018-04-24 15:49:32,046 : INFO : worker thread finished; awaiting finish of 6 more threads\n",
      "2018-04-24 15:49:32,049 : INFO : worker thread finished; awaiting finish of 5 more threads\n",
      "2018-04-24 15:49:32,050 : INFO : worker thread finished; awaiting finish of 4 more threads\n",
      "2018-04-24 15:49:32,051 : INFO : worker thread finished; awaiting finish of 3 more threads\n",
      "2018-04-24 15:49:32,054 : INFO : worker thread finished; awaiting finish of 2 more threads\n",
      "2018-04-24 15:49:32,060 : INFO : worker thread finished; awaiting finish of 1 more threads\n",
      "2018-04-24 15:49:32,063 : INFO : worker thread finished; awaiting finish of 0 more threads\n",
      "2018-04-24 15:49:32,064 : INFO : EPOCH - 18 : training on 7654552 raw words (1602240 effective words) took 1.8s, 885015 effective words/s\n",
      "2018-04-24 15:49:33,082 : INFO : EPOCH 19 - PROGRESS: at 52.94% examples, 845779 words/s, in_qsize 15, out_qsize 0\n",
      "2018-04-24 15:49:33,914 : INFO : worker thread finished; awaiting finish of 7 more threads\n",
      "2018-04-24 15:49:33,923 : INFO : worker thread finished; awaiting finish of 6 more threads\n",
      "2018-04-24 15:49:33,924 : INFO : worker thread finished; awaiting finish of 5 more threads\n",
      "2018-04-24 15:49:33,925 : INFO : worker thread finished; awaiting finish of 4 more threads\n",
      "2018-04-24 15:49:33,928 : INFO : worker thread finished; awaiting finish of 3 more threads\n",
      "2018-04-24 15:49:33,932 : INFO : worker thread finished; awaiting finish of 2 more threads\n",
      "2018-04-24 15:49:33,933 : INFO : worker thread finished; awaiting finish of 1 more threads\n",
      "2018-04-24 15:49:33,934 : INFO : worker thread finished; awaiting finish of 0 more threads\n",
      "2018-04-24 15:49:33,934 : INFO : EPOCH - 19 : training on 7654552 raw words (1603032 effective words) took 1.9s, 863246 effective words/s\n",
      "2018-04-24 15:49:34,948 : INFO : EPOCH 20 - PROGRESS: at 54.25% examples, 865794 words/s, in_qsize 16, out_qsize 0\n",
      "2018-04-24 15:49:35,776 : INFO : worker thread finished; awaiting finish of 7 more threads\n",
      "2018-04-24 15:49:35,777 : INFO : worker thread finished; awaiting finish of 6 more threads\n",
      "2018-04-24 15:49:35,778 : INFO : worker thread finished; awaiting finish of 5 more threads\n",
      "2018-04-24 15:49:35,781 : INFO : worker thread finished; awaiting finish of 4 more threads\n",
      "2018-04-24 15:49:35,782 : INFO : worker thread finished; awaiting finish of 3 more threads\n",
      "2018-04-24 15:49:35,789 : INFO : worker thread finished; awaiting finish of 2 more threads\n",
      "2018-04-24 15:49:35,790 : INFO : worker thread finished; awaiting finish of 1 more threads\n",
      "2018-04-24 15:49:35,793 : INFO : worker thread finished; awaiting finish of 0 more threads\n",
      "2018-04-24 15:49:35,793 : INFO : EPOCH - 20 : training on 7654552 raw words (1602735 effective words) took 1.9s, 866250 effective words/s\n",
      "2018-04-24 15:49:36,803 : INFO : EPOCH 21 - PROGRESS: at 55.67% examples, 893084 words/s, in_qsize 15, out_qsize 0\n",
      "2018-04-24 15:49:37,614 : INFO : worker thread finished; awaiting finish of 7 more threads\n",
      "2018-04-24 15:49:37,616 : INFO : worker thread finished; awaiting finish of 6 more threads\n",
      "2018-04-24 15:49:37,617 : INFO : worker thread finished; awaiting finish of 5 more threads\n",
      "2018-04-24 15:49:37,618 : INFO : worker thread finished; awaiting finish of 4 more threads\n",
      "2018-04-24 15:49:37,623 : INFO : worker thread finished; awaiting finish of 3 more threads\n",
      "2018-04-24 15:49:37,624 : INFO : worker thread finished; awaiting finish of 2 more threads\n",
      "2018-04-24 15:49:37,624 : INFO : worker thread finished; awaiting finish of 1 more threads\n",
      "2018-04-24 15:49:37,627 : INFO : worker thread finished; awaiting finish of 0 more threads\n",
      "2018-04-24 15:49:37,628 : INFO : EPOCH - 21 : training on 7654552 raw words (1603249 effective words) took 1.8s, 878170 effective words/s\n",
      "2018-04-24 15:49:38,637 : INFO : EPOCH 22 - PROGRESS: at 45.84% examples, 733144 words/s, in_qsize 14, out_qsize 1\n",
      "2018-04-24 15:49:39,639 : INFO : EPOCH 22 - PROGRESS: at 82.63% examples, 661168 words/s, in_qsize 15, out_qsize 0\n",
      "2018-04-24 15:49:40,058 : INFO : worker thread finished; awaiting finish of 7 more threads\n",
      "2018-04-24 15:49:40,061 : INFO : worker thread finished; awaiting finish of 6 more threads\n",
      "2018-04-24 15:49:40,066 : INFO : worker thread finished; awaiting finish of 5 more threads\n",
      "2018-04-24 15:49:40,067 : INFO : worker thread finished; awaiting finish of 4 more threads\n",
      "2018-04-24 15:49:40,073 : INFO : worker thread finished; awaiting finish of 3 more threads\n",
      "2018-04-24 15:49:40,076 : INFO : worker thread finished; awaiting finish of 2 more threads\n",
      "2018-04-24 15:49:40,077 : INFO : worker thread finished; awaiting finish of 1 more threads\n",
      "2018-04-24 15:49:40,078 : INFO : worker thread finished; awaiting finish of 0 more threads\n",
      "2018-04-24 15:49:40,078 : INFO : EPOCH - 22 : training on 7654552 raw words (1601442 effective words) took 2.4s, 655481 effective words/s\n",
      "2018-04-24 15:49:41,090 : INFO : EPOCH 23 - PROGRESS: at 53.21% examples, 852290 words/s, in_qsize 16, out_qsize 0\n"
     ]
    },
    {
     "name": "stderr",
     "output_type": "stream",
     "text": [
      "2018-04-24 15:49:41,920 : INFO : worker thread finished; awaiting finish of 7 more threads\n",
      "2018-04-24 15:49:41,921 : INFO : worker thread finished; awaiting finish of 6 more threads\n",
      "2018-04-24 15:49:41,926 : INFO : worker thread finished; awaiting finish of 5 more threads\n",
      "2018-04-24 15:49:41,931 : INFO : worker thread finished; awaiting finish of 4 more threads\n",
      "2018-04-24 15:49:41,933 : INFO : worker thread finished; awaiting finish of 3 more threads\n",
      "2018-04-24 15:49:41,936 : INFO : worker thread finished; awaiting finish of 2 more threads\n",
      "2018-04-24 15:49:41,938 : INFO : worker thread finished; awaiting finish of 1 more threads\n",
      "2018-04-24 15:49:41,938 : INFO : worker thread finished; awaiting finish of 0 more threads\n",
      "2018-04-24 15:49:41,939 : INFO : EPOCH - 23 : training on 7654552 raw words (1604160 effective words) took 1.9s, 866019 effective words/s\n",
      "2018-04-24 15:49:42,953 : INFO : EPOCH 24 - PROGRESS: at 55.67% examples, 888460 words/s, in_qsize 13, out_qsize 2\n",
      "2018-04-24 15:49:43,752 : INFO : worker thread finished; awaiting finish of 7 more threads\n",
      "2018-04-24 15:49:43,757 : INFO : worker thread finished; awaiting finish of 6 more threads\n",
      "2018-04-24 15:49:43,760 : INFO : worker thread finished; awaiting finish of 5 more threads\n",
      "2018-04-24 15:49:43,763 : INFO : worker thread finished; awaiting finish of 4 more threads\n",
      "2018-04-24 15:49:43,764 : INFO : worker thread finished; awaiting finish of 3 more threads\n",
      "2018-04-24 15:49:43,767 : INFO : worker thread finished; awaiting finish of 2 more threads\n",
      "2018-04-24 15:49:43,768 : INFO : worker thread finished; awaiting finish of 1 more threads\n",
      "2018-04-24 15:49:43,770 : INFO : worker thread finished; awaiting finish of 0 more threads\n",
      "2018-04-24 15:49:43,771 : INFO : EPOCH - 24 : training on 7654552 raw words (1602226 effective words) took 1.8s, 878948 effective words/s\n",
      "2018-04-24 15:49:44,780 : INFO : EPOCH 25 - PROGRESS: at 55.80% examples, 896348 words/s, in_qsize 15, out_qsize 0\n",
      "2018-04-24 15:49:45,638 : INFO : worker thread finished; awaiting finish of 7 more threads\n",
      "2018-04-24 15:49:45,646 : INFO : worker thread finished; awaiting finish of 6 more threads\n",
      "2018-04-24 15:49:45,648 : INFO : worker thread finished; awaiting finish of 5 more threads\n",
      "2018-04-24 15:49:45,650 : INFO : worker thread finished; awaiting finish of 4 more threads\n",
      "2018-04-24 15:49:45,653 : INFO : worker thread finished; awaiting finish of 3 more threads\n",
      "2018-04-24 15:49:45,657 : INFO : worker thread finished; awaiting finish of 2 more threads\n",
      "2018-04-24 15:49:45,661 : INFO : worker thread finished; awaiting finish of 1 more threads\n",
      "2018-04-24 15:49:45,666 : INFO : worker thread finished; awaiting finish of 0 more threads\n",
      "2018-04-24 15:49:45,667 : INFO : EPOCH - 25 : training on 7654552 raw words (1602548 effective words) took 1.9s, 849260 effective words/s\n",
      "2018-04-24 15:49:46,680 : INFO : EPOCH 26 - PROGRESS: at 54.38% examples, 873251 words/s, in_qsize 15, out_qsize 0\n",
      "2018-04-24 15:49:47,496 : INFO : worker thread finished; awaiting finish of 7 more threads\n",
      "2018-04-24 15:49:47,498 : INFO : worker thread finished; awaiting finish of 6 more threads\n",
      "2018-04-24 15:49:47,501 : INFO : worker thread finished; awaiting finish of 5 more threads\n",
      "2018-04-24 15:49:47,504 : INFO : worker thread finished; awaiting finish of 4 more threads\n",
      "2018-04-24 15:49:47,505 : INFO : worker thread finished; awaiting finish of 3 more threads\n",
      "2018-04-24 15:49:47,506 : INFO : worker thread finished; awaiting finish of 2 more threads\n",
      "2018-04-24 15:49:47,510 : INFO : worker thread finished; awaiting finish of 1 more threads\n",
      "2018-04-24 15:49:47,511 : INFO : worker thread finished; awaiting finish of 0 more threads\n",
      "2018-04-24 15:49:47,511 : INFO : EPOCH - 26 : training on 7654552 raw words (1602622 effective words) took 1.8s, 874883 effective words/s\n",
      "2018-04-24 15:49:48,521 : INFO : EPOCH 27 - PROGRESS: at 53.08% examples, 850349 words/s, in_qsize 15, out_qsize 0\n",
      "2018-04-24 15:49:49,385 : INFO : worker thread finished; awaiting finish of 7 more threads\n",
      "2018-04-24 15:49:49,386 : INFO : worker thread finished; awaiting finish of 6 more threads\n",
      "2018-04-24 15:49:49,389 : INFO : worker thread finished; awaiting finish of 5 more threads\n",
      "2018-04-24 15:49:49,393 : INFO : worker thread finished; awaiting finish of 4 more threads\n",
      "2018-04-24 15:49:49,394 : INFO : worker thread finished; awaiting finish of 3 more threads\n",
      "2018-04-24 15:49:49,397 : INFO : worker thread finished; awaiting finish of 2 more threads\n",
      "2018-04-24 15:49:49,398 : INFO : worker thread finished; awaiting finish of 1 more threads\n",
      "2018-04-24 15:49:49,400 : INFO : worker thread finished; awaiting finish of 0 more threads\n",
      "2018-04-24 15:49:49,401 : INFO : EPOCH - 27 : training on 7654552 raw words (1602137 effective words) took 1.9s, 851685 effective words/s\n",
      "2018-04-24 15:49:50,414 : INFO : EPOCH 28 - PROGRESS: at 51.02% examples, 814608 words/s, in_qsize 14, out_qsize 1\n",
      "2018-04-24 15:49:51,337 : INFO : worker thread finished; awaiting finish of 7 more threads\n",
      "2018-04-24 15:49:51,338 : INFO : worker thread finished; awaiting finish of 6 more threads\n",
      "2018-04-24 15:49:51,339 : INFO : worker thread finished; awaiting finish of 5 more threads\n",
      "2018-04-24 15:49:51,346 : INFO : worker thread finished; awaiting finish of 4 more threads\n",
      "2018-04-24 15:49:51,348 : INFO : worker thread finished; awaiting finish of 3 more threads\n",
      "2018-04-24 15:49:51,351 : INFO : worker thread finished; awaiting finish of 2 more threads\n",
      "2018-04-24 15:49:51,352 : INFO : worker thread finished; awaiting finish of 1 more threads\n",
      "2018-04-24 15:49:51,355 : INFO : worker thread finished; awaiting finish of 0 more threads\n",
      "2018-04-24 15:49:51,357 : INFO : EPOCH - 28 : training on 7654552 raw words (1601665 effective words) took 1.9s, 822944 effective words/s\n",
      "2018-04-24 15:49:52,373 : INFO : EPOCH 29 - PROGRESS: at 38.16% examples, 610124 words/s, in_qsize 16, out_qsize 0\n",
      "2018-04-24 15:49:53,374 : INFO : EPOCH 29 - PROGRESS: at 86.82% examples, 694269 words/s, in_qsize 15, out_qsize 0\n",
      "2018-04-24 15:49:53,602 : INFO : worker thread finished; awaiting finish of 7 more threads\n",
      "2018-04-24 15:49:53,605 : INFO : worker thread finished; awaiting finish of 6 more threads\n",
      "2018-04-24 15:49:53,608 : INFO : worker thread finished; awaiting finish of 5 more threads\n",
      "2018-04-24 15:49:53,609 : INFO : worker thread finished; awaiting finish of 4 more threads\n",
      "2018-04-24 15:49:53,610 : INFO : worker thread finished; awaiting finish of 3 more threads\n",
      "2018-04-24 15:49:53,612 : INFO : worker thread finished; awaiting finish of 2 more threads\n",
      "2018-04-24 15:49:53,613 : INFO : worker thread finished; awaiting finish of 1 more threads\n",
      "2018-04-24 15:49:53,617 : INFO : worker thread finished; awaiting finish of 0 more threads\n",
      "2018-04-24 15:49:53,618 : INFO : EPOCH - 29 : training on 7654552 raw words (1601525 effective words) took 2.2s, 712434 effective words/s\n",
      "2018-04-24 15:49:54,626 : INFO : EPOCH 30 - PROGRESS: at 52.55% examples, 844020 words/s, in_qsize 14, out_qsize 1\n",
      "2018-04-24 15:49:55,486 : INFO : worker thread finished; awaiting finish of 7 more threads\n",
      "2018-04-24 15:49:55,488 : INFO : worker thread finished; awaiting finish of 6 more threads\n",
      "2018-04-24 15:49:55,491 : INFO : worker thread finished; awaiting finish of 5 more threads\n",
      "2018-04-24 15:49:55,494 : INFO : worker thread finished; awaiting finish of 4 more threads\n",
      "2018-04-24 15:49:55,499 : INFO : worker thread finished; awaiting finish of 3 more threads\n",
      "2018-04-24 15:49:55,500 : INFO : worker thread finished; awaiting finish of 2 more threads\n",
      "2018-04-24 15:49:55,503 : INFO : worker thread finished; awaiting finish of 1 more threads\n",
      "2018-04-24 15:49:55,506 : INFO : worker thread finished; awaiting finish of 0 more threads\n",
      "2018-04-24 15:49:55,506 : INFO : EPOCH - 30 : training on 7654552 raw words (1603868 effective words) took 1.9s, 852508 effective words/s\n",
      "2018-04-24 15:49:56,518 : INFO : EPOCH 31 - PROGRESS: at 55.94% examples, 894754 words/s, in_qsize 15, out_qsize 0\n",
      "2018-04-24 15:49:57,337 : INFO : worker thread finished; awaiting finish of 7 more threads\n",
      "2018-04-24 15:49:57,338 : INFO : worker thread finished; awaiting finish of 6 more threads\n",
      "2018-04-24 15:49:57,344 : INFO : worker thread finished; awaiting finish of 5 more threads\n"
     ]
    },
    {
     "name": "stderr",
     "output_type": "stream",
     "text": [
      "2018-04-24 15:49:57,346 : INFO : worker thread finished; awaiting finish of 4 more threads\n",
      "2018-04-24 15:49:57,351 : INFO : worker thread finished; awaiting finish of 3 more threads\n",
      "2018-04-24 15:49:57,354 : INFO : worker thread finished; awaiting finish of 2 more threads\n",
      "2018-04-24 15:49:57,357 : INFO : worker thread finished; awaiting finish of 1 more threads\n",
      "2018-04-24 15:49:57,358 : INFO : worker thread finished; awaiting finish of 0 more threads\n",
      "2018-04-24 15:49:57,359 : INFO : EPOCH - 31 : training on 7654552 raw words (1602873 effective words) took 1.8s, 869239 effective words/s\n",
      "2018-04-24 15:49:58,375 : INFO : EPOCH 32 - PROGRESS: at 55.02% examples, 878508 words/s, in_qsize 15, out_qsize 0\n",
      "2018-04-24 15:49:59,158 : INFO : worker thread finished; awaiting finish of 7 more threads\n",
      "2018-04-24 15:49:59,162 : INFO : worker thread finished; awaiting finish of 6 more threads\n",
      "2018-04-24 15:49:59,163 : INFO : worker thread finished; awaiting finish of 5 more threads\n",
      "2018-04-24 15:49:59,168 : INFO : worker thread finished; awaiting finish of 4 more threads\n",
      "2018-04-24 15:49:59,169 : INFO : worker thread finished; awaiting finish of 3 more threads\n",
      "2018-04-24 15:49:59,170 : INFO : worker thread finished; awaiting finish of 2 more threads\n",
      "2018-04-24 15:49:59,174 : INFO : worker thread finished; awaiting finish of 1 more threads\n",
      "2018-04-24 15:49:59,176 : INFO : worker thread finished; awaiting finish of 0 more threads\n",
      "2018-04-24 15:49:59,177 : INFO : EPOCH - 32 : training on 7654552 raw words (1602091 effective words) took 1.8s, 886562 effective words/s\n",
      "2018-04-24 15:50:00,188 : INFO : EPOCH 33 - PROGRESS: at 55.02% examples, 879533 words/s, in_qsize 15, out_qsize 0\n",
      "2018-04-24 15:50:01,004 : INFO : worker thread finished; awaiting finish of 7 more threads\n",
      "2018-04-24 15:50:01,006 : INFO : worker thread finished; awaiting finish of 6 more threads\n",
      "2018-04-24 15:50:01,011 : INFO : worker thread finished; awaiting finish of 5 more threads\n",
      "2018-04-24 15:50:01,014 : INFO : worker thread finished; awaiting finish of 4 more threads\n",
      "2018-04-24 15:50:01,017 : INFO : worker thread finished; awaiting finish of 3 more threads\n",
      "2018-04-24 15:50:01,024 : INFO : worker thread finished; awaiting finish of 2 more threads\n",
      "2018-04-24 15:50:01,027 : INFO : worker thread finished; awaiting finish of 1 more threads\n",
      "2018-04-24 15:50:01,033 : INFO : worker thread finished; awaiting finish of 0 more threads\n",
      "2018-04-24 15:50:01,033 : INFO : EPOCH - 33 : training on 7654552 raw words (1602112 effective words) took 1.8s, 866306 effective words/s\n",
      "2018-04-24 15:50:02,051 : INFO : EPOCH 34 - PROGRESS: at 51.28% examples, 819078 words/s, in_qsize 15, out_qsize 0\n",
      "2018-04-24 15:50:02,897 : INFO : worker thread finished; awaiting finish of 7 more threads\n",
      "2018-04-24 15:50:02,900 : INFO : worker thread finished; awaiting finish of 6 more threads\n",
      "2018-04-24 15:50:02,904 : INFO : worker thread finished; awaiting finish of 5 more threads\n",
      "2018-04-24 15:50:02,905 : INFO : worker thread finished; awaiting finish of 4 more threads\n",
      "2018-04-24 15:50:02,906 : INFO : worker thread finished; awaiting finish of 3 more threads\n",
      "2018-04-24 15:50:02,911 : INFO : worker thread finished; awaiting finish of 2 more threads\n",
      "2018-04-24 15:50:02,912 : INFO : worker thread finished; awaiting finish of 1 more threads\n",
      "2018-04-24 15:50:02,914 : INFO : worker thread finished; awaiting finish of 0 more threads\n",
      "2018-04-24 15:50:02,915 : INFO : EPOCH - 34 : training on 7654552 raw words (1601905 effective words) took 1.9s, 857958 effective words/s\n",
      "2018-04-24 15:50:03,923 : INFO : EPOCH 35 - PROGRESS: at 55.15% examples, 884487 words/s, in_qsize 15, out_qsize 0\n",
      "2018-04-24 15:50:04,690 : INFO : worker thread finished; awaiting finish of 7 more threads\n",
      "2018-04-24 15:50:04,694 : INFO : worker thread finished; awaiting finish of 6 more threads\n",
      "2018-04-24 15:50:04,702 : INFO : worker thread finished; awaiting finish of 5 more threads\n",
      "2018-04-24 15:50:04,704 : INFO : worker thread finished; awaiting finish of 4 more threads\n",
      "2018-04-24 15:50:04,705 : INFO : worker thread finished; awaiting finish of 3 more threads\n",
      "2018-04-24 15:50:04,706 : INFO : worker thread finished; awaiting finish of 2 more threads\n",
      "2018-04-24 15:50:04,706 : INFO : worker thread finished; awaiting finish of 1 more threads\n",
      "2018-04-24 15:50:04,707 : INFO : worker thread finished; awaiting finish of 0 more threads\n",
      "2018-04-24 15:50:04,707 : INFO : EPOCH - 35 : training on 7654552 raw words (1602372 effective words) took 1.8s, 897325 effective words/s\n",
      "2018-04-24 15:50:05,715 : INFO : EPOCH 36 - PROGRESS: at 52.57% examples, 841361 words/s, in_qsize 15, out_qsize 0\n",
      "2018-04-24 15:50:06,569 : INFO : worker thread finished; awaiting finish of 7 more threads\n",
      "2018-04-24 15:50:06,571 : INFO : worker thread finished; awaiting finish of 6 more threads\n",
      "2018-04-24 15:50:06,572 : INFO : worker thread finished; awaiting finish of 5 more threads\n",
      "2018-04-24 15:50:06,576 : INFO : worker thread finished; awaiting finish of 4 more threads\n",
      "2018-04-24 15:50:06,577 : INFO : worker thread finished; awaiting finish of 3 more threads\n",
      "2018-04-24 15:50:06,582 : INFO : worker thread finished; awaiting finish of 2 more threads\n",
      "2018-04-24 15:50:06,583 : INFO : worker thread finished; awaiting finish of 1 more threads\n",
      "2018-04-24 15:50:06,585 : INFO : worker thread finished; awaiting finish of 0 more threads\n",
      "2018-04-24 15:50:06,585 : INFO : EPOCH - 36 : training on 7654552 raw words (1600815 effective words) took 1.9s, 855353 effective words/s\n",
      "2018-04-24 15:50:07,594 : INFO : EPOCH 37 - PROGRESS: at 54.38% examples, 870744 words/s, in_qsize 15, out_qsize 0\n",
      "2018-04-24 15:50:08,392 : INFO : worker thread finished; awaiting finish of 7 more threads\n",
      "2018-04-24 15:50:08,394 : INFO : worker thread finished; awaiting finish of 6 more threads\n",
      "2018-04-24 15:50:08,395 : INFO : worker thread finished; awaiting finish of 5 more threads\n",
      "2018-04-24 15:50:08,396 : INFO : worker thread finished; awaiting finish of 4 more threads\n",
      "2018-04-24 15:50:08,400 : INFO : worker thread finished; awaiting finish of 3 more threads\n",
      "2018-04-24 15:50:08,403 : INFO : worker thread finished; awaiting finish of 2 more threads\n",
      "2018-04-24 15:50:08,404 : INFO : worker thread finished; awaiting finish of 1 more threads\n",
      "2018-04-24 15:50:08,407 : INFO : worker thread finished; awaiting finish of 0 more threads\n",
      "2018-04-24 15:50:08,407 : INFO : EPOCH - 37 : training on 7654552 raw words (1600443 effective words) took 1.8s, 881817 effective words/s\n",
      "2018-04-24 15:50:09,418 : INFO : EPOCH 38 - PROGRESS: at 55.43% examples, 886290 words/s, in_qsize 15, out_qsize 0\n",
      "2018-04-24 15:50:10,190 : INFO : worker thread finished; awaiting finish of 7 more threads\n",
      "2018-04-24 15:50:10,199 : INFO : worker thread finished; awaiting finish of 6 more threads\n",
      "2018-04-24 15:50:10,200 : INFO : worker thread finished; awaiting finish of 5 more threads\n",
      "2018-04-24 15:50:10,201 : INFO : worker thread finished; awaiting finish of 4 more threads\n",
      "2018-04-24 15:50:10,204 : INFO : worker thread finished; awaiting finish of 3 more threads\n",
      "2018-04-24 15:50:10,207 : INFO : worker thread finished; awaiting finish of 2 more threads\n",
      "2018-04-24 15:50:10,210 : INFO : worker thread finished; awaiting finish of 1 more threads\n",
      "2018-04-24 15:50:10,211 : INFO : worker thread finished; awaiting finish of 0 more threads\n",
      "2018-04-24 15:50:10,211 : INFO : EPOCH - 38 : training on 7654552 raw words (1603428 effective words) took 1.8s, 892200 effective words/s\n",
      "2018-04-24 15:50:11,220 : INFO : EPOCH 39 - PROGRESS: at 55.93% examples, 897569 words/s, in_qsize 16, out_qsize 0\n",
      "2018-04-24 15:50:11,992 : INFO : worker thread finished; awaiting finish of 7 more threads\n",
      "2018-04-24 15:50:11,999 : INFO : worker thread finished; awaiting finish of 6 more threads\n",
      "2018-04-24 15:50:12,000 : INFO : worker thread finished; awaiting finish of 5 more threads\n",
      "2018-04-24 15:50:12,001 : INFO : worker thread finished; awaiting finish of 4 more threads\n",
      "2018-04-24 15:50:12,004 : INFO : worker thread finished; awaiting finish of 3 more threads\n",
      "2018-04-24 15:50:12,006 : INFO : worker thread finished; awaiting finish of 2 more threads\n",
      "2018-04-24 15:50:12,009 : INFO : worker thread finished; awaiting finish of 1 more threads\n"
     ]
    },
    {
     "name": "stderr",
     "output_type": "stream",
     "text": [
      "2018-04-24 15:50:12,013 : INFO : worker thread finished; awaiting finish of 0 more threads\n",
      "2018-04-24 15:50:12,013 : INFO : EPOCH - 39 : training on 7654552 raw words (1602588 effective words) took 1.8s, 893114 effective words/s\n",
      "2018-04-24 15:50:13,022 : INFO : EPOCH 40 - PROGRESS: at 53.60% examples, 856836 words/s, in_qsize 15, out_qsize 0\n",
      "2018-04-24 15:50:13,913 : INFO : worker thread finished; awaiting finish of 7 more threads\n",
      "2018-04-24 15:50:13,917 : INFO : worker thread finished; awaiting finish of 6 more threads\n",
      "2018-04-24 15:50:13,918 : INFO : worker thread finished; awaiting finish of 5 more threads\n",
      "2018-04-24 15:50:13,922 : INFO : worker thread finished; awaiting finish of 4 more threads\n",
      "2018-04-24 15:50:13,923 : INFO : worker thread finished; awaiting finish of 3 more threads\n",
      "2018-04-24 15:50:13,928 : INFO : worker thread finished; awaiting finish of 2 more threads\n",
      "2018-04-24 15:50:13,929 : INFO : worker thread finished; awaiting finish of 1 more threads\n",
      "2018-04-24 15:50:13,931 : INFO : worker thread finished; awaiting finish of 0 more threads\n",
      "2018-04-24 15:50:13,932 : INFO : EPOCH - 40 : training on 7654552 raw words (1599626 effective words) took 1.9s, 836528 effective words/s\n",
      "2018-04-24 15:50:14,945 : INFO : EPOCH 41 - PROGRESS: at 53.33% examples, 850647 words/s, in_qsize 15, out_qsize 0\n",
      "2018-04-24 15:50:15,813 : INFO : worker thread finished; awaiting finish of 7 more threads\n",
      "2018-04-24 15:50:15,814 : INFO : worker thread finished; awaiting finish of 6 more threads\n",
      "2018-04-24 15:50:15,815 : INFO : worker thread finished; awaiting finish of 5 more threads\n",
      "2018-04-24 15:50:15,816 : INFO : worker thread finished; awaiting finish of 4 more threads\n",
      "2018-04-24 15:50:15,820 : INFO : worker thread finished; awaiting finish of 3 more threads\n",
      "2018-04-24 15:50:15,821 : INFO : worker thread finished; awaiting finish of 2 more threads\n",
      "2018-04-24 15:50:15,825 : INFO : worker thread finished; awaiting finish of 1 more threads\n",
      "2018-04-24 15:50:15,827 : INFO : worker thread finished; awaiting finish of 0 more threads\n",
      "2018-04-24 15:50:15,828 : INFO : EPOCH - 41 : training on 7654552 raw words (1601710 effective words) took 1.9s, 847982 effective words/s\n",
      "2018-04-24 15:50:16,837 : INFO : EPOCH 42 - PROGRESS: at 54.37% examples, 873749 words/s, in_qsize 15, out_qsize 0\n",
      "2018-04-24 15:50:17,645 : INFO : worker thread finished; awaiting finish of 7 more threads\n",
      "2018-04-24 15:50:17,647 : INFO : worker thread finished; awaiting finish of 6 more threads\n",
      "2018-04-24 15:50:17,653 : INFO : worker thread finished; awaiting finish of 5 more threads\n",
      "2018-04-24 15:50:17,654 : INFO : worker thread finished; awaiting finish of 4 more threads\n",
      "2018-04-24 15:50:17,656 : INFO : worker thread finished; awaiting finish of 3 more threads\n",
      "2018-04-24 15:50:17,659 : INFO : worker thread finished; awaiting finish of 2 more threads\n",
      "2018-04-24 15:50:17,661 : INFO : worker thread finished; awaiting finish of 1 more threads\n",
      "2018-04-24 15:50:17,663 : INFO : worker thread finished; awaiting finish of 0 more threads\n",
      "2018-04-24 15:50:17,663 : INFO : EPOCH - 42 : training on 7654552 raw words (1604160 effective words) took 1.8s, 877859 effective words/s\n",
      "2018-04-24 15:50:18,677 : INFO : EPOCH 43 - PROGRESS: at 56.98% examples, 911165 words/s, in_qsize 14, out_qsize 1\n",
      "2018-04-24 15:50:19,424 : INFO : worker thread finished; awaiting finish of 7 more threads\n",
      "2018-04-24 15:50:19,425 : INFO : worker thread finished; awaiting finish of 6 more threads\n",
      "2018-04-24 15:50:19,430 : INFO : worker thread finished; awaiting finish of 5 more threads\n",
      "2018-04-24 15:50:19,436 : INFO : worker thread finished; awaiting finish of 4 more threads\n",
      "2018-04-24 15:50:19,437 : INFO : worker thread finished; awaiting finish of 3 more threads\n",
      "2018-04-24 15:50:19,444 : INFO : worker thread finished; awaiting finish of 2 more threads\n",
      "2018-04-24 15:50:19,445 : INFO : worker thread finished; awaiting finish of 1 more threads\n",
      "2018-04-24 15:50:19,447 : INFO : worker thread finished; awaiting finish of 0 more threads\n",
      "2018-04-24 15:50:19,448 : INFO : EPOCH - 43 : training on 7654552 raw words (1602357 effective words) took 1.8s, 902528 effective words/s\n",
      "2018-04-24 15:50:20,457 : INFO : EPOCH 44 - PROGRESS: at 56.06% examples, 897979 words/s, in_qsize 15, out_qsize 0\n",
      "2018-04-24 15:50:21,329 : INFO : worker thread finished; awaiting finish of 7 more threads\n",
      "2018-04-24 15:50:21,333 : INFO : worker thread finished; awaiting finish of 6 more threads\n",
      "2018-04-24 15:50:21,336 : INFO : worker thread finished; awaiting finish of 5 more threads\n",
      "2018-04-24 15:50:21,340 : INFO : worker thread finished; awaiting finish of 4 more threads\n",
      "2018-04-24 15:50:21,342 : INFO : worker thread finished; awaiting finish of 3 more threads\n",
      "2018-04-24 15:50:21,348 : INFO : worker thread finished; awaiting finish of 2 more threads\n",
      "2018-04-24 15:50:21,350 : INFO : worker thread finished; awaiting finish of 1 more threads\n",
      "2018-04-24 15:50:21,353 : INFO : worker thread finished; awaiting finish of 0 more threads\n",
      "2018-04-24 15:50:21,354 : INFO : EPOCH - 44 : training on 7654552 raw words (1600565 effective words) took 1.9s, 843413 effective words/s\n",
      "2018-04-24 15:50:22,362 : INFO : EPOCH 45 - PROGRESS: at 52.94% examples, 849745 words/s, in_qsize 14, out_qsize 1\n",
      "2018-04-24 15:50:23,191 : INFO : worker thread finished; awaiting finish of 7 more threads\n",
      "2018-04-24 15:50:23,192 : INFO : worker thread finished; awaiting finish of 6 more threads\n",
      "2018-04-24 15:50:23,198 : INFO : worker thread finished; awaiting finish of 5 more threads\n",
      "2018-04-24 15:50:23,199 : INFO : worker thread finished; awaiting finish of 4 more threads\n",
      "2018-04-24 15:50:23,204 : INFO : worker thread finished; awaiting finish of 3 more threads\n",
      "2018-04-24 15:50:23,208 : INFO : worker thread finished; awaiting finish of 2 more threads\n",
      "2018-04-24 15:50:23,209 : INFO : worker thread finished; awaiting finish of 1 more threads\n",
      "2018-04-24 15:50:23,211 : INFO : worker thread finished; awaiting finish of 0 more threads\n",
      "2018-04-24 15:50:23,213 : INFO : EPOCH - 45 : training on 7654552 raw words (1601951 effective words) took 1.9s, 865759 effective words/s\n",
      "2018-04-24 15:50:24,222 : INFO : EPOCH 46 - PROGRESS: at 56.45% examples, 904231 words/s, in_qsize 15, out_qsize 0\n",
      "2018-04-24 15:50:25,037 : INFO : worker thread finished; awaiting finish of 7 more threads\n",
      "2018-04-24 15:50:25,040 : INFO : worker thread finished; awaiting finish of 6 more threads\n",
      "2018-04-24 15:50:25,045 : INFO : worker thread finished; awaiting finish of 5 more threads\n",
      "2018-04-24 15:50:25,045 : INFO : worker thread finished; awaiting finish of 4 more threads\n",
      "2018-04-24 15:50:25,046 : INFO : worker thread finished; awaiting finish of 3 more threads\n",
      "2018-04-24 15:50:25,047 : INFO : worker thread finished; awaiting finish of 2 more threads\n",
      "2018-04-24 15:50:25,048 : INFO : worker thread finished; awaiting finish of 1 more threads\n",
      "2018-04-24 15:50:25,048 : INFO : worker thread finished; awaiting finish of 0 more threads\n",
      "2018-04-24 15:50:25,049 : INFO : EPOCH - 46 : training on 7654552 raw words (1601488 effective words) took 1.8s, 875677 effective words/s\n",
      "2018-04-24 15:50:26,058 : INFO : EPOCH 47 - PROGRESS: at 54.65% examples, 874685 words/s, in_qsize 14, out_qsize 1\n",
      "2018-04-24 15:50:26,867 : INFO : worker thread finished; awaiting finish of 7 more threads\n",
      "2018-04-24 15:50:26,869 : INFO : worker thread finished; awaiting finish of 6 more threads\n",
      "2018-04-24 15:50:26,871 : INFO : worker thread finished; awaiting finish of 5 more threads\n",
      "2018-04-24 15:50:26,872 : INFO : worker thread finished; awaiting finish of 4 more threads\n",
      "2018-04-24 15:50:26,878 : INFO : worker thread finished; awaiting finish of 3 more threads\n",
      "2018-04-24 15:50:26,880 : INFO : worker thread finished; awaiting finish of 2 more threads\n",
      "2018-04-24 15:50:26,882 : INFO : worker thread finished; awaiting finish of 1 more threads\n",
      "2018-04-24 15:50:26,886 : INFO : worker thread finished; awaiting finish of 0 more threads\n",
      "2018-04-24 15:50:26,887 : INFO : EPOCH - 47 : training on 7654552 raw words (1600840 effective words) took 1.8s, 874938 effective words/s\n",
      "2018-04-24 15:50:27,896 : INFO : EPOCH 48 - PROGRESS: at 54.24% examples, 867586 words/s, in_qsize 14, out_qsize 1\n",
      "2018-04-24 15:50:28,686 : INFO : worker thread finished; awaiting finish of 7 more threads\n"
     ]
    },
    {
     "name": "stderr",
     "output_type": "stream",
     "text": [
      "2018-04-24 15:50:28,689 : INFO : worker thread finished; awaiting finish of 6 more threads\n",
      "2018-04-24 15:50:28,690 : INFO : worker thread finished; awaiting finish of 5 more threads\n",
      "2018-04-24 15:50:28,693 : INFO : worker thread finished; awaiting finish of 4 more threads\n",
      "2018-04-24 15:50:28,695 : INFO : worker thread finished; awaiting finish of 3 more threads\n",
      "2018-04-24 15:50:28,699 : INFO : worker thread finished; awaiting finish of 2 more threads\n",
      "2018-04-24 15:50:28,700 : INFO : worker thread finished; awaiting finish of 1 more threads\n",
      "2018-04-24 15:50:28,702 : INFO : worker thread finished; awaiting finish of 0 more threads\n",
      "2018-04-24 15:50:28,703 : INFO : EPOCH - 48 : training on 7654552 raw words (1602613 effective words) took 1.8s, 885415 effective words/s\n",
      "2018-04-24 15:50:29,714 : INFO : EPOCH 49 - PROGRESS: at 54.76% examples, 875971 words/s, in_qsize 16, out_qsize 0\n",
      "2018-04-24 15:50:30,503 : INFO : worker thread finished; awaiting finish of 7 more threads\n",
      "2018-04-24 15:50:30,505 : INFO : worker thread finished; awaiting finish of 6 more threads\n",
      "2018-04-24 15:50:30,506 : INFO : worker thread finished; awaiting finish of 5 more threads\n",
      "2018-04-24 15:50:30,511 : INFO : worker thread finished; awaiting finish of 4 more threads\n",
      "2018-04-24 15:50:30,512 : INFO : worker thread finished; awaiting finish of 3 more threads\n",
      "2018-04-24 15:50:30,515 : INFO : worker thread finished; awaiting finish of 2 more threads\n",
      "2018-04-24 15:50:30,517 : INFO : worker thread finished; awaiting finish of 1 more threads\n",
      "2018-04-24 15:50:30,519 : INFO : worker thread finished; awaiting finish of 0 more threads\n",
      "2018-04-24 15:50:30,520 : INFO : EPOCH - 49 : training on 7654552 raw words (1602299 effective words) took 1.8s, 885588 effective words/s\n",
      "2018-04-24 15:50:31,533 : INFO : EPOCH 50 - PROGRESS: at 54.90% examples, 874148 words/s, in_qsize 14, out_qsize 1\n",
      "2018-04-24 15:50:32,312 : INFO : worker thread finished; awaiting finish of 7 more threads\n",
      "2018-04-24 15:50:32,314 : INFO : worker thread finished; awaiting finish of 6 more threads\n",
      "2018-04-24 15:50:32,319 : INFO : worker thread finished; awaiting finish of 5 more threads\n",
      "2018-04-24 15:50:32,325 : INFO : worker thread finished; awaiting finish of 4 more threads\n",
      "2018-04-24 15:50:32,326 : INFO : worker thread finished; awaiting finish of 3 more threads\n",
      "2018-04-24 15:50:32,327 : INFO : worker thread finished; awaiting finish of 2 more threads\n",
      "2018-04-24 15:50:32,327 : INFO : worker thread finished; awaiting finish of 1 more threads\n",
      "2018-04-24 15:50:32,329 : INFO : worker thread finished; awaiting finish of 0 more threads\n",
      "2018-04-24 15:50:32,329 : INFO : EPOCH - 50 : training on 7654552 raw words (1600163 effective words) took 1.8s, 887296 effective words/s\n",
      "2018-04-24 15:50:32,330 : INFO : training on a 382727600 raw words (80110156 effective words) took 93.4s, 858087 effective words/s\n"
     ]
    },
    {
     "data": {
      "text/plain": [
       "(80110156, 382727600)"
      ]
     },
     "execution_count": 13,
     "metadata": {},
     "output_type": "execute_result"
    }
   ],
   "source": [
    "word_vecs = Word2Vec(min_count=1, size=300, workers=8, seed=42, iter=50)\n",
    "word_vecs.build_vocab(train_sentences)\n",
    "word_vecs.train(sentences=train_sentences, total_examples=word_vecs.corpus_count, epochs=word_vecs.epochs)"
   ]
  },
  {
   "cell_type": "code",
   "execution_count": 14,
   "metadata": {},
   "outputs": [],
   "source": [
    "q1_word_list = [clean_sentence(txt1) for txt1 in q1_list]\n",
    "q2_word_list = [clean_sentence(txt2) for txt2 in q2_list]"
   ]
  },
  {
   "cell_type": "code",
   "execution_count": 15,
   "metadata": {},
   "outputs": [
    {
     "name": "stderr",
     "output_type": "stream",
     "text": [
      "Building vectors for 73776 sentences:   0%|          | 0/73776 [00:00<?, ?it/s]/Users/i337036/anaconda3/envs/py35/lib/python3.5/site-packages/ipykernel/__main__.py:6: DeprecationWarning: Call to deprecated `__getitem__` (Method will be removed in 4.0.0, use self.wv.__getitem__() instead).\n",
      "Building vectors for 73776 sentences: 100%|██████████| 73776/73776 [00:00<00:00, 133969.84it/s]\n",
      "Building vectors for 73776 sentences: 100%|██████████| 73776/73776 [00:00<00:00, 132332.47it/s]\n"
     ]
    }
   ],
   "source": [
    "q2_mat = get_sentence_matrix(q1_word_list)\n",
    "q1_mat = get_sentence_matrix(q2_word_list)"
   ]
  },
  {
   "cell_type": "code",
   "execution_count": 16,
   "metadata": {},
   "outputs": [],
   "source": [
    "from sklearn.metrics.pairwise import cosine_similarity\n",
    "\n",
    "def find_similar(q1_mat, q2_mat, index, top_n=5):\n",
    "    qd_sims = cosine_similarity(q1_mat[index: index+1], q2_mat).flatten()\n",
    "    qd_indices = qd_sims.argsort()[:-top_n:-1]\n",
    "    return qd_indices"
   ]
  },
  {
   "cell_type": "code",
   "execution_count": 17,
   "metadata": {},
   "outputs": [],
   "source": [
    "from random import randint"
   ]
  },
  {
   "cell_type": "code",
   "execution_count": 18,
   "metadata": {},
   "outputs": [
    {
     "name": "stdout",
     "output_type": "stream",
     "text": [
      "Searched for: What is the best place for a visit in December in India? at [61701]\n",
      "What does Jainism say about Gays and Homosexuality? 73775\n",
      "If I have dual citizenship, when immigration scans one passport, can they see that I have another passport and any other information? 24207\n",
      "What's the meaning of the name in other countries? 24587\n",
      "What is the use of tanpura in music? 24588\n"
     ]
    }
   ],
   "source": [
    "search_idx = randint(0, len(q1_list))\n",
    "print(\"Searched for: %s at [%d]\" % (q1_list[search_idx], search_idx))\n",
    "for index in find_similar(q1_mat, q2_mat, search_idx):\n",
    "    print (\"%s %d\" % (q2_list[index], index))"
   ]
  },
  {
   "cell_type": "code",
   "execution_count": 19,
   "metadata": {},
   "outputs": [
    {
     "data": {
      "text/plain": [
       "('What is the best place for a visit in December in India?',\n",
       " 'What are the best places to visit in India in December?')"
      ]
     },
     "execution_count": 19,
     "metadata": {},
     "output_type": "execute_result"
    }
   ],
   "source": [
    "q1_list[search_idx], q2_list[search_idx]"
   ]
  },
  {
   "cell_type": "code",
   "execution_count": 20,
   "metadata": {},
   "outputs": [],
   "source": [
    "from tqdm import tqdm"
   ]
  },
  {
   "cell_type": "code",
   "execution_count": 21,
   "metadata": {},
   "outputs": [
    {
     "name": "stderr",
     "output_type": "stream",
     "text": [
      "100%|██████████| 500/500 [01:41<00:00,  4.92it/s]\n"
     ]
    }
   ],
   "source": [
    "correct_index = 0\n",
    "for search_idx in tqdm(range(500)):\n",
    "    for index in find_similar(q1_mat, q2_mat, search_idx):\n",
    "        if search_idx==index or q1_list[search_idx]==q2_list[index]:\n",
    "            correct_index += 1\n",
    "            break"
   ]
  },
  {
   "cell_type": "code",
   "execution_count": 22,
   "metadata": {},
   "outputs": [
    {
     "name": "stdout",
     "output_type": "stream",
     "text": [
      "3\n"
     ]
    }
   ],
   "source": [
    "print(correct_index)"
   ]
  },
  {
   "cell_type": "code",
   "execution_count": null,
   "metadata": {},
   "outputs": [],
   "source": []
  }
 ],
 "metadata": {
  "kernelspec": {
   "display_name": "Python [conda env:py35]",
   "language": "python",
   "name": "conda-env-py35-py"
  },
  "language_info": {
   "codemirror_mode": {
    "name": "ipython",
    "version": 3
   },
   "file_extension": ".py",
   "mimetype": "text/x-python",
   "name": "python",
   "nbconvert_exporter": "python",
   "pygments_lexer": "ipython3",
   "version": "3.5.0"
  }
 },
 "nbformat": 4,
 "nbformat_minor": 2
}
