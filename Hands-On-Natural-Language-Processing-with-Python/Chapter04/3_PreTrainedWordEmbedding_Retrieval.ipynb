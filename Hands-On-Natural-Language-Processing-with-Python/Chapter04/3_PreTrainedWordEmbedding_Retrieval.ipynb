{
 "cells": [
  {
   "cell_type": "code",
   "execution_count": 1,
   "metadata": {},
   "outputs": [],
   "source": [
    "from gensim.models import KeyedVectors\n",
    "import numpy as np"
   ]
  },
  {
   "cell_type": "code",
   "execution_count": 2,
   "metadata": {},
   "outputs": [],
   "source": [
    "ft_file = \"/Users/i337036/Documents/Data/wiki.en.vec\"\n",
    "word_vecs = KeyedVectors.load_word2vec_format(ft_file, limit=50000)"
   ]
  },
  {
   "cell_type": "code",
   "execution_count": 3,
   "metadata": {},
   "outputs": [
    {
     "data": {
      "text/plain": [
       "404290"
      ]
     },
     "execution_count": 3,
     "metadata": {},
     "output_type": "execute_result"
    }
   ],
   "source": [
    "import pandas as pd\n",
    "csv_file = \"/Users/i337036/Downloads/train.csv\"\n",
    "df = pd.read_csv(csv_file, encoding='utf-8')\n",
    "len(df)"
   ]
  },
  {
   "cell_type": "code",
   "execution_count": 4,
   "metadata": {},
   "outputs": [
    {
     "data": {
      "text/plain": [
       "array(['id', 'qid1', 'qid2', 'question1', 'question2', 'is_duplicate'],\n",
       "      dtype=object)"
      ]
     },
     "execution_count": 4,
     "metadata": {},
     "output_type": "execute_result"
    }
   ],
   "source": [
    "df.columns.values"
   ]
  },
  {
   "cell_type": "code",
   "execution_count": 5,
   "metadata": {},
   "outputs": [],
   "source": [
    "df = df[df['is_duplicate']==1]"
   ]
  },
  {
   "cell_type": "code",
   "execution_count": 6,
   "metadata": {},
   "outputs": [
    {
     "data": {
      "text/plain": [
       "73776"
      ]
     },
     "execution_count": 6,
     "metadata": {},
     "output_type": "execute_result"
    }
   ],
   "source": [
    "df = df.drop_duplicates(subset=['question1'], keep='first')\n",
    "df = df.drop_duplicates(subset=['question2'], keep='first')\n",
    "len(df)"
   ]
  },
  {
   "cell_type": "code",
   "execution_count": 7,
   "metadata": {},
   "outputs": [
    {
     "data": {
      "text/plain": [
       "73776"
      ]
     },
     "execution_count": 7,
     "metadata": {},
     "output_type": "execute_result"
    }
   ],
   "source": [
    "len((df[\"question1\"] + df[\"question2\"]).unique())"
   ]
  },
  {
   "cell_type": "code",
   "execution_count": 8,
   "metadata": {},
   "outputs": [
    {
     "name": "stdout",
     "output_type": "stream",
     "text": [
      "73776 73776\n"
     ]
    }
   ],
   "source": [
    "q1_list = df.question1.tolist()\n",
    "q2_list = df.question2.tolist()\n",
    "print(len(q1_list), len(q2_list))"
   ]
  },
  {
   "cell_type": "code",
   "execution_count": 9,
   "metadata": {},
   "outputs": [],
   "source": [
    "def clean_sentence(sentence):\n",
    "    sentence = [word for word in sentence.strip().split() if word in word_vecs.vocab.keys()]\n",
    "    \n",
    "    return sentence"
   ]
  },
  {
   "cell_type": "code",
   "execution_count": 10,
   "metadata": {},
   "outputs": [],
   "source": [
    "def get_sentence_matrix(sentences):\n",
    "    sentence_mat = np.zeros((len(sentences), 300), dtype=float)\n",
    "    for idx in tqdm(range(len(sentences)), desc=\"Building vectors for %d sentences\" % len(sentences)):\n",
    "        sentence = sentences[idx]\n",
    "        for word in sentence:\n",
    "            sentence_mat[idx, :] += word_vecs[word]\n",
    "            \n",
    "    return sentence_mat"
   ]
  },
  {
   "cell_type": "code",
   "execution_count": 11,
   "metadata": {},
   "outputs": [],
   "source": [
    "from tqdm import tqdm"
   ]
  },
  {
   "cell_type": "code",
   "execution_count": 12,
   "metadata": {},
   "outputs": [],
   "source": [
    "q1_word_list = [clean_sentence(txt1) for txt1 in q1_list]\n",
    "q2_word_list = [clean_sentence(txt2) for txt2 in q2_list]"
   ]
  },
  {
   "cell_type": "code",
   "execution_count": 13,
   "metadata": {},
   "outputs": [
    {
     "name": "stderr",
     "output_type": "stream",
     "text": [
      "Building vectors for 73776 sentences: 100%|██████████| 73776/73776 [00:03<00:00, 22654.80it/s]\n",
      "Building vectors for 73776 sentences: 100%|██████████| 73776/73776 [00:02<00:00, 25265.31it/s]\n"
     ]
    }
   ],
   "source": [
    "q2_mat = get_sentence_matrix(q1_word_list)\n",
    "q1_mat = get_sentence_matrix(q2_word_list)"
   ]
  },
  {
   "cell_type": "code",
   "execution_count": 14,
   "metadata": {},
   "outputs": [],
   "source": [
    "from sklearn.metrics.pairwise import cosine_similarity\n",
    "\n",
    "def find_similar(q1_mat, q2_mat, index, top_n=5):\n",
    "    qd_sims = cosine_similarity(q1_mat[index: index+1], q2_mat).flatten()\n",
    "    qd_indices = qd_sims.argsort()[:-top_n:-1]\n",
    "    return qd_indices"
   ]
  },
  {
   "cell_type": "code",
   "execution_count": 15,
   "metadata": {},
   "outputs": [],
   "source": [
    "from random import randint"
   ]
  },
  {
   "cell_type": "code",
   "execution_count": 16,
   "metadata": {},
   "outputs": [
    {
     "name": "stdout",
     "output_type": "stream",
     "text": [
      "Searched for: What are some obvious forms of time travel crimes? at [55652]\n",
      "What are the most over-hyped travel destinations? 26085\n",
      "What are some time travel crimes? 55652\n",
      "What's your best travel hack? 21884\n",
      "Why should I travel alone? 26826\n"
     ]
    }
   ],
   "source": [
    "search_idx = randint(0, len(q1_list))\n",
    "print(\"Searched for: %s at [%d]\" % (q1_list[search_idx], search_idx))\n",
    "for index in find_similar(q1_mat, q2_mat, search_idx):\n",
    "    print (\"%s %d\" % (q2_list[index], index))"
   ]
  },
  {
   "cell_type": "code",
   "execution_count": 17,
   "metadata": {},
   "outputs": [
    {
     "data": {
      "text/plain": [
       "('What are some obvious forms of time travel crimes?',\n",
       " 'What are some time travel crimes?')"
      ]
     },
     "execution_count": 17,
     "metadata": {},
     "output_type": "execute_result"
    }
   ],
   "source": [
    "q1_list[search_idx], q2_list[search_idx]"
   ]
  },
  {
   "cell_type": "code",
   "execution_count": 18,
   "metadata": {},
   "outputs": [],
   "source": [
    "from tqdm import tqdm"
   ]
  },
  {
   "cell_type": "code",
   "execution_count": 19,
   "metadata": {},
   "outputs": [
    {
     "name": "stderr",
     "output_type": "stream",
     "text": [
      "100%|██████████| 500/500 [01:45<00:00,  4.72it/s]\n"
     ]
    }
   ],
   "source": [
    "correct_index = 0\n",
    "for search_idx in tqdm(range(500)):\n",
    "    for index in find_similar(q1_mat, q2_mat, search_idx):\n",
    "        if search_idx==index or q1_list[search_idx]==q2_list[index]:\n",
    "            correct_index += 1\n",
    "            break"
   ]
  },
  {
   "cell_type": "code",
   "execution_count": 20,
   "metadata": {},
   "outputs": [
    {
     "name": "stdout",
     "output_type": "stream",
     "text": [
      "198\n"
     ]
    }
   ],
   "source": [
    "print(correct_index)"
   ]
  },
  {
   "cell_type": "code",
   "execution_count": null,
   "metadata": {},
   "outputs": [],
   "source": []
  }
 ],
 "metadata": {
  "kernelspec": {
   "display_name": "Python [conda env:py35]",
   "language": "python",
   "name": "conda-env-py35-py"
  },
  "language_info": {
   "codemirror_mode": {
    "name": "ipython",
    "version": 3
   },
   "file_extension": ".py",
   "mimetype": "text/x-python",
   "name": "python",
   "nbconvert_exporter": "python",
   "pygments_lexer": "ipython3",
   "version": "3.5.0"
  }
 },
 "nbformat": 4,
 "nbformat_minor": 2
}
