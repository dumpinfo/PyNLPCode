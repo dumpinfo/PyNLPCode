{
 "cells": [
  {
   "cell_type": "code",
   "execution_count": 1,
   "metadata": {},
   "outputs": [
    {
     "data": {
      "text/plain": [
       "404290"
      ]
     },
     "execution_count": 1,
     "metadata": {},
     "output_type": "execute_result"
    }
   ],
   "source": [
    "import pandas as pd\n",
    "csv_file = \"/Users/i337036/Downloads/train.csv\"\n",
    "df = pd.read_csv(csv_file, encoding='utf-8')\n",
    "len(df)"
   ]
  },
  {
   "cell_type": "code",
   "execution_count": 2,
   "metadata": {},
   "outputs": [
    {
     "data": {
      "text/plain": [
       "array(['id', 'qid1', 'qid2', 'question1', 'question2', 'is_duplicate'],\n",
       "      dtype=object)"
      ]
     },
     "execution_count": 2,
     "metadata": {},
     "output_type": "execute_result"
    }
   ],
   "source": [
    "df.columns.values"
   ]
  },
  {
   "cell_type": "code",
   "execution_count": 3,
   "metadata": {},
   "outputs": [],
   "source": [
    "df = df[df['is_duplicate']==1]"
   ]
  },
  {
   "cell_type": "code",
   "execution_count": 4,
   "metadata": {},
   "outputs": [
    {
     "data": {
      "text/plain": [
       "73776"
      ]
     },
     "execution_count": 4,
     "metadata": {},
     "output_type": "execute_result"
    }
   ],
   "source": [
    "df = df.drop_duplicates(subset=['question1'], keep='first')\n",
    "df = df.drop_duplicates(subset=['question2'], keep='first')\n",
    "len(df)"
   ]
  },
  {
   "cell_type": "code",
   "execution_count": 5,
   "metadata": {},
   "outputs": [
    {
     "name": "stdout",
     "output_type": "stream",
     "text": [
      "73776 73776\n"
     ]
    }
   ],
   "source": [
    "q1_list = df.question1.tolist()\n",
    "q2_list = df.question2.tolist()\n",
    "print(len(q1_list), len(q2_list))"
   ]
  },
  {
   "cell_type": "code",
   "execution_count": 6,
   "metadata": {},
   "outputs": [
    {
     "name": "stdout",
     "output_type": "stream",
     "text": [
      "73776\n"
     ]
    }
   ],
   "source": [
    "q1q2_list = [\"%s %s\" % (txt1, txt2) for txt1, txt2 in zip(q1_list, q2_list)]\n",
    "print(len(q1q2_list))"
   ]
  },
  {
   "cell_type": "code",
   "execution_count": 7,
   "metadata": {},
   "outputs": [],
   "source": [
    "from sklearn.feature_extraction.text import TfidfVectorizer\n",
    "from sklearn.decomposition import TruncatedSVD\n",
    "from sklearn.pipeline import Pipeline\n",
    "\n",
    "vectorizer = TfidfVectorizer(analyzer='word', min_df = 0, stop_words = 'english', use_idf=True, smooth_idf=True)\n",
    "svd_model = TruncatedSVD(n_components=500, algorithm='randomized', n_iter=10, random_state=42)\n",
    "svd_transformer = Pipeline([('tfidf', vectorizer), ('svd', svd_model)])\n",
    "svd_matrix = svd_transformer.fit_transform(q1q2_list)"
   ]
  },
  {
   "cell_type": "code",
   "execution_count": 8,
   "metadata": {},
   "outputs": [
    {
     "name": "stdout",
     "output_type": "stream",
     "text": [
      "Searched for What are the rights of a prisoner? at [100]\n",
      "What are the LGBT rights? 62811\n",
      "If I am in prison, what rights would I have? 100\n",
      "What are miranda rights and why is it called this? 73659\n",
      "What are the Miranda rights? 51554\n"
     ]
    }
   ],
   "source": [
    "from sklearn.metrics.pairwise import cosine_similarity\n",
    "\n",
    "def find_similar(index, top_n=5):\n",
    "    query_vec = svd_transformer.transform([q1_list[index]])\n",
    "    qd_sims = cosine_similarity(query_vec, svd_matrix).flatten()\n",
    "    qd_indices = qd_sims.argsort()[:-top_n:-1]\n",
    "    return qd_indices\n",
    "\n",
    "search_idx = 100\n",
    "print(\"Searched for %s at [%d]\" % (q1_list[search_idx], search_idx))\n",
    "for index in find_similar(search_idx):\n",
    "    print (\"%s %d\" % (q2_list[index], index))"
   ]
  },
  {
   "cell_type": "code",
   "execution_count": 9,
   "metadata": {},
   "outputs": [
    {
     "data": {
      "text/plain": [
       "('What are the rights of a prisoner?',\n",
       " 'If I am in prison, what rights would I have?')"
      ]
     },
     "execution_count": 9,
     "metadata": {},
     "output_type": "execute_result"
    }
   ],
   "source": [
    "q1_list[search_idx], q2_list[search_idx]"
   ]
  },
  {
   "cell_type": "code",
   "execution_count": 10,
   "metadata": {},
   "outputs": [],
   "source": [
    "from tqdm import tqdm"
   ]
  },
  {
   "cell_type": "code",
   "execution_count": 11,
   "metadata": {},
   "outputs": [
    {
     "name": "stderr",
     "output_type": "stream",
     "text": [
      "100%|██████████| 500/500 [03:14<00:00,  2.57it/s]\n"
     ]
    }
   ],
   "source": [
    "correct_index = 0\n",
    "for search_idx in tqdm(range(500)):\n",
    "    for index in find_similar(search_idx):\n",
    "        if search_idx==index or q2_list[search_idx]==q2_list[index]:\n",
    "            correct_index += 1\n",
    "            break"
   ]
  },
  {
   "cell_type": "code",
   "execution_count": 12,
   "metadata": {},
   "outputs": [
    {
     "name": "stdout",
     "output_type": "stream",
     "text": [
      "368\n"
     ]
    }
   ],
   "source": [
    "print(correct_index)"
   ]
  },
  {
   "cell_type": "code",
   "execution_count": null,
   "metadata": {},
   "outputs": [],
   "source": []
  }
 ],
 "metadata": {
  "kernelspec": {
   "display_name": "Python [conda env:py35]",
   "language": "python",
   "name": "conda-env-py35-py"
  },
  "language_info": {
   "codemirror_mode": {
    "name": "ipython",
    "version": 3
   },
   "file_extension": ".py",
   "mimetype": "text/x-python",
   "name": "python",
   "nbconvert_exporter": "python",
   "pygments_lexer": "ipython3",
   "version": "3.5.0"
  }
 },
 "nbformat": 4,
 "nbformat_minor": 2
}
