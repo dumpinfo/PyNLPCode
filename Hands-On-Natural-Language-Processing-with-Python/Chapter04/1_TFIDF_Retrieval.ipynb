{
 "cells": [
  {
   "cell_type": "code",
   "execution_count": 1,
   "metadata": {},
   "outputs": [
    {
     "data": {
      "text/plain": [
       "404290"
      ]
     },
     "execution_count": 1,
     "metadata": {},
     "output_type": "execute_result"
    }
   ],
   "source": [
    "import pandas as pd\n",
    "csv_file = \"/Users/i337036/Downloads/train.csv\"\n",
    "df = pd.read_csv(csv_file, encoding='utf-8')\n",
    "len(df)"
   ]
  },
  {
   "cell_type": "code",
   "execution_count": 2,
   "metadata": {},
   "outputs": [
    {
     "data": {
      "text/plain": [
       "array(['id', 'qid1', 'qid2', 'question1', 'question2', 'is_duplicate'],\n",
       "      dtype=object)"
      ]
     },
     "execution_count": 2,
     "metadata": {},
     "output_type": "execute_result"
    }
   ],
   "source": [
    "df.columns.values"
   ]
  },
  {
   "cell_type": "code",
   "execution_count": 3,
   "metadata": {},
   "outputs": [],
   "source": [
    "df = df[df['is_duplicate']==1]"
   ]
  },
  {
   "cell_type": "code",
   "execution_count": 4,
   "metadata": {},
   "outputs": [
    {
     "data": {
      "text/plain": [
       "73776"
      ]
     },
     "execution_count": 4,
     "metadata": {},
     "output_type": "execute_result"
    }
   ],
   "source": [
    "df = df.drop_duplicates(subset=['question1'], keep='first')\n",
    "df = df.drop_duplicates(subset=['question2'], keep='first')\n",
    "len(df)"
   ]
  },
  {
   "cell_type": "code",
   "execution_count": 5,
   "metadata": {},
   "outputs": [
    {
     "name": "stdout",
     "output_type": "stream",
     "text": [
      "73776 73776\n"
     ]
    }
   ],
   "source": [
    "q1_list = df.question1.tolist()\n",
    "q2_list = df.question2.tolist()\n",
    "print(len(q1_list), len(q2_list))"
   ]
  },
  {
   "cell_type": "code",
   "execution_count": 6,
   "metadata": {},
   "outputs": [
    {
     "name": "stdout",
     "output_type": "stream",
     "text": [
      "73776\n"
     ]
    }
   ],
   "source": [
    "q1q2_list = [\"%s %s\" % (txt1, txt2) for txt1, txt2 in zip(q1_list, q2_list)]\n",
    "print(len(q1q2_list))"
   ]
  },
  {
   "cell_type": "code",
   "execution_count": 7,
   "metadata": {},
   "outputs": [],
   "source": [
    "from sklearn.feature_extraction.text import TfidfVectorizer\n",
    "\n",
    "tf = TfidfVectorizer(analyzer='word', min_df = 0, stop_words = 'english')\n",
    "tf_mat = tf.fit(q1q2_list)"
   ]
  },
  {
   "cell_type": "code",
   "execution_count": 8,
   "metadata": {},
   "outputs": [],
   "source": [
    "q2_mat = tf.transform(q2_list)\n",
    "q1_mat = tf.transform(q1_list)"
   ]
  },
  {
   "cell_type": "code",
   "execution_count": 9,
   "metadata": {},
   "outputs": [
    {
     "name": "stdout",
     "output_type": "stream",
     "text": [
      "Searched for What are some special cares for someone with a nose that gets stuffy during the night? at [10]\n",
      "How can I keep my nose from getting stuffy at night? 10\n",
      "What should I do if my kitten has a stuffy nose? 15492\n",
      "What are some special cares when you have a dry throat and a runny nose? 3998\n",
      "How can you see if someone cares about you? 62798\n"
     ]
    }
   ],
   "source": [
    "from sklearn.metrics.pairwise import cosine_similarity\n",
    "\n",
    "def find_similar(q1_mat, q2_mat, index, top_n=5):\n",
    "    qd_sims = cosine_similarity(q1_mat[index: index+1], q2_mat).flatten()\n",
    "    qd_indices = qd_sims.argsort()[:-top_n:-1]\n",
    "    return qd_indices\n",
    "\n",
    "search_idx = 10\n",
    "print(\"Searched for %s at [%d]\" % (q1_list[search_idx], search_idx))\n",
    "for index in find_similar(q1_mat, q2_mat, search_idx):\n",
    "    print (\"%s %d\" % (q2_list[index], index))"
   ]
  },
  {
   "cell_type": "code",
   "execution_count": 10,
   "metadata": {},
   "outputs": [
    {
     "data": {
      "text/plain": [
       "('What are some special cares for someone with a nose that gets stuffy during the night?',\n",
       " 'How can I keep my nose from getting stuffy at night?')"
      ]
     },
     "execution_count": 10,
     "metadata": {},
     "output_type": "execute_result"
    }
   ],
   "source": [
    "q1_list[search_idx], q2_list[search_idx]"
   ]
  },
  {
   "cell_type": "code",
   "execution_count": 11,
   "metadata": {},
   "outputs": [],
   "source": [
    "from tqdm import tqdm"
   ]
  },
  {
   "cell_type": "code",
   "execution_count": 13,
   "metadata": {},
   "outputs": [
    {
     "name": "stderr",
     "output_type": "stream",
     "text": [
      "100%|██████████| 500/500 [00:03<00:00, 149.03it/s]\n"
     ]
    }
   ],
   "source": [
    "correct_index = 0\n",
    "for search_idx in tqdm(range(500)):\n",
    "    for index in find_similar(q1_mat, q2_mat, search_idx):\n",
    "        if search_idx==index or q1_list[search_idx]==q2_list[index]:\n",
    "            correct_index += 1\n",
    "            break"
   ]
  },
  {
   "cell_type": "code",
   "execution_count": 14,
   "metadata": {},
   "outputs": [
    {
     "name": "stdout",
     "output_type": "stream",
     "text": [
      "367\n"
     ]
    }
   ],
   "source": [
    "print(correct_index)"
   ]
  },
  {
   "cell_type": "code",
   "execution_count": null,
   "metadata": {},
   "outputs": [],
   "source": []
  }
 ],
 "metadata": {
  "kernelspec": {
   "display_name": "Python [conda env:py35]",
   "language": "python",
   "name": "conda-env-py35-py"
  },
  "language_info": {
   "codemirror_mode": {
    "name": "ipython",
    "version": 3
   },
   "file_extension": ".py",
   "mimetype": "text/x-python",
   "name": "python",
   "nbconvert_exporter": "python",
   "pygments_lexer": "ipython3",
   "version": "3.5.0"
  }
 },
 "nbformat": 4,
 "nbformat_minor": 2
}
