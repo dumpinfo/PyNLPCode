{
 "cells": [
  {
   "cell_type": "markdown",
   "metadata": {},
   "source": [
    "<h1>Statistical machine translation with NLTK</h1>"
   ]
  },
  {
   "cell_type": "code",
   "execution_count": 44,
   "metadata": {
    "collapsed": true
   },
   "outputs": [],
   "source": [
    "from nltk.translate.ibm1 import IBMModel1\n",
    "from nltk.translate.api import AlignedSent\n",
    "import dill as pickle\n",
    "import gzip\n",
    "import random\n",
    "\n",
    "def read_sents(filename):\n",
    "    sents = []\n",
    "    c=0\n",
    "    with open(filename,'r') as fi:\n",
    "        for li in fi:\n",
    "            sents.append(li.split())\n",
    "    return sents"
   ]
  },
  {
   "cell_type": "code",
   "execution_count": 71,
   "metadata": {},
   "outputs": [
    {
     "name": "stdout",
     "output_type": "stream",
     "text": [
      "Size of english sentences:  5000\n",
      "Size of french sentences:  5000\n",
      "Training smt model\n",
      "Training complete\n"
     ]
    }
   ],
   "source": [
    "max_count=5000\n",
    "eng_sents_all = read_sents('data/train_en_lines.txt')\n",
    "fr_sents_all = read_sents('data/train_fr_lines.txt')\n",
    "eng_sents = eng_sents_all[:max_count]\n",
    "fr_sents = fr_sents_all[:max_count]\n",
    "print(\"Size of english sentences: \", len(eng_sents))\n",
    "print(\"Size of french sentences: \", len(fr_sents))\n",
    "aligned_text = []\n",
    "for i in range(len(eng_sents)):\n",
    "    al_sent = AlignedSent(fr_sents[i],eng_sents[i])\n",
    "    aligned_text.append(al_sent)\n",
    "print(\"Training smt model\")\n",
    "ibm_model = IBMModel1(aligned_text,5)\n",
    "print(\"Training complete\")"
   ]
  },
  {
   "cell_type": "code",
   "execution_count": 3,
   "metadata": {},
   "outputs": [],
   "source": [
    "fi = open('/tmp/ibm_smt.pkl','wb')\n",
    "pickle.dump(ibm_model,fi)\n",
    "fi.close()"
   ]
  },
  {
   "cell_type": "code",
   "execution_count": 72,
   "metadata": {},
   "outputs": [
    {
     "name": "stdout",
     "output_type": "stream",
     "text": [
      "French sentence:  On appelle ça l'accessibilité financière.\n",
      "Translated Eng sentence:  suggests affordability. works. called called\n",
      "Original translation:  And it's called affordability.\n"
     ]
    }
   ],
   "source": [
    "#n_random = random.randint(max_count,len(fr_sents_all))\n",
    "n_random = random.randint(0,max_count)\n",
    "fr_sent = fr_sents_all[n_random]\n",
    "eng_sent_actual_tr = eng_sents_all[n_random]\n",
    "tr_sent = []\n",
    "for w in fr_sent:\n",
    "    probs = ibm_model.translation_table[w]\n",
    "    if(len(probs)==0):\n",
    "        continue\n",
    "    sorted_words = sorted([(k,v) for k, v in probs.items()],key=lambda x: x[1], reverse=True)\n",
    "    top_word = sorted_words[1][0]\n",
    "    if top_word is not None:\n",
    "        tr_sent.append(top_word)\n",
    "print(\"French sentence: \", \" \".join(fr_sent))\n",
    "print(\"Translated Eng sentence: \", \" \".join(tr_sent))\n",
    "print(\"Original translation: \", \" \".join(eng_sent_actual_tr))"
   ]
  },
  {
   "cell_type": "code",
   "execution_count": null,
   "metadata": {
    "collapsed": true
   },
   "outputs": [],
   "source": []
  }
 ],
 "metadata": {
  "kernelspec": {
   "display_name": "Python 3",
   "language": "python",
   "name": "python3"
  },
  "language_info": {
   "codemirror_mode": {
    "name": "ipython",
    "version": 3
   },
   "file_extension": ".py",
   "mimetype": "text/x-python",
   "name": "python",
   "nbconvert_exporter": "python",
   "pygments_lexer": "ipython3",
   "version": "3.6.3"
  }
 },
 "nbformat": 4,
 "nbformat_minor": 2
}
