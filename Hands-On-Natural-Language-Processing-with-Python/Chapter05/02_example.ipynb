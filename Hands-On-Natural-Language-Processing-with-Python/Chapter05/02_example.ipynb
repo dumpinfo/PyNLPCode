{
 "cells": [
  {
   "cell_type": "markdown",
   "metadata": {},
   "source": [
    "<h1> Identifying spam in popular YouTube videos comments </h1>\n",
    "<p1>TODO: Short Description of the data and the approach.</p1>\n",
    "<p2>TODO: Description of the code in all cells </p2>"
   ]
  },
  {
   "cell_type": "code",
   "execution_count": 1,
   "metadata": {},
   "outputs": [
    {
     "name": "stderr",
     "output_type": "stream",
     "text": [
      "/Users/i346047/anaconda3/lib/python3.6/importlib/_bootstrap.py:219: RuntimeWarning: compiletime version 3.5 of module 'tensorflow.python.framework.fast_tensor_util' does not match runtime version 3.6\n",
      "  return f(*args, **kwds)\n",
      "/Users/i346047/anaconda3/lib/python3.6/site-packages/h5py/__init__.py:34: FutureWarning: Conversion of the second argument of issubdtype from `float` to `np.floating` is deprecated. In future, it will be treated as `np.float64 == np.dtype(float).type`.\n",
      "  from ._conv import register_converters as _register_converters\n"
     ]
    }
   ],
   "source": [
    "import tensorflow as tf\n",
    "import pandas as pd\n",
    "import numpy as np\n",
    "from sklearn import model_selection\n",
    "from sklearn import metrics\n",
    "import zipfile\n",
    "COMMENTS_FT = 'comments_words'\n",
    "ZIP_FILE = 'data/YouTube-Spam-Collection-v1.zip'\n",
    "DIR_TO_EXTRACT = 'data/'\n",
    "EMBED_DIMENSION = 50\n",
    "\n",
    "#Extract the Data\n",
    "zip_ref = zipfile.ZipFile(ZIP_FILE, 'r')\n",
    "zip_ref.extractall(DIR_TO_EXTRACT)\n",
    "zip_ref.close()"
   ]
  },
  {
   "cell_type": "code",
   "execution_count": 2,
   "metadata": {},
   "outputs": [
    {
     "name": "stdout",
     "output_type": "stream",
     "text": [
      "(1956, 5)\n"
     ]
    },
    {
     "data": {
      "text/html": [
       "<div>\n",
       "<style>\n",
       "    .dataframe thead tr:only-child th {\n",
       "        text-align: right;\n",
       "    }\n",
       "\n",
       "    .dataframe thead th {\n",
       "        text-align: left;\n",
       "    }\n",
       "\n",
       "    .dataframe tbody tr th {\n",
       "        vertical-align: top;\n",
       "    }\n",
       "</style>\n",
       "<table border=\"1\" class=\"dataframe\">\n",
       "  <thead>\n",
       "    <tr style=\"text-align: right;\">\n",
       "      <th></th>\n",
       "      <th>COMMENT_ID</th>\n",
       "      <th>AUTHOR</th>\n",
       "      <th>DATE</th>\n",
       "      <th>CONTENT</th>\n",
       "      <th>CLASS</th>\n",
       "    </tr>\n",
       "  </thead>\n",
       "  <tbody>\n",
       "    <tr>\n",
       "      <th>66</th>\n",
       "      <td>z12yzzqoozqieho4x04ci12qbrzhyzyyvjg</td>\n",
       "      <td>iSmartKid</td>\n",
       "      <td>2015-05-28T03:27:18.079000</td>\n",
       "      <td>2015 but Im still listening to this!﻿</td>\n",
       "      <td>0</td>\n",
       "    </tr>\n",
       "    <tr>\n",
       "      <th>21</th>\n",
       "      <td>z13tyhj4drvcxzllt222tvwp3qi1e34ju04</td>\n",
       "      <td>Inga Lomidze</td>\n",
       "      <td>NaN</td>\n",
       "      <td>like please﻿</td>\n",
       "      <td>1</td>\n",
       "    </tr>\n",
       "    <tr>\n",
       "      <th>32</th>\n",
       "      <td>z120tv4aborbjtpuo22ecxvx2rqmsrhck</td>\n",
       "      <td>Paige Lebrun</td>\n",
       "      <td>2015-05-26T23:25:22.172000</td>\n",
       "      <td>LMFAO - Party Rock Anthem ft. Lauren Bennett, ...</td>\n",
       "      <td>0</td>\n",
       "    </tr>\n",
       "    <tr>\n",
       "      <th>158</th>\n",
       "      <td>z12tyfpzkznlghgqz04cjpsp3ymuil05t3g</td>\n",
       "      <td>sheerwill</td>\n",
       "      <td>2015-05-18T13:01:00.402000</td>\n",
       "      <td>I like this song&lt;br /&gt;﻿</td>\n",
       "      <td>0</td>\n",
       "    </tr>\n",
       "    <tr>\n",
       "      <th>112</th>\n",
       "      <td>z12mzfsy0mypfvcy404ccdvqmyq5gzqazow0k</td>\n",
       "      <td>Nancy “Aya” Lo</td>\n",
       "      <td>2015-05-21T19:16:44.104000</td>\n",
       "      <td>I came here because of Vanoss.﻿</td>\n",
       "      <td>0</td>\n",
       "    </tr>\n",
       "  </tbody>\n",
       "</table>\n",
       "</div>"
      ],
      "text/plain": [
       "                                COMMENT_ID          AUTHOR  \\\n",
       "66     z12yzzqoozqieho4x04ci12qbrzhyzyyvjg       iSmartKid   \n",
       "21     z13tyhj4drvcxzllt222tvwp3qi1e34ju04    Inga Lomidze   \n",
       "32       z120tv4aborbjtpuo22ecxvx2rqmsrhck    Paige Lebrun   \n",
       "158    z12tyfpzkznlghgqz04cjpsp3ymuil05t3g       sheerwill   \n",
       "112  z12mzfsy0mypfvcy404ccdvqmyq5gzqazow0k  Nancy “Aya” Lo   \n",
       "\n",
       "                           DATE  \\\n",
       "66   2015-05-28T03:27:18.079000   \n",
       "21                          NaN   \n",
       "32   2015-05-26T23:25:22.172000   \n",
       "158  2015-05-18T13:01:00.402000   \n",
       "112  2015-05-21T19:16:44.104000   \n",
       "\n",
       "                                               CONTENT  CLASS  \n",
       "66               2015 but Im still listening to this!﻿      0  \n",
       "21                                        like please﻿      1  \n",
       "32   LMFAO - Party Rock Anthem ft. Lauren Bennett, ...      0  \n",
       "158                            I like this song<br />﻿      0  \n",
       "112                    I came here because of Vanoss.﻿      0  "
      ]
     },
     "execution_count": 2,
     "metadata": {},
     "output_type": "execute_result"
    }
   ],
   "source": [
    "comments_df_list = []\n",
    "comments_file = ['data/Youtube01-Psy.csv','data/Youtube02-KatyPerry.csv','data/Youtube03-LMFAO.csv',\n",
    "                'data/Youtube04-Eminem.csv','data/Youtube05-Shakira.csv']\n",
    "for f in comments_file:\n",
    "    df = pd.read_csv(f,header=0)\n",
    "    comments_df_list.append(df)\n",
    "comments_df = pd.concat(comments_df_list)\n",
    "comments_df = comments_df.sample(frac=1.0)\n",
    "print(comments_df.shape)\n",
    "comments_df.head(5)"
   ]
  },
  {
   "cell_type": "code",
   "execution_count": 3,
   "metadata": {},
   "outputs": [
    {
     "data": {
      "text/plain": [
       "Index(['COMMENT_ID', 'AUTHOR', 'DATE', 'CONTENT', 'CLASS'], dtype='object')"
      ]
     },
     "execution_count": 3,
     "metadata": {},
     "output_type": "execute_result"
    }
   ],
   "source": [
    "comments_df.columns"
   ]
  },
  {
   "cell_type": "code",
   "execution_count": 4,
   "metadata": {},
   "outputs": [
    {
     "name": "stdout",
     "output_type": "stream",
     "text": [
      "94\n"
     ]
    }
   ],
   "source": [
    "average_comments_size = int(sum([len(c) for c in comments_df.CONTENT])/comments_df.shape[0])\n",
    "print(average_comments_size)"
   ]
  },
  {
   "cell_type": "code",
   "execution_count": 5,
   "metadata": {
    "collapsed": true
   },
   "outputs": [],
   "source": [
    "voc_processor = tf.contrib.learn.preprocessing.VocabularyProcessor(average_comments_size)\n",
    "X_transform = voc_processor.fit_transform(comments_df.CONTENT)\n",
    "X_transform = np.array(list(X_transform))\n",
    "y = comments_df.CLASS.values\n",
    "X_train, X_test, y_train, y_test = model_selection.train_test_split(X_transform, \n",
    "                                    y, test_size=0.2, random_state=42)\n",
    "n_words = len(voc_processor.vocabulary_)"
   ]
  },
  {
   "cell_type": "code",
   "execution_count": 6,
   "metadata": {
    "collapsed": true
   },
   "outputs": [],
   "source": [
    "voc_dict = voc_processor.vocabulary_._mapping\n",
    "sorted_vocab = sorted(voc_dict.items(), key = lambda x : x[1])\n",
    "f = open('/tmp/meta.tsv', 'w')\n",
    "for val in sorted_vocab:\n",
    "    f.write(str(val[0]) + \"\\n\")\n",
    "f.close()"
   ]
  },
  {
   "cell_type": "code",
   "execution_count": 7,
   "metadata": {
    "collapsed": true
   },
   "outputs": [],
   "source": [
    "def get_estimator_spec(input_logits, out_lb, train_predict_m):\n",
    "    preds_cls = tf.argmax(input_logits, 1)\n",
    "    if train_predict_m == tf.estimator.ModeKeys.PREDICT:\n",
    "        return tf.estimator.EstimatorSpec(\n",
    "        mode=train_predict_m,\n",
    "        predictions={\n",
    "            'pred_class': preds_cls,\n",
    "            'pred_prob': tf.nn.softmax(input_logits)\n",
    "        })\n",
    "    tr_l = tf.losses.sparse_softmax_cross_entropy(labels=out_lb, logits=input_logits)\n",
    "    if train_predict_m == tf.estimator.ModeKeys.TRAIN:\n",
    "        adm_opt = tf.train.AdamOptimizer(learning_rate=0.01)\n",
    "        tr_op = adm_opt.minimize(tr_l, global_step=tf.train.get_global_step())\n",
    "        return tf.estimator.EstimatorSpec(train_predict_m, loss=tr_l, train_op=tr_op)\n",
    "    eval_metric_ops = {'accuracy': tf.metrics.accuracy(labels=out_lb, predictions=preds_cls)}\n",
    "    return tf.estimator.EstimatorSpec(train_predict_m, loss=tr_l, train_op=tr_op)"
   ]
  },
  {
   "cell_type": "code",
   "execution_count": 8,
   "metadata": {
    "collapsed": true
   },
   "outputs": [],
   "source": [
    "def rnn_model_fn(features, labels, mode):\n",
    "    comments_wd_vec = tf.contrib.layers.embed_sequence(\n",
    "      features[COMMENTS_FT], vocab_size=n_words, embed_dim=EMBED_DIMENSION)\n",
    "    comments_word_list = tf.unstack(comments_wd_vec, axis=1)\n",
    "    \n",
    "    rnn_cell = tf.nn.rnn_cell.GRUCell(average_comments_size)\n",
    "    \n",
    "    _, comments_encoding = tf.nn.static_rnn(rnn_cell, comments_word_list, dtype=tf.float32)\n",
    "    \n",
    "    logits = tf.layers.dense(inputs=comments_encoding, units=2, activation=None)\n",
    "    \n",
    "    return get_estimator_spec(input_logits=logits, out_lb=labels, train_predict_m=mode)"
   ]
  },
  {
   "cell_type": "code",
   "execution_count": 9,
   "metadata": {},
   "outputs": [
    {
     "name": "stdout",
     "output_type": "stream",
     "text": [
      "INFO:tensorflow:Using config: {'_task_type': None, '_task_id': 0, '_cluster_spec': <tensorflow.python.training.server_lib.ClusterSpec object at 0x114558da0>, '_master': '', '_num_ps_replicas': 0, '_num_worker_replicas': 0, '_environment': 'local', '_is_chief': True, '_evaluation_master': '', '_tf_config': gpu_options {\n",
      "  per_process_gpu_memory_fraction: 1\n",
      "}\n",
      ", '_tf_random_seed': None, '_save_summary_steps': 10, '_save_checkpoints_secs': 600, '_log_step_count_steps': 10, '_session_config': None, '_save_checkpoints_steps': None, '_keep_checkpoint_max': 5, '_keep_checkpoint_every_n_hours': 10000, '_model_dir': '/tmp/models/'}\n"
     ]
    }
   ],
   "source": [
    "run_config = tf.contrib.learn.RunConfig()\n",
    "run_config = run_config.replace(model_dir='/tmp/models/',save_summary_steps=10,log_step_count_steps=10)\n",
    "classifier = tf.estimator.Estimator(model_fn=rnn_model_fn,config=run_config)"
   ]
  },
  {
   "cell_type": "code",
   "execution_count": 10,
   "metadata": {},
   "outputs": [
    {
     "name": "stdout",
     "output_type": "stream",
     "text": [
      "INFO:tensorflow:Create CheckpointSaverHook.\n",
      "INFO:tensorflow:Saving checkpoints for 1 into /tmp/models/model.ckpt.\n",
      "INFO:tensorflow:loss = 0.6945967, step = 1\n",
      "INFO:tensorflow:global_step/sec: 3.30829\n",
      "INFO:tensorflow:global_step/sec: 11.6651\n",
      "INFO:tensorflow:global_step/sec: 11.3617\n",
      "INFO:tensorflow:global_step/sec: 11.6671\n",
      "INFO:tensorflow:global_step/sec: 11.6703\n",
      "INFO:tensorflow:global_step/sec: 11.5843\n",
      "INFO:tensorflow:global_step/sec: 11.6649\n",
      "INFO:tensorflow:global_step/sec: 11.6708\n",
      "INFO:tensorflow:global_step/sec: 11.3528\n",
      "INFO:tensorflow:global_step/sec: 11.7895\n",
      "INFO:tensorflow:loss = 0.31859905, step = 101 (10.782 sec)\n",
      "INFO:tensorflow:global_step/sec: 11.4417\n",
      "INFO:tensorflow:global_step/sec: 11.7339\n",
      "INFO:tensorflow:global_step/sec: 11.7294\n",
      "INFO:tensorflow:global_step/sec: 11.7192\n",
      "INFO:tensorflow:global_step/sec: 11.381\n",
      "INFO:tensorflow:global_step/sec: 11.6948\n",
      "INFO:tensorflow:global_step/sec: 11.7341\n",
      "INFO:tensorflow:global_step/sec: 11.6495\n",
      "INFO:tensorflow:global_step/sec: 11.6934\n",
      "INFO:tensorflow:Saving checkpoints for 200 into /tmp/models/model.ckpt.\n",
      "INFO:tensorflow:Loss for final step: 0.0021792538.\n"
     ]
    },
    {
     "data": {
      "text/plain": [
       "<tensorflow.python.estimator.estimator.Estimator at 0x116877400>"
      ]
     },
     "execution_count": 10,
     "metadata": {},
     "output_type": "execute_result"
    }
   ],
   "source": [
    "train_input_fn = tf.estimator.inputs.numpy_input_fn(\n",
    "      x={COMMENTS_FT: X_train},\n",
    "      y=y_train,\n",
    "      batch_size=128,\n",
    "      num_epochs=None,\n",
    "      shuffle=True)\n",
    "classifier.train(input_fn=train_input_fn, steps=200)"
   ]
  },
  {
   "cell_type": "code",
   "execution_count": 11,
   "metadata": {},
   "outputs": [
    {
     "name": "stdout",
     "output_type": "stream",
     "text": [
      "INFO:tensorflow:Restoring parameters from /tmp/models/model.ckpt-200\n",
      "Accuracy: 0.905612\n"
     ]
    }
   ],
   "source": [
    "test_input_fn = tf.estimator.inputs.numpy_input_fn(\n",
    "      x={COMMENTS_FT: X_test},\n",
    "      y=y_test,\n",
    "      num_epochs=1,\n",
    "      shuffle=False)\n",
    "preds = classifier.predict(input_fn=test_input_fn)\n",
    "y_predicted = np.array(list(p['pred_class'] for p in preds))\n",
    "y_predicted = y_predicted.reshape(np.array(y_test).shape)\n",
    "\n",
    "acc = metrics.accuracy_score(y_test, y_predicted)\n",
    "print('Accuracy: {0:f}'.format(acc))"
   ]
  },
  {
   "cell_type": "code",
   "execution_count": null,
   "metadata": {
    "collapsed": true
   },
   "outputs": [],
   "source": []
  }
 ],
 "metadata": {
  "kernelspec": {
   "display_name": "Python 3",
   "language": "python",
   "name": "python3"
  },
  "language_info": {
   "codemirror_mode": {
    "name": "ipython",
    "version": 3
   },
   "file_extension": ".py",
   "mimetype": "text/x-python",
   "name": "python",
   "nbconvert_exporter": "python",
   "pygments_lexer": "ipython3",
   "version": "3.6.3"
  }
 },
 "nbformat": 4,
 "nbformat_minor": 2
}
