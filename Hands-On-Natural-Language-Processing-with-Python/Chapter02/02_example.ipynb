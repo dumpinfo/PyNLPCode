{
 "cells": [
  {
   "cell_type": "markdown",
   "metadata": {},
   "source": [
    "<h1>Training a Parts of speech tagger using NLTK tree bank data set </h1>"
   ]
  },
  {
   "cell_type": "code",
   "execution_count": 1,
   "metadata": {
    "collapsed": true
   },
   "outputs": [],
   "source": [
    "import nltk\n",
    "import numpy as np\n",
    "from nltk import word_tokenize\n",
    "import matplotlib.pyplot as plt\n",
    "%matplotlib inline\n",
    "from sklearn.feature_extraction import DictVectorizer\n",
    "from sklearn.model_selection import train_test_split\n",
    "from sklearn.ensemble import RandomForestClassifier\n",
    "from sklearn.metrics import accuracy_score\n",
    "from sklearn.metrics import confusion_matrix"
   ]
  },
  {
   "cell_type": "code",
   "execution_count": 2,
   "metadata": {
    "collapsed": true
   },
   "outputs": [],
   "source": [
    "def sentence_features(st, ix):\n",
    "    d_ft = {}\n",
    "    d_ft['word'] = st[ix]\n",
    "    d_ft['dist_from_first'] = ix - 0\n",
    "    d_ft['dist_from_last'] = len(st) - ix\n",
    "    d_ft['capitalized'] = st[ix][0].upper() == st[ix][0]\n",
    "    d_ft['prefix1'] = st[ix][0]\n",
    "    d_ft['prefix2'] = st[ix][:2]\n",
    "    d_ft['prefix3'] = st[ix][:3]\n",
    "    d_ft['suffix1'] = st[ix][-1]\n",
    "    d_ft['suffix2'] = st[ix][-2:]\n",
    "    d_ft['suffix3'] = st[ix][-3:]\n",
    "    d_ft['prev_word'] = '' if ix==0 else st[ix-1]\n",
    "    d_ft['next_word'] = '' if ix==(len(st)-1) else st[ix+1]\n",
    "    d_ft['numeric'] = st[ix].isdigit()\n",
    "    return d_ft"
   ]
  },
  {
   "cell_type": "code",
   "execution_count": 3,
   "metadata": {
    "collapsed": true
   },
   "outputs": [],
   "source": [
    "def get_untagged_sentence(tagged_sentence):\n",
    "    [s,t] = zip(*tagged_sentence)\n",
    "    return list(s)"
   ]
  },
  {
   "cell_type": "code",
   "execution_count": 17,
   "metadata": {
    "collapsed": true
   },
   "outputs": [],
   "source": [
    "tagged_sentences = nltk.corpus.treebank.tagged_sents(tagset='universal')"
   ]
  },
  {
   "cell_type": "code",
   "execution_count": 18,
   "metadata": {
    "collapsed": true
   },
   "outputs": [],
   "source": [
    "def ext_ft(tg_sent):\n",
    "    sent, tag = [], []\n",
    " \n",
    "    for tg in tg_sent:\n",
    "        for index in range(len(tg)):\n",
    "            sent.append(sentence_features(get_untagged_sentence(tg), index))\n",
    "            tag.append(tg[index][1])\n",
    " \n",
    "    return sent, tag"
   ]
  },
  {
   "cell_type": "code",
   "execution_count": 19,
   "metadata": {
    "collapsed": true
   },
   "outputs": [],
   "source": [
    "X,y = ext_ft(tagged_sentences)"
   ]
  },
  {
   "cell_type": "code",
   "execution_count": 7,
   "metadata": {
    "collapsed": true
   },
   "outputs": [],
   "source": [
    "n_sample = 50000\n",
    "dict_vectorizer = DictVectorizer(sparse=False)\n",
    "X_transformed = dict_vectorizer.fit_transform(X[0:n_sample])\n",
    "y_sampled = y[0:n_sample]"
   ]
  },
  {
   "cell_type": "code",
   "execution_count": 8,
   "metadata": {
    "collapsed": true
   },
   "outputs": [],
   "source": [
    "X_train,X_test,y_train,y_test = train_test_split(X_transformed, y_sampled, test_size=0.2, random_state=123)"
   ]
  },
  {
   "cell_type": "code",
   "execution_count": 9,
   "metadata": {},
   "outputs": [
    {
     "data": {
      "text/plain": [
       "RandomForestClassifier(bootstrap=True, class_weight=None, criterion='gini',\n",
       "            max_depth=None, max_features='auto', max_leaf_nodes=None,\n",
       "            min_impurity_decrease=0.0, min_impurity_split=None,\n",
       "            min_samples_leaf=1, min_samples_split=2,\n",
       "            min_weight_fraction_leaf=0.0, n_estimators=10, n_jobs=4,\n",
       "            oob_score=False, random_state=None, verbose=0,\n",
       "            warm_start=False)"
      ]
     },
     "execution_count": 9,
     "metadata": {},
     "output_type": "execute_result"
    }
   ],
   "source": [
    "rf = RandomForestClassifier(n_jobs=4)\n",
    "rf.fit(X_train,y_train)"
   ]
  },
  {
   "cell_type": "code",
   "execution_count": 10,
   "metadata": {
    "collapsed": true
   },
   "outputs": [],
   "source": [
    "def predict_pos_tags(sentence):\n",
    "    tagged_sentence = []\n",
    "    features = [sentence_features(sentence, index) for index in range(len(sentence))]\n",
    "    features = dict_vectorizer.transform(features)\n",
    "    tags = rf.predict(features)\n",
    "    return zip(sentence, tags)"
   ]
  },
  {
   "cell_type": "code",
   "execution_count": 11,
   "metadata": {},
   "outputs": [
    {
     "name": "stdout",
     "output_type": "stream",
     "text": [
      "('This', 'DET')\n",
      "('is', 'VERB')\n",
      "('a', 'DET')\n",
      "('simple', 'ADJ')\n",
      "('POS', 'NOUN')\n",
      "('tagger', 'NOUN')\n"
     ]
    }
   ],
   "source": [
    "test_sentence = \"This is a simple POS tagger\"\n",
    "for tagged in predict_pos_tags(test_sentence.split()):\n",
    "    print(tagged)"
   ]
  },
  {
   "cell_type": "code",
   "execution_count": 12,
   "metadata": {
    "collapsed": true
   },
   "outputs": [],
   "source": [
    "predictions = rf.predict(X_test)"
   ]
  },
  {
   "cell_type": "code",
   "execution_count": 13,
   "metadata": {},
   "outputs": [
    {
     "data": {
      "text/plain": [
       "0.9462"
      ]
     },
     "execution_count": 13,
     "metadata": {},
     "output_type": "execute_result"
    }
   ],
   "source": [
    "accuracy_score(y_test,predictions)"
   ]
  },
  {
   "cell_type": "code",
   "execution_count": 14,
   "metadata": {
    "collapsed": true
   },
   "outputs": [],
   "source": [
    "conf_matrix = confusion_matrix(y_test,predictions)"
   ]
  },
  {
   "cell_type": "code",
   "execution_count": 15,
   "metadata": {},
   "outputs": [
    {
     "data": {
      "text/plain": [
       "<matplotlib.colorbar.Colorbar at 0x112b5a4e0>"
      ]
     },
     "execution_count": 15,
     "metadata": {},
     "output_type": "execute_result"
    },
    {
     "data": {
      "image/png": "[encoded data removed]",
      "text/plain": [
       "<matplotlib.figure.Figure at 0x1129bab38>"
      ]
     },
     "metadata": {},
     "output_type": "display_data"
    }
   ],
   "source": [
    "plt.figure(figsize=(10,10))\n",
    "plt.xticks(np.arange(len(rf.classes_)),rf.classes_)\n",
    "plt.yticks(np.arange(len(rf.classes_)),rf.classes_)\n",
    "plt.imshow(conf_matrix,cmap=plt.cm.Blues)\n",
    "plt.colorbar()"
   ]
  },
  {
   "cell_type": "code",
   "execution_count": 16,
   "metadata": {},
   "outputs": [
    {
     "name": "stdout",
     "output_type": "stream",
     "text": [
      "[('prefix3=the', 0.02372719594926421), ('next_word=', 0.01715000035195089), ('capitalized', 0.015057232003922774), ('dist_from_last', 0.014172130723270105), ('prefix1=,', 0.012088308891058894), ('prefix2=*-', 0.010698857054894807), ('suffix2=,', 0.010664938988557355), ('suffix1=d', 0.010362823380896133), ('suffix2=he', 0.009929627778161941), ('suffix3=,', 0.009323708089808539), ('dist_from_first', 0.009225129633349425), ('suffix2=a', 0.008793128169983816), ('word=the', 0.008703208507971245), ('suffix1=s', 0.008271689869010659), ('suffix1=f', 0.00805407307413743), ('suffix3=of', 0.007714299008948785), ('word=in', 0.007289924777333014), ('next_word=,', 0.006593961844486273), ('prefix2=,', 0.006539452066154373), ('suffix2=ed', 0.006469580557994417)]\n"
     ]
    }
   ],
   "source": [
    "feature_list = zip(dict_vectorizer.get_feature_names(),rf.feature_importances_)\n",
    "sorted_features = sorted(feature_list,key=lambda x: x[1], reverse=True)\n",
    "print(sorted_features[0:20])"
   ]
  },
  {
   "cell_type": "code",
   "execution_count": null,
   "metadata": {
    "collapsed": true
   },
   "outputs": [],
   "source": []
  }
 ],
 "metadata": {
  "kernelspec": {
   "display_name": "Python 3",
   "language": "python",
   "name": "python3"
  },
  "language_info": {
   "codemirror_mode": {
    "name": "ipython",
    "version": 3
   },
   "file_extension": ".py",
   "mimetype": "text/x-python",
   "name": "python",
   "nbconvert_exporter": "python",
   "pygments_lexer": "ipython3",
   "version": "3.6.3"
  }
 },
 "nbformat": 4,
 "nbformat_minor": 2
}
