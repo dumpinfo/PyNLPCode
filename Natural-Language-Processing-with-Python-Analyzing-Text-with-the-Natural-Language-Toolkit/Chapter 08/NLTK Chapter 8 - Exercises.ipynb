{
 "cells": [
  {
   "cell_type": "markdown",
   "metadata": {},
   "source": [
    "### 9 Exercises \n",
    "\n",
    "*The html version of this book can be found [here](https://www.nltk.org/book/ch08.html#exercises \"Chpt 08 Exercises\")*.\n",
    "\n",
    "##### 9.1 \n",
    "\n",
    "☼ Can you come up with grammatical sentences that have probably never been uttered before? (Take turns with a partner.) What does this tell you about human language?\n",
    "\n",
    "*I'm not doing this with a partner, but I believe that this here answer to exercise 9.1 in the NLTK book consists of a particular sequence of words that has never, in the entire history of humankind, been written - or for that matter, uttered - before, and would thus qualify as a satisfactory answer to this exercise.*\n",
    "\n",
    "*Naturally, the longer and more specific a sentence, the less likely that it's ever been uttered.  Simply put, this tells us that human language is capable of infinite variety, and any attempts to come up with a grammar for human language need to take this into account.*\n",
    "\n",
    "##### 9.2 \n",
    "\n",
    "☼ Recall Strunk and White's prohibition against sentence-initial *however* used to mean \"although\". Do a web search for however used at the start of the sentence. How widely used is this construction?\n",
    "\n",
    "*It's not possible to do a Google search and specify where in the returned sentences a keyword should fall.  In fact, none of the queryable corpora that I have seen offer this functionality.  However, searches of the [Corpus of Contemporary American English](https://www.english-corpora.org/coca/ \"coca\") will show the results in context, and from skimming this results it is easy to see that \"however\" is commonly used at the beginning of sentences, and in some very erudite contexts.*\n",
    "\n",
    "##### 9.3 \n",
    "\n",
    "☼ Consider the sentence *Kim arrived or Dana left and everyone cheered*. Write down the parenthesized forms to show the relative scope of and and or. Generate tree structures corresponding to both of these interpretations.\n",
    "\n",
    "(S (S (S (NP (N Kim)) (VP (V arrived))) (CC or) (S (NP (N Dana)) (VP (V left)))) (CC and) (S (NP (N everyone)) (VP (V cheered))))\n",
    "    "
   ]
  },
  {
   "cell_type": "code",
   "execution_count": 2,
   "metadata": {},
   "outputs": [
    {
     "data": {
      "image/png": "[encoded data removed]",
      "text/plain": [
       "Tree('S', [Tree('S', [Tree('S', [Tree('NP', [Tree('N', ['Kim'])]), Tree('VP', [Tree('V', ['arrived'])])]), Tree('CC', ['or']), Tree('S', [Tree('NP', [Tree('N', ['Dana'])]), Tree('VP', [Tree('V', ['left'])])])]), Tree('CC', ['and']), Tree('S', [Tree('NP', [Tree('N', ['everyone'])]), Tree('VP', [Tree('V', ['cheered'])])])])"
      ]
     },
     "execution_count": 2,
     "metadata": {},
     "output_type": "execute_result"
    }
   ],
   "source": [
    "import nltk\n",
    "from nltk import Tree\n",
    "\n",
    "string = \"(S (S (S (NP (N Kim)) (VP (V arrived))) (CC or) (S (NP (N Dana)) (VP (V left)))) (CC and) (S (NP (N everyone)) (VP (V cheered))))\"\n",
    "nltk.Tree.fromstring(string)"
   ]
  },
  {
   "cell_type": "markdown",
   "metadata": {},
   "source": [
    "*Since \"Kim arrived\", \"Dana left\" and \"everyone cheered\" all contain noun and verb phrases, each could be considered a sentence in the grammars from this chapter.  Furthermore, \"or\" joins the first two sentences into another sentence, since we're not sure which action prompted everyone to cheer.*\n",
    "\n",
    "##### 9.4 \n",
    "\n",
    "☼ The `Tree` class implements a variety of other useful methods. See the `Tree` help documentation for more details, i.e. import the Tree class and then type `help(Tree)`."
   ]
  },
  {
   "cell_type": "code",
   "execution_count": 2,
   "metadata": {},
   "outputs": [
    {
     "name": "stdout",
     "output_type": "stream",
     "text": [
      "Help on class Tree in module nltk.tree:\n",
      "\n",
      "class Tree(builtins.list)\n",
      " |  Tree(node, children=None)\n",
      " |  \n",
      " |  A Tree represents a hierarchical grouping of leaves and subtrees.\n",
      " |  For example, each constituent in a syntax tree is represented by a single Tree.\n",
      " |  \n",
      " |  A tree's children are encoded as a list of leaves and subtrees,\n",
      " |  where a leaf is a basic (non-tree) value; and a subtree is a\n",
      " |  nested Tree.\n",
      " |  \n",
      " |      >>> from nltk.tree import Tree\n",
      " |      >>> print(Tree(1, [2, Tree(3, [4]), 5]))\n",
      " |      (1 2 (3 4) 5)\n",
      " |      >>> vp = Tree('VP', [Tree('V', ['saw']),\n",
      " |      ...                  Tree('NP', ['him'])])\n",
      " |      >>> s = Tree('S', [Tree('NP', ['I']), vp])\n",
      " |      >>> print(s)\n",
      " |      (S (NP I) (VP (V saw) (NP him)))\n",
      " |      >>> print(s[1])\n",
      " |      (VP (V saw) (NP him))\n",
      " |      >>> print(s[1,1])\n",
      " |      (NP him)\n",
      " |      >>> t = Tree.fromstring(\"(S (NP I) (VP (V saw) (NP him)))\")\n",
      " |      >>> s == t\n",
      " |      True\n",
      " |      >>> t[1][1].set_label('X')\n",
      " |      >>> t[1][1].label()\n",
      " |      'X'\n",
      " |      >>> print(t)\n",
      " |      (S (NP I) (VP (V saw) (X him)))\n",
      " |      >>> t[0], t[1,1] = t[1,1], t[0]\n",
      " |      >>> print(t)\n",
      " |      (S (X him) (VP (V saw) (NP I)))\n",
      " |  \n",
      " |  The length of a tree is the number of children it has.\n",
      " |  \n",
      " |      >>> len(t)\n",
      " |      2\n",
      " |  \n",
      " |  The set_label() and label() methods allow individual constituents\n",
      " |  to be labeled.  For example, syntax trees use this label to specify\n",
      " |  phrase tags, such as \"NP\" and \"VP\".\n",
      " |  \n",
      " |  Several Tree methods use \"tree positions\" to specify\n",
      " |  children or descendants of a tree.  Tree positions are defined as\n",
      " |  follows:\n",
      " |  \n",
      " |    - The tree position *i* specifies a Tree's *i*\\ th child.\n",
      " |    - The tree position ``()`` specifies the Tree itself.\n",
      " |    - If *p* is the tree position of descendant *d*, then\n",
      " |      *p+i* specifies the *i*\\ th child of *d*.\n",
      " |  \n",
      " |  I.e., every tree position is either a single index *i*,\n",
      " |  specifying ``tree[i]``; or a sequence *i1, i2, ..., iN*,\n",
      " |  specifying ``tree[i1][i2]...[iN]``.\n",
      " |  \n",
      " |  Construct a new tree.  This constructor can be called in one\n",
      " |  of two ways:\n",
      " |  \n",
      " |  - ``Tree(label, children)`` constructs a new tree with the\n",
      " |      specified label and list of children.\n",
      " |  \n",
      " |  - ``Tree.fromstring(s)`` constructs a new tree by parsing the string ``s``.\n",
      " |  \n",
      " |  Method resolution order:\n",
      " |      Tree\n",
      " |      builtins.list\n",
      " |      builtins.object\n",
      " |  \n",
      " |  Methods defined here:\n",
      " |  \n",
      " |  __add__(self, v)\n",
      " |      Return self+value.\n",
      " |  \n",
      " |  __copy__(self)\n",
      " |  \n",
      " |  __deepcopy__(self, memo)\n",
      " |  \n",
      " |  __delitem__(self, index)\n",
      " |      Delete self[key].\n",
      " |  \n",
      " |  __eq__(self, other)\n",
      " |      Return self==value.\n",
      " |  \n",
      " |  __ge__ lambda self, other\n",
      " |  \n",
      " |  __getitem__(self, index)\n",
      " |      x.__getitem__(y) <==> x[y]\n",
      " |  \n",
      " |  __gt__ lambda self, other\n",
      " |  \n",
      " |  __init__(self, node, children=None)\n",
      " |      Initialize self.  See help(type(self)) for accurate signature.\n",
      " |  \n",
      " |  __le__ lambda self, other\n",
      " |  \n",
      " |  __lt__(self, other)\n",
      " |      Return self<value.\n",
      " |  \n",
      " |  __mul__(self, v)\n",
      " |      Return self*value.\n",
      " |  \n",
      " |  __ne__ lambda self, other\n",
      " |      # @total_ordering doesn't work here, since the class inherits from a builtin class\n",
      " |  \n",
      " |  __radd__(self, v)\n",
      " |  \n",
      " |  __repr__(self)\n",
      " |      Return repr(self).\n",
      " |  \n",
      " |  __rmul__(self, v)\n",
      " |      Return value*self.\n",
      " |  \n",
      " |  __setitem__(self, index, value)\n",
      " |      Set self[key] to value.\n",
      " |  \n",
      " |  __str__(self)\n",
      " |      Return str(self).\n",
      " |  \n",
      " |  chomsky_normal_form(self, factor='right', horzMarkov=None, vertMarkov=0, childChar='|', parentChar='^')\n",
      " |      This method can modify a tree in three ways:\n",
      " |      \n",
      " |        1. Convert a tree into its Chomsky Normal Form (CNF)\n",
      " |           equivalent -- Every subtree has either two non-terminals\n",
      " |           or one terminal as its children.  This process requires\n",
      " |           the creation of more\"artificial\" non-terminal nodes.\n",
      " |        2. Markov (vertical) smoothing of children in new artificial\n",
      " |           nodes\n",
      " |        3. Horizontal (parent) annotation of nodes\n",
      " |      \n",
      " |      :param factor: Right or left factoring method (default = \"right\")\n",
      " |      :type  factor: str = [left|right]\n",
      " |      :param horzMarkov: Markov order for sibling smoothing in artificial nodes (None (default) = include all siblings)\n",
      " |      :type  horzMarkov: int | None\n",
      " |      :param vertMarkov: Markov order for parent smoothing (0 (default) = no vertical annotation)\n",
      " |      :type  vertMarkov: int | None\n",
      " |      :param childChar: A string used in construction of the artificial nodes, separating the head of the\n",
      " |                        original subtree from the child nodes that have yet to be expanded (default = \"|\")\n",
      " |      :type  childChar: str\n",
      " |      :param parentChar: A string used to separate the node representation from its vertical annotation\n",
      " |      :type  parentChar: str\n",
      " |  \n",
      " |  collapse_unary(self, collapsePOS=False, collapseRoot=False, joinChar='+')\n",
      " |      Collapse subtrees with a single child (ie. unary productions)\n",
      " |      into a new non-terminal (Tree node) joined by 'joinChar'.\n",
      " |      This is useful when working with algorithms that do not allow\n",
      " |      unary productions, and completely removing the unary productions\n",
      " |      would require loss of useful information.  The Tree is modified\n",
      " |      directly (since it is passed by reference) and no value is returned.\n",
      " |      \n",
      " |      :param collapsePOS: 'False' (default) will not collapse the parent of leaf nodes (ie.\n",
      " |                          Part-of-Speech tags) since they are always unary productions\n",
      " |      :type  collapsePOS: bool\n",
      " |      :param collapseRoot: 'False' (default) will not modify the root production\n",
      " |                           if it is unary.  For the Penn WSJ treebank corpus, this corresponds\n",
      " |                           to the TOP -> productions.\n",
      " |      :type collapseRoot: bool\n",
      " |      :param joinChar: A string used to connect collapsed node values (default = \"+\")\n",
      " |      :type  joinChar: str\n",
      " |  \n",
      " |  copy(self, deep=False)\n",
      " |      Return a shallow copy of the list.\n",
      " |  \n",
      " |  draw(self)\n",
      " |      Open a new window containing a graphical diagram of this tree.\n",
      " |  \n",
      " |  flatten(self)\n",
      " |      Return a flat version of the tree, with all non-root non-terminals removed.\n",
      " |      \n",
      " |          >>> t = Tree.fromstring(\"(S (NP (D the) (N dog)) (VP (V chased) (NP (D the) (N cat))))\")\n",
      " |          >>> print(t.flatten())\n",
      " |          (S the dog chased the cat)\n",
      " |      \n",
      " |      :return: a tree consisting of this tree's root connected directly to\n",
      " |          its leaves, omitting all intervening non-terminal nodes.\n",
      " |      :rtype: Tree\n",
      " |  \n",
      " |  freeze(self, leaf_freezer=None)\n",
      " |  \n",
      " |  height(self)\n",
      " |      Return the height of the tree.\n",
      " |      \n",
      " |          >>> t = Tree.fromstring(\"(S (NP (D the) (N dog)) (VP (V chased) (NP (D the) (N cat))))\")\n",
      " |          >>> t.height()\n",
      " |          5\n",
      " |          >>> print(t[0,0])\n",
      " |          (D the)\n",
      " |          >>> t[0,0].height()\n",
      " |          2\n",
      " |      \n",
      " |      :return: The height of this tree.  The height of a tree\n",
      " |          containing no children is 1; the height of a tree\n",
      " |          containing only leaves is 2; and the height of any other\n",
      " |          tree is one plus the maximum of its children's\n",
      " |          heights.\n",
      " |      :rtype: int\n",
      " |  \n",
      " |  label(self)\n",
      " |      Return the node label of the tree.\n",
      " |      \n",
      " |          >>> t = Tree.fromstring('(S (NP (D the) (N dog)) (VP (V chased) (NP (D the) (N cat))))')\n",
      " |          >>> t.label()\n",
      " |          'S'\n",
      " |      \n",
      " |      :return: the node label (typically a string)\n",
      " |      :rtype: any\n",
      " |  \n",
      " |  leaf_treeposition(self, index)\n",
      " |      :return: The tree position of the ``index``-th leaf in this\n",
      " |          tree.  I.e., if ``tp=self.leaf_treeposition(i)``, then\n",
      " |          ``self[tp]==self.leaves()[i]``.\n",
      " |      \n",
      " |      :raise IndexError: If this tree contains fewer than ``index+1``\n",
      " |          leaves, or if ``index<0``.\n",
      " |  \n",
      " |  leaves(self)\n",
      " |      Return the leaves of the tree.\n",
      " |      \n",
      " |          >>> t = Tree.fromstring(\"(S (NP (D the) (N dog)) (VP (V chased) (NP (D the) (N cat))))\")\n",
      " |          >>> t.leaves()\n",
      " |          ['the', 'dog', 'chased', 'the', 'cat']\n",
      " |      \n",
      " |      :return: a list containing this tree's leaves.\n",
      " |          The order reflects the order of the\n",
      " |          leaves in the tree's hierarchical structure.\n",
      " |      :rtype: list\n",
      " |  \n",
      " |  pformat(self, margin=70, indent=0, nodesep='', parens='()', quotes=False)\n",
      " |      :return: A pretty-printed string representation of this tree.\n",
      " |      :rtype: str\n",
      " |      :param margin: The right margin at which to do line-wrapping.\n",
      " |      :type margin: int\n",
      " |      :param indent: The indentation level at which printing\n",
      " |          begins.  This number is used to decide how far to indent\n",
      " |          subsequent lines.\n",
      " |      :type indent: int\n",
      " |      :param nodesep: A string that is used to separate the node\n",
      " |          from the children.  E.g., the default value ``':'`` gives\n",
      " |          trees like ``(S: (NP: I) (VP: (V: saw) (NP: it)))``.\n",
      " |  \n",
      " |  pformat_latex_qtree(self)\n",
      " |      Returns a representation of the tree compatible with the\n",
      " |      LaTeX qtree package. This consists of the string ``\\Tree``\n",
      " |      followed by the tree represented in bracketed notation.\n",
      " |      \n",
      " |      For example, the following result was generated from a parse tree of\n",
      " |      the sentence ``The announcement astounded us``::\n",
      " |      \n",
      " |        \\Tree [.I'' [.N'' [.D The ] [.N' [.N announcement ] ] ]\n",
      " |            [.I' [.V'' [.V' [.V astounded ] [.N'' [.N' [.N us ] ] ] ] ] ] ]\n",
      " |      \n",
      " |      See http://www.ling.upenn.edu/advice/latex.html for the LaTeX\n",
      " |      style file for the qtree package.\n",
      " |      \n",
      " |      :return: A latex qtree representation of this tree.\n",
      " |      :rtype: str\n",
      " |  \n",
      " |  pos(self)\n",
      " |      Return a sequence of pos-tagged words extracted from the tree.\n",
      " |      \n",
      " |          >>> t = Tree.fromstring(\"(S (NP (D the) (N dog)) (VP (V chased) (NP (D the) (N cat))))\")\n",
      " |          >>> t.pos()\n",
      " |          [('the', 'D'), ('dog', 'N'), ('chased', 'V'), ('the', 'D'), ('cat', 'N')]\n",
      " |      \n",
      " |      :return: a list of tuples containing leaves and pre-terminals (part-of-speech tags).\n",
      " |          The order reflects the order of the leaves in the tree's hierarchical structure.\n",
      " |      :rtype: list(tuple)\n",
      " |  \n",
      " |  pprint(self, **kwargs)\n",
      " |      Print a string representation of this Tree to 'stream'\n",
      " |  \n",
      " |  pretty_print(self, sentence=None, highlight=(), stream=None, **kwargs)\n",
      " |      Pretty-print this tree as ASCII or Unicode art.\n",
      " |      For explanation of the arguments, see the documentation for\n",
      " |      `nltk.treeprettyprinter.TreePrettyPrinter`.\n",
      " |  \n",
      " |  productions(self)\n",
      " |      Generate the productions that correspond to the non-terminal nodes of the tree.\n",
      " |      For each subtree of the form (P: C1 C2 ... Cn) this produces a production of the\n",
      " |      form P -> C1 C2 ... Cn.\n",
      " |      \n",
      " |          >>> t = Tree.fromstring(\"(S (NP (D the) (N dog)) (VP (V chased) (NP (D the) (N cat))))\")\n",
      " |          >>> t.productions()\n",
      " |          [S -> NP VP, NP -> D N, D -> 'the', N -> 'dog', VP -> V NP, V -> 'chased',\n",
      " |          NP -> D N, D -> 'the', N -> 'cat']\n",
      " |      \n",
      " |      :rtype: list(Production)\n",
      " |  \n",
      " |  set_label(self, label)\n",
      " |      Set the node label of the tree.\n",
      " |      \n",
      " |          >>> t = Tree.fromstring(\"(S (NP (D the) (N dog)) (VP (V chased) (NP (D the) (N cat))))\")\n",
      " |          >>> t.set_label(\"T\")\n",
      " |          >>> print(t)\n",
      " |          (T (NP (D the) (N dog)) (VP (V chased) (NP (D the) (N cat))))\n",
      " |      \n",
      " |      :param label: the node label (typically a string)\n",
      " |      :type label: any\n",
      " |  \n",
      " |  subtrees(self, filter=None)\n",
      " |      Generate all the subtrees of this tree, optionally restricted\n",
      " |      to trees matching the filter function.\n",
      " |      \n",
      " |          >>> t = Tree.fromstring(\"(S (NP (D the) (N dog)) (VP (V chased) (NP (D the) (N cat))))\")\n",
      " |          >>> for s in t.subtrees(lambda t: t.height() == 2):\n",
      " |          ...     print(s)\n",
      " |          (D the)\n",
      " |          (N dog)\n",
      " |          (V chased)\n",
      " |          (D the)\n",
      " |          (N cat)\n",
      " |      \n",
      " |      :type filter: function\n",
      " |      :param filter: the function to filter all local trees\n",
      " |  \n",
      " |  treeposition_spanning_leaves(self, start, end)\n",
      " |      :return: The tree position of the lowest descendant of this\n",
      " |          tree that dominates ``self.leaves()[start:end]``.\n",
      " |      :raise ValueError: if ``end <= start``\n",
      " |  \n",
      " |  treepositions(self, order='preorder')\n",
      " |          >>> t = Tree.fromstring(\"(S (NP (D the) (N dog)) (VP (V chased) (NP (D the) (N cat))))\")\n",
      " |          >>> t.treepositions() # doctest: +ELLIPSIS\n",
      " |          [(), (0,), (0, 0), (0, 0, 0), (0, 1), (0, 1, 0), (1,), (1, 0), (1, 0, 0), ...]\n",
      " |          >>> for pos in t.treepositions('leaves'):\n",
      " |          ...     t[pos] = t[pos][::-1].upper()\n",
      " |          >>> print(t)\n",
      " |          (S (NP (D EHT) (N GOD)) (VP (V DESAHC) (NP (D EHT) (N TAC))))\n",
      " |      \n",
      " |      :param order: One of: ``preorder``, ``postorder``, ``bothorder``,\n",
      " |          ``leaves``.\n",
      " |  \n",
      " |  un_chomsky_normal_form(self, expandUnary=True, childChar='|', parentChar='^', unaryChar='+')\n",
      " |      This method modifies the tree in three ways:\n",
      " |      \n",
      " |        1. Transforms a tree in Chomsky Normal Form back to its\n",
      " |           original structure (branching greater than two)\n",
      " |        2. Removes any parent annotation (if it exists)\n",
      " |        3. (optional) expands unary subtrees (if previously\n",
      " |           collapsed with collapseUnary(...) )\n",
      " |      \n",
      " |      :param expandUnary: Flag to expand unary or not (default = True)\n",
      " |      :type  expandUnary: bool\n",
      " |      :param childChar: A string separating the head node from its children in an artificial node (default = \"|\")\n",
      " |      :type  childChar: str\n",
      " |      :param parentChar: A sting separating the node label from its parent annotation (default = \"^\")\n",
      " |      :type  parentChar: str\n",
      " |      :param unaryChar: A string joining two non-terminals in a unary production (default = \"+\")\n",
      " |      :type  unaryChar: str\n",
      " |  \n",
      " |  ----------------------------------------------------------------------\n",
      " |  Class methods defined here:\n",
      " |  \n",
      " |  convert(tree) from builtins.type\n",
      " |      Convert a tree between different subtypes of Tree.  ``cls`` determines\n",
      " |      which class will be used to encode the new tree.\n",
      " |      \n",
      " |      :type tree: Tree\n",
      " |      :param tree: The tree that should be converted.\n",
      " |      :return: The new Tree.\n",
      " |  \n",
      " |  fromstring(s, brackets='()', read_node=None, read_leaf=None, node_pattern=None, leaf_pattern=None, remove_empty_top_bracketing=False) from builtins.type\n",
      " |      Read a bracketed tree string and return the resulting tree.\n",
      " |      Trees are represented as nested brackettings, such as::\n",
      " |      \n",
      " |        (S (NP (NNP John)) (VP (V runs)))\n",
      " |      \n",
      " |      :type s: str\n",
      " |      :param s: The string to read\n",
      " |      \n",
      " |      :type brackets: str (length=2)\n",
      " |      :param brackets: The bracket characters used to mark the\n",
      " |          beginning and end of trees and subtrees.\n",
      " |      \n",
      " |      :type read_node: function\n",
      " |      :type read_leaf: function\n",
      " |      :param read_node, read_leaf: If specified, these functions\n",
      " |          are applied to the substrings of ``s`` corresponding to\n",
      " |          nodes and leaves (respectively) to obtain the values for\n",
      " |          those nodes and leaves.  They should have the following\n",
      " |          signature:\n",
      " |      \n",
      " |             read_node(str) -> value\n",
      " |      \n",
      " |          For example, these functions could be used to process nodes\n",
      " |          and leaves whose values should be some type other than\n",
      " |          string (such as ``FeatStruct``).\n",
      " |          Note that by default, node strings and leaf strings are\n",
      " |          delimited by whitespace and brackets; to override this\n",
      " |          default, use the ``node_pattern`` and ``leaf_pattern``\n",
      " |          arguments.\n",
      " |      \n",
      " |      :type node_pattern: str\n",
      " |      :type leaf_pattern: str\n",
      " |      :param node_pattern, leaf_pattern: Regular expression patterns\n",
      " |          used to find node and leaf substrings in ``s``.  By\n",
      " |          default, both nodes patterns are defined to match any\n",
      " |          sequence of non-whitespace non-bracket characters.\n",
      " |      \n",
      " |      :type remove_empty_top_bracketing: bool\n",
      " |      :param remove_empty_top_bracketing: If the resulting tree has\n",
      " |          an empty node label, and is length one, then return its\n",
      " |          single child instead.  This is useful for treebank trees,\n",
      " |          which sometimes contain an extra level of bracketing.\n",
      " |      \n",
      " |      :return: A tree corresponding to the string representation ``s``.\n",
      " |          If this class method is called using a subclass of Tree,\n",
      " |          then it will return a tree of that type.\n",
      " |      :rtype: Tree\n",
      " |  \n",
      " |  ----------------------------------------------------------------------\n",
      " |  Data descriptors defined here:\n",
      " |  \n",
      " |  __dict__\n",
      " |      dictionary for instance variables (if defined)\n",
      " |  \n",
      " |  __weakref__\n",
      " |      list of weak references to the object (if defined)\n",
      " |  \n",
      " |  node\n",
      " |      Outdated method to access the node value; use the label() method instead.\n",
      " |  \n",
      " |  ----------------------------------------------------------------------\n",
      " |  Data and other attributes defined here:\n",
      " |  \n",
      " |  __hash__ = None\n",
      " |  \n",
      " |  ----------------------------------------------------------------------\n",
      " |  Methods inherited from builtins.list:\n",
      " |  \n",
      " |  __contains__(self, key, /)\n",
      " |      Return key in self.\n",
      " |  \n",
      " |  __getattribute__(self, name, /)\n",
      " |      Return getattr(self, name).\n",
      " |  \n",
      " |  __iadd__(self, value, /)\n",
      " |      Implement self+=value.\n",
      " |  \n",
      " |  __imul__(self, value, /)\n",
      " |      Implement self*=value.\n",
      " |  \n",
      " |  __iter__(self, /)\n",
      " |      Implement iter(self).\n",
      " |  \n",
      " |  __len__(self, /)\n",
      " |      Return len(self).\n",
      " |  \n",
      " |  __reversed__(self, /)\n",
      " |      Return a reverse iterator over the list.\n",
      " |  \n",
      " |  __sizeof__(self, /)\n",
      " |      Return the size of the list in memory, in bytes.\n",
      " |  \n",
      " |  append(self, object, /)\n",
      " |      Append object to the end of the list.\n",
      " |  \n",
      " |  clear(self, /)\n",
      " |      Remove all items from list.\n",
      " |  \n",
      " |  count(self, value, /)\n",
      " |      Return number of occurrences of value.\n",
      " |  \n",
      " |  extend(self, iterable, /)\n",
      " |      Extend list by appending elements from the iterable.\n",
      " |  \n",
      " |  index(self, value, start=0, stop=9223372036854775807, /)\n",
      " |      Return first index of value.\n",
      " |      \n",
      " |      Raises ValueError if the value is not present.\n",
      " |  \n",
      " |  insert(self, index, object, /)\n",
      " |      Insert object before index.\n",
      " |  \n",
      " |  pop(self, index=-1, /)\n",
      " |      Remove and return item at index (default last).\n",
      " |      \n",
      " |      Raises IndexError if list is empty or index is out of range.\n",
      " |  \n",
      " |  remove(self, value, /)\n",
      " |      Remove first occurrence of value.\n",
      " |      \n",
      " |      Raises ValueError if the value is not present.\n",
      " |  \n",
      " |  reverse(self, /)\n",
      " |      Reverse *IN PLACE*.\n",
      " |  \n",
      " |  sort(self, /, *, key=None, reverse=False)\n",
      " |      Stable sort *IN PLACE*.\n",
      " |  \n",
      " |  ----------------------------------------------------------------------\n",
      " |  Static methods inherited from builtins.list:\n",
      " |  \n",
      " |  __new__(*args, **kwargs) from builtins.type\n",
      " |      Create and return a new object.  See help(type) for accurate signature.\n",
      "\n"
     ]
    }
   ],
   "source": [
    "from nltk import Tree\n",
    "\n",
    "help(Tree)"
   ]
  },
  {
   "cell_type": "markdown",
   "metadata": {},
   "source": [
    "##### 9.5 \n",
    "\n",
    "☼ In this exercise you will manually construct some parse trees.\n",
    "\n",
    "* a. Write code to produce two trees, one for each reading of the phrase *old men and women*\n",
    "\n",
    "* b. Encode any of the trees presented in this chapter as a labeled bracketing and use `nltk.Tree()` to check that it is well-formed. Now use `draw()` to display the tree.\n",
    "\n",
    "* c. As in (a) above, draw a tree for *The woman saw a man last Thursday.*\n",
    "\n",
    "*a.*"
   ]
  },
  {
   "cell_type": "code",
   "execution_count": 3,
   "metadata": {},
   "outputs": [],
   "source": [
    "grammar = nltk.CFG.fromstring(\"\"\"\n",
    "\n",
    "S -> NP CC NP | JJ NP\n",
    "NP -> N | JJ N | N CC N\n",
    "N -> 'men' | 'women'\n",
    "JJ -> 'old'\n",
    "CC -> 'and'\n",
    "\"\"\")"
   ]
  },
  {
   "cell_type": "code",
   "execution_count": 4,
   "metadata": {},
   "outputs": [
    {
     "name": "stdout",
     "output_type": "stream",
     "text": [
      "(S (JJ old) (NP (N men) (CC and) (N women)))\n",
      "(S (NP (JJ old) (N men)) (CC and) (NP (N women)))\n"
     ]
    }
   ],
   "source": [
    "sent = ['old', 'men', 'and', 'women']\n",
    "parser = nltk.ChartParser(grammar)\n",
    "for tree in parser.parse(sent):\n",
    "    print(tree)"
   ]
  },
  {
   "cell_type": "code",
   "execution_count": 5,
   "metadata": {},
   "outputs": [],
   "source": [
    "trees = []\n",
    "for tree in parser.parse(sent):\n",
    "    trees.append(str(tree))"
   ]
  },
  {
   "cell_type": "code",
   "execution_count": 6,
   "metadata": {},
   "outputs": [
    {
     "data": {
      "image/png": "[encoded data removed]",
      "text/plain": [
       "Tree('S', [Tree('JJ', ['old']), Tree('NP', [Tree('N', ['men']), Tree('CC', ['and']), Tree('N', ['women'])])])"
      ]
     },
     "execution_count": 6,
     "metadata": {},
     "output_type": "execute_result"
    }
   ],
   "source": [
    "nltk.Tree.fromstring(trees[0])"
   ]
  },
  {
   "cell_type": "code",
   "execution_count": 7,
   "metadata": {},
   "outputs": [
    {
     "data": {
      "image/png": "[encoded data removed]",
      "text/plain": [
       "Tree('S', [Tree('NP', [Tree('JJ', ['old']), Tree('N', ['men'])]), Tree('CC', ['and']), Tree('NP', [Tree('N', ['women'])])])"
      ]
     },
     "execution_count": 7,
     "metadata": {},
     "output_type": "execute_result"
    }
   ],
   "source": [
    "nltk.Tree.fromstring(trees[1])"
   ]
  },
  {
   "cell_type": "markdown",
   "metadata": {},
   "source": [
    "*It doesn't appear we can draw multiple trees at once.  The following code produces nothing:*"
   ]
  },
  {
   "cell_type": "code",
   "execution_count": 8,
   "metadata": {},
   "outputs": [],
   "source": [
    "for t in trees:\n",
    "    nltk.Tree.fromstring(t)"
   ]
  },
  {
   "cell_type": "markdown",
   "metadata": {},
   "source": [
    "*b.*"
   ]
  },
  {
   "cell_type": "code",
   "execution_count": 9,
   "metadata": {},
   "outputs": [
    {
     "data": {
      "image/png": "[encoded data removed]",
      "text/plain": [
       "Tree('S', [Tree('NP', ['I']), Tree('VP', [Tree('V', ['shot']), Tree('NP', [Tree('Det', ['an']), Tree('N', ['elephant']), Tree('PP', [Tree('P', ['in']), Tree('NP', [Tree('Det', ['my']), Tree('N', ['pajamas'])])])])])])"
      ]
     },
     "execution_count": 9,
     "metadata": {},
     "output_type": "execute_result"
    }
   ],
   "source": [
    "groucho = \"(S (NP I) (VP (V shot) (NP (Det an) (N elephant) (PP (P in)\\\n",
    "            (NP (Det my) (N pajamas))))))\"\n",
    "nltk.Tree.fromstring(groucho)"
   ]
  },
  {
   "cell_type": "markdown",
   "metadata": {},
   "source": [
    "*c.*"
   ]
  },
  {
   "cell_type": "code",
   "execution_count": 10,
   "metadata": {},
   "outputs": [
    {
     "data": {
      "image/png": "[encoded data removed]",
      "text/plain": [
       "Tree('S', [Tree('NP', [Tree('Det', ['The']), Tree('N', ['woman']), Tree('VP', [Tree('V', ['saw']), Tree('NP', [Tree('Det', ['a']), Tree('N', ['man'])]), Tree('ADVP', [Tree('JJ', ['last']), Tree('ADV', ['Thursday'])])])])])"
      ]
     },
     "execution_count": 10,
     "metadata": {},
     "output_type": "execute_result"
    }
   ],
   "source": [
    "string = \"(S (NP (Det The) (N woman) (VP (V saw) (NP (Det a) (N man))\\\n",
    "           (ADVP (JJ last) (ADV Thursday)))))\"\n",
    "nltk.Tree.fromstring(string)"
   ]
  },
  {
   "cell_type": "markdown",
   "metadata": {},
   "source": [
    "##### 6.\n",
    "\n",
    "☼ Write a recursive function to traverse a tree and return the depth of the tree, such that a tree with a single node would have depth zero. (Hint: the depth of a subtree is the maximum depth of its children, plus one.)\n",
    "\n",
    "*This is heavily based on the `height` method for `nltk.Tree`, available [here](https://www.nltk.org/_modules/nltk/tree.html \"tree\"):*"
   ]
  },
  {
   "cell_type": "code",
   "execution_count": 308,
   "metadata": {},
   "outputs": [],
   "source": [
    "def find_depth(tree):\n",
    "    max_subtree_depth = 0\n",
    "    for subtree in tree:\n",
    "        if isinstance(subtree, nltk.Tree):\n",
    "            max_subtree_depth = max(max_subtree_depth, find_depth(subtree))\n",
    "        else:\n",
    "            max_subtree_depth = max(max_subtree_depth, 0)\n",
    "            \n",
    "    return 1 + max_subtree_depth"
   ]
  },
  {
   "cell_type": "code",
   "execution_count": 309,
   "metadata": {},
   "outputs": [
    {
     "data": {
      "text/plain": [
       "6"
      ]
     },
     "execution_count": 309,
     "metadata": {},
     "output_type": "execute_result"
    }
   ],
   "source": [
    "from nltk.corpus import treebank\n",
    "t = treebank.parsed_sents('wsj_0001.mrg')[0]\n",
    "find_depth(t)"
   ]
  },
  {
   "cell_type": "code",
   "execution_count": 310,
   "metadata": {},
   "outputs": [
    {
     "data": {
      "image/png": "[encoded data removed]",
      "text/plain": [
       "Tree('S', [Tree('NP-SBJ', [Tree('NP', [Tree('NNP', ['Pierre']), Tree('NNP', ['Vinken'])]), Tree(',', [',']), Tree('ADJP', [Tree('NP', [Tree('CD', ['61']), Tree('NNS', ['years'])]), Tree('JJ', ['old'])]), Tree(',', [','])]), Tree('VP', [Tree('MD', ['will']), Tree('VP', [Tree('VB', ['join']), Tree('NP', [Tree('DT', ['the']), Tree('NN', ['board'])]), Tree('PP-CLR', [Tree('IN', ['as']), Tree('NP', [Tree('DT', ['a']), Tree('JJ', ['nonexecutive']), Tree('NN', ['director'])])]), Tree('NP-TMP', [Tree('NNP', ['Nov.']), Tree('CD', ['29'])])])]), Tree('.', ['.'])])"
      ]
     },
     "execution_count": 310,
     "metadata": {},
     "output_type": "execute_result"
    }
   ],
   "source": [
    "nltk.Tree.fromstring(str(t))"
   ]
  },
  {
   "cell_type": "code",
   "execution_count": 311,
   "metadata": {},
   "outputs": [
    {
     "data": {
      "text/plain": [
       "7"
      ]
     },
     "execution_count": 311,
     "metadata": {},
     "output_type": "execute_result"
    }
   ],
   "source": [
    "t = treebank.parsed_sents('wsj_0001.mrg')[1]\n",
    "find_depth(t)"
   ]
  },
  {
   "cell_type": "code",
   "execution_count": 299,
   "metadata": {},
   "outputs": [
    {
     "data": {
      "image/png": "[encoded data removed]",
      "text/plain": [
       "Tree('S', [Tree('NP-SBJ', [Tree('NNP', ['Mr.']), Tree('NNP', ['Vinken'])]), Tree('VP', [Tree('VBZ', ['is']), Tree('NP-PRD', [Tree('NP', [Tree('NN', ['chairman'])]), Tree('PP', [Tree('IN', ['of']), Tree('NP', [Tree('NP', [Tree('NNP', ['Elsevier']), Tree('NNP', ['N.V.'])]), Tree(',', [',']), Tree('NP', [Tree('DT', ['the']), Tree('NNP', ['Dutch']), Tree('VBG', ['publishing']), Tree('NN', ['group'])])])])])]), Tree('.', ['.'])])"
      ]
     },
     "execution_count": 299,
     "metadata": {},
     "output_type": "execute_result"
    }
   ],
   "source": [
    "nltk.Tree.fromstring(str(t))"
   ]
  },
  {
   "cell_type": "code",
   "execution_count": 296,
   "metadata": {},
   "outputs": [
    {
     "data": {
      "text/plain": [
       "3"
      ]
     },
     "execution_count": 296,
     "metadata": {},
     "output_type": "execute_result"
    }
   ],
   "source": [
    "t = nltk.Tree.fromstring('(S (NP Alice) (VP chased (NP the rabbit)))')\n",
    "find_depth(t)"
   ]
  },
  {
   "cell_type": "code",
   "execution_count": 297,
   "metadata": {},
   "outputs": [
    {
     "data": {
      "image/png": "[encoded data removed]",
      "text/plain": [
       "Tree('S', [Tree('NP', ['Alice']), Tree('VP', ['chased', Tree('NP', ['the', 'rabbit'])])])"
      ]
     },
     "execution_count": 297,
     "metadata": {},
     "output_type": "execute_result"
    }
   ],
   "source": [
    "nltk.Tree.fromstring(str(t))"
   ]
  },
  {
   "cell_type": "markdown",
   "metadata": {},
   "source": [
    "##### 7.\n",
    "\n",
    "☼ Analyze the A.A. Milne sentence about Piglet, by underlining all of the sentences it contains then replacing these with `S`. Draw a tree structure for this \"compressed\" sentence. What are the main syntactic constructions used for building such a long sentence?\n",
    "\n",
    "*It would be a lot of work to convert this sentence into a tree, so for the sake of simplicity I'm just going to bold those phrases which could be replaced with `S`.  Bear in mind that there are a few nested sentences within these bold phrases, but for the sake of legibility I decided to leave these be.*\n",
    "\n",
    "*\"In after-years he liked to think that __he had been in Very Great Danger during the Terrible Flood__, but __the only danger he had really been in was the last half-hour of his imprisonment__, when __Owl, who had just flown up, sat on a branch of his tree to comfort him__, and __told him a very long story about an aunt who had once laid a seagull's egg by mistake__, and __the story went on and on__, rather like this sentence, until __Piglet who was listening out of his window without much hope, went to sleep quietly and naturally_, slipping slowly out of the window towards the water__ until __he was only hanging on by his toes__, at which moment, __luckily, a sudden loud squawk from Owl, which was really part of the story, being what his aunt said, woke the Piglet up__ and __just gave him time to jerk himself back into safety and say, \"How interesting, and did she?\"__ when — well, __you can imagine his joy when at last he saw the good ship, Brain of Pooh (Captain, C. Robin; 1st Mate, P. Bear) coming over the sea to rescue him__...\"*\n",
    "\n",
    "*The syntactic constructions used for building this sentence are conjuctions (__and__, __but__), adverbials of time (__when__, __until__, __at which moment__), and sentential verbs (__think__).*\n",
    "\n",
    "##### 8. \n",
    "\n",
    "☼ In the recursive descent parser demo, experiment with changing the sentence to be parsed by selecting *Edit Text* in the *Edit* menu.\n",
    "\n",
    "*As mentioned in the Jupyter notebook for the notes on this chapter, calling `nltk.app.rdparser()` opens it in a new window, which is not ideal when trying to save output in a Jupyter notebook.  So while I have done as instructed, I won't be calling the parser again from this notebook.*\n",
    "\n",
    "##### 9. \n",
    "\n",
    "☼ Can the grammar in `grammar1` be used to describe sentences that are more than 20 words in length?\n",
    "\n",
    "*Yes, but the resulting sentence would be ridiculous, if not downright nonsensical.  Because `PP`s can be part of `NP`s and `NP`s can be part of `PP`s, we can build a `NP` out of a chain of `PP`s that will go on as long as we'd like it.*"
   ]
  },
  {
   "cell_type": "code",
   "execution_count": 91,
   "metadata": {},
   "outputs": [],
   "source": [
    "grammar1 = nltk.CFG.fromstring(\"\"\"\n",
    "  S -> NP VP\n",
    "  VP -> V NP | V NP PP\n",
    "  PP -> P NP\n",
    "  V -> \"saw\" | \"ate\" | \"walked\"\n",
    "  NP -> \"John\" | \"Mary\" | \"Bob\" | Det N | Det N PP\n",
    "  Det -> \"a\" | \"an\" | \"the\" | \"my\"\n",
    "  N -> \"man\" | \"dog\" | \"cat\" | \"telescope\" | \"park\"\n",
    "  P -> \"in\" | \"on\" | \"by\" | \"with\"\n",
    "  \"\"\")"
   ]
  },
  {
   "cell_type": "code",
   "execution_count": 100,
   "metadata": {},
   "outputs": [
    {
     "name": "stdout",
     "output_type": "stream",
     "text": [
      "(S\n",
      "  (NP\n",
      "    (Det a)\n",
      "    (N dog)\n",
      "    (PP\n",
      "      (P in)\n",
      "      (NP\n",
      "        (Det the)\n",
      "        (N park)\n",
      "        (PP\n",
      "          (P by)\n",
      "          (NP\n",
      "            (Det the)\n",
      "            (N cat)\n",
      "            (PP\n",
      "              (P with)\n",
      "              (NP\n",
      "                (Det the)\n",
      "                (N telescope)\n",
      "                (PP (P on) (NP (Det the) (N dog))))))))))\n",
      "  (VP\n",
      "    (V ate)\n",
      "    (NP\n",
      "      (Det the)\n",
      "      (N man)\n",
      "      (PP\n",
      "        (P in)\n",
      "        (NP\n",
      "          (Det the)\n",
      "          (N park)\n",
      "          (PP\n",
      "            (P by)\n",
      "            (NP\n",
      "              (Det the)\n",
      "              (N cat)\n",
      "              (PP (P with) (NP (Det the) (N telescope))))))))))\n",
      "(S\n",
      "  (NP\n",
      "    (Det a)\n",
      "    (N dog)\n",
      "    (PP\n",
      "      (P in)\n",
      "      (NP\n",
      "        (Det the)\n",
      "        (N park)\n",
      "        (PP\n",
      "          (P by)\n",
      "          (NP\n",
      "            (Det the)\n",
      "            (N cat)\n",
      "            (PP\n",
      "              (P with)\n",
      "              (NP\n",
      "                (Det the)\n",
      "                (N telescope)\n",
      "                (PP (P on) (NP (Det the) (N dog))))))))))\n",
      "  (VP\n",
      "    (V ate)\n",
      "    (NP (Det the) (N man))\n",
      "    (PP\n",
      "      (P in)\n",
      "      (NP\n",
      "        (Det the)\n",
      "        (N park)\n",
      "        (PP\n",
      "          (P by)\n",
      "          (NP\n",
      "            (Det the)\n",
      "            (N cat)\n",
      "            (PP (P with) (NP (Det the) (N telescope)))))))))\n",
      "(S\n",
      "  (NP\n",
      "    (Det a)\n",
      "    (N dog)\n",
      "    (PP\n",
      "      (P in)\n",
      "      (NP\n",
      "        (Det the)\n",
      "        (N park)\n",
      "        (PP\n",
      "          (P by)\n",
      "          (NP\n",
      "            (Det the)\n",
      "            (N cat)\n",
      "            (PP\n",
      "              (P with)\n",
      "              (NP\n",
      "                (Det the)\n",
      "                (N telescope)\n",
      "                (PP (P on) (NP (Det the) (N dog))))))))))\n",
      "  (VP\n",
      "    (V ate)\n",
      "    (NP (Det the) (N man) (PP (P in) (NP (Det the) (N park))))\n",
      "    (PP\n",
      "      (P by)\n",
      "      (NP\n",
      "        (Det the)\n",
      "        (N cat)\n",
      "        (PP (P with) (NP (Det the) (N telescope)))))))\n",
      "(S\n",
      "  (NP\n",
      "    (Det a)\n",
      "    (N dog)\n",
      "    (PP\n",
      "      (P in)\n",
      "      (NP\n",
      "        (Det the)\n",
      "        (N park)\n",
      "        (PP\n",
      "          (P by)\n",
      "          (NP\n",
      "            (Det the)\n",
      "            (N cat)\n",
      "            (PP\n",
      "              (P with)\n",
      "              (NP\n",
      "                (Det the)\n",
      "                (N telescope)\n",
      "                (PP (P on) (NP (Det the) (N dog))))))))))\n",
      "  (VP\n",
      "    (V ate)\n",
      "    (NP\n",
      "      (Det the)\n",
      "      (N man)\n",
      "      (PP\n",
      "        (P in)\n",
      "        (NP (Det the) (N park) (PP (P by) (NP (Det the) (N cat))))))\n",
      "    (PP (P with) (NP (Det the) (N telescope)))))\n"
     ]
    }
   ],
   "source": [
    "sent = \"a dog in the park by the cat with the telescope on the dog ate the man in the park by the cat with the telescope\".split()\n",
    "rd_parser = nltk.RecursiveDescentParser(grammar1)\n",
    "for tree in rd_parser.parse(sent):\n",
    "    print(tree)"
   ]
  },
  {
   "cell_type": "code",
   "execution_count": 101,
   "metadata": {},
   "outputs": [
    {
     "data": {
      "text/plain": [
       "26"
      ]
     },
     "execution_count": 101,
     "metadata": {},
     "output_type": "execute_result"
    }
   ],
   "source": [
    "len(sent)"
   ]
  },
  {
   "cell_type": "markdown",
   "metadata": {},
   "source": [
    "##### 10. \n",
    "\n",
    "☼ Use the graphical chart-parser interface to experiment with different rule invocation strategies. Come up with your own strategy that you can execute manually using the graphical interface. Describe the steps, and report any efficiency improvements it has (e.g. in terms of the size of the resulting chart). Do these improvements depend on the structure of the grammar? What do you think of the prospects for significant performance boosts from cleverer rule invocation strategies?\n",
    "\n",
    "*As was the case with the other apps, calling `nltk.app.chartparser()` will the app to open in a new window, so I won't be calling it from this notebook.*\n",
    "\n",
    "*Unfortunately, there's no tally on the app showing how many steps were needed to find the parses, so it's a little difficult to do a side-by-side comparison.  Here's what I found using the different rules:*\n",
    "\n",
    "__Top Down Init Rule__: did not produce a result\n",
    "\n",
    "__Top Down Predict Rule__: did not produce a result\n",
    "\n",
    "__Bottom Up Predict Rule__: very quick, but only produced one parse when the grammar makes two possible\n",
    "\n",
    "__Bottom Up Left-Corner Predict Rule__: also very quick, but failed on one parse\n",
    "\n",
    "__Fundamental Rule__: no result\n",
    "\n",
    "__Top Down Strategy__: slow, but generated two parses\n",
    "\n",
    "__Bottom Up Strategy__: slow, but generated two parses\n",
    "\n",
    "__Bottom Up Left-Corner Strategy__: slow, but quicker than previous two\n",
    "\n",
    "*The only \"strategy\" I came up with was to use the quickest one that produced the correct number of parses, which here was the __Bottom Up Left-Corner Strategy__. I'm not in the mood now to try all of the possible variations of strategies, so I'm going to leave this part of the question unanswered. However, it's hard to think that the structure of the grammar wouldn't have an effect on the efficiency of the parser, since grammars that allow for more than one possible parses are going to require more steps than grammars that only allow one possible parse.*"
   ]
  },
  {
   "cell_type": "markdown",
   "metadata": {},
   "source": [
    "##### 11.\n",
    "\n",
    "☼ With pen and paper, manually trace the execution of a recursive descent parser and a shift-reduce parser, for a CFG you have already seen, or one of your own devising.\n",
    "\n",
    "*Obviously, I'm not going to reproduce this in a markdown cell.  Since this is a lot of work, I used the very simple grammar at the beginning of the chapter for the Groucho Marx quote.  One thing I wondered about both parsers was how they go back to look for alternative parses after they have found a successful one.\n",
    "\n",
    "##### 12.\n",
    "\n",
    "☼ We have seen that a chart parser adds but never removes edges from a chart. Why?\n",
    "\n",
    "*It's difficult to find a definitive answer, but it appears that since nodes may be used again in a different grammar production, it would be unwise to remove them.*\n",
    "\n",
    "##### 13.\n",
    "\n",
    "☼ Consider the sequence of words: *Buffalo buffalo Buffalo buffalo buffalo buffalo Buffalo buffalo*. This is a grammatically correct sentence, as explained on [this wikipedia page](http://en.wikipedia.org/wiki/Buffalo_buffalo_Buffalo_buffalo_buffalo_buffalo_Buffalo_buffalo \"buffalo ...\"). Consider the tree diagram presented on this Wikipedia page, and write down a suitable grammar. Normalize case to lowercase, to simulate the problem that a listener has when hearing this sentence. Can you find other parses for this sentence? How does the number of parse trees grow as the sentence gets longer? (More examples of these sentences can be found [here](http://en.wikipedia.org/wiki/List_of_homophonous_phrases \"more humorous phrases\").)\n",
    "\n",
    "\n",
    "*Here is a simple grammar based on the parse on the Wikipedia page:*\n",
    "\n"
   ]
  },
  {
   "cell_type": "code",
   "execution_count": 117,
   "metadata": {},
   "outputs": [
    {
     "name": "stdout",
     "output_type": "stream",
     "text": [
      "(S\n",
      "  (NP\n",
      "    (NP (PN Buffalo) (N buffalo))\n",
      "    (RC (NP (PN Buffalo) (N buffalo)) (V buffalo)))\n",
      "  (VP (V buffalo) (NP (PN Buffalo) (N buffalo))))\n"
     ]
    }
   ],
   "source": [
    "grammar1 = nltk.CFG.fromstring(\"\"\"\n",
    "  S -> NP VP\n",
    "  NP -> NP RC | PN N\n",
    "  RC -> NP V\n",
    "  VP -> V NP \n",
    "  V -> \"buffalo\"\n",
    "  N -> \"buffalo\"\n",
    "  PN -> \"Buffalo\"\n",
    "  \"\"\")\n",
    "\n",
    "sent = \"Buffalo buffalo Buffalo buffalo buffalo buffalo Buffalo buffalo\".split()\n",
    "cp_parser = nltk.ChartParser(grammar1)\n",
    "for tree in cp_parser.parse(sent):\n",
    "    print(tree)"
   ]
  },
  {
   "cell_type": "markdown",
   "metadata": {},
   "source": [
    "*If we convert all occurrences of 'buffalo' to lowercase, there are two possible parses in this grammar.*"
   ]
  },
  {
   "cell_type": "code",
   "execution_count": 132,
   "metadata": {},
   "outputs": [
    {
     "name": "stdout",
     "output_type": "stream",
     "text": [
      "(S\n",
      "  (NP\n",
      "    (NP (PN buffalo) (N buffalo))\n",
      "    (RC (NP (PN buffalo) (N buffalo)) (V buffalo)))\n",
      "  (VP (V buffalo) (NP (PN buffalo) (N buffalo))))\n",
      "(S\n",
      "  (NP (PN buffalo) (N buffalo))\n",
      "  (VP\n",
      "    (V buffalo)\n",
      "    (NP\n",
      "      (NP (PN buffalo) (N buffalo))\n",
      "      (RC (NP (PN buffalo) (N buffalo)) (V buffalo)))))\n"
     ]
    }
   ],
   "source": [
    "grammar1 = nltk.CFG.fromstring(\"\"\"\n",
    "  S -> NP VP\n",
    "  NP -> NP RC | PN N\n",
    "  RC -> NP V\n",
    "  VP -> V NP \n",
    "  V -> \"buffalo\"\n",
    "  N -> \"buffalo\"\n",
    "  PN -> \"buffalo\"\n",
    "  \"\"\")\n",
    "\n",
    "sent = [\"buffalo\"] * 8\n",
    "cp_parser = nltk.ChartParser(grammar1)\n",
    "\n",
    "for tree in cp_parser.parse(sent):\n",
    "    print(tree)\n",
    "    "
   ]
  },
  {
   "cell_type": "markdown",
   "metadata": {},
   "source": [
    "*If we increase the length of the sentence by intervals of 3, the number of possible parses follows the same pattern as the Catalan numbers.  For sentences with lengths between those intervals (e.g., 9, 10, 12, 13, 15, 16, etc...), the number of possible parses is 0.  For a sentence with more than 29 words, the code below takes a considerable amount of time to run.*"
   ]
  },
  {
   "cell_type": "code",
   "execution_count": 135,
   "metadata": {},
   "outputs": [
    {
     "data": {
      "text/plain": [
       "[2, 5, 14, 42, 132, 429, 1430, 4862]"
      ]
     },
     "execution_count": 135,
     "metadata": {},
     "output_type": "execute_result"
    }
   ],
   "source": [
    "[sum([1 for tree in cp_parser.parse([\"buffalo\"] * i)]) for i in range(8, 30, 3)]"
   ]
  },
  {
   "cell_type": "markdown",
   "metadata": {},
   "source": [
    "##### 14. \n",
    "\n",
    "◑ You can modify the grammar in the recursive descent parser demo by selecting *Edit Grammar* in the *Edit* menu. Change the second expansion production, namely `NP -> Det N PP`, to `NP -> NP PP`. Using the *Step* button, try to build a parse tree. What happens?\n",
    "\n",
    "*The parser will try to recursively expand `NP` to `NP PP` __ad infinitum__.*"
   ]
  },
  {
   "cell_type": "markdown",
   "metadata": {},
   "source": [
    "##### 15.\n",
    "\n",
    "◑ Extend the grammar in `grammar2` with productions that expand prepositions as intransitive, transitive and requiring a `PP` complement. Based on these productions, use the method of the preceding exercise to draw a tree for the sentence *Lee ran away home*.\n",
    "\n",
    "*Adjectives can't be transitive or intransitive.  Transitivity is a property of verbs.  The authors of this book has Ph.D's in Computational Linguistics, so surely they know this.  What they probably lack are qualifications in proofreading, as this is what must surely be another example of an error in this book.  Likewise, the preceding exercise has nothing to do with trees.*\n",
    "\n",
    "*Creating a very simplified grammar for this exercise:*"
   ]
  },
  {
   "cell_type": "code",
   "execution_count": 140,
   "metadata": {},
   "outputs": [],
   "source": [
    "grammar2 = nltk.CFG.fromstring(\"\"\"\n",
    "  S  -> NP VP\n",
    "  NP -> PropN | Det N\n",
    "  VP -> TV NP | V PP | IV\n",
    "  PP -> P Comp\n",
    "  PropN -> 'Lee'\n",
    "  Det -> 'the' | 'a'\n",
    "  N -> 'bear' | 'squirrel' | 'tree' | 'fish' | 'log'\n",
    "  TV -> 'ate'\n",
    "  IV -> 'smiled'\n",
    "  V ->  'ran'\n",
    "  P -> 'away'\n",
    "  Comp -> 'home'\n",
    "  \"\"\")"
   ]
  },
  {
   "cell_type": "code",
   "execution_count": 141,
   "metadata": {},
   "outputs": [
    {
     "name": "stdout",
     "output_type": "stream",
     "text": [
      "(S (NP (PropN Lee)) (VP (V ran) (PP (P away) (Comp home))))\n"
     ]
    }
   ],
   "source": [
    "rd_parser = nltk.RecursiveDescentParser(grammar2)\n",
    "sent = 'Lee ran away home'.split()\n",
    "for tree in rd_parser.parse(sent):\n",
    "    print(tree)"
   ]
  },
  {
   "cell_type": "code",
   "execution_count": 158,
   "metadata": {},
   "outputs": [
    {
     "data": {
      "image/png": "[encoded data removed]",
      "text/plain": [
       "Tree('S', [Tree('NP', [Tree('PropN', ['Lee'])]), Tree('VP', [Tree('V', ['ran']), Tree('PP', [Tree('P', ['away']), Tree('Comp', ['home'])])])])"
      ]
     },
     "execution_count": 158,
     "metadata": {},
     "output_type": "execute_result"
    }
   ],
   "source": [
    "trees = []\n",
    "for tree in rd_parser.parse(sent):\n",
    "    trees.append(str(tree))\n",
    "\n",
    "nltk.Tree.fromstring(trees[0])"
   ]
  },
  {
   "cell_type": "markdown",
   "metadata": {},
   "source": [
    "##### 16. \n",
    "\n",
    "◑ Pick some common verbs and complete the following tasks:\n",
    "\n",
    "* a. Write a program to find those verbs in the Prepositional Phrase Attachment Corpus `nltk.corpus.ppattach`. Find any cases where the same verb exhibits two different attachments, but where the first noun, or second noun, or preposition, stay unchanged (as we saw in our discussion of syntactic ambiguity in [2](https://www.nltk.org/book/ch08.html#sec-whats-the-use-of-syntax).\n",
    "\n",
    "* b. Devise CFG grammar productions to cover some of these cases.\n",
    "\n",
    "*The authors assume it's perfectly clear what they're asking for, but to me it's as clear as mud.  An example would help immensely.  It doesn't help matters that they introduced this corpus without giving any commentary on its background, and we're left on our own to figure out what's inside this corpus.  I did a little research, but I'm still a little fuzzy on the concept of attachment.*\n",
    "\n",
    "*I decided to focus on the verbs 'come', 'get', 'give', 'go', 'look', and 'take'.  Through experience I know that these verbs often collocate with prepositions, but I didn't confirm empirically that these verbs take prepositions more often than other verbs:*"
   ]
  },
  {
   "cell_type": "code",
   "execution_count": 4,
   "metadata": {},
   "outputs": [],
   "source": [
    "verbs = [\"come\", \"get\", \"give\", \"go\", \"look\", \"take\"]\n",
    "\n",
    "from collections import defaultdict\n",
    "entries = nltk.corpus.ppattach.attachments('training')\n",
    "table = defaultdict(lambda: defaultdict(set))\n",
    "for entry in entries:\n",
    "    if entry.verb in verbs:\n",
    "        key = entry.verb \n",
    "        # same noun1\n",
    "        noun1 = entry.noun1 + '_1'\n",
    "        table[key][noun1].add(entry.attachment)\n",
    "        # same noun2\n",
    "        noun2 = entry.noun2 + '_2'\n",
    "        table[key][noun2].add(entry.attachment)\n",
    "        # same preposition\n",
    "        table[key][entry.prep].add(entry.attachment)\n",
    "        \n"
   ]
  },
  {
   "cell_type": "markdown",
   "metadata": {},
   "source": [
    "*A list of verb-noun and verb-preposition combinations for verbs that take two attachments.  The number after certain nouns refers to whether the noun is the first or second noun in the entry:*"
   ]
  },
  {
   "cell_type": "code",
   "execution_count": 5,
   "metadata": {},
   "outputs": [
    {
     "name": "stdout",
     "output_type": "stream",
     "text": [
      "get at ['N', 'V']\n",
      "get business_2 ['N', 'V']\n",
      "get dollars_2 ['N', 'V']\n",
      "get feeling_1 ['N', 'V']\n",
      "get for ['N', 'V']\n",
      "get from ['N', 'V']\n",
      "get in ['N', 'V']\n",
      "get license_1 ['N', 'V']\n",
      "get number_1 ['N', 'V']\n",
      "get on ['N', 'V']\n",
      "get pound_1 ['N', 'V']\n",
      "get price_1 ['N', 'V']\n",
      "get sort_1 ['N', 'V']\n",
      "get to ['N', 'V']\n",
      "get without ['N', 'V']\n",
      "give about ['N', 'V']\n",
      "give answers_1 ['N', 'V']\n",
      "give assessment_1 ['N', 'V']\n",
      "give boost_1 ['N', 'V']\n",
      "give firms_2 ['N', 'V']\n",
      "give for ['N', 'V']\n",
      "give in ['N', 'V']\n",
      "give leaders_1 ['N', 'V']\n",
      "give lot_1 ['N', 'V']\n",
      "give offer_2 ['N', 'V']\n",
      "give part_1 ['N', 'V']\n",
      "give protection_1 ['N', 'V']\n",
      "give sets_1 ['N', 'V']\n",
      "give some_1 ['N', 'V']\n",
      "give stake_1 ['N', 'V']\n",
      "give time_2 ['N', 'V']\n",
      "give to ['N', 'V']\n",
      "go hand_1 ['N', 'V']\n",
      "go in ['N', 'V']\n",
      "go to ['N', 'V']\n",
      "go way_1 ['N', 'V']\n",
      "take action_1 ['N', 'V']\n",
      "take against ['N', 'V']\n",
      "take applications_1 ['N', 'V']\n",
      "take at ['N', 'V']\n",
      "take charge_1 ['N', 'V']\n",
      "take charges_1 ['N', 'V']\n",
      "take control_1 ['N', 'V']\n",
      "take days_2 ['N', 'V']\n",
      "take deduction_1 ['N', 'V']\n",
      "take effect_1 ['N', 'V']\n",
      "take for ['N', 'V']\n",
      "take from ['N', 'V']\n",
      "take in ['N', 'V']\n",
      "take issue_2 ['N', 'V']\n",
      "take look_1 ['N', 'V']\n",
      "take market_2 ['N', 'V']\n",
      "take on ['N', 'V']\n",
      "take part_1 ['N', 'V']\n",
      "take problems_2 ['N', 'V']\n",
      "take role_1 ['N', 'V']\n",
      "take some_1 ['N', 'V']\n",
      "take to ['N', 'V']\n",
      "take with ['N', 'V']\n",
      "take write-offs_1 ['N', 'V']\n"
     ]
    }
   ],
   "source": [
    "for v in verbs:\n",
    "    for key in sorted(table[v]):\n",
    "        if len(table[v][key]) > 1:\n",
    "            print(v, key, sorted(table[v][key]))"
   ]
  },
  {
   "cell_type": "markdown",
   "metadata": {},
   "source": [
    "*After looking through the list, I decided to focus on examples with 'get' and 'on':*"
   ]
  },
  {
   "cell_type": "code",
   "execution_count": 9,
   "metadata": {},
   "outputs": [
    {
     "name": "stdout",
     "output_type": "stream",
     "text": [
      "PPAttachment(sent='1445', verb='get', noun1='return', prep='on', noun2='investment', attachment='N')\n",
      "PPAttachment(sent='5072', verb='get', noun1='hands', prep='on', noun2='some', attachment='V')\n",
      "PPAttachment(sent='6424', verb='get', noun1='attention', prep='on', noun2='anything', attachment='N')\n",
      "PPAttachment(sent='9020', verb='get', noun1='ideas', prep='on', noun2='issue', attachment='N')\n",
      "PPAttachment(sent='13366', verb='get', noun1='contracts', prep='on', noun2='basis', attachment='V')\n",
      "PPAttachment(sent='14798', verb='get', noun1='it', prep='on', noun2='line', attachment='V')\n",
      "PPAttachment(sent='15597', verb='get', noun1='broker', prep='on', noun2='phone', attachment='V')\n",
      "PPAttachment(sent='19796', verb='get', noun1='yields', prep='on', noun2='funds', attachment='N')\n",
      "PPAttachment(sent='21750', verb='get', noun1='lock', prep='on', noun2='games', attachment='N')\n",
      "PPAttachment(sent='30488', verb='get', noun1='vote', prep='on', noun2='day', attachment='V')\n",
      "PPAttachment(sent='34668', verb='get', noun1='yields', prep='on', noun2='paper', attachment='N')\n",
      "PPAttachment(sent='36141', verb='get', noun1='grasp', prep='on', noun2='volume', attachment='N')\n",
      "PPAttachment(sent='38771', verb='get', noun1='price', prep='on', noun2='space', attachment='N')\n",
      "PPAttachment(sent='39029', verb='get', noun1='quotes', prep='on', noun2='stocks', attachment='N')\n"
     ]
    }
   ],
   "source": [
    "for entry in entries:\n",
    "    if entry.verb == 'get' and entry.prep == 'on':\n",
    "        print(entry)"
   ]
  },
  {
   "cell_type": "markdown",
   "metadata": {},
   "source": [
    "*After playing around with a very simple grammar contrived specifically for these two grammars, it doesn't seem feasible to construct a grammar that will unamibiguously parse the sentences with the correct attachments:*"
   ]
  },
  {
   "cell_type": "code",
   "execution_count": 51,
   "metadata": {},
   "outputs": [],
   "source": [
    "grammar3 = nltk.CFG.fromstring(\"\"\"\n",
    "  S  -> NP VP\n",
    "  NP -> PRP | N PP | N | Det N\n",
    "  VP -> MD VP | V NP | V NP PP \n",
    "  PRP -> 'I'\n",
    "  Det -> 'the' \n",
    "  N -> 'hands' | 'some' | 'ideas' | 'issue'\n",
    "  PP -> P NP\n",
    "  MD -> M Inf\n",
    "  M -> 'want'\n",
    "  Inf -> 'to'\n",
    "  V -> 'get'\n",
    "  P -> 'on'\n",
    "  \"\"\")"
   ]
  },
  {
   "cell_type": "code",
   "execution_count": 52,
   "metadata": {},
   "outputs": [
    {
     "name": "stdout",
     "output_type": "stream",
     "text": [
      "(S\n",
      "  (NP (PRP I))\n",
      "  (VP\n",
      "    (MD (M want) (Inf to))\n",
      "    (VP (V get) (NP (N hands) (PP (P on) (NP (N some)))))))\n",
      "(S\n",
      "  (NP (PRP I))\n",
      "  (VP\n",
      "    (MD (M want) (Inf to))\n",
      "    (VP (V get) (NP (N hands)) (PP (P on) (NP (N some))))))\n"
     ]
    }
   ],
   "source": [
    "rd_parser = nltk.RecursiveDescentParser(grammar3)\n",
    "sent = 'I want to get hands on some'.split()\n",
    "for tree in rd_parser.parse(sent):\n",
    "    print(tree)"
   ]
  },
  {
   "cell_type": "code",
   "execution_count": 53,
   "metadata": {},
   "outputs": [
    {
     "data": {
      "image/png": "[encoded data removed]",
      "text/plain": [
       "Tree('S', [Tree('NP', [Tree('PRP', ['I'])]), Tree('VP', [Tree('MD', [Tree('M', ['want']), Tree('Inf', ['to'])]), Tree('VP', [Tree('V', ['get']), Tree('NP', [Tree('N', ['hands']), Tree('PP', [Tree('P', ['on']), Tree('NP', [Tree('N', ['some'])])])])])])])"
      ]
     },
     "execution_count": 53,
     "metadata": {},
     "output_type": "execute_result"
    }
   ],
   "source": [
    "trees = []\n",
    "for tree in rd_parser.parse(sent):\n",
    "    trees.append(str(tree))\n",
    "\n",
    "nltk.Tree.fromstring(trees[0])"
   ]
  },
  {
   "cell_type": "code",
   "execution_count": 39,
   "metadata": {},
   "outputs": [
    {
     "data": {
      "image/png": "[encoded data removed]",
      "text/plain": [
       "Tree('S', [Tree('NP', [Tree('PRP', ['I'])]), Tree('VP', [Tree('MD', [Tree('M', ['want']), Tree('Inf', ['to'])]), Tree('VP', [Tree('V', ['get']), Tree('NP', [Tree('N', ['hands'])]), Tree('PP', [Tree('P', ['on']), Tree('NP', [Tree('N', ['some'])])])])])])"
      ]
     },
     "execution_count": 39,
     "metadata": {},
     "output_type": "execute_result"
    }
   ],
   "source": [
    "nltk.Tree.fromstring(trees[1])"
   ]
  },
  {
   "cell_type": "code",
   "execution_count": 40,
   "metadata": {},
   "outputs": [
    {
     "name": "stdout",
     "output_type": "stream",
     "text": [
      "(S\n",
      "  (NP (PRP I))\n",
      "  (VP\n",
      "    (MD (M want) (Inf to))\n",
      "    (VP (V get) (NP (N ideas) (PP (P on) (NP (Det the) (N issue)))))))\n",
      "(S\n",
      "  (NP (PRP I))\n",
      "  (VP\n",
      "    (MD (M want) (Inf to))\n",
      "    (VP (V get) (NP (N ideas)) (PP (P on) (NP (Det the) (N issue))))))\n"
     ]
    }
   ],
   "source": [
    "rd_parser = nltk.RecursiveDescentParser(grammar3)\n",
    "sent = 'I want to get ideas on the issue'.split()\n",
    "for tree in rd_parser.parse(sent):\n",
    "    print(tree)"
   ]
  },
  {
   "cell_type": "code",
   "execution_count": 41,
   "metadata": {},
   "outputs": [
    {
     "data": {
      "image/png": "[encoded data removed]",
      "text/plain": [
       "Tree('S', [Tree('NP', [Tree('PRP', ['I'])]), Tree('VP', [Tree('MD', [Tree('M', ['want']), Tree('Inf', ['to'])]), Tree('VP', [Tree('V', ['get']), Tree('NP', [Tree('N', ['ideas']), Tree('PP', [Tree('P', ['on']), Tree('NP', [Tree('Det', ['the']), Tree('N', ['issue'])])])])])])])"
      ]
     },
     "execution_count": 41,
     "metadata": {},
     "output_type": "execute_result"
    }
   ],
   "source": [
    "trees = []\n",
    "for tree in rd_parser.parse(sent):\n",
    "    trees.append(str(tree))\n",
    "\n",
    "nltk.Tree.fromstring(trees[0])"
   ]
  },
  {
   "cell_type": "code",
   "execution_count": 42,
   "metadata": {},
   "outputs": [
    {
     "data": {
      "image/png": "[encoded data removed]",
      "text/plain": [
       "Tree('S', [Tree('NP', [Tree('PRP', ['I'])]), Tree('VP', [Tree('MD', [Tree('M', ['want']), Tree('Inf', ['to'])]), Tree('VP', [Tree('V', ['get']), Tree('NP', [Tree('N', ['ideas'])]), Tree('PP', [Tree('P', ['on']), Tree('NP', [Tree('Det', ['the']), Tree('N', ['issue'])])])])])])"
      ]
     },
     "execution_count": 42,
     "metadata": {},
     "output_type": "execute_result"
    }
   ],
   "source": [
    "nltk.Tree.fromstring(trees[1])"
   ]
  },
  {
   "cell_type": "markdown",
   "metadata": {},
   "source": [
    "##### 17. \n",
    "\n",
    "◑ Write a program to compare the efficiency of a top-down chart parser compared with a recursive descent parser [4](https://www.nltk.org/book/ch08.html#sec-parsing). Use the same grammar and input sentences for both. Compare their performance using the `timeit` module (see [4.7](https://www.nltk.org/book/ch04.html#sec-algorithm-design) for an example of how to do this).\n",
    "\n",
    "*Jupyter has a built-in `timeit` magic command, so I'm just going to use that:*"
   ]
  },
  {
   "cell_type": "code",
   "execution_count": 144,
   "metadata": {},
   "outputs": [],
   "source": [
    "groucho_grammar = nltk.CFG.fromstring(\"\"\"\n",
    "S -> NP VP\n",
    "PP -> P NP\n",
    "NP -> Det N | Det N PP | 'I'\n",
    "VP -> V NP | VP PP\n",
    "Det -> 'an' | 'my'\n",
    "N -> 'elephant' | 'pajamas'\n",
    "V -> 'shot'\n",
    "P -> 'in'\n",
    "\"\"\")"
   ]
  },
  {
   "cell_type": "code",
   "execution_count": 55,
   "metadata": {},
   "outputs": [
    {
     "name": "stdout",
     "output_type": "stream",
     "text": [
      "733 µs ± 97.1 µs per loop (mean ± std. dev. of 7 runs, 1000 loops each)\n"
     ]
    }
   ],
   "source": [
    "%%timeit\n",
    "\n",
    "sent = 'I shot an elephant in my pajamas'.split()\n",
    "parser = nltk.ChartParser(groucho_grammar)\n",
    "parser.parse(sent)"
   ]
  },
  {
   "cell_type": "code",
   "execution_count": 57,
   "metadata": {},
   "outputs": [
    {
     "name": "stdout",
     "output_type": "stream",
     "text": [
      "4.3 µs ± 327 ns per loop (mean ± std. dev. of 7 runs, 100000 loops each)\n"
     ]
    }
   ],
   "source": [
    "%%timeit\n",
    "\n",
    "sent = 'I shot an elephant in my pajamas'.split()\n",
    "rd_parser = nltk.RecursiveDescentParser(groucho_grammar)\n",
    "rd_parser.parse(sent)"
   ]
  },
  {
   "cell_type": "markdown",
   "metadata": {},
   "source": [
    "*According to this experiment, the Recursive Descent Parser is about 200 times faster.*\n",
    "\n",
    "*I tried again, this time with the comically-long sentence from exercise 9, and here found the Recursive Descent Parser was 500 times faster.*"
   ]
  },
  {
   "cell_type": "code",
   "execution_count": 59,
   "metadata": {},
   "outputs": [],
   "source": [
    "grammar1 = nltk.CFG.fromstring(\"\"\"\n",
    "  S -> NP VP\n",
    "  VP -> V NP | V NP PP\n",
    "  PP -> P NP\n",
    "  V -> \"saw\" | \"ate\" | \"walked\"\n",
    "  NP -> \"John\" | \"Mary\" | \"Bob\" | Det N | Det N PP\n",
    "  Det -> \"a\" | \"an\" | \"the\" | \"my\"\n",
    "  N -> \"man\" | \"dog\" | \"cat\" | \"telescope\" | \"park\"\n",
    "  P -> \"in\" | \"on\" | \"by\" | \"with\"\n",
    "  \"\"\")"
   ]
  },
  {
   "cell_type": "code",
   "execution_count": 61,
   "metadata": {},
   "outputs": [
    {
     "name": "stdout",
     "output_type": "stream",
     "text": [
      "8.04 µs ± 299 ns per loop (mean ± std. dev. of 7 runs, 100000 loops each)\n"
     ]
    }
   ],
   "source": [
    "%%timeit\n",
    "\n",
    "sent = \"a dog in the park by the cat with the telescope on the dog ate the man in the park by the cat with the telescope\".split()\n",
    "rd_parser = nltk.RecursiveDescentParser(grammar1)\n",
    "rd_parser.parse(sent)\n",
    "    "
   ]
  },
  {
   "cell_type": "code",
   "execution_count": 62,
   "metadata": {},
   "outputs": [
    {
     "name": "stdout",
     "output_type": "stream",
     "text": [
      "4.09 ms ± 296 µs per loop (mean ± std. dev. of 7 runs, 100 loops each)\n"
     ]
    }
   ],
   "source": [
    "%%timeit\n",
    "\n",
    "sent = \"a dog in the park by the cat with the telescope on the dog ate the man in the park by the cat with the telescope\".split()\n",
    "parser = nltk.ChartParser(grammar1)\n",
    "parser.parse(sent)"
   ]
  },
  {
   "cell_type": "markdown",
   "metadata": {},
   "source": [
    "##### 18.\n",
    "\n",
    "◑ Compare the performance of the top-down, bottom-up, and left-corner parsers using the same grammar and three grammatical test sentences. Use `timeit` to log the amount of time each parser takes on the same sentence. Write a function that runs all three parsers on all three sentences, and prints a 3-by-3 grid of times, as well as row and column totals. Discuss your findings."
   ]
  },
  {
   "cell_type": "markdown",
   "metadata": {},
   "source": [
    "*This is the grammar from `nltk.app.srparser()`.*"
   ]
  },
  {
   "cell_type": "code",
   "execution_count": 78,
   "metadata": {},
   "outputs": [],
   "source": [
    "grammar4 = nltk.CFG.fromstring(\"\"\"\n",
    "S -> NP VP\n",
    "NP -> Det N | NP PP\n",
    "VP -> VP PP | V NP PP | V NP\n",
    "PP -> P NP\n",
    "NP -> 'I'\n",
    "Det -> 'the' | 'a'\n",
    "N -> 'man'\n",
    "V -> 'saw'\n",
    "P -> 'in' | 'with'\n",
    "N -> 'park' | 'dog' | 'statue'\n",
    "Det -> 'my'\n",
    "\"\"\")"
   ]
  },
  {
   "cell_type": "markdown",
   "metadata": {},
   "source": [
    "*It took a bit of trial and error to get the margins to print correctly.  I thought it was a bit naff to have a function that could only work with three sentences, so I generalized the function so that it could work with any number of sentences. Ideally, it would also work with any number of parsers, but that would take more futzing about that I'm willing to devote now.*\n",
    "\n",
    "*Also, this is not a particularly good way to use `timeit`.  `timeit` is normally used with a single function, and is looped a number of times (I think the default is 1,000,000) to find the average running time.  The method here uses \"wall-clock time\" (i.e., real time) to calculate how long a function takes.  But this can of course be impacted by other processes simultaneously being run by the processor.*\n",
    "\n",
    "*Long story short: it's difficult to use `timeit` with a function that is called numerous times with different arguments.  Since the focus of this exercise was printing the results of various function calls, I decided to use the less efficient method of `timeit`, since it was easier to save the elapsed time and print it later.*"
   ]
  },
  {
   "cell_type": "code",
   "execution_count": 201,
   "metadata": {},
   "outputs": [],
   "source": [
    "import timeit, nltk\n",
    "\n",
    "def time_parsers(sents, grammar):\n",
    "    \"\"\"\n",
    "    Times the performances of three parsers over\n",
    "    a list of sentences.\n",
    "    \"\"\"\n",
    "    \n",
    "    top_down = nltk.TopDownChartParser(grammar)\n",
    "    bottom_up = nltk.BottomUpChartParser(grammar)\n",
    "    left_corner = nltk.LeftCornerChartParser(grammar)\n",
    "\n",
    "    parsers = [top_down, bottom_up, left_corner]\n",
    "\n",
    "    t = []\n",
    "\n",
    "    for sent in sents:\n",
    "        for parser in parsers:\n",
    "            start = timeit.default_timer()\n",
    "            parser.parse(sent)\n",
    "            end = timeit.default_timer()\n",
    "            t.append(end - start)\n",
    "\n",
    "    ch = [\"\", \"Top Down\", \"Bottom Up\", \"Left Corner\", \"Row Totals\"]\n",
    "    print(\"{:12}{:12}{:12}{:13}{:12}\".format(ch[0], ch[1], ch[2], \n",
    "                                              ch[3], ch[4]))\n",
    "    l = len(sents)\n",
    "    for i in range(l):\n",
    "        print(\"{:12}{:<12.8}{:<12.8}{:<13.8}{:<12.8}\".format(\n",
    "                                   \"Sent \" + str(i + 1), \n",
    "                                    t[(3 * i) + 0], \n",
    "                                    t[(3 * i) + 1], \n",
    "                                    t[(3 * i) + 2], \n",
    "                                    sum(t[(3 * i) + 0:(3 * i) + 3])))\n",
    "    col1 = sum(t[i] for i in range(0, l * 3, 3))\n",
    "    col2 = sum(t[i] for i in range(1, l * 3, 3))\n",
    "    col3 = sum(t[i] for i in range(2, l * 3, 3))\n",
    "    print(\"{:12}{:<12.8}{:<12.8}{:<13.8}\".format(\"Col Totals\",\n",
    "                                        col1, col2, col3))"
   ]
  },
  {
   "cell_type": "code",
   "execution_count": 202,
   "metadata": {},
   "outputs": [
    {
     "name": "stdout",
     "output_type": "stream",
     "text": [
      "            Top Down    Bottom Up   Left Corner  Row Totals  \n",
      "Sent 1      0.0024459   0.004561    0.0017906    0.0087975   \n",
      "Sent 2      0.0016104   0.0020598   0.0008969    0.0045671   \n",
      "Sent 3      0.0029495   0.0055959   0.0026318    0.0111772   \n",
      "Col Totals  0.0070058   0.0122167   0.0053193    \n"
     ]
    }
   ],
   "source": [
    "sent1 = \"I saw a dog in the park with a statue\".split()\n",
    "sent2 = \"a man with a statue in the park saw a dog\".split()\n",
    "sent3 = \"a dog saw the man with a statue in the park\".split()\n",
    "\n",
    "sents = [sent1, sent2, sent3]\n",
    "\n",
    "time_parsers(sents, grammar4)"
   ]
  },
  {
   "cell_type": "code",
   "execution_count": 203,
   "metadata": {},
   "outputs": [
    {
     "name": "stdout",
     "output_type": "stream",
     "text": [
      "            Top Down    Bottom Up   Left Corner  Row Totals  \n",
      "Sent 1      0.0035462   0.0022168   0.0011673    0.0069303   \n",
      "Sent 2      0.0030834   0.0016419   0.0008783    0.0056036   \n",
      "Col Totals  0.0066296   0.0038587   0.0020456    \n"
     ]
    }
   ],
   "source": [
    "sent1 = \"I saw a dog in the park with a statue\".split()\n",
    "sent2 = \"a man with a statue in the park saw a dog\".split()\n",
    "\n",
    "\n",
    "sents = [sent1, sent2]\n",
    "\n",
    "time_parsers(sents, grammar4)"
   ]
  },
  {
   "cell_type": "code",
   "execution_count": 204,
   "metadata": {},
   "outputs": [
    {
     "name": "stdout",
     "output_type": "stream",
     "text": [
      "            Top Down    Bottom Up   Left Corner  Row Totals  \n",
      "Sent 1      0.0022707   0.0047252   0.0025845    0.0095804   \n",
      "Sent 2      0.0034108   0.003093    0.0018264    0.0083302   \n",
      "Sent 3      0.003062    0.0055818   0.0022666    0.0109104   \n",
      "Sent 4      0.0058332   0.0019049   0.0011092    0.0088473   \n",
      "Col Totals  0.0145767   0.0153049   0.0077867    \n"
     ]
    }
   ],
   "source": [
    "sent1 = \"I saw a dog in the park with a statue\".split()\n",
    "sent2 = \"a man with a statue in the park saw a dog\".split()\n",
    "sent3 = \"a dog saw the man with a statue in the park\".split()\n",
    "sent4 = \"I saw a man with a dog with a statue\".split()\n",
    "\n",
    "sents = [sent1, sent2, sent3, sent4]\n",
    "\n",
    "time_parsers(sents, grammar4)"
   ]
  },
  {
   "cell_type": "markdown",
   "metadata": {},
   "source": [
    "##### 19.\n",
    "\n",
    "◑ Read up on \"garden path\" sentences. How might the computational work of a parser relate to the difficulty humans have with processing these sentences? [Wikipedia entry](http://en.wikipedia.org/wiki/Garden_path_sentence \"garden path sentence\")\n",
    "\n",
    "*Although I'm familiar with the concept, I have to admit that I couldn't think of any examples until I visited the Wikipedia page.*\n",
    "\n",
    "*The easiest example to consider is \"The old man the boat.\" We automatically assume that 'the old man' is a noun phrase, but when we reach the end of the sentence and find that there's no verb, we have to reanalyze all of the words to determine which one could also serve as a verb, and hereby realize that 'man' is actually a verb, and 'old' is not an adjective, but rather the noun in the noun phrase 'the old'.*\n",
    "\n",
    "*Like a computational parser, in \"garden path\" sentences we have to consider every possible part of speech for every word in the sentence.  Then we have to assess if these parts of speech can be assembled to form valid utterances in our grammar.  Normally, we don't need to think twice when debating whether a sentence in our native language is a valid one; but with \"garden path\" sentences, we're forced to use a combination of logic and grammatical awareness to determine if a sentence is possible in our grammar.*\n",
    "\n",
    "##### 20. \n",
    "\n",
    "◑ To compare multiple trees in a single window, we can use the draw_trees() method. Define some trees and try it out:\n"
   ]
  },
  {
   "cell_type": "code",
   "execution_count": 219,
   "metadata": {},
   "outputs": [],
   "source": [
    "from nltk.draw.tree import draw_trees\n",
    "\n",
    "sent1 = \"(S (NP I) (VP (VP (V shot) (NP (Det an) (N elephant))) (PP (P in) (NP (Det my) (N pajamas)))))\"\n",
    "\n",
    "sent2 = \"(S (NP I) (VP (V shot) (NP (Det an) (N elephant) (PP (P in) (NP (Det my) (N pajamas))))))\"\n",
    "\n",
    "draw_trees(nltk.Tree.fromstring(sent1), nltk.Tree.fromstring(sent2))"
   ]
  },
  {
   "cell_type": "markdown",
   "metadata": {},
   "source": [
    "##### 21.\n",
    "\n",
    "◑ Using tree positions, list the subjects of the first 100 sentences in the Penn treebank; to make the results easier to view, limit the extracted subjects to subtrees whose height is 2.\n",
    "\n",
    "*I'm finding this question especially naff.  As far as I can tell, the concept of tree 'height' is never mentioned in this book.  `height()` is a `nltk.Tree` method (source code [here](https://www.nltk.org/_modules/nltk/tree.html#Tree.height \"Tree.height\") and docs [here](https://www.nltk.org/api/nltk.html#nltk.tree.Tree.height \"height docs\")), and from the docs page we can see:*\n",
    "\n",
    "> \"The height of a tree containing no children is 1; the height of a tree containing only leaves is 2; and the height of any other tree is one plus the maximum of its children’s heights.\"\n",
    "\n",
    "*But of course, height depends on how far down in the sentence we drill, and the instructions are a bit lacking in this regard...* "
   ]
  },
  {
   "cell_type": "code",
   "execution_count": 426,
   "metadata": {},
   "outputs": [],
   "source": [
    "from nltk.corpus import treebank\n",
    "\n",
    "sbj = [subtree for tree in treebank.parsed_sents()[:100]\n",
    "         for subtree in tree if subtree.label() == 'NP-SBJ']"
   ]
  },
  {
   "cell_type": "code",
   "execution_count": 452,
   "metadata": {},
   "outputs": [
    {
     "data": {
      "text/plain": [
       "[Tree('NNP', ['Pierre']),\n",
       " Tree('NNP', ['Vinken']),\n",
       " Tree(',', [',']),\n",
       " Tree('CD', ['61']),\n",
       " Tree('NNS', ['years']),\n",
       " Tree('JJ', ['old']),\n",
       " Tree(',', [',']),\n",
       " Tree('NNP', ['Mr.']),\n",
       " Tree('NNP', ['Vinken']),\n",
       " Tree('NNS', ['researchers']),\n",
       " Tree('NNS', ['researchers']),\n",
       " Tree('NNP', ['Lorillard']),\n",
       " Tree('NNP', ['Inc.']),\n",
       " Tree(',', [',']),\n",
       " Tree('DT', ['the']),\n",
       " Tree('NN', ['unit']),\n",
       " Tree('IN', ['of']),\n",
       " Tree('JJ', ['New']),\n",
       " Tree('JJ', ['York-based']),\n",
       " Tree('NNP', ['Loews']),\n",
       " Tree('NNP', ['Corp.']),\n",
       " Tree('WDT', ['that']),\n",
       " Tree('-NONE-', ['*T*-2']),\n",
       " Tree('VBZ', ['makes']),\n",
       " Tree('NNP', ['Kent']),\n",
       " Tree('NNS', ['cigarettes']),\n",
       " Tree(',', [',']),\n",
       " Tree('DT', ['the']),\n",
       " Tree('JJS', ['latest']),\n",
       " Tree('NNS', ['results']),\n",
       " Tree('DT', ['A']),\n",
       " Tree('NNP', ['Lorillard']),\n",
       " Tree('NN', ['spokewoman']),\n",
       " Tree('PRP', ['We']),\n",
       " Tree('EX', ['There']),\n",
       " Tree('DT', ['Neither']),\n",
       " Tree('NNP', ['Lorillard']),\n",
       " Tree('CC', ['nor']),\n",
       " Tree('DT', ['the']),\n",
       " Tree('NNS', ['researchers']),\n",
       " Tree('WP', ['who']),\n",
       " Tree('-NONE-', ['*T*-3']),\n",
       " Tree('VBD', ['studied']),\n",
       " Tree('DT', ['the']),\n",
       " Tree('NNS', ['workers']),\n",
       " Tree('NNP', ['James']),\n",
       " Tree('NNP', ['A.']),\n",
       " Tree('NNP', ['Talcott']),\n",
       " Tree('IN', ['of']),\n",
       " Tree('NNP', ['Boston']),\n",
       " Tree('POS', [\"'s\"]),\n",
       " Tree('NNP', ['Dana-Farber']),\n",
       " Tree('NNP', ['Cancer']),\n",
       " Tree('NNP', ['Institute']),\n",
       " Tree('NNP', ['Dr.']),\n",
       " Tree('NNP', ['Talcott']),\n",
       " Tree('DT', ['The']),\n",
       " Tree('NNP', ['Lorillard']),\n",
       " Tree('NN', ['spokeswoman']),\n",
       " Tree('DT', ['the']),\n",
       " Tree('NN', ['company']),\n",
       " Tree('CD', ['28']),\n",
       " Tree('-NONE-', ['*ICH*-1']),\n",
       " Tree('CD', ['Four']),\n",
       " Tree('IN', ['of']),\n",
       " Tree('DT', ['the']),\n",
       " Tree('CD', ['five']),\n",
       " Tree('VBG', ['surviving']),\n",
       " Tree('NNS', ['workers']),\n",
       " Tree('DT', ['the']),\n",
       " Tree('NNS', ['researchers']),\n",
       " Tree('NNP', ['Dr.']),\n",
       " Tree('NNP', ['Talcott']),\n",
       " Tree('PRP', ['he']),\n",
       " Tree('DT', ['The']),\n",
       " Tree('NN', ['plant']),\n",
       " Tree(',', [',']),\n",
       " Tree('WDT', ['which']),\n",
       " Tree('-NONE-', ['*T*-1']),\n",
       " Tree('VBZ', ['is']),\n",
       " Tree('VBN', ['owned']),\n",
       " Tree('-NONE-', ['*-4']),\n",
       " Tree('IN', ['by']),\n",
       " Tree('NNP', ['Hollingsworth']),\n",
       " Tree('CC', ['&']),\n",
       " Tree('NNP', ['Vose']),\n",
       " Tree('NNP', ['Co.']),\n",
       " Tree(',', [',']),\n",
       " Tree('NNP', ['Dr.']),\n",
       " Tree('NNP', ['Talcott']),\n",
       " Tree('DT', ['The']),\n",
       " Tree('NNP', ['U.S.']),\n",
       " Tree('NNP', ['Dr.']),\n",
       " Tree('NNP', ['Mossman']),\n",
       " Tree('DT', ['the']),\n",
       " Tree('NNP', ['Environmental']),\n",
       " Tree('NNP', ['Protection']),\n",
       " Tree('NNP', ['Agency']),\n",
       " Tree('NNS', ['Areas']),\n",
       " Tree('IN', ['of']),\n",
       " Tree('DT', ['the']),\n",
       " Tree('NN', ['factory']),\n",
       " Tree('-NONE-', ['*ICH*-2']),\n",
       " Tree('NNS', ['Workers']),\n",
       " Tree('NNS', ['Workers']),\n",
       " Tree('NNP', ['Darrell']),\n",
       " Tree('NNP', ['Phillips']),\n",
       " Tree(',', [',']),\n",
       " Tree('NN', ['vice']),\n",
       " Tree('NN', ['president']),\n",
       " Tree('IN', ['of']),\n",
       " Tree('JJ', ['human']),\n",
       " Tree('NNS', ['resources']),\n",
       " Tree('IN', ['for']),\n",
       " Tree('NNP', ['Hollingsworth']),\n",
       " Tree('CC', ['&']),\n",
       " Tree('NNP', ['Vose']),\n",
       " Tree('PRP', ['It']),\n",
       " Tree('DT', ['The']),\n",
       " Tree('JJ', ['average']),\n",
       " Tree('JJ', ['seven-day']),\n",
       " Tree('NN', ['compound']),\n",
       " Tree('NN', ['yield']),\n",
       " Tree('IN', ['of']),\n",
       " Tree('DT', ['the']),\n",
       " Tree('CD', ['400']),\n",
       " Tree('JJ', ['taxable']),\n",
       " Tree('NNS', ['funds']),\n",
       " Tree('VBN', ['tracked']),\n",
       " Tree('-NONE-', ['*']),\n",
       " Tree('IN', ['by']),\n",
       " Tree('NNP', ['IBC']),\n",
       " Tree('POS', [\"'s\"]),\n",
       " Tree('NNP', ['Money']),\n",
       " Tree('NNP', ['Fund']),\n",
       " Tree('NNP', ['Report']),\n",
       " Tree('NN', ['Compound']),\n",
       " Tree('NNS', ['yields']),\n",
       " Tree('JJ', ['Average']),\n",
       " Tree('NN', ['maturity']),\n",
       " Tree('IN', ['of']),\n",
       " Tree('DT', ['the']),\n",
       " Tree('NNS', ['funds']),\n",
       " Tree('POS', [\"'\"]),\n",
       " Tree('NNS', ['investments']),\n",
       " Tree('DT', ['The']),\n",
       " Tree('JJ', ['average']),\n",
       " Tree('NN', ['maturity']),\n",
       " Tree('IN', ['for']),\n",
       " Tree('NNS', ['funds']),\n",
       " Tree('JJ', ['open']),\n",
       " Tree('RB', ['only']),\n",
       " Tree('TO', ['to']),\n",
       " Tree('NNS', ['institutions']),\n",
       " Tree(',', [',']),\n",
       " Tree('VBN', ['considered']),\n",
       " Tree('IN', ['by']),\n",
       " Tree('DT', ['some']),\n",
       " Tree('-NONE-', ['*']),\n",
       " Tree('TO', ['to']),\n",
       " Tree('VB', ['be']),\n",
       " Tree('DT', ['a']),\n",
       " Tree('JJR', ['stronger']),\n",
       " Tree('NN', ['indicator']),\n",
       " Tree('IN', ['because']),\n",
       " Tree('DT', ['those']),\n",
       " Tree('NNS', ['managers']),\n",
       " Tree('VBP', ['watch']),\n",
       " Tree('DT', ['the']),\n",
       " Tree('NN', ['market']),\n",
       " Tree('RB', ['closely']),\n",
       " Tree(',', [',']),\n",
       " Tree('NNS', ['yields']),\n",
       " Tree('DT', ['The']),\n",
       " Tree('NN', ['yield']),\n",
       " Tree('IN', ['on']),\n",
       " Tree('JJ', ['six-month']),\n",
       " Tree('NNP', ['Treasury']),\n",
       " Tree('NNS', ['bills']),\n",
       " Tree('VBN', ['sold']),\n",
       " Tree('-NONE-', ['*']),\n",
       " Tree('IN', ['at']),\n",
       " Tree('NNP', ['Monday']),\n",
       " Tree('POS', [\"'s\"]),\n",
       " Tree('NN', ['auction']),\n",
       " Tree('NNS', ['Assets']),\n",
       " Tree('IN', ['of']),\n",
       " Tree('DT', ['the']),\n",
       " Tree('CD', ['400']),\n",
       " Tree('JJ', ['taxable']),\n",
       " Tree('NNS', ['funds']),\n",
       " Tree('NN', ['money-fund']),\n",
       " Tree('NNS', ['yields']),\n",
       " Tree('DT', ['The']),\n",
       " Tree('JJ', ['top']),\n",
       " Tree('NN', ['money']),\n",
       " Tree('NNS', ['funds']),\n",
       " Tree('NNP', ['Dreyfus']),\n",
       " Tree('NNP', ['World-Wide']),\n",
       " Tree('NNP', ['Dollar']),\n",
       " Tree(',', [',']),\n",
       " Tree('DT', ['the']),\n",
       " Tree('JJ', ['top-yielding']),\n",
       " Tree('NN', ['fund']),\n",
       " Tree(',', [',']),\n",
       " Tree('PRP', ['It']),\n",
       " Tree('DT', ['The']),\n",
       " Tree('JJ', ['average']),\n",
       " Tree('JJ', ['seven-day']),\n",
       " Tree('JJ', ['simple']),\n",
       " Tree('NN', ['yield']),\n",
       " Tree('IN', ['of']),\n",
       " Tree('DT', ['the']),\n",
       " Tree('CD', ['400']),\n",
       " Tree('NNS', ['funds']),\n",
       " Tree('PRP', ['He']),\n",
       " Tree('NNP', ['W.R.']),\n",
       " Tree('NNP', ['Grace']),\n",
       " Tree('NNP', ['Pacific']),\n",
       " Tree('NNP', ['First']),\n",
       " Tree('NNP', ['Financial']),\n",
       " Tree('NNP', ['Corp.']),\n",
       " Tree('DT', ['The']),\n",
       " Tree('NN', ['thrift']),\n",
       " Tree('VBG', ['holding']),\n",
       " Tree('NN', ['company']),\n",
       " Tree('NNP', ['McDermott']),\n",
       " Tree('NNP', ['International']),\n",
       " Tree('NNP', ['Inc.']),\n",
       " Tree('NNP', ['Finmeccanica']),\n",
       " Tree('NNP', ['Bailey']),\n",
       " Tree('NNP', ['Controls']),\n",
       " Tree(',', [',']),\n",
       " Tree('VBN', ['based']),\n",
       " Tree('-NONE-', ['*']),\n",
       " Tree('IN', ['in']),\n",
       " Tree('NNP', ['Wickliffe']),\n",
       " Tree(',', [',']),\n",
       " Tree('NNP', ['Ohio']),\n",
       " Tree(',', [',']),\n",
       " Tree('PRP', ['It']),\n",
       " Tree('DT', ['The']),\n",
       " Tree('JJ', ['federal']),\n",
       " Tree('NN', ['government']),\n",
       " Tree('DT', ['the']),\n",
       " Tree('NNP', ['Treasury']),\n",
       " Tree('DT', ['The']),\n",
       " Tree('NN', ['government']),\n",
       " Tree('POS', [\"'s\"]),\n",
       " Tree('NN', ['borrowing']),\n",
       " Tree('NN', ['authority']),\n",
       " Tree('DT', ['The']),\n",
       " Tree('NNP', ['Treasury']),\n",
       " Tree('PRP', ['he']),\n",
       " Tree('NNP', ['Mr.']),\n",
       " Tree('NNP', ['Vitulli']),\n",
       " Tree(',', [',']),\n",
       " Tree('CD', ['43']),\n",
       " Tree('NNS', ['years']),\n",
       " Tree('JJ', ['old']),\n",
       " Tree(',', [',']),\n",
       " Tree('PRP', ['He']),\n",
       " Tree('DT', ['the']),\n",
       " Tree('NN', ['nation']),\n",
       " Tree('POS', [\"'s\"]),\n",
       " Tree('VBG', ['manufacturing']),\n",
       " Tree('NNS', ['titans']),\n",
       " Tree('DT', ['The']),\n",
       " Tree('NNP', ['National']),\n",
       " Tree('NNP', ['Association']),\n",
       " Tree('IN', ['of']),\n",
       " Tree('NNP', ['Manufacturers']),\n",
       " Tree('NNS', ['officials']),\n",
       " Tree('IN', ['from']),\n",
       " Tree('NNS', ['giants']),\n",
       " Tree('IN', ['like']),\n",
       " Tree('NNP', ['Du']),\n",
       " Tree('NNP', ['Pont']),\n",
       " Tree('CC', ['and']),\n",
       " Tree('NNP', ['Maytag']),\n",
       " Tree(',', [',']),\n",
       " Tree('IN', ['along']),\n",
       " Tree('IN', ['with']),\n",
       " Tree('JJR', ['lesser']),\n",
       " Tree('NNS', ['knowns']),\n",
       " Tree('IN', ['like']),\n",
       " Tree('NNP', ['Trojan']),\n",
       " Tree('NNP', ['Steel']),\n",
       " Tree('CC', ['and']),\n",
       " Tree('DT', ['the']),\n",
       " Tree('NNP', ['Valley']),\n",
       " Tree('NNP', ['Queen']),\n",
       " Tree('NNP', ['Cheese']),\n",
       " Tree('NNP', ['Factory']),\n",
       " Tree('DT', ['the']),\n",
       " Tree('NNS', ['executives']),\n",
       " Tree('NN', ['Champagne']),\n",
       " Tree('CC', ['and']),\n",
       " Tree('NN', ['dessert']),\n",
       " Tree('DT', ['the']),\n",
       " Tree('NN', ['speedway']),\n",
       " Tree('NNP', ['Fortune']),\n",
       " Tree('CD', ['500']),\n",
       " Tree('NNS', ['executives']),\n",
       " Tree('PRP', ['it']),\n",
       " Tree('CD', ['nine']),\n",
       " Tree('IN', ['of']),\n",
       " Tree('DT', ['the']),\n",
       " Tree('JJS', ['hottest']),\n",
       " Tree('NNS', ['chefs']),\n",
       " Tree('IN', ['in']),\n",
       " Tree('NN', ['town']),\n",
       " Tree('JJR', ['More']),\n",
       " Tree('IN', ['than']),\n",
       " Tree('DT', ['a']),\n",
       " Tree('JJ', ['few']),\n",
       " Tree('NNS', ['CEOs']),\n",
       " Tree('PRP', ['they']),\n",
       " Tree('NNP', ['South']),\n",
       " Tree('NNP', ['Korea']),\n",
       " Tree('JJ', ['Preliminary']),\n",
       " Tree('NNS', ['tallies']),\n",
       " Tree('IN', ['by']),\n",
       " Tree('DT', ['the']),\n",
       " Tree('NNP', ['Trade']),\n",
       " Tree('CC', ['and']),\n",
       " Tree('NNP', ['Industry']),\n",
       " Tree('NNP', ['Ministry']),\n",
       " Tree('NNS', ['Exports']),\n",
       " Tree('IN', ['in']),\n",
       " Tree('NNP', ['October']),\n",
       " Tree('NNP', ['South']),\n",
       " Tree('NNP', ['Korea']),\n",
       " Tree('POS', [\"'s\"]),\n",
       " Tree('JJ', ['economic']),\n",
       " Tree('NN', ['boom']),\n",
       " Tree(',', [',']),\n",
       " Tree('WDT', ['which']),\n",
       " Tree('-NONE-', ['*T*-12']),\n",
       " Tree('VBD', ['began']),\n",
       " Tree('IN', ['in']),\n",
       " Tree('CD', ['1986']),\n",
       " Tree(',', [',']),\n",
       " Tree('NN', ['Government']),\n",
       " Tree('NNS', ['officials']),\n",
       " Tree('NNP', ['South']),\n",
       " Tree('NNP', ['Korea']),\n",
       " Tree('DT', ['the']),\n",
       " Tree('NN', ['nation']),\n",
       " Tree('POS', [\"'s\"]),\n",
       " Tree('VBN', ['accumulated']),\n",
       " Tree('NNS', ['exports']),\n",
       " Tree('NNS', ['Imports']),\n",
       " Tree('DT', ['The']),\n",
       " Tree('JJ', ['new']),\n",
       " Tree('NN', ['ad']),\n",
       " Tree('NN', ['plan']),\n",
       " Tree('IN', ['from']),\n",
       " Tree('NNP', ['Newsweek']),\n",
       " Tree(',', [',']),\n",
       " Tree('DT', ['a']),\n",
       " Tree('NN', ['unit']),\n",
       " Tree('IN', ['of']),\n",
       " Tree('DT', ['the']),\n",
       " Tree('NNP', ['Washington']),\n",
       " Tree('NNP', ['Post']),\n",
       " Tree('NNP', ['Co.']),\n",
       " Tree(',', [',']),\n",
       " Tree('NNS', ['Plans']),\n",
       " Tree('WDT', ['that']),\n",
       " Tree('-NONE-', ['*T*-13']),\n",
       " Tree('VBP', ['give']),\n",
       " Tree('NNS', ['advertisers']),\n",
       " Tree('NNS', ['discounts']),\n",
       " Tree('IN', ['for']),\n",
       " Tree('-NONE-', ['*']),\n",
       " Tree('VBG', ['maintaining']),\n",
       " Tree('CC', ['or']),\n",
       " Tree('VBG', ['increasing']),\n",
       " Tree('NN', ['ad']),\n",
       " Tree('NN', ['spending'])]"
      ]
     },
     "execution_count": 452,
     "metadata": {},
     "output_type": "execute_result"
    }
   ],
   "source": [
    "[n for s in sbj for n in s.subtrees(lambda n: n.height() == 2)]"
   ]
  },
  {
   "cell_type": "markdown",
   "metadata": {},
   "source": [
    "*Sanity check: Checking the last sentence from this subset:*"
   ]
  },
  {
   "cell_type": "code",
   "execution_count": 455,
   "metadata": {},
   "outputs": [
    {
     "data": {
      "image/png": "[encoded data removed]",
      "text/plain": [
       "Tree('NP-SBJ', [Tree('NP', [Tree('NNS', ['Plans'])]), Tree('SBAR', [Tree('WHNP-13', [Tree('WDT', ['that'])]), Tree('S', [Tree('NP-SBJ', [Tree('-NONE-', ['*T*-13'])]), Tree('VP', [Tree('VBP', ['give']), Tree('NP', [Tree('NNS', ['advertisers'])]), Tree('NP', [Tree('NP', [Tree('NNS', ['discounts'])]), Tree('PP', [Tree('IN', ['for']), Tree('S-NOM', [Tree('NP-SBJ', [Tree('-NONE-', ['*'])]), Tree('VP', [Tree('VBG', ['maintaining']), Tree('CC', ['or']), Tree('VBG', ['increasing']), Tree('NP', [Tree('NN', ['ad']), Tree('NN', ['spending'])])])])])])])])])])"
      ]
     },
     "execution_count": 455,
     "metadata": {},
     "output_type": "execute_result"
    }
   ],
   "source": [
    "t = treebank.parsed_sents()[99]\n",
    "t[0]"
   ]
  },
  {
   "cell_type": "markdown",
   "metadata": {},
   "source": [
    "##### 22.\n",
    "\n",
    "◑ Inspect the Prepositional Phrase Attachment Corpus and try to suggest some factors that influence PP attachment.\n",
    "\n",
    "*The original paper describing the corpus can be found [here](https://www.aclweb.org/anthology/H94-1048.pdf \"ppattach corpus\").  I only skimmed the paper, but it looks like the most import factors for PP attachment are the four __head__ words (head verb, noun, prep, and noun of the object of the preposition), and any $n$-grams that can be formed with these head words.  Specifically, we'd like to know if any of the words in these $n$-grams are among the most frequent words in the corpus.*\n",
    "\n",
    "##### 23. \n",
    "\n",
    "◑ In this section we claimed that there are linguistic regularities that cannot be described simply in terms of n-grams. Consider the following sentence, particularly the position of the phrase *in his turn*. Does this illustrate a problem for an approach based on $n$-grams?\n",
    "\n",
    "*What was more, the in his turn somewhat youngish Nikolay Parfenovich also turned out to be the only person in the entire world to acquire a sincere liking to our \"discriminated-against\" public procurator.* (Dostoevsky: The Brothers Karamazov)\n",
    "\n",
    "*It almost surely would.  __(I)n his turn__ is an adverbial phrase equivalent to \"for his part\", and I'm assuming Nikolay Parfenovich is being compared to someone who is also quite young looking.  However, without the previous sentence/paragraph, it's almost impossible to know who this is.  One issue with computational linguistics is how far back/ahead an algorithm needs to look when making word associations.  Humans have little difficulties retaining associations over comparatively long distances, but the same cannot be said for machines.  Much in computational linguistics depends on the statistical frequency of words occurring together, but the longer the string of words we consider, the less likely that this string has ever occurred - a point that was also brought up for the first question in this chapter.*\n",
    "\n",
    "##### 24. \n",
    "\n",
    "◑ Write a recursive function that produces a nested bracketing for a tree, leaving out the leaf nodes, and displaying the non-terminal labels after their subtrees. So the above example about Pierre Vinken would produce: \n",
    "\n",
    "`[[[NNP NNP]NP , [ADJP [CD NNS]NP JJ]ADJP ,]NP-SBJ MD [VB [DT NN]NP [IN [DT JJ NN]NP]PP-CLR [NNP CD]NP-TMP]VP .]S`\n",
    "\n",
    "Consecutive categories should be separated by space.\n",
    "\n",
    "\n",
    "\n",
    "NEED TO FINISH LATER - Maybe ParentedTree\n",
    "\n",
    "\n",
    "\n",
    "\n",
    "\n"
   ]
  },
  {
   "cell_type": "code",
   "execution_count": 1,
   "metadata": {},
   "outputs": [],
   "source": [
    "import nltk\n",
    "\n",
    "from nltk.corpus import treebank"
   ]
  },
  {
   "cell_type": "code",
   "execution_count": 54,
   "metadata": {},
   "outputs": [],
   "source": [
    "def bracketing(tree, parents = []):\n",
    "    \n",
    "    parents.append(tree.label())\n",
    "    \n",
    "    l = len(tree) - 1\n",
    "    for child in tree:\n",
    "        if child.height() == 2:\n",
    "            print(child.label(), end = \"\")\n",
    "            if l > 0:\n",
    "                print(\" \", end = \"\")\n",
    "                l -= 1\n",
    "        elif isinstance(child, nltk.Tree):\n",
    "            print(\"[\", end = \"\")\n",
    "            bracketing(child, parents)\n",
    "    print(\"]\" + parents.pop(), end = \" \")"
   ]
  },
  {
   "cell_type": "markdown",
   "metadata": {},
   "source": [
    "*Just for reference, this is what the sentence's tree looks like:*"
   ]
  },
  {
   "cell_type": "code",
   "execution_count": 43,
   "metadata": {},
   "outputs": [
    {
     "data": {
      "image/png": "[encoded data removed]",
      "text/plain": [
       "Tree('S', [Tree('NP-SBJ', [Tree('NP', [Tree('NNP', ['Pierre']), Tree('NNP', ['Vinken'])]), Tree(',', [',']), Tree('ADJP', [Tree('NP', [Tree('CD', ['61']), Tree('NNS', ['years'])]), Tree('JJ', ['old'])]), Tree(',', [','])]), Tree('VP', [Tree('MD', ['will']), Tree('VP', [Tree('VB', ['join']), Tree('NP', [Tree('DT', ['the']), Tree('NN', ['board'])]), Tree('PP-CLR', [Tree('IN', ['as']), Tree('NP', [Tree('DT', ['a']), Tree('JJ', ['nonexecutive']), Tree('NN', ['director'])])]), Tree('NP-TMP', [Tree('NNP', ['Nov.']), Tree('CD', ['29'])])])]), Tree('.', ['.'])])"
      ]
     },
     "execution_count": 43,
     "metadata": {},
     "output_type": "execute_result"
    }
   ],
   "source": [
    "t"
   ]
  },
  {
   "cell_type": "code",
   "execution_count": 56,
   "metadata": {},
   "outputs": [
    {
     "name": "stdout",
     "output_type": "stream",
     "text": [
      "[[NNP NNP]NP , [[CD NNS]NP JJ ]ADJP , ]NP-SBJ [MD [VB [DT NN]NP [IN [DT JJ NN]NP ]PP-CLR [NNP CD]NP-TMP ]VP ]VP . ]S "
     ]
    }
   ],
   "source": [
    "bracketing(t)"
   ]
  },
  {
   "cell_type": "markdown",
   "metadata": {},
   "source": [
    "*The spaces are a bit different from what was listed in the book, but I'm not sure if the output in the book is actually the output of the author's code.  I say this because the POS label `ADJP` appears twice in the example output, (`[[[NNP NNP]NP , [ADJP [CD NNS]NP JJ]ADJP ,]`). This leads me to believe that the authors actually input this by hand, and it is only the hypothetical result.  The upshot is that I don't know if it's possible to produce output exactly as the authors proposed, namely, without spaces before the closing brackets.*\n",
    "\n",
    "##### 25.\n",
    "\n",
    "◑ Download several electronic books from Project Gutenberg. Write a program to scan these texts for any extremely long sentences. What is the longest sentence you can find? What syntactic construction(s) are responsible for such long sentences?\n",
    "\n",
    "*I had a few texts from Project Gutenberg that I had downloaded for other exercises, so I thought I would start off by experimenting with these.  First, I tried \"Alice Through the Looking Glass\":*"
   ]
  },
  {
   "cell_type": "code",
   "execution_count": 95,
   "metadata": {},
   "outputs": [],
   "source": [
    "import os, re\n",
    "path = \"C:\\\\Users\\\\mjcor\\\\Desktop\\\\ProgrammingStuff\\\\ThinkPython\"\n",
    "os.chdir(path)\n",
    "\n",
    "opened_text = open('alice.txt', 'r', encoding = \"utf8\")\n",
    "alice = []\n",
    "for line in opened_text:\n",
    "    alice.append(line)\n",
    "    \n",
    "alice = ' '.join(alice)\n",
    "\n",
    "alice = re.sub('\\n ', ' ', alice)\n",
    "alice = re.sub('\\ufeff   ', '', alice)"
   ]
  },
  {
   "cell_type": "code",
   "execution_count": 96,
   "metadata": {},
   "outputs": [],
   "source": [
    "alice_sents = nltk.sent_tokenize(alice)"
   ]
  },
  {
   "cell_type": "code",
   "execution_count": 97,
   "metadata": {},
   "outputs": [],
   "source": [
    "max_length = 0\n",
    "longest_sentence = \"\"\n",
    "for s in alice_sents:\n",
    "    if len(s) > max_length:\n",
    "        max_length = len(s)\n",
    "        longest_sentence = s"
   ]
  },
  {
   "cell_type": "code",
   "execution_count": 98,
   "metadata": {},
   "outputs": [
    {
     "data": {
      "text/plain": [
       "'‘I’ll try it when I go home,’ she thought to herself, ‘the next time I’m a little late for dinner.’  ‘It’s time for you to answer now,’ the Queen said, looking at her watch: ‘open your mouth a LITTLE wider when you speak, and always say “your Majesty.”’  ‘I only wanted to see what the garden was like, your Majesty--’  ‘That’s right,’ said the Queen, patting her on the head, which Alice didn’t like at all, ‘though, when you say “garden,”--I’VE seen gardens, compared with which this would be a wilderness.’  Alice didn’t dare to argue the point, but went on: ‘--and I thought I’d try and find my way to the top of that hill--’  ‘When you say “hill,”’ the Queen interrupted, ‘_I_ could show you hills, in comparison with which you’d call that a valley.’  ‘No, I shouldn’t,’ said Alice, surprised into contradicting her at last: ‘a hill CAN’T be a valley, you know.'"
      ]
     },
     "execution_count": 98,
     "metadata": {},
     "output_type": "execute_result"
    }
   ],
   "source": [
    "longest_sentence"
   ]
  },
  {
   "cell_type": "markdown",
   "metadata": {},
   "source": [
    "*The longest sentence seemed to actually be one long paragraph.  Upon inspection, I realized that most of the full stops occurred within quotes, which may have thrown off the sentence segmenter.  I thought I would try again with another text.  Somewhat absent-mindedly, I thought I would try James Joyce's \"Ulysses\":*"
   ]
  },
  {
   "cell_type": "code",
   "execution_count": 99,
   "metadata": {},
   "outputs": [],
   "source": [
    "opened_text = open('ulysses.txt', 'r', encoding = \"utf8\")\n",
    "ulysses = []\n",
    "for line in opened_text:\n",
    "    ulysses.append(line)\n",
    "    \n",
    "ulysses = ' '.join(ulysses)\n",
    "\n",
    "ulysses = re.sub('\\n ', ' ', ulysses)\n",
    "ulysses = re.sub('\\ufeff   ', '', ulysses)"
   ]
  },
  {
   "cell_type": "code",
   "execution_count": 100,
   "metadata": {},
   "outputs": [
    {
     "data": {
      "text/plain": [
       "'Mulveys was the first when I was in bed that morning and Mrs Rubio brought it in with the coffee she stood there standing when I asked her to hand me and I pointing at them I couldnt think of the word a hairpin to open it with ah horquilla disobliging old thing and it staring her in the face with her switch of false hair on her and vain about her appearance ugly as she was near 80 or a 100 her face a mass of wrinkles with all her religion domineering because she never could get over the Atlantic fleet coming in half the ships of the world and the Union Jack flying with all her carabineros because 4 drunken English sailors took all the rock from them and because I didnt run into mass often enough in Santa Maria to please her with her shawl up on her except when there was a marriage on with all her miracles of the saints and her black blessed virgin with the silver dress and the sun dancing 3 times on Easter Sunday morning and when the priest was going by with the bell bringing the vatican to the dying blessing herself for his Majestad an admirer he signed it I near jumped out of my skin I wanted to pick him up when I saw him following me along the Calle Real in the shop window then he tipped me just in passing but I never thought hed write making an appointment I had it inside my petticoat bodice all day reading it up in every hole and corner while father was up at the drill instructing to find out by the handwriting or the language of stamps singing I remember shall I wear a white rose and I wanted to put on the old stupid clock to near the time he was the first man kissed me under the Moorish wall my sweetheart when a boy it never entered my head what kissing meant till he put his tongue in my mouth his mouth was sweetlike young I put my knee up to him a few times to learn the way what did I tell him I was engaged for for fun to the son of a Spanish nobleman named Don Miguel de la Flora and he believed me that I was to be married to him in 3 years time theres many a true word spoken in jest there is a flower that bloometh a few things I told him true about myself just for him to be imagining the Spanish girls he didnt like I suppose one of them wouldnt have him I got him excited he crushed all the flowers on my bosom he brought me he couldnt count the pesetas and the perragordas till I taught him Cappoquin he came from he said on the black water but it was too short then the day before he left May yes it was May when the infant king of Spain was born Im always like that in the spring Id like a new fellow every year up on the tiptop under the rockgun near OHaras tower I told him it was struck by lightning and all about the old Barbary apes they sent to Clapham without a tail careering all over the show on each others back Mrs Rubio said she was a regular old rock scorpion robbing the chickens out of Inces farm and throw stones at you if you went anear he was looking at me I had that white blouse on open in the front to encourage him as much as I could without too openly they were just beginning to be plump I said I was tired we lay over the firtree cove a wild place I suppose it must be the highest rock in existence the galleries and casemates and those frightful rocks and Saint Michaels cave with the icicles or whatever they call them hanging down and ladders all the mud plotching my boots Im sure thats the way down the monkeys go under the sea to Africa when they die the ships out far like chips that was the Malta boat passing yes the sea and the sky you could do what you liked lie there for ever he caressed them outside they love doing that its the roundness there I was leaning over him with my white ricestraw hat to take the newness out of it the left side of my face the best my blouse open for his last day transparent kind of shirt he had I could see his chest pink he wanted to touch mine with his for a moment but I wouldnt let him he was awfully put out first for fear you never know consumption or leave me with a child embarazada that old servant Ines told me that one drop even if it got into you at all after I tried with the Banana but I was afraid it might break and get lost up in me somewhere because they once took something down out of a woman that was up there for years covered with limesalts theyre all mad to get in there where they come out of youd think they could never go far enough up and then theyre done with you in a way till the next time yes because theres a wonderful feeling there so tender all the time how did we finish it off yes O yes I pulled him off into my handkerchief pretending not to be excited but I opened my legs I wouldnt let him touch me inside my petticoat because I had a skirt opening up the side I tormented the life out of him first tickling him I loved rousing that dog in the hotel rrrsssstt awokwokawok his eyes shut and a bird flying below us he was shy all the same I liked him like that moaning I made him blush a little when I got over him that way when I unbuttoned him and took his out and drew back the skin it had a kind of eye in it theyre all Buttons men down the middle on the wrong side of them Molly darling he called me what was his name Jack Joe Harry Mulvey was it yes I think a lieutenant he was rather fair he had a laughing kind of a voice so I went round to the whatyoucallit everything was whatyoucallit moustache had he he said hed come back Lord its just like yesterday to me and if I was married hed do it to me and I promised him yes faithfully Id let him block me now flying perhaps hes dead or killed or a captain or admiral its nearly 20 years if I said firtree cove he would if he came up behind me and put his hands over my eyes to guess who I might recognise him hes young still about 40 perhaps hes married some girl on the black water and is quite changed they all do they havent half the character a woman has she little knows what I did with her beloved husband before he ever dreamt of her in broad daylight too in the sight of the whole world you might say they could have put an article about it in the Chronicle I was a bit wild after when I blew out the old bag the biscuits were in from Benady Bros and exploded it Lord what a bang all the woodcocks and pigeons screaming coming back the same way that we went over middle hill round by the old guardhouse and the jews burialplace pretending to read out the Hebrew on them I wanted to fire his pistol he said he hadnt one he didnt know what to make of me with his peak cap on that he always wore crooked as often as I settled it straight H M S Calypso swinging my hat that old Bishop that spoke off the altar his long preach about womans higher functions about girls now riding the bicycle and wearing peak caps and the new woman bloomers God send him sense and me more money I suppose theyre called after him I never thought that would be my name Bloom when I used to write it in print to see how it looked on a visiting card or practising for the butcher and oblige M Bloom youre looking blooming Josie used to say after I married him well its better than Breen or Briggs does brig or those awful names with bottom in them Mrs Ramsbottom or some other kind of a bottom Mulvey I wouldnt go mad about either or suppose I divorced him Mrs Boylan my mother whoever she was might have given me a nicer name the Lord knows after the lovely one she had Lunita Laredo the fun we had running along Williss road to Europa point twisting in and out all round the other side of Jersey they were shaking and dancing about in my blouse like Millys little ones now when she runs up the stairs I loved looking down at them I was jumping up at the pepper trees and the white poplars pulling the leaves off and throwing them at him he went to India he was to write the voyages those men have to make to the ends of the world and back its the least they might get a squeeze or two at a woman while they can going out to be drowned or blown up somewhere I went up Windmill hill to the flats that Sunday morning with captain Rubios that was dead spyglass like the sentry had he said hed have one or two from on board I wore that frock from the B Marche paris and the coral necklace the straits shining I could see over to Morocco almost the bay of Tangier white and the Atlas mountain with snow on it and the straits like a river so clear Harry Molly darling I was thinking of him on the sea all the time after at mass when my petticoat began to slip down at the elevation weeks and weeks I kept the handkerchief under my pillow for the smell of him there was no decent perfume to be got in that Gibraltar only that cheap peau dEspagne that faded and left a stink on you more than anything else I wanted to give him a memento he gave me that clumsy Claddagh ring for luck that I gave Gardner going to south Africa where those Boers killed him with their war and fever but they were well beaten all the same as if it brought its bad luck with it like an opal or pearl still it must have been pure 18 carrot gold because it was very heavy but what could you get in a place like that the sandfrog shower from Africa and that derelict ship that came up to the harbour Marie the Marie whatyoucallit no he hadnt a moustache that was Gardner yes I can see his face cleanshaven Frseeeeeeeeeeeeeeeeeeeefrong that train again weeping tone once in the dear deaead days beyondre call close my eyes breath my lips forward kiss sad look eyes open piano ere oer the world the mists began I hate that istsbeg comes loves sweet sooooooooooong Ill let that out full when I get in front of the footlights again Kathleen Kearney and her lot of squealers Miss This Miss That Miss Theother lot of sparrowfarts skitting around talking about politics they know as much about as my backside anything in the world to make themselves someway interesting Irish homemade beauties soldiers daughter am I ay and whose are you bootmakers and publicans I beg your pardon coach I thought you were a wheelbarrow theyd die down dead off their feet if ever they got a chance of walking down the Alameda on an officers arm like me on the bandnight my eyes flash my bust that they havent passion God help their poor head I knew more about men and life when I was 15 than theyll all know at 50 they dont know how to sing a song like that Gardner said no man could look at my mouth and teeth smiling like that and not think of it I was afraid he mightnt like my accent first he so English all father left me in spite of his stamps Ive my mothers eyes and figure anyhow he always said theyre so snotty about themselves some of those cads he wasnt a bit like that he was dead gone on my lips let them get a husband first thats fit to be looked at and a daughter like mine or see if they can excite a swell with money that can pick and choose whoever he wants like Boylan to do it 4 or 5 times locked in each others arms or the voice either I could have been a prima donna only I married him comes looooves old deep down chin back not too much make it double My Ladys Bower is too long for an encore about the moated grange at twilight and vaunted rooms yes Ill sing Winds that blow from the south that he gave after the choirstairs performance Ill change that lace on my black dress to show off my bubs and Ill yes by God Ill get that big fan mended make them burst with envy my hole is itching me always when I think of him I feel I want to I feel some wind in me better go easy not wake him have him at it again slobbering after washing every bit of myself back belly and sides if we had even a bath itself or my own room anyway I wish hed sleep in some bed by himself with his cold feet on me give us room even to let a fart God or do the least thing better yes hold them like that a bit on my side piano quietly sweeeee theres that train far away pianissimo eeeee one more song  that was a relief wherever you be let your wind go free who knows if that pork chop I took with my cup of tea after was quite good with the heat I couldnt smell anything off it Im sure that queerlooking man in the porkbutchers is a great rogue I hope that lamp is not smoking fill my nose up with smuts better than having him leaving the gas on all night I couldnt rest easy in my bed in Gibraltar even getting up to see why am I so damned nervous about that though I like it in the winter its more company O Lord it was rotten cold too that winter when I was only about ten was I yes I had the big doll with all the funny clothes dressing her up and undressing that icy wind skeeting across from those mountains the something Nevada sierra nevada standing at the fire with the little bit of a short shift I had up to heat myself I loved dancing about in it then make a race back into bed Im sure that fellow opposite used to be there the whole time watching with the lights out in the summer and I in my skin hopping around I used to love myself then stripped at the washstand dabbing and creaming only when it came to the chamber performance I put out the light too so then there were 2 of us goodbye to my sleep for this night anyhow I hope hes not going to get in with those medicals leading him astray to imagine hes young again coming in at 4 in the morning it must be if not more still he had the manners not to wake me what do they find to gabber about all night squandering money and getting drunker and drunker couldnt they drink water then he starts giving us his orders for eggs and tea and Findon haddy and hot buttered toast I suppose well have him sitting up like the king of the country pumping the wrong end of the spoon up and down in his egg wherever he learned that from and I love to hear him falling up the stairs of a morning with the cups rattling on the tray and then play with the cat she rubs up against you for her own sake I wonder has she fleas shes as bad as a woman always licking and lecking but I hate their claws I wonder do they see anything that we cant staring like that when she sits at the top of the stairs so long and listening as I wait always what a robber too that lovely fresh plaice I bought I think Ill get a bit of fish tomorrow or today is it Friday yes I will with some blancmange with black currant jam like long ago not those 2 lb pots of mixed plum and apple from the London and Newcastle Williams and Woods goes twice as far only for the bones I hate those eels cod yes Ill get a nice piece of cod Im always getting enough for 3 forgetting anyway Im sick of that everlasting butchers meat from Buckleys loin chops and leg beef and rib steak and scrag of mutton and calfs pluck the very name is enough or a picnic suppose we all gave 5/- each and or let him pay it and invite some other woman for him who Mrs Fleming and drove out to the furry glen or the strawberry beds wed have him examining all the horses toenails first like he does with the letters no not with Boylan there yes with some cold veal and ham mixed sandwiches there are little houses down at the bottom of the banks there on purpose but its as hot as blazes he says not a bank holiday anyhow I hate those ruck of Mary Ann coalboxes out for the day Whit Monday is a cursed day too no wonder that bee bit him better the seaside but Id never again in this life get into a boat with him after him at Bray telling the boatman he knew how to row if anyone asked could he ride the steeplechase for the gold cup hed say yes then it came on to get rough the old thing crookeding about and the weight all down my side telling me pull the right reins now pull the left and the tide all swamping in floods in through the bottom and his oar slipping out of the stirrup its a mercy we werent all drowned he can swim of course me no theres no danger whatsoever keep yourself calm in his flannel trousers Id like to have tattered them down off him before all the people and give him what that one calls flagellate till he was black and blue do him all the good in the world only for that longnosed chap I dont know who he is with that other beauty Burke out of the City Arms hotel was there spying around as usual on the slip always where he wasnt wanted if there was a row on youd vomit a better face there was no love lost between us thats 1 consolation I wonder what kind is that book he brought me Sweets of Sin by a gentleman of fashion some other Mr de Kock I suppose the people gave him that nickname going about with his tube from one woman to another I couldnt even change my new white shoes all ruined with the saltwater and the hat I had with that feather all blowy and tossed on me how annoying and provoking because the smell of the sea excited me of course the sardines and the bream in Catalan bay round the back of the rock they were fine all silver in the fishermens baskets old Luigi near a hundred they said came from Genoa and the tall old chap with the earrings I dont like a man you have to climb up to to get at I suppose theyre all dead and rotten long ago besides I dont like being alone in this big barracks of a place at night I suppose Ill have to put up with it I never brought a bit of salt in even when we moved in the confusion musical academy he was going to make on the first floor drawingroom with a brassplate or Blooms private hotel he suggested go and ruin himself altogether the way his father did down in Ennis like all the things he told father he was going to do and me but I saw through him telling me all the lovely places we could go for the honeymoon Venice by moonlight with the gondolas and the lake of Como he had a picture cut out of some paper of and mandolines and lanterns O how nice I said whatever I liked he was going to do immediately if not sooner will you be my man will you carry my can he ought to get a leather medal with a putty rim for all the plans he invents then leaving us here all day youd never know what old beggar at the door for a crust with his long story might be a tramp and put his foot in the way to prevent me shutting it like that picture of that hardened criminal he was called in Lloyds Weekly news 20 years in jail then he comes out and murders an old woman for her money imagine his poor wife or mother or whoever she is such a face youd run miles away from I couldnt rest easy till I bolted all the doors and windows to make sure but its worse again being locked up like in a prison or a madhouse they ought to be all shot or the cat of nine tails a big brute like that that would attack a poor old woman to murder her in her bed Id cut them off him so I would not that hed be much use still better than nothing the night I was sure I heard burglars in the kitchen and he went down in his shirt with a candle and a poker as if he was looking for a mouse as white as a sheet frightened out of his wits making as much noise as he possibly could for the burglars benefit there isnt much to steal indeed the Lord knows still its the feeling especially now with Milly away such an idea for him to send the girl down there to learn to take photographs on account of his grandfather instead of sending her to Skerrys academy where shed have to learn not like me getting all at school only hed do a thing like that all the same on account of me and Boylan thats why he did it Im certain the way he plots and plans everything out I couldnt turn round with her in the place lately unless I bolted the door first gave me the fidgets coming in without knocking first when I put the chair against the door just as I was washing myself there below with the glove get on your nerves then doing the loglady all day put her in a glasscase with two at a time to look at her if he knew she broke off the hand off that little gimcrack statue with her roughness and carelessness before she left that I got that little Italian boy to mend so that you cant see the join for 2 shillings wouldnt even teem the potatoes for you of course shes right not to ruin her hands I noticed he was always talking to her lately at the table explaining things in the paper and she pretending to understand sly of course that comes from his side of the house he cant say I pretend things can he Im too honest as a matter of fact and helping her into her coat but if there was anything wrong with her its me shed tell not him I suppose he thinks Im finished out and laid on the shelf well Im not no nor anything like it well see well see now shes well on for flirting too with Tom Devans two sons imitating me whistling with those romps of Murray girls calling for her can Milly come out please shes in great demand to pick what they can out of her round in Nelson street riding Harry Devans bicycle at night its as well he sent her where she is she was just getting out of bounds wanting to go on the skatingrink and smoking their cigarettes through their nose I smelt it off her dress when I was biting off the thread of the button I sewed on to the bottom of her jacket she couldnt hide much from me I tell you only I oughtnt to have stitched it and it on her it brings a parting and the last plumpudding too split in 2 halves see it comes out no matter what they say her tongue is a bit too long for my taste your blouse is open too low she says to me the pan calling the kettle blackbottom and I had to tell her not to cock her legs up like that on show on the windowsill before all the people passing they all look at her like me when I was her age of course any old rag looks well on you then a great touchmenot too in her own way at the Only Way in the Theatre royal take your foot away out of that I hate people touching me afraid of her life Id crush her skirt with the pleats a lot of that touching must go on in theatres in the crush in the dark theyre always trying to wiggle up to you that fellow in the pit at the Gaiety for Beerbohm Tree in Trilby the last time Ill ever go there to be squashed like that for any Trilby or her barebum every two minutes tipping me there and looking away hes a bit daft I think I saw him after trying to get near two stylishdressed ladies outside Switzers window at the same little game I recognised him on the moment the face and everything but he didnt remember me yes and she didnt even want me to kiss her at the Broadstone going away well I hope shell get someone to dance attendance on her the way I did when she was down with the mumps and her glands swollen wheres this and wheres that of course she cant feel anything deep yet I never came properly till I was what 22 or so it went into the wrong place always only the usual girls nonsense and giggling that Conny Connolly writing to her in white ink on black paper sealed with sealingwax though she clapped when the curtain came down because he looked so handsome then we had Martin Harvey for breakfast dinner and supper I thought to myself afterwards it must be real love if a man gives up his life for her that way for nothing I suppose there are a few men like that left its hard to believe in it though unless it really happened to me the majority of them with not a particle of love in their natures to find two people like that nowadays full up of each other that would feel the same way as you do theyre usually a bit foolish in the head his father must have been a bit queer to go and poison himself after her still poor old man I suppose he felt lost shes always making love to my things too the few old rags I have wanting to put her hair up at 15 my powder too only ruin her skin on her shes time enough for that all her life after of course shes restless knowing shes pretty with her lips so red a pity they wont stay that way I was too but theres no use going to the fair with the thing answering me like a fishwoman when I asked to go for a half a stone of potatoes the day we met Mrs Joe Gallaher at the trottingmatches and she pretended not to see us in her trap with Friery the solicitor we werent grand enough till I gave her 2 damn fine cracks across the ear for herself take that now for answering me like that and that for your impudence she had me that exasperated of course contradicting I was badtempered too because how was it there was a weed in the tea or I didnt sleep the night before cheese I ate was it and I told her over and over again not to leave knives crossed like that because she has nobody to command her as she said herself well if he doesnt correct her faith I will that was the last time she turned on the teartap I was just like that myself they darent order me about the place its his fault of course having the two of us slaving here instead of getting in a woman long ago am I ever going to have a proper servant again of course then shed see him coming Id have to let her know or shed revenge it arent they a nuisance that old Mrs Fleming you have to be walking round after her putting the things into her hands sneezing and farting into the pots well of course shes old she cant help it a good job I found that rotten old smelly dishcloth that got lost behind the dresser I knew there was something and opened the area window to let out the smell bringing in his friends to entertain them like the night he walked home with a dog if you please that might have been mad especially Simon Dedalus son his father such a criticiser with his glasses up with his tall hat on him at the cricket match and a great big hole in his sock one thing laughing at the other and his son that got all those prizes for whatever he won them in the intermediate imagine climbing over the railings if anybody saw him that knew us I wonder he didnt tear a big hole in his grand funeral trousers as if the one nature gave wasnt enough for anybody hawking him down into the dirty old kitchen now is he right in his head I ask pity it wasnt washing day my old pair of drawers might have been hanging up too on the line on exhibition for all hed ever care with the ironmould mark the stupid old bundle burned on them he might think was something else and she never even rendered down the fat I told her and now shes going such as she was on account of her paralysed husband getting worse theres always something wrong with them disease or they have to go under an operation or if its not that its drink and he beats her Ill have to hunt around again for someone every day I get up theres some new thing on sweet God sweet God well when Im stretched out dead in my grave I suppose Ill have some peace I want to get up a minute if Im let wait O Jesus wait yes that thing has come on me yes now wouldnt that afflict you of course all the poking and rooting and ploughing he had up in me now what am I to do Friday Saturday Sunday wouldnt that pester the soul out of a body unless he likes it some men do God knows theres always something wrong with us 5 days every 3 or 4 weeks usual monthly auction isnt it simply sickening that night it came on me like that the one and only time we were in a box that Michael Gunn gave him to see Mrs Kendal and her husband at the Gaiety something he did about insurance for him in Drimmies I was fit to be tied though I wouldnt give in with that gentleman of fashion staring down at me with his glasses and him the other side of me talking about Spinoza and his soul thats dead I suppose millions of years ago I smiled the best I could all in a swamp leaning forward as if I was interested having to sit it out then to the last tag I wont forget that wife of Scarli in a hurry supposed to be a fast play about adultery that idiot in the gallery hissing the woman adulteress he shouted I suppose he went and had a woman in the next lane running round all the back ways after to make up for it I wish he had what I had then hed boo I bet the cat itself is better off than us have we too much blood up in us or what O patience above its pouring out of me like the sea anyhow he didnt make me pregnant as big as he is I dont want to ruin the clean sheets I just put on I suppose the clean linen I wore brought it on too damn it damn it and they always want to see a stain on the bed to know youre a virgin for them all thats troubling them theyre such fools too you could be a widow or divorced 40 times over a daub of red ink would do or blackberry juice no thats too purply O Jamesy let me up out of this pooh sweets of sin whoever suggested that business for women what between clothes and cooking and children this damned old bed too jingling like the dickens I suppose they could hear us away over the other side of the park till I suggested to put the quilt on the floor with the pillow under my bottom I wonder is it nicer in the day I think it is easy I think Ill cut all this hair off me there scalding me I might look like a young girl wouldnt he get the great suckin the next time he turned up my clothes on me Id give anything to see his face wheres the chamber gone easy Ive a holy horror of its breaking under me after that old commode I wonder was I too heavy sitting on his knee I made him sit on the easychair purposely when I took off only my blouse and skirt first in the other room he was so busy where he oughtnt to be he never felt me I hope my breath was sweet after those kissing comfits easy God I remember one time I could scout it out straight whistling like a man almost easy O Lord how noisy I hope theyre bubbles on it for a wad of money from some fellow Ill have to perfume it in the morning dont forget I bet he never saw a better pair of thighs than that look how white they are the smoothest place is right there between this bit here how soft like a peach easy God I wouldnt mind being a man and get up on a lovely woman O Lord what a row youre making like the jersey lily easy easy O how the waters come down at Lahore  who knows is there anything the matter with my insides or have I something growing in me getting that thing like that every week when was it last I Whit Monday yes its only about 3 weeks I ought to go to the doctor only it would be like before I married him when I had that white thing coming from me and Floey made me go to that dry old stick Dr Collins for womens diseases on Pembroke road your vagina he called it I suppose thats how he got all the gilt mirrors and carpets getting round those rich ones off Stephens green running up to him for every little fiddlefaddle her vagina and her cochinchina theyve money of course so theyre all right I wouldnt marry him not if he was the last man in the world besides theres something queer about their children always smelling around those filthy bitches all sides asking me if what I did had an offensive odour what did he want me to do but the one thing gold maybe what a question if I smathered it all over his wrinkly old face for him with all my compriments I suppose hed know then and could you pass it easily pass what I thought he was talking about the rock of Gibraltar the way he put it thats a very nice invention too by the way only I like letting myself down after in the hole as far as I can squeeze and pull the chain then to flush it nice cool pins and needles still theres something in it I suppose I always used to know by Millys when she was a child whether she had worms or not still all the same paying him for that how much is that doctor one guinea please and asking me had I frequent omissions where do those old fellows get all the words they have omissions with his shortsighted eyes on me cocked sideways I wouldnt trust him too far to give me chloroform or God knows what else still I liked him when he sat down to write the thing out frowning so severe his nose intelligent like that you be damned you lying strap O anything no matter who except an idiot he was clever enough to spot that of course that was all thinking of him and his mad crazy letters my Precious one everything connected with your glorious Body everything underlined that comes from it is a thing of beauty and of joy for ever something he got out of some nonsensical book that he had me always at myself 4 and 5 times a day sometimes and I said I hadnt are you sure O yes I said I am quite sure in a way that shut him up I knew what was coming next only natural weakness it was he excited me I dont know how the first night ever we met when I was living in Rehoboth terrace we stood staring at one another for about 10 minutes as if we met somewhere I suppose on account of my being jewess looking after my mother he used to amuse me the things he said with the half sloothering smile on him and all the Doyles said he was going to stand for a member of Parliament O wasnt I the born fool to believe all his blather about home rule and the land league sending me that long strool of a song out of the Huguenots to sing in French to be more classy O beau pays de la Touraine that I never even sang once explaining and rigmaroling about religion and persecution he wont let you enjoy anything naturally then might he as a great favour the very 1st opportunity he got a chance in Brighton square running into my bedroom pretending the ink got on his hands to wash it off with the Albion milk and sulphur soap I used to use and the gelatine still round it O I laughed myself sick at him that day I better not make an alnight sitting on this affair they ought to make chambers a natural size so that a woman could sit on it properly he kneels down to do it I suppose there isnt in all creation another man with the habits he has look at the way hes sleeping at the foot of the bed how can he without a hard bolster its well he doesnt kick or he might knock out all my teeth breathing with his hand on his nose like that Indian god he took me to show one wet Sunday in the museum in Kildare street all yellow in a pinafore lying on his side on his hand with his ten toes sticking out that he said was a bigger religion than the jews and Our Lords both put together all over Asia imitating him as hes always imitating everybody I suppose he used to sleep at the foot of the bed too with his big square feet up in his wifes mouth damn this stinking thing anyway wheres this those napkins are ah yes I know I hope the old press doesnt creak ah I knew it would hes sleeping hard had a good time somewhere still she must have given him great value for his money of course he has to pay for it from her O this nuisance of a thing I hope theyll have something better for us in the other world tying ourselves up God help us thats all right for tonight now the lumpy old jingly bed always reminds me of old Cohen I suppose he scratched himself in it often enough and he thinks father bought it from Lord Napier that I used to admire when I was a little girl because I told him easy piano O I like my bed God here we are as bad as ever after 16 years how many houses were we in at all Raymond terrace and Ontario terrace and Lombard street and Holles street and he goes about whistling every time were on the run again his huguenots or the frogs march pretending to help the men with our 4 sticks of furniture and then the City Arms hotel worse and worse says Warden Daly that charming place on the landing always somebody inside praying then leaving all their stinks after them always know who was in there last every time were just getting on right something happens or he puts his big foot in it Thoms and Helys and Mr Cuffes and Drimmies either hes going to be run into prison over his old lottery tickets that was to be all our salvations or he goes and gives impudence well have him coming home with the sack soon out of the Freeman too like the rest on account of those Sinner Fein or the freemasons then well see if the little man he showed me dribbling along in the wet all by himself round by Coadys lane will give him much consolation that he says is so capable and sincerely Irish he is indeed judging by the sincerity of the trousers I saw on him wait theres Georges church bells wait 3 quarters the hour wait two oclock well thats a nice hour of the night for him to be coming home at to anybody climbing down into the area if anybody saw him Ill knock him off that little habit tomorrow first Ill look at his shirt to see or Ill see if he has that French letter still in his pocketbook I suppose he thinks I dont know deceitful men all their 20 pockets arent enough for their lies then why should we tell them even if its the truth they dont believe you then tucked up in bed like those babies in the Aristocrats Masterpiece he brought me another time as if we hadnt enough of that in real life without some old Aristocrat or whatever his name is disgusting you more with those rotten pictures children with two heads and no legs thats the kind of villainy theyre always dreaming about with not another thing in their empty heads they ought to get slow poison the half of them then tea and toast for him buttered on both sides and newlaid eggs I suppose Im nothing any more when I wouldnt let him lick me in Holles street one night man man tyrant as ever for the one thing he slept on the floor half the night naked the way the jews used when somebody dies belonged to them and wouldnt eat any breakfast or speak a word wanting to be petted so I thought I stood out enough for one time and let him he does it all wrong too thinking only of his own pleasure his tongue is too flat or I dont know what he forgets that wethen I dont Ill make him do it again if he doesnt mind himself and lock him down to sleep in the coalcellar with the blackbeetles I wonder was it her Josie off her head with my castoffs hes such a born liar too no hed never have the courage with a married woman thats why he wants me and Boylan though as for her Denis as she calls him that forlornlooking spectacle you couldnt call him a husband yes its some little bitch hes got in with even when I was with him with Milly at the College races that Hornblower with the childs bonnet on the top of his nob let us into by the back way he was throwing his sheeps eyes at those two doing skirt duty up and down I tried to wink at him first no use of course and thats the way his money goes this is the fruits of Mr Paddy Dignam yes they were all in great style at the grand funeral in the paper Boylan brought in if they saw a real officers funeral thatd be something reversed arms muffled drums the poor horse walking behind in black L Boom and Tom Kernan that drunken little barrelly man that bit his tongue off falling down the mens W C drunk in some place or other and Martin Cunningham and the two Dedaluses and Fanny MCoys husband white head of cabbage skinny thing with a turn in her eye trying to sing my songs shed want to be born all over again and her old green dress with the lowneck as she cant attract them any other way like dabbling on a rainy day I see it all now plainly and they call that friendship killing and then burying one another and they all with their wives and families at home more especially Jack Power keeping that barmaid he does of course his wife is always sick or going to be sick or just getting better of it and hes a goodlooking man still though hes getting a bit grey over the ears theyre a nice lot all of them well theyre not going to get my husband again into their clutches if I can help it making fun of him then behind his back I know well when he goes on with his idiotics because he has sense enough not to squander every penny piece he earns down their gullets and looks after his wife and family goodfornothings poor Paddy Dignam all the same Im sorry in a way for him what are his wife and 5 children going to do unless he was insured comical little teetotum always stuck up in some pub corner and her or her son waiting Bill Bailey wont you please come home her widows weeds wont improve her appearance theyre awfully becoming though if youre goodlooking what men wasnt he yes he was at the Glencree dinner and Ben Dollard base barreltone the night he borrowed the swallowtail to sing out of in Holles street squeezed and squashed into them and grinning all over his big Dolly face like a wellwhipped childs botty didnt he look a balmy ballocks sure enough that must have been a spectacle on the stage imagine paying 5/- in the preserved seats for that to see him trotting off in his trowlers and Simon Dedalus too he was always turning up half screwed singing the second verse first the old love is the new was one of his so sweetly sang the maiden on the hawthorn bough he was always on for flirtyfying too when I sang Maritana with him at Freddy Mayers private opera he had a delicious glorious voice Phoebe dearest goodbye sweetheart _sweet_heart he always sang it not like Bartell DArcy sweet _tart_ goodbye of course he had the gift of the voice so there was no art in it all over you like a warm showerbath O Maritana wildwood flower we sang splendidly though it was a bit too high for my register even transposed and he was married at the time to May Goulding but then hed say or do something to knock the good out of it hes a widower now I wonder what sort is his son he says hes an author and going to be a university professor of Italian and Im to take lessons what is he driving at now showing him my photo its not good of me I ought to have got it taken in drapery that never looks out of fashion still I look young in it I wonder he didnt make him a present of it altogether and me too after all why not I saw him driving down to the Kingsbridge station with his father and mother I was in mourning thats 11 years ago now yes hed be 11 though what was the good in going into mourning for what was neither one thing nor the other the first cry was enough for me I heard the deathwatch too ticking in the wall of course he insisted hed go into mourning for the cat I suppose hes a man now by this time he was an innocent boy then and a darling little fellow in his lord Fauntleroy suit and curly hair like a prince on the stage when I saw him at Mat Dillons he liked me too I remember they all do wait by God yes wait yes hold on he was on the cards this morning when I laid out the deck union with a young stranger neither dark nor fair you met before I thought it meant him but hes no chicken nor a stranger either besides my face was turned the other way what was the 7th card after that the 10 of spades for a journey by land then there was a letter on its way and scandals too the 3 queens and the 8 of diamonds for a rise in society yes wait it all came out and 2 red 8s for new garments look at that and didnt I dream something too yes there was something about poetry in it I hope he hasnt long greasy hair hanging into his eyes or standing up like a red Indian what do they go about like that for only getting themselves and their poetry laughed at I always liked poetry when I was a girl first I thought he was a poet like lord Byron and not an ounce of it in his composition I thought he was quite different I wonder is he too young hes about wait 88 I was married 88 Milly is 15 yesterday 89 what age was he then at Dillons 5 or 6 about 88 I suppose hes 20 or more Im not too old for him if hes 23 or 24 I hope hes not that stuckup university student sort no otherwise he wouldnt go sitting down in the old kitchen with him taking Eppss cocoa and talking of course he pretended to understand it all probably he told him he was out of Trinity college hes very young to be a professor I hope hes not a professor like Goodwin was he was a potent professor of John Jameson they all write about some woman in their poetry well I suppose he wont find many like me where softly sighs of love the light guitar where poetry is in the air the blue sea and the moon shining so beautifully coming back on the nightboat from Tarifa the lighthouse at Europa point the guitar that fellow played was so expressive will I ever go back there again all new faces two glancing eyes a lattice hid Ill sing that for him theyre my eyes if hes anything of a poet two eyes as darkly bright as loves own star arent those beautiful words as loves young star itll be a change the Lord knows to have an intelligent person to talk to about yourself not always listening to him and Billy Prescotts ad and Keyess ad and Tom the Devils ad then if anything goes wrong in their business we have to suffer Im sure hes very distinguished Id like to meet a man like that God not those other ruck besides hes young those fine young men I could see down in Margate strand bathingplace from the side of the rock standing up in the sun naked like a God or something and then plunging into the sea with them why arent all men like that thered be some consolation for a woman like that lovely little statue he bought I could look at him all day long curly head and his shoulders his finger up for you to listen theres real beauty and poetry for you I often felt I wanted to kiss him all over also his lovely young cock there so simple I wouldnt mind taking him in my mouth if nobody was looking as if it was asking you to suck it so clean and white he looks with his boyish face I would too in 1/2 a minute even if some of it went down what its only like gruel or the dew theres no danger besides hed be so clean compared with those pigs of men I suppose never dream of washing it from 1 years end to the other the most of them only thats what gives the women the moustaches Im sure itll be grand if I can only get in with a handsome young poet at my age Ill throw them the 1st thing in the morning till I see if the wishcard comes out or Ill try pairing the lady herself and see if he comes out Ill read and study all I can find or learn a bit off by heart if I knew who he likes so he wont think me stupid if he thinks all women are the same and I can teach him the other part Ill make him feel all over him till he half faints under me then hell write about me lover and mistress publicly too with our 2 photographs in all the papers when he becomes famous O but then what am I going to do about him though  no thats no way for him has he no manners nor no refinement nor no nothing in his nature slapping us behind like that on my bottom because I didnt call him Hugh the ignoramus that doesnt know poetry from a cabbage thats what you get for not keeping them in their proper place pulling off his shoes and trousers there on the chair before me so barefaced without even asking permission and standing out that vulgar way in the half of a shirt they wear to be admired like a priest or a butcher or those old hypocrites in the time of Julius Caesar of course hes right enough in his way to pass the time as a joke sure you might as well be in bed with what with a lion God Im sure hed have something better to say for himself an old Lion would O well I suppose its because they were so plump and tempting in my short petticoat he couldnt resist they excite myself sometimes its well for men all the amount of pleasure they get off a womans body were so round and white for them always I wished I was one myself for a change just to try with that thing they have swelling up on you so hard and at the same time so soft when you touch it my uncle John has a thing long I heard those cornerboys saying passing the comer of Marrowbone lane my aunt Mary has a thing hairy because it was dark and they knew a girl was passing it didnt make me blush why should it either its only nature and he puts his thing long into my aunt Marys hairy etcetera and turns out to be you put the handle in a sweepingbrush men again all over they can pick and choose what they please a married woman or a fast widow or a girl for their different tastes like those houses round behind Irish street no but were to be always chained up theyre not going to be chaining me up no damn fear once I start I tell you for their stupid husbands jealousy why cant we all remain friends over it instead of quarrelling her husband found it out what they did together well naturally and if he did can he undo it hes coronado anyway whatever he does and then he going to the other mad extreme about the wife in Fair Tyrants of course the man never even casts a 2nd thought on the husband or wife either its the woman he wants and he gets her what else were we given all those desires for Id like to know I cant help it if Im young still can I its a wonder Im not an old shrivelled hag before my time living with him so cold never embracing me except sometimes when hes asleep the wrong end of me not knowing I suppose who he has any man thatd kiss a womans bottom Id throw my hat at him after that hed kiss anything unnatural where we havent 1 atom of any kind of expression in us all of us the same 2 lumps of lard before ever Id do that to a man pfooh the dirty brutes the mere thought is enough I kiss the feet of you senorita theres some sense in that didnt he kiss our halldoor yes he did what a madman nobody understands his cracked ideas but me still of course a woman wants to be embraced 20 times a day almost to make her look young no matter by who so long as to be in love or loved by somebody if the fellow you want isnt there sometimes by the Lord God I was thinking would I go around by the quays there some dark evening where nobodyd know me and pick up a sailor off the sea thatd be hot on for it and not care a pin whose I was only do it off up in a gate somewhere or one of those wildlooking gipsies in Rathfarnham had their camp pitched near the Bloomfield laundry to try and steal our things if they could I only sent mine there a few times for the name model laundry sending me back over and over some old ones odd stockings that blackguardlooking fellow with the fine eyes peeling a switch attack me in the dark and ride me up against the wall without a word or a murderer anybody what they do themselves the fine gentlemen in their silk hats that K C lives up somewhere this way coming out of Hardwicke lane the night he gave us the fish supper on account of winning over the boxing match of course it was for me he gave it I knew him by his gaiters and the walk and when I turned round a minute after just to see there was a woman after coming out of it too some filthy prostitute then he goes home to his wife after that only I suppose the half of those sailors are rotten again with disease O move over your big carcass out of that for the love of Mike listen to him the winds that waft my sighs to thee so well he may sleep and sigh the great Suggester Don Poldo de la Flora if he knew how he came out on the cards this morning hed have something to sigh for a dark man in some perplexity between 2 7s too in prison for Lord knows what he does that I dont know and Im to be slooching around down in the kitchen to get his lordship his breakfast while hes rolled up like a mummy will I indeed did you ever see me running Id just like to see myself at it show them attention and they treat you like dirt I dont care what anybody says itd be much better for the world to be governed by the women in it you wouldnt see women going and killing one another and slaughtering when do you ever see women rolling around drunk like they do or gambling every penny they have and losing it on horses yes because a woman whatever she does she knows where to stop sure they wouldnt be in the world at all only for us they dont know what it is to be a woman and a mother how could they where would they all of them be if they hadnt all a mother to look after them what I never had thats why I suppose hes running wild now out at night away from his books and studies and not living at home on account of the usual rowy house I suppose well its a poor case that those that have a fine son like that theyre not satisfied and I none was he not able to make one it wasnt my fault we came together when I was watching the two dogs up in her behind in the middle of the naked street that disheartened me altogether I suppose I oughtnt to have buried him in that little woolly jacket I knitted crying as I was but give it to some poor child but I knew well Id never have another our 1st death too it was we were never the same since O Im not going to think myself into the glooms about that any more I wonder why he wouldnt stay the night I felt all the time it was somebody strange he brought in instead of roving around the city meeting God knows who nightwalkers and pickpockets his poor mother wouldnt like that if she was alive ruining himself for life perhaps still its a lovely hour so silent I used to love coming home after dances the air of the night they have friends they can talk to weve none either he wants what he wont get or its some woman ready to stick her knife in you I hate that in women no wonder they treat us the way they do we are a dreadful lot of bitches I suppose its all the troubles we have makes us so snappy Im not like that he could easy have slept in there on the sofa in the other room I suppose he was as shy as a boy he being so young hardly 20 of me in the next room hed have heard me on the chamber arrah what harm Dedalus I wonder its like those names in Gibraltar Delapaz Delagracia they had the devils queer names there father Vilaplana of Santa Maria that gave me the rosary Rosales y OReilly in the Calle las Siete Revueltas and Pisimbo and Mrs Opisso in Governor street O what a name Id go and drown myself in the first river if I had a name like her O my and all the bits of streets Paradise ramp and Bedlam ramp and Rodgers ramp and Crutchetts ramp and the devils gap steps well small blame to me if I am a harumscarum I know I am a bit I declare to God I dont feel a day older than then I wonder could I get my tongue round any of the Spanish como esta usted muy bien gracias y usted see I havent forgotten it all I thought I had only for the grammar a noun is the name of any person place or thing pity I never tried to read that novel cantankerous Mrs Rubio lent me by Valera with the questions in it all upside down the two ways I always knew wed go away in the end I can tell him the Spanish and he tell me the Italian then hell see Im not so ignorant what a pity he didnt stay Im sure the poor fellow was dead tired and wanted a good sleep badly I could have brought him in his breakfast in bed with a bit of toast so long as I didnt do it on the knife for bad luck or if the woman was going her rounds with the watercress and something nice and tasty there are a few olives in the kitchen he might like I never could bear the look of them in Abrines I could do the criada the room looks all right since I changed it the other way you see something was telling me all the time Id have to introduce myself not knowing me from Adam very funny wouldnt it Im his wife or pretend we were in Spain with him half awake without a Gods notion where he is dos huevos estrellados senor Lord the cracked things come into my head sometimes itd be great fun supposing he stayed with us why not theres the room upstairs empty and Millys bed in the back room he could do his writing and studies at the table in there for all the scribbling he does at it and if he wants to read in bed in the morning like me as hes making the breakfast for 1 he can make it for 2 Im sure Im not going to take in lodgers off the street for him if he takes a gesabo of a house like this Id love to have a long talk with an intelligent welleducated person Id have to get a nice pair of red slippers like those Turks with the fez used to sell or yellow and a nice semitransparent morning gown that I badly want or a peachblossom dressing jacket like the one long ago in Walpoles only 8/6 or 18/6 Ill just give him one more chance Ill get up early in the morning Im sick of Cohens old bed in any case I might go over to the markets to see all the vegetables and cabbages and tomatoes and carrots and all kinds of splendid fruits all coming in lovely and fresh who knows whod be the 1st man Id meet theyre out looking for it in the morning Mamy Dillon used to say they are and the night too that was her massgoing Id love a big juicy pear now to melt in your mouth like when I used to be in the longing way then Ill throw him up his eggs and tea in the moustachecup she gave him to make his mouth bigger I suppose hed like my nice cream too I know what Ill do Ill go about rather gay not too much singing a bit now and then mi fa pieta Masetto then Ill start dressing myself to go out presto non son piu forte Ill put on my best shift and drawers let him have a good eyeful out of that to make his micky stand for him Ill let him know if thats what he wanted that his wife is fucked yes and damn well fucked too up to my neck nearly not by him 5 or 6 times handrunning theres the mark of his spunk on the clean sheet I wouldnt bother to even iron it out that ought to satisfy him if you dont believe me feel my belly unless I made him stand there and put him into me Ive a mind to tell him every scrap and make him do it out in front of me serve him right its all his own fault if I am an adulteress as the thing in the gallery said O much about it if thats all the harm ever we did in this vale of tears God knows its not much doesnt everybody only they hide it I suppose thats what a woman is supposed to be there for or He wouldnt have made us the way He did so attractive to men then if he wants to kiss my bottom Ill drag open my drawers and bulge it right out in his face as large as life he can stick his tongue 7 miles up my hole as hes there my brown part then Ill tell him I want £ 1 or perhaps 30/- Ill tell him I want to buy underclothes then if he gives me that well he wont be too bad I dont want to soak it all out of him like other women do I could often have written out a fine cheque for myself and write his name on it for a couple of pounds a few times he forgot to lock it up besides he wont spend it Ill let him do it off on me behind provided he doesnt smear all my good drawers O I suppose that cant be helped Ill do the indifferent 1 or 2 questions Ill know by the answers when hes like that he cant keep a thing back I know every turn in him Ill tighten my bottom well and let out a few smutty words smellrump or lick my shit or the first mad thing comes into my head then Ill suggest about yes O wait now sonny my turn is coming Ill be quite gay and friendly over it O but I was forgetting this bloody pest of a thing pfooh you wouldnt know which to laugh or cry were such a mixture of plum and apple no Ill have to wear the old things so much the better itll be more pointed hell never know whether he did it or not there thats good enough for you any old thing at all then Ill wipe him off me just like a business his omission then Ill go out Ill have him eying up at the ceiling where is she gone now make him want me thats the only way a quarter after what an unearthly hour I suppose theyre just getting up in China now combing out their pigtails for the day well soon have the nuns ringing the angelus theyve nobody coming in to spoil their sleep except an odd priest or two for his night office or the alarmclock next door at cockshout clattering the brains out of itself let me see if I can doze off 1 2 3 4 5 what kind of flowers are those they invented like the stars the wallpaper in Lombard street was much nicer the apron he gave me was like that something only I only wore it twice better lower this lamp and try again so as I can get up early Ill go to Lambes there beside Findlaters and get them to send us some flowers to put about the place in case he brings him home tomorrow today I mean no no Fridays an unlucky day first I want to do the place up someway the dust grows in it I think while Im asleep then we can have music and cigarettes I can accompany him first I must clean the keys of the piano with milk whatll I wear shall I wear a white rose or those fairy cakes in Liptons I love the smell of a rich big shop at 7 1/2d a lb or the other ones with the cherries in them and the pinky sugar 11d a couple of lbs of those a nice plant for the middle of the table Id get that cheaper in wait wheres this I saw them not long ago I love flowers Id love to have the whole place swimming in roses God of heaven theres nothing like nature the wild mountains then the sea and the waves rushing then the beautiful country with the fields of oats and wheat and all kinds of things and all the fine cattle going about that would do your heart good to see rivers and lakes and flowers all sorts of shapes and smells and colours springing up even out of the ditches primroses and violets nature it is as for them saying theres no God I wouldnt give a snap of my two fingers for all their learning why dont they go and create something I often asked him atheists or whatever they call themselves go and wash the cobbles off themselves first then they go howling for the priest and they dying and why why because theyre afraid of hell on account of their bad conscience ah yes I know them well who was the first person in the universe before there was anybody that made it all who ah that they dont know neither do I so there you are they might as well try to stop the sun from rising tomorrow the sun shines for you he said the day we were lying among the rhododendrons on Howth head in the grey tweed suit and his straw hat the day I got him to propose to me yes first I gave him the bit of seedcake out of my mouth and it was leapyear like now yes 16 years ago my God after that long kiss I near lost my breath yes he said I was a flower of the mountain yes so we are flowers all a womans body yes that was one true thing he said in his life and the sun shines for you today yes that was why I liked him because I saw he understood or felt what a woman is and I knew I could always get round him and I gave him all the pleasure I could leading him on till he asked me to say yes and I wouldnt answer first only looked out over the sea and the sky I was thinking of so many things he didnt know of Mulvey and Mr Stanhope and Hester and father and old captain Groves and the sailors playing all birds fly and I say stoop and washing up dishes they called it on the pier and the sentry in front of the governors house with the thing round his white helmet poor devil half roasted and the Spanish girls laughing in their shawls and their tall combs and the auctions in the morning the Greeks and the jews and the Arabs and the devil knows who else from all the ends of Europe and Duke street and the fowl market all clucking outside Larby Sharons and the poor donkeys slipping half asleep and the vague fellows in the cloaks asleep in the shade on the steps and the big wheels of the carts of the bulls and the old castle thousands of years old yes and those handsome Moors all in white and turbans like kings asking you to sit down in their little bit of a shop and Ronda with the old windows of the posadas 2 glancing eyes a lattice hid for her lover to kiss the iron and the wineshops half open at night and the castanets and the night we missed the boat at Algeciras the watchman going about serene with his lamp and O that awful deepdown torrent O and the sea the sea crimson sometimes like fire and the glorious sunsets and the figtrees in the Alameda gardens yes and all the queer little streets and the pink and blue and yellow houses and the rosegardens and the jessamine and geraniums and cactuses and Gibraltar as a girl where I was a Flower of the mountain yes when I put the rose in my hair like the Andalusian girls used or shall I wear a red yes and how he kissed me under the Moorish wall and I thought well as well him as another and then I asked him with my eyes to ask again yes and then he asked me would I yes to say yes my mountain flower and first I put my arms around him yes and drew him down to me so he could feel my breasts all perfume yes and his heart was going like mad and yes I said yes I will Yes.'"
      ]
     },
     "execution_count": 100,
     "metadata": {},
     "output_type": "execute_result"
    }
   ],
   "source": [
    "ulysses_sents = nltk.sent_tokenize(ulysses)\n",
    "\n",
    "max_length = 0\n",
    "longest_sentence = \"\"\n",
    "for s in ulysses_sents:\n",
    "    if len(s) > max_length:\n",
    "        max_length = len(s)\n",
    "        longest_sentence = s\n",
    "\n",
    "longest_sentence"
   ]
  },
  {
   "cell_type": "markdown",
   "metadata": {},
   "source": [
    "*I then remembered that the final chapter of \"Ulysses\" is one long unpunctuated stream-of-consciousness text, and that the code above returned this as the longest sentence in the novel. Needless to say, this sentence could hardly be considered representational.*\n",
    "\n",
    "*So, I then tried a Sherlock Holmes text:*"
   ]
  },
  {
   "cell_type": "code",
   "execution_count": 101,
   "metadata": {},
   "outputs": [
    {
     "data": {
      "text/plain": [
       "'It is pleasant to me to observe, Watson, that you have so far grasped this truth that in these little records of our cases which you have been good enough to draw up, and, I am bound to say, occasionally to embellish, you have given prominence not so much to the many _causes célèbres_ and sensational trials in which I have figured but rather to those incidents which may have been trivial in themselves, but which have given room for those faculties of deduction and of logical synthesis which I have made my special province.”  “And yet,” said I, smiling, “I cannot quite hold myself absolved from the charge of sensationalism which has been urged against my records.”  “You have erred, perhaps,” he observed, taking up a glowing cinder with the tongs and lighting with it the long cherry-wood pipe which was wont to replace his clay when he was in a disputatious rather than a meditative mood—“you have erred perhaps in attempting to put colour and life into each of your statements instead of confining yourself to the task of placing upon record that severe reasoning from cause to effect which is really the only notable feature about the thing.”  “It seems to me that I have done you full justice in the matter,” I remarked with some coldness, for I was repelled by the egotism which I had more than once observed to be a strong factor in my friend’s singular character.'"
      ]
     },
     "execution_count": 101,
     "metadata": {},
     "output_type": "execute_result"
    }
   ],
   "source": [
    "opened_text = open('sherlock.txt', 'r', encoding = \"utf8\")\n",
    "sherlock = []\n",
    "for line in opened_text:\n",
    "    sherlock.append(line)\n",
    "    \n",
    "sherlock = ' '.join(sherlock)\n",
    "\n",
    "sherlock = re.sub('\\n ', ' ', sherlock)\n",
    "sherlock = re.sub('\\ufeff   ', '', sherlock)\n",
    "\n",
    "sherlock_sents = nltk.sent_tokenize(sherlock)\n",
    "\n",
    "max_length = 0\n",
    "longest_sentence = \"\"\n",
    "for s in sherlock_sents:\n",
    "    if len(s) > max_length:\n",
    "        max_length = len(s)\n",
    "        longest_sentence = s\n",
    "\n",
    "longest_sentence"
   ]
  },
  {
   "cell_type": "markdown",
   "metadata": {},
   "source": [
    "*Like the longest sentence found in \"Alice Through the Looking Glass\", this sentence is more like a paragraph filled with direct quotes.*\n",
    "\n",
    "*Worried that the problem was due to the way the texts were saved, I tried one of the texts included with the NLTK library to see if the results would be any different:*"
   ]
  },
  {
   "cell_type": "code",
   "execution_count": 102,
   "metadata": {},
   "outputs": [
    {
     "data": {
      "text/plain": [
       "'\"As I say,\" resumed the Professor, like a man toiling through\\nheavy sand, \"the incident that has occurred to us and has led\\nus to ask for information about the Marquis, is one which you\\nmay think it better to have narrated; but as it came in the\\nway of Comrade Syme rather than me--\"\\n\\nHis words he seemed to be dragging out like words in an anthem;\\nbut Syme, who was watching, saw his long fingers rattle quickly\\non the edge of the crazy table.'"
      ]
     },
     "execution_count": 102,
     "metadata": {},
     "output_type": "execute_result"
    }
   ],
   "source": [
    "text = nltk.corpus.gutenberg.raw('chesterton-thursday.txt')\n",
    "sents = nltk.sent_tokenize(text)\n",
    "max_length = 0\n",
    "longest_sentence = \"\"\n",
    "for s in sents:\n",
    "    if len(s) > max_length:\n",
    "        max_length = len(s)\n",
    "        longest_sentence = s\n",
    "\n",
    "longest_sentence"
   ]
  },
  {
   "cell_type": "markdown",
   "metadata": {},
   "source": [
    "*And there's your answer.  Long sentences (amongst the texts in Project Gutenberg, at least) tend to have direct quotes within them.  Personally, I don't think that this exercise was a very good one, since I susptect that longer sentences have syntactic constructions such as lots of coordinating conjuctions, adverbials of time, and relative pronouns.  However, that's not what we found when we analyzed the Project Gutenberg texts, and accordingly I would recommend using different texts for an analysis of what makes a sentence long.  I sincerely hope that the authors of the book piloted these questions before publishing the book; but all too often I come across exercises like these that make me wonder if the authors actually tried to find the answers for themselves before posing these questions.*\n",
    "\n",
    "\n",
    "*__I'm finding the remaining questions a bit tough to tackle on my own, so I'm going to press on to the next chapter, and - time permitting - come back to these later.__*\n",
    "\n"
   ]
  }
 ],
 "metadata": {
  "kernelspec": {
   "display_name": "Python 3",
   "language": "python",
   "name": "python3"
  },
  "language_info": {
   "codemirror_mode": {
    "name": "ipython",
    "version": 3
   },
   "file_extension": ".py",
   "mimetype": "text/x-python",
   "name": "python",
   "nbconvert_exporter": "python",
   "pygments_lexer": "ipython3",
   "version": "3.7.3"
  }
 },
 "nbformat": 4,
 "nbformat_minor": 2
}
