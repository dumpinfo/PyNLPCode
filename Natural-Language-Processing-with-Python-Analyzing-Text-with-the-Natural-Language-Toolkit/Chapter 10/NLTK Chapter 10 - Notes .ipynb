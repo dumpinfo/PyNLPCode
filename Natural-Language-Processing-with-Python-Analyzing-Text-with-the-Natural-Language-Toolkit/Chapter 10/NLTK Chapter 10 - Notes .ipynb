{
 "cells": [
  {
   "cell_type": "markdown",
   "metadata": {},
   "source": [
    "# NLTK Chapter 10\n",
    "\n",
    "## Analyzing the Meaning of Sentences\n",
    "\n",
    "*The html version of this chapter in the book is available [here](https://www.nltk.org/book/ch10.html \"ch10\").*\n",
    "\n",
    "__*I skipped this chapter, as I have scant experience with propositional logic, and didn't feel that any of the techniques therein had any practical value for me.*__"
   ]
  }
 ],
 "metadata": {
  "kernelspec": {
   "display_name": "Python 3",
   "language": "python",
   "name": "python3"
  },
  "language_info": {
   "codemirror_mode": {
    "name": "ipython",
    "version": 3
   },
   "file_extension": ".py",
   "mimetype": "text/x-python",
   "name": "python",
   "nbconvert_exporter": "python",
   "pygments_lexer": "ipython3",
   "version": "3.7.3"
  }
 },
 "nbformat": 4,
 "nbformat_minor": 2
}
