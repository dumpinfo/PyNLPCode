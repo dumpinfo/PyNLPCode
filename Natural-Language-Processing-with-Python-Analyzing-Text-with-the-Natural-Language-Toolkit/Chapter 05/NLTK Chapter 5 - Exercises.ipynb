{
 "cells": [
  {
   "cell_type": "markdown",
   "metadata": {},
   "source": [
    "# NLTK Chapter 5\n",
    "\n",
    "## Categorizing and Tagging Words\n",
    "\n",
    "*The html version of this chapter in the NLTK book is available [here](https://www.nltk.org/book/ch05.html#exercises \"Ch05 Exercises\").*\n",
    "\n",
    "### 5.10   Exercises\n",
    "\n",
    "##### 1.\n",
    "\n",
    "☼ Search the web for \"spoof newspaper headlines\", to find such gems as: *British Left Waffles on Falkland Islands*, and *Juvenile Court to Try Shooting Defendant*. Manually tag these headlines to see if knowledge of the part-of-speech tags removes the ambiguity."
   ]
  },
  {
   "cell_type": "markdown",
   "metadata": {},
   "source": [
    "*No, the ambiguity is not necessarily removed.  For example, in __\"Drunk Gets Nine Months in Violin Case\"__, the ambiguity concerns the two senses of the word \"Case\", which are both nouns.  Likewise with the headline __\"Miners Refuse to Work after Death\"__, where the two senses of \"Death\" are also nouns.*  "
   ]
  },
  {
   "cell_type": "markdown",
   "metadata": {},
   "source": [
    "##### 2.\n",
    "\n",
    "☼ Working with someone else, take turns to pick a word that can be either a noun or a verb (e.g. *contest*); the opponent has to predict which one is likely to be the most frequent in the Brown corpus; check the opponent's prediction, and tally the score over several turns.\n",
    "\n",
    "*I'm just playing against myself.  I took a list of words from [this page](https://www.businessenglishresources.com/learn-english-for-business/teachers-section/mini-lessons/pronunciation-lessons-pronunciation-changes-in-words-that-are-both-nouns-and-verbs/ \"words that are both nouns and verbs\"), and manually sorted them into two lists: one for words I thought were more likely to be nouns, and one for words I thought were more likely to be verbs.  I then devised code which programmatically check this for me:*"
   ]
  },
  {
   "cell_type": "code",
   "execution_count": 29,
   "metadata": {},
   "outputs": [],
   "source": [
    "import nltk"
   ]
  },
  {
   "cell_type": "code",
   "execution_count": 30,
   "metadata": {},
   "outputs": [],
   "source": [
    "btw = nltk.corpus.brown.tagged_words()\n",
    "cfd = nltk.ConditionalFreqDist(btw)\n",
    "likely_nouns = [\"conduct\", \"combat\", \"conflict\", \"contest\", \"contract\", \n",
    "                \"impact\", \"insult\", \"object\", \"present\", \"progress\", \"project\",\n",
    "                \"rebel\", \"refill\", \"refund\", \"subject\"]"
   ]
  },
  {
   "cell_type": "code",
   "execution_count": 31,
   "metadata": {},
   "outputs": [
    {
     "data": {
      "text/plain": [
       "0.8666666666666667"
      ]
     },
     "execution_count": 31,
     "metadata": {},
     "output_type": "execute_result"
    }
   ],
   "source": [
    "sum([cfd[ln].most_common()[0][0] == 'NN' for ln in likely_nouns])/len(likely_nouns)"
   ]
  },
  {
   "cell_type": "code",
   "execution_count": 32,
   "metadata": {},
   "outputs": [
    {
     "data": {
      "text/plain": [
       "[('present', [('JJ', 220), ('RB', 63), ('NN', 44), ('VB', 39), ('AP', 4)]),\n",
       " ('refill', [('VB', 1)])]"
      ]
     },
     "execution_count": 32,
     "metadata": {},
     "output_type": "execute_result"
    }
   ],
   "source": [
    "[(ln, cfd[ln].most_common()) for ln in likely_nouns if cfd[ln].most_common()[0][0] != 'NN']"
   ]
  },
  {
   "cell_type": "code",
   "execution_count": 33,
   "metadata": {},
   "outputs": [
    {
     "name": "stdout",
     "output_type": "stream",
     "text": [
      "JJ: adjective\n",
      "    ecent over-all possible hard-fought favorable hard meager fit such\n",
      "    widespread outmoded inadequate ambiguous grand clerical effective\n",
      "    orderly federal foster general proportionate ...\n"
     ]
    }
   ],
   "source": [
    "nltk.help.brown_tagset('JJ')"
   ]
  },
  {
   "cell_type": "markdown",
   "metadata": {},
   "source": [
    "*I neglected to consider that 'present' can also be an adjective.  I was also suprised that 'refill' was only in the corpus once, which may be an artifact of the corpus's age, as soft drink fountains weren't as ubiquitous 50 years ago.*\n",
    "\n",
    "*Trying the same with the words I suspect are more common as verbs:*"
   ]
  },
  {
   "cell_type": "code",
   "execution_count": 34,
   "metadata": {},
   "outputs": [],
   "source": [
    "dual_meaning = [\"conduct\", \"attribute\", \"combat\", \"conflict\", \"contest\", \n",
    "                \"contract\", \"decrease\", \"escort\", \"impact\", \"increase\", \n",
    "                \"insult\", \"object\", \"permit\", \"present\", \"proceed\", \"progress\",\n",
    "                \"project\", \"rebel\", \"refill\", \"refund\", \"reject\", \"repeat\", \n",
    "                \"subject\", \"suspect\"]\n",
    "likely_verbs = [dm for dm in dual_meaning if dm not in likely_nouns]"
   ]
  },
  {
   "cell_type": "code",
   "execution_count": 35,
   "metadata": {},
   "outputs": [
    {
     "data": {
      "text/plain": [
       "0.6666666666666666"
      ]
     },
     "execution_count": 35,
     "metadata": {},
     "output_type": "execute_result"
    }
   ],
   "source": [
    "sum([cfd[lv].most_common()[0][0] == 'VB' for lv in likely_verbs])/len(likely_verbs)"
   ]
  },
  {
   "cell_type": "code",
   "execution_count": 36,
   "metadata": {},
   "outputs": [
    {
     "data": {
      "text/plain": [
       "[('attribute', [('NN', 4), ('VB', 2)]),\n",
       " ('escort', [('NN', 5), ('VB', 4)]),\n",
       " ('increase', [('NN', 112), ('VB', 81), ('VB-HL', 1)])]"
      ]
     },
     "execution_count": 36,
     "metadata": {},
     "output_type": "execute_result"
    }
   ],
   "source": [
    "[(lv, cfd[lv].most_common()) for lv in likely_verbs if cfd[lv].most_common()[0][0] != 'VB']"
   ]
  },
  {
   "cell_type": "markdown",
   "metadata": {},
   "source": [
    "##### 3. \n",
    "\n",
    "☼ Tokenize and tag the following sentence: *They wind back the clock, while we chase after the wind.* What different pronunciations and parts of speech are involved?\n",
    "\n",
    "*Using the universal tagset.  A good description thereof can be found [here](https://universaldependencies.org/u/pos/ \"Universal Tagset\"):*\n",
    "\n",
    "They|PRON wind|VERB back|ADP the|DET clock|NOUN ,|PUNCT while|CCONJ we|PRON chase|VERB after|ADP the|DET wind|NOUN .|PUNCT\n",
    "\n",
    "*The only homonyms that could be pronounced differently are wind|VERB __/ˈwaɪnd/__ and wind|NOUN __/ˈwɪnd/__.*"
   ]
  },
  {
   "cell_type": "markdown",
   "metadata": {},
   "source": [
    "##### 4. \n",
    "\n",
    "☼ Review the mappings in [3.1](https://www.nltk.org/book/ch05.html#tab-linguistic-objects). Discuss any other examples of mappings you can think of. What type of information do they map from and to?\n",
    "\n",
    "*A phone book maps from names to phone numbers;  A map maps from GPS coordinates to a physical location;  A schedule maps from times to events; etc...*\n",
    "\n",
    "#### 5.\n",
    "\n",
    "☼ Using the Python interpreter in interactive mode, experiment with the dictionary examples in this chapter. Create a dictionary `d`, and add some entries. What happens if you try to access a non-existent entry, e.g. `d['xyz']`?\n"
   ]
  },
  {
   "cell_type": "code",
   "execution_count": 37,
   "metadata": {},
   "outputs": [],
   "source": [
    "d = {'123': 'easy as', 'DoReMi': 'simple as', 'abc': 'baby, you and me girl'}"
   ]
  },
  {
   "cell_type": "markdown",
   "metadata": {},
   "source": [
    "*Looking up a non-existent key will throw an error:*\n",
    "\n",
    "```\n",
    "d['xyz']\n",
    "\n",
    "---------------------------------------------------------------------------\n",
    "KeyError                                  Traceback (most recent call last)\n",
    "<ipython-input-27-eff1decdc6c9> in <module>\n",
    "----> 1 d['xyz']\n",
    "\n",
    "KeyError: 'xyz'\n",
    "    \n",
    "```"
   ]
  },
  {
   "cell_type": "markdown",
   "metadata": {},
   "source": [
    "##### 6.\n",
    "\n",
    "☼ Try deleting an element from a dictionary `d`, using the syntax `del d['abc']`. Check that the item was deleted."
   ]
  },
  {
   "cell_type": "code",
   "execution_count": 38,
   "metadata": {},
   "outputs": [
    {
     "data": {
      "text/plain": [
       "'baby, you and me girl'"
      ]
     },
     "execution_count": 38,
     "metadata": {},
     "output_type": "execute_result"
    }
   ],
   "source": [
    "d['abc']"
   ]
  },
  {
   "cell_type": "code",
   "execution_count": 39,
   "metadata": {},
   "outputs": [],
   "source": [
    "del d['abc']"
   ]
  },
  {
   "cell_type": "markdown",
   "metadata": {},
   "source": [
    "```\n",
    "d['abc']\n",
    "\n",
    "---------------------------------------------------------------------------\n",
    "KeyError                                  Traceback (most recent call last)\n",
    "<ipython-input-29-d1565fe7f927> in <module>\n",
    "----> 1 d['abc']\n",
    "\n",
    "KeyError: 'abc'\n",
    "    \n",
    "```"
   ]
  },
  {
   "cell_type": "markdown",
   "metadata": {},
   "source": [
    "##### 7.\n",
    "\n",
    "☼ Create two dictionaries, `d1` and `d2`, and add some entries to each. Now issue the command `d1.update(d2)`. What did this do? What might it be useful for?"
   ]
  },
  {
   "cell_type": "code",
   "execution_count": 40,
   "metadata": {},
   "outputs": [],
   "source": [
    "d1 = {'do': 'a deer, a female deer', 're': 'a drop of golden sun'}\n",
    "d2 = {'mi': 'a name I call myself', 'fa': 'a long, long way to run'}"
   ]
  },
  {
   "cell_type": "code",
   "execution_count": 41,
   "metadata": {},
   "outputs": [
    {
     "data": {
      "text/plain": [
       "{'do': 'a deer, a female deer',\n",
       " 're': 'a drop of golden sun',\n",
       " 'mi': 'a name I call myself',\n",
       " 'fa': 'a long, long way to run'}"
      ]
     },
     "execution_count": 41,
     "metadata": {},
     "output_type": "execute_result"
    }
   ],
   "source": [
    "d1.update(d2)\n",
    "d1"
   ]
  },
  {
   "cell_type": "markdown",
   "metadata": {},
   "source": [
    "*It concatenated the dictionaries.  It's useful for updating dictionaries without having to redefine them.*\n",
    "\n",
    "##### 8. \n",
    "\n",
    "☼ Create a dictionary `e`, to represent a single lexical entry for some word of your choice. Define keys like `headword`, `part-of-speech`, `sense`, and `example`, and assign them suitable values."
   ]
  },
  {
   "cell_type": "code",
   "execution_count": 42,
   "metadata": {},
   "outputs": [],
   "source": [
    "# winklepicker\n",
    "\n",
    "e = {'headword': 'A style of boot with a severely pointed toe, fashionable in the 1950s.',\n",
    "  'part-of-speech': 'Noun', \n",
    "  'sense': 'type of footwear', \n",
    "  'example': 'Winklepickers were very popular among mods in the 60s.'}"
   ]
  },
  {
   "cell_type": "code",
   "execution_count": 43,
   "metadata": {},
   "outputs": [
    {
     "data": {
      "text/plain": [
       "{'headword': 'A style of boot with a severely pointed toe, fashionable in the 1950s.',\n",
       " 'part-of-speech': 'Noun',\n",
       " 'sense': 'type of footwear',\n",
       " 'example': 'Winklepickers were very popular among mods in the 60s.'}"
      ]
     },
     "execution_count": 43,
     "metadata": {},
     "output_type": "execute_result"
    }
   ],
   "source": [
    "e"
   ]
  },
  {
   "cell_type": "markdown",
   "metadata": {},
   "source": [
    "##### 9. \n",
    "\n",
    "☼ Satisfy yourself that there are restrictions on the distribution of *go* and *went*, in the sense that they cannot be freely interchanged in the kinds of contexts illustrated in ([3d](https://www.nltk.org/book/ch05.html#ex-go)) in [7](https://www.nltk.org/book/ch05.html#sec-how-to-determine-the-category-of-a-word).\n",
    "\n",
    "<i>'Go' cannot be replaced by 'went' when used in the imperative mood (e.g., \"*Please went.\", or when referring to future events (e.g., \"*They will went to the festival tomorrow.\").  'Went' cannot be replaced by 'go' for the 3rd person: \"*He go to school in the morning.\"</i>"
   ]
  },
  {
   "cell_type": "markdown",
   "metadata": {},
   "source": [
    "##### 10. \n",
    "\n",
    "☼ Train a unigram tagger and run it on some new text. Observe that some words are not assigned a tag. Why not?"
   ]
  },
  {
   "cell_type": "code",
   "execution_count": 44,
   "metadata": {},
   "outputs": [],
   "source": [
    "from nltk.corpus import brown\n",
    "unigram_tagger = nltk.UnigramTagger(brown.tagged_sents())"
   ]
  },
  {
   "cell_type": "code",
   "execution_count": 45,
   "metadata": {},
   "outputs": [
    {
     "data": {
      "text/plain": [
       "[('this', 'DT'),\n",
       " (\"shouldn't\", 'MD*'),\n",
       " ('be', 'BE'),\n",
       " ('too', 'QL'),\n",
       " ('difficult', 'JJ')]"
      ]
     },
     "execution_count": 45,
     "metadata": {},
     "output_type": "execute_result"
    }
   ],
   "source": [
    "test = \"this shouldn't be too difficult\"\n",
    "unigram_tagger.tag(test.split())"
   ]
  },
  {
   "cell_type": "code",
   "execution_count": 46,
   "metadata": {},
   "outputs": [
    {
     "data": {
      "text/plain": [
       "[('this', 'DT'),\n",
       " ('should', 'MD'),\n",
       " ('be', 'BE'),\n",
       " ('a', 'AT'),\n",
       " ('bit', 'NN'),\n",
       " ('more', 'QL'),\n",
       " ('of', 'IN'),\n",
       " ('a', 'AT'),\n",
       " ('challenge,', None),\n",
       " ('as', 'CS'),\n",
       " ('they', 'PPSS'),\n",
       " (\"didn't\", 'DOD*'),\n",
       " ('have', 'HV'),\n",
       " ('blogs', None),\n",
       " ('when', 'WRB'),\n",
       " ('the', 'AT'),\n",
       " ('corpus', 'NN'),\n",
       " ('was', 'BEDZ'),\n",
       " ('compiled', 'VBN')]"
      ]
     },
     "execution_count": 46,
     "metadata": {},
     "output_type": "execute_result"
    }
   ],
   "source": [
    "test2 = \"\"\"\n",
    "        this should be a bit more of a challenge, \n",
    "        as they didn't have blogs when the corpus\n",
    "        was compiled\n",
    "        \"\"\"\n",
    "unigram_tagger.tag(test2.split())"
   ]
  },
  {
   "cell_type": "markdown",
   "metadata": {},
   "source": [
    "*I expected that the word 'blog' would be tagged with `None`, as I was certain it wouldn't have appeared in the Brown Corpus.  But I was surprised to see that 'challenge' was also tagged with `None`.  I tried to do a little investigating into this, but wasn't able to come up with a satisfactory answer.  I suspected it may have had something to do with the fact that challenge can be either a noun or a verb, but other words with this quality don't seem to be tagged with `None`.*"
   ]
  },
  {
   "cell_type": "code",
   "execution_count": 47,
   "metadata": {},
   "outputs": [
    {
     "data": {
      "text/plain": [
       "FreqDist({'NN': 21, 'VB': 14})"
      ]
     },
     "execution_count": 47,
     "metadata": {},
     "output_type": "execute_result"
    }
   ],
   "source": [
    "cfd = nltk.ConditionalFreqDist(brown.tagged_words())\n",
    "cfd['challenge']"
   ]
  },
  {
   "cell_type": "code",
   "execution_count": 48,
   "metadata": {},
   "outputs": [
    {
     "data": {
      "text/plain": [
       "FreqDist({'NN': 5, 'VB': 4})"
      ]
     },
     "execution_count": 48,
     "metadata": {},
     "output_type": "execute_result"
    }
   ],
   "source": [
    "cfd['escort']"
   ]
  },
  {
   "cell_type": "code",
   "execution_count": 49,
   "metadata": {},
   "outputs": [
    {
     "data": {
      "text/plain": [
       "[('what', 'WDT'),\n",
       " ('about', 'IN'),\n",
       " ('the', 'AT'),\n",
       " ('word', 'NN'),\n",
       " ('escort', 'NN')]"
      ]
     },
     "execution_count": 49,
     "metadata": {},
     "output_type": "execute_result"
    }
   ],
   "source": [
    "test3 = 'what about the word escort'\n",
    "unigram_tagger.tag(test3.split())"
   ]
  },
  {
   "cell_type": "markdown",
   "metadata": {},
   "source": [
    "##### 11.\n",
    "\n",
    "☼ Learn about the affix tagger (type `help(nltk.AffixTagger)`). Train an affix tagger and run it on some new text. Experiment with different settings for the affix length and the minimum word length. Discuss your findings."
   ]
  },
  {
   "cell_type": "code",
   "execution_count": 50,
   "metadata": {},
   "outputs": [
    {
     "name": "stdout",
     "output_type": "stream",
     "text": [
      "Help on class AffixTagger in module nltk.tag.sequential:\n",
      "\n",
      "class AffixTagger(ContextTagger)\n",
      " |  AffixTagger(train=None, model=None, affix_length=-3, min_stem_length=2, backoff=None, cutoff=0, verbose=False)\n",
      " |  \n",
      " |  A tagger that chooses a token's tag based on a leading or trailing\n",
      " |  substring of its word string.  (It is important to note that these\n",
      " |  substrings are not necessarily \"true\" morphological affixes).  In\n",
      " |  particular, a fixed-length substring of the word is looked up in a\n",
      " |  table, and the corresponding tag is returned.  Affix taggers are\n",
      " |  typically constructed by training them on a tagged corpus.\n",
      " |  \n",
      " |  Construct a new affix tagger.\n",
      " |  \n",
      " |  :param affix_length: The length of the affixes that should be\n",
      " |      considered during training and tagging.  Use negative\n",
      " |      numbers for suffixes.\n",
      " |  :param min_stem_length: Any words whose length is less than\n",
      " |      min_stem_length+abs(affix_length) will be assigned a\n",
      " |      tag of None by this tagger.\n",
      " |  \n",
      " |  Method resolution order:\n",
      " |      AffixTagger\n",
      " |      ContextTagger\n",
      " |      SequentialBackoffTagger\n",
      " |      nltk.tag.api.TaggerI\n",
      " |      builtins.object\n",
      " |  \n",
      " |  Methods defined here:\n",
      " |  \n",
      " |  __init__(self, train=None, model=None, affix_length=-3, min_stem_length=2, backoff=None, cutoff=0, verbose=False)\n",
      " |      :param context_to_tag: A dictionary mapping contexts to tags.\n",
      " |      :param backoff: The backoff tagger that should be used for this tagger.\n",
      " |  \n",
      " |  context(self, tokens, index, history)\n",
      " |      :return: the context that should be used to look up the tag\n",
      " |          for the specified token; or None if the specified token\n",
      " |          should not be handled by this tagger.\n",
      " |      :rtype: (hashable)\n",
      " |  \n",
      " |  encode_json_obj(self)\n",
      " |  \n",
      " |  ----------------------------------------------------------------------\n",
      " |  Class methods defined here:\n",
      " |  \n",
      " |  decode_json_obj(obj) from abc.ABCMeta\n",
      " |  \n",
      " |  ----------------------------------------------------------------------\n",
      " |  Data and other attributes defined here:\n",
      " |  \n",
      " |  __abstractmethods__ = frozenset()\n",
      " |  \n",
      " |  json_tag = 'nltk.tag.sequential.AffixTagger'\n",
      " |  \n",
      " |  ----------------------------------------------------------------------\n",
      " |  Methods inherited from ContextTagger:\n",
      " |  \n",
      " |  __repr__(self)\n",
      " |      Return repr(self).\n",
      " |  \n",
      " |  choose_tag(self, tokens, index, history)\n",
      " |      Decide which tag should be used for the specified token, and\n",
      " |      return that tag.  If this tagger is unable to determine a tag\n",
      " |      for the specified token, return None -- do not consult\n",
      " |      the backoff tagger.  This method should be overridden by\n",
      " |      subclasses of SequentialBackoffTagger.\n",
      " |      \n",
      " |      :rtype: str\n",
      " |      :type tokens: list\n",
      " |      :param tokens: The list of words that are being tagged.\n",
      " |      :type index: int\n",
      " |      :param index: The index of the word whose tag should be\n",
      " |          returned.\n",
      " |      :type history: list(str)\n",
      " |      :param history: A list of the tags for all words before *index*.\n",
      " |  \n",
      " |  size(self)\n",
      " |      :return: The number of entries in the table used by this\n",
      " |          tagger to map from contexts to tags.\n",
      " |  \n",
      " |  ----------------------------------------------------------------------\n",
      " |  Methods inherited from SequentialBackoffTagger:\n",
      " |  \n",
      " |  tag(self, tokens)\n",
      " |      Determine the most appropriate tag sequence for the given\n",
      " |      token sequence, and return a corresponding list of tagged\n",
      " |      tokens.  A tagged token is encoded as a tuple ``(token, tag)``.\n",
      " |      \n",
      " |      :rtype: list(tuple(str, str))\n",
      " |  \n",
      " |  tag_one(self, tokens, index, history)\n",
      " |      Determine an appropriate tag for the specified token, and\n",
      " |      return that tag.  If this tagger is unable to determine a tag\n",
      " |      for the specified token, then its backoff tagger is consulted.\n",
      " |      \n",
      " |      :rtype: str\n",
      " |      :type tokens: list\n",
      " |      :param tokens: The list of words that are being tagged.\n",
      " |      :type index: int\n",
      " |      :param index: The index of the word whose tag should be\n",
      " |          returned.\n",
      " |      :type history: list(str)\n",
      " |      :param history: A list of the tags for all words before *index*.\n",
      " |  \n",
      " |  ----------------------------------------------------------------------\n",
      " |  Data descriptors inherited from SequentialBackoffTagger:\n",
      " |  \n",
      " |  backoff\n",
      " |      The backoff tagger for this tagger.\n",
      " |  \n",
      " |  ----------------------------------------------------------------------\n",
      " |  Methods inherited from nltk.tag.api.TaggerI:\n",
      " |  \n",
      " |  evaluate(self, gold)\n",
      " |      Score the accuracy of the tagger against the gold standard.\n",
      " |      Strip the tags from the gold standard text, retag it using\n",
      " |      the tagger, then compute the accuracy score.\n",
      " |      \n",
      " |      :type gold: list(list(tuple(str, str)))\n",
      " |      :param gold: The list of tagged sentences to score the tagger on.\n",
      " |      :rtype: float\n",
      " |  \n",
      " |  tag_sents(self, sentences)\n",
      " |      Apply ``self.tag()`` to each element of *sentences*.  I.e.:\n",
      " |      \n",
      " |          return [self.tag(sent) for sent in sentences]\n",
      " |  \n",
      " |  ----------------------------------------------------------------------\n",
      " |  Data descriptors inherited from nltk.tag.api.TaggerI:\n",
      " |  \n",
      " |  __dict__\n",
      " |      dictionary for instance variables (if defined)\n",
      " |  \n",
      " |  __weakref__\n",
      " |      list of weak references to the object (if defined)\n",
      "\n"
     ]
    }
   ],
   "source": [
    "help(nltk.AffixTagger)"
   ]
  },
  {
   "cell_type": "markdown",
   "metadata": {},
   "source": [
    "*Creating and calling a number of taggers will soon create an illegible mess, so I'm adapting some code from earlier this chapter to make a graph of affix taggers, using affix lengths from -5 to 5:*"
   ]
  },
  {
   "cell_type": "code",
   "execution_count": 51,
   "metadata": {},
   "outputs": [],
   "source": [
    "%matplotlib inline"
   ]
  },
  {
   "cell_type": "code",
   "execution_count": 52,
   "metadata": {},
   "outputs": [],
   "source": [
    "import matplotlib.pyplot as plt\n",
    "import numpy as np\n",
    "\n",
    "brown_tagged_sents = brown.tagged_sents(categories = 'news')\n",
    "brown_sents = brown.sents(categories = 'news')\n",
    "\n",
    "def performance(affix_size):\n",
    "    affix_tagger = nltk.AffixTagger(brown_tagged_sents, affix_length = affix_size)\n",
    "    return affix_tagger.evaluate(brown_tagged_sents)\n",
    "\n",
    "def display():\n",
    "    sizes = np.arange(-5, 6)\n",
    "    perfs = [performance(size) for size in sizes]\n",
    "    plt.plot(sizes, perfs, '-bo')\n",
    "    plt.title('Affix Tagger Performance with Varying Affix Length')\n",
    "    plt.xlabel('Affix Length')\n",
    "    plt.ylabel('Performance')\n",
    "    plt.show()"
   ]
  },
  {
   "cell_type": "code",
   "execution_count": 53,
   "metadata": {},
   "outputs": [
    {
     "data": {
      "image/png": "[encoded data removed]",
      "text/plain": [
       "<Figure size 432x288 with 1 Axes>"
      ]
     },
     "metadata": {
      "needs_background": "light"
     },
     "output_type": "display_data"
    }
   ],
   "source": [
    "display()"
   ]
  },
  {
   "cell_type": "markdown",
   "metadata": {},
   "source": [
    "*As you can see, the most accurate length by far is 0, suggesting that the affix tagger is not very effective (at least in English).  If we were to use it, an affix length of -2 appears to be slightly more effective than other lengths.*"
   ]
  },
  {
   "cell_type": "markdown",
   "metadata": {},
   "source": [
    "##### 12. \n",
    "\n",
    "☼ Train a bigram tagger with no backoff tagger, and run it on some of the training data. Next, run it on some new data. What happens to the performance of the tagger? Why?"
   ]
  },
  {
   "cell_type": "code",
   "execution_count": 54,
   "metadata": {},
   "outputs": [
    {
     "data": {
      "text/plain": [
       "0.7884137382485832"
      ]
     },
     "execution_count": 54,
     "metadata": {},
     "output_type": "execute_result"
    }
   ],
   "source": [
    "size = int(len(brown_tagged_sents) * 0.9)\n",
    "\n",
    "train_sents = brown_tagged_sents[:size]\n",
    "test_sents = brown_tagged_sents[size:]\n",
    "bigram_tagger = nltk.BigramTagger(train_sents)\n",
    "bigram_tagger.evaluate(train_sents)"
   ]
  },
  {
   "cell_type": "code",
   "execution_count": 55,
   "metadata": {},
   "outputs": [
    {
     "data": {
      "text/plain": [
       "0.10206319146815508"
      ]
     },
     "execution_count": 55,
     "metadata": {},
     "output_type": "execute_result"
    }
   ],
   "source": [
    "bigram_tagger.evaluate(test_sents)"
   ]
  },
  {
   "cell_type": "markdown",
   "metadata": {},
   "source": [
    "*It drops precipitously when it sees new data.  As was covered in the chapter, bigrams depend entirely on the tag of the first word in the bigram.  If the tag for the first word is `None`, then the tags for all subsequent words will also be `None`.*"
   ]
  },
  {
   "cell_type": "markdown",
   "metadata": {},
   "source": [
    "##### 13.\n",
    "\n",
    "☼ We can use a dictionary to specify the values to be substituted into a formatting string. Read Python's library documentation for formatting strings  and use this method to display today's date in two different formats.\n",
    "\n",
    "*The link in the book is dead.*"
   ]
  },
  {
   "cell_type": "code",
   "execution_count": 56,
   "metadata": {},
   "outputs": [
    {
     "name": "stdout",
     "output_type": "stream",
     "text": [
      "European style: Wednesday, 06.11.2019\n",
      "American style: Wednesday, 11/06/2019\n",
      "Asian style: Wednesday, 2019.11.06\n"
     ]
    }
   ],
   "source": [
    "date = {'month': '11', 'date': '06', 'day': 'Wednesday', 'year': '2019'}\n",
    "\n",
    "print(\"European style: {}, {}.{}.{}\".format(date['day'], date['date'], \n",
    "                                            date['month'], date['year']))\n",
    "print(\"American style: {}, {}/{}/{}\".format(date['day'], date['month'],\n",
    "                                            date['date'], date['year']))\n",
    "print(\"Asian style: {}, {}.{}.{}\".format(date['day'], date['year'],\n",
    "                                         date['month'], date['date']))"
   ]
  },
  {
   "cell_type": "markdown",
   "metadata": {},
   "source": [
    "##### 14.\n",
    "\n",
    "◑ Use `sorted()` and `set()` to get a sorted list of tags used in the Brown corpus, removing duplicates."
   ]
  },
  {
   "cell_type": "code",
   "execution_count": 57,
   "metadata": {},
   "outputs": [
    {
     "name": "stdout",
     "output_type": "stream",
     "text": [
      "[\"'\", \"''\", '(', '(-HL', ')', ')-HL', '*', '*-HL', '*-NC', '*-TL', ',', ',-HL', ',-NC', ',-TL', '--', '---HL', '.', '.-HL', '.-NC', '.-TL', ':', ':-HL', ':-TL', 'ABL', 'ABN', 'ABN-HL', 'ABN-NC', 'ABN-TL', 'ABX', 'AP', 'AP$', 'AP+AP-NC', 'AP-HL', 'AP-NC', 'AP-TL', 'AT', 'AT-HL', 'AT-NC', 'AT-TL', 'AT-TL-HL', 'BE', 'BE-HL', 'BE-TL', 'BED', 'BED*', 'BED-NC', 'BEDZ', 'BEDZ*', 'BEDZ-HL', 'BEDZ-NC', 'BEG', 'BEM', 'BEM*', 'BEM-NC', 'BEN', 'BEN-TL', 'BER', 'BER*', 'BER*-NC', 'BER-HL', 'BER-NC', 'BER-TL', 'BEZ', 'BEZ*', 'BEZ-HL', 'BEZ-NC', 'BEZ-TL', 'CC', 'CC-HL', 'CC-NC', 'CC-TL', 'CC-TL-HL', 'CD', 'CD$', 'CD-HL', 'CD-NC', 'CD-TL', 'CD-TL-HL', 'CS', 'CS-HL', 'CS-NC', 'CS-TL', 'DO', 'DO*', 'DO*-HL', 'DO+PPSS', 'DO-HL', 'DO-NC', 'DO-TL', 'DOD', 'DOD*', 'DOD*-TL', 'DOD-NC', 'DOZ', 'DOZ*', 'DOZ*-TL', 'DOZ-HL', 'DOZ-TL', 'DT', 'DT$', 'DT+BEZ', 'DT+BEZ-NC', 'DT+MD', 'DT-HL', 'DT-NC', 'DT-TL', 'DTI', 'DTI-HL', 'DTI-TL', 'DTS', 'DTS+BEZ', 'DTS-HL', 'DTX', 'EX', 'EX+BEZ', 'EX+HVD', 'EX+HVZ', 'EX+MD', 'EX-HL', 'EX-NC', 'FW-*', 'FW-*-TL', 'FW-AT', 'FW-AT+NN-TL', 'FW-AT+NP-TL', 'FW-AT-HL', 'FW-AT-TL', 'FW-BE', 'FW-BER', 'FW-BEZ', 'FW-CC', 'FW-CC-TL', 'FW-CD', 'FW-CD-TL', 'FW-CS', 'FW-DT', 'FW-DT+BEZ', 'FW-DTS', 'FW-HV', 'FW-IN', 'FW-IN+AT', 'FW-IN+AT-T', 'FW-IN+AT-TL', 'FW-IN+NN', 'FW-IN+NN-TL', 'FW-IN+NP-TL', 'FW-IN-TL', 'FW-JJ', 'FW-JJ-NC', 'FW-JJ-TL', 'FW-JJR', 'FW-JJT', 'FW-NN', 'FW-NN$', 'FW-NN$-TL', 'FW-NN-NC', 'FW-NN-TL', 'FW-NN-TL-NC', 'FW-NNS', 'FW-NNS-NC', 'FW-NNS-TL', 'FW-NP', 'FW-NP-TL', 'FW-NPS', 'FW-NPS-TL', 'FW-NR', 'FW-NR-TL', 'FW-OD-NC', 'FW-OD-TL', 'FW-PN', 'FW-PP$', 'FW-PP$-NC', 'FW-PP$-TL', 'FW-PPL', 'FW-PPL+VBZ', 'FW-PPO', 'FW-PPO+IN', 'FW-PPS', 'FW-PPSS', 'FW-PPSS+HV', 'FW-QL', 'FW-RB', 'FW-RB+CC', 'FW-RB-TL', 'FW-TO+VB', 'FW-UH', 'FW-UH-NC', 'FW-UH-TL', 'FW-VB', 'FW-VB-NC', 'FW-VB-TL', 'FW-VBD', 'FW-VBD-TL', 'FW-VBG', 'FW-VBG-TL', 'FW-VBN', 'FW-VBZ', 'FW-WDT', 'FW-WPO', 'FW-WPS', 'HV', 'HV*', 'HV+TO', 'HV-HL', 'HV-NC', 'HV-TL', 'HVD', 'HVD*', 'HVD-HL', 'HVG', 'HVG-HL', 'HVN', 'HVZ', 'HVZ*', 'HVZ-NC', 'HVZ-TL', 'IN', 'IN+IN', 'IN+PPO', 'IN-HL', 'IN-NC', 'IN-TL', 'IN-TL-HL', 'JJ', 'JJ$-TL', 'JJ+JJ-NC', 'JJ-HL', 'JJ-NC', 'JJ-TL', 'JJ-TL-HL', 'JJ-TL-NC', 'JJR', 'JJR+CS', 'JJR-HL', 'JJR-NC', 'JJR-TL', 'JJS', 'JJS-HL', 'JJS-TL', 'JJT', 'JJT-HL', 'JJT-NC', 'JJT-TL', 'MD', 'MD*', 'MD*-HL', 'MD+HV', 'MD+PPSS', 'MD+TO', 'MD-HL', 'MD-NC', 'MD-TL', 'NIL', 'NN', 'NN$', 'NN$-HL', 'NN$-TL', 'NN+BEZ', 'NN+BEZ-TL', 'NN+HVD-TL', 'NN+HVZ', 'NN+HVZ-TL', 'NN+IN', 'NN+MD', 'NN+NN-NC', 'NN-HL', 'NN-NC', 'NN-TL', 'NN-TL-HL', 'NN-TL-NC', 'NNS', 'NNS$', 'NNS$-HL', 'NNS$-NC', 'NNS$-TL', 'NNS$-TL-HL', 'NNS+MD', 'NNS-HL', 'NNS-NC', 'NNS-TL', 'NNS-TL-HL', 'NNS-TL-NC', 'NP', 'NP$', 'NP$-HL', 'NP$-TL', 'NP+BEZ', 'NP+BEZ-NC', 'NP+HVZ', 'NP+HVZ-NC', 'NP+MD', 'NP-HL', 'NP-NC', 'NP-TL', 'NP-TL-HL', 'NPS', 'NPS$', 'NPS$-HL', 'NPS$-TL', 'NPS-HL', 'NPS-NC', 'NPS-TL', 'NR', 'NR$', 'NR$-TL', 'NR+MD', 'NR-HL', 'NR-NC', 'NR-TL', 'NR-TL-HL', 'NRS', 'NRS-TL', 'OD', 'OD-HL', 'OD-NC', 'OD-TL', 'PN', 'PN$', 'PN+BEZ', 'PN+HVD', 'PN+HVZ', 'PN+MD', 'PN-HL', 'PN-NC', 'PN-TL', 'PP$', 'PP$$', 'PP$-HL', 'PP$-NC', 'PP$-TL', 'PPL', 'PPL-HL', 'PPL-NC', 'PPL-TL', 'PPLS', 'PPO', 'PPO-HL', 'PPO-NC', 'PPO-TL', 'PPS', 'PPS+BEZ', 'PPS+BEZ-HL', 'PPS+BEZ-NC', 'PPS+HVD', 'PPS+HVZ', 'PPS+MD', 'PPS-HL', 'PPS-NC', 'PPS-TL', 'PPSS', 'PPSS+BEM', 'PPSS+BER', 'PPSS+BER-N', 'PPSS+BER-NC', 'PPSS+BER-TL', 'PPSS+BEZ', 'PPSS+BEZ*', 'PPSS+HV', 'PPSS+HV-TL', 'PPSS+HVD', 'PPSS+MD', 'PPSS+MD-NC', 'PPSS+VB', 'PPSS-HL', 'PPSS-NC', 'PPSS-TL', 'QL', 'QL-HL', 'QL-NC', 'QL-TL', 'QLP', 'RB', 'RB$', 'RB+BEZ', 'RB+BEZ-HL', 'RB+BEZ-NC', 'RB+CS', 'RB-HL', 'RB-NC', 'RB-TL', 'RBR', 'RBR+CS', 'RBR-NC', 'RBT', 'RN', 'RP', 'RP+IN', 'RP-HL', 'RP-NC', 'RP-TL', 'TO', 'TO+VB', 'TO-HL', 'TO-NC', 'TO-TL', 'UH', 'UH-HL', 'UH-NC', 'UH-TL', 'VB', 'VB+AT', 'VB+IN', 'VB+JJ-NC', 'VB+PPO', 'VB+RP', 'VB+TO', 'VB+VB-NC', 'VB-HL', 'VB-NC', 'VB-TL', 'VBD', 'VBD-HL', 'VBD-NC', 'VBD-TL', 'VBG', 'VBG+TO', 'VBG-HL', 'VBG-NC', 'VBG-TL', 'VBN', 'VBN+TO', 'VBN-HL', 'VBN-NC', 'VBN-TL', 'VBN-TL-HL', 'VBN-TL-NC', 'VBZ', 'VBZ-HL', 'VBZ-NC', 'VBZ-TL', 'WDT', 'WDT+BER', 'WDT+BER+PP', 'WDT+BEZ', 'WDT+BEZ-HL', 'WDT+BEZ-NC', 'WDT+BEZ-TL', 'WDT+DO+PPS', 'WDT+DOD', 'WDT+HVZ', 'WDT-HL', 'WDT-NC', 'WP$', 'WPO', 'WPO-NC', 'WPO-TL', 'WPS', 'WPS+BEZ', 'WPS+BEZ-NC', 'WPS+BEZ-TL', 'WPS+HVD', 'WPS+HVZ', 'WPS+MD', 'WPS-HL', 'WPS-NC', 'WPS-TL', 'WQL', 'WQL-TL', 'WRB', 'WRB+BER', 'WRB+BEZ', 'WRB+BEZ-TL', 'WRB+DO', 'WRB+DOD', 'WRB+DOD*', 'WRB+DOZ', 'WRB+IN', 'WRB+MD', 'WRB-HL', 'WRB-NC', 'WRB-TL', '``']"
     ]
    }
   ],
   "source": [
    "print(sorted(set([t for (_, t) in brown.tagged_words()])), end = '')"
   ]
  },
  {
   "cell_type": "markdown",
   "metadata": {},
   "source": [
    "##### 15.\n",
    "\n",
    "Write programs to process the Brown Corpus and find answers to the following questions:\n",
    "\n",
    "* 1. Which nouns are more common in their plural form, rather than their singular form? (Only consider regular plurals, formed with the -s suffix.)\n",
    "\n",
    "* 2. Which word has the greatest number of distinct tags. What are they, and what do they represent?\n",
    "\n",
    "* 3. List tags in order of decreasing frequency. What do the 20 most frequent tags represent?\n",
    "\n",
    "* 4. Which tags are nouns most commonly found after? What do these tags represent?"
   ]
  },
  {
   "cell_type": "markdown",
   "metadata": {},
   "source": [
    "*Part 1:*"
   ]
  },
  {
   "cell_type": "code",
   "execution_count": 58,
   "metadata": {},
   "outputs": [],
   "source": [
    "# create set of all singular nouns in the Brown Corpus\n",
    "\n",
    "sing_nouns = set(word.lower() for (word, tag) in \\\n",
    "                              nltk.corpus.brown.tagged_words() \\\n",
    "                              if tag == 'NN')"
   ]
  },
  {
   "cell_type": "code",
   "execution_count": 59,
   "metadata": {},
   "outputs": [],
   "source": [
    "# create set of all plural nouns in the Brown Corpus\n",
    "\n",
    "plur_nouns = set([word.lower() for (word, tag) in nltk.corpus.brown.tagged_words() if tag == 'NNS'])\n"
   ]
  },
  {
   "cell_type": "code",
   "execution_count": 60,
   "metadata": {},
   "outputs": [],
   "source": [
    "# make a list of words that have regular plurals represented in plur_nouns\n",
    "\n",
    "cands = [n for n in sing_nouns if n + \"s\" in plur_nouns]"
   ]
  },
  {
   "cell_type": "code",
   "execution_count": 61,
   "metadata": {},
   "outputs": [],
   "source": [
    "# get FreqDist for singular nouns\n",
    "snfd = nltk.FreqDist(word.lower() for (word, _) in nltk.corpus.brown.tagged_words() \\\n",
    "                   if word in sing_nouns)"
   ]
  },
  {
   "cell_type": "code",
   "execution_count": 62,
   "metadata": {},
   "outputs": [],
   "source": [
    "# get FreqDist for plural nouns\n",
    "pnfd = nltk.FreqDist(word.lower() for (word, _) in nltk.corpus.brown.tagged_words() \\\n",
    "                   if word in plur_nouns)"
   ]
  },
  {
   "cell_type": "code",
   "execution_count": 63,
   "metadata": {},
   "outputs": [],
   "source": [
    "# find out which words are more common in the plural form\n",
    "more_common_plur = [(pnfd[c + 's'], c + 's', snfd[c], c) for c in cands \\\n",
    "                    if pnfd[c + 's'] > snfd[c]]"
   ]
  },
  {
   "cell_type": "code",
   "execution_count": 64,
   "metadata": {},
   "outputs": [
    {
     "data": {
      "text/plain": [
       "[(943, 'years', 649, 'year'),\n",
       " (391, 'eyes', 119, 'eye'),\n",
       " (361, 'things', 331, 'thing'),\n",
       " (312, 'members', 133, 'member'),\n",
       " (291, 'means', 199, 'mean'),\n",
       " (269, 'words', 261, 'word'),\n",
       " (204, 'students', 109, 'student'),\n",
       " (193, 'minutes', 54, 'minute'),\n",
       " (188, 'months', 130, 'month'),\n",
       " (179, 'conditions', 89, 'condition'),\n",
       " (173, 'hours', 145, 'hour'),\n",
       " (169, 'miles', 42, 'mile'),\n",
       " (160, 'terms', 79, 'term'),\n",
       " (150, 'friends', 125, 'friend'),\n",
       " (138, 'methods', 137, 'method'),\n",
       " (125, 'sales', 44, 'sale'),\n",
       " (115, 'arms', 91, 'arm'),\n",
       " (106, 'leaders', 69, 'leader'),\n",
       " (103, 'elements', 52, 'element'),\n",
       " (102, 'factors', 71, 'factor')]"
      ]
     },
     "execution_count": 64,
     "metadata": {},
     "output_type": "execute_result"
    }
   ],
   "source": [
    "sorted(more_common_plur, reverse = True)[:20]"
   ]
  },
  {
   "cell_type": "markdown",
   "metadata": {},
   "source": [
    "*Part 2:*"
   ]
  },
  {
   "cell_type": "code",
   "execution_count": 65,
   "metadata": {},
   "outputs": [],
   "source": [
    "from collections import defaultdict\n",
    "\n",
    "# create a ConditionalFreqDist with all the words in the corpus,\n",
    "# with counts of each of their tags\n",
    "dt = nltk.ConditionalFreqDist(brown.tagged_words())\n",
    "\n",
    "# create a dictionary where the keys will be the number of distinct tags\n",
    "tags = defaultdict(list)\n",
    "for w in set(brown.words()):\n",
    "    tags[len(dt[w])].append(w)"
   ]
  },
  {
   "cell_type": "code",
   "execution_count": 66,
   "metadata": {},
   "outputs": [
    {
     "data": {
      "text/plain": [
       "12"
      ]
     },
     "execution_count": 66,
     "metadata": {},
     "output_type": "execute_result"
    }
   ],
   "source": [
    "# word with the most tags\n",
    "max(tags)"
   ]
  },
  {
   "cell_type": "code",
   "execution_count": 67,
   "metadata": {},
   "outputs": [
    {
     "data": {
      "text/plain": [
       "['that']"
      ]
     },
     "execution_count": 67,
     "metadata": {},
     "output_type": "execute_result"
    }
   ],
   "source": [
    "tags[12]"
   ]
  },
  {
   "cell_type": "markdown",
   "metadata": {},
   "source": [
    "*For the lower numbers, the values should be a list of distinct words.  Let's make sure that's the case:*"
   ]
  },
  {
   "cell_type": "code",
   "execution_count": 68,
   "metadata": {},
   "outputs": [
    {
     "name": "stdout",
     "output_type": "stream",
     "text": [
      "['it', 'Chinese', 'well', 'I', 'as', 'That', 'for', 'fit', 'out', 'Little', 'Long', 'home']"
     ]
    }
   ],
   "source": [
    "print(tags[7], end = '')"
   ]
  },
  {
   "cell_type": "markdown",
   "metadata": {},
   "source": [
    "*Looking at the tags for 'that':*"
   ]
  },
  {
   "cell_type": "code",
   "execution_count": 69,
   "metadata": {},
   "outputs": [
    {
     "data": {
      "text/plain": [
       "FreqDist({'CS': 6419, 'DT': 1975, 'WPS': 1638, 'WPO': 135, 'QL': 54, 'DT-NC': 6, 'WPS-NC': 3, 'CS-NC': 2, 'WPS-HL': 2, 'CS-HL': 1, ...})"
      ]
     },
     "execution_count": 69,
     "metadata": {},
     "output_type": "execute_result"
    }
   ],
   "source": [
    "dt['that']"
   ]
  },
  {
   "cell_type": "markdown",
   "metadata": {},
   "source": [
    "*Finding out what each of those tags means:*"
   ]
  },
  {
   "cell_type": "code",
   "execution_count": 70,
   "metadata": {},
   "outputs": [
    {
     "name": "stdout",
     "output_type": "stream",
     "text": [
      "CS: conjunction, subordinating\n",
      "    that as after whether before while like because if since for than altho\n",
      "    until so unless though providing once lest s'posin' till whereas\n",
      "    whereupon supposing tho' albeit then so's 'fore\n",
      "WPS: WH-pronoun, nominative\n",
      "    that who whoever whosoever what whatsoever\n",
      "DT: determiner/pronoun, singular\n",
      "    this each another that 'nother\n",
      "QL: qualifier, pre\n",
      "    well less very most so real as highly fundamentally even how much\n",
      "    remarkably somewhat more completely too thus ill deeply little overly\n",
      "    halfway almost impossibly far severly such ...\n",
      "WPO: WH-pronoun, accusative\n",
      "    whom that who\n",
      "No matching tags found.\n",
      "No matching tags found.\n",
      "No matching tags found.\n",
      "No matching tags found.\n",
      "No matching tags found.\n",
      "No matching tags found.\n",
      "No matching tags found.\n"
     ]
    }
   ],
   "source": [
    "for tag in dt['that']:\n",
    "    nltk.help.brown_tagset(tag)"
   ]
  },
  {
   "cell_type": "markdown",
   "metadata": {},
   "source": [
    "*Interestingly, over half of the tags have no description in the documentation. After a little research, I found that -NC designates a cited word; -HL designates a headline; and -TL designates a title.  If we eliminate these tags (since a conjunction in an article and a conjunction in a title are essentially the same thing), which get considerably differenct counts:*"
   ]
  },
  {
   "cell_type": "code",
   "execution_count": 71,
   "metadata": {},
   "outputs": [],
   "source": [
    "import re, copy\n",
    "bts_copy = copy.deepcopy(brown.tagged_words())\n",
    "bts_copy = [(word, re.sub(r'-HL$|-NC$|-TL$', '', tag)) for word, tag in bts_copy]"
   ]
  },
  {
   "cell_type": "code",
   "execution_count": 72,
   "metadata": {},
   "outputs": [
    {
     "data": {
      "text/plain": [
       "6"
      ]
     },
     "execution_count": 72,
     "metadata": {},
     "output_type": "execute_result"
    }
   ],
   "source": [
    "# using the same methods as above\n",
    "\n",
    "dt2 = nltk.ConditionalFreqDist(bts_copy)\n",
    "tags2 = defaultdict(list)\n",
    "for w in set(w.lower() for w in brown.words()):\n",
    "    tags2[len(dt2[w])].append(w)\n",
    "    \n",
    "max(tags2)"
   ]
  },
  {
   "cell_type": "code",
   "execution_count": 73,
   "metadata": {},
   "outputs": [
    {
     "data": {
      "text/plain": [
       "['well', 'that', ':', 'beat', 'still']"
      ]
     },
     "execution_count": 73,
     "metadata": {},
     "output_type": "execute_result"
    }
   ],
   "source": [
    "tags2[6]"
   ]
  },
  {
   "cell_type": "code",
   "execution_count": 74,
   "metadata": {},
   "outputs": [
    {
     "data": {
      "text/plain": [
       "FreqDist({'CS': 6422, 'DT': 1981, 'WPS': 1643, 'WPO': 136, 'QL': 54, 'NIL': 1})"
      ]
     },
     "execution_count": 74,
     "metadata": {},
     "output_type": "execute_result"
    }
   ],
   "source": [
    "dt2['that']"
   ]
  },
  {
   "cell_type": "code",
   "execution_count": 75,
   "metadata": {},
   "outputs": [
    {
     "name": "stdout",
     "output_type": "stream",
     "text": [
      "CS: conjunction, subordinating\n",
      "    that as after whether before while like because if since for than altho\n",
      "    until so unless though providing once lest s'posin' till whereas\n",
      "    whereupon supposing tho' albeit then so's 'fore\n",
      "WPS: WH-pronoun, nominative\n",
      "    that who whoever whosoever what whatsoever\n",
      "DT: determiner/pronoun, singular\n",
      "    this each another that 'nother\n",
      "QL: qualifier, pre\n",
      "    well less very most so real as highly fundamentally even how much\n",
      "    remarkably somewhat more completely too thus ill deeply little overly\n",
      "    halfway almost impossibly far severly such ...\n",
      "WPO: WH-pronoun, accusative\n",
      "    whom that who\n",
      "No matching tags found.\n"
     ]
    }
   ],
   "source": [
    "for tag in dt2['that']:\n",
    "    nltk.help.brown_tagset(tag)"
   ]
  },
  {
   "cell_type": "markdown",
   "metadata": {},
   "source": [
    "*Part 3:*"
   ]
  },
  {
   "cell_type": "code",
   "execution_count": 76,
   "metadata": {},
   "outputs": [],
   "source": [
    "tags = [tags for _, tags in brown.tagged_words()]\n",
    "\n",
    "ft = nltk.FreqDist(tags)"
   ]
  },
  {
   "cell_type": "code",
   "execution_count": 77,
   "metadata": {},
   "outputs": [
    {
     "name": "stdout",
     "output_type": "stream",
     "text": [
      "[('NN', 152470), ('IN', 120557), ('AT', 97959), ('JJ', 64028), ('.', 60638), (',', 58156), ('NNS', 55110), ('CC', 37718), ('RB', 36464), ('NP', 34476), ('VB', 33693), ('VBN', 29186), ('VBD', 26167), ('CS', 22143), ('PPS', 18253), ('VBG', 17893), ('PP$', 16872), ('TO', 14918), ('PPSS', 13802), ('CD', 13510), ('NN-TL', 13372), ('MD', 12431), ('PPO', 11181), ('BEZ', 10066), ('BEDZ', 9806), ('AP', 9522), ('DT', 8957), ('``', 8837), (\"''\", 8789), ('QL', 8735), ('VBZ', 7373), ('BE', 6360), ('RP', 6009), ('WDT', 5539), ('HVD', 4895), ('*', 4603), ('WRB', 4509), ('BER', 4379), ('JJ-TL', 4107), ('NP-TL', 4019), ('HV', 3928), ('WPS', 3924), ('--', 3405), ('BED', 3282), ('ABN', 3010), ('DTI', 2921), ('PN', 2573), ('NP$', 2565), ('BEN', 2470), ('DTS', 2435), ('HVZ', 2433), (')', 2273), ('(', 2264), ('NNS-TL', 2226), ('EX', 2164), ('JJR', 1958), ('OD', 1935), ('NR', 1566), (':', 1558), ('NN$', 1480), ('IN-TL', 1477), ('NN-HL', 1471), ('DO', 1353), ('NPS', 1275), ('PPL', 1233), ('RBR', 1182), ('DOD', 1047), ('JJT', 1005), ('CD-TL', 898), ('MD*', 866), ('AT-TL', 746), ('ABX', 730), ('BEG', 686), ('NNS-HL', 609), ('UH', 608), ('.-HL', 598), ('VBN-TL', 591), ('NP-HL', 517), ('IN-HL', 508), ('DO*', 485), ('PPSS+MD', 484), ('DOZ', 467), ('CD-HL', 444), ('PPS+BEZ', 430), ('DOD*', 402), ('JJ-HL', 396), ('NN$-TL', 361), ('JJS', 359), ('ABL', 357), ('PPLS', 345), ('AT-HL', 332), (\"'\", 317), ('NR-TL', 309), ('CC-TL', 307), ('FW-NN', 288), ('HVG', 281), ('WPO', 280), ('PPSS+BER', 278), ('PPSS+BEM', 270), ('QLP', 261)]"
     ]
    }
   ],
   "source": [
    "print(ft.most_common(100), end = '')"
   ]
  },
  {
   "cell_type": "code",
   "execution_count": 78,
   "metadata": {},
   "outputs": [
    {
     "name": "stdout",
     "output_type": "stream",
     "text": [
      "NN: noun, singular, common\n",
      "    failure burden court fire appointment awarding compensation Mayor\n",
      "    interim committee fact effect airport management surveillance jail\n",
      "    doctor intern extern night weekend duty legislation Tax Office ...\n",
      "IN: preposition\n",
      "    of in for by considering to on among at through with under into\n",
      "    regarding than since despite according per before toward against as\n",
      "    after during including between without except upon out over ...\n",
      "AT: article\n",
      "    the an no a every th' ever' ye\n",
      "JJ: adjective\n",
      "    ecent over-all possible hard-fought favorable hard meager fit such\n",
      "    widespread outmoded inadequate ambiguous grand clerical effective\n",
      "    orderly federal foster general proportionate ...\n",
      ".: sentence terminator\n",
      "    . ? ; ! :\n",
      ",: comma\n",
      "    ,\n",
      "NNS: noun, plural, common\n",
      "    irregularities presentments thanks reports voters laws legislators\n",
      "    years areas adjustments chambers $100 bonds courts sales details raises\n",
      "    sessions members congressmen votes polls calls ...\n",
      "CC: conjunction, coordinating\n",
      "    and or but plus & either neither nor yet 'n' and/or minus an'\n",
      "RB: adverb\n",
      "    only often generally also nevertheless upon together back newly no\n",
      "    likely meanwhile near then heavily there apparently yet outright fully\n",
      "    aside consistently specifically formally ever just ...\n",
      "NP: noun, singular, proper\n",
      "    Fulton Atlanta September-October Durwood Pye Ivan Allen Jr. Jan.\n",
      "    Alpharetta Grady William B. Hartsfield Pearl Williams Aug. Berry J. M.\n",
      "    Cheshire Griffin Opelika Ala. E. Pelham Snodgrass ...\n",
      "VB: verb, base: uninflected present, imperative or infinitive\n",
      "    investigate find act follow inure achieve reduce take remedy re-set\n",
      "    distribute realize disable feel receive continue place protect\n",
      "    eliminate elaborate work permit run enter force ...\n",
      "VBN: verb, past participle\n",
      "    conducted charged won received studied revised operated accepted\n",
      "    combined experienced recommended effected granted seen protected\n",
      "    adopted retarded notarized selected composed gotten printed ...\n",
      "VBD: verb, past tense\n",
      "    said produced took recommended commented urged found added praised\n",
      "    charged listed became announced brought attended wanted voted defeated\n",
      "    received got stood shot scheduled feared promised made ...\n",
      "CS: conjunction, subordinating\n",
      "    that as after whether before while like because if since for than altho\n",
      "    until so unless though providing once lest s'posin' till whereas\n",
      "    whereupon supposing tho' albeit then so's 'fore\n",
      "PPS: pronoun, personal, nominative, 3rd person singular\n",
      "    it he she thee\n",
      "VBG: verb, present participle or gerund\n",
      "    modernizing improving purchasing Purchasing lacking enabling pricing\n",
      "    keeping getting picking entering voting warning making strengthening\n",
      "    setting neighboring attending participating moving ...\n",
      "PP$: determiner, possessive\n",
      "    our its his their my your her out thy mine thine\n",
      "TO: infinitival to\n",
      "    to t'\n",
      "PPSS: pronoun, personal, nominative, not 3rd person singular\n",
      "    they we I you ye thou you'uns\n",
      "CD: numeral, cardinal\n",
      "    two one 1 four 2 1913 71 74 637 1937 8 five three million 87-31 29-5\n",
      "    seven 1,119 fifty-three 7.5 billion hundred 125,000 1,700 60 100 six\n",
      "    ...\n"
     ]
    }
   ],
   "source": [
    "for tag, _ in ft.most_common(20):\n",
    "    nltk.help.brown_tagset(tag)"
   ]
  },
  {
   "cell_type": "markdown",
   "metadata": {},
   "source": [
    "*Part 4:*"
   ]
  },
  {
   "cell_type": "code",
   "execution_count": 79,
   "metadata": {},
   "outputs": [
    {
     "name": "stdout",
     "output_type": "stream",
     "text": [
      "['AT', 'JJ', 'IN', 'NN', 'PP$', 'CC', 'CD', 'AP', 'DT', 'VBG', ',', 'VBN', '.', 'NN-TL', 'JJ-TL', 'VB', 'NP', 'NP-TL', 'CS', 'NP$']"
     ]
    }
   ],
   "source": [
    "wtp = nltk.bigrams(brown.tagged_words())\n",
    "np = [a[1] for (a, b) in wtp if b[1].startswith('NN')]\n",
    "fd = nltk.FreqDist(np)\n",
    "prec_tags = [tag for (tag, _) in fd.most_common(20)]\n",
    "print(prec_tags, end = '')"
   ]
  },
  {
   "cell_type": "code",
   "execution_count": 80,
   "metadata": {},
   "outputs": [
    {
     "name": "stdout",
     "output_type": "stream",
     "text": [
      "AT: article\n",
      "    the an no a every th' ever' ye\n",
      "JJ: adjective\n",
      "    ecent over-all possible hard-fought favorable hard meager fit such\n",
      "    widespread outmoded inadequate ambiguous grand clerical effective\n",
      "    orderly federal foster general proportionate ...\n",
      "IN: preposition\n",
      "    of in for by considering to on among at through with under into\n",
      "    regarding than since despite according per before toward against as\n",
      "    after during including between without except upon out over ...\n",
      "NN: noun, singular, common\n",
      "    failure burden court fire appointment awarding compensation Mayor\n",
      "    interim committee fact effect airport management surveillance jail\n",
      "    doctor intern extern night weekend duty legislation Tax Office ...\n",
      "PP$: determiner, possessive\n",
      "    our its his their my your her out thy mine thine\n",
      "CC: conjunction, coordinating\n",
      "    and or but plus & either neither nor yet 'n' and/or minus an'\n",
      "CD: numeral, cardinal\n",
      "    two one 1 four 2 1913 71 74 637 1937 8 five three million 87-31 29-5\n",
      "    seven 1,119 fifty-three 7.5 billion hundred 125,000 1,700 60 100 six\n",
      "    ...\n",
      "AP: determiner/pronoun, post-determiner\n",
      "    many other next more last former little several enough most least only\n",
      "    very few fewer past same Last latter less single plenty 'nough lesser\n",
      "    certain various manye next-to-last particular final previous present\n",
      "    nuf\n",
      "DT: determiner/pronoun, singular\n",
      "    this each another that 'nother\n",
      "VBG: verb, present participle or gerund\n",
      "    modernizing improving purchasing Purchasing lacking enabling pricing\n",
      "    keeping getting picking entering voting warning making strengthening\n",
      "    setting neighboring attending participating moving ...\n",
      ",: comma\n",
      "    ,\n",
      "VBN: verb, past participle\n",
      "    conducted charged won received studied revised operated accepted\n",
      "    combined experienced recommended effected granted seen protected\n",
      "    adopted retarded notarized selected composed gotten printed ...\n",
      ".: sentence terminator\n",
      "    . ? ; ! :\n",
      "No matching tags found.\n",
      "No matching tags found.\n",
      "VB: verb, base: uninflected present, imperative or infinitive\n",
      "    investigate find act follow inure achieve reduce take remedy re-set\n",
      "    distribute realize disable feel receive continue place protect\n",
      "    eliminate elaborate work permit run enter force ...\n",
      "NP: noun, singular, proper\n",
      "    Fulton Atlanta September-October Durwood Pye Ivan Allen Jr. Jan.\n",
      "    Alpharetta Grady William B. Hartsfield Pearl Williams Aug. Berry J. M.\n",
      "    Cheshire Griffin Opelika Ala. E. Pelham Snodgrass ...\n",
      "No matching tags found.\n",
      "CS: conjunction, subordinating\n",
      "    that as after whether before while like because if since for than altho\n",
      "    until so unless though providing once lest s'posin' till whereas\n",
      "    whereupon supposing tho' albeit then so's 'fore\n",
      "NP$: noun, singular, proper, genitive\n",
      "    Green's Landis' Smith's Carreon's Allison's Boston's Spahn's Willie's\n",
      "    Mickey's Milwaukee's Mays' Howsam's Mantle's Shaw's Wagner's Rickey's\n",
      "    Shea's Palmer's Arnold's Broglio's ...\n"
     ]
    }
   ],
   "source": [
    "for tag in prec_tags:\n",
    "    nltk.help.brown_tagset(tag)"
   ]
  },
  {
   "cell_type": "markdown",
   "metadata": {},
   "source": [
    "##### 16. \n",
    "\n",
    "◑ Explore the following issues that arise in connection with the lookup tagger:\n",
    "\n",
    "* a. What happens to the tagger performance for the various model sizes when a backoff tagger is omitted?\n",
    "\n",
    "* b. Consider the curve in [4.2](https://www.nltk.org/book/ch05.html#fig-tag-lookup); suggest a good size for a lookup tagger that balances memory and performance. Can you come up with scenarios where it would be preferable to minimize memory usage, or to maximize performance with no regard for memory usage?"
   ]
  },
  {
   "cell_type": "code",
   "execution_count": 81,
   "metadata": {},
   "outputs": [],
   "source": [
    "import matplotlib.pyplot as plt\n",
    "import numpy as np\n",
    "from nltk.corpus import brown\n",
    "\n",
    "def performance(cfd, wordlist):\n",
    "    lt = dict((word, cfd[word].max()) for word in wordlist)\n",
    "    baseline_tagger = nltk.UnigramTagger(model = lt)\n",
    "    return baseline_tagger.evaluate(brown.tagged_sents(categories = 'news'))\n",
    "\n",
    "def performance_w_bo(cfd, wordlist):\n",
    "    lt = dict((word, cfd[word].max()) for word in wordlist)\n",
    "    baseline_tagger = nltk.UnigramTagger(model = lt, \n",
    "                                         backoff = nltk.DefaultTagger('NN'))\n",
    "    return baseline_tagger.evaluate(brown.tagged_sents(categories = 'news'))\n",
    "\n",
    "def display():\n",
    "    word_freqs = nltk.FreqDist(brown.words(categories = 'news')).most_common()\n",
    "    words_by_freq = [w for (w, _) in word_freqs]\n",
    "    cfd = nltk.ConditionalFreqDist(brown.tagged_words(categories = 'news'))\n",
    "    sizes = 2 ** np.arange(15)\n",
    "    perfs = [performance(cfd, words_by_freq[:size]) for size in sizes]\n",
    "    perfs_bo = [performance_w_bo(cfd, words_by_freq[:size]) for size in sizes]\n",
    "    plt.plot(sizes, perfs, '-bo', label = 'without backoff')\n",
    "    plt.plot(sizes, perfs_bo, '--ro', label = 'with backoff')\n",
    "    plt.title('Lookup Tagger Performance with Varying Model Size')\n",
    "    plt.xlabel('Model Size')\n",
    "    plt.ylabel('Performance')\n",
    "    plt.legend(loc = 'lower right')\n",
    "    plt.show()"
   ]
  },
  {
   "cell_type": "code",
   "execution_count": 82,
   "metadata": {},
   "outputs": [
    {
     "data": {
      "image/png": "[encoded data removed]",
      "text/plain": [
       "<Figure size 432x288 with 1 Axes>"
      ]
     },
     "metadata": {
      "needs_background": "light"
     },
     "output_type": "display_data"
    }
   ],
   "source": [
    "display()"
   ]
  },
  {
   "cell_type": "markdown",
   "metadata": {},
   "source": [
    "* <i>a. The performance with or without backoff is quite similar. Both taggers plateau at a model size of about 4,000 words and top out at the same location at just over 16,000 words, though the curve is shallower without backoff.  Naturally, the tagger tends to perform better with backoff.</i>\n",
    "\n",
    "* <i>b. A good size would be around 4,000 words.  The balance between memory and performance is not as acute today in the era of big data, where machines with multi-GB RAM and processors with multiple cores are the norm.  "
   ]
  },
  {
   "cell_type": "markdown",
   "metadata": {},
   "source": [
    "##### 17.\n",
    "\n",
    "◑ What is the upper limit of performance for a lookup tagger, assuming no limit to the size of its table? (Hint: write a program to work out what percentage of tokens of a word are assigned the most likely tag for that word, on average.)\n",
    "\n",
    "*It appears that the upper limit would be around 95%.  Below is code that will sum the number of words in the Brown Corpus tagged with each word's most likely tag (n.b. that I use the `.startswith()` method, because many tags have a suffix such as `-TL` or `-HL`), divided by the total number of word types in the corpus.  Notice that the limit is dependant on the corpus: the Penn Treebank has a slightly higher limit.*"
   ]
  },
  {
   "cell_type": "code",
   "execution_count": 83,
   "metadata": {},
   "outputs": [
    {
     "data": {
      "text/plain": [
       "0.9360054151251472"
      ]
     },
     "execution_count": 83,
     "metadata": {},
     "output_type": "execute_result"
    }
   ],
   "source": [
    "# Brown Corpus\n",
    "\n",
    "cfd = nltk.ConditionalFreqDist(brown.tagged_words())\n",
    "\n",
    "sum([tag.startswith(cfd[word].max()) for word, tag in \\\n",
    "     brown.tagged_words()]) / len(brown.tagged_words())"
   ]
  },
  {
   "cell_type": "code",
   "execution_count": 84,
   "metadata": {},
   "outputs": [
    {
     "data": {
      "text/plain": [
       "0.9599705987524335"
      ]
     },
     "execution_count": 84,
     "metadata": {},
     "output_type": "execute_result"
    }
   ],
   "source": [
    "# Penn Treebank\n",
    "\n",
    "wsj = nltk.corpus.treebank.tagged_words()\n",
    "cfd = nltk.ConditionalFreqDist(wsj)\n",
    "sum([tag == cfd[word].max() for word, tag in wsj]) / len(wsj)"
   ]
  },
  {
   "cell_type": "markdown",
   "metadata": {},
   "source": [
    "##### 18.\n",
    "\n",
    "◑ Generate some statistics for tagged data to answer the following questions:\n",
    "\n",
    "* a. What proportion of word types are always assigned the same part-of-speech tag?\n",
    "\n",
    "* b. How many words are ambiguous, in the sense that they appear with at least two tags?\n",
    "\n",
    "* c. What percentage of word _tokens_ in the Brown Corpus involve these ambiguous words?"
   ]
  },
  {
   "cell_type": "markdown",
   "metadata": {},
   "source": [
    "*a. Getting rid of tag \"suffixes\".  I.e., `-HL`, `-NC`, and `-TL` suffixes applied to some tags in the Brown Corpus:*"
   ]
  },
  {
   "cell_type": "code",
   "execution_count": 85,
   "metadata": {},
   "outputs": [],
   "source": [
    "import re, copy\n",
    "bts_copy = copy.deepcopy(brown.tagged_words())\n",
    "bts_copy = [(word, re.sub(r'-HL$|-NC$|-TL$', '', tag)) for word, tag in bts_copy]"
   ]
  },
  {
   "cell_type": "code",
   "execution_count": 86,
   "metadata": {},
   "outputs": [],
   "source": [
    "cfd = nltk.ConditionalFreqDist(bts_copy)"
   ]
  },
  {
   "cell_type": "markdown",
   "metadata": {},
   "source": [
    "*Now creating a dictionary where the keys will be the number of distinct tags:*"
   ]
  },
  {
   "cell_type": "code",
   "execution_count": 87,
   "metadata": {},
   "outputs": [],
   "source": [
    "tags = defaultdict(list)\n",
    "for w in set(w.lower() for w, _ in bts_copy):\n",
    "    tags[len(cfd[w])].append(w)"
   ]
  },
  {
   "cell_type": "code",
   "execution_count": 88,
   "metadata": {},
   "outputs": [
    {
     "data": {
      "text/plain": [
       "33948"
      ]
     },
     "execution_count": 88,
     "metadata": {},
     "output_type": "execute_result"
    }
   ],
   "source": [
    "one_tag = len(tags[1]); one_tag"
   ]
  },
  {
   "cell_type": "code",
   "execution_count": 89,
   "metadata": {},
   "outputs": [
    {
     "data": {
      "text/plain": [
       "49815"
      ]
     },
     "execution_count": 89,
     "metadata": {},
     "output_type": "execute_result"
    }
   ],
   "source": [
    "word_types = len(set(w.lower() for w, _ in bts_copy)); word_types"
   ]
  },
  {
   "cell_type": "code",
   "execution_count": 90,
   "metadata": {},
   "outputs": [
    {
     "data": {
      "text/plain": [
       "0.6814814814814815"
      ]
     },
     "execution_count": 90,
     "metadata": {},
     "output_type": "execute_result"
    }
   ],
   "source": [
    "one_tag / word_types"
   ]
  },
  {
   "cell_type": "markdown",
   "metadata": {},
   "source": [
    "*b. The number of ambiguous words is simply the number of word types minus the number of words with one tag:*"
   ]
  },
  {
   "cell_type": "code",
   "execution_count": 91,
   "metadata": {},
   "outputs": [
    {
     "data": {
      "text/plain": [
       "15867"
      ]
     },
     "execution_count": 91,
     "metadata": {},
     "output_type": "execute_result"
    }
   ],
   "source": [
    "word_types - one_tag"
   ]
  },
  {
   "cell_type": "markdown",
   "metadata": {},
   "source": [
    "*c. Since dictionaries have much faster look-up times than lists, we'll create another dictionary with all the words that have more than one tag.  Then we'll simply iterate through all the words, make a tally of those with keys in the new dictionary, and divide this tally by the total number of tokens in the corpus:*"
   ]
  },
  {
   "cell_type": "code",
   "execution_count": 92,
   "metadata": {},
   "outputs": [],
   "source": [
    "ambiguous = {}\n",
    "for w in set(w.lower() for w, _ in bts_copy):\n",
    "    if len(cfd[w]) >= 2:\n",
    "        ambiguous[w] = ''\n",
    "    "
   ]
  },
  {
   "cell_type": "code",
   "execution_count": 93,
   "metadata": {},
   "outputs": [
    {
     "data": {
      "text/plain": [
       "0.5946579032580314"
      ]
     },
     "execution_count": 93,
     "metadata": {},
     "output_type": "execute_result"
    }
   ],
   "source": [
    "sum([w.lower() in ambiguous for w in brown.words()]) / len(brown.words())"
   ]
  },
  {
   "cell_type": "markdown",
   "metadata": {},
   "source": [
    "##### 19. \n",
    "\n",
    "◑ The `evaluate()` method works out how accurately the tagger performs on this text. For example, if the supplied tagged text was `[('the', 'DT'), ('dog', 'NN')]` and the tagger produced the output `[('the', 'NN'), ('dog', 'NN')]`, then the score would be `0.5`. Let's try to figure out how the evaluation method works:\n",
    "\n",
    "* a. A tagger `t` takes a list of words as input, and produces a list of tagged words as output. However, `t.evaluate()` is given correctly tagged text as its only parameter. What must it do with this input before performing the tagging?\n",
    "\n",
    "* b. Once the tagger has created newly tagged text, how might the `evaluate()` method go about comparing it with the original tagged text and computing the accuracy score?\n",
    "\n",
    "* c. Now examine the source code to see how the method is implemented. Inspect `nltk.tag.api.__file__` to discover the location of the source code, and open this file using an editor (be sure to use the `api.py` file and not the compiled `api.pyc` binary file).\n",
    "\n",
    "*The `.evaluate()` method would need to extract the tags from the correctly tagged text and populate a list with them.  It could then create a list of tags produced by the tagger `t`, and calculate what percentage of the two lists are identical.*\n",
    "\n",
    "*I was able to find and open `tag\\api.py` without any problems.  However, examining the file wasn't very beneficial, as most of the work is done \"under the hood\" via a number of methods that haven't been covered: i.e., `chain`, a function from the `itertools` library that flattens and concatenates lists; and `accuracy`, a function from `nltk.metrics` that calculates what percentage of two lists are the same.*\n",
    "\n",
    "*I'm all for examining code in more detail; but if the authors are explicitly asking us to do so, it would be more beneficial to look at functions where the bulk of the work is being done within the function, and not via outside helper functions.*"
   ]
  },
  {
   "cell_type": "markdown",
   "metadata": {},
   "source": [
    "##### 20.\n",
    "\n",
    "◑ Write code to search the Brown Corpus for particular words and phrases according to tags, to answer the following questions:\n",
    "\n",
    "* a. Produce an alphabetically sorted list of the distinct words tagged as `MD`.\n",
    "\n",
    "* b. Identify words that can be plural nouns or third person singular verbs (e.g. <i>deals</i>, <i>flies</i>).\n",
    "\n",
    "* c. Identify three-word prepositional phrases of the form IN + DET + NN (eg. <i>in the lab</i>).\n",
    "\n",
    "* d. What is the ratio of masculine to feminine pronouns?\n",
    "\n",
    "\n",
    "*a.*"
   ]
  },
  {
   "cell_type": "code",
   "execution_count": 94,
   "metadata": {},
   "outputs": [
    {
     "name": "stdout",
     "output_type": "stream",
     "text": [
      "[\"c'n\", 'can', 'colde', 'could', 'dare', 'kin', 'maht', 'mai', 'may', 'maye', 'mayst', 'might', 'must', 'need', 'ought', 'shall', 'should', 'shuld', 'shulde', 'wil', 'will', 'wilt', 'wod', 'wold', 'wolde', 'would']"
     ]
    }
   ],
   "source": [
    "print(sorted(set([w.lower() for w, t in brown.tagged_words() if t == 'MD'])), \n",
    "      end = '')"
   ]
  },
  {
   "cell_type": "markdown",
   "metadata": {},
   "source": [
    "*b.*"
   ]
  },
  {
   "cell_type": "code",
   "execution_count": 95,
   "metadata": {},
   "outputs": [],
   "source": [
    "cfd = nltk.ConditionalFreqDist(brown.tagged_words())"
   ]
  },
  {
   "cell_type": "code",
   "execution_count": 96,
   "metadata": {},
   "outputs": [],
   "source": [
    "NNS_VBZ = set([w for w in set(w.lower() for w, t in brown.tagged_words()) \\\n",
    "               if 'NNS' in cfd[w] and 'VBZ' in cfd[w]])"
   ]
  },
  {
   "cell_type": "code",
   "execution_count": 97,
   "metadata": {},
   "outputs": [
    {
     "name": "stdout",
     "output_type": "stream",
     "text": [
      "{'pulls', 'burns', 'issues', 'seals', 'regrets', 'matches', 'searches', 'hopes', 'dwarfs', 'lifts', 'orders', 'places', 'arches', 'switches', 'snows', 'works', 'butts', 'associates', 'spans', 'hates', 'attributes', 'permits', 'winds', 'limits', 'hauls', 'attacks', 'fits', 'bases', 'records', 'rises', 'measures', 'glories', 'wishes', 'respects', 'speeds', 'accounts', 'supplies', 'passes', 'dictates', 'contrasts', 'controls', 'surveys', 'exhibits', 'tastes', 'photographs', 'numbers', 'cracks', 'hints', 'jumps', 'reports', 'fashions', 'mounts', 'advances', 'assaults', 'favors', 'bargains', 'attempts', 'scans', 'damages', 'marches', 'conducts', 'blueprints', 'solos', 'sounds', 'kicks', 'factors', 'lays', 'sums', 'worries', 'struggles', 'rates', 'hits', 'sketches', 'displays', 'meets', 'encounters', 'harbors', 'bodies', 'states', 'crosses', 'rallies', 'charges', 'honors', 'deeds', 'demands', 'clouds', 'protests', 'wants', 'appeals', 'labors', 'ties', 'dogs', 'guarantees', 'splashes', 'reviews', 'yields', 'banks', 'functions', 'benefits', 'sticks', 'thrusts', 'suits', 'lives', 'addresses', 'desires', 'sparks', 'tortures', 'means', 'skirts', 'courts', 'drifts', 'cries', 'guides', 'fans', 'delights', 'shifts', 'loves', 'regards', 'rebels', 'increases', 'moves', 'contracts', 'shocks', 'holds', 'powers', 'champions', 'times', 'remains', 'reserves', 'studies', 'marks', 'ranks', 'answers', 'bats', 'clutches', 'watches', 'exercises', 'comments', 'deals', 'wins', 'lists', 'kisses', 'challenges', 'centers', 'spreads', 'lies', 'travels', 'bites', 'bows', 'objects', 'leases', 'parades', 'values', 'presses', 'results', 'drinks', 'dies', 'compounds', 'phones', 'spies', 'signs', 'visits', 'excuses', 'rests', 'runs', 'bristles', 'transports', 'howls', 'tries', 'claps', 'plunges', 'houses', 'commands', 'contacts', 'strikes', 'dashes', 'bridges', 'equals', 'tires', 'leaps', 'beats', 'petitions', 'rushes', 'ends', 'stems', 'hunts', 'fractures', 'drives', 'ranges', 'replies', 'aims', 'treats', 'bubbles', 'compresses', 'affects', 'embraces', 'views', 'kids', 'costs', 'lights', 'shakes', 'labels', 'looks', 'gains', 'blots', 'uses', 'hinges', 'estimates', 'trusts', 'smells', 'raises', 'finishes', 'amounts', 'boards', 'forces', 'crops', 'makes', 'smiles', 'wrenches', 'doubles', 'keeps', 'blankets', 'cuts', 'moderates', 'lapses', 'walks', 'haunts', 'flows', 'misses', 'promises', 'bends', 'mistakes', 'interests', 'talks', 'dislikes', 'caps', 'scales', 'forms', 'covers', 'quarrels', 'backs', 'initiates', 'senses', 'claims', 'stands', 'deserts', 'fields', 'changes', 'borders', 'sanctions', 'flares', 'sheds', 'clucks', 'tests', 'traps', 'casts', 'toys', 'snowballs', 'feeds', 'questions', 'graduates', 'sports', 'remarks', 'hides', 'coordinates', 'says', 'slips', 'cycles', 'bullies', 'mirrors', 'stresses', 'rides', 'preserves', 'concentrates', 'paints', 'bars', 'merits', 'experiences', 'reasons', 'files', 'signals', 'flourishes', 'skins', 'bangs', 'counts', 'heads', 'shouts', 'laps', 'pictures', 'acts', 'handles', 'dances', 'purges', 'falls', 'knuckles', 'snatches', 'approaches', 'leaves', 'upsets', 'belts', 'knocks', 'markets', 'likes', 'rules', 'tops', 'stays', 'bugs', 'shows', 'practices', 'reaches', 'flags', 'lands', 'fights', 'decreases', 'trades', 'urges', 'parallels', 'designs', 'drops', 'needs', 'presents', 'catches', 'bottles', 'wonders', 'rings', 'aids', 'offers', 'supports', 'features', 'laughs', 'turns', 'captures', 'flies', 'fears', 'clicks', 'delays', 'piles', 'escapes', 'jokes', 'totals', 'cares', 'censors', 'colors', 'registers', 'faces', 'bores', 'splits', 'bellows', 'towers', 'leads', 'vows', 'sets', 'transfers', 'looms', 'trains', 'pushes', 'stakes', 'calls', 'rolls', 'influences', 'dreams', 'releases', 'fishes', 'subjects', 'matters', 'proceeds', 'names', 'declines', 'lines', 'weights', 'sneers', 'dates', 'lags', 'checks', 'conflicts', 'springs', 'stains', 'bulletins', 'stops', 'plans', 'decrees', 'terms', 'causes', 'sponsors', 'swoops', 'rocks', 'levels', 'ranches', 'imports', 'dishes', 'blows', 'returns', 'traces', 'shapes', 'touches', 'rains', 'shares', 'helps', 'plays', 'extracts', 'gestures', 'purchases', 'drains', 'points', 'credits', 'kills', 'figures', 'picks', 'stretches', 'pauses', 'requests', 'projects', 'starts', 'plots', 'mentions', 'services', 'outlines', 'peers', 'breaks', 'concerns', 'notes', 'steps', 'votes'}"
     ]
    }
   ],
   "source": [
    "print(NNS_VBZ, end = '')"
   ]
  },
  {
   "cell_type": "markdown",
   "metadata": {},
   "source": [
    "*c. The instructions for this are somewhat misleading: in the Brown Corpus, determiners and articles have different tags.  Articles (such as 'the' in the example \"in the lab\") would be tagged `AT`, whereas determiners (such as this, some, these, etc...) would be tagged `DT|DTI|DTS`. In any case, there is no `DET` tag in the Brown Corpus. Either the authors are trying to be tricky, or were just careless when they composed this question.*"
   ]
  },
  {
   "cell_type": "code",
   "execution_count": 98,
   "metadata": {},
   "outputs": [],
   "source": [
    "three_word_pp = [(w1, w2, w3) for sent in brown.tagged_sents()\\\n",
    "                 for (w1, t1), (w2, t2), (w3, t3) in nltk.trigrams(sent)\\\n",
    "                 if t1.startswith('IN') and \\\n",
    "                 (t2.startswith('DT') or t2 == 'AT') and t3.startswith('NN')]"
   ]
  },
  {
   "cell_type": "code",
   "execution_count": 99,
   "metadata": {},
   "outputs": [
    {
     "name": "stdout",
     "output_type": "stream",
     "text": [
      "[('of', 'the', 'election'), ('of', 'the', 'City'), ('for', 'the', 'manner'), ('in', 'the', 'election'), ('of', 'this', 'city'), ('to', 'the', 'end'), ('on', 'a', 'number'), ('of', 'the', 'law'), ('at', 'the', 'State'), ('through', 'the', 'welfare'), ('in', 'the', 'state'), ('with', 'the', 'exception'), ('of', 'this', 'money'), ('of', 'these', 'funds'), ('in', 'the', 'future'), ('in', 'the', 'appointment'), ('in', 'a', 'manner'), ('of', 'the', 'concessionaires'), ('for', 'the', 'purpose'), ('at', 'the', 'jail'), ('for', 'the', 'mayor'), ('than', 'a', 'year'), ('on', 'the', 'petition'), ('from', 'the', 'audience'), ('for', 'a', 'state'), ('of', 'the', 'voters'), ('in', 'each', 'county'), ('under', 'the', 'county'), ('for', 'some', 'time'), ('of', 'the', 'highway'), ('of', 'the', 'number'), ('in', 'the', 'session'), ('to', 'the', 'state'), ('of', 'the', 'act'), ('with', 'a', 'battle'), ('in', 'the', 'Legislature'), ('against', 'the', 'issuance'), ('about', 'the', 'plans'), ('in', 'the', 'House'), ('on', 'the', 'increase'), ('of', 'the', 'action'), ('in', 'the', 'Senate'), ('by', 'a', 'vote'), ('of', 'a', 'resolution'), ('in', 'the', 'past'), ('in', 'a', 'privilege'), ('into', 'the', 'House'), ('in', 'the', 'event'), ('in', 'this', 'county'), ('with', 'a', 'pistol')]"
     ]
    }
   ],
   "source": [
    "print(three_word_pp[:50], end = '')"
   ]
  },
  {
   "cell_type": "markdown",
   "metadata": {},
   "source": [
    "*You could argue that authors meant we should use the `universal` tagset; but that doesn't have an `IN` tag or an `NN` tag.  We'd have to use respectively `ADP` and `NOUN`.  And this gives quite different results:*"
   ]
  },
  {
   "cell_type": "code",
   "execution_count": 100,
   "metadata": {},
   "outputs": [],
   "source": [
    "three_word_pp = [(w1, w2, w3) for sent in brown.tagged_sents(tagset = 'universal')\\\n",
    "                 for (w1, t1), (w2, t2), (w3, t3) in nltk.trigrams(sent)\\\n",
    "                 if t1 == 'ADP' and t2 == 'DET' and t3 == 'NOUN']"
   ]
  },
  {
   "cell_type": "code",
   "execution_count": 101,
   "metadata": {},
   "outputs": [
    {
     "name": "stdout",
     "output_type": "stream",
     "text": [
      "[('that', 'any', 'irregularities'), ('that', 'the', 'City'), ('of', 'the', 'election'), ('of', 'the', 'City'), ('for', 'the', 'manner'), ('in', 'the', 'election'), ('of', 'this', 'city'), ('to', 'the', 'end'), ('on', 'a', 'number'), ('of', 'both', 'governments')]"
     ]
    }
   ],
   "source": [
    "print(three_word_pp[:10], end = '')"
   ]
  },
  {
   "cell_type": "markdown",
   "metadata": {},
   "source": [
    "*d. First, we'll get a list of all the pronouns in the corpus.  There are quite a few (more than expected).  Then we'll manually pick out the masculine and feminine pronouns:*"
   ]
  },
  {
   "cell_type": "code",
   "execution_count": 102,
   "metadata": {},
   "outputs": [
    {
     "data": {
      "text/plain": [
       "[{\"'em\",\n",
       "  \"'emselves\",\n",
       "  \"'im\",\n",
       "  \"'tain't\",\n",
       "  \"'tis\",\n",
       "  'ah',\n",
       "  'ahm',\n",
       "  'dey',\n",
       "  'em',\n",
       "  \"h'all\",\n",
       "  'he',\n",
       "  \"he'd\",\n",
       "  \"he'll\",\n",
       "  \"he's\",\n",
       "  'her',\n",
       "  'hers',\n",
       "  'herself',\n",
       "  'him',\n",
       "  'himself',\n",
       "  'himselfe',\n",
       "  'hir',\n",
       "  'his',\n",
       "  'hisself',\n",
       "  'hym',\n",
       "  'hymselfe',\n",
       "  'hys',\n",
       "  'hytt',\n",
       "  'i',\n",
       "  \"i'd\",\n",
       "  \"i'll\",\n",
       "  \"i'm\",\n",
       "  \"i've\",\n",
       "  'it',\n",
       "  \"it'd\",\n",
       "  \"it'll\",\n",
       "  \"it's\",\n",
       "  'its',\n",
       "  'itself',\n",
       "  'mah',\n",
       "  'me',\n",
       "  'mee',\n",
       "  'mine',\n",
       "  'my',\n",
       "  'myn',\n",
       "  'myne',\n",
       "  'myself',\n",
       "  'oneself',\n",
       "  'our',\n",
       "  'ours',\n",
       "  'ourselves',\n",
       "  'out',\n",
       "  'ownself',\n",
       "  'she',\n",
       "  \"she'd\",\n",
       "  \"she'll\",\n",
       "  \"she's\",\n",
       "  'thay',\n",
       "  'thee',\n",
       "  'thei',\n",
       "  'their',\n",
       "  \"their's\",\n",
       "  'theirs',\n",
       "  'them',\n",
       "  'themselves',\n",
       "  'ther',\n",
       "  'they',\n",
       "  \"they'd\",\n",
       "  \"they'll\",\n",
       "  \"they're\",\n",
       "  \"they've\",\n",
       "  'thine',\n",
       "  'thou',\n",
       "  'thum',\n",
       "  'thy',\n",
       "  'u',\n",
       "  'um',\n",
       "  'us',\n",
       "  'we',\n",
       "  \"we'd\",\n",
       "  \"we'll\",\n",
       "  \"we're\",\n",
       "  \"we'uns\",\n",
       "  \"we've\",\n",
       "  'wee',\n",
       "  \"y'all\",\n",
       "  \"y'know\",\n",
       "  \"y'r\",\n",
       "  \"y're\",\n",
       "  'ya',\n",
       "  'ye',\n",
       "  \"ye're\",\n",
       "  'yore',\n",
       "  'you',\n",
       "  \"you'd\",\n",
       "  \"you'll\",\n",
       "  \"you're\",\n",
       "  \"you's\",\n",
       "  \"you'uns\",\n",
       "  \"you've\",\n",
       "  'your',\n",
       "  'yours',\n",
       "  'yourself',\n",
       "  'yourselves',\n",
       "  'yow',\n",
       "  'yuh'}]"
      ]
     },
     "execution_count": 102,
     "metadata": {},
     "output_type": "execute_result"
    }
   ],
   "source": [
    "[set(w.lower() for w,t in brown.tagged_words() if t.startswith('PP'))]"
   ]
  },
  {
   "cell_type": "code",
   "execution_count": 103,
   "metadata": {},
   "outputs": [],
   "source": [
    "m = [\"he'd\",  \"he'll\",  \"he's\",  \"'im\",  'he',  'him',  'himself',  'himselfe',  'his',  'hisself',  'hym',  'hymselfe',  'hys']\n",
    "f = [\"she'd\",  \"she'll\",  \"she's\",  'her',  'hers',  'herself',  'hir',  'she']"
   ]
  },
  {
   "cell_type": "markdown",
   "metadata": {},
   "source": [
    "*Using the ConditionalFreqDist from above, we can use the syntax below to calculate the number of occurrences for each pronoun:*"
   ]
  },
  {
   "cell_type": "code",
   "execution_count": 104,
   "metadata": {},
   "outputs": [
    {
     "data": {
      "text/plain": [
       "FreqDist({'PPS+MD': 28, 'PPS+HVD': 27})"
      ]
     },
     "execution_count": 104,
     "metadata": {},
     "output_type": "execute_result"
    }
   ],
   "source": [
    "cfd[\"she'd\"]"
   ]
  },
  {
   "cell_type": "code",
   "execution_count": 105,
   "metadata": {},
   "outputs": [
    {
     "data": {
      "text/plain": [
       "55"
      ]
     },
     "execution_count": 105,
     "metadata": {},
     "output_type": "execute_result"
    }
   ],
   "source": [
    "sum(cfd[\"she'd\"].values())"
   ]
  },
  {
   "cell_type": "code",
   "execution_count": 106,
   "metadata": {},
   "outputs": [],
   "source": [
    "m_values = sum([sum(cfd[mp].values()) for mp in m])\n",
    "f_values = sum([sum(cfd[fp].values()) for fp in f])"
   ]
  },
  {
   "cell_type": "markdown",
   "metadata": {},
   "source": [
    "*From this we can calculate that male pronouns are over three times as prevalent than female pronouns in the corpus:*"
   ]
  },
  {
   "cell_type": "code",
   "execution_count": 107,
   "metadata": {},
   "outputs": [
    {
     "data": {
      "text/plain": [
       "3.2378880759343485"
      ]
     },
     "execution_count": 107,
     "metadata": {},
     "output_type": "execute_result"
    }
   ],
   "source": [
    "m_values/f_values"
   ]
  },
  {
   "cell_type": "markdown",
   "metadata": {},
   "source": [
    "##### 21. \n",
    "\n",
    "◑ In [3.1](https://www.nltk.org/book/ch03.html#tab-absolutely) we saw a table involving frequency counts for the verbs *adore*, *love*, *like*, *prefer* and preceding qualifiers *absolutely* and *definitely*. Investigate the full range of adverbs that appear before these four verbs."
   ]
  },
  {
   "cell_type": "code",
   "execution_count": 108,
   "metadata": {},
   "outputs": [],
   "source": [
    "wtp = nltk.bigrams(brown.tagged_words())\n",
    "vp = sorted(set([a[0] for (a, b) in wtp if a[1].startswith('RB') and b[0] in\\\n",
    "     ('adore', 'love', 'like', 'prefer')]))"
   ]
  },
  {
   "cell_type": "code",
   "execution_count": 109,
   "metadata": {},
   "outputs": [
    {
     "name": "stdout",
     "output_type": "stream",
     "text": [
      "['Jist', 'Just', 'Kinda', 'More', 'abreast', 'almost', 'alone', 'always', 'around', 'by', 'close', 'dearly', 'deceptively', 'even', 'exactly', 'generally', 'gloriously', 'here', 'increasingly', 'jist', 'just', 'less', 'more', 'much', 'often', 'particularly', 'quick', 'rather', 'remarkably', 'roughly', 'simply', 'so', 'somewhat', 'spontaneously', 'sure', 'there', 'together', 'wildly', 'yet']"
     ]
    }
   ],
   "source": [
    "print(vp, end = '')"
   ]
  },
  {
   "cell_type": "markdown",
   "metadata": {},
   "source": [
    "##### 22.\n",
    "\n",
    "◑ We defined the `regexp_tagger` that can be used as a fall-back tagger for unknown words. This tagger only checks for cardinal numbers. By testing for particular prefix or suffix strings, it should be possible to guess other tags. For example, we could tag any word that ends with *-s* as a plural noun. Define a regular expression tagger (using `RegexpTagger()`) that tests for at least five other patterns in the spelling of words. (Use inline documentation to explain the rules.)\n",
    "\n",
    "*In section 4.2, we made a `regexp_tagger` that can do a lot more than just check for cardinal numbers.  I have to ask again if the person who authored this question bothered to read the chapter...*\n",
    "\n",
    "*As I mentioned in the notes for this chapter, using regular expressions as the main tagging method is not recommended, as there are so many exceptions.  But for the sake of practice:*\n"
   ]
  },
  {
   "cell_type": "code",
   "execution_count": 110,
   "metadata": {},
   "outputs": [],
   "source": [
    "# adapted from my notes for 4.2\n",
    "\n",
    "patterns = [\n",
    "    (r'.*ing$', 'VBG'),                      # gerunds \n",
    "    (r'.*ed$', 'VBD'),                       # simple past\n",
    "    (r'.*es$', 'VBZ'),                       # 3rd singular present\n",
    "    (r'.*ould$', 'MD'),                      # modals\n",
    "    (r'.\\'s$', 'NN$'),                       # possessive nouns\n",
    "    (r'.*s$', 'NNS'),                        # plural nouns\n",
    "    (r'^-?[0-9]+(\\.[0-9]+)?$', 'CD'),        # cardinal numbers\n",
    "    (r'.*ly$|.*wise', 'ADV'),                # adverbs\n",
    "    \n",
    "    # adjectives\n",
    "    (r'.*y$|.*ish$|.*ive$|.*[ai]ble$|.*ful$|.*ous$|.*less', 'JJ'),\n",
    "    \n",
    "    (r'^th.{1,3}|^an?$', 'DET'),             # determiners/articles \n",
    "    (r'[\\.,!\\?;:\\'\\\"\\(\\)\\[\\]``]', '.'),      # punctuation \n",
    "    (r'.*ate$|.*en$|.*fy$|.*i[sz]e$', 'VB'), # verbs, base form\n",
    "    (r'.*', 'NN')                            # nouns (default)\n",
    "]"
   ]
  },
  {
   "cell_type": "code",
   "execution_count": 111,
   "metadata": {},
   "outputs": [
    {
     "name": "stdout",
     "output_type": "stream",
     "text": [
      "[('``', '.'), ('Only', 'ADV'), ('a', 'DET'), ('relative', 'JJ'), ('handful', 'JJ'), ('of', 'NN'), ('such', 'NN'), ('reports', 'NNS'), ('was', 'NNS'), ('received', 'VBD'), (\"''\", '.'), (',', '.'), ('the', 'DET'), ('jury', 'JJ'), ('said', 'NN'), (',', '.'), ('``', '.'), ('considering', 'VBG'), ('the', 'DET'), ('widespread', 'NN'), ('interest', 'NN'), ('in', 'NN'), ('the', 'DET'), ('election', 'NN'), (',', '.'), ('the', 'DET'), ('number', 'NN'), ('of', 'NN'), ('voters', 'NNS'), ('and', 'NN'), ('the', 'DET'), ('size', 'VB'), ('of', 'NN'), ('this', 'NNS'), ('city', 'JJ'), (\"''\", '.'), ('.', '.')]"
     ]
    }
   ],
   "source": [
    "regexp_tagger = nltk.RegexpTagger(patterns)\n",
    "print(regexp_tagger.tag(brown.sents(categories = 'news')[3]), end = '')"
   ]
  },
  {
   "cell_type": "code",
   "execution_count": 112,
   "metadata": {},
   "outputs": [
    {
     "data": {
      "text/plain": [
       "0.23470970821648068"
      ]
     },
     "execution_count": 112,
     "metadata": {},
     "output_type": "execute_result"
    }
   ],
   "source": [
    "regexp_tagger.evaluate(brown.tagged_sents(categories = 'news'))"
   ]
  },
  {
   "cell_type": "markdown",
   "metadata": {},
   "source": [
    "*As I thought, the tagger didn't perform especially well.  For what it's worth, the one class of words with the most distinguishable suffixes is nouns; but since that's the default class, there's no point in crafting regular expressions to isolate them.*\n",
    "\n",
    "##### 23.\n",
    "\n",
    "◑ Consider the regular expression tagger developed in the exercises in the previous section. Evaluate the tagger using its `accuracy()` method, and try to come up with ways to improve its performance. Discuss your findings. How does objective evaluation help in the development process?\n",
    "\n",
    "*This question is very confusingly written.  By the previous section, do they mean the previous question?  Also, there is no `accuracy()` method for taggers: there is an `evaluate()` method, which uses the `accuracy()` method from nltk.metrics.  Furthermore, I think using regular expressions for tagging is extremely ineffective, as I have noted several times.  The only thing I want to add to this answer is that `evaluate()` does provide an objective metric that we can use to verify that one tagger is more effective than another, so we don't have to rely on hunches.*\n",
    "\n",
    "##### 24. \n",
    "\n",
    "◑ How serious is the sparse data problem? Investigate the performance of n-gram taggers as *n* increases from 1 to 6. Tabulate the accuracy score. Estimate the training data required for these taggers, assuming a vocabulary size of $10^5$ and a tagset size of $10^2$.\n",
    "\n",
    "*The maximum number of possible $n$-grams and possible tag combinations would increase exponentially with the increase in the size of $n$.  In most languages, rules of syntax prohibit a good number of possible combinations (e.g., in English an adjective can't precede an article, etc...); but in any case, the number of possible combinations is so large that we would almost surely never see the vast majority of possible $n$-grams.*\n",
    "\n",
    "\n",
    "| $n$ =  | Maximum Number of Possible n-grams | Maximum Number of Possible tag combinations |\n",
    "|:------:|:----------------------------------:|:-------------------------------------------:|\n",
    "|    1   |               $10^5$               |                    $10^2$                   |\n",
    "|    2   |               $10^{10}$              |                    $10^4$                   |\n",
    "|    3   |               $10^{15}$              |                    $10^6$                   |\n",
    "|    4   |               $10^{20}$              |                    $10^8$                   |\n",
    "|    5   |               $10^{25}$              |                   $10^{10}$                   |\n",
    "|    6   |               $10^{30}$              |                   $10^{12}$                   |\n",
    "\n",
    "*The authors haven't offered much guidance in the amount of training data needed for a tagger.  Usually, anywhere between 90% of the data is used for training and 10% for testing (70/20/10 if a cross-validation model is used to tune parameters), so one could argue that we would need a training set 90% of the size of the maximum number of possible $n$-grams.  A cursory search for corpus size heuristics online failed to generate anything of value.*\n",
    "\n",
    "*For the sake of illustration, I decided to look at the evaluation rates for uni-, bi-, and trigrams, using various ratios of training/test data.  I started off with a 10/90 train/test split, then tried a 20/80 split, a 30/70 split, etc... As you can see, with a unigram model, the size of the split does not matter as much as it does with larger $n$-grams.  No matter what the size of the train/test split, a unigram model does quite well.  However, with larger n-grams, we do notice a steady increase in accuracy as the training set grows, though the accuracy for bigram and trigram taggers still lags far behind that of a unigram tagger:*"
   ]
  },
  {
   "cell_type": "code",
   "execution_count": 113,
   "metadata": {},
   "outputs": [],
   "source": [
    "train_size = np.arange(0.1, 1, 0.1)\n",
    "perfs_uni = []\n",
    "\n",
    "for ts in train_size:\n",
    "    size = int(len(brown.tagged_sents()) * ts)\n",
    "    train_sents = brown.tagged_sents()[:size]\n",
    "    test_sents = brown.tagged_sents()[size:]\n",
    "    unigram_tagger = nltk.UnigramTagger(train_sents)\n",
    "    perfs_uni.append(unigram_tagger.evaluate(test_sents))"
   ]
  },
  {
   "cell_type": "code",
   "execution_count": 114,
   "metadata": {},
   "outputs": [],
   "source": [
    "perfs_bi = []\n",
    "\n",
    "for ts in train_size:\n",
    "    size = int(len(brown.tagged_sents()) * ts)\n",
    "    train_sents = brown.tagged_sents()[:size]\n",
    "    test_sents = brown.tagged_sents()[size:]\n",
    "    bigram_tagger = nltk.BigramTagger(train_sents)\n",
    "    perfs_bi.append(bigram_tagger.evaluate(test_sents))"
   ]
  },
  {
   "cell_type": "code",
   "execution_count": 115,
   "metadata": {},
   "outputs": [],
   "source": [
    "perfs_tri = []\n",
    "\n",
    "for ts in train_size:\n",
    "    size = int(len(brown.tagged_sents()) * ts)\n",
    "    train_sents = brown.tagged_sents()[:size]\n",
    "    test_sents = brown.tagged_sents()[size:]\n",
    "    trigram_tagger = nltk.TrigramTagger(train_sents)\n",
    "    perfs_tri.append(trigram_tagger.evaluate(test_sents))"
   ]
  },
  {
   "cell_type": "code",
   "execution_count": 116,
   "metadata": {},
   "outputs": [
    {
     "data": {
      "image/png": "[encoded data removed]",
      "text/plain": [
       "<Figure size 432x288 with 1 Axes>"
      ]
     },
     "metadata": {
      "needs_background": "light"
     },
     "output_type": "display_data"
    }
   ],
   "source": [
    "plt.plot(train_size, perfs_uni, '-bo', label = 'Unigram Tagger')\n",
    "plt.plot(train_size, perfs_bi, '--ro', label = 'Bigram Tagger')\n",
    "plt.plot(train_size, perfs_tri, ':go', label = 'Trigram Tagger')\n",
    "plt.title('$n$-gram Tagger Performance with Varying Training Set Size')\n",
    "plt.xlabel('Training Size as Proportion of Corpus')\n",
    "plt.ylabel('Performance')\n",
    "plt.legend(loc = 'best')\n",
    "plt.show()"
   ]
  },
  {
   "cell_type": "markdown",
   "metadata": {},
   "source": [
    "*This is a very naïve assumption, but if accuracy improved at a constant rate, the bigram tagger would approach 80% if the corpus were three times as large.  Right now, the corpus has about a million tokens and 50,000 types (meaning each type appears 20 times on average), and if it were three times as large it would have 3,000,000 tokens.  If the vocabulary had 100,000 types, we could use this (very simplistic) logic to argue that we'd need a corpus of 6,000,000 tokens.*\n",
    "\n",
    "*For the sake of comparison, I calculated the accuracy of various $n$-gram taggers using a 90/10 training/test split.  As you can see, the performance quickly falls off as we increase the number of $n$-grams.  The upshot is that we shouldn't use larger $n$-gram taggers, unless we have a very large corpus and/or a good backoff tagger.*"
   ]
  },
  {
   "cell_type": "code",
   "execution_count": 117,
   "metadata": {},
   "outputs": [
    {
     "data": {
      "text/plain": [
       "56057"
      ]
     },
     "execution_count": 117,
     "metadata": {},
     "output_type": "execute_result"
    }
   ],
   "source": [
    "len(set(brown.words()))"
   ]
  },
  {
   "cell_type": "code",
   "execution_count": 118,
   "metadata": {},
   "outputs": [
    {
     "data": {
      "text/plain": [
       "1065750"
      ]
     },
     "execution_count": 118,
     "metadata": {},
     "output_type": "execute_result"
    }
   ],
   "source": [
    "sum([len(s) for s in train_sents])"
   ]
  },
  {
   "cell_type": "code",
   "execution_count": 119,
   "metadata": {},
   "outputs": [
    {
     "data": {
      "text/plain": [
       "0.8849353534083527"
      ]
     },
     "execution_count": 119,
     "metadata": {},
     "output_type": "execute_result"
    }
   ],
   "source": [
    "size = int(len(brown.tagged_sents()) * 0.9)\n",
    "train_sents = brown.tagged_sents()[:size]\n",
    "test_sents = brown.tagged_sents()[size:]\n",
    "\n",
    "unigram_tagger = nltk.UnigramTagger(train_sents)\n",
    "unigram_tagger.evaluate(test_sents)"
   ]
  },
  {
   "cell_type": "code",
   "execution_count": 120,
   "metadata": {},
   "outputs": [
    {
     "data": {
      "text/plain": [
       "0.3515747783994468"
      ]
     },
     "execution_count": 120,
     "metadata": {},
     "output_type": "execute_result"
    }
   ],
   "source": [
    "\n",
    "bigram_tagger = nltk.BigramTagger(train_sents)\n",
    "bigram_tagger.evaluate(test_sents)"
   ]
  },
  {
   "cell_type": "code",
   "execution_count": 121,
   "metadata": {},
   "outputs": [
    {
     "data": {
      "text/plain": [
       "0.2029714381509189"
      ]
     },
     "execution_count": 121,
     "metadata": {},
     "output_type": "execute_result"
    }
   ],
   "source": [
    "trigram_tagger = nltk.TrigramTagger(train_sents)\n",
    "trigram_tagger.evaluate(test_sents)"
   ]
  },
  {
   "cell_type": "code",
   "execution_count": 122,
   "metadata": {},
   "outputs": [
    {
     "data": {
      "text/plain": [
       "0.15251147293644307"
      ]
     },
     "execution_count": 122,
     "metadata": {},
     "output_type": "execute_result"
    }
   ],
   "source": [
    "four_gram_tagger = nltk.tag.sequential.NgramTagger(4, train_sents)\n",
    "four_gram_tagger.evaluate(test_sents)"
   ]
  },
  {
   "cell_type": "code",
   "execution_count": 123,
   "metadata": {},
   "outputs": [
    {
     "data": {
      "text/plain": [
       "0.1402003310911339"
      ]
     },
     "execution_count": 123,
     "metadata": {},
     "output_type": "execute_result"
    }
   ],
   "source": [
    "five_gram_tagger = nltk.tag.sequential.NgramTagger(5, train_sents)\n",
    "five_gram_tagger.evaluate(test_sents)"
   ]
  },
  {
   "cell_type": "code",
   "execution_count": 124,
   "metadata": {},
   "outputs": [
    {
     "data": {
      "text/plain": [
       "0.1383667567737474"
      ]
     },
     "execution_count": 124,
     "metadata": {},
     "output_type": "execute_result"
    }
   ],
   "source": [
    "six_gram_tagger = nltk.tag.sequential.NgramTagger(6, train_sents)\n",
    "six_gram_tagger.evaluate(test_sents)"
   ]
  },
  {
   "cell_type": "markdown",
   "metadata": {},
   "source": [
    "*But as I've mentioned repeatedly, this is a very simplistic model, and it depends greatly on the language in question.  With languages with a fixed word order (such as English), the corpus could be smaller, as rules of syntax prohibit many part of speech combinations.  However, in languages without such a fixed order, we might need a much larger corpus to encounter examples of all possible collocations.*\n",
    "\n",
    "##### 25. \n",
    "\n",
    "◑ Obtain some tagged data for another language, and train and evaluate a variety of taggers on it. If the language is morphologically complex, or if there are any orthographic clues (e.g. capitalization) to word classes, consider developing a regular expression tagger for it (ordered after the unigram tagger, and before the default tagger). How does the accuracy of your tagger(s) compare with the same taggers run on English data? Discuss any issues you encounter in applying these methods to the language.\n",
    "\n",
    "*I decided to try looking at some tagged data for Japanese.  There are two corpora available for Japanese through NLTK: the KNB and JEITA corpora.  Details on access are available [here](http://www.nltk.org/howto/japanese.html \"Japanese Corpora\").*\n",
    "\n",
    "*Japanese presents a number of problems. The largest one is the writing systems.  There are four in use in modern Japanese (Kanji, Hiragana, Katakana, and Romaji; the [Wikipedia entry](https://en.wikipedia.org/wiki/Japanese_writing_system \"Japanese Writing Systme\") covers this in much more detail than I am able to here), and most texts use a combination of all four.  There is no concept comparable to upper- and lower-case letters; however, there are heurisitcs for when combinations of the writing systems are used (e.g., words consisting solely of Kanji are most likely nouns; most verbs and adjectives begin with a Kanji character and end with a string of Hiragana characters; etc...), so it might be possible to craft regexp taggers.  However, written Japanese does not use space between words, and I don't have much experience using regular expressions outside of the ASCII range of characters.  So for the moment, I'm going to hold off on trying to use regexp taggers.*\n"
   ]
  },
  {
   "cell_type": "code",
   "execution_count": 125,
   "metadata": {},
   "outputs": [],
   "source": [
    "from nltk.corpus import jeita"
   ]
  },
  {
   "cell_type": "code",
   "execution_count": 126,
   "metadata": {},
   "outputs": [
    {
     "name": "stdout",
     "output_type": "stream",
     "text": [
      "[('\\u3000', '\\u3000\\t\\u3000\\t記号-空白'), ('新潟', 'ニイガタ\\t新潟\\t名詞-固有名詞-地域-一般'), ('の', 'ノ\\tの\\t助詞-連体化'), ('停車場', 'テイシャジョウ\\t停車場\\t名詞-一般'), ('を', 'ヲ\\tを\\t助詞-格助詞-一般'), ('出る', 'デル\\t出る\\t動詞-自立\\t一段\\t基本形'), ('と', 'ト\\tと\\t助詞-接続助詞'), ('列車', 'レッシャ\\t列車\\t名詞-一般'), ('の', 'ノ\\tの\\t助詞-連体化'), ('箱', 'ハコ\\t箱\\t名詞-一般'), ('から', 'カラ\\tから\\t助詞-格助詞-一般'), ('まけ', 'マケ\\tまける\\t動詞-自立\\t一段\\t連用形'), ('出さ', 'ダサ\\t出す\\t動詞-自立\\t五段・サ行\\t未然形'), ('れ', 'レ\\tれる\\t動詞-接尾\\t一段\\t連用形'), ('た', 'タ\\tた\\t助動詞\\t特殊・タ\\t基本形'), ('樣', '\\t\\t未知語'), ('に', 'ニ\\tに\\t助詞-格助詞-一般'), ('人々', 'ヒトビト\\t人々\\t名詞-一般'), ('は', 'ハ\\tは\\t助詞-係助詞'), ('ぞ', 'ゾ\\tぞ\\t助詞-係助詞'), ('ろ', 'ロ\\tろ\\t名詞-一般'), ('／', '／\\t／\\t記号-一般'), ('＼', '＼\\t＼\\t記号-一般'), ('と', 'ト\\tと\\t助詞-格助詞-引用'), ('一方', 'イッポウ\\t一方\\t名詞-非自立-副詞可能'), ('へ', 'ヘ\\tへ\\t助詞-格助詞-一般'), ('向い', 'ムイ\\t向く\\t動詞-自立\\t五段・カ行イ音便\\t連用タ接続'), ('て', 'テ\\tて\\t助詞-接続助詞'), ('行く', 'イク\\t行く\\t動詞-非自立\\t五段・カ行促音便\\t基本形'), ('。', '。\\t。\\t記号-句点'), ('其', '\\t\\t未知語'), ('あと', 'アト\\tあと\\t名詞-一般'), ('へ', 'ヘ\\tへ\\t助詞-格助詞-一般'), ('跟', '\\t\\t未知語'), ('い', 'イ\\tいる\\t動詞-自立\\t一段\\t連用形'), ('て', 'テ\\tて\\t助詞-接続助詞'), ('行く', 'イク\\t行く\\t動詞-非自立\\t五段・カ行促音便\\t基本形'), ('と', 'ト\\tと\\t助詞-接続助詞'), ('すぐ', 'スグ\\tすぐ\\t副詞-助詞類接続'), ('に', 'ニ\\tに\\t助詞-副詞化'), ('長大', 'チョウダイ\\t長大\\t名詞-形容動詞語幹'), ('な', 'ナ\\tだ\\t助動詞\\t特殊・ダ\\t体言接続'), ('木橋', 'モクキョウ\\t木橋\\t名詞-固有名詞-一般'), ('が', 'ガ\\tが\\t助詞-格助詞-一般'), ('ある', 'アル\\tある\\t動詞-自立\\t五段・ラ行\\t基本形'), ('。', '。\\t。\\t記号-句点'), ('橋', 'ハシ\\t橋\\t名詞-一般'), ('へ', 'ヘ\\tへ\\t名詞-一般'), ('か', 'カ\\tか\\t助詞-副助詞／並立助詞／終助詞'), ('ゝ', 'ゝ\\tゝ\\t記号-一般'), ('つて', 'ツテ\\tつて\\t名詞-一般'), ('ぶら', 'ブラ\\tぶる\\t動詞-自立\\t五段・ラ行\\t未然形'), ('／', '／\\t／\\t記号-一般'), ('＼', '＼\\t＼\\t記号-一般'), ('と', 'ト\\tと\\t助詞-格助詞-引用'), ('辿', 'タド\\t辿る\\t動詞-自立\\t五段・ラ行\\t体言接続特殊２'), ('つて', 'ツテ\\tつて\\t名詞-一般'), ('來', '\\t\\t未知語'), ('る', 'ル\\tる\\t助動詞\\t文語・ル\\t基本形'), ('と', 'ト\\tと\\t助詞-格助詞-引用'), ('古', 'コ\\t古\\t接頭詞-名詞接続'), ('傘', 'カサ\\t傘\\t名詞-一般'), ('を', 'ヲ\\tを\\t助詞-格助詞-一般'), ('手', 'テ\\t手\\t名詞-一般'), ('に', 'ニ\\tに\\t助詞-格助詞-一般'), ('提げ', 'サゲ\\t提げる\\t動詞-自立\\t一段\\t連用形'), ('た', 'タ\\tた\\t助動詞\\t特殊・タ\\t基本形'), ('若者', 'ワカモノ\\t若者\\t名詞-一般'), ('が', 'ガ\\tが\\t助詞-格助詞-一般'), ('余', 'ヨ\\t余\\t名詞-代名詞-一般'), ('の', 'ノ\\tの\\t助詞-連体化'), ('側', 'ガワ\\t側\\t名詞-一般'), ('へ', 'ヘ\\tへ\\t名詞-一般'), ('寄', 'ヤドリキ\\t寄\\t名詞-固有名詞-地域-一般'), ('つて', 'ツテ\\tつて\\t名詞-一般'), ('丁寧', 'テイネイ\\t丁寧\\t名詞-形容動詞語幹'), ('な', 'ナ\\tだ\\t助動詞\\t特殊・ダ\\t体言接続'), ('辭', '\\t\\t未知語'), ('儀', 'ギ\\t儀\\t名詞-一般'), ('を', 'ヲ\\tを\\t助詞-格助詞-一般'), ('し', 'シ\\tする\\t動詞-自立\\tサ変・スル\\t連用形'), ('て', 'テ\\tて\\t助詞-接続助詞'), ('新潟', 'ニイガタ\\t新潟\\t名詞-固有名詞-地域-一般'), ('は', 'ハ\\tは\\t助詞-係助詞'), ('どちら', 'ドチラ\\tどちら\\t名詞-代名詞-一般'), ('へ', 'ヘ\\tへ\\t助詞-格助詞-一般'), ('お', 'オ\\tお\\t接頭詞-名詞接続'), ('泊り', 'トマリ\\t泊り\\t名詞-一般'), ('です', 'デス\\tです\\t助動詞\\t特殊・デス\\t基本形'), ('か', 'カ\\tか\\t助詞-副助詞／並立助詞／終助詞'), ('と', 'ト\\tと\\t助詞-格助詞-引用'), ('問う', 'トウ\\t問う\\t動詞-自立\\t五段・ワ行ウ音便\\t連用タ接続'), ('た', 'タ\\tた\\t助動詞\\t特殊・タ\\t基本形'), ('。', '。\\t。\\t記号-句点'), ('彼', 'カレ\\t彼\\t名詞-代名詞-一般'), ('は', 'ハ\\tは\\t助詞-係助詞'), ('宿', 'ヤド\\t宿\\t名詞-一般'), ('引', '\\t\\t未知語'), ('で', 'デ\\tで\\t助詞-格助詞-一般'), ('あつ', 'アツ\\tあつい\\t形容詞-自立\\t形容詞・アウオ段\\tガル接続'), ('た', 'タ\\tた\\t助動詞\\t特殊・タ\\t基本形'), ('の', 'ノ\\tの\\t名詞-非自立-一般'), ('だ', 'ダ\\tだ\\t助動詞\\t特殊・ダ\\t基本形'), ('。', '。\\t。\\t記号-句点'), ('何', 'ナニ\\t何\\t名詞-代名詞-一般'), ('處', '\\t\\t未知語'), ('といふ', 'トイフ\\tといふ\\t助詞-格助詞-連語'), ('こと', 'コト\\tこと\\t名詞-非自立-一般'), ('は', 'ハ\\tは\\t助詞-係助詞'), ('ない', 'ナイ\\tない\\t助動詞\\t特殊・ナイ\\t基本形'), ('が', 'ガ\\tが\\t助詞-接続助詞'), ('郵便', 'ユウビン\\t郵便\\t名詞-一般'), ('局', 'キョク\\t局\\t名詞-接尾-一般'), ('へ', 'ヘ\\tへ\\t助詞-格助詞-一般'), ('用', 'ヨウ\\t用\\t名詞-一般'), ('が', 'ガ\\tが\\t助詞-格助詞-一般'), ('ある', 'アル\\tある\\t動詞-自立\\t五段・ラ行\\t基本形'), ('の', 'ノ\\tの\\t名詞-非自立-一般'), ('だ', 'ダ\\tだ\\t助動詞\\t特殊・ダ\\t基本形'), ('から', 'カラ\\tから\\t助詞-接続助詞'), ('其', '\\t\\t未知語'), ('方', 'カタ\\t方\\t名詞-接尾-一般'), ('へ', 'ヘ\\tへ\\t助詞-格助詞-一般'), ('行か', 'イカ\\t行く\\t動詞-自立\\t五段・カ行促音便\\t未然形'), ('ね', 'ネ\\tぬ\\t助動詞\\t特殊・ヌ\\t仮定形'), ('ば', 'バ\\tば\\t助詞-接続助詞'), ('なら', 'ナラ\\tなる\\t動詞-非自立\\t五段・ラ行\\t未然形'), ('ぬ', 'ヌ\\tぬ\\t助動詞\\t特殊・ヌ\\t基本形'), ('と', 'ト\\tと\\t助詞-格助詞-引用'), ('斷', '\\t\\t未知語'), ('る', 'ル\\tり\\t助動詞\\t文語・リ\\t体言接続'), ('積り', 'ツモリ\\t積り\\t名詞-一般'), ('で', 'デ\\tで\\t助詞-格助詞-一般'), ('いふ', 'イフ\\tいふ\\t名詞-サ変接続'), ('と', 'ト\\tと\\t助詞-並立助詞'), ('、', '、\\t、\\t記号-読点'), ('局', 'キョク\\t局\\t名詞-サ変接続'), ('なら', 'ナラ\\tだ\\t助動詞\\t特殊・ダ\\t仮定形'), ('ば', 'バ\\tば\\t助詞-接続助詞'), ('すぐ', 'スグ\\tすぐ\\t副詞-助詞類接続'), ('手前', 'テマエ\\t手前\\t名詞-一般'), ('の', 'ノ\\tの\\t助詞-連体化'), ('うし', 'ウシ\\tうし\\t名詞-一般'), ('ろ', 'ロ\\tろ\\t名詞-一般'), ('に', 'ニ\\tに\\t助詞-格助詞-一般'), ('當', '\\t\\t未知語'), ('つて', 'ツテ\\tつて\\t名詞-一般'), ('居り', 'オリ\\t居る\\t動詞-自立\\t五段・ラ行\\t連用形'), ('ます', 'マス\\tます\\t助動詞\\t特殊・マス\\t基本形'), ('、', '、\\t、\\t記号-読点'), ('手前', 'テマエ\\t手前\\t名詞-一般'), ('に', 'ニ\\tに\\t助詞-格助詞-一般'), ('は', 'ハ\\tは\\t助詞-係助詞'), ('電話', 'デンワ\\t電話\\t名詞-サ変接続'), ('も', 'モ\\tも\\t助詞-係助詞'), ('あり', 'アリ\\tある\\t動詞-自立\\t五段・ラ行\\t連用形'), ('ます', 'マス\\tます\\t動詞-自立\\t五段・サ行\\t基本形'), ('スケ', '\\t\\t未知語'), ('に', 'ニ\\tに\\t助詞-格助詞-一般'), ('佐渡', 'サド\\t佐渡\\t名詞-固有名詞-地域-一般'), ('の', 'ノ\\tの\\t助詞-連体化'), ('汽船', 'キセン\\t汽船\\t名詞-一般'), ('へ', 'ヘ\\tへ\\t助詞-格助詞-一般'), ('お', 'オ\\tお\\t接頭詞-名詞接続'), ('差', 'サ\\t差\\t名詞-一般'), ('支', '\\t\\t未知語'), ('を', 'ヲ\\tを\\t助詞-格助詞-一般'), ('掛ける', 'カケル\\t掛ける\\t動詞-自立\\t一段\\t基本形'), ('やう', 'ヤウ\\tやう\\t名詞-非自立-助動詞語幹'), ('な', 'ナ\\tだ\\t助動詞\\t特殊・ダ\\t体言接続'), ('こと', 'コト\\tこと\\t名詞-非自立-一般'), ('は', 'ハ\\tは\\t助詞-係助詞'), ('致し', 'イタシ\\t致す\\t動詞-自立\\t五段・サ行\\t連用形'), ('ませ', 'マセ\\tます\\t助動詞\\t特殊・マス\\t未然形'), ('ん', 'ン\\tん\\t助動詞\\t不変化型\\t基本形'), ('から', 'カラ\\tから\\t助詞-接続助詞'), ('泊', 'ハク\\t泊\\t名詞-サ変接続'), ('つて', 'ツテ\\tつて\\t名詞-一般'), ('下され', 'クダサレ\\t下さる\\t動詞-自立\\t五段・ラ行特殊\\t命令ｅ'), ('とい', 'トイ\\tとい\\t名詞-一般'), ('つた', 'ツタ\\tつた\\t名詞-固有名詞-人名-名'), ('。', '。\\t。\\t記号-句点'), ('余', 'ヨ\\t余\\t名詞-代名詞-一般'), ('は', 'ハ\\tは\\t助詞-係助詞'), ('構', '\\t\\t未知語'), ('はず', 'ハズ\\tはず\\t名詞-非自立-一般'), ('にぶ', 'ニブ\\tにぶい\\t形容詞-自立\\t形容詞・アウオ段\\tガル接続'), ('ら', 'ラ\\tら\\t名詞-接尾-一般'), ('／', '／\\t／\\t記号-一般'), ('＼', '＼\\t＼\\t記号-一般'), ('來', '\\t\\t未知語'), ('る', 'ル\\tる\\t助動詞\\t文語・ル\\t基本形'), ('と', 'ト\\tと\\t助詞-格助詞-引用'), ('宿', 'ヤド\\t宿\\t名詞-一般'), ('引', '\\t\\t未知語'), ('も', 'モ\\tも\\t助詞-係助詞'), ('跟', '\\t\\t未知語'), ('い', 'イ\\tいる\\t動詞-自立\\t一段\\t連用形'), ('て', 'テ\\tて\\t助詞-接続助詞'), ('來', '\\t\\t未知語'), ('る', 'ル\\tる\\t助動詞\\t文語・ル\\t基本形'), ('。', '。\\t。\\t記号-句点'), ('橋', 'ハシ\\t橋\\t名詞-一般'), ('の', 'ノ\\tの\\t助詞-連体化'), ('向', 'ムカイ\\t向\\t名詞-固有名詞-人名-姓'), ('は', 'ハ\\tは\\t助詞-係助詞'), ('新潟', 'ニイガタ\\t新潟\\t名詞-固有名詞-地域-一般'), ('の', 'ノ\\tの\\t助詞-連体化'), ('市街', 'シガイ\\t市街\\t名詞-一般'), ('で', 'デ\\tで\\t助詞-格助詞-一般'), ('水', 'ミズ\\t水\\t名詞-一般'), ('に', 'ニ\\tに\\t助詞-格助詞-一般'), ('臨ん', 'ノゾン\\t臨む\\t動詞-自立\\t五段・マ行\\t連用タ接続'), ('で', 'デ\\tで\\t助詞-接続助詞'), ('人家', 'ジンカ\\t人家\\t名詞-一般'), ('が', 'ガ\\tが\\t助詞-格助詞-一般'), ('長く', 'ナガク\\t長い\\t形容詞-自立\\t形容詞・アウオ段\\t連用テ接続'), ('接', 'セッ\\t接\\t名詞-サ変接続'), ('續', '\\t\\t未知語'), ('し', 'シ\\tする\\t動詞-自立\\tサ変・スル\\t連用形'), ('て', 'テ\\tて\\t助詞-接続助詞'), ('居る', 'イル\\t居る\\t動詞-自立\\t一段\\t基本形'), ('。', '。\\t。\\t記号-句点'), ('後', 'コウ\\t後\\t名詞-一般'), ('を', 'ヲ\\tを\\t助詞-格助詞-一般'), ('顧みる', 'カエリミル\\t顧みる\\t動詞-自立\\t一段\\t基本形'), ('と', 'ト\\tと\\t助詞-接続助詞'), ('岸', 'キシ\\t岸\\t名詞-一般'), ('が', 'ガ\\tが\\t助詞-格助詞-一般'), ('遙', '\\t\\t未知語'), ('に', 'ニ\\tに\\t助詞-格助詞-一般'), ('遠く', 'トオク\\t遠く\\t名詞-副詞可能'), ('な', 'ナ\\tだ\\t助動詞\\t特殊・ダ\\t体言接続'), ('つて', 'ツテ\\tつて\\t名詞-一般'), ('茂', 'シゲル\\t茂\\t名詞-固有名詞-人名-名'), ('つた', 'ツタ\\tつた\\t名詞-固有名詞-人名-名'), ('葦', 'アシ\\t葦\\t名詞-一般'), ('が', 'ガ\\tが\\t助詞-格助詞-一般'), ('短く', 'ミジカク\\t短い\\t形容詞-自立\\t形容詞・アウオ段\\t連用テ接続'), ('な', 'ナ\\tない\\t助動詞\\t特殊・ナイ\\tガル接続'), ('つ', 'ツ\\tつる\\t動詞-自立\\t五段・ラ行\\t体言接続特殊２'), ('て', 'テ\\tて\\t助詞-接続助詞'), ('見える', 'ミエル\\t見える\\t動詞-自立\\t一段\\t基本形'), ('。', '。\\t。\\t記号-句点'), ('此', '\\t\\t未知語'), ('所', 'ショ\\t所\\t名詞-接尾-一般'), ('で', 'デ\\tで\\t助詞-格助詞-一般'), ('漸く', 'ヨウヤク\\t漸く\\t副詞-一般'), ('橋', 'ハシ\\t橋\\t名詞-一般'), ('は', 'ハ\\tは\\t助詞-係助詞'), ('半分', 'ハンブン\\t半分\\t名詞-副詞可能'), ('位', 'クライ\\t位\\t名詞-副詞可能'), ('迄', 'マデ\\t迄\\t助詞-副助詞'), ('來', '\\t\\t未知語'), ('て', 'テ\\tて\\t助詞-格助詞-連語'), ('居', 'イ\\t居る\\t動詞-自立\\t一段\\t連用形'), ('た', 'タ\\tた\\t助動詞\\t特殊・タ\\t基本形'), ('の', 'ノ\\tの\\t名詞-非自立-一般'), ('で', 'デ\\tだ\\t助動詞\\t特殊・ダ\\t連用形'), ('ある', 'アル\\tある\\t助動詞\\t五段・ラ行アル\\t基本形'), ('。', '。\\t。\\t記号-句点'), ('此', '\\t\\t未知語'), ('橋', 'キョウ\\t橋\\t名詞-接尾-一般'), ('は', 'ハ\\tは\\t助詞-係助詞'), ('立派', 'リッパ\\t立派\\t名詞-形容動詞語幹'), ('な', 'ナ\\tだ\\t助動詞\\t特殊・ダ\\t体言接続'), ('もの', 'モノ\\tもの\\t名詞-非自立-一般'), ('ぢ', 'ヂ\\tぢ\\t名詞-一般'), ('や', 'ヤ\\tや\\t助詞-並立助詞'), ('ない', 'ナイ\\tない\\t形容詞-自立\\t形容詞・アウオ段\\t基本形'), ('か', 'カ\\tか\\t助詞-副助詞／並立助詞／終助詞'), ('と', 'ト\\tと\\t助詞-格助詞-引用'), ('宿', 'ヤド\\t宿\\t名詞-一般'), ('引', '\\t\\t未知語'), ('へ', 'ヘ\\tへ\\t助詞-格助詞-一般'), ('いつ', 'イツ\\tいつ\\t名詞-代名詞-一般'), ('たら', 'タラ\\tたら\\t名詞-一般'), ('、', '、\\t、\\t記号-読点'), ('へえ', 'ヘエ\\tへえ\\t感動詞'), ('四百', '\\t四百\\t名詞-数'), ('卅', '\\t\\t未知語'), ('間', 'カン\\t間\\t名詞-接尾-一般'), ('ご', 'ゴ\\tご\\t接頭詞-名詞接続'), ('ざり', 'ザリ\\tぬ\\t助動詞\\t特殊・ヌ\\t連用形'), ('ます', 'マス\\tます\\t助動詞\\t特殊・マス\\t基本形'), ('から', 'カラ\\tから\\t助詞-接続助詞'), ('と', 'ト\\tと\\t助詞-格助詞-引用'), ('宿', 'ヤド\\t宿\\t名詞-一般'), ('引', '\\t\\t未知語'), ('がい', 'ガイ\\tがい\\t名詞-接尾-一般'), ('つた', 'ツタ\\tつた\\t名詞-固有名詞-人名-名'), ('。', '。\\t。\\t記号-句点'), ('橋', 'ハシ\\t橋\\t名詞-一般'), ('の', 'ノ\\tの\\t助詞-連体化'), ('下', 'シタ\\t下\\t名詞-一般'), ('に', 'ニ\\tに\\t助詞-格助詞-一般'), ('は', 'ハ\\tは\\t助詞-係助詞'), ('濁流', 'ダクリュウ\\t濁流\\t名詞-一般'), ('が', 'ガ\\tが\\t助詞-格助詞-一般'), ('溶', '\\t\\t未知語'), ('々', '々\\t々\\t記号-一般'), ('として', 'トシテ\\tとして\\t助詞-格助詞-連語'), ('漲', 'ミナギ\\t漲る\\t動詞-自立\\t五段・ラ行\\t体言接続特殊２'), ('つて', 'ツテ\\tつて\\t名詞-一般'), ('北', 'キタ\\t北\\t名詞-一般'), ('へ', 'ヘ\\tへ\\t助詞-格助詞-一般'), ('海', 'ウミ\\t海\\t名詞-一般'), ('に', 'ニ\\tに\\t助詞-格助詞-一般'), ('つ', 'ツ\\tつる\\t動詞-自立\\t五段・ラ行\\t体言接続特殊２'), ('ゞ', 'ゞ\\tゞ\\t記号-一般'), ('い', 'イ\\tいる\\t動詞-自立\\t一段\\t連用形'), ('て', 'テ\\tて\\t助詞-接続助詞'), ('居る', 'イル\\t居る\\t動詞-自立\\t一段\\t基本形'), ('。', '。\\t。\\t記号-句点'), ('西南', 'セイナン\\t西南\\t名詞-一般'), ('の', 'ノ\\tの\\t助詞-連体化'), ('方', 'ホウ\\t方\\t名詞-非自立-一般'), ('を', 'ヲ\\tを\\t助詞-格助詞-一般'), ('望む', 'ノゾム\\t望む\\t動詞-自立\\t五段・マ行\\t基本形'), ('と', 'ト\\tと\\t助詞-格助詞-引用'), ('此', '\\t\\t未知語'), ('大江', 'オオエ\\t大江\\t名詞-固有名詞-人名-姓'), ('の', 'ノ\\tの\\t助詞-連体化'), ('水', 'ミズ\\t水\\t名詞-一般'), ('の', 'ノ\\tの\\t助詞-連体化'), ('通', 'ツウ\\t通\\t名詞-一般'), ('ずる', 'ズル\\tずる\\t名詞-一般'), ('區', '\\t\\t未知語'), ('域', 'イキ\\t域\\t名詞-接尾-一般'), ('は', 'ハ\\tは\\t助詞-係助詞'), ('只一', 'タダイチ\\t只一\\t名詞-固有名詞-人名-名'), ('帶', '\\t\\t未知語'), ('の', 'ノ\\tの\\t助詞-連体化'), ('平野', 'ヘイヤ\\t平野\\t名詞-一般'), ('と', 'ト\\tと\\t助詞-格助詞-引用'), ('見え', 'ミエ\\t見える\\t動詞-自立\\t一段\\t連用形'), ('て', 'テ\\tて\\t助詞-接続助詞'), ('空', 'ソラ\\t空\\t名詞-一般'), ('を', 'ヲ\\tを\\t助詞-格助詞-一般'), ('遮る', 'サエギル\\t遮る\\t動詞-自立\\t五段・ラ行\\t基本形'), ('もの', 'モノ\\tもの\\t名詞-非自立-一般'), ('が', 'ガ\\tが\\t助詞-格助詞-一般'), ('ない', 'ナイ\\tない\\t形容詞-自立\\t形容詞・アウオ段\\t基本形'), ('。', '。\\t。\\t記号-句点'), ('其', '\\t\\t未知語'), ('間', 'カン\\t間\\t名詞-接尾-一般'), ('に', 'ニ\\tに\\t助詞-格助詞-一般'), ('只', 'タダ\\t只\\t副詞-一般'), ('一つ', 'ヒトツ\\t一つ\\t名詞-一般'), ('の', 'ノ\\tの\\t助詞-連体化'), ('山', 'ヤマ\\t山\\t名詞-一般'), ('が', 'ガ\\tが\\t助詞-格助詞-一般'), ('晴れ', 'ハレ\\t晴れ\\t名詞-一般'), ('か', 'カ\\tか\\t助詞-副助詞／並立助詞／終助詞'), ('ゝ', 'ゝ\\tゝ\\t記号-一般'), ('つた', 'ツタ\\tつた\\t名詞-固有名詞-人名-名'), ('雲', 'クモ\\t雲\\t名詞-一般'), ('の', 'ノ\\tの\\t助詞-連体化'), ('間', 'アイダ\\t間\\t名詞-副詞可能'), ('から', 'カラ\\tから\\t助詞-格助詞-一般'), ('射し', 'サシ\\t射す\\t動詞-自立\\t五段・サ行\\t連用形'), ('かける', 'カケル\\tかける\\t動詞-自立\\t一段\\t基本形'), ('夕日', 'ユウヒ\\t夕日\\t名詞-一般'), ('の', 'ノ\\tの\\t助詞-連体化'), ('空', 'ソラ\\t空\\t名詞-一般'), ('を', 'ヲ\\tを\\t助詞-格助詞-一般'), ('背', 'セ\\t背\\t名詞-一般'), ('に', 'ニ\\tに\\t助詞-格助詞-一般'), ('し', 'シ\\tする\\t動詞-自立\\tサ変・スル\\t連用形'), ('て', 'テ\\tて\\t助詞-接続助詞'), ('丁度', 'チョウド\\t丁度\\t副詞-一般'), ('水上', 'スイジョウ\\t水上\\t名詞-一般'), ('に', 'ニ\\tに\\t助詞-格助詞-一般'), ('聳え', 'ソビエ\\t聳える\\t動詞-自立\\t一段\\t連用形'), ('て', 'テ\\tて\\t助詞-接続助詞'), ('居る', 'イル\\t居る\\t動詞-自立\\t一段\\t基本形'), ('やう', 'ヤウ\\tやう\\t名詞-非自立-助動詞語幹'), ('に', 'ニ\\tに\\t助詞-副詞化'), ('見える', 'ミエル\\t見える\\t動詞-自立\\t一段\\t基本形'), ('。', '。\\t。\\t記号-句点'), ('余', 'ヨ\\t余\\t名詞-代名詞-一般'), ('は', 'ハ\\tは\\t助詞-係助詞'), ('呆然と', 'ボウゼント\\t呆然と\\t副詞-一般'), ('し', 'シ\\tする\\t動詞-自立\\tサ変・スル\\t連用形'), ('て', 'テ\\tて\\t助詞-接続助詞'), ('此', '\\t\\t未知語'), ('周', 'シュウ\\t周\\t名詞-一般'), ('圍', '\\t\\t未知語'), ('に', 'ニ\\tに\\t助詞-格助詞-一般'), ('見とれ', 'ミトレ\\t見とれる\\t動詞-自立\\t一段\\t連用形'), ('て', 'テ\\tて\\t助詞-接続助詞'), ('しま', 'シマ\\tしま\\t名詞-一般'), ('つた', 'ツタ\\tつた\\t名詞-固有名詞-人名-名'), ('。', '。\\t。\\t記号-句点'), ('橋', 'ハシ\\t橋\\t名詞-一般'), ('の', 'ノ\\tの\\t助詞-連体化'), ('欄干', 'ランカン\\t欄干\\t名詞-一般'), ('に', 'ニ\\tに\\t助詞-格助詞-一般'), ('凭れ', 'モタレ\\t凭れる\\t動詞-自立\\t一段\\t連用形'), ('ながら', 'ナガラ\\tながら\\t助詞-接続助詞'), ('荷物', 'ニモツ\\t荷物\\t名詞-一般'), ('に', 'ニ\\tに\\t助詞-格助詞-一般'), ('挾ん', 'ハサン\\t挾む\\t動詞-自立\\t五段・マ行\\t連用タ接続'), ('で', 'デ\\tで\\t助詞-接続助詞'), ('あ', 'ア\\tある\\t動詞-非自立\\t五段・ラ行\\t体言接続特殊２'), ('つた', 'ツタ\\tつた\\t名詞-固有名詞-人名-名'), ('地', 'チ\\t地\\t名詞-接尾-一般'), ('圖', '\\t\\t未知語'), ('を', 'ヲ\\tを\\t助詞-格助詞-一般'), ('披', '\\t\\t未知語'), ('い', 'イ\\tいる\\t動詞-自立\\t一段\\t連用形'), ('て', 'テ\\tて\\t助詞-接続助詞'), ('見る', 'ミル\\t見る\\t動詞-自立\\t一段\\t基本形'), ('と', 'ト\\tと\\t助詞-接続助詞'), ('宿', 'ヤド\\t宿\\t名詞-一般'), ('引', '\\t\\t未知語'), ('は', 'ハ\\tは\\t助詞-係助詞'), ('此', '\\t\\t未知語'), ('時', 'ジ\\t時\\t名詞-接尾-副詞可能'), ('まだ', 'マダ\\tまだ\\t副詞-助詞類接続'), ('余', 'ヨ\\t余\\t名詞-接尾-一般'), ('の', 'ノ\\tの\\t助詞-連体化'), ('傍', 'ソバ\\t傍\\t名詞-一般'), ('に', 'ニ\\tに\\t助詞-格助詞-一般'), ('居', 'キョ\\t居\\t名詞-一般'), ('つたの', 'ツタノ\\tつたの\\t名詞-固有名詞-人名-名'), ('で', 'デ\\tだ\\t助動詞\\t特殊・ダ\\t連用形'), ('あつ', 'アツ\\tあつい\\t形容詞-自立\\t形容詞・アウオ段\\tガル接続'), ('た', 'タ\\tた\\t助動詞\\t特殊・タ\\t基本形'), ('が', 'ガ\\tが\\t助詞-接続助詞'), ('旦那', 'ダンナ\\t旦那\\t名詞-一般'), ('あれ', 'アレ\\tあれ\\t名詞-代名詞-一般'), ('は', 'ハ\\tは\\t助詞-係助詞'), ('お', 'オ\\tお\\t接頭詞-名詞接続'), ('彌', 'イヤ\\t彌\\t副詞-一般'), ('彦山', 'ヒコサン\\t彦山\\t名詞-固有名詞-一般'), ('で', 'デ\\tで\\t助詞-格助詞-一般'), ('こ', 'コ\\tこ\\t名詞-一般'), ('ゝ', 'ゝ\\tゝ\\t記号-一般'), ('から', 'カラ\\tから\\t助詞-格助詞-一般'), ('八', 'ハチ\\t八\\t名詞-数'), ('里', 'リ\\t里\\t名詞-接尾-助数詞'), ('ござい', 'ゴザイ\\tござる\\t動詞-自立\\t五段・ラ行特殊\\t連用形'), ('ます', 'マス\\tます\\t助動詞\\t特殊・マス\\t基本形'), ('、', '、\\t、\\t記号-読点'), ('丁度', 'チョウド\\t丁度\\t副詞-一般'), ('これ', 'コレ\\tこれ\\t名詞-代名詞-一般'), ('に', 'ニ\\tに\\t助詞-格助詞-一般'), ('當', '\\t\\t未知語'), ('り', 'リ\\tり\\t助動詞\\t文語・リ\\t基本形'), ('ます', 'マス\\tます\\t助動詞\\t特殊・マス\\t基本形'), ('と', 'ト\\tと\\t助詞-接続助詞'), ('地', 'チ\\t地\\t名詞-一般'), ('圖', '\\t\\t未知語'), ('を', 'ヲ\\tを\\t助詞-格助詞-一般'), ('覗き', 'ノゾキ\\t覗く\\t動詞-自立\\t五段・カ行イ音便\\t連用形'), ('込ん', 'コン\\t込む\\t動詞-非自立\\t五段・マ行\\t連用タ接続'), ('で', 'デ\\tで\\t助詞-接続助詞'), ('指し', 'サシ\\t指す\\t動詞-自立\\t五段・サ行\\t連用形'), ('ながら', 'ナガラ\\tながら\\t助詞-接続助詞'), ('い', 'イ\\tい\\t名詞-一般'), ('つた', 'ツタ\\tつた\\t名詞-固有名詞-人名-名'), ('。', '。\\t。\\t記号-句点'), ('余', 'ヨ\\t余\\t名詞-代名詞-一般'), ('が', 'ガ\\tが\\t助詞-格助詞-一般'), ('彌', 'イヤ\\t彌\\t副詞-一般'), ('彦山', 'ヒコサン\\t彦山\\t名詞-固有名詞-一般'), ('を', 'ヲ\\tを\\t助詞-格助詞-一般'), ('知', 'チ\\t知\\t名詞-一般'), ('つたの', 'ツタノ\\tつたの\\t名詞-固有名詞-人名-名'), ('は', 'ハ\\tは\\t助詞-係助詞'), ('斯く', 'カク\\t斯く\\t副詞-一般'), ('し', 'シ\\tする\\t動詞-自立\\tサ変・スル\\t連用形'), ('て', 'テ\\tて\\t助詞-接続助詞'), ('此', '\\t\\t未知語'), ('信濃川', 'シナノガワ\\t信濃川\\t名詞-固有名詞-一般'), ('の', 'ノ\\tの\\t助詞-連体化'), ('長橋', 'ナガハシ\\t長橋\\t名詞-固有名詞-地域-一般'), ('に', 'ニ\\tに\\t助詞-格助詞-一般'), ('立つ', 'タツ\\t立つ\\t動詞-自立\\t五段・タ行\\t基本形'), ('て', 'テ\\tて\\t助詞-格助詞-連語'), ('ゞ', 'ゞ\\tゞ\\t記号-一般'), ('あつ', 'アツ\\tあつい\\t形容詞-自立\\t形容詞・アウオ段\\tガル接続'), ('た', 'タ\\tた\\t助動詞\\t特殊・タ\\t基本形'), ('。', '。\\t。\\t記号-句点'), ('どうしても', 'ドウシテモ\\tどうしても\\t副詞-一般'), ('一度', 'イチド\\t一度\\t副詞-一般'), ('登攀', 'トウハン\\t登攀\\t名詞-サ変接続'), ('し', 'シ\\tする\\t動詞-自立\\tサ変・スル\\t連用形'), ('て', 'テ\\tて\\t助詞-接続助詞'), ('見', 'ミ\\t見る\\t動詞-自立\\t一段\\t連用形'), ('たい', 'タイ\\tたい\\t助動詞\\t特殊・タイ\\t基本形'), ('と', 'ト\\tと\\t助詞-格助詞-引用'), ('いふ', 'イフ\\tいふ\\t動詞-自立\\t四段・ハ行\\t基本形'), ('念', 'ネン\\t念\\t名詞-一般'), ('が', 'ガ\\tが\\t助詞-格助詞-一般'), ('此', '\\t\\t未知語'), ('時', 'ジ\\t時\\t名詞-接尾-副詞可能'), ('油然', 'ユウゼン\\t油然\\t名詞-一般'), ('として', 'トシテ\\tとして\\t助詞-格助詞-連語'), ('起つ', 'タツ\\t起つ\\t動詞-自立\\t五段・タ行\\t基本形'), ('た', 'タ\\tた\\t助動詞\\t特殊・タ\\t基本形'), ('。', '。\\t。\\t記号-句点'), ('此', '\\t\\t未知語'), ('は', 'ハ\\tは\\t助詞-係助詞'), ('九月', 'クガツ\\t九月\\t名詞-副詞可能'), ('の', 'ノ\\tの\\t助詞-連体化'), ('十三', '\\t十三\\t名詞-数'), ('日', 'ニチ\\t日\\t名詞-接尾-助数詞'), ('の', 'ノ\\tの\\t助詞-連体化'), ('雨上り', 'アメアガリ\\t雨上り\\t名詞-一般'), ('の', 'ノ\\tの\\t助詞-連体化'), ('こと', 'コト\\tこと\\t名詞-非自立-一般'), ('で', 'デ\\tだ\\t助動詞\\t特殊・ダ\\t連用形'), ('ある', 'アル\\tある\\t助動詞\\t五段・ラ行アル\\t基本形'), ('。', '。\\t。\\t記号-句点')]"
     ]
    }
   ],
   "source": [
    "print(jeita.tagged_sents()[0], end = '')"
   ]
  },
  {
   "cell_type": "markdown",
   "metadata": {},
   "source": [
    "*The example above shows how a sentence in Japanese is tagged.  Naturally, it's all in Japanese, so it's quite difficult for someone who can't read Japanese to make observations.  One aspect that immediately jumps out is the use of particles in Japanese.  A thorough explanation of Japanese Grammar is not possible here (a [Wikipedia artile](https://en.wikipedia.org/wiki/Japanese_grammar \"Japanese Grammar\") for those interested); but Japanese uses particles to mark the subject, topic, object, etc... of a sentence, and these could be of great use in tagging a text, since only certain parts of speech can be paired with specific particles.*\n",
    "\n",
    "*I don't have time to go into the intricacies of Japanese corpora at the moment.  I was more interested in practicing importing a foreign corpus, and examining the tagging process.  Time permitting, I'll return to this at a later date.*\n",
    "\n",
    "*I used the Jeita corpus, and started off with a unigram tagger, which took a very long time to run.  However, the accuracy was quite high: comparable to what one might expect in English:*"
   ]
  },
  {
   "cell_type": "code",
   "execution_count": 127,
   "metadata": {},
   "outputs": [
    {
     "data": {
      "text/plain": [
       "0.8649382697751626"
      ]
     },
     "execution_count": 127,
     "metadata": {},
     "output_type": "execute_result"
    }
   ],
   "source": [
    "size = int(len(jeita.tagged_sents()) * 0.9)\n",
    "train_sents = jeita.tagged_sents()[:size]\n",
    "test_sents = jeita.tagged_sents()[size:]\n",
    "\n",
    "unigram_tagger = nltk.UnigramTagger(train_sents)\n",
    "unigram_tagger.evaluate(test_sents)"
   ]
  },
  {
   "cell_type": "markdown",
   "metadata": {},
   "source": [
    "*The bigram tagger, though, did much, much worse.  I'm not sure if the tagger operated on the character level, or the word level:*"
   ]
  },
  {
   "cell_type": "code",
   "execution_count": 128,
   "metadata": {},
   "outputs": [
    {
     "data": {
      "text/plain": [
       "0.06625315567675989"
      ]
     },
     "execution_count": 128,
     "metadata": {},
     "output_type": "execute_result"
    }
   ],
   "source": [
    "bigram_tagger = nltk.BigramTagger(train_sents)\n",
    "bigram_tagger.evaluate(test_sents)"
   ]
  },
  {
   "cell_type": "markdown",
   "metadata": {},
   "source": [
    "*Also surprising to me was how badly the affix tagger did.  In Japanese, a word's suffix is extremely indicative of its part of speech, so I believed an affix tagger would do quite well.  But it in fact did very poorly.  It also runs very slowly.*"
   ]
  },
  {
   "cell_type": "code",
   "execution_count": 129,
   "metadata": {},
   "outputs": [
    {
     "data": {
      "text/plain": [
       "0.020517766874928366"
      ]
     },
     "execution_count": 129,
     "metadata": {},
     "output_type": "execute_result"
    }
   ],
   "source": [
    "affix_tagger = nltk.AffixTagger(jeita.tagged_sents(), affix_length = -1)\n",
    "affix_tagger.evaluate(jeita.tagged_sents())"
   ]
  },
  {
   "cell_type": "code",
   "execution_count": 130,
   "metadata": {},
   "outputs": [
    {
     "data": {
      "text/plain": [
       "0.018020838870710074"
      ]
     },
     "execution_count": 130,
     "metadata": {},
     "output_type": "execute_result"
    }
   ],
   "source": [
    "affix_tagger = nltk.AffixTagger(jeita.tagged_sents(), affix_length = -2)\n",
    "affix_tagger.evaluate(jeita.tagged_sents())"
   ]
  },
  {
   "cell_type": "code",
   "execution_count": 131,
   "metadata": {},
   "outputs": [
    {
     "data": {
      "text/plain": [
       "0.006691250826957604"
      ]
     },
     "execution_count": 131,
     "metadata": {},
     "output_type": "execute_result"
    }
   ],
   "source": [
    "affix_tagger = nltk.AffixTagger(jeita.tagged_sents(), affix_length = -3)\n",
    "affix_tagger.evaluate(jeita.tagged_sents())"
   ]
  },
  {
   "cell_type": "markdown",
   "metadata": {},
   "source": [
    "##### 26.\n",
    "\n",
    "◑ [4.1](https://www.nltk.org/book/ch05.html#code-baseline-tagger) plotted a curve showing change in the performance of a lookup tagger as the model size was increased. Plot the performance curve for a unigram tagger, as the amount of training data is varied.\n",
    "\n",
    "*I wasn't aware that this would be asked here, as I did this already in my answer for question 5.24.  For convenience's sake, I replicate the plot here.  Be aware that the plot produced by matplotlib is somewhat deceptive: the plot implies that there's a huge difference in performance between a tagger trained of 10% of a corpus and one trained on 90%; however, performance is actually uniformly good, as it's always in the 80% range for accuracy.*"
   ]
  },
  {
   "cell_type": "code",
   "execution_count": 132,
   "metadata": {},
   "outputs": [
    {
     "data": {
      "image/png": "[encoded data removed]",
      "text/plain": [
       "<Figure size 432x288 with 1 Axes>"
      ]
     },
     "metadata": {
      "needs_background": "light"
     },
     "output_type": "display_data"
    }
   ],
   "source": [
    "train_size = np.arange(0.1, 1, 0.1)\n",
    "perfs_uni = []\n",
    "\n",
    "for ts in train_size:\n",
    "    size = int(len(brown.tagged_sents()) * ts)\n",
    "    train_sents = brown.tagged_sents()[:size]\n",
    "    test_sents = brown.tagged_sents()[size:]\n",
    "    unigram_tagger = nltk.UnigramTagger(train_sents)\n",
    "    perfs_uni.append(unigram_tagger.evaluate(test_sents))\n",
    "    \n",
    "    \n",
    "plt.plot(train_size, perfs_uni, '-bo')\n",
    "plt.title('Unigram Tagger Performance with Varying Training Set Size')\n",
    "plt.xlabel('Training Size as Proportion of Corpus')\n",
    "plt.ylabel('Performance')\n",
    "plt.show()"
   ]
  },
  {
   "cell_type": "markdown",
   "metadata": {},
   "source": [
    "##### 27. \n",
    "\n",
    "◑ Inspect the confusion matrix for the bigram tagger `t2` defined in [5](https://www.nltk.org/book/ch05.html#sec-n-gram-tagging), and identify one or more sets of tags to collapse. Define a dictionary to do the mapping, and evaluate the tagger on the simplified data."
   ]
  },
  {
   "cell_type": "code",
   "execution_count": 133,
   "metadata": {},
   "outputs": [
    {
     "data": {
      "text/plain": [
       "0.9125751765470128"
      ]
     },
     "execution_count": 133,
     "metadata": {},
     "output_type": "execute_result"
    }
   ],
   "source": [
    "size = int(len(brown.tagged_sents()) * .9)\n",
    "train_sents = brown.tagged_sents()[:size]\n",
    "test_sents = brown.tagged_sents()[size:]\n",
    "\n",
    "\n",
    "t0 = nltk.DefaultTagger('NN')\n",
    "t1 = nltk.UnigramTagger(train_sents, backoff = t0)\n",
    "t2 = nltk.BigramTagger(train_sents, backoff = t1)\n",
    "t2.evaluate(test_sents)"
   ]
  },
  {
   "cell_type": "markdown",
   "metadata": {},
   "source": [
    "*The output for the confusion matrix example code in the book looked terrible, because the resulting table was much, much, much too large to fit on a single screen.  So to get a more legible matrix, we'll just look at a much smaller sample.  We'll have to choose ten sentences from the test set, since running `t2` on the sentences from the training set will likely generate a 100% match with the `gold_tags`, since the tagger will probably just remember the correct tags.* \n",
    "\n",
    "*The rows represent what the tags should be, and the columns what the tagger designated.  In the example below, two nouns were tagged as adjectives, meaning there were two `NN` false positives, and two `JJ` false negatives.*"
   ]
  },
  {
   "cell_type": "code",
   "execution_count": 134,
   "metadata": {},
   "outputs": [
    {
     "name": "stdout",
     "output_type": "stream",
     "text": [
      "     |                    B                                                     P                            |\n",
      "     |                    E  B  B                    J        N     P  P  P  P  P              V  V  V  V    |\n",
      "     |  '        A  A  B  D  E  E  C  C  C  D  I  J  J  M  N  N  N  P  P  P  P  S  Q  R  T  V  B  B  B  B  ` |\n",
      "     |  '  ,  .  P  T  E  Z  R  Z  C  D  S  T  N  J  R  D  N  S  P  $  L  O  S  S  L  B  O  B  D  G  N  Z  ` |\n",
      "-----+-------------------------------------------------------------------------------------------------------+\n",
      "  '' | <3> .  .  .  .  .  .  .  .  .  .  .  .  .  .  .  .  .  .  .  .  .  .  .  .  .  .  .  .  .  .  .  .  . |\n",
      "   , |  . <8> .  .  .  .  .  .  .  .  .  .  .  .  .  .  .  .  .  .  .  .  .  .  .  .  .  .  .  .  .  .  .  . |\n",
      "   . |  .  .<11> .  .  .  .  .  .  .  .  .  .  .  .  .  .  .  .  .  .  .  .  .  .  .  .  .  .  .  .  .  .  . |\n",
      "  AP |  .  .  . <1> .  .  .  .  .  .  .  .  .  .  .  .  .  .  .  .  .  .  .  .  .  .  .  .  .  .  .  .  .  . |\n",
      "  AT |  .  .  .  .<13> .  .  .  .  .  .  .  .  .  .  .  .  .  .  .  .  .  .  .  .  .  .  .  .  .  .  .  .  . |\n",
      "  BE |  .  .  .  .  . <2> .  .  .  .  .  .  .  .  .  .  .  .  .  .  .  .  .  .  .  .  .  .  .  .  .  .  .  . |\n",
      "BEDZ |  .  .  .  .  .  . <1> .  .  .  .  .  .  .  .  .  .  .  .  .  .  .  .  .  .  .  .  .  .  .  .  .  .  . |\n",
      " BER |  .  .  .  .  .  .  . <1> .  .  .  .  .  .  .  .  .  .  .  .  .  .  .  .  .  .  .  .  .  .  .  .  .  . |\n",
      " BEZ |  .  .  .  .  .  .  .  . <2> .  .  .  .  .  .  .  .  .  .  .  .  .  .  .  .  .  .  .  .  .  .  .  .  . |\n",
      "  CC |  .  .  .  .  .  .  .  .  . <1> .  .  .  .  .  .  .  .  .  .  .  .  .  .  .  .  .  .  .  .  .  .  .  . |\n",
      "  CD |  .  .  .  .  .  .  .  .  .  . <1> .  .  .  .  .  .  .  .  .  .  .  .  .  .  .  .  .  .  .  .  .  .  . |\n",
      "  CS |  .  .  .  .  .  .  .  .  .  .  . <2> .  1  .  .  .  .  .  .  .  .  .  .  .  .  .  .  .  .  .  .  .  . |\n",
      "  DT |  .  .  .  .  .  .  .  .  .  .  .  . <1> .  .  .  .  .  .  .  .  .  .  .  .  .  .  .  .  .  .  .  .  . |\n",
      "  IN |  .  .  .  .  .  .  .  .  .  .  .  .  . <7> .  .  .  .  .  .  .  .  .  .  .  .  .  1  .  .  .  .  .  . |\n",
      "  JJ |  .  .  .  .  .  .  .  .  .  .  .  .  .  . <8> .  .  .  .  .  .  .  .  .  .  .  .  .  .  .  .  .  .  . |\n",
      " JJR |  .  .  .  .  .  .  .  .  .  .  .  .  .  .  . <1> .  .  .  .  .  .  .  .  .  .  .  .  .  .  .  .  .  . |\n",
      "  MD |  .  .  .  .  .  .  .  .  .  .  .  .  .  .  .  . <1> .  .  .  .  .  .  .  .  .  .  .  .  .  .  .  .  . |\n",
      "  NN |  .  .  .  .  .  .  .  .  .  .  .  .  .  .  2  .  .<18> .  .  .  .  .  .  .  .  .  .  .  .  .  .  .  . |\n",
      " NNS |  .  .  .  .  .  .  .  .  .  .  .  .  .  .  .  .  .  . <3> .  .  .  .  .  .  .  .  .  .  .  .  .  .  . |\n",
      "  NP |  .  .  .  .  .  .  .  .  .  .  .  .  .  .  .  .  .  .  . <4> .  .  .  .  .  .  .  .  .  .  .  .  .  . |\n",
      " PP$ |  .  .  .  .  .  .  .  .  .  .  .  .  .  .  .  .  .  .  .  . <4> .  1  .  .  .  .  .  .  .  .  .  .  . |\n",
      " PPL |  .  .  .  .  .  .  .  .  .  .  .  .  .  .  .  .  .  .  .  .  . <1> .  .  .  .  .  .  .  .  .  .  .  . |\n",
      " PPO |  .  .  .  .  .  .  .  .  .  .  .  .  .  .  .  .  .  .  .  .  .  . <3> .  .  .  .  .  .  .  .  .  .  . |\n",
      " PPS |  .  .  .  .  .  .  .  .  .  .  .  .  .  .  .  .  .  .  .  .  .  .  . <4> .  .  .  .  .  .  .  .  .  . |\n",
      "PPSS |  .  .  .  .  .  .  .  .  .  .  .  .  .  .  .  .  .  .  .  .  .  .  .  . <2> .  .  .  .  .  .  .  .  . |\n",
      "  QL |  .  .  .  .  .  .  .  .  .  .  .  .  .  .  .  .  .  .  .  .  .  .  .  .  . <4> .  .  .  .  .  .  .  . |\n",
      "  RB |  .  .  .  .  .  .  .  .  .  .  .  .  .  .  .  .  .  .  .  .  .  .  .  .  .  . <7> .  .  .  .  .  .  . |\n",
      "  TO |  .  .  .  .  .  .  .  .  .  .  .  .  .  .  .  .  .  .  .  .  .  .  .  .  .  .  . <2> .  .  .  .  .  . |\n",
      "  VB |  .  .  .  .  .  .  .  .  .  .  .  .  .  .  .  .  .  .  .  .  .  .  .  .  .  .  .  . <2> .  .  .  .  . |\n",
      " VBD |  .  .  .  .  .  .  .  .  .  .  .  .  .  .  .  .  .  .  .  .  .  .  .  .  .  .  .  .  . <4> .  .  .  . |\n",
      " VBG |  .  .  .  .  .  .  .  .  .  .  .  .  .  .  .  .  .  .  .  .  .  .  .  .  .  .  .  .  .  . <3> .  .  . |\n",
      " VBN |  .  .  .  .  .  .  .  .  .  .  .  .  .  .  .  .  .  .  .  .  .  .  .  .  .  .  .  .  .  .  . <1> .  . |\n",
      " VBZ |  .  .  .  .  .  .  .  .  .  .  .  .  .  .  .  .  .  .  .  .  .  .  .  .  .  .  .  .  .  .  .  . <1> . |\n",
      "  `` |  .  .  .  .  .  .  .  .  .  .  .  .  .  .  .  .  .  .  .  .  .  .  .  .  .  .  .  .  .  .  .  .  . <3>|\n",
      "-----+-------------------------------------------------------------------------------------------------------+\n",
      "(row = reference; col = test)\n",
      "\n"
     ]
    }
   ],
   "source": [
    "test_tags = [tag for sent in brown.sents()[size:size + 10]\n",
    "             for (word, tag) in t2.tag(sent)]\n",
    "gold_tags = [tag for sent in brown.tagged_sents()[size:size + 10] for (word, tag) in sent]\n",
    "print(nltk.ConfusionMatrix(gold_tags, test_tags))"
   ]
  },
  {
   "cell_type": "markdown",
   "metadata": {},
   "source": [
    "*It looks like someone assigned this problem as homework, as I found a solution key [here](https://gawron.sdsu.edu/compling/course_core/comp_ling_assignments/NLTK_tagging_assignment_answer.html \"Tagging Assignment Answers\").  The solution key included code to pull out the most common errors from the confusion matrix, which I'm including below.  There are two changes: in line 14 I replaced `<>` with `!=`; and I changed to name of the function from `foo` (which isn't very informative) to `top_cm_errors`.  The code is not all that complex, but I wasn't aware of the methods that could be used to go inside of the confusion matrix:*"
   ]
  },
  {
   "cell_type": "code",
   "execution_count": 135,
   "metadata": {},
   "outputs": [],
   "source": [
    "def confusion_ct(mat, tag1, tag2):\n",
    "    return mat._confusion[mat._indices[tag1]][mat._indices[tag2]]\n",
    "\n",
    "def top_cm_errors(mat):\n",
    "    conf = {}\n",
    "    num_tags = len(mat._confusion)\n",
    "    \n",
    "    for tag1 in mat._indices:\n",
    "        for tag2 in mat._indices:\n",
    "            conf[(tag1, tag2)] = confusion_ct(mat, tag1, tag2)\n",
    "            \n",
    "    s_il = [((tag1, tag2), ct) for ((tag1, tag2), ct) in \n",
    "            sorted(conf.items(), key = lambda x:x[1], reverse = True)\n",
    "            if tag1 != tag2]\n",
    "    \n",
    "    return s_il"
   ]
  },
  {
   "cell_type": "code",
   "execution_count": 136,
   "metadata": {},
   "outputs": [],
   "source": [
    "test_tags = [tag for sent in brown.sents()[size:]\n",
    "             for (word, tag) in t2.tag(sent)]\n",
    "gold_tags = [tag for sent in brown.tagged_sents()[size:] for (word, tag) in sent]\n",
    "cm = nltk.ConfusionMatrix(gold_tags, test_tags)"
   ]
  },
  {
   "cell_type": "code",
   "execution_count": 137,
   "metadata": {},
   "outputs": [
    {
     "name": "stdout",
     "output_type": "stream",
     "text": [
      "[(('NP', 'NN'), 978), (('IN', 'TO'), 477), (('JJ', 'NN'), 442), (('VBD', 'VBN'), 354), (('VB', 'NN'), 314), (('NNS', 'NN'), 299), (('TO', 'IN'), 281), (('VBN', 'VBD'), 260), (('RP', 'IN'), 225), (('VBG', 'NN'), 188), (('DT', 'CS'), 175), (('NP$', 'NN'), 171), (('PPO', 'PP$'), 141), (('IN', 'RP'), 134), (('NN', 'JJ'), 130), (('CS', 'IN'), 109), (('RB', 'QL'), 105), (('PN', 'CD'), 101), (('RB', 'IN'), 97), (('PP$', 'PPO'), 96), (('RB', 'NN'), 96), (('NN', 'VB'), 95), (('VBN', 'NN'), 94), (('NN-TL', 'NN'), 92), (('QL', 'CS'), 88), (('VBD', 'NN'), 84), (('RB', 'JJ'), 81), (('WPS', 'CS'), 77), (('AP', 'JJ'), 71), (('NP-TL', 'NN'), 65), (('JJ', 'RB'), 64), (('IN', 'CS'), 62), (('PPO', 'PPSS'), 58), (('QL', 'RB'), 57), (('NP', 'NP-TL'), 56), (('IN', 'RB'), 51), (('AP', 'QL'), 50), (('RB', 'AP'), 49), (('UH', 'NN'), 48), (('NPS', 'NN'), 46), (('NN', 'VBG'), 45), (('NP-TL', 'NP'), 45), (('PPS', 'PPO'), 44), (('NNS', 'VBZ'), 42), (('FW-NN', 'NN'), 41), (('CS', 'RB'), 38), (('QL', 'ABN'), 38), (('CS', 'QL'), 33), (('NN$', 'NN'), 33), (('QL', 'AP'), 33)]"
     ]
    }
   ],
   "source": [
    "print(top_cm_errors(cm)[:50], end = '')"
   ]
  },
  {
   "cell_type": "markdown",
   "metadata": {},
   "source": [
    "*It seems the most common errors are mistaking common classes (e.g., `NN`) for less common ones (e.g., `NP`).  It is definitely not recommended to collapse the more common classes together with the less common ones.  So we have to go through the list until we find some less common classes.  For a while, I was manually choosing tags that I thought might be good candidates for replacement.  But this was tedious, and I decided to try this programmatically, with much better results.  Using the frequency distribution for tag counts from the solution to question 5.15.3, I was able to write code that would determine when a less common tag was mistakenly used in place of a more common one.*\n",
    "\n",
    "*I was also unsure how to do mapping for this problem until I came across some code [here](https://sourceforge.net/p/nltk/svn/4609/tree//trunk/nltk/doc/en/tag.txt \"early NLTK text\"), which almost seems to be an early version of the nltk book (it appears to have the same authors).  I had tried to create a new function that would iterate through a tagged list and replace specific tags with more general ones.  But I had no idea how to use `.evaluate` over this.  It appears that we need to collapse the tags over the training and test sets, and then train and evaluate the tagger over these edited sets.*\n",
    "\n",
    "*Finally, I didn't know how many tags to collapse to get the best results.  My initial assumption was that more collapsed tags would lead to higher accuracy; but that wasn't the case.  I tried different numbers, and discovered than replacing the 50 most commonly mistaken tags lead to the highest level of accuracy:*"
   ]
  },
  {
   "cell_type": "code",
   "execution_count": 138,
   "metadata": {},
   "outputs": [],
   "source": [
    "perf = []\n",
    "\n",
    "# number of top_cm_errors to collapse\n",
    "trials = [140, 100, 80, 60, 50, 40, 30, 20, 10, 5]\n",
    "\n",
    "size = int(len(brown.tagged_sents()) * .9)\n",
    "train_sents = brown.tagged_sents()[:size]\n",
    "test_sents = brown.tagged_sents()[size:]\n",
    "\n",
    "for trial in trials:\n",
    "    \n",
    "    # create a new mapping of tags to be collapsed for each trial\n",
    "    new_mappings = {}\n",
    "\n",
    "    # if the first tag (what the tag should have been) is more common \n",
    "    # than the second (how the word was mistakenly labeled), \n",
    "    # collapse the second\n",
    "    for tags, errors in top_cm_errors(cm)[:trial]:\n",
    "        if ft[tags[0]] > ft[tags[1]]:\n",
    "            new_mappings[tags[1]] = tags[0]\n",
    "            \n",
    "    # training and test sets have to be re-initialized for each trial\n",
    "    \n",
    "    new_train_sents = [[(word[0], new_mappings.get(word[1], word[1]))] for sent in train_sents for word in sent ]\n",
    "    new_test_sents = [[(word[0], new_mappings.get(word[1], word[1]))] for sent in test_sents for word in sent ]\n",
    "    t0 = nltk.DefaultTagger('NN')\n",
    "    t1 = nltk.UnigramTagger(new_train_sents, backoff = t0)\n",
    "    t2 = nltk.BigramTagger(new_train_sents, backoff = t1)\n",
    "    perf.append(t2.evaluate(new_test_sents))\n",
    "    \n",
    "    "
   ]
  },
  {
   "cell_type": "code",
   "execution_count": 139,
   "metadata": {},
   "outputs": [
    {
     "data": {
      "image/png": "[encoded data removed]",
      "text/plain": [
       "<Figure size 432x288 with 1 Axes>"
      ]
     },
     "metadata": {
      "needs_background": "light"
     },
     "output_type": "display_data"
    }
   ],
   "source": [
    "plt.plot(trials, perf)\n",
    "plt.xlim(140, 0)\n",
    "plt.show()"
   ]
  },
  {
   "cell_type": "code",
   "execution_count": 140,
   "metadata": {},
   "outputs": [
    {
     "data": {
      "text/plain": [
       "[0.92000377192431,\n",
       " 0.9211143940822698,\n",
       " 0.9327864043083758,\n",
       " 0.9428658242702375,\n",
       " 0.9432534942687706,\n",
       " 0.9386643196915404,\n",
       " 0.9360239726745039,\n",
       " 0.9278200373001404,\n",
       " 0.9124284906016219,\n",
       " 0.8996144255149724]"
      ]
     },
     "execution_count": 140,
     "metadata": {},
     "output_type": "execute_result"
    }
   ],
   "source": [
    "perf"
   ]
  },
  {
   "cell_type": "markdown",
   "metadata": {},
   "source": [
    "##### 28.\n",
    "\n",
    "◑ Experiment with taggers using the simplified tagset (or make one of your own by discarding all but the first character of each tag name). Such a tagger has fewer distinctions to make, but much less information on which to base its work. Discuss your findings."
   ]
  },
  {
   "cell_type": "code",
   "execution_count": 141,
   "metadata": {},
   "outputs": [
    {
     "data": {
      "text/plain": [
       "0.9245510362314285"
      ]
     },
     "execution_count": 141,
     "metadata": {},
     "output_type": "execute_result"
    }
   ],
   "source": [
    "from nltk.corpus import brown\n",
    "\n",
    "\n",
    "size = int(len(brown.tagged_sents()) * .9)\n",
    "train_sents = brown.tagged_sents(tagset = 'universal')[:size]\n",
    "test_sents = brown.tagged_sents(tagset = 'universal')[size:]\n",
    "\n",
    "\n",
    "t0 = nltk.DefaultTagger('NN')\n",
    "t1 = nltk.UnigramTagger(train_sents, backoff = t0)\n",
    "t2 = nltk.BigramTagger(train_sents, backoff = t1)\n",
    "t2.evaluate(test_sents)"
   ]
  },
  {
   "cell_type": "markdown",
   "metadata": {},
   "source": [
    "*Using the unmodified tagset produces an accuracy rate of 0.9125751765470128.  We could say that the accuracy rate has gone up by 1%, which seems small.  Or we could say that the rate of error has decreased by 14%, which seems much more significant:*"
   ]
  },
  {
   "cell_type": "code",
   "execution_count": 142,
   "metadata": {},
   "outputs": [
    {
     "data": {
      "text/plain": [
       "0.13698465963566697"
      ]
     },
     "execution_count": 142,
     "metadata": {},
     "output_type": "execute_result"
    }
   ],
   "source": [
    "1 - (1 - 0.9245510362314285) / (1 - 0.9125751765470128) "
   ]
  },
  {
   "cell_type": "markdown",
   "metadata": {},
   "source": [
    "*Getting tags for Brown Corpus:*"
   ]
  },
  {
   "cell_type": "code",
   "execution_count": 143,
   "metadata": {},
   "outputs": [
    {
     "name": "stdout",
     "output_type": "stream",
     "text": [
      "['DOZ*', 'FW-AT+NP', 'NP$', 'AP$', 'VBN', 'VBD', 'VBG', 'DO+PPSS', 'WRB+BEZ', 'VBZ', 'WQL', 'WRB+IN', 'WRB+BER', 'DT', 'FW-AT+NN', 'WP$', 'DO', 'FW-UH', 'PPSS+HVD', 'RB$', 'VB', ')', 'VB+AT', 'FW-JJT', 'FW-JJR', 'AP+AP', 'VBG+TO', 'RBR', 'BER', 'WPO', 'FW-VBZ', 'PN$', 'VBN+TO', 'FW-VBG', 'TO', 'FW-VBD', 'FW-RB', 'VB+IN', 'FW-VBN', 'DOD*', 'CS', 'NN+IN', 'RB', 'FW-NR', 'HV+TO', 'FW-NP', 'WRB+DOD*', 'FW-RB+CC', 'DTS+BEZ', 'CC', 'CD', 'NPS', 'RBR+CS', 'PN+BEZ', 'FW-*', 'NP+MD', 'MD+HV', 'RB+BEZ', 'NR$', 'NR', 'NP', 'PPSS+VB', 'FW-IN+AT', 'FW-VB', 'WPS+BEZ', 'NN', 'CD$', 'MD*', 'WRB+DO', 'WDT+HVZ', 'PPSS', 'FW-CC', 'HV*', 'FW-BER', '(', ',', 'NN+NN', 'FW-TO+VB', 'FW-PPL+VBZ', 'NP+BEZ', 'BEDZ', 'HVZ', 'ABX', 'FW-DTS', 'VB+VB', 'PN+MD', 'BED*', 'JJT', 'FW-PPO+IN', 'HVN', 'ABN', 'JJR', 'JJS', 'MD', 'NN+BEZ', 'HVG', 'HVD', 'WDT+DOD', 'FW-QL', 'EX+HVZ', 'WPS+HVD', 'PPS+MD', 'FW-PN', 'BEM*', 'EX+MD', 'BEDZ*', 'WPS+HVZ', 'FW-WPO', 'EX+HVD', 'NN+MD', 'FW-WPS', 'WRB+MD', 'EX+BEZ', 'PPSS+HV', 'FW-IN', 'JJR+CS', 'FW-AT', 'NN+HVZ', 'FW-DT+BEZ', 'ABL', 'UH', 'BEZ*', 'FW-PPSS', 'HV', 'QLP', 'PN+HVD', 'FW-NN$', 'NNS$', 'PPS+HVD', 'DOD', 'FW-IN+NP', 'BER*', 'PPO', 'DT$', 'PPS+BEZ', 'FW-NPS', 'WDT', 'NN+HVD', 'FW-HV', 'BEZ', 'HVZ*', 'PPS+HVZ', 'DOZ', 'DTI', 'PN', 'FW-JJ', 'WDT+BER', 'IN+PPO', 'DO*', 'OD', 'FW-BE', 'FW-OD', 'NR+MD', 'WRB+DOD', 'NPS$', 'NP+HVZ', 'MD+PPSS', 'JJ', 'IN+IN', 'FW-NNS', 'FW-NN', 'QL', 'DT+BEZ', 'AP', 'VB+TO', 'PPSS+BEM', 'RBT', 'PPL', 'WDT+BEZ', 'WPS+MD', 'FW-CS', 'FW-PP$', 'FW-PPSS+HV', 'MD+TO', 'WRB+DOZ', '--', 'EX', 'PPSS+BEZ', 'NN$', 'WDT+DO+PPS', 'PPS', 'PN+HVZ', 'PPSS+BER', ':', 'PPSS+BEZ*', 'RB+CS', 'PPSS+MD', 'FW-CD', '*', 'NRS', '.', 'BE', 'JJ+JJ', 'DTS', 'FW-BEZ', 'JJ$', 'FW-WDT', 'FW-IN+NN', 'FW-DT', 'IN', 'RN', 'RP', 'TO+VB', 'PP$$', 'WRB', 'FW-PPS', 'DTX', 'DT+MD', 'HVD*', 'VB+JJ', 'VB+RP', 'RP+IN', 'VB+PPO', 'PP$', 'AT', 'NNS', 'NNS+MD', 'BED', 'BEG', 'PPLS', 'WDT+BER+PP', 'BEM', 'WPS', 'BEN', 'FW-PPO', 'FW-PPL']"
     ]
    }
   ],
   "source": [
    "from nltk.data import load\n",
    "\n",
    "tagdict = load('help/tagsets/brown_tagset.pickle')\n",
    "brown_tags = [item for item in tagdict.keys()]\n",
    "print(brown_tags, end = \"\")"
   ]
  },
  {
   "cell_type": "markdown",
   "metadata": {},
   "source": [
    "*Creating very simplified tagset: Just using first letter of old tags.*"
   ]
  },
  {
   "cell_type": "code",
   "execution_count": 144,
   "metadata": {},
   "outputs": [],
   "source": [
    "simplified_mappings = {}\n",
    "\n",
    "for tag in brown_tags:\n",
    "    simplified_mappings[tag] = tag[0]"
   ]
  },
  {
   "cell_type": "code",
   "execution_count": 145,
   "metadata": {},
   "outputs": [
    {
     "data": {
      "text/plain": [
       "0.9156346262651662"
      ]
     },
     "execution_count": 145,
     "metadata": {},
     "output_type": "execute_result"
    }
   ],
   "source": [
    "\n",
    "\n",
    "new_train_sents = [[(word[0], simplified_mappings.get(word[1], word[1]))] for sent in train_sents for word in sent ]\n",
    "new_test_sents = [[(word[0], simplified_mappings.get(word[1], word[1]))] for sent in test_sents for word in sent ]\n",
    "t0 = nltk.DefaultTagger('NN')\n",
    "t1 = nltk.UnigramTagger(new_train_sents, backoff = t0)\n",
    "t2 = nltk.BigramTagger(new_train_sents, backoff = t1)\n",
    "t2.evaluate(new_test_sents)"
   ]
  },
  {
   "cell_type": "markdown",
   "metadata": {},
   "source": [
    "*This extremely simplified tagset is only marginally better.  It only produces 3% fewer errors.*"
   ]
  },
  {
   "cell_type": "code",
   "execution_count": 146,
   "metadata": {},
   "outputs": [
    {
     "data": {
      "text/plain": [
       "0.034995206136145485"
      ]
     },
     "execution_count": 146,
     "metadata": {},
     "output_type": "execute_result"
    }
   ],
   "source": [
    "1 - (1 - 0.9156346262651662) / (1 - 0.9125751765470128) "
   ]
  },
  {
   "cell_type": "markdown",
   "metadata": {},
   "source": [
    "##### 29.\n",
    "\n",
    "◑ Recall the example of a bigram tagger which encountered a word it hadn't seen during training, and tagged the rest of the sentence as None. It is possible for a bigram tagger to fail part way through a sentence even if it contains no unseen words (even if the sentence was used during training). In what circumstance can this happen? Can you write a program to find some examples of this?\n",
    "\n",
    "*To find examples of this, we'll forgo the test/train split and train a bigram tagger on the entire Brown Corpus, and then run the tagger over a random sentence from the corpus.  In this way, we can guarantee that all the words - as well as all the bigrams - in the test sentence will have already been seen by the bigram tagger.*\n",
    "\n",
    "*I then created a program that chooses a sentence at random from the corpus, checks all the tags for two consecutive words tagged `None`, and prints out the sentence if such a tagged bigram is found.  The program then recursively calls itself until $n$ such sentences are printed.*\n",
    "\n",
    "*While it is clear that bigram taggers can fail even on sentences they've seen in training, what is not obvious is why they fail.  I've queried this problem online and have not been able to come up with a suitable answer.  I could suggest possibilities (e.g., a bigram tagger has to see a phrase $x$ times before it's \"confident\" it has the right tag), but this is pure speculation, and I really would have appreciated it if the authors had made the answer to this question available somewhere...*"
   ]
  },
  {
   "cell_type": "code",
   "execution_count": 147,
   "metadata": {},
   "outputs": [],
   "source": [
    "train_sents = brown.tagged_sents()\n",
    "\n",
    "t0 = nltk.BigramTagger(train_sents)"
   ]
  },
  {
   "cell_type": "code",
   "execution_count": 148,
   "metadata": {},
   "outputs": [],
   "source": [
    "import random\n",
    "\n",
    "def find_None(sents, tagger, i = 0, n = 3):\n",
    "    \"\"\"\n",
    "    Prints out sentence if two consecutive words are tagged\n",
    "    with None.  Will run until $n$ sentences are found.\n",
    "    \n",
    "    Arguments:\n",
    "    \n",
    "    sents:  An untagged corpus.\n",
    "    tagger: A trained bigram tagger.\n",
    "    i:      The number of sentences already printed.\n",
    "    n:      The target number of sentences to be printed. \n",
    "            Default is 3.\n",
    "    \"\"\"\n",
    "    r = random.randint(0, len(sents))\n",
    "    test_tag = tagger.tag(sents[r])\n",
    "    for j in range(len(test_tag) - 1):\n",
    "        if test_tag[j][1] == None and test_tag[j + 1][1] == None:\n",
    "            print(test_tag, \"\\n\")\n",
    "            i += 1\n",
    "            break\n",
    "            \n",
    "        \n",
    "    if i < n:\n",
    "        find_None(sents, tagger, i)\n",
    "    "
   ]
  },
  {
   "cell_type": "code",
   "execution_count": 149,
   "metadata": {},
   "outputs": [
    {
     "name": "stdout",
     "output_type": "stream",
     "text": [
      "[('that', 'CS'), ('he', 'PPS'), ('personally', 'RB'), ('had', 'HVD'), ('an', 'AT'), ('IQ', 'NP-TL'), ('of', 'IN-TL'), ('141', None), ('and', None), ('was', None), ('currently', None), ('reading', None), ('the', None), ('Mushr', None), ('to', None), ('Ozon', None), ('volume', None), ('of', None), ('the', None), ('encyclopedia', None), ('.', None)] \n",
      "\n",
      "[('Many', 'AP'), ('of', 'IN'), ('you', 'PPO'), ('are', 'BER'), ('familiar', 'JJ'), (',', ','), (\"I'm\", 'PPSS+BEM'), ('sure', 'JJ'), (',', ','), ('with', 'IN'), ('the', 'AT'), ('story', 'NN'), ('of', 'IN'), ('my', 'PP$'), ('early', 'JJ'), ('struggles', 'NNS'), (':', ':'), ('the', 'AT'), ('fire', 'NN'), ('in', 'IN'), ('January', 'NP'), (',', ','), ('1947', 'CD'), (',', ','), ('that', 'CS'), ('destroyed', None), ('everything', None), ('--', None), ('even', None), ('our', None), ('precious', None), ('list', None), ('of', None), ('subscribers', None), ('.', None)] \n",
      "\n",
      "[(\"I'd\", 'PPSS+MD'), ('found', None), ('my', None), ('voice', None), ('.', None)] \n",
      "\n"
     ]
    }
   ],
   "source": [
    "find_None(brown.sents(), t0)"
   ]
  },
  {
   "cell_type": "markdown",
   "metadata": {},
   "source": [
    "*This was one of the sentences I found:*\n",
    "\n",
    "`[('It', 'PPS'), ('is', 'BEZ'), ('sex', 'NN'), ('that', 'CS'), ('obsesses', None), ('them', None), (',', None), ('sex', None), ('that', None), ('is', None), ('at', None), ('the', None), ('basis', None), ('of', None), ('their', None), ('aesthetic', None), ('creed', None), ('.', None)]`\n",
    "\n",
    "*I tried to find other occurrences of the bigram that caused the tagger to fail, i.e. \"that obsesses\":*"
   ]
  },
  {
   "cell_type": "code",
   "execution_count": 150,
   "metadata": {},
   "outputs": [
    {
     "name": "stdout",
     "output_type": "stream",
     "text": [
      "['It', 'is', 'sex', 'that', 'obsesses', 'them', ',', 'sex', 'that', 'is', 'at', 'the', 'basis', 'of', 'their', 'aesthetic', 'creed', '.']\n",
      "['``', 'He', 'was', 'not', 'much', 'older', 'than', 'myself', ',', \"''\", 'writes', 'the', 'narrator', ',', '``', 'when', 'he', 'began', 'to', 'feel', 'the', 'impact', 'of', 'that', 'human', 'mystery', 'which', 'now', 'obsesses', 'me', ',', 'and', 'which', 'makes', 'me', 'begin', ',', 'perhaps', ',', 'to', 'understand', 'him', \"''\", '.']\n"
     ]
    }
   ],
   "source": [
    "for s in brown.sents():\n",
    "    if 'that' and 'obsesses' in s:\n",
    "        print(s)"
   ]
  },
  {
   "cell_type": "markdown",
   "metadata": {},
   "source": [
    "*But it looks like this was the only occurrence in the corpus.  Could it be that taggers fail below a certain threshold?  As mentioned above, I couldn't find any clear answers to this...*\n",
    "\n",
    "##### 30.\n",
    "\n",
    "◑ Preprocess the Brown News data by replacing low frequency words with *UNK*, but leaving the tags untouched. Now train and evaluate a bigram tagger on this data. How much does this help? What is the contribution of the unigram tagger and default tagger now?\n",
    "\n",
    "*First, we'll create a dictionary in which we'll tabulate the counts of all the words in the Brown News data:*"
   ]
  },
  {
   "cell_type": "code",
   "execution_count": 151,
   "metadata": {},
   "outputs": [],
   "source": [
    "new_freq = {}\n",
    "\n",
    "for word in brown.words(categories = \"news\"):\n",
    "    new_freq[word.lower()] = 1 + new_freq.get(word.lower(), 0)"
   ]
  },
  {
   "cell_type": "markdown",
   "metadata": {},
   "source": [
    "*Then, as a baseline, we'll calculate how the bigram tagger alone does on the Brown News Data:*"
   ]
  },
  {
   "cell_type": "code",
   "execution_count": 152,
   "metadata": {},
   "outputs": [
    {
     "data": {
      "text/plain": [
       "0.10206319146815508"
      ]
     },
     "execution_count": 152,
     "metadata": {},
     "output_type": "execute_result"
    }
   ],
   "source": [
    "size = int(len(brown.tagged_sents(categories = \"news\")) * 0.9)\n",
    "train = brown.tagged_sents(categories = \"news\")[:size]\n",
    "test = brown.tagged_sents(categories = \"news\")[size:]\n",
    "\n",
    "t0 = nltk.BigramTagger(train)\n",
    "t0.evaluate(test)"
   ]
  },
  {
   "cell_type": "markdown",
   "metadata": {},
   "source": [
    "*This is where it gets sticky.  It's not completely clear if we're supposed to preprocess only the training data, or both the training and test data.  I decided to try both, to see what would happen.  I also did not know at what number of occurrences I should be replacing tokens with 'UNK', so I decided to try a range of values and compare their performances.*\n",
    "\n",
    "*First, I tried to preprocess the training data, and then tested the tagger on unprocessed testing data:*"
   ]
  },
  {
   "cell_type": "code",
   "execution_count": 153,
   "metadata": {},
   "outputs": [],
   "source": [
    "sizes = [2, 5, 10, 25, 50, 100, 250, 500]\n",
    "perfs = []\n",
    "\n",
    "for s in sizes:\n",
    "    \n",
    "    bns_copy = []\n",
    "\n",
    "    for sent in brown.tagged_sents(categories = \"news\"):\n",
    "        current = []\n",
    "        for tagset in sent:\n",
    "            if new_freq[tagset[0].lower()] <= s:\n",
    "                current.append(('UNK', tagset[1]))\n",
    "            else:\n",
    "                current.append(tagset)\n",
    "        bns_copy.append(current)\n",
    "        \n",
    "    size = int(len(brown.tagged_sents(categories = \"news\")) * 0.9)\n",
    "    train = bns_copy[:size]\n",
    "    test = brown.tagged_sents(categories = \"news\")[size:]\n",
    "\n",
    "    t0 = nltk.BigramTagger(train)\n",
    "    perfs.append(t0.evaluate(test))"
   ]
  },
  {
   "cell_type": "code",
   "execution_count": 154,
   "metadata": {},
   "outputs": [
    {
     "data": {
      "image/png": "[encoded data removed]",
      "text/plain": [
       "<Figure size 432x288 with 1 Axes>"
      ]
     },
     "metadata": {
      "needs_background": "light"
     },
     "output_type": "display_data"
    }
   ],
   "source": [
    "import matplotlib.pyplot as plt\n",
    "\n",
    "plt.plot(sizes, perfs, '-bo')\n",
    "plt.title(\"Bigram Tagger Performance with $n$ Words Tagged 'UNK'\")\n",
    "plt.xlabel(\"Frequency Threshold for 'UNK'\")\n",
    "plt.ylabel('Accuracy')\n",
    "plt.show()"
   ]
  },
  {
   "cell_type": "markdown",
   "metadata": {},
   "source": [
    "*The results are pretty dreadful: The performance is always worse than the bigram tagger working on unprocessed data (which was pretty bad to begin with), and goes steadily downhill.  Upon reflection, this only makes sense: comparing a modified dataset with an unmodified one is going to generate a lot of inconsistencies.*\n",
    "\n",
    "*Let's try the same thing, only this time generating our training and test splits from the same preprocessed data set:*"
   ]
  },
  {
   "cell_type": "code",
   "execution_count": 155,
   "metadata": {},
   "outputs": [],
   "source": [
    "sizes = [2, 5, 10, 25, 50, 100, 150, 200, 250]\n",
    "perfs = []\n",
    "\n",
    "for s in sizes:\n",
    "    \n",
    "    bns_copy = []\n",
    "\n",
    "    for sent in brown.tagged_sents(categories = \"news\"):\n",
    "        current = []\n",
    "        for tagset in sent:\n",
    "            if new_freq[tagset[0].lower()] <= s:\n",
    "                current.append(('UNK', tagset[1]))\n",
    "            else:\n",
    "                current.append(tagset)\n",
    "        bns_copy.append(current)\n",
    "        \n",
    "    size = int(len(brown.tagged_sents(categories = \"news\")) * 0.9)\n",
    "    train = bns_copy[:size]\n",
    "    test = bns_copy[size:]\n",
    "\n",
    "    t0 = nltk.BigramTagger(train)\n",
    "    perfs.append(t0.evaluate(test))"
   ]
  },
  {
   "cell_type": "code",
   "execution_count": 156,
   "metadata": {},
   "outputs": [
    {
     "data": {
      "image/png": "[encoded data removed]",
      "text/plain": [
       "<Figure size 432x288 with 1 Axes>"
      ]
     },
     "metadata": {
      "needs_background": "light"
     },
     "output_type": "display_data"
    }
   ],
   "source": [
    "import matplotlib.pyplot as plt\n",
    "\n",
    "plt.plot(sizes, perfs, '-bo')\n",
    "plt.title(\"Bigram Tagger Performance with $n$ Words Tagged 'UNK'\")\n",
    "plt.xlabel(\"Frequency Threshold for 'UNK'\")\n",
    "plt.ylabel('Accuracy')\n",
    "plt.show()"
   ]
  },
  {
   "cell_type": "markdown",
   "metadata": {},
   "source": [
    "*Here, the tagger does much, much better.  If we replace words that occur less than 100 times with 'UNK', the performance of our bigram tagger goes up to nearly 50%, which is considerably better than the approximately 10% it got correct in the beginning.  However, the question now is what percentage of our vocabulary is being replaced by 'UNK'?*"
   ]
  },
  {
   "cell_type": "code",
   "execution_count": 157,
   "metadata": {},
   "outputs": [
    {
     "data": {
      "text/plain": [
       "13029"
      ]
     },
     "execution_count": 157,
     "metadata": {},
     "output_type": "execute_result"
    }
   ],
   "source": [
    "less_than_100 = 0\n",
    "\n",
    "for _, v in new_freq.items():\n",
    "    if v <= 100:\n",
    "        less_than_100 += 1\n",
    "        \n",
    "less_than_100"
   ]
  },
  {
   "cell_type": "code",
   "execution_count": 158,
   "metadata": {},
   "outputs": [
    {
     "data": {
      "text/plain": [
       "0.9936699206833435"
      ]
     },
     "execution_count": 158,
     "metadata": {},
     "output_type": "execute_result"
    }
   ],
   "source": [
    "less_than_100/len(new_freq)"
   ]
  },
  {
   "cell_type": "markdown",
   "metadata": {},
   "source": [
    "*So, to get our high evaluation figures, we've had to replace virtually all of the word types with 'UNK'.  No wonder the tagger is doing so well.  Clearly, accuracy isn't the only thing we should be concerned with.*\n",
    "\n",
    "*Now, let's repeat the experiment with backoff taggers.  As above, I'll train and test the tagger using respectively a preprocessed and unprocessed data set:*"
   ]
  },
  {
   "cell_type": "code",
   "execution_count": 159,
   "metadata": {},
   "outputs": [],
   "source": [
    "sizes = [2, 5, 10, 25, 50, 100, 250, 500]\n",
    "perfs = []\n",
    "\n",
    "for s in sizes:\n",
    "    \n",
    "    bns_copy = []\n",
    "\n",
    "    for sent in brown.tagged_sents(categories = \"news\"):\n",
    "        current = []\n",
    "        for tagset in sent:\n",
    "            if new_freq[tagset[0].lower()] <= s:\n",
    "                current.append(('UNK', tagset[1]))\n",
    "            else:\n",
    "                current.append(tagset)\n",
    "        bns_copy.append(current)\n",
    "        \n",
    "    size = int(len(brown.tagged_sents(categories = \"news\")) * 0.9)\n",
    "    train = bns_copy[:size]\n",
    "    test = brown.tagged_sents(categories = \"news\")[size:]\n",
    "\n",
    "    t0 = nltk.DefaultTagger('NN')\n",
    "    t1 = nltk.UnigramTagger(train, backoff = t0)\n",
    "    t2 = nltk.BigramTagger(train, backoff = t1)  \n",
    "    \n",
    "    perfs.append(t2.evaluate(test))"
   ]
  },
  {
   "cell_type": "code",
   "execution_count": 160,
   "metadata": {},
   "outputs": [],
   "source": [
    "sizes = [2, 5, 10, 25, 50, 100, 250, 500]\n",
    "perfs2 = []\n",
    "\n",
    "for s in sizes:\n",
    "    \n",
    "    bns_copy = []\n",
    "\n",
    "    for sent in brown.tagged_sents(categories = \"news\"):\n",
    "        current = []\n",
    "        for tagset in sent:\n",
    "            if new_freq[tagset[0].lower()] <= s:\n",
    "                current.append(('UNK', tagset[1]))\n",
    "            else:\n",
    "                current.append(tagset)\n",
    "        bns_copy.append(current)\n",
    "        \n",
    "    size = int(len(brown.tagged_sents(categories = \"news\")) * 0.9)\n",
    "    train = bns_copy[:size]\n",
    "    test = bns_copy[size:]\n",
    "\n",
    "    t0 = nltk.DefaultTagger('NN')\n",
    "    t1 = nltk.UnigramTagger(train, backoff = t0)\n",
    "    t2 = nltk.BigramTagger(train, backoff = t1)\n",
    "    perfs2.append(t2.evaluate(test))"
   ]
  },
  {
   "cell_type": "code",
   "execution_count": 161,
   "metadata": {},
   "outputs": [
    {
     "data": {
      "image/png": "[encoded data removed]",
      "text/plain": [
       "<Figure size 1440x720 with 1 Axes>"
      ]
     },
     "metadata": {
      "needs_background": "light"
     },
     "output_type": "display_data"
    }
   ],
   "source": [
    "import matplotlib.pyplot as plt\n",
    "\n",
    "plt.figure(figsize=(20,10))\n",
    "plt.plot(sizes, perfs, '-bo', label = \"Different Train/Test\")\n",
    "plt.plot(sizes, perfs2, ':ro', label = \"Same Train/Test\")\n",
    "plt.title(\"Bigram Tagger Performance with $n$ Words Tagged 'UNK'\")\n",
    "plt.xlabel(\"Frequency Threshold for 'UNK'\")\n",
    "plt.ylabel('Accuracy')\n",
    "plt.legend(loc = 'best')\n",
    "plt.show()"
   ]
  },
  {
   "cell_type": "markdown",
   "metadata": {},
   "source": [
    "*The plots appear to be very similar.  Let's try again, with smaller numbers for $n$, the threshold at which we replace words with 'UNK':*"
   ]
  },
  {
   "cell_type": "code",
   "execution_count": 162,
   "metadata": {},
   "outputs": [],
   "source": [
    "import numpy as np\n",
    "\n",
    "sizes = np.arange(2, 21)\n",
    "perfs = []\n",
    "\n",
    "for s in sizes:\n",
    "    \n",
    "    bns_copy = []\n",
    "\n",
    "    for sent in brown.tagged_sents(categories = \"news\"):\n",
    "        current = []\n",
    "        for tagset in sent:\n",
    "            if new_freq[tagset[0].lower()] <= s:\n",
    "                current.append(('UNK', tagset[1]))\n",
    "            else:\n",
    "                current.append(tagset)\n",
    "        bns_copy.append(current)\n",
    "        \n",
    "    size = int(len(brown.tagged_sents(categories = \"news\")) * 0.9)\n",
    "    train = bns_copy[:size]\n",
    "    test = brown.tagged_sents(categories = \"news\")[size:]\n",
    "\n",
    "    t0 = nltk.DefaultTagger('NN')\n",
    "    t1 = nltk.UnigramTagger(train, backoff = t0)\n",
    "    t2 = nltk.BigramTagger(train, backoff = t1)  \n",
    "    \n",
    "    perfs.append(t2.evaluate(test))"
   ]
  },
  {
   "cell_type": "code",
   "execution_count": 163,
   "metadata": {},
   "outputs": [],
   "source": [
    "sizes = np.arange(2, 21)\n",
    "perfs2 = []\n",
    "\n",
    "for s in sizes:\n",
    "    \n",
    "    bns_copy = []\n",
    "\n",
    "    for sent in brown.tagged_sents(categories = \"news\"):\n",
    "        current = []\n",
    "        for tagset in sent:\n",
    "            if new_freq[tagset[0].lower()] <= s:\n",
    "                current.append(('UNK', tagset[1]))\n",
    "            else:\n",
    "                current.append(tagset)\n",
    "        bns_copy.append(current)\n",
    "        \n",
    "    size = int(len(brown.tagged_sents(categories = \"news\")) * 0.9)\n",
    "    train = bns_copy[:size]\n",
    "    test = bns_copy[size:]\n",
    "\n",
    "    t0 = nltk.DefaultTagger('NN')\n",
    "    t1 = nltk.UnigramTagger(train, backoff = t0)\n",
    "    t2 = nltk.BigramTagger(train, backoff = t1)\n",
    "    perfs2.append(t2.evaluate(test))"
   ]
  },
  {
   "cell_type": "code",
   "execution_count": 164,
   "metadata": {},
   "outputs": [
    {
     "data": {
      "image/png": "[encoded data removed]",
      "text/plain": [
       "<Figure size 432x288 with 1 Axes>"
      ]
     },
     "metadata": {
      "needs_background": "light"
     },
     "output_type": "display_data"
    }
   ],
   "source": [
    "import matplotlib.pyplot as plt\n",
    "\n",
    "plt.plot(sizes, perfs, '-bo', label = \"Different Train/Test\")\n",
    "plt.plot(sizes, perfs2, ':ro', label = \"Same Train/Test\")\n",
    "plt.title(\"Bigram Tagger Performance with $n$ Words Tagged 'UNK'\")\n",
    "plt.xlabel(\"Frequency Threshold for 'UNK'\")\n",
    "plt.ylabel('Accuracy')\n",
    "plt.legend(loc = 'best')\n",
    "plt.show()"
   ]
  },
  {
   "cell_type": "markdown",
   "metadata": {},
   "source": [
    "*To answer the second part of the question: the backoff taggers are only utilized when the bigram tagger fails to find a tag for a given bigram.  Since this happens less often when part of the corpus is converted to 'UNK', these backoff taggers are used less frequently.*"
   ]
  },
  {
   "cell_type": "markdown",
   "metadata": {},
   "source": [
    "##### 31. \n",
    "\n",
    "Modify the program in [4.1](https://www.nltk.org/book/ch05.html#code-baseline-tagger) to use a logarithmic scale on the x-axis, by replacing `pylab.plot()` with `pylab.semilogx()`. What do you notice about the shape of the resulting plot? Does the gradient tell you anything?"
   ]
  },
  {
   "cell_type": "code",
   "execution_count": 165,
   "metadata": {},
   "outputs": [],
   "source": [
    "def performance(cfd, wordlist):\n",
    "    lt = dict((word, cfd[word].max()) for word in wordlist)\n",
    "    baseline_tagger = nltk.UnigramTagger(model = lt, \n",
    "                                         backoff = nltk.DefaultTagger('NN'))\n",
    "    return baseline_tagger.evaluate(brown.tagged_sents(categories = 'news'))\n",
    "\n",
    "import matplotlib.pyplot as plt\n",
    "import numpy as np\n",
    "\n",
    "def display():\n",
    "    word_freqs = nltk.FreqDist(brown.words(categories = 'news')).most_common()\n",
    "    words_by_freq = [w for (w, _) in word_freqs]\n",
    "    cfd = nltk.ConditionalFreqDist(brown.tagged_words(categories = 'news'))\n",
    "    sizes = 2 ** np.arange(15)\n",
    "    perfs = [performance(cfd, words_by_freq[:size]) for size in sizes]\n",
    "    # replacing plt.plot with plt.semilogx\n",
    "    plt.semilogx(sizes, perfs, '-bo')\n",
    "    plt.title('Lookup Tagger Performance with Varying Model Size')\n",
    "    plt.xlabel('Model Size')\n",
    "    plt.ylabel('Performance')\n",
    "    plt.show()\n",
    "    \n",
    "    "
   ]
  },
  {
   "cell_type": "code",
   "execution_count": 166,
   "metadata": {},
   "outputs": [
    {
     "data": {
      "image/png": "[encoded data removed]",
      "text/plain": [
       "<Figure size 432x288 with 1 Axes>"
      ]
     },
     "metadata": {
      "needs_background": "light"
     },
     "output_type": "display_data"
    }
   ],
   "source": [
    "display()"
   ]
  },
  {
   "cell_type": "markdown",
   "metadata": {},
   "source": [
    "*The resulting plot is nearly a straight line, which is strong evidence of a definite power relationship.*"
   ]
  },
  {
   "cell_type": "markdown",
   "metadata": {},
   "source": [
    "##### 32. \n",
    "\n",
    "◑ Consult the documentation for the Brill tagger demo function, using `help(nltk.tag.brill.demo)`. Experiment with the tagger by setting different values for the parameters. Is there any trade-off between training time (corpus size) and performance?"
   ]
  },
  {
   "cell_type": "markdown",
   "metadata": {},
   "source": [
    "*It appears that the Brill tagger, and its accompanying documentation, have moved:*\n",
    "\n",
    "```\n",
    "help(nltk.tag.brill.demo)\n",
    "\n",
    "---------------------------------------------------------------------------\n",
    "AttributeError                            Traceback (most recent call last)\n",
    "<ipython-input-298-f86fe87259a4> in <module>\n",
    "----> 1 help(nltk.tag.brill.demo)\n",
    "\n",
    "AttributeError: module 'nltk.tag.brill' has no attribute 'demo'\n",
    "    \n",
    "    \n",
    "```\n",
    "\n",
    "*Since this isn't working, there's no way I can complete the question.  However, instead of just moving on, I'll try to spend a little time with the Brill Tagger, as it was sort of glossed over in the book. The code below is (mostly) from the docs for [nltk.tag](http://www.nltk.org/api/nltk.tag.html?highlight=train%20brill%20tagger#module-nltk.tag.brill_trainer \"Brill Trainer\").  I still feel like I'm just toying around with the Brill Trainer, so it might be worthwhile to come back to this later.*"
   ]
  },
  {
   "cell_type": "code",
   "execution_count": 167,
   "metadata": {},
   "outputs": [],
   "source": [
    "# from http://www.nltk.org/api/nltk.tag.html?highlight=train%20brill%20tagger#nltk.tag.brill_trainer.BrillTaggerTrainer.train\n",
    "\n",
    "\n",
    "#imports \n",
    "from nltk.tbl.template import Template \n",
    "from nltk.tag.brill import Pos, Word \n",
    "from nltk.tag import untag, RegexpTagger, BrillTaggerTrainer\n",
    "\n",
    "#some data \n",
    "from nltk.corpus import treebank \n",
    "training_data = treebank.tagged_sents()[:100] \n",
    "baseline_data = treebank.tagged_sents()[100:200] \n",
    "gold_data = treebank.tagged_sents()[200:300] \n",
    "testing_data = [untag(s) for s in gold_data]\n",
    "\n",
    "backoff = RegexpTagger([\n",
    "     (r'^-?[0-9]+(.[0-9]+)?$', 'CD'),   # cardinal numbers\n",
    "     (r'(The|the|A|a|An|an)$', 'AT'),   # articles\n",
    "     (r'.*able$', 'JJ'),                # adjectives\n",
    "     (r'.*ness$', 'NN'),                # nouns formed from adjectives\n",
    "     (r'.*ly$', 'RB'),                  # adverbs\n",
    "     (r'.*s$', 'NNS'),                  # plural nouns\n",
    "     (r'.*ing$', 'VBG'),                # gerunds\n",
    "     (r'.*ed$', 'VBD'),                 # past tense verbs\n",
    "     (r'.*', 'NN')                      # nouns (default)\n",
    "     ])"
   ]
  },
  {
   "cell_type": "code",
   "execution_count": 168,
   "metadata": {},
   "outputs": [
    {
     "data": {
      "text/plain": [
       "0.245014245014245"
      ]
     },
     "execution_count": 168,
     "metadata": {},
     "output_type": "execute_result"
    }
   ],
   "source": [
    "baseline = backoff\n",
    "baseline.evaluate(gold_data)"
   ]
  },
  {
   "cell_type": "code",
   "execution_count": 169,
   "metadata": {},
   "outputs": [
    {
     "name": "stdout",
     "output_type": "stream",
     "text": [
      "TBL train (fast) (seqs: 100; tokens: 2417; tpls: 2; min score: 2; min acc: None)\n",
      "Finding initial useful rules...\n",
      "    Found 845 useful rules.\n",
      "\n",
      "           B      |\n",
      "   S   F   r   O  |        Score = Fixed - Broken\n",
      "   c   i   o   t  |  R     Fixed = num tags changed incorrect -> correct\n",
      "   o   x   k   h  |  u     Broken = num tags changed correct -> incorrect\n",
      "   r   e   e   e  |  l     Other = num tags changed incorrect -> incorrect\n",
      "   e   d   n   r  |  e\n",
      "------------------+-------------------------------------------------------\n",
      " 132 132   0   0  | AT->DT if Pos:NN@[-1]\n",
      "  85  85   0   0  | NN->, if Pos:NN@[-1] & Word:,@[0]\n",
      "  69  69   0   0  | NN->. if Pos:NN@[-1] & Word:.@[0]\n",
      "  51  51   0   0  | NN->IN if Pos:NN@[-1] & Word:of@[0]\n",
      "  47  63  16 161  | NN->IN if Pos:NNS@[-1]\n",
      "  33  33   0   0  | NN->TO if Pos:NN@[-1] & Word:to@[0]\n",
      "  26  26   0   0  | IN->. if Pos:NNS@[-1] & Word:.@[0]\n",
      "  24  24   0   0  | IN->, if Pos:NNS@[-1] & Word:,@[0]\n",
      "  22  27   5  24  | NN->-NONE- if Pos:VBD@[-1]\n",
      "  17  17   0   0  | NN->CC if Pos:NN@[-1] & Word:and@[0]\n"
     ]
    }
   ],
   "source": [
    "#templates \n",
    "Template._cleartemplates() \n",
    "\n",
    "#clear any templates created in earlier tests \n",
    "templates = [Template(Pos([-1])), Template(Pos([-1]), Word([0]))]\n",
    "\n",
    "#construct a BrillTaggerTrainer \n",
    "tt = BrillTaggerTrainer(baseline, templates, trace=3)\n",
    "\n",
    "tagger1 = tt.train(training_data, max_rules=10)"
   ]
  },
  {
   "cell_type": "code",
   "execution_count": 170,
   "metadata": {},
   "outputs": [
    {
     "data": {
      "text/plain": [
       "(Rule('001', 'NN', ',', [(Pos([-1]),'NN'), (Word([0]),',')]),\n",
       " Rule('001', 'NN', '.', [(Pos([-1]),'NN'), (Word([0]),'.')]))"
      ]
     },
     "execution_count": 170,
     "metadata": {},
     "output_type": "execute_result"
    }
   ],
   "source": [
    "tagger1.rules()[1:3]"
   ]
  },
  {
   "cell_type": "code",
   "execution_count": 171,
   "metadata": {},
   "outputs": [],
   "source": [
    "train_stats = tagger1.train_stats()"
   ]
  },
  {
   "cell_type": "code",
   "execution_count": 172,
   "metadata": {},
   "outputs": [
    {
     "data": {
      "text/plain": [
       "[1775, 1269, [132, 85, 69, 51, 47, 33, 26, 24, 22, 17]]"
      ]
     },
     "execution_count": 172,
     "metadata": {},
     "output_type": "execute_result"
    }
   ],
   "source": [
    "[train_stats[stat] for stat in ['initialerrors', 'finalerrors', 'rulescores']]"
   ]
  },
  {
   "cell_type": "code",
   "execution_count": 173,
   "metadata": {},
   "outputs": [
    {
     "name": "stdout",
     "output_type": "stream",
     "text": [
      "TEMPLATE STATISTICS (TRAIN)  2 templates, 10 rules)\n",
      "TRAIN (   2417 tokens) initial  1775 0.2656 final:  1269 0.4750 \n",
      "#ID | Score (train) |  #Rules     | Template\n",
      "--------------------------------------------\n",
      "001 |   305   0.603 |   7   0.700 | Template(Pos([-1]),Word([0]))\n",
      "000 |   201   0.397 |   3   0.300 | Template(Pos([-1]))\n",
      "\n",
      "\n"
     ]
    }
   ],
   "source": [
    "tagger1.print_template_statistics(printunused = False)"
   ]
  },
  {
   "cell_type": "code",
   "execution_count": 174,
   "metadata": {},
   "outputs": [
    {
     "data": {
      "text/plain": [
       "0.43996743996744"
      ]
     },
     "execution_count": 174,
     "metadata": {},
     "output_type": "execute_result"
    }
   ],
   "source": [
    "tagger1.evaluate(gold_data)"
   ]
  },
  {
   "cell_type": "code",
   "execution_count": 175,
   "metadata": {},
   "outputs": [],
   "source": [
    "tagged, test_stats = tagger1.batch_tag_incremental(testing_data, gold_data)"
   ]
  },
  {
   "cell_type": "code",
   "execution_count": 176,
   "metadata": {},
   "outputs": [
    {
     "data": {
      "text/plain": [
       "True"
      ]
     },
     "execution_count": 176,
     "metadata": {},
     "output_type": "execute_result"
    }
   ],
   "source": [
    "tagged[33][12:] == [('foreign', 'IN'), ('debt', 'NN'), ('of', 'IN'), ('$', 'NN'), ('64', 'CD'),\n",
    "     ('billion', 'NN'), ('*U*', 'NN'), ('--', 'NN'), ('the', 'DT'), ('third-highest', 'NN'), ('in', 'NN'),\n",
    "     ('the', 'DT'), ('developing', 'VBG'), ('world', 'NN'), ('.', '.')]"
   ]
  },
  {
   "cell_type": "code",
   "execution_count": 177,
   "metadata": {},
   "outputs": [
    {
     "data": {
      "text/plain": [
       "[1855, 1376, [100, 85, 67, 58, 27, 36, 27, 16, 31, 32]]"
      ]
     },
     "execution_count": 177,
     "metadata": {},
     "output_type": "execute_result"
    }
   ],
   "source": [
    "[test_stats[stat] for stat in ['initialerrors', 'finalerrors', 'rulescores']]"
   ]
  },
  {
   "cell_type": "code",
   "execution_count": 178,
   "metadata": {},
   "outputs": [
    {
     "name": "stdout",
     "output_type": "stream",
     "text": [
      "TBL train (fast) (seqs: 100; tokens: 2417; tpls: 2; min score: 2; min acc: 0.99)\n",
      "Finding initial useful rules...\n",
      "    Found 845 useful rules.\n",
      "\n",
      "           B      |\n",
      "   S   F   r   O  |        Score = Fixed - Broken\n",
      "   c   i   o   t  |  R     Fixed = num tags changed incorrect -> correct\n",
      "   o   x   k   h  |  u     Broken = num tags changed correct -> incorrect\n",
      "   r   e   e   e  |  l     Other = num tags changed incorrect -> incorrect\n",
      "   e   d   n   r  |  e\n",
      "------------------+-------------------------------------------------------\n",
      " 132 132   0   0  | AT->DT if Pos:NN@[-1]\n",
      "  85  85   0   0  | NN->, if Pos:NN@[-1] & Word:,@[0]\n",
      "  69  69   0   0  | NN->. if Pos:NN@[-1] & Word:.@[0]\n",
      "  51  51   0   0  | NN->IN if Pos:NN@[-1] & Word:of@[0]\n",
      "  36  36   0   0  | NN->TO if Pos:NN@[-1] & Word:to@[0]\n",
      "  26  26   0   0  | NN->. if Pos:NNS@[-1] & Word:.@[0]\n",
      "  24  24   0   0  | NN->, if Pos:NNS@[-1] & Word:,@[0]\n",
      "  19  19   0   6  | NN->VB if Pos:TO@[-1]\n",
      "  18  18   0   0  | CD->-NONE- if Pos:NN@[-1] & Word:0@[0]\n",
      "  18  18   0   0  | NN->CC if Pos:NN@[-1] & Word:and@[0]\n"
     ]
    }
   ],
   "source": [
    "# a high-accuracy tagger \n",
    "tagger2 = tt.train(training_data, max_rules=10, min_acc=0.99)"
   ]
  },
  {
   "cell_type": "code",
   "execution_count": 179,
   "metadata": {},
   "outputs": [
    {
     "data": {
      "text/plain": [
       "0.4415954415954416"
      ]
     },
     "execution_count": 179,
     "metadata": {},
     "output_type": "execute_result"
    }
   ],
   "source": [
    "tagger2.evaluate(gold_data)"
   ]
  },
  {
   "cell_type": "code",
   "execution_count": 180,
   "metadata": {},
   "outputs": [
    {
     "data": {
      "text/plain": [
       "(Rule('001', 'NN', '.', [(Pos([-1]),'NN'), (Word([0]),'.')]),\n",
       " Rule('001', 'NN', 'IN', [(Pos([-1]),'NN'), (Word([0]),'of')]))"
      ]
     },
     "execution_count": 180,
     "metadata": {},
     "output_type": "execute_result"
    }
   ],
   "source": [
    "tagger2.rules()[2:4]"
   ]
  },
  {
   "cell_type": "markdown",
   "metadata": {},
   "source": [
    "*I used this `for`-loop to try the BrillTagger with an ever-increasing number of rules.  The rules do take some time to calculate (about two minutes to go through the complete iteration of 50 cycles); but the templates are being cleared out each time, so perhaps it would be faster to keep the old templates and just add one new rule?  There also appears to be no way of preventing the rules from being printed.*"
   ]
  },
  {
   "cell_type": "code",
   "execution_count": 181,
   "metadata": {},
   "outputs": [
    {
     "name": "stdout",
     "output_type": "stream",
     "text": [
      "TBL train (fast) (seqs: 100; tokens: 2417; tpls: 2; min score: 2; min acc: None)\n",
      "Finding initial useful rules...\n",
      "    Found 845 useful rules.\n",
      "\n",
      "           B      |\n",
      "   S   F   r   O  |        Score = Fixed - Broken\n",
      "   c   i   o   t  |  R     Fixed = num tags changed incorrect -> correct\n",
      "   o   x   k   h  |  u     Broken = num tags changed correct -> incorrect\n",
      "   r   e   e   e  |  l     Other = num tags changed incorrect -> incorrect\n",
      "   e   d   n   r  |  e\n",
      "------------------+-------------------------------------------------------\n",
      " 132 132   0   0  | AT->DT if Pos:NN@[-1]\n",
      "TBL train (fast) (seqs: 100; tokens: 2417; tpls: 2; min score: 2; min acc: None)\n",
      "Finding initial useful rules...\n",
      "    Found 845 useful rules.\n",
      "\n",
      "           B      |\n",
      "   S   F   r   O  |        Score = Fixed - Broken\n",
      "   c   i   o   t  |  R     Fixed = num tags changed incorrect -> correct\n",
      "   o   x   k   h  |  u     Broken = num tags changed correct -> incorrect\n",
      "   r   e   e   e  |  l     Other = num tags changed incorrect -> incorrect\n",
      "   e   d   n   r  |  e\n",
      "------------------+-------------------------------------------------------\n",
      " 132 132   0   0  | AT->DT if Pos:NN@[-1]\n",
      "  85  85   0   0  | NN->, if Pos:NN@[-1] & Word:,@[0]\n",
      "TBL train (fast) (seqs: 100; tokens: 2417; tpls: 2; min score: 2; min acc: None)\n",
      "Finding initial useful rules...\n",
      "    Found 845 useful rules.\n",
      "\n",
      "           B      |\n",
      "   S   F   r   O  |        Score = Fixed - Broken\n",
      "   c   i   o   t  |  R     Fixed = num tags changed incorrect -> correct\n",
      "   o   x   k   h  |  u     Broken = num tags changed correct -> incorrect\n",
      "   r   e   e   e  |  l     Other = num tags changed incorrect -> incorrect\n",
      "   e   d   n   r  |  e\n",
      "------------------+-------------------------------------------------------\n",
      " 132 132   0   0  | AT->DT if Pos:NN@[-1]\n",
      "  85  85   0   0  | NN->, if Pos:NN@[-1] & Word:,@[0]\n",
      "  69  69   0   0  | NN->. if Pos:NN@[-1] & Word:.@[0]\n",
      "TBL train (fast) (seqs: 100; tokens: 2417; tpls: 2; min score: 2; min acc: None)\n",
      "Finding initial useful rules...\n",
      "    Found 845 useful rules.\n",
      "\n",
      "           B      |\n",
      "   S   F   r   O  |        Score = Fixed - Broken\n",
      "   c   i   o   t  |  R     Fixed = num tags changed incorrect -> correct\n",
      "   o   x   k   h  |  u     Broken = num tags changed correct -> incorrect\n",
      "   r   e   e   e  |  l     Other = num tags changed incorrect -> incorrect\n",
      "   e   d   n   r  |  e\n",
      "------------------+-------------------------------------------------------\n",
      " 132 132   0   0  | AT->DT if Pos:NN@[-1]\n",
      "  85  85   0   0  | NN->, if Pos:NN@[-1] & Word:,@[0]\n",
      "  69  69   0   0  | NN->. if Pos:NN@[-1] & Word:.@[0]\n",
      "  51  51   0   0  | NN->IN if Pos:NN@[-1] & Word:of@[0]\n",
      "TBL train (fast) (seqs: 100; tokens: 2417; tpls: 2; min score: 2; min acc: None)\n",
      "Finding initial useful rules...\n",
      "    Found 845 useful rules.\n",
      "\n",
      "           B      |\n",
      "   S   F   r   O  |        Score = Fixed - Broken\n",
      "   c   i   o   t  |  R     Fixed = num tags changed incorrect -> correct\n",
      "   o   x   k   h  |  u     Broken = num tags changed correct -> incorrect\n",
      "   r   e   e   e  |  l     Other = num tags changed incorrect -> incorrect\n",
      "   e   d   n   r  |  e\n",
      "------------------+-------------------------------------------------------\n",
      " 132 132   0   0  | AT->DT if Pos:NN@[-1]\n",
      "  85  85   0   0  | NN->, if Pos:NN@[-1] & Word:,@[0]\n",
      "  69  69   0   0  | NN->. if Pos:NN@[-1] & Word:.@[0]\n",
      "  51  51   0   0  | NN->IN if Pos:NN@[-1] & Word:of@[0]\n",
      "  47  63  16 161  | NN->IN if Pos:NNS@[-1]\n",
      "TBL train (fast) (seqs: 100; tokens: 2417; tpls: 2; min score: 2; min acc: None)\n",
      "Finding initial useful rules...\n",
      "    Found 845 useful rules.\n",
      "\n",
      "           B      |\n",
      "   S   F   r   O  |        Score = Fixed - Broken\n",
      "   c   i   o   t  |  R     Fixed = num tags changed incorrect -> correct\n",
      "   o   x   k   h  |  u     Broken = num tags changed correct -> incorrect\n",
      "   r   e   e   e  |  l     Other = num tags changed incorrect -> incorrect\n",
      "   e   d   n   r  |  e\n",
      "------------------+-------------------------------------------------------\n",
      " 132 132   0   0  | AT->DT if Pos:NN@[-1]\n",
      "  85  85   0   0  | NN->, if Pos:NN@[-1] & Word:,@[0]\n",
      "  69  69   0   0  | NN->. if Pos:NN@[-1] & Word:.@[0]\n",
      "  51  51   0   0  | NN->IN if Pos:NN@[-1] & Word:of@[0]\n",
      "  47  63  16 161  | NN->IN if Pos:NNS@[-1]\n",
      "  33  33   0   0  | NN->TO if Pos:NN@[-1] & Word:to@[0]\n",
      "TBL train (fast) (seqs: 100; tokens: 2417; tpls: 2; min score: 2; min acc: None)\n",
      "Finding initial useful rules...\n",
      "    Found 845 useful rules.\n",
      "\n",
      "           B      |\n",
      "   S   F   r   O  |        Score = Fixed - Broken\n",
      "   c   i   o   t  |  R     Fixed = num tags changed incorrect -> correct\n",
      "   o   x   k   h  |  u     Broken = num tags changed correct -> incorrect\n",
      "   r   e   e   e  |  l     Other = num tags changed incorrect -> incorrect\n",
      "   e   d   n   r  |  e\n",
      "------------------+-------------------------------------------------------\n",
      " 132 132   0   0  | AT->DT if Pos:NN@[-1]\n",
      "  85  85   0   0  | NN->, if Pos:NN@[-1] & Word:,@[0]\n",
      "  69  69   0   0  | NN->. if Pos:NN@[-1] & Word:.@[0]\n",
      "  51  51   0   0  | NN->IN if Pos:NN@[-1] & Word:of@[0]\n",
      "  47  63  16 161  | NN->IN if Pos:NNS@[-1]\n",
      "  33  33   0   0  | NN->TO if Pos:NN@[-1] & Word:to@[0]\n",
      "  26  26   0   0  | IN->. if Pos:NNS@[-1] & Word:.@[0]\n",
      "TBL train (fast) (seqs: 100; tokens: 2417; tpls: 2; min score: 2; min acc: None)\n",
      "Finding initial useful rules...\n",
      "    Found 845 useful rules.\n",
      "\n",
      "           B      |\n",
      "   S   F   r   O  |        Score = Fixed - Broken\n",
      "   c   i   o   t  |  R     Fixed = num tags changed incorrect -> correct\n",
      "   o   x   k   h  |  u     Broken = num tags changed correct -> incorrect\n",
      "   r   e   e   e  |  l     Other = num tags changed incorrect -> incorrect\n",
      "   e   d   n   r  |  e\n",
      "------------------+-------------------------------------------------------\n",
      " 132 132   0   0  | AT->DT if Pos:NN@[-1]\n",
      "  85  85   0   0  | NN->, if Pos:NN@[-1] & Word:,@[0]\n",
      "  69  69   0   0  | NN->. if Pos:NN@[-1] & Word:.@[0]\n",
      "  51  51   0   0  | NN->IN if Pos:NN@[-1] & Word:of@[0]\n",
      "  47  63  16 161  | NN->IN if Pos:NNS@[-1]\n",
      "  33  33   0   0  | NN->TO if Pos:NN@[-1] & Word:to@[0]\n",
      "  26  26   0   0  | IN->. if Pos:NNS@[-1] & Word:.@[0]\n",
      "  24  24   0   0  | IN->, if Pos:NNS@[-1] & Word:,@[0]\n",
      "TBL train (fast) (seqs: 100; tokens: 2417; tpls: 2; min score: 2; min acc: None)\n",
      "Finding initial useful rules...\n",
      "    Found 845 useful rules.\n",
      "\n",
      "           B      |\n",
      "   S   F   r   O  |        Score = Fixed - Broken\n",
      "   c   i   o   t  |  R     Fixed = num tags changed incorrect -> correct\n",
      "   o   x   k   h  |  u     Broken = num tags changed correct -> incorrect\n",
      "   r   e   e   e  |  l     Other = num tags changed incorrect -> incorrect\n",
      "   e   d   n   r  |  e\n",
      "------------------+-------------------------------------------------------\n",
      " 132 132   0   0  | AT->DT if Pos:NN@[-1]\n",
      "  85  85   0   0  | NN->, if Pos:NN@[-1] & Word:,@[0]\n",
      "  69  69   0   0  | NN->. if Pos:NN@[-1] & Word:.@[0]\n",
      "  51  51   0   0  | NN->IN if Pos:NN@[-1] & Word:of@[0]\n",
      "  47  63  16 161  | NN->IN if Pos:NNS@[-1]\n",
      "  33  33   0   0  | NN->TO if Pos:NN@[-1] & Word:to@[0]\n",
      "  26  26   0   0  | IN->. if Pos:NNS@[-1] & Word:.@[0]\n",
      "  24  24   0   0  | IN->, if Pos:NNS@[-1] & Word:,@[0]\n",
      "  22  27   5  24  | NN->-NONE- if Pos:VBD@[-1]\n",
      "TBL train (fast) (seqs: 100; tokens: 2417; tpls: 2; min score: 2; min acc: None)\n",
      "Finding initial useful rules...\n",
      "    Found 845 useful rules.\n",
      "\n",
      "           B      |\n",
      "   S   F   r   O  |        Score = Fixed - Broken\n",
      "   c   i   o   t  |  R     Fixed = num tags changed incorrect -> correct\n",
      "   o   x   k   h  |  u     Broken = num tags changed correct -> incorrect\n",
      "   r   e   e   e  |  l     Other = num tags changed incorrect -> incorrect\n",
      "   e   d   n   r  |  e\n",
      "------------------+-------------------------------------------------------\n",
      " 132 132   0   0  | AT->DT if Pos:NN@[-1]\n",
      "  85  85   0   0  | NN->, if Pos:NN@[-1] & Word:,@[0]\n",
      "  69  69   0   0  | NN->. if Pos:NN@[-1] & Word:.@[0]\n",
      "  51  51   0   0  | NN->IN if Pos:NN@[-1] & Word:of@[0]\n",
      "  47  63  16 161  | NN->IN if Pos:NNS@[-1]\n",
      "  33  33   0   0  | NN->TO if Pos:NN@[-1] & Word:to@[0]\n",
      "  26  26   0   0  | IN->. if Pos:NNS@[-1] & Word:.@[0]\n",
      "  24  24   0   0  | IN->, if Pos:NNS@[-1] & Word:,@[0]\n",
      "  22  27   5  24  | NN->-NONE- if Pos:VBD@[-1]\n",
      "  17  17   0   0  | NN->CC if Pos:NN@[-1] & Word:and@[0]\n",
      "TBL train (fast) (seqs: 100; tokens: 2417; tpls: 2; min score: 2; min acc: None)\n",
      "Finding initial useful rules...\n",
      "    Found 845 useful rules.\n",
      "\n",
      "           B      |\n",
      "   S   F   r   O  |        Score = Fixed - Broken\n",
      "   c   i   o   t  |  R     Fixed = num tags changed incorrect -> correct\n",
      "   o   x   k   h  |  u     Broken = num tags changed correct -> incorrect\n",
      "   r   e   e   e  |  l     Other = num tags changed incorrect -> incorrect\n",
      "   e   d   n   r  |  e\n",
      "------------------+-------------------------------------------------------\n",
      " 132 132   0   0  | AT->DT if Pos:NN@[-1]\n",
      "  85  85   0   0  | NN->, if Pos:NN@[-1] & Word:,@[0]\n",
      "  69  69   0   0  | NN->. if Pos:NN@[-1] & Word:.@[0]\n",
      "  51  51   0   0  | NN->IN if Pos:NN@[-1] & Word:of@[0]\n",
      "  47  63  16 161  | NN->IN if Pos:NNS@[-1]\n",
      "  33  33   0   0  | NN->TO if Pos:NN@[-1] & Word:to@[0]\n",
      "  26  26   0   0  | IN->. if Pos:NNS@[-1] & Word:.@[0]\n",
      "  24  24   0   0  | IN->, if Pos:NNS@[-1] & Word:,@[0]\n",
      "  22  27   5  24  | NN->-NONE- if Pos:VBD@[-1]\n",
      "  17  17   0   0  | NN->CC if Pos:NN@[-1] & Word:and@[0]\n",
      "  17  17   0   3  | NNS->POS if Pos:NN@[-1] & Word:'s@[0]\n",
      "TBL train (fast) (seqs: 100; tokens: 2417; tpls: 2; min score: 2; min acc: None)\n",
      "Finding initial useful rules...\n",
      "    Found 845 useful rules.\n",
      "\n",
      "           B      |\n",
      "   S   F   r   O  |        Score = Fixed - Broken\n",
      "   c   i   o   t  |  R     Fixed = num tags changed incorrect -> correct\n",
      "   o   x   k   h  |  u     Broken = num tags changed correct -> incorrect\n",
      "   r   e   e   e  |  l     Other = num tags changed incorrect -> incorrect\n",
      "   e   d   n   r  |  e\n",
      "------------------+-------------------------------------------------------\n",
      " 132 132   0   0  | AT->DT if Pos:NN@[-1]\n",
      "  85  85   0   0  | NN->, if Pos:NN@[-1] & Word:,@[0]\n",
      "  69  69   0   0  | NN->. if Pos:NN@[-1] & Word:.@[0]\n",
      "  51  51   0   0  | NN->IN if Pos:NN@[-1] & Word:of@[0]\n",
      "  47  63  16 161  | NN->IN if Pos:NNS@[-1]\n",
      "  33  33   0   0  | NN->TO if Pos:NN@[-1] & Word:to@[0]\n",
      "  26  26   0   0  | IN->. if Pos:NNS@[-1] & Word:.@[0]\n",
      "  24  24   0   0  | IN->, if Pos:NNS@[-1] & Word:,@[0]\n",
      "  22  27   5  24  | NN->-NONE- if Pos:VBD@[-1]\n",
      "  17  17   0   0  | NN->CC if Pos:NN@[-1] & Word:and@[0]\n",
      "  17  17   0   3  | NNS->POS if Pos:NN@[-1] & Word:'s@[0]\n",
      "  16  16   0   6  | NN->VB if Pos:TO@[-1]\n",
      "TBL train (fast) (seqs: 100; tokens: 2417; tpls: 2; min score: 2; min acc: None)\n",
      "Finding initial useful rules...\n",
      "    Found 845 useful rules.\n",
      "\n",
      "           B      |\n",
      "   S   F   r   O  |        Score = Fixed - Broken\n",
      "   c   i   o   t  |  R     Fixed = num tags changed incorrect -> correct\n",
      "   o   x   k   h  |  u     Broken = num tags changed correct -> incorrect\n",
      "   r   e   e   e  |  l     Other = num tags changed incorrect -> incorrect\n",
      "   e   d   n   r  |  e\n",
      "------------------+-------------------------------------------------------\n",
      " 132 132   0   0  | AT->DT if Pos:NN@[-1]\n",
      "  85  85   0   0  | NN->, if Pos:NN@[-1] & Word:,@[0]\n",
      "  69  69   0   0  | NN->. if Pos:NN@[-1] & Word:.@[0]\n",
      "  51  51   0   0  | NN->IN if Pos:NN@[-1] & Word:of@[0]\n",
      "  47  63  16 161  | NN->IN if Pos:NNS@[-1]\n",
      "  33  33   0   0  | NN->TO if Pos:NN@[-1] & Word:to@[0]\n",
      "  26  26   0   0  | IN->. if Pos:NNS@[-1] & Word:.@[0]\n",
      "  24  24   0   0  | IN->, if Pos:NNS@[-1] & Word:,@[0]\n",
      "  22  27   5  24  | NN->-NONE- if Pos:VBD@[-1]\n",
      "  17  17   0   0  | NN->CC if Pos:NN@[-1] & Word:and@[0]\n",
      "  17  17   0   3  | NNS->POS if Pos:NN@[-1] & Word:'s@[0]\n",
      "  16  16   0   6  | NN->VB if Pos:TO@[-1]\n",
      "  16  16   0   0  | IN->CC if Pos:NNS@[-1] & Word:and@[0]\n",
      "TBL train (fast) (seqs: 100; tokens: 2417; tpls: 2; min score: 2; min acc: None)\n",
      "Finding initial useful rules...\n",
      "    Found 845 useful rules.\n",
      "\n",
      "           B      |\n",
      "   S   F   r   O  |        Score = Fixed - Broken\n",
      "   c   i   o   t  |  R     Fixed = num tags changed incorrect -> correct\n",
      "   o   x   k   h  |  u     Broken = num tags changed correct -> incorrect\n",
      "   r   e   e   e  |  l     Other = num tags changed incorrect -> incorrect\n",
      "   e   d   n   r  |  e\n",
      "------------------+-------------------------------------------------------\n",
      " 132 132   0   0  | AT->DT if Pos:NN@[-1]\n",
      "  85  85   0   0  | NN->, if Pos:NN@[-1] & Word:,@[0]\n",
      "  69  69   0   0  | NN->. if Pos:NN@[-1] & Word:.@[0]\n",
      "  51  51   0   0  | NN->IN if Pos:NN@[-1] & Word:of@[0]\n",
      "  47  63  16 161  | NN->IN if Pos:NNS@[-1]\n",
      "  33  33   0   0  | NN->TO if Pos:NN@[-1] & Word:to@[0]\n",
      "  26  26   0   0  | IN->. if Pos:NNS@[-1] & Word:.@[0]\n",
      "  24  24   0   0  | IN->, if Pos:NNS@[-1] & Word:,@[0]\n",
      "  22  27   5  24  | NN->-NONE- if Pos:VBD@[-1]\n",
      "  17  17   0   0  | NN->CC if Pos:NN@[-1] & Word:and@[0]\n",
      "  17  17   0   3  | NNS->POS if Pos:NN@[-1] & Word:'s@[0]\n",
      "  16  16   0   6  | NN->VB if Pos:TO@[-1]\n",
      "  16  16   0   0  | IN->CC if Pos:NNS@[-1] & Word:and@[0]\n",
      "  15  15   0   0  | NN->-NONE- if Pos:NN@[-1] & Word:*U*@[0]\n",
      "TBL train (fast) (seqs: 100; tokens: 2417; tpls: 2; min score: 2; min acc: None)\n",
      "Finding initial useful rules...\n",
      "    Found 845 useful rules.\n",
      "\n",
      "           B      |\n",
      "   S   F   r   O  |        Score = Fixed - Broken\n",
      "   c   i   o   t  |  R     Fixed = num tags changed incorrect -> correct\n",
      "   o   x   k   h  |  u     Broken = num tags changed correct -> incorrect\n",
      "   r   e   e   e  |  l     Other = num tags changed incorrect -> incorrect\n",
      "   e   d   n   r  |  e\n",
      "------------------+-------------------------------------------------------\n",
      " 132 132   0   0  | AT->DT if Pos:NN@[-1]\n",
      "  85  85   0   0  | NN->, if Pos:NN@[-1] & Word:,@[0]\n",
      "  69  69   0   0  | NN->. if Pos:NN@[-1] & Word:.@[0]\n",
      "  51  51   0   0  | NN->IN if Pos:NN@[-1] & Word:of@[0]\n",
      "  47  63  16 161  | NN->IN if Pos:NNS@[-1]\n",
      "  33  33   0   0  | NN->TO if Pos:NN@[-1] & Word:to@[0]\n",
      "  26  26   0   0  | IN->. if Pos:NNS@[-1] & Word:.@[0]\n",
      "  24  24   0   0  | IN->, if Pos:NNS@[-1] & Word:,@[0]\n",
      "  22  27   5  24  | NN->-NONE- if Pos:VBD@[-1]\n",
      "  17  17   0   0  | NN->CC if Pos:NN@[-1] & Word:and@[0]\n",
      "  17  17   0   3  | NNS->POS if Pos:NN@[-1] & Word:'s@[0]\n",
      "  16  16   0   6  | NN->VB if Pos:TO@[-1]\n",
      "  16  16   0   0  | IN->CC if Pos:NNS@[-1] & Word:and@[0]\n",
      "  15  15   0   0  | NN->-NONE- if Pos:NN@[-1] & Word:*U*@[0]\n",
      "  15  15   0   0  | NN->IN if Pos:NN@[-1] & Word:for@[0]\n",
      "TBL train (fast) (seqs: 100; tokens: 2417; tpls: 2; min score: 2; min acc: None)\n",
      "Finding initial useful rules...\n",
      "    Found 845 useful rules.\n",
      "\n",
      "           B      |\n",
      "   S   F   r   O  |        Score = Fixed - Broken\n",
      "   c   i   o   t  |  R     Fixed = num tags changed incorrect -> correct\n",
      "   o   x   k   h  |  u     Broken = num tags changed correct -> incorrect\n",
      "   r   e   e   e  |  l     Other = num tags changed incorrect -> incorrect\n",
      "   e   d   n   r  |  e\n",
      "------------------+-------------------------------------------------------\n",
      " 132 132   0   0  | AT->DT if Pos:NN@[-1]\n",
      "  85  85   0   0  | NN->, if Pos:NN@[-1] & Word:,@[0]\n",
      "  69  69   0   0  | NN->. if Pos:NN@[-1] & Word:.@[0]\n",
      "  51  51   0   0  | NN->IN if Pos:NN@[-1] & Word:of@[0]\n",
      "  47  63  16 161  | NN->IN if Pos:NNS@[-1]\n",
      "  33  33   0   0  | NN->TO if Pos:NN@[-1] & Word:to@[0]\n",
      "  26  26   0   0  | IN->. if Pos:NNS@[-1] & Word:.@[0]\n",
      "  24  24   0   0  | IN->, if Pos:NNS@[-1] & Word:,@[0]\n",
      "  22  27   5  24  | NN->-NONE- if Pos:VBD@[-1]\n",
      "  17  17   0   0  | NN->CC if Pos:NN@[-1] & Word:and@[0]\n",
      "  17  17   0   3  | NNS->POS if Pos:NN@[-1] & Word:'s@[0]\n",
      "  16  16   0   6  | NN->VB if Pos:TO@[-1]\n",
      "  16  16   0   0  | IN->CC if Pos:NNS@[-1] & Word:and@[0]\n",
      "  15  15   0   0  | NN->-NONE- if Pos:NN@[-1] & Word:*U*@[0]\n",
      "  15  15   0   0  | NN->IN if Pos:NN@[-1] & Word:for@[0]\n",
      "  14  14   0   0  | NN->VBD if Pos:NN@[-1] & Word:said@[0]\n",
      "TBL train (fast) (seqs: 100; tokens: 2417; tpls: 2; min score: 2; min acc: None)\n",
      "Finding initial useful rules...\n",
      "    Found 845 useful rules.\n",
      "\n",
      "           B      |\n",
      "   S   F   r   O  |        Score = Fixed - Broken\n",
      "   c   i   o   t  |  R     Fixed = num tags changed incorrect -> correct\n",
      "   o   x   k   h  |  u     Broken = num tags changed correct -> incorrect\n",
      "   r   e   e   e  |  l     Other = num tags changed incorrect -> incorrect\n",
      "   e   d   n   r  |  e\n",
      "------------------+-------------------------------------------------------\n",
      " 132 132   0   0  | AT->DT if Pos:NN@[-1]\n",
      "  85  85   0   0  | NN->, if Pos:NN@[-1] & Word:,@[0]\n",
      "  69  69   0   0  | NN->. if Pos:NN@[-1] & Word:.@[0]\n",
      "  51  51   0   0  | NN->IN if Pos:NN@[-1] & Word:of@[0]\n",
      "  47  63  16 161  | NN->IN if Pos:NNS@[-1]\n",
      "  33  33   0   0  | NN->TO if Pos:NN@[-1] & Word:to@[0]\n",
      "  26  26   0   0  | IN->. if Pos:NNS@[-1] & Word:.@[0]\n",
      "  24  24   0   0  | IN->, if Pos:NNS@[-1] & Word:,@[0]\n",
      "  22  27   5  24  | NN->-NONE- if Pos:VBD@[-1]\n",
      "  17  17   0   0  | NN->CC if Pos:NN@[-1] & Word:and@[0]\n",
      "  17  17   0   3  | NNS->POS if Pos:NN@[-1] & Word:'s@[0]\n",
      "  16  16   0   6  | NN->VB if Pos:TO@[-1]\n",
      "  16  16   0   0  | IN->CC if Pos:NNS@[-1] & Word:and@[0]\n",
      "  15  15   0   0  | NN->-NONE- if Pos:NN@[-1] & Word:*U*@[0]\n",
      "  15  15   0   0  | NN->IN if Pos:NN@[-1] & Word:for@[0]\n",
      "  14  14   0   0  | NN->VBD if Pos:NN@[-1] & Word:said@[0]\n",
      "  13  13   0   0  | AT->DT if Pos:VBD@[-1]\n",
      "TBL train (fast) (seqs: 100; tokens: 2417; tpls: 2; min score: 2; min acc: None)\n",
      "Finding initial useful rules...\n",
      "    Found 845 useful rules.\n",
      "\n",
      "           B      |\n",
      "   S   F   r   O  |        Score = Fixed - Broken\n",
      "   c   i   o   t  |  R     Fixed = num tags changed incorrect -> correct\n",
      "   o   x   k   h  |  u     Broken = num tags changed correct -> incorrect\n",
      "   r   e   e   e  |  l     Other = num tags changed incorrect -> incorrect\n",
      "   e   d   n   r  |  e\n",
      "------------------+-------------------------------------------------------\n",
      " 132 132   0   0  | AT->DT if Pos:NN@[-1]\n",
      "  85  85   0   0  | NN->, if Pos:NN@[-1] & Word:,@[0]\n",
      "  69  69   0   0  | NN->. if Pos:NN@[-1] & Word:.@[0]\n",
      "  51  51   0   0  | NN->IN if Pos:NN@[-1] & Word:of@[0]\n",
      "  47  63  16 161  | NN->IN if Pos:NNS@[-1]\n",
      "  33  33   0   0  | NN->TO if Pos:NN@[-1] & Word:to@[0]\n",
      "  26  26   0   0  | IN->. if Pos:NNS@[-1] & Word:.@[0]\n",
      "  24  24   0   0  | IN->, if Pos:NNS@[-1] & Word:,@[0]\n",
      "  22  27   5  24  | NN->-NONE- if Pos:VBD@[-1]\n",
      "  17  17   0   0  | NN->CC if Pos:NN@[-1] & Word:and@[0]\n",
      "  17  17   0   3  | NNS->POS if Pos:NN@[-1] & Word:'s@[0]\n",
      "  16  16   0   6  | NN->VB if Pos:TO@[-1]\n",
      "  16  16   0   0  | IN->CC if Pos:NNS@[-1] & Word:and@[0]\n",
      "  15  15   0   0  | NN->-NONE- if Pos:NN@[-1] & Word:*U*@[0]\n",
      "  15  15   0   0  | NN->IN if Pos:NN@[-1] & Word:for@[0]\n",
      "  14  14   0   0  | NN->VBD if Pos:NN@[-1] & Word:said@[0]\n",
      "  13  13   0   0  | AT->DT if Pos:VBD@[-1]\n",
      "  12  12   0   0  | CD->-NONE- if Pos:VBD@[-1] & Word:0@[0]\n",
      "TBL train (fast) (seqs: 100; tokens: 2417; tpls: 2; min score: 2; min acc: None)\n",
      "Finding initial useful rules...\n",
      "    Found 845 useful rules.\n",
      "\n",
      "           B      |\n",
      "   S   F   r   O  |        Score = Fixed - Broken\n",
      "   c   i   o   t  |  R     Fixed = num tags changed incorrect -> correct\n",
      "   o   x   k   h  |  u     Broken = num tags changed correct -> incorrect\n",
      "   r   e   e   e  |  l     Other = num tags changed incorrect -> incorrect\n",
      "   e   d   n   r  |  e\n",
      "------------------+-------------------------------------------------------\n",
      " 132 132   0   0  | AT->DT if Pos:NN@[-1]\n",
      "  85  85   0   0  | NN->, if Pos:NN@[-1] & Word:,@[0]\n",
      "  69  69   0   0  | NN->. if Pos:NN@[-1] & Word:.@[0]\n",
      "  51  51   0   0  | NN->IN if Pos:NN@[-1] & Word:of@[0]\n",
      "  47  63  16 161  | NN->IN if Pos:NNS@[-1]\n",
      "  33  33   0   0  | NN->TO if Pos:NN@[-1] & Word:to@[0]\n",
      "  26  26   0   0  | IN->. if Pos:NNS@[-1] & Word:.@[0]\n",
      "  24  24   0   0  | IN->, if Pos:NNS@[-1] & Word:,@[0]\n",
      "  22  27   5  24  | NN->-NONE- if Pos:VBD@[-1]\n",
      "  17  17   0   0  | NN->CC if Pos:NN@[-1] & Word:and@[0]\n",
      "  17  17   0   3  | NNS->POS if Pos:NN@[-1] & Word:'s@[0]\n",
      "  16  16   0   6  | NN->VB if Pos:TO@[-1]\n",
      "  16  16   0   0  | IN->CC if Pos:NNS@[-1] & Word:and@[0]\n",
      "  15  15   0   0  | NN->-NONE- if Pos:NN@[-1] & Word:*U*@[0]\n",
      "  15  15   0   0  | NN->IN if Pos:NN@[-1] & Word:for@[0]\n",
      "  14  14   0   0  | NN->VBD if Pos:NN@[-1] & Word:said@[0]\n",
      "  13  13   0   0  | AT->DT if Pos:VBD@[-1]\n",
      "  12  12   0   0  | CD->-NONE- if Pos:VBD@[-1] & Word:0@[0]\n",
      "  10  10   0   0  | NN->IN if Pos:NN@[-1] & Word:from@[0]\n",
      "TBL train (fast) (seqs: 100; tokens: 2417; tpls: 2; min score: 2; min acc: None)\n",
      "Finding initial useful rules...\n",
      "    Found 845 useful rules.\n",
      "\n",
      "           B      |\n",
      "   S   F   r   O  |        Score = Fixed - Broken\n",
      "   c   i   o   t  |  R     Fixed = num tags changed incorrect -> correct\n",
      "   o   x   k   h  |  u     Broken = num tags changed correct -> incorrect\n",
      "   r   e   e   e  |  l     Other = num tags changed incorrect -> incorrect\n",
      "   e   d   n   r  |  e\n",
      "------------------+-------------------------------------------------------\n",
      " 132 132   0   0  | AT->DT if Pos:NN@[-1]\n",
      "  85  85   0   0  | NN->, if Pos:NN@[-1] & Word:,@[0]\n",
      "  69  69   0   0  | NN->. if Pos:NN@[-1] & Word:.@[0]\n",
      "  51  51   0   0  | NN->IN if Pos:NN@[-1] & Word:of@[0]\n",
      "  47  63  16 161  | NN->IN if Pos:NNS@[-1]\n",
      "  33  33   0   0  | NN->TO if Pos:NN@[-1] & Word:to@[0]\n",
      "  26  26   0   0  | IN->. if Pos:NNS@[-1] & Word:.@[0]\n",
      "  24  24   0   0  | IN->, if Pos:NNS@[-1] & Word:,@[0]\n",
      "  22  27   5  24  | NN->-NONE- if Pos:VBD@[-1]\n",
      "  17  17   0   0  | NN->CC if Pos:NN@[-1] & Word:and@[0]\n",
      "  17  17   0   3  | NNS->POS if Pos:NN@[-1] & Word:'s@[0]\n",
      "  16  16   0   6  | NN->VB if Pos:TO@[-1]\n",
      "  16  16   0   0  | IN->CC if Pos:NNS@[-1] & Word:and@[0]\n",
      "  15  15   0   0  | NN->-NONE- if Pos:NN@[-1] & Word:*U*@[0]\n",
      "  15  15   0   0  | NN->IN if Pos:NN@[-1] & Word:for@[0]\n",
      "  14  14   0   0  | NN->VBD if Pos:NN@[-1] & Word:said@[0]\n",
      "  13  13   0   0  | AT->DT if Pos:VBD@[-1]\n",
      "  12  12   0   0  | CD->-NONE- if Pos:VBD@[-1] & Word:0@[0]\n",
      "  10  10   0   0  | NN->IN if Pos:NN@[-1] & Word:from@[0]\n",
      "   9   9   0   0  | AT->DT if Pos:NNS@[-1]\n",
      "TBL train (fast) (seqs: 100; tokens: 2417; tpls: 2; min score: 2; min acc: None)\n",
      "Finding initial useful rules...\n",
      "    Found 845 useful rules.\n",
      "\n",
      "           B      |\n",
      "   S   F   r   O  |        Score = Fixed - Broken\n",
      "   c   i   o   t  |  R     Fixed = num tags changed incorrect -> correct\n",
      "   o   x   k   h  |  u     Broken = num tags changed correct -> incorrect\n",
      "   r   e   e   e  |  l     Other = num tags changed incorrect -> incorrect\n",
      "   e   d   n   r  |  e\n",
      "------------------+-------------------------------------------------------\n",
      " 132 132   0   0  | AT->DT if Pos:NN@[-1]\n",
      "  85  85   0   0  | NN->, if Pos:NN@[-1] & Word:,@[0]\n",
      "  69  69   0   0  | NN->. if Pos:NN@[-1] & Word:.@[0]\n",
      "  51  51   0   0  | NN->IN if Pos:NN@[-1] & Word:of@[0]\n",
      "  47  63  16 161  | NN->IN if Pos:NNS@[-1]\n",
      "  33  33   0   0  | NN->TO if Pos:NN@[-1] & Word:to@[0]\n",
      "  26  26   0   0  | IN->. if Pos:NNS@[-1] & Word:.@[0]\n",
      "  24  24   0   0  | IN->, if Pos:NNS@[-1] & Word:,@[0]\n",
      "  22  27   5  24  | NN->-NONE- if Pos:VBD@[-1]\n",
      "  17  17   0   0  | NN->CC if Pos:NN@[-1] & Word:and@[0]\n",
      "  17  17   0   3  | NNS->POS if Pos:NN@[-1] & Word:'s@[0]\n",
      "  16  16   0   6  | NN->VB if Pos:TO@[-1]\n",
      "  16  16   0   0  | IN->CC if Pos:NNS@[-1] & Word:and@[0]\n",
      "  15  15   0   0  | NN->-NONE- if Pos:NN@[-1] & Word:*U*@[0]\n",
      "  15  15   0   0  | NN->IN if Pos:NN@[-1] & Word:for@[0]\n",
      "  14  14   0   0  | NN->VBD if Pos:NN@[-1] & Word:said@[0]\n",
      "  13  13   0   0  | AT->DT if Pos:VBD@[-1]\n",
      "  12  12   0   0  | CD->-NONE- if Pos:VBD@[-1] & Word:0@[0]\n",
      "  10  10   0   0  | NN->IN if Pos:NN@[-1] & Word:from@[0]\n",
      "   9   9   0   0  | AT->DT if Pos:NNS@[-1]\n",
      "   9   9   0   0  | NN->$ if Pos:NN@[-1] & Word:$@[0]\n",
      "TBL train (fast) (seqs: 100; tokens: 2417; tpls: 2; min score: 2; min acc: None)\n",
      "Finding initial useful rules...\n",
      "    Found 845 useful rules.\n",
      "\n",
      "           B      |\n",
      "   S   F   r   O  |        Score = Fixed - Broken\n",
      "   c   i   o   t  |  R     Fixed = num tags changed incorrect -> correct\n",
      "   o   x   k   h  |  u     Broken = num tags changed correct -> incorrect\n",
      "   r   e   e   e  |  l     Other = num tags changed incorrect -> incorrect\n",
      "   e   d   n   r  |  e\n",
      "------------------+-------------------------------------------------------\n",
      " 132 132   0   0  | AT->DT if Pos:NN@[-1]\n",
      "  85  85   0   0  | NN->, if Pos:NN@[-1] & Word:,@[0]\n",
      "  69  69   0   0  | NN->. if Pos:NN@[-1] & Word:.@[0]\n",
      "  51  51   0   0  | NN->IN if Pos:NN@[-1] & Word:of@[0]\n",
      "  47  63  16 161  | NN->IN if Pos:NNS@[-1]\n",
      "  33  33   0   0  | NN->TO if Pos:NN@[-1] & Word:to@[0]\n",
      "  26  26   0   0  | IN->. if Pos:NNS@[-1] & Word:.@[0]\n",
      "  24  24   0   0  | IN->, if Pos:NNS@[-1] & Word:,@[0]\n",
      "  22  27   5  24  | NN->-NONE- if Pos:VBD@[-1]\n",
      "  17  17   0   0  | NN->CC if Pos:NN@[-1] & Word:and@[0]\n",
      "  17  17   0   3  | NNS->POS if Pos:NN@[-1] & Word:'s@[0]\n",
      "  16  16   0   6  | NN->VB if Pos:TO@[-1]\n",
      "  16  16   0   0  | IN->CC if Pos:NNS@[-1] & Word:and@[0]\n",
      "  15  15   0   0  | NN->-NONE- if Pos:NN@[-1] & Word:*U*@[0]\n",
      "  15  15   0   0  | NN->IN if Pos:NN@[-1] & Word:for@[0]\n",
      "  14  14   0   0  | NN->VBD if Pos:NN@[-1] & Word:said@[0]\n",
      "  13  13   0   0  | AT->DT if Pos:VBD@[-1]\n",
      "  12  12   0   0  | CD->-NONE- if Pos:VBD@[-1] & Word:0@[0]\n",
      "  10  10   0   0  | NN->IN if Pos:NN@[-1] & Word:from@[0]\n",
      "   9   9   0   0  | AT->DT if Pos:NNS@[-1]\n",
      "   9   9   0   0  | NN->$ if Pos:NN@[-1] & Word:$@[0]\n",
      "   8   8   0   2  | VBD->VBN if Pos:IN@[-1]\n",
      "TBL train (fast) (seqs: 100; tokens: 2417; tpls: 2; min score: 2; min acc: None)\n",
      "Finding initial useful rules...\n",
      "    Found 845 useful rules.\n",
      "\n",
      "           B      |\n",
      "   S   F   r   O  |        Score = Fixed - Broken\n",
      "   c   i   o   t  |  R     Fixed = num tags changed incorrect -> correct\n",
      "   o   x   k   h  |  u     Broken = num tags changed correct -> incorrect\n",
      "   r   e   e   e  |  l     Other = num tags changed incorrect -> incorrect\n",
      "   e   d   n   r  |  e\n",
      "------------------+-------------------------------------------------------\n",
      " 132 132   0   0  | AT->DT if Pos:NN@[-1]\n",
      "  85  85   0   0  | NN->, if Pos:NN@[-1] & Word:,@[0]\n",
      "  69  69   0   0  | NN->. if Pos:NN@[-1] & Word:.@[0]\n",
      "  51  51   0   0  | NN->IN if Pos:NN@[-1] & Word:of@[0]\n",
      "  47  63  16 161  | NN->IN if Pos:NNS@[-1]\n",
      "  33  33   0   0  | NN->TO if Pos:NN@[-1] & Word:to@[0]\n",
      "  26  26   0   0  | IN->. if Pos:NNS@[-1] & Word:.@[0]\n",
      "  24  24   0   0  | IN->, if Pos:NNS@[-1] & Word:,@[0]\n",
      "  22  27   5  24  | NN->-NONE- if Pos:VBD@[-1]\n",
      "  17  17   0   0  | NN->CC if Pos:NN@[-1] & Word:and@[0]\n",
      "  17  17   0   3  | NNS->POS if Pos:NN@[-1] & Word:'s@[0]\n",
      "  16  16   0   6  | NN->VB if Pos:TO@[-1]\n",
      "  16  16   0   0  | IN->CC if Pos:NNS@[-1] & Word:and@[0]\n",
      "  15  15   0   0  | NN->-NONE- if Pos:NN@[-1] & Word:*U*@[0]\n",
      "  15  15   0   0  | NN->IN if Pos:NN@[-1] & Word:for@[0]\n",
      "  14  14   0   0  | NN->VBD if Pos:NN@[-1] & Word:said@[0]\n",
      "  13  13   0   0  | AT->DT if Pos:VBD@[-1]\n",
      "  12  12   0   0  | CD->-NONE- if Pos:VBD@[-1] & Word:0@[0]\n",
      "  10  10   0   0  | NN->IN if Pos:NN@[-1] & Word:from@[0]\n",
      "   9   9   0   0  | AT->DT if Pos:NNS@[-1]\n",
      "   9   9   0   0  | NN->$ if Pos:NN@[-1] & Word:$@[0]\n",
      "   8   8   0   2  | VBD->VBN if Pos:IN@[-1]\n",
      "   8   8   0   0  | NN->-NONE- if Pos:NN@[-1] & Word:*@[0]\n",
      "TBL train (fast) (seqs: 100; tokens: 2417; tpls: 2; min score: 2; min acc: None)\n",
      "Finding initial useful rules...\n",
      "    Found 845 useful rules.\n",
      "\n",
      "           B      |\n",
      "   S   F   r   O  |        Score = Fixed - Broken\n",
      "   c   i   o   t  |  R     Fixed = num tags changed incorrect -> correct\n",
      "   o   x   k   h  |  u     Broken = num tags changed correct -> incorrect\n",
      "   r   e   e   e  |  l     Other = num tags changed incorrect -> incorrect\n",
      "   e   d   n   r  |  e\n",
      "------------------+-------------------------------------------------------\n",
      " 132 132   0   0  | AT->DT if Pos:NN@[-1]\n",
      "  85  85   0   0  | NN->, if Pos:NN@[-1] & Word:,@[0]\n",
      "  69  69   0   0  | NN->. if Pos:NN@[-1] & Word:.@[0]\n",
      "  51  51   0   0  | NN->IN if Pos:NN@[-1] & Word:of@[0]\n",
      "  47  63  16 161  | NN->IN if Pos:NNS@[-1]\n",
      "  33  33   0   0  | NN->TO if Pos:NN@[-1] & Word:to@[0]\n",
      "  26  26   0   0  | IN->. if Pos:NNS@[-1] & Word:.@[0]\n",
      "  24  24   0   0  | IN->, if Pos:NNS@[-1] & Word:,@[0]\n",
      "  22  27   5  24  | NN->-NONE- if Pos:VBD@[-1]\n",
      "  17  17   0   0  | NN->CC if Pos:NN@[-1] & Word:and@[0]\n",
      "  17  17   0   3  | NNS->POS if Pos:NN@[-1] & Word:'s@[0]\n",
      "  16  16   0   6  | NN->VB if Pos:TO@[-1]\n",
      "  16  16   0   0  | IN->CC if Pos:NNS@[-1] & Word:and@[0]\n",
      "  15  15   0   0  | NN->-NONE- if Pos:NN@[-1] & Word:*U*@[0]\n",
      "  15  15   0   0  | NN->IN if Pos:NN@[-1] & Word:for@[0]\n",
      "  14  14   0   0  | NN->VBD if Pos:NN@[-1] & Word:said@[0]\n",
      "  13  13   0   0  | AT->DT if Pos:VBD@[-1]\n",
      "  12  12   0   0  | CD->-NONE- if Pos:VBD@[-1] & Word:0@[0]\n",
      "  10  10   0   0  | NN->IN if Pos:NN@[-1] & Word:from@[0]\n",
      "   9   9   0   0  | AT->DT if Pos:NNS@[-1]\n",
      "   9   9   0   0  | NN->$ if Pos:NN@[-1] & Word:$@[0]\n",
      "   8   8   0   2  | VBD->VBN if Pos:IN@[-1]\n",
      "   8   8   0   0  | NN->-NONE- if Pos:NN@[-1] & Word:*@[0]\n",
      "   8  13   5  20  | NN->IN if Pos:-NONE-@[-1]\n",
      "TBL train (fast) (seqs: 100; tokens: 2417; tpls: 2; min score: 2; min acc: None)\n",
      "Finding initial useful rules...\n",
      "    Found 845 useful rules.\n",
      "\n",
      "           B      |\n",
      "   S   F   r   O  |        Score = Fixed - Broken\n",
      "   c   i   o   t  |  R     Fixed = num tags changed incorrect -> correct\n",
      "   o   x   k   h  |  u     Broken = num tags changed correct -> incorrect\n",
      "   r   e   e   e  |  l     Other = num tags changed incorrect -> incorrect\n",
      "   e   d   n   r  |  e\n",
      "------------------+-------------------------------------------------------\n",
      " 132 132   0   0  | AT->DT if Pos:NN@[-1]\n",
      "  85  85   0   0  | NN->, if Pos:NN@[-1] & Word:,@[0]\n",
      "  69  69   0   0  | NN->. if Pos:NN@[-1] & Word:.@[0]\n",
      "  51  51   0   0  | NN->IN if Pos:NN@[-1] & Word:of@[0]\n",
      "  47  63  16 161  | NN->IN if Pos:NNS@[-1]\n",
      "  33  33   0   0  | NN->TO if Pos:NN@[-1] & Word:to@[0]\n",
      "  26  26   0   0  | IN->. if Pos:NNS@[-1] & Word:.@[0]\n",
      "  24  24   0   0  | IN->, if Pos:NNS@[-1] & Word:,@[0]\n",
      "  22  27   5  24  | NN->-NONE- if Pos:VBD@[-1]\n",
      "  17  17   0   0  | NN->CC if Pos:NN@[-1] & Word:and@[0]\n",
      "  17  17   0   3  | NNS->POS if Pos:NN@[-1] & Word:'s@[0]\n",
      "  16  16   0   6  | NN->VB if Pos:TO@[-1]\n",
      "  16  16   0   0  | IN->CC if Pos:NNS@[-1] & Word:and@[0]\n",
      "  15  15   0   0  | NN->-NONE- if Pos:NN@[-1] & Word:*U*@[0]\n",
      "  15  15   0   0  | NN->IN if Pos:NN@[-1] & Word:for@[0]\n",
      "  14  14   0   0  | NN->VBD if Pos:NN@[-1] & Word:said@[0]\n",
      "  13  13   0   0  | AT->DT if Pos:VBD@[-1]\n",
      "  12  12   0   0  | CD->-NONE- if Pos:VBD@[-1] & Word:0@[0]\n",
      "  10  10   0   0  | NN->IN if Pos:NN@[-1] & Word:from@[0]\n",
      "   9   9   0   0  | AT->DT if Pos:NNS@[-1]\n",
      "   9   9   0   0  | NN->$ if Pos:NN@[-1] & Word:$@[0]\n",
      "   8   8   0   2  | VBD->VBN if Pos:IN@[-1]\n",
      "   8   8   0   0  | NN->-NONE- if Pos:NN@[-1] & Word:*@[0]\n",
      "   8  13   5  20  | NN->IN if Pos:-NONE-@[-1]\n",
      "   8   8   0   0  | NN->CD if Pos:CD@[-1] & Word:billion@[0]\n",
      "TBL train (fast) (seqs: 100; tokens: 2417; tpls: 2; min score: 2; min acc: None)\n",
      "Finding initial useful rules...\n",
      "    Found 845 useful rules.\n",
      "\n",
      "           B      |\n",
      "   S   F   r   O  |        Score = Fixed - Broken\n",
      "   c   i   o   t  |  R     Fixed = num tags changed incorrect -> correct\n",
      "   o   x   k   h  |  u     Broken = num tags changed correct -> incorrect\n",
      "   r   e   e   e  |  l     Other = num tags changed incorrect -> incorrect\n",
      "   e   d   n   r  |  e\n",
      "------------------+-------------------------------------------------------\n",
      " 132 132   0   0  | AT->DT if Pos:NN@[-1]\n",
      "  85  85   0   0  | NN->, if Pos:NN@[-1] & Word:,@[0]\n",
      "  69  69   0   0  | NN->. if Pos:NN@[-1] & Word:.@[0]\n",
      "  51  51   0   0  | NN->IN if Pos:NN@[-1] & Word:of@[0]\n",
      "  47  63  16 161  | NN->IN if Pos:NNS@[-1]\n",
      "  33  33   0   0  | NN->TO if Pos:NN@[-1] & Word:to@[0]\n",
      "  26  26   0   0  | IN->. if Pos:NNS@[-1] & Word:.@[0]\n",
      "  24  24   0   0  | IN->, if Pos:NNS@[-1] & Word:,@[0]\n",
      "  22  27   5  24  | NN->-NONE- if Pos:VBD@[-1]\n",
      "  17  17   0   0  | NN->CC if Pos:NN@[-1] & Word:and@[0]\n",
      "  17  17   0   3  | NNS->POS if Pos:NN@[-1] & Word:'s@[0]\n",
      "  16  16   0   6  | NN->VB if Pos:TO@[-1]\n",
      "  16  16   0   0  | IN->CC if Pos:NNS@[-1] & Word:and@[0]\n",
      "  15  15   0   0  | NN->-NONE- if Pos:NN@[-1] & Word:*U*@[0]\n",
      "  15  15   0   0  | NN->IN if Pos:NN@[-1] & Word:for@[0]\n",
      "  14  14   0   0  | NN->VBD if Pos:NN@[-1] & Word:said@[0]\n",
      "  13  13   0   0  | AT->DT if Pos:VBD@[-1]\n",
      "  12  12   0   0  | CD->-NONE- if Pos:VBD@[-1] & Word:0@[0]\n",
      "  10  10   0   0  | NN->IN if Pos:NN@[-1] & Word:from@[0]\n",
      "   9   9   0   0  | AT->DT if Pos:NNS@[-1]\n",
      "   9   9   0   0  | NN->$ if Pos:NN@[-1] & Word:$@[0]\n",
      "   8   8   0   2  | VBD->VBN if Pos:IN@[-1]\n",
      "   8   8   0   0  | NN->-NONE- if Pos:NN@[-1] & Word:*@[0]\n",
      "   8  13   5  20  | NN->IN if Pos:-NONE-@[-1]\n",
      "   8   8   0   0  | NN->CD if Pos:CD@[-1] & Word:billion@[0]\n",
      "   8   8   0   0  | NN->IN if Pos:NN@[-1] & Word:on@[0]\n",
      "TBL train (fast) (seqs: 100; tokens: 2417; tpls: 2; min score: 2; min acc: None)\n",
      "Finding initial useful rules...\n",
      "    Found 845 useful rules.\n",
      "\n",
      "           B      |\n",
      "   S   F   r   O  |        Score = Fixed - Broken\n",
      "   c   i   o   t  |  R     Fixed = num tags changed incorrect -> correct\n",
      "   o   x   k   h  |  u     Broken = num tags changed correct -> incorrect\n",
      "   r   e   e   e  |  l     Other = num tags changed incorrect -> incorrect\n",
      "   e   d   n   r  |  e\n",
      "------------------+-------------------------------------------------------\n",
      " 132 132   0   0  | AT->DT if Pos:NN@[-1]\n",
      "  85  85   0   0  | NN->, if Pos:NN@[-1] & Word:,@[0]\n",
      "  69  69   0   0  | NN->. if Pos:NN@[-1] & Word:.@[0]\n",
      "  51  51   0   0  | NN->IN if Pos:NN@[-1] & Word:of@[0]\n",
      "  47  63  16 161  | NN->IN if Pos:NNS@[-1]\n",
      "  33  33   0   0  | NN->TO if Pos:NN@[-1] & Word:to@[0]\n",
      "  26  26   0   0  | IN->. if Pos:NNS@[-1] & Word:.@[0]\n",
      "  24  24   0   0  | IN->, if Pos:NNS@[-1] & Word:,@[0]\n",
      "  22  27   5  24  | NN->-NONE- if Pos:VBD@[-1]\n",
      "  17  17   0   0  | NN->CC if Pos:NN@[-1] & Word:and@[0]\n",
      "  17  17   0   3  | NNS->POS if Pos:NN@[-1] & Word:'s@[0]\n",
      "  16  16   0   6  | NN->VB if Pos:TO@[-1]\n",
      "  16  16   0   0  | IN->CC if Pos:NNS@[-1] & Word:and@[0]\n",
      "  15  15   0   0  | NN->-NONE- if Pos:NN@[-1] & Word:*U*@[0]\n",
      "  15  15   0   0  | NN->IN if Pos:NN@[-1] & Word:for@[0]\n",
      "  14  14   0   0  | NN->VBD if Pos:NN@[-1] & Word:said@[0]\n",
      "  13  13   0   0  | AT->DT if Pos:VBD@[-1]\n",
      "  12  12   0   0  | CD->-NONE- if Pos:VBD@[-1] & Word:0@[0]\n",
      "  10  10   0   0  | NN->IN if Pos:NN@[-1] & Word:from@[0]\n",
      "   9   9   0   0  | AT->DT if Pos:NNS@[-1]\n",
      "   9   9   0   0  | NN->$ if Pos:NN@[-1] & Word:$@[0]\n",
      "   8   8   0   2  | VBD->VBN if Pos:IN@[-1]\n",
      "   8   8   0   0  | NN->-NONE- if Pos:NN@[-1] & Word:*@[0]\n",
      "   8  13   5  20  | NN->IN if Pos:-NONE-@[-1]\n",
      "   8   8   0   0  | NN->CD if Pos:CD@[-1] & Word:billion@[0]\n",
      "   8   8   0   0  | NN->IN if Pos:NN@[-1] & Word:on@[0]\n",
      "   8   8   0   0  | NN->IN if Pos:NN@[-1] & Word:with@[0]\n",
      "TBL train (fast) (seqs: 100; tokens: 2417; tpls: 2; min score: 2; min acc: None)\n",
      "Finding initial useful rules...\n",
      "    Found 845 useful rules.\n",
      "\n",
      "           B      |\n",
      "   S   F   r   O  |        Score = Fixed - Broken\n",
      "   c   i   o   t  |  R     Fixed = num tags changed incorrect -> correct\n",
      "   o   x   k   h  |  u     Broken = num tags changed correct -> incorrect\n",
      "   r   e   e   e  |  l     Other = num tags changed incorrect -> incorrect\n",
      "   e   d   n   r  |  e\n",
      "------------------+-------------------------------------------------------\n",
      " 132 132   0   0  | AT->DT if Pos:NN@[-1]\n",
      "  85  85   0   0  | NN->, if Pos:NN@[-1] & Word:,@[0]\n",
      "  69  69   0   0  | NN->. if Pos:NN@[-1] & Word:.@[0]\n",
      "  51  51   0   0  | NN->IN if Pos:NN@[-1] & Word:of@[0]\n",
      "  47  63  16 161  | NN->IN if Pos:NNS@[-1]\n",
      "  33  33   0   0  | NN->TO if Pos:NN@[-1] & Word:to@[0]\n",
      "  26  26   0   0  | IN->. if Pos:NNS@[-1] & Word:.@[0]\n",
      "  24  24   0   0  | IN->, if Pos:NNS@[-1] & Word:,@[0]\n",
      "  22  27   5  24  | NN->-NONE- if Pos:VBD@[-1]\n",
      "  17  17   0   0  | NN->CC if Pos:NN@[-1] & Word:and@[0]\n",
      "  17  17   0   3  | NNS->POS if Pos:NN@[-1] & Word:'s@[0]\n",
      "  16  16   0   6  | NN->VB if Pos:TO@[-1]\n",
      "  16  16   0   0  | IN->CC if Pos:NNS@[-1] & Word:and@[0]\n",
      "  15  15   0   0  | NN->-NONE- if Pos:NN@[-1] & Word:*U*@[0]\n",
      "  15  15   0   0  | NN->IN if Pos:NN@[-1] & Word:for@[0]\n",
      "  14  14   0   0  | NN->VBD if Pos:NN@[-1] & Word:said@[0]\n",
      "  13  13   0   0  | AT->DT if Pos:VBD@[-1]\n",
      "  12  12   0   0  | CD->-NONE- if Pos:VBD@[-1] & Word:0@[0]\n",
      "  10  10   0   0  | NN->IN if Pos:NN@[-1] & Word:from@[0]\n",
      "   9   9   0   0  | AT->DT if Pos:NNS@[-1]\n",
      "   9   9   0   0  | NN->$ if Pos:NN@[-1] & Word:$@[0]\n",
      "   8   8   0   2  | VBD->VBN if Pos:IN@[-1]\n",
      "   8   8   0   0  | NN->-NONE- if Pos:NN@[-1] & Word:*@[0]\n",
      "   8  13   5  20  | NN->IN if Pos:-NONE-@[-1]\n",
      "   8   8   0   0  | NN->CD if Pos:CD@[-1] & Word:billion@[0]\n",
      "   8   8   0   0  | NN->IN if Pos:NN@[-1] & Word:on@[0]\n",
      "   8   8   0   0  | NN->IN if Pos:NN@[-1] & Word:with@[0]\n",
      "   8   8   0   0  | NNS->VBZ if Pos:NN@[-1] & Word:is@[0]\n",
      "TBL train (fast) (seqs: 100; tokens: 2417; tpls: 2; min score: 2; min acc: None)\n",
      "Finding initial useful rules...\n",
      "    Found 845 useful rules.\n",
      "\n",
      "           B      |\n",
      "   S   F   r   O  |        Score = Fixed - Broken\n",
      "   c   i   o   t  |  R     Fixed = num tags changed incorrect -> correct\n",
      "   o   x   k   h  |  u     Broken = num tags changed correct -> incorrect\n",
      "   r   e   e   e  |  l     Other = num tags changed incorrect -> incorrect\n",
      "   e   d   n   r  |  e\n",
      "------------------+-------------------------------------------------------\n",
      " 132 132   0   0  | AT->DT if Pos:NN@[-1]\n",
      "  85  85   0   0  | NN->, if Pos:NN@[-1] & Word:,@[0]\n",
      "  69  69   0   0  | NN->. if Pos:NN@[-1] & Word:.@[0]\n",
      "  51  51   0   0  | NN->IN if Pos:NN@[-1] & Word:of@[0]\n",
      "  47  63  16 161  | NN->IN if Pos:NNS@[-1]\n",
      "  33  33   0   0  | NN->TO if Pos:NN@[-1] & Word:to@[0]\n",
      "  26  26   0   0  | IN->. if Pos:NNS@[-1] & Word:.@[0]\n",
      "  24  24   0   0  | IN->, if Pos:NNS@[-1] & Word:,@[0]\n",
      "  22  27   5  24  | NN->-NONE- if Pos:VBD@[-1]\n",
      "  17  17   0   0  | NN->CC if Pos:NN@[-1] & Word:and@[0]\n",
      "  17  17   0   3  | NNS->POS if Pos:NN@[-1] & Word:'s@[0]\n",
      "  16  16   0   6  | NN->VB if Pos:TO@[-1]\n",
      "  16  16   0   0  | IN->CC if Pos:NNS@[-1] & Word:and@[0]\n",
      "  15  15   0   0  | NN->-NONE- if Pos:NN@[-1] & Word:*U*@[0]\n",
      "  15  15   0   0  | NN->IN if Pos:NN@[-1] & Word:for@[0]\n",
      "  14  14   0   0  | NN->VBD if Pos:NN@[-1] & Word:said@[0]\n",
      "  13  13   0   0  | AT->DT if Pos:VBD@[-1]\n",
      "  12  12   0   0  | CD->-NONE- if Pos:VBD@[-1] & Word:0@[0]\n",
      "  10  10   0   0  | NN->IN if Pos:NN@[-1] & Word:from@[0]\n",
      "   9   9   0   0  | AT->DT if Pos:NNS@[-1]\n",
      "   9   9   0   0  | NN->$ if Pos:NN@[-1] & Word:$@[0]\n",
      "   8   8   0   2  | VBD->VBN if Pos:IN@[-1]\n",
      "   8   8   0   0  | NN->-NONE- if Pos:NN@[-1] & Word:*@[0]\n",
      "   8  13   5  20  | NN->IN if Pos:-NONE-@[-1]\n",
      "   8   8   0   0  | NN->CD if Pos:CD@[-1] & Word:billion@[0]\n",
      "   8   8   0   0  | NN->IN if Pos:NN@[-1] & Word:on@[0]\n",
      "   8   8   0   0  | NN->IN if Pos:NN@[-1] & Word:with@[0]\n",
      "   8   8   0   0  | NNS->VBZ if Pos:NN@[-1] & Word:is@[0]\n",
      "   7   7   0   7  | IN->NNP if Pos:POS@[-1]\n",
      "TBL train (fast) (seqs: 100; tokens: 2417; tpls: 2; min score: 2; min acc: None)\n",
      "Finding initial useful rules...\n",
      "    Found 845 useful rules.\n",
      "\n",
      "           B      |\n",
      "   S   F   r   O  |        Score = Fixed - Broken\n",
      "   c   i   o   t  |  R     Fixed = num tags changed incorrect -> correct\n",
      "   o   x   k   h  |  u     Broken = num tags changed correct -> incorrect\n",
      "   r   e   e   e  |  l     Other = num tags changed incorrect -> incorrect\n",
      "   e   d   n   r  |  e\n",
      "------------------+-------------------------------------------------------\n",
      " 132 132   0   0  | AT->DT if Pos:NN@[-1]\n",
      "  85  85   0   0  | NN->, if Pos:NN@[-1] & Word:,@[0]\n",
      "  69  69   0   0  | NN->. if Pos:NN@[-1] & Word:.@[0]\n",
      "  51  51   0   0  | NN->IN if Pos:NN@[-1] & Word:of@[0]\n",
      "  47  63  16 161  | NN->IN if Pos:NNS@[-1]\n",
      "  33  33   0   0  | NN->TO if Pos:NN@[-1] & Word:to@[0]\n",
      "  26  26   0   0  | IN->. if Pos:NNS@[-1] & Word:.@[0]\n",
      "  24  24   0   0  | IN->, if Pos:NNS@[-1] & Word:,@[0]\n",
      "  22  27   5  24  | NN->-NONE- if Pos:VBD@[-1]\n",
      "  17  17   0   0  | NN->CC if Pos:NN@[-1] & Word:and@[0]\n",
      "  17  17   0   3  | NNS->POS if Pos:NN@[-1] & Word:'s@[0]\n",
      "  16  16   0   6  | NN->VB if Pos:TO@[-1]\n",
      "  16  16   0   0  | IN->CC if Pos:NNS@[-1] & Word:and@[0]\n",
      "  15  15   0   0  | NN->-NONE- if Pos:NN@[-1] & Word:*U*@[0]\n",
      "  15  15   0   0  | NN->IN if Pos:NN@[-1] & Word:for@[0]\n",
      "  14  14   0   0  | NN->VBD if Pos:NN@[-1] & Word:said@[0]\n",
      "  13  13   0   0  | AT->DT if Pos:VBD@[-1]\n",
      "  12  12   0   0  | CD->-NONE- if Pos:VBD@[-1] & Word:0@[0]\n",
      "  10  10   0   0  | NN->IN if Pos:NN@[-1] & Word:from@[0]\n",
      "   9   9   0   0  | AT->DT if Pos:NNS@[-1]\n",
      "   9   9   0   0  | NN->$ if Pos:NN@[-1] & Word:$@[0]\n",
      "   8   8   0   2  | VBD->VBN if Pos:IN@[-1]\n",
      "   8   8   0   0  | NN->-NONE- if Pos:NN@[-1] & Word:*@[0]\n",
      "   8  13   5  20  | NN->IN if Pos:-NONE-@[-1]\n",
      "   8   8   0   0  | NN->CD if Pos:CD@[-1] & Word:billion@[0]\n",
      "   8   8   0   0  | NN->IN if Pos:NN@[-1] & Word:on@[0]\n",
      "   8   8   0   0  | NN->IN if Pos:NN@[-1] & Word:with@[0]\n",
      "   8   8   0   0  | NNS->VBZ if Pos:NN@[-1] & Word:is@[0]\n",
      "   7   7   0   7  | IN->NNP if Pos:POS@[-1]\n",
      "  10  34  24  79  | NN->NNP if Pos:IN@[-1]\n",
      "TBL train (fast) (seqs: 100; tokens: 2417; tpls: 2; min score: 2; min acc: None)\n",
      "Finding initial useful rules...\n",
      "    Found 845 useful rules.\n",
      "\n",
      "           B      |\n",
      "   S   F   r   O  |        Score = Fixed - Broken\n",
      "   c   i   o   t  |  R     Fixed = num tags changed incorrect -> correct\n",
      "   o   x   k   h  |  u     Broken = num tags changed correct -> incorrect\n",
      "   r   e   e   e  |  l     Other = num tags changed incorrect -> incorrect\n",
      "   e   d   n   r  |  e\n",
      "------------------+-------------------------------------------------------\n",
      " 132 132   0   0  | AT->DT if Pos:NN@[-1]\n",
      "  85  85   0   0  | NN->, if Pos:NN@[-1] & Word:,@[0]\n",
      "  69  69   0   0  | NN->. if Pos:NN@[-1] & Word:.@[0]\n",
      "  51  51   0   0  | NN->IN if Pos:NN@[-1] & Word:of@[0]\n",
      "  47  63  16 161  | NN->IN if Pos:NNS@[-1]\n",
      "  33  33   0   0  | NN->TO if Pos:NN@[-1] & Word:to@[0]\n",
      "  26  26   0   0  | IN->. if Pos:NNS@[-1] & Word:.@[0]\n",
      "  24  24   0   0  | IN->, if Pos:NNS@[-1] & Word:,@[0]\n",
      "  22  27   5  24  | NN->-NONE- if Pos:VBD@[-1]\n",
      "  17  17   0   0  | NN->CC if Pos:NN@[-1] & Word:and@[0]\n",
      "  17  17   0   3  | NNS->POS if Pos:NN@[-1] & Word:'s@[0]\n",
      "  16  16   0   6  | NN->VB if Pos:TO@[-1]\n",
      "  16  16   0   0  | IN->CC if Pos:NNS@[-1] & Word:and@[0]\n",
      "  15  15   0   0  | NN->-NONE- if Pos:NN@[-1] & Word:*U*@[0]\n",
      "  15  15   0   0  | NN->IN if Pos:NN@[-1] & Word:for@[0]\n",
      "  14  14   0   0  | NN->VBD if Pos:NN@[-1] & Word:said@[0]\n",
      "  13  13   0   0  | AT->DT if Pos:VBD@[-1]\n",
      "  12  12   0   0  | CD->-NONE- if Pos:VBD@[-1] & Word:0@[0]\n",
      "  10  10   0   0  | NN->IN if Pos:NN@[-1] & Word:from@[0]\n",
      "   9   9   0   0  | AT->DT if Pos:NNS@[-1]\n",
      "   9   9   0   0  | NN->$ if Pos:NN@[-1] & Word:$@[0]\n",
      "   8   8   0   2  | VBD->VBN if Pos:IN@[-1]\n",
      "   8   8   0   0  | NN->-NONE- if Pos:NN@[-1] & Word:*@[0]\n",
      "   8  13   5  20  | NN->IN if Pos:-NONE-@[-1]\n",
      "   8   8   0   0  | NN->CD if Pos:CD@[-1] & Word:billion@[0]\n",
      "   8   8   0   0  | NN->IN if Pos:NN@[-1] & Word:on@[0]\n",
      "   8   8   0   0  | NN->IN if Pos:NN@[-1] & Word:with@[0]\n",
      "   8   8   0   0  | NNS->VBZ if Pos:NN@[-1] & Word:is@[0]\n",
      "   7   7   0   7  | IN->NNP if Pos:POS@[-1]\n",
      "  10  34  24  79  | NN->NNP if Pos:IN@[-1]\n",
      "   6   6   0   0  | AT->DT if Pos:VBG@[-1]\n",
      "TBL train (fast) (seqs: 100; tokens: 2417; tpls: 2; min score: 2; min acc: None)\n",
      "Finding initial useful rules...\n",
      "    Found 845 useful rules.\n",
      "\n",
      "           B      |\n",
      "   S   F   r   O  |        Score = Fixed - Broken\n",
      "   c   i   o   t  |  R     Fixed = num tags changed incorrect -> correct\n",
      "   o   x   k   h  |  u     Broken = num tags changed correct -> incorrect\n",
      "   r   e   e   e  |  l     Other = num tags changed incorrect -> incorrect\n",
      "   e   d   n   r  |  e\n",
      "------------------+-------------------------------------------------------\n",
      " 132 132   0   0  | AT->DT if Pos:NN@[-1]\n",
      "  85  85   0   0  | NN->, if Pos:NN@[-1] & Word:,@[0]\n",
      "  69  69   0   0  | NN->. if Pos:NN@[-1] & Word:.@[0]\n",
      "  51  51   0   0  | NN->IN if Pos:NN@[-1] & Word:of@[0]\n",
      "  47  63  16 161  | NN->IN if Pos:NNS@[-1]\n",
      "  33  33   0   0  | NN->TO if Pos:NN@[-1] & Word:to@[0]\n",
      "  26  26   0   0  | IN->. if Pos:NNS@[-1] & Word:.@[0]\n",
      "  24  24   0   0  | IN->, if Pos:NNS@[-1] & Word:,@[0]\n",
      "  22  27   5  24  | NN->-NONE- if Pos:VBD@[-1]\n",
      "  17  17   0   0  | NN->CC if Pos:NN@[-1] & Word:and@[0]\n",
      "  17  17   0   3  | NNS->POS if Pos:NN@[-1] & Word:'s@[0]\n",
      "  16  16   0   6  | NN->VB if Pos:TO@[-1]\n",
      "  16  16   0   0  | IN->CC if Pos:NNS@[-1] & Word:and@[0]\n",
      "  15  15   0   0  | NN->-NONE- if Pos:NN@[-1] & Word:*U*@[0]\n",
      "  15  15   0   0  | NN->IN if Pos:NN@[-1] & Word:for@[0]\n",
      "  14  14   0   0  | NN->VBD if Pos:NN@[-1] & Word:said@[0]\n",
      "  13  13   0   0  | AT->DT if Pos:VBD@[-1]\n",
      "  12  12   0   0  | CD->-NONE- if Pos:VBD@[-1] & Word:0@[0]\n",
      "  10  10   0   0  | NN->IN if Pos:NN@[-1] & Word:from@[0]\n",
      "   9   9   0   0  | AT->DT if Pos:NNS@[-1]\n",
      "   9   9   0   0  | NN->$ if Pos:NN@[-1] & Word:$@[0]\n",
      "   8   8   0   2  | VBD->VBN if Pos:IN@[-1]\n",
      "   8   8   0   0  | NN->-NONE- if Pos:NN@[-1] & Word:*@[0]\n",
      "   8  13   5  20  | NN->IN if Pos:-NONE-@[-1]\n",
      "   8   8   0   0  | NN->CD if Pos:CD@[-1] & Word:billion@[0]\n",
      "   8   8   0   0  | NN->IN if Pos:NN@[-1] & Word:on@[0]\n",
      "   8   8   0   0  | NN->IN if Pos:NN@[-1] & Word:with@[0]\n",
      "   8   8   0   0  | NNS->VBZ if Pos:NN@[-1] & Word:is@[0]\n",
      "   7   7   0   7  | IN->NNP if Pos:POS@[-1]\n",
      "  10  34  24  79  | NN->NNP if Pos:IN@[-1]\n",
      "   6   6   0   0  | AT->DT if Pos:VBG@[-1]\n",
      "   6   6   0   0  | IN->VBP if Pos:NNS@[-1] & Word:are@[0]\n",
      "TBL train (fast) (seqs: 100; tokens: 2417; tpls: 2; min score: 2; min acc: None)\n",
      "Finding initial useful rules...\n",
      "    Found 845 useful rules.\n",
      "\n",
      "           B      |\n",
      "   S   F   r   O  |        Score = Fixed - Broken\n",
      "   c   i   o   t  |  R     Fixed = num tags changed incorrect -> correct\n",
      "   o   x   k   h  |  u     Broken = num tags changed correct -> incorrect\n",
      "   r   e   e   e  |  l     Other = num tags changed incorrect -> incorrect\n",
      "   e   d   n   r  |  e\n",
      "------------------+-------------------------------------------------------\n",
      " 132 132   0   0  | AT->DT if Pos:NN@[-1]\n",
      "  85  85   0   0  | NN->, if Pos:NN@[-1] & Word:,@[0]\n",
      "  69  69   0   0  | NN->. if Pos:NN@[-1] & Word:.@[0]\n",
      "  51  51   0   0  | NN->IN if Pos:NN@[-1] & Word:of@[0]\n",
      "  47  63  16 161  | NN->IN if Pos:NNS@[-1]\n",
      "  33  33   0   0  | NN->TO if Pos:NN@[-1] & Word:to@[0]\n",
      "  26  26   0   0  | IN->. if Pos:NNS@[-1] & Word:.@[0]\n",
      "  24  24   0   0  | IN->, if Pos:NNS@[-1] & Word:,@[0]\n",
      "  22  27   5  24  | NN->-NONE- if Pos:VBD@[-1]\n",
      "  17  17   0   0  | NN->CC if Pos:NN@[-1] & Word:and@[0]\n",
      "  17  17   0   3  | NNS->POS if Pos:NN@[-1] & Word:'s@[0]\n",
      "  16  16   0   6  | NN->VB if Pos:TO@[-1]\n",
      "  16  16   0   0  | IN->CC if Pos:NNS@[-1] & Word:and@[0]\n",
      "  15  15   0   0  | NN->-NONE- if Pos:NN@[-1] & Word:*U*@[0]\n",
      "  15  15   0   0  | NN->IN if Pos:NN@[-1] & Word:for@[0]\n",
      "  14  14   0   0  | NN->VBD if Pos:NN@[-1] & Word:said@[0]\n",
      "  13  13   0   0  | AT->DT if Pos:VBD@[-1]\n",
      "  12  12   0   0  | CD->-NONE- if Pos:VBD@[-1] & Word:0@[0]\n",
      "  10  10   0   0  | NN->IN if Pos:NN@[-1] & Word:from@[0]\n",
      "   9   9   0   0  | AT->DT if Pos:NNS@[-1]\n",
      "   9   9   0   0  | NN->$ if Pos:NN@[-1] & Word:$@[0]\n",
      "   8   8   0   2  | VBD->VBN if Pos:IN@[-1]\n",
      "   8   8   0   0  | NN->-NONE- if Pos:NN@[-1] & Word:*@[0]\n",
      "   8  13   5  20  | NN->IN if Pos:-NONE-@[-1]\n",
      "   8   8   0   0  | NN->CD if Pos:CD@[-1] & Word:billion@[0]\n",
      "   8   8   0   0  | NN->IN if Pos:NN@[-1] & Word:on@[0]\n",
      "   8   8   0   0  | NN->IN if Pos:NN@[-1] & Word:with@[0]\n",
      "   8   8   0   0  | NNS->VBZ if Pos:NN@[-1] & Word:is@[0]\n",
      "   7   7   0   7  | IN->NNP if Pos:POS@[-1]\n",
      "  10  34  24  79  | NN->NNP if Pos:IN@[-1]\n",
      "   6   6   0   0  | AT->DT if Pos:VBG@[-1]\n",
      "   6   6   0   0  | IN->VBP if Pos:NNS@[-1] & Word:are@[0]\n",
      "   6   6   0   0  | NN->-NONE- if Pos:NN@[-1] & Word:*T*-1@[0]\n",
      "TBL train (fast) (seqs: 100; tokens: 2417; tpls: 2; min score: 2; min acc: None)\n",
      "Finding initial useful rules...\n",
      "    Found 845 useful rules.\n",
      "\n",
      "           B      |\n",
      "   S   F   r   O  |        Score = Fixed - Broken\n",
      "   c   i   o   t  |  R     Fixed = num tags changed incorrect -> correct\n",
      "   o   x   k   h  |  u     Broken = num tags changed correct -> incorrect\n",
      "   r   e   e   e  |  l     Other = num tags changed incorrect -> incorrect\n",
      "   e   d   n   r  |  e\n",
      "------------------+-------------------------------------------------------\n",
      " 132 132   0   0  | AT->DT if Pos:NN@[-1]\n",
      "  85  85   0   0  | NN->, if Pos:NN@[-1] & Word:,@[0]\n",
      "  69  69   0   0  | NN->. if Pos:NN@[-1] & Word:.@[0]\n",
      "  51  51   0   0  | NN->IN if Pos:NN@[-1] & Word:of@[0]\n",
      "  47  63  16 161  | NN->IN if Pos:NNS@[-1]\n",
      "  33  33   0   0  | NN->TO if Pos:NN@[-1] & Word:to@[0]\n",
      "  26  26   0   0  | IN->. if Pos:NNS@[-1] & Word:.@[0]\n",
      "  24  24   0   0  | IN->, if Pos:NNS@[-1] & Word:,@[0]\n",
      "  22  27   5  24  | NN->-NONE- if Pos:VBD@[-1]\n",
      "  17  17   0   0  | NN->CC if Pos:NN@[-1] & Word:and@[0]\n",
      "  17  17   0   3  | NNS->POS if Pos:NN@[-1] & Word:'s@[0]\n",
      "  16  16   0   6  | NN->VB if Pos:TO@[-1]\n",
      "  16  16   0   0  | IN->CC if Pos:NNS@[-1] & Word:and@[0]\n",
      "  15  15   0   0  | NN->-NONE- if Pos:NN@[-1] & Word:*U*@[0]\n",
      "  15  15   0   0  | NN->IN if Pos:NN@[-1] & Word:for@[0]\n",
      "  14  14   0   0  | NN->VBD if Pos:NN@[-1] & Word:said@[0]\n",
      "  13  13   0   0  | AT->DT if Pos:VBD@[-1]\n",
      "  12  12   0   0  | CD->-NONE- if Pos:VBD@[-1] & Word:0@[0]\n",
      "  10  10   0   0  | NN->IN if Pos:NN@[-1] & Word:from@[0]\n",
      "   9   9   0   0  | AT->DT if Pos:NNS@[-1]\n",
      "   9   9   0   0  | NN->$ if Pos:NN@[-1] & Word:$@[0]\n",
      "   8   8   0   2  | VBD->VBN if Pos:IN@[-1]\n",
      "   8   8   0   0  | NN->-NONE- if Pos:NN@[-1] & Word:*@[0]\n",
      "   8  13   5  20  | NN->IN if Pos:-NONE-@[-1]\n",
      "   8   8   0   0  | NN->CD if Pos:CD@[-1] & Word:billion@[0]\n",
      "   8   8   0   0  | NN->IN if Pos:NN@[-1] & Word:on@[0]\n",
      "   8   8   0   0  | NN->IN if Pos:NN@[-1] & Word:with@[0]\n",
      "   8   8   0   0  | NNS->VBZ if Pos:NN@[-1] & Word:is@[0]\n",
      "   7   7   0   7  | IN->NNP if Pos:POS@[-1]\n",
      "  10  34  24  79  | NN->NNP if Pos:IN@[-1]\n",
      "   6   6   0   0  | AT->DT if Pos:VBG@[-1]\n",
      "   6   6   0   0  | IN->VBP if Pos:NNS@[-1] & Word:are@[0]\n",
      "   6   6   0   0  | NN->-NONE- if Pos:NN@[-1] & Word:*T*-1@[0]\n",
      "   6   6   0   0  | NNS->NN if Pos:IN@[-1] & Word:asbestos@[0]\n",
      "TBL train (fast) (seqs: 100; tokens: 2417; tpls: 2; min score: 2; min acc: None)\n",
      "Finding initial useful rules...\n",
      "    Found 845 useful rules.\n",
      "\n",
      "           B      |\n",
      "   S   F   r   O  |        Score = Fixed - Broken\n",
      "   c   i   o   t  |  R     Fixed = num tags changed incorrect -> correct\n",
      "   o   x   k   h  |  u     Broken = num tags changed correct -> incorrect\n",
      "   r   e   e   e  |  l     Other = num tags changed incorrect -> incorrect\n",
      "   e   d   n   r  |  e\n",
      "------------------+-------------------------------------------------------\n",
      " 132 132   0   0  | AT->DT if Pos:NN@[-1]\n",
      "  85  85   0   0  | NN->, if Pos:NN@[-1] & Word:,@[0]\n",
      "  69  69   0   0  | NN->. if Pos:NN@[-1] & Word:.@[0]\n",
      "  51  51   0   0  | NN->IN if Pos:NN@[-1] & Word:of@[0]\n",
      "  47  63  16 161  | NN->IN if Pos:NNS@[-1]\n",
      "  33  33   0   0  | NN->TO if Pos:NN@[-1] & Word:to@[0]\n",
      "  26  26   0   0  | IN->. if Pos:NNS@[-1] & Word:.@[0]\n",
      "  24  24   0   0  | IN->, if Pos:NNS@[-1] & Word:,@[0]\n",
      "  22  27   5  24  | NN->-NONE- if Pos:VBD@[-1]\n",
      "  17  17   0   0  | NN->CC if Pos:NN@[-1] & Word:and@[0]\n",
      "  17  17   0   3  | NNS->POS if Pos:NN@[-1] & Word:'s@[0]\n",
      "  16  16   0   6  | NN->VB if Pos:TO@[-1]\n",
      "  16  16   0   0  | IN->CC if Pos:NNS@[-1] & Word:and@[0]\n",
      "  15  15   0   0  | NN->-NONE- if Pos:NN@[-1] & Word:*U*@[0]\n",
      "  15  15   0   0  | NN->IN if Pos:NN@[-1] & Word:for@[0]\n",
      "  14  14   0   0  | NN->VBD if Pos:NN@[-1] & Word:said@[0]\n",
      "  13  13   0   0  | AT->DT if Pos:VBD@[-1]\n",
      "  12  12   0   0  | CD->-NONE- if Pos:VBD@[-1] & Word:0@[0]\n",
      "  10  10   0   0  | NN->IN if Pos:NN@[-1] & Word:from@[0]\n",
      "   9   9   0   0  | AT->DT if Pos:NNS@[-1]\n",
      "   9   9   0   0  | NN->$ if Pos:NN@[-1] & Word:$@[0]\n",
      "   8   8   0   2  | VBD->VBN if Pos:IN@[-1]\n",
      "   8   8   0   0  | NN->-NONE- if Pos:NN@[-1] & Word:*@[0]\n",
      "   8  13   5  20  | NN->IN if Pos:-NONE-@[-1]\n",
      "   8   8   0   0  | NN->CD if Pos:CD@[-1] & Word:billion@[0]\n",
      "   8   8   0   0  | NN->IN if Pos:NN@[-1] & Word:on@[0]\n",
      "   8   8   0   0  | NN->IN if Pos:NN@[-1] & Word:with@[0]\n",
      "   8   8   0   0  | NNS->VBZ if Pos:NN@[-1] & Word:is@[0]\n",
      "   7   7   0   7  | IN->NNP if Pos:POS@[-1]\n",
      "  10  34  24  79  | NN->NNP if Pos:IN@[-1]\n",
      "   6   6   0   0  | AT->DT if Pos:VBG@[-1]\n",
      "   6   6   0   0  | IN->VBP if Pos:NNS@[-1] & Word:are@[0]\n",
      "   6   6   0   0  | NN->-NONE- if Pos:NN@[-1] & Word:*T*-1@[0]\n",
      "   6   6   0   0  | NNS->NN if Pos:IN@[-1] & Word:asbestos@[0]\n",
      "   5   5   0   0  | IN->-NONE- if Pos:-NONE-@[-1] & Word:*T*-1@[0]\n",
      "TBL train (fast) (seqs: 100; tokens: 2417; tpls: 2; min score: 2; min acc: None)\n",
      "Finding initial useful rules...\n",
      "    Found 845 useful rules.\n",
      "\n",
      "           B      |\n",
      "   S   F   r   O  |        Score = Fixed - Broken\n",
      "   c   i   o   t  |  R     Fixed = num tags changed incorrect -> correct\n",
      "   o   x   k   h  |  u     Broken = num tags changed correct -> incorrect\n",
      "   r   e   e   e  |  l     Other = num tags changed incorrect -> incorrect\n",
      "   e   d   n   r  |  e\n",
      "------------------+-------------------------------------------------------\n",
      " 132 132   0   0  | AT->DT if Pos:NN@[-1]\n",
      "  85  85   0   0  | NN->, if Pos:NN@[-1] & Word:,@[0]\n",
      "  69  69   0   0  | NN->. if Pos:NN@[-1] & Word:.@[0]\n",
      "  51  51   0   0  | NN->IN if Pos:NN@[-1] & Word:of@[0]\n",
      "  47  63  16 161  | NN->IN if Pos:NNS@[-1]\n",
      "  33  33   0   0  | NN->TO if Pos:NN@[-1] & Word:to@[0]\n",
      "  26  26   0   0  | IN->. if Pos:NNS@[-1] & Word:.@[0]\n",
      "  24  24   0   0  | IN->, if Pos:NNS@[-1] & Word:,@[0]\n",
      "  22  27   5  24  | NN->-NONE- if Pos:VBD@[-1]\n",
      "  17  17   0   0  | NN->CC if Pos:NN@[-1] & Word:and@[0]\n",
      "  17  17   0   3  | NNS->POS if Pos:NN@[-1] & Word:'s@[0]\n",
      "  16  16   0   6  | NN->VB if Pos:TO@[-1]\n",
      "  16  16   0   0  | IN->CC if Pos:NNS@[-1] & Word:and@[0]\n",
      "  15  15   0   0  | NN->-NONE- if Pos:NN@[-1] & Word:*U*@[0]\n",
      "  15  15   0   0  | NN->IN if Pos:NN@[-1] & Word:for@[0]\n",
      "  14  14   0   0  | NN->VBD if Pos:NN@[-1] & Word:said@[0]\n",
      "  13  13   0   0  | AT->DT if Pos:VBD@[-1]\n",
      "  12  12   0   0  | CD->-NONE- if Pos:VBD@[-1] & Word:0@[0]\n",
      "  10  10   0   0  | NN->IN if Pos:NN@[-1] & Word:from@[0]\n",
      "   9   9   0   0  | AT->DT if Pos:NNS@[-1]\n",
      "   9   9   0   0  | NN->$ if Pos:NN@[-1] & Word:$@[0]\n",
      "   8   8   0   2  | VBD->VBN if Pos:IN@[-1]\n",
      "   8   8   0   0  | NN->-NONE- if Pos:NN@[-1] & Word:*@[0]\n",
      "   8  13   5  20  | NN->IN if Pos:-NONE-@[-1]\n",
      "   8   8   0   0  | NN->CD if Pos:CD@[-1] & Word:billion@[0]\n",
      "   8   8   0   0  | NN->IN if Pos:NN@[-1] & Word:on@[0]\n",
      "   8   8   0   0  | NN->IN if Pos:NN@[-1] & Word:with@[0]\n",
      "   8   8   0   0  | NNS->VBZ if Pos:NN@[-1] & Word:is@[0]\n",
      "   7   7   0   7  | IN->NNP if Pos:POS@[-1]\n",
      "  10  34  24  79  | NN->NNP if Pos:IN@[-1]\n",
      "   6   6   0   0  | AT->DT if Pos:VBG@[-1]\n",
      "   6   6   0   0  | IN->VBP if Pos:NNS@[-1] & Word:are@[0]\n",
      "   6   6   0   0  | NN->-NONE- if Pos:NN@[-1] & Word:*T*-1@[0]\n",
      "   6   6   0   0  | NNS->NN if Pos:IN@[-1] & Word:asbestos@[0]\n",
      "   5   5   0   0  | IN->-NONE- if Pos:-NONE-@[-1] & Word:*T*-1@[0]\n",
      "   5   5   0   0  | IN->VBD if Pos:NNS@[-1] & Word:were@[0]\n",
      "TBL train (fast) (seqs: 100; tokens: 2417; tpls: 2; min score: 2; min acc: None)\n",
      "Finding initial useful rules...\n",
      "    Found 845 useful rules.\n",
      "\n",
      "           B      |\n",
      "   S   F   r   O  |        Score = Fixed - Broken\n",
      "   c   i   o   t  |  R     Fixed = num tags changed incorrect -> correct\n",
      "   o   x   k   h  |  u     Broken = num tags changed correct -> incorrect\n",
      "   r   e   e   e  |  l     Other = num tags changed incorrect -> incorrect\n",
      "   e   d   n   r  |  e\n",
      "------------------+-------------------------------------------------------\n",
      " 132 132   0   0  | AT->DT if Pos:NN@[-1]\n",
      "  85  85   0   0  | NN->, if Pos:NN@[-1] & Word:,@[0]\n",
      "  69  69   0   0  | NN->. if Pos:NN@[-1] & Word:.@[0]\n",
      "  51  51   0   0  | NN->IN if Pos:NN@[-1] & Word:of@[0]\n",
      "  47  63  16 161  | NN->IN if Pos:NNS@[-1]\n",
      "  33  33   0   0  | NN->TO if Pos:NN@[-1] & Word:to@[0]\n",
      "  26  26   0   0  | IN->. if Pos:NNS@[-1] & Word:.@[0]\n",
      "  24  24   0   0  | IN->, if Pos:NNS@[-1] & Word:,@[0]\n",
      "  22  27   5  24  | NN->-NONE- if Pos:VBD@[-1]\n",
      "  17  17   0   0  | NN->CC if Pos:NN@[-1] & Word:and@[0]\n",
      "  17  17   0   3  | NNS->POS if Pos:NN@[-1] & Word:'s@[0]\n",
      "  16  16   0   6  | NN->VB if Pos:TO@[-1]\n",
      "  16  16   0   0  | IN->CC if Pos:NNS@[-1] & Word:and@[0]\n",
      "  15  15   0   0  | NN->-NONE- if Pos:NN@[-1] & Word:*U*@[0]\n",
      "  15  15   0   0  | NN->IN if Pos:NN@[-1] & Word:for@[0]\n",
      "  14  14   0   0  | NN->VBD if Pos:NN@[-1] & Word:said@[0]\n",
      "  13  13   0   0  | AT->DT if Pos:VBD@[-1]\n",
      "  12  12   0   0  | CD->-NONE- if Pos:VBD@[-1] & Word:0@[0]\n",
      "  10  10   0   0  | NN->IN if Pos:NN@[-1] & Word:from@[0]\n",
      "   9   9   0   0  | AT->DT if Pos:NNS@[-1]\n",
      "   9   9   0   0  | NN->$ if Pos:NN@[-1] & Word:$@[0]\n",
      "   8   8   0   2  | VBD->VBN if Pos:IN@[-1]\n",
      "   8   8   0   0  | NN->-NONE- if Pos:NN@[-1] & Word:*@[0]\n",
      "   8  13   5  20  | NN->IN if Pos:-NONE-@[-1]\n",
      "   8   8   0   0  | NN->CD if Pos:CD@[-1] & Word:billion@[0]\n",
      "   8   8   0   0  | NN->IN if Pos:NN@[-1] & Word:on@[0]\n",
      "   8   8   0   0  | NN->IN if Pos:NN@[-1] & Word:with@[0]\n",
      "   8   8   0   0  | NNS->VBZ if Pos:NN@[-1] & Word:is@[0]\n",
      "   7   7   0   7  | IN->NNP if Pos:POS@[-1]\n",
      "  10  34  24  79  | NN->NNP if Pos:IN@[-1]\n",
      "   6   6   0   0  | AT->DT if Pos:VBG@[-1]\n",
      "   6   6   0   0  | IN->VBP if Pos:NNS@[-1] & Word:are@[0]\n",
      "   6   6   0   0  | NN->-NONE- if Pos:NN@[-1] & Word:*T*-1@[0]\n",
      "   6   6   0   0  | NNS->NN if Pos:IN@[-1] & Word:asbestos@[0]\n",
      "   5   5   0   0  | IN->-NONE- if Pos:-NONE-@[-1] & Word:*T*-1@[0]\n",
      "   5   5   0   0  | IN->VBD if Pos:NNS@[-1] & Word:were@[0]\n",
      "   5   5   0   0  | NN->CD if Pos:CD@[-1] & Word:million@[0]\n",
      "TBL train (fast) (seqs: 100; tokens: 2417; tpls: 2; min score: 2; min acc: None)\n",
      "Finding initial useful rules...\n",
      "    Found 845 useful rules.\n",
      "\n",
      "           B      |\n",
      "   S   F   r   O  |        Score = Fixed - Broken\n",
      "   c   i   o   t  |  R     Fixed = num tags changed incorrect -> correct\n",
      "   o   x   k   h  |  u     Broken = num tags changed correct -> incorrect\n",
      "   r   e   e   e  |  l     Other = num tags changed incorrect -> incorrect\n",
      "   e   d   n   r  |  e\n",
      "------------------+-------------------------------------------------------\n",
      " 132 132   0   0  | AT->DT if Pos:NN@[-1]\n",
      "  85  85   0   0  | NN->, if Pos:NN@[-1] & Word:,@[0]\n",
      "  69  69   0   0  | NN->. if Pos:NN@[-1] & Word:.@[0]\n",
      "  51  51   0   0  | NN->IN if Pos:NN@[-1] & Word:of@[0]\n",
      "  47  63  16 161  | NN->IN if Pos:NNS@[-1]\n",
      "  33  33   0   0  | NN->TO if Pos:NN@[-1] & Word:to@[0]\n",
      "  26  26   0   0  | IN->. if Pos:NNS@[-1] & Word:.@[0]\n",
      "  24  24   0   0  | IN->, if Pos:NNS@[-1] & Word:,@[0]\n",
      "  22  27   5  24  | NN->-NONE- if Pos:VBD@[-1]\n",
      "  17  17   0   0  | NN->CC if Pos:NN@[-1] & Word:and@[0]\n",
      "  17  17   0   3  | NNS->POS if Pos:NN@[-1] & Word:'s@[0]\n",
      "  16  16   0   6  | NN->VB if Pos:TO@[-1]\n",
      "  16  16   0   0  | IN->CC if Pos:NNS@[-1] & Word:and@[0]\n",
      "  15  15   0   0  | NN->-NONE- if Pos:NN@[-1] & Word:*U*@[0]\n",
      "  15  15   0   0  | NN->IN if Pos:NN@[-1] & Word:for@[0]\n",
      "  14  14   0   0  | NN->VBD if Pos:NN@[-1] & Word:said@[0]\n",
      "  13  13   0   0  | AT->DT if Pos:VBD@[-1]\n",
      "  12  12   0   0  | CD->-NONE- if Pos:VBD@[-1] & Word:0@[0]\n",
      "  10  10   0   0  | NN->IN if Pos:NN@[-1] & Word:from@[0]\n",
      "   9   9   0   0  | AT->DT if Pos:NNS@[-1]\n",
      "   9   9   0   0  | NN->$ if Pos:NN@[-1] & Word:$@[0]\n",
      "   8   8   0   2  | VBD->VBN if Pos:IN@[-1]\n",
      "   8   8   0   0  | NN->-NONE- if Pos:NN@[-1] & Word:*@[0]\n",
      "   8  13   5  20  | NN->IN if Pos:-NONE-@[-1]\n",
      "   8   8   0   0  | NN->CD if Pos:CD@[-1] & Word:billion@[0]\n",
      "   8   8   0   0  | NN->IN if Pos:NN@[-1] & Word:on@[0]\n",
      "   8   8   0   0  | NN->IN if Pos:NN@[-1] & Word:with@[0]\n",
      "   8   8   0   0  | NNS->VBZ if Pos:NN@[-1] & Word:is@[0]\n",
      "   7   7   0   7  | IN->NNP if Pos:POS@[-1]\n",
      "  10  34  24  79  | NN->NNP if Pos:IN@[-1]\n",
      "   6   6   0   0  | AT->DT if Pos:VBG@[-1]\n",
      "   6   6   0   0  | IN->VBP if Pos:NNS@[-1] & Word:are@[0]\n",
      "   6   6   0   0  | NN->-NONE- if Pos:NN@[-1] & Word:*T*-1@[0]\n",
      "   6   6   0   0  | NNS->NN if Pos:IN@[-1] & Word:asbestos@[0]\n",
      "   5   5   0   0  | IN->-NONE- if Pos:-NONE-@[-1] & Word:*T*-1@[0]\n",
      "   5   5   0   0  | IN->VBD if Pos:NNS@[-1] & Word:were@[0]\n",
      "   5   5   0   0  | NN->CD if Pos:CD@[-1] & Word:million@[0]\n",
      "   5   5   0   0  | NNP->$ if Pos:IN@[-1] & Word:$@[0]\n",
      "TBL train (fast) (seqs: 100; tokens: 2417; tpls: 2; min score: 2; min acc: None)\n",
      "Finding initial useful rules...\n",
      "    Found 845 useful rules.\n",
      "\n",
      "           B      |\n",
      "   S   F   r   O  |        Score = Fixed - Broken\n",
      "   c   i   o   t  |  R     Fixed = num tags changed incorrect -> correct\n",
      "   o   x   k   h  |  u     Broken = num tags changed correct -> incorrect\n",
      "   r   e   e   e  |  l     Other = num tags changed incorrect -> incorrect\n",
      "   e   d   n   r  |  e\n",
      "------------------+-------------------------------------------------------\n",
      " 132 132   0   0  | AT->DT if Pos:NN@[-1]\n",
      "  85  85   0   0  | NN->, if Pos:NN@[-1] & Word:,@[0]\n",
      "  69  69   0   0  | NN->. if Pos:NN@[-1] & Word:.@[0]\n",
      "  51  51   0   0  | NN->IN if Pos:NN@[-1] & Word:of@[0]\n",
      "  47  63  16 161  | NN->IN if Pos:NNS@[-1]\n",
      "  33  33   0   0  | NN->TO if Pos:NN@[-1] & Word:to@[0]\n",
      "  26  26   0   0  | IN->. if Pos:NNS@[-1] & Word:.@[0]\n",
      "  24  24   0   0  | IN->, if Pos:NNS@[-1] & Word:,@[0]\n",
      "  22  27   5  24  | NN->-NONE- if Pos:VBD@[-1]\n",
      "  17  17   0   0  | NN->CC if Pos:NN@[-1] & Word:and@[0]\n",
      "  17  17   0   3  | NNS->POS if Pos:NN@[-1] & Word:'s@[0]\n",
      "  16  16   0   6  | NN->VB if Pos:TO@[-1]\n",
      "  16  16   0   0  | IN->CC if Pos:NNS@[-1] & Word:and@[0]\n",
      "  15  15   0   0  | NN->-NONE- if Pos:NN@[-1] & Word:*U*@[0]\n",
      "  15  15   0   0  | NN->IN if Pos:NN@[-1] & Word:for@[0]\n",
      "  14  14   0   0  | NN->VBD if Pos:NN@[-1] & Word:said@[0]\n",
      "  13  13   0   0  | AT->DT if Pos:VBD@[-1]\n",
      "  12  12   0   0  | CD->-NONE- if Pos:VBD@[-1] & Word:0@[0]\n",
      "  10  10   0   0  | NN->IN if Pos:NN@[-1] & Word:from@[0]\n",
      "   9   9   0   0  | AT->DT if Pos:NNS@[-1]\n",
      "   9   9   0   0  | NN->$ if Pos:NN@[-1] & Word:$@[0]\n",
      "   8   8   0   2  | VBD->VBN if Pos:IN@[-1]\n",
      "   8   8   0   0  | NN->-NONE- if Pos:NN@[-1] & Word:*@[0]\n",
      "   8  13   5  20  | NN->IN if Pos:-NONE-@[-1]\n",
      "   8   8   0   0  | NN->CD if Pos:CD@[-1] & Word:billion@[0]\n",
      "   8   8   0   0  | NN->IN if Pos:NN@[-1] & Word:on@[0]\n",
      "   8   8   0   0  | NN->IN if Pos:NN@[-1] & Word:with@[0]\n",
      "   8   8   0   0  | NNS->VBZ if Pos:NN@[-1] & Word:is@[0]\n",
      "   7   7   0   7  | IN->NNP if Pos:POS@[-1]\n",
      "  10  34  24  79  | NN->NNP if Pos:IN@[-1]\n",
      "   6   6   0   0  | AT->DT if Pos:VBG@[-1]\n",
      "   6   6   0   0  | IN->VBP if Pos:NNS@[-1] & Word:are@[0]\n",
      "   6   6   0   0  | NN->-NONE- if Pos:NN@[-1] & Word:*T*-1@[0]\n",
      "   6   6   0   0  | NNS->NN if Pos:IN@[-1] & Word:asbestos@[0]\n",
      "   5   5   0   0  | IN->-NONE- if Pos:-NONE-@[-1] & Word:*T*-1@[0]\n",
      "   5   5   0   0  | IN->VBD if Pos:NNS@[-1] & Word:were@[0]\n",
      "   5   5   0   0  | NN->CD if Pos:CD@[-1] & Word:million@[0]\n",
      "   5   5   0   0  | NNP->$ if Pos:IN@[-1] & Word:$@[0]\n",
      "   5   5   0   0  | NNS->VBZ if Pos:NN@[-1] & Word:has@[0]\n",
      "TBL train (fast) (seqs: 100; tokens: 2417; tpls: 2; min score: 2; min acc: None)\n",
      "Finding initial useful rules...\n",
      "    Found 845 useful rules.\n",
      "\n",
      "           B      |\n",
      "   S   F   r   O  |        Score = Fixed - Broken\n",
      "   c   i   o   t  |  R     Fixed = num tags changed incorrect -> correct\n",
      "   o   x   k   h  |  u     Broken = num tags changed correct -> incorrect\n",
      "   r   e   e   e  |  l     Other = num tags changed incorrect -> incorrect\n",
      "   e   d   n   r  |  e\n",
      "------------------+-------------------------------------------------------\n",
      " 132 132   0   0  | AT->DT if Pos:NN@[-1]\n",
      "  85  85   0   0  | NN->, if Pos:NN@[-1] & Word:,@[0]\n",
      "  69  69   0   0  | NN->. if Pos:NN@[-1] & Word:.@[0]\n",
      "  51  51   0   0  | NN->IN if Pos:NN@[-1] & Word:of@[0]\n",
      "  47  63  16 161  | NN->IN if Pos:NNS@[-1]\n",
      "  33  33   0   0  | NN->TO if Pos:NN@[-1] & Word:to@[0]\n",
      "  26  26   0   0  | IN->. if Pos:NNS@[-1] & Word:.@[0]\n",
      "  24  24   0   0  | IN->, if Pos:NNS@[-1] & Word:,@[0]\n",
      "  22  27   5  24  | NN->-NONE- if Pos:VBD@[-1]\n",
      "  17  17   0   0  | NN->CC if Pos:NN@[-1] & Word:and@[0]\n",
      "  17  17   0   3  | NNS->POS if Pos:NN@[-1] & Word:'s@[0]\n",
      "  16  16   0   6  | NN->VB if Pos:TO@[-1]\n",
      "  16  16   0   0  | IN->CC if Pos:NNS@[-1] & Word:and@[0]\n",
      "  15  15   0   0  | NN->-NONE- if Pos:NN@[-1] & Word:*U*@[0]\n",
      "  15  15   0   0  | NN->IN if Pos:NN@[-1] & Word:for@[0]\n",
      "  14  14   0   0  | NN->VBD if Pos:NN@[-1] & Word:said@[0]\n",
      "  13  13   0   0  | AT->DT if Pos:VBD@[-1]\n",
      "  12  12   0   0  | CD->-NONE- if Pos:VBD@[-1] & Word:0@[0]\n",
      "  10  10   0   0  | NN->IN if Pos:NN@[-1] & Word:from@[0]\n",
      "   9   9   0   0  | AT->DT if Pos:NNS@[-1]\n",
      "   9   9   0   0  | NN->$ if Pos:NN@[-1] & Word:$@[0]\n",
      "   8   8   0   2  | VBD->VBN if Pos:IN@[-1]\n",
      "   8   8   0   0  | NN->-NONE- if Pos:NN@[-1] & Word:*@[0]\n",
      "   8  13   5  20  | NN->IN if Pos:-NONE-@[-1]\n",
      "   8   8   0   0  | NN->CD if Pos:CD@[-1] & Word:billion@[0]\n",
      "   8   8   0   0  | NN->IN if Pos:NN@[-1] & Word:on@[0]\n",
      "   8   8   0   0  | NN->IN if Pos:NN@[-1] & Word:with@[0]\n",
      "   8   8   0   0  | NNS->VBZ if Pos:NN@[-1] & Word:is@[0]\n",
      "   7   7   0   7  | IN->NNP if Pos:POS@[-1]\n",
      "  10  34  24  79  | NN->NNP if Pos:IN@[-1]\n",
      "   6   6   0   0  | AT->DT if Pos:VBG@[-1]\n",
      "   6   6   0   0  | IN->VBP if Pos:NNS@[-1] & Word:are@[0]\n",
      "   6   6   0   0  | NN->-NONE- if Pos:NN@[-1] & Word:*T*-1@[0]\n",
      "   6   6   0   0  | NNS->NN if Pos:IN@[-1] & Word:asbestos@[0]\n",
      "   5   5   0   0  | IN->-NONE- if Pos:-NONE-@[-1] & Word:*T*-1@[0]\n",
      "   5   5   0   0  | IN->VBD if Pos:NNS@[-1] & Word:were@[0]\n",
      "   5   5   0   0  | NN->CD if Pos:CD@[-1] & Word:million@[0]\n",
      "   5   5   0   0  | NNP->$ if Pos:IN@[-1] & Word:$@[0]\n",
      "   5   5   0   0  | NNS->VBZ if Pos:NN@[-1] & Word:has@[0]\n",
      "   4   4   0   0  | VBD->VBN if Pos:VBZ@[-1]\n",
      "TBL train (fast) (seqs: 100; tokens: 2417; tpls: 2; min score: 2; min acc: None)\n",
      "Finding initial useful rules...\n",
      "    Found 845 useful rules.\n",
      "\n",
      "           B      |\n",
      "   S   F   r   O  |        Score = Fixed - Broken\n",
      "   c   i   o   t  |  R     Fixed = num tags changed incorrect -> correct\n",
      "   o   x   k   h  |  u     Broken = num tags changed correct -> incorrect\n",
      "   r   e   e   e  |  l     Other = num tags changed incorrect -> incorrect\n",
      "   e   d   n   r  |  e\n",
      "------------------+-------------------------------------------------------\n",
      " 132 132   0   0  | AT->DT if Pos:NN@[-1]\n",
      "  85  85   0   0  | NN->, if Pos:NN@[-1] & Word:,@[0]\n",
      "  69  69   0   0  | NN->. if Pos:NN@[-1] & Word:.@[0]\n",
      "  51  51   0   0  | NN->IN if Pos:NN@[-1] & Word:of@[0]\n",
      "  47  63  16 161  | NN->IN if Pos:NNS@[-1]\n",
      "  33  33   0   0  | NN->TO if Pos:NN@[-1] & Word:to@[0]\n",
      "  26  26   0   0  | IN->. if Pos:NNS@[-1] & Word:.@[0]\n",
      "  24  24   0   0  | IN->, if Pos:NNS@[-1] & Word:,@[0]\n",
      "  22  27   5  24  | NN->-NONE- if Pos:VBD@[-1]\n",
      "  17  17   0   0  | NN->CC if Pos:NN@[-1] & Word:and@[0]\n",
      "  17  17   0   3  | NNS->POS if Pos:NN@[-1] & Word:'s@[0]\n",
      "  16  16   0   6  | NN->VB if Pos:TO@[-1]\n",
      "  16  16   0   0  | IN->CC if Pos:NNS@[-1] & Word:and@[0]\n",
      "  15  15   0   0  | NN->-NONE- if Pos:NN@[-1] & Word:*U*@[0]\n",
      "  15  15   0   0  | NN->IN if Pos:NN@[-1] & Word:for@[0]\n",
      "  14  14   0   0  | NN->VBD if Pos:NN@[-1] & Word:said@[0]\n",
      "  13  13   0   0  | AT->DT if Pos:VBD@[-1]\n",
      "  12  12   0   0  | CD->-NONE- if Pos:VBD@[-1] & Word:0@[0]\n",
      "  10  10   0   0  | NN->IN if Pos:NN@[-1] & Word:from@[0]\n",
      "   9   9   0   0  | AT->DT if Pos:NNS@[-1]\n",
      "   9   9   0   0  | NN->$ if Pos:NN@[-1] & Word:$@[0]\n",
      "   8   8   0   2  | VBD->VBN if Pos:IN@[-1]\n",
      "   8   8   0   0  | NN->-NONE- if Pos:NN@[-1] & Word:*@[0]\n",
      "   8  13   5  20  | NN->IN if Pos:-NONE-@[-1]\n",
      "   8   8   0   0  | NN->CD if Pos:CD@[-1] & Word:billion@[0]\n",
      "   8   8   0   0  | NN->IN if Pos:NN@[-1] & Word:on@[0]\n",
      "   8   8   0   0  | NN->IN if Pos:NN@[-1] & Word:with@[0]\n",
      "   8   8   0   0  | NNS->VBZ if Pos:NN@[-1] & Word:is@[0]\n",
      "   7   7   0   7  | IN->NNP if Pos:POS@[-1]\n",
      "  10  34  24  79  | NN->NNP if Pos:IN@[-1]\n",
      "   6   6   0   0  | AT->DT if Pos:VBG@[-1]\n",
      "   6   6   0   0  | IN->VBP if Pos:NNS@[-1] & Word:are@[0]\n",
      "   6   6   0   0  | NN->-NONE- if Pos:NN@[-1] & Word:*T*-1@[0]\n",
      "   6   6   0   0  | NNS->NN if Pos:IN@[-1] & Word:asbestos@[0]\n",
      "   5   5   0   0  | IN->-NONE- if Pos:-NONE-@[-1] & Word:*T*-1@[0]\n",
      "   5   5   0   0  | IN->VBD if Pos:NNS@[-1] & Word:were@[0]\n",
      "   5   5   0   0  | NN->CD if Pos:CD@[-1] & Word:million@[0]\n",
      "   5   5   0   0  | NNP->$ if Pos:IN@[-1] & Word:$@[0]\n",
      "   5   5   0   0  | NNS->VBZ if Pos:NN@[-1] & Word:has@[0]\n",
      "   4   4   0   0  | VBD->VBN if Pos:VBZ@[-1]\n",
      "   4   4   0   0  | VBG->NN if Pos:CC@[-1]\n",
      "TBL train (fast) (seqs: 100; tokens: 2417; tpls: 2; min score: 2; min acc: None)\n",
      "Finding initial useful rules...\n",
      "    Found 845 useful rules.\n",
      "\n",
      "           B      |\n",
      "   S   F   r   O  |        Score = Fixed - Broken\n",
      "   c   i   o   t  |  R     Fixed = num tags changed incorrect -> correct\n",
      "   o   x   k   h  |  u     Broken = num tags changed correct -> incorrect\n",
      "   r   e   e   e  |  l     Other = num tags changed incorrect -> incorrect\n",
      "   e   d   n   r  |  e\n",
      "------------------+-------------------------------------------------------\n",
      " 132 132   0   0  | AT->DT if Pos:NN@[-1]\n",
      "  85  85   0   0  | NN->, if Pos:NN@[-1] & Word:,@[0]\n",
      "  69  69   0   0  | NN->. if Pos:NN@[-1] & Word:.@[0]\n",
      "  51  51   0   0  | NN->IN if Pos:NN@[-1] & Word:of@[0]\n",
      "  47  63  16 161  | NN->IN if Pos:NNS@[-1]\n",
      "  33  33   0   0  | NN->TO if Pos:NN@[-1] & Word:to@[0]\n",
      "  26  26   0   0  | IN->. if Pos:NNS@[-1] & Word:.@[0]\n",
      "  24  24   0   0  | IN->, if Pos:NNS@[-1] & Word:,@[0]\n",
      "  22  27   5  24  | NN->-NONE- if Pos:VBD@[-1]\n",
      "  17  17   0   0  | NN->CC if Pos:NN@[-1] & Word:and@[0]\n",
      "  17  17   0   3  | NNS->POS if Pos:NN@[-1] & Word:'s@[0]\n",
      "  16  16   0   6  | NN->VB if Pos:TO@[-1]\n",
      "  16  16   0   0  | IN->CC if Pos:NNS@[-1] & Word:and@[0]\n",
      "  15  15   0   0  | NN->-NONE- if Pos:NN@[-1] & Word:*U*@[0]\n",
      "  15  15   0   0  | NN->IN if Pos:NN@[-1] & Word:for@[0]\n",
      "  14  14   0   0  | NN->VBD if Pos:NN@[-1] & Word:said@[0]\n",
      "  13  13   0   0  | AT->DT if Pos:VBD@[-1]\n",
      "  12  12   0   0  | CD->-NONE- if Pos:VBD@[-1] & Word:0@[0]\n",
      "  10  10   0   0  | NN->IN if Pos:NN@[-1] & Word:from@[0]\n",
      "   9   9   0   0  | AT->DT if Pos:NNS@[-1]\n",
      "   9   9   0   0  | NN->$ if Pos:NN@[-1] & Word:$@[0]\n",
      "   8   8   0   2  | VBD->VBN if Pos:IN@[-1]\n",
      "   8   8   0   0  | NN->-NONE- if Pos:NN@[-1] & Word:*@[0]\n",
      "   8  13   5  20  | NN->IN if Pos:-NONE-@[-1]\n",
      "   8   8   0   0  | NN->CD if Pos:CD@[-1] & Word:billion@[0]\n",
      "   8   8   0   0  | NN->IN if Pos:NN@[-1] & Word:on@[0]\n",
      "   8   8   0   0  | NN->IN if Pos:NN@[-1] & Word:with@[0]\n",
      "   8   8   0   0  | NNS->VBZ if Pos:NN@[-1] & Word:is@[0]\n",
      "   7   7   0   7  | IN->NNP if Pos:POS@[-1]\n",
      "  10  34  24  79  | NN->NNP if Pos:IN@[-1]\n",
      "   6   6   0   0  | AT->DT if Pos:VBG@[-1]\n",
      "   6   6   0   0  | IN->VBP if Pos:NNS@[-1] & Word:are@[0]\n",
      "   6   6   0   0  | NN->-NONE- if Pos:NN@[-1] & Word:*T*-1@[0]\n",
      "   6   6   0   0  | NNS->NN if Pos:IN@[-1] & Word:asbestos@[0]\n",
      "   5   5   0   0  | IN->-NONE- if Pos:-NONE-@[-1] & Word:*T*-1@[0]\n",
      "   5   5   0   0  | IN->VBD if Pos:NNS@[-1] & Word:were@[0]\n",
      "   5   5   0   0  | NN->CD if Pos:CD@[-1] & Word:million@[0]\n",
      "   5   5   0   0  | NNP->$ if Pos:IN@[-1] & Word:$@[0]\n",
      "   5   5   0   0  | NNS->VBZ if Pos:NN@[-1] & Word:has@[0]\n",
      "   4   4   0   0  | VBD->VBN if Pos:VBZ@[-1]\n",
      "   4   4   0   0  | VBG->NN if Pos:CC@[-1]\n",
      "   4   4   0   0  | CD->-NONE- if Pos:IN@[-1] & Word:0@[0]\n",
      "TBL train (fast) (seqs: 100; tokens: 2417; tpls: 2; min score: 2; min acc: None)\n",
      "Finding initial useful rules...\n",
      "    Found 845 useful rules.\n",
      "\n",
      "           B      |\n",
      "   S   F   r   O  |        Score = Fixed - Broken\n",
      "   c   i   o   t  |  R     Fixed = num tags changed incorrect -> correct\n",
      "   o   x   k   h  |  u     Broken = num tags changed correct -> incorrect\n",
      "   r   e   e   e  |  l     Other = num tags changed incorrect -> incorrect\n",
      "   e   d   n   r  |  e\n",
      "------------------+-------------------------------------------------------\n",
      " 132 132   0   0  | AT->DT if Pos:NN@[-1]\n",
      "  85  85   0   0  | NN->, if Pos:NN@[-1] & Word:,@[0]\n",
      "  69  69   0   0  | NN->. if Pos:NN@[-1] & Word:.@[0]\n",
      "  51  51   0   0  | NN->IN if Pos:NN@[-1] & Word:of@[0]\n",
      "  47  63  16 161  | NN->IN if Pos:NNS@[-1]\n",
      "  33  33   0   0  | NN->TO if Pos:NN@[-1] & Word:to@[0]\n",
      "  26  26   0   0  | IN->. if Pos:NNS@[-1] & Word:.@[0]\n",
      "  24  24   0   0  | IN->, if Pos:NNS@[-1] & Word:,@[0]\n",
      "  22  27   5  24  | NN->-NONE- if Pos:VBD@[-1]\n",
      "  17  17   0   0  | NN->CC if Pos:NN@[-1] & Word:and@[0]\n",
      "  17  17   0   3  | NNS->POS if Pos:NN@[-1] & Word:'s@[0]\n",
      "  16  16   0   6  | NN->VB if Pos:TO@[-1]\n",
      "  16  16   0   0  | IN->CC if Pos:NNS@[-1] & Word:and@[0]\n",
      "  15  15   0   0  | NN->-NONE- if Pos:NN@[-1] & Word:*U*@[0]\n",
      "  15  15   0   0  | NN->IN if Pos:NN@[-1] & Word:for@[0]\n",
      "  14  14   0   0  | NN->VBD if Pos:NN@[-1] & Word:said@[0]\n",
      "  13  13   0   0  | AT->DT if Pos:VBD@[-1]\n",
      "  12  12   0   0  | CD->-NONE- if Pos:VBD@[-1] & Word:0@[0]\n",
      "  10  10   0   0  | NN->IN if Pos:NN@[-1] & Word:from@[0]\n",
      "   9   9   0   0  | AT->DT if Pos:NNS@[-1]\n",
      "   9   9   0   0  | NN->$ if Pos:NN@[-1] & Word:$@[0]\n",
      "   8   8   0   2  | VBD->VBN if Pos:IN@[-1]\n",
      "   8   8   0   0  | NN->-NONE- if Pos:NN@[-1] & Word:*@[0]\n",
      "   8  13   5  20  | NN->IN if Pos:-NONE-@[-1]\n",
      "   8   8   0   0  | NN->CD if Pos:CD@[-1] & Word:billion@[0]\n",
      "   8   8   0   0  | NN->IN if Pos:NN@[-1] & Word:on@[0]\n",
      "   8   8   0   0  | NN->IN if Pos:NN@[-1] & Word:with@[0]\n",
      "   8   8   0   0  | NNS->VBZ if Pos:NN@[-1] & Word:is@[0]\n",
      "   7   7   0   7  | IN->NNP if Pos:POS@[-1]\n",
      "  10  34  24  79  | NN->NNP if Pos:IN@[-1]\n",
      "   6   6   0   0  | AT->DT if Pos:VBG@[-1]\n",
      "   6   6   0   0  | IN->VBP if Pos:NNS@[-1] & Word:are@[0]\n",
      "   6   6   0   0  | NN->-NONE- if Pos:NN@[-1] & Word:*T*-1@[0]\n",
      "   6   6   0   0  | NNS->NN if Pos:IN@[-1] & Word:asbestos@[0]\n",
      "   5   5   0   0  | IN->-NONE- if Pos:-NONE-@[-1] & Word:*T*-1@[0]\n",
      "   5   5   0   0  | IN->VBD if Pos:NNS@[-1] & Word:were@[0]\n",
      "   5   5   0   0  | NN->CD if Pos:CD@[-1] & Word:million@[0]\n",
      "   5   5   0   0  | NNP->$ if Pos:IN@[-1] & Word:$@[0]\n",
      "   5   5   0   0  | NNS->VBZ if Pos:NN@[-1] & Word:has@[0]\n",
      "   4   4   0   0  | VBD->VBN if Pos:VBZ@[-1]\n",
      "   4   4   0   0  | VBG->NN if Pos:CC@[-1]\n",
      "   4   4   0   0  | CD->-NONE- if Pos:IN@[-1] & Word:0@[0]\n",
      "   4   4   0   0  | IN->NN if Pos:NNS@[-1] & Word:year@[0]\n",
      "TBL train (fast) (seqs: 100; tokens: 2417; tpls: 2; min score: 2; min acc: None)\n",
      "Finding initial useful rules...\n",
      "    Found 845 useful rules.\n",
      "\n",
      "           B      |\n",
      "   S   F   r   O  |        Score = Fixed - Broken\n",
      "   c   i   o   t  |  R     Fixed = num tags changed incorrect -> correct\n",
      "   o   x   k   h  |  u     Broken = num tags changed correct -> incorrect\n",
      "   r   e   e   e  |  l     Other = num tags changed incorrect -> incorrect\n",
      "   e   d   n   r  |  e\n",
      "------------------+-------------------------------------------------------\n",
      " 132 132   0   0  | AT->DT if Pos:NN@[-1]\n",
      "  85  85   0   0  | NN->, if Pos:NN@[-1] & Word:,@[0]\n",
      "  69  69   0   0  | NN->. if Pos:NN@[-1] & Word:.@[0]\n",
      "  51  51   0   0  | NN->IN if Pos:NN@[-1] & Word:of@[0]\n",
      "  47  63  16 161  | NN->IN if Pos:NNS@[-1]\n",
      "  33  33   0   0  | NN->TO if Pos:NN@[-1] & Word:to@[0]\n",
      "  26  26   0   0  | IN->. if Pos:NNS@[-1] & Word:.@[0]\n",
      "  24  24   0   0  | IN->, if Pos:NNS@[-1] & Word:,@[0]\n",
      "  22  27   5  24  | NN->-NONE- if Pos:VBD@[-1]\n",
      "  17  17   0   0  | NN->CC if Pos:NN@[-1] & Word:and@[0]\n",
      "  17  17   0   3  | NNS->POS if Pos:NN@[-1] & Word:'s@[0]\n",
      "  16  16   0   6  | NN->VB if Pos:TO@[-1]\n",
      "  16  16   0   0  | IN->CC if Pos:NNS@[-1] & Word:and@[0]\n",
      "  15  15   0   0  | NN->-NONE- if Pos:NN@[-1] & Word:*U*@[0]\n",
      "  15  15   0   0  | NN->IN if Pos:NN@[-1] & Word:for@[0]\n",
      "  14  14   0   0  | NN->VBD if Pos:NN@[-1] & Word:said@[0]\n",
      "  13  13   0   0  | AT->DT if Pos:VBD@[-1]\n",
      "  12  12   0   0  | CD->-NONE- if Pos:VBD@[-1] & Word:0@[0]\n",
      "  10  10   0   0  | NN->IN if Pos:NN@[-1] & Word:from@[0]\n",
      "   9   9   0   0  | AT->DT if Pos:NNS@[-1]\n",
      "   9   9   0   0  | NN->$ if Pos:NN@[-1] & Word:$@[0]\n",
      "   8   8   0   2  | VBD->VBN if Pos:IN@[-1]\n",
      "   8   8   0   0  | NN->-NONE- if Pos:NN@[-1] & Word:*@[0]\n",
      "   8  13   5  20  | NN->IN if Pos:-NONE-@[-1]\n",
      "   8   8   0   0  | NN->CD if Pos:CD@[-1] & Word:billion@[0]\n",
      "   8   8   0   0  | NN->IN if Pos:NN@[-1] & Word:on@[0]\n",
      "   8   8   0   0  | NN->IN if Pos:NN@[-1] & Word:with@[0]\n",
      "   8   8   0   0  | NNS->VBZ if Pos:NN@[-1] & Word:is@[0]\n",
      "   7   7   0   7  | IN->NNP if Pos:POS@[-1]\n",
      "  10  34  24  79  | NN->NNP if Pos:IN@[-1]\n",
      "   6   6   0   0  | AT->DT if Pos:VBG@[-1]\n",
      "   6   6   0   0  | IN->VBP if Pos:NNS@[-1] & Word:are@[0]\n",
      "   6   6   0   0  | NN->-NONE- if Pos:NN@[-1] & Word:*T*-1@[0]\n",
      "   6   6   0   0  | NNS->NN if Pos:IN@[-1] & Word:asbestos@[0]\n",
      "   5   5   0   0  | IN->-NONE- if Pos:-NONE-@[-1] & Word:*T*-1@[0]\n",
      "   5   5   0   0  | IN->VBD if Pos:NNS@[-1] & Word:were@[0]\n",
      "   5   5   0   0  | NN->CD if Pos:CD@[-1] & Word:million@[0]\n",
      "   5   5   0   0  | NNP->$ if Pos:IN@[-1] & Word:$@[0]\n",
      "   5   5   0   0  | NNS->VBZ if Pos:NN@[-1] & Word:has@[0]\n",
      "   4   4   0   0  | VBD->VBN if Pos:VBZ@[-1]\n",
      "   4   4   0   0  | VBG->NN if Pos:CC@[-1]\n",
      "   4   4   0   0  | CD->-NONE- if Pos:IN@[-1] & Word:0@[0]\n",
      "   4   4   0   0  | IN->NN if Pos:NNS@[-1] & Word:year@[0]\n",
      "   4   4   0   0  | NN->, if Pos:RB@[-1] & Word:,@[0]\n",
      "TBL train (fast) (seqs: 100; tokens: 2417; tpls: 2; min score: 2; min acc: None)\n",
      "Finding initial useful rules...\n",
      "    Found 845 useful rules.\n",
      "\n",
      "           B      |\n",
      "   S   F   r   O  |        Score = Fixed - Broken\n",
      "   c   i   o   t  |  R     Fixed = num tags changed incorrect -> correct\n",
      "   o   x   k   h  |  u     Broken = num tags changed correct -> incorrect\n",
      "   r   e   e   e  |  l     Other = num tags changed incorrect -> incorrect\n",
      "   e   d   n   r  |  e\n",
      "------------------+-------------------------------------------------------\n",
      " 132 132   0   0  | AT->DT if Pos:NN@[-1]\n",
      "  85  85   0   0  | NN->, if Pos:NN@[-1] & Word:,@[0]\n",
      "  69  69   0   0  | NN->. if Pos:NN@[-1] & Word:.@[0]\n",
      "  51  51   0   0  | NN->IN if Pos:NN@[-1] & Word:of@[0]\n",
      "  47  63  16 161  | NN->IN if Pos:NNS@[-1]\n",
      "  33  33   0   0  | NN->TO if Pos:NN@[-1] & Word:to@[0]\n",
      "  26  26   0   0  | IN->. if Pos:NNS@[-1] & Word:.@[0]\n",
      "  24  24   0   0  | IN->, if Pos:NNS@[-1] & Word:,@[0]\n",
      "  22  27   5  24  | NN->-NONE- if Pos:VBD@[-1]\n",
      "  17  17   0   0  | NN->CC if Pos:NN@[-1] & Word:and@[0]\n",
      "  17  17   0   3  | NNS->POS if Pos:NN@[-1] & Word:'s@[0]\n",
      "  16  16   0   6  | NN->VB if Pos:TO@[-1]\n",
      "  16  16   0   0  | IN->CC if Pos:NNS@[-1] & Word:and@[0]\n",
      "  15  15   0   0  | NN->-NONE- if Pos:NN@[-1] & Word:*U*@[0]\n",
      "  15  15   0   0  | NN->IN if Pos:NN@[-1] & Word:for@[0]\n",
      "  14  14   0   0  | NN->VBD if Pos:NN@[-1] & Word:said@[0]\n",
      "  13  13   0   0  | AT->DT if Pos:VBD@[-1]\n",
      "  12  12   0   0  | CD->-NONE- if Pos:VBD@[-1] & Word:0@[0]\n",
      "  10  10   0   0  | NN->IN if Pos:NN@[-1] & Word:from@[0]\n",
      "   9   9   0   0  | AT->DT if Pos:NNS@[-1]\n",
      "   9   9   0   0  | NN->$ if Pos:NN@[-1] & Word:$@[0]\n",
      "   8   8   0   2  | VBD->VBN if Pos:IN@[-1]\n",
      "   8   8   0   0  | NN->-NONE- if Pos:NN@[-1] & Word:*@[0]\n",
      "   8  13   5  20  | NN->IN if Pos:-NONE-@[-1]\n",
      "   8   8   0   0  | NN->CD if Pos:CD@[-1] & Word:billion@[0]\n",
      "   8   8   0   0  | NN->IN if Pos:NN@[-1] & Word:on@[0]\n",
      "   8   8   0   0  | NN->IN if Pos:NN@[-1] & Word:with@[0]\n",
      "   8   8   0   0  | NNS->VBZ if Pos:NN@[-1] & Word:is@[0]\n",
      "   7   7   0   7  | IN->NNP if Pos:POS@[-1]\n",
      "  10  34  24  79  | NN->NNP if Pos:IN@[-1]\n",
      "   6   6   0   0  | AT->DT if Pos:VBG@[-1]\n",
      "   6   6   0   0  | IN->VBP if Pos:NNS@[-1] & Word:are@[0]\n",
      "   6   6   0   0  | NN->-NONE- if Pos:NN@[-1] & Word:*T*-1@[0]\n",
      "   6   6   0   0  | NNS->NN if Pos:IN@[-1] & Word:asbestos@[0]\n",
      "   5   5   0   0  | IN->-NONE- if Pos:-NONE-@[-1] & Word:*T*-1@[0]\n",
      "   5   5   0   0  | IN->VBD if Pos:NNS@[-1] & Word:were@[0]\n",
      "   5   5   0   0  | NN->CD if Pos:CD@[-1] & Word:million@[0]\n",
      "   5   5   0   0  | NNP->$ if Pos:IN@[-1] & Word:$@[0]\n",
      "   5   5   0   0  | NNS->VBZ if Pos:NN@[-1] & Word:has@[0]\n",
      "   4   4   0   0  | VBD->VBN if Pos:VBZ@[-1]\n",
      "   4   4   0   0  | VBG->NN if Pos:CC@[-1]\n",
      "   4   4   0   0  | CD->-NONE- if Pos:IN@[-1] & Word:0@[0]\n",
      "   4   4   0   0  | IN->NN if Pos:NNS@[-1] & Word:year@[0]\n",
      "   4   4   0   0  | NN->, if Pos:RB@[-1] & Word:,@[0]\n",
      "   4   4   0   0  | NN->: if Pos:NN@[-1] & Word:--@[0]\n",
      "TBL train (fast) (seqs: 100; tokens: 2417; tpls: 2; min score: 2; min acc: None)\n",
      "Finding initial useful rules...\n",
      "    Found 845 useful rules.\n",
      "\n",
      "           B      |\n",
      "   S   F   r   O  |        Score = Fixed - Broken\n",
      "   c   i   o   t  |  R     Fixed = num tags changed incorrect -> correct\n",
      "   o   x   k   h  |  u     Broken = num tags changed correct -> incorrect\n",
      "   r   e   e   e  |  l     Other = num tags changed incorrect -> incorrect\n",
      "   e   d   n   r  |  e\n",
      "------------------+-------------------------------------------------------\n",
      " 132 132   0   0  | AT->DT if Pos:NN@[-1]\n",
      "  85  85   0   0  | NN->, if Pos:NN@[-1] & Word:,@[0]\n",
      "  69  69   0   0  | NN->. if Pos:NN@[-1] & Word:.@[0]\n",
      "  51  51   0   0  | NN->IN if Pos:NN@[-1] & Word:of@[0]\n",
      "  47  63  16 161  | NN->IN if Pos:NNS@[-1]\n",
      "  33  33   0   0  | NN->TO if Pos:NN@[-1] & Word:to@[0]\n",
      "  26  26   0   0  | IN->. if Pos:NNS@[-1] & Word:.@[0]\n",
      "  24  24   0   0  | IN->, if Pos:NNS@[-1] & Word:,@[0]\n",
      "  22  27   5  24  | NN->-NONE- if Pos:VBD@[-1]\n",
      "  17  17   0   0  | NN->CC if Pos:NN@[-1] & Word:and@[0]\n",
      "  17  17   0   3  | NNS->POS if Pos:NN@[-1] & Word:'s@[0]\n",
      "  16  16   0   6  | NN->VB if Pos:TO@[-1]\n",
      "  16  16   0   0  | IN->CC if Pos:NNS@[-1] & Word:and@[0]\n",
      "  15  15   0   0  | NN->-NONE- if Pos:NN@[-1] & Word:*U*@[0]\n",
      "  15  15   0   0  | NN->IN if Pos:NN@[-1] & Word:for@[0]\n",
      "  14  14   0   0  | NN->VBD if Pos:NN@[-1] & Word:said@[0]\n",
      "  13  13   0   0  | AT->DT if Pos:VBD@[-1]\n",
      "  12  12   0   0  | CD->-NONE- if Pos:VBD@[-1] & Word:0@[0]\n",
      "  10  10   0   0  | NN->IN if Pos:NN@[-1] & Word:from@[0]\n",
      "   9   9   0   0  | AT->DT if Pos:NNS@[-1]\n",
      "   9   9   0   0  | NN->$ if Pos:NN@[-1] & Word:$@[0]\n",
      "   8   8   0   2  | VBD->VBN if Pos:IN@[-1]\n",
      "   8   8   0   0  | NN->-NONE- if Pos:NN@[-1] & Word:*@[0]\n",
      "   8  13   5  20  | NN->IN if Pos:-NONE-@[-1]\n",
      "   8   8   0   0  | NN->CD if Pos:CD@[-1] & Word:billion@[0]\n",
      "   8   8   0   0  | NN->IN if Pos:NN@[-1] & Word:on@[0]\n",
      "   8   8   0   0  | NN->IN if Pos:NN@[-1] & Word:with@[0]\n",
      "   8   8   0   0  | NNS->VBZ if Pos:NN@[-1] & Word:is@[0]\n",
      "   7   7   0   7  | IN->NNP if Pos:POS@[-1]\n",
      "  10  34  24  79  | NN->NNP if Pos:IN@[-1]\n",
      "   6   6   0   0  | AT->DT if Pos:VBG@[-1]\n",
      "   6   6   0   0  | IN->VBP if Pos:NNS@[-1] & Word:are@[0]\n",
      "   6   6   0   0  | NN->-NONE- if Pos:NN@[-1] & Word:*T*-1@[0]\n",
      "   6   6   0   0  | NNS->NN if Pos:IN@[-1] & Word:asbestos@[0]\n",
      "   5   5   0   0  | IN->-NONE- if Pos:-NONE-@[-1] & Word:*T*-1@[0]\n",
      "   5   5   0   0  | IN->VBD if Pos:NNS@[-1] & Word:were@[0]\n",
      "   5   5   0   0  | NN->CD if Pos:CD@[-1] & Word:million@[0]\n",
      "   5   5   0   0  | NNP->$ if Pos:IN@[-1] & Word:$@[0]\n",
      "   5   5   0   0  | NNS->VBZ if Pos:NN@[-1] & Word:has@[0]\n",
      "   4   4   0   0  | VBD->VBN if Pos:VBZ@[-1]\n",
      "   4   4   0   0  | VBG->NN if Pos:CC@[-1]\n",
      "   4   4   0   0  | CD->-NONE- if Pos:IN@[-1] & Word:0@[0]\n",
      "   4   4   0   0  | IN->NN if Pos:NNS@[-1] & Word:year@[0]\n",
      "   4   4   0   0  | NN->, if Pos:RB@[-1] & Word:,@[0]\n",
      "   4   4   0   0  | NN->: if Pos:NN@[-1] & Word:--@[0]\n",
      "   4   4   0   0  | NN->IN if Pos:NN@[-1] & Word:in@[0]\n",
      "TBL train (fast) (seqs: 100; tokens: 2417; tpls: 2; min score: 2; min acc: None)\n",
      "Finding initial useful rules...\n",
      "    Found 845 useful rules.\n",
      "\n",
      "           B      |\n",
      "   S   F   r   O  |        Score = Fixed - Broken\n",
      "   c   i   o   t  |  R     Fixed = num tags changed incorrect -> correct\n",
      "   o   x   k   h  |  u     Broken = num tags changed correct -> incorrect\n",
      "   r   e   e   e  |  l     Other = num tags changed incorrect -> incorrect\n",
      "   e   d   n   r  |  e\n",
      "------------------+-------------------------------------------------------\n",
      " 132 132   0   0  | AT->DT if Pos:NN@[-1]\n",
      "  85  85   0   0  | NN->, if Pos:NN@[-1] & Word:,@[0]\n",
      "  69  69   0   0  | NN->. if Pos:NN@[-1] & Word:.@[0]\n",
      "  51  51   0   0  | NN->IN if Pos:NN@[-1] & Word:of@[0]\n",
      "  47  63  16 161  | NN->IN if Pos:NNS@[-1]\n",
      "  33  33   0   0  | NN->TO if Pos:NN@[-1] & Word:to@[0]\n",
      "  26  26   0   0  | IN->. if Pos:NNS@[-1] & Word:.@[0]\n",
      "  24  24   0   0  | IN->, if Pos:NNS@[-1] & Word:,@[0]\n",
      "  22  27   5  24  | NN->-NONE- if Pos:VBD@[-1]\n",
      "  17  17   0   0  | NN->CC if Pos:NN@[-1] & Word:and@[0]\n",
      "  17  17   0   3  | NNS->POS if Pos:NN@[-1] & Word:'s@[0]\n",
      "  16  16   0   6  | NN->VB if Pos:TO@[-1]\n",
      "  16  16   0   0  | IN->CC if Pos:NNS@[-1] & Word:and@[0]\n",
      "  15  15   0   0  | NN->-NONE- if Pos:NN@[-1] & Word:*U*@[0]\n",
      "  15  15   0   0  | NN->IN if Pos:NN@[-1] & Word:for@[0]\n",
      "  14  14   0   0  | NN->VBD if Pos:NN@[-1] & Word:said@[0]\n",
      "  13  13   0   0  | AT->DT if Pos:VBD@[-1]\n",
      "  12  12   0   0  | CD->-NONE- if Pos:VBD@[-1] & Word:0@[0]\n",
      "  10  10   0   0  | NN->IN if Pos:NN@[-1] & Word:from@[0]\n",
      "   9   9   0   0  | AT->DT if Pos:NNS@[-1]\n",
      "   9   9   0   0  | NN->$ if Pos:NN@[-1] & Word:$@[0]\n",
      "   8   8   0   2  | VBD->VBN if Pos:IN@[-1]\n",
      "   8   8   0   0  | NN->-NONE- if Pos:NN@[-1] & Word:*@[0]\n",
      "   8  13   5  20  | NN->IN if Pos:-NONE-@[-1]\n",
      "   8   8   0   0  | NN->CD if Pos:CD@[-1] & Word:billion@[0]\n",
      "   8   8   0   0  | NN->IN if Pos:NN@[-1] & Word:on@[0]\n",
      "   8   8   0   0  | NN->IN if Pos:NN@[-1] & Word:with@[0]\n",
      "   8   8   0   0  | NNS->VBZ if Pos:NN@[-1] & Word:is@[0]\n",
      "   7   7   0   7  | IN->NNP if Pos:POS@[-1]\n",
      "  10  34  24  79  | NN->NNP if Pos:IN@[-1]\n",
      "   6   6   0   0  | AT->DT if Pos:VBG@[-1]\n",
      "   6   6   0   0  | IN->VBP if Pos:NNS@[-1] & Word:are@[0]\n",
      "   6   6   0   0  | NN->-NONE- if Pos:NN@[-1] & Word:*T*-1@[0]\n",
      "   6   6   0   0  | NNS->NN if Pos:IN@[-1] & Word:asbestos@[0]\n",
      "   5   5   0   0  | IN->-NONE- if Pos:-NONE-@[-1] & Word:*T*-1@[0]\n",
      "   5   5   0   0  | IN->VBD if Pos:NNS@[-1] & Word:were@[0]\n",
      "   5   5   0   0  | NN->CD if Pos:CD@[-1] & Word:million@[0]\n",
      "   5   5   0   0  | NNP->$ if Pos:IN@[-1] & Word:$@[0]\n",
      "   5   5   0   0  | NNS->VBZ if Pos:NN@[-1] & Word:has@[0]\n",
      "   4   4   0   0  | VBD->VBN if Pos:VBZ@[-1]\n",
      "   4   4   0   0  | VBG->NN if Pos:CC@[-1]\n",
      "   4   4   0   0  | CD->-NONE- if Pos:IN@[-1] & Word:0@[0]\n",
      "   4   4   0   0  | IN->NN if Pos:NNS@[-1] & Word:year@[0]\n",
      "   4   4   0   0  | NN->, if Pos:RB@[-1] & Word:,@[0]\n",
      "   4   4   0   0  | NN->: if Pos:NN@[-1] & Word:--@[0]\n",
      "   4   4   0   0  | NN->IN if Pos:NN@[-1] & Word:in@[0]\n",
      "   4   4   0   0  | NN->PRP if Pos:NN@[-1] & Word:it@[0]\n",
      "TBL train (fast) (seqs: 100; tokens: 2417; tpls: 2; min score: 2; min acc: None)\n",
      "Finding initial useful rules...\n",
      "    Found 845 useful rules.\n",
      "\n",
      "           B      |\n",
      "   S   F   r   O  |        Score = Fixed - Broken\n",
      "   c   i   o   t  |  R     Fixed = num tags changed incorrect -> correct\n",
      "   o   x   k   h  |  u     Broken = num tags changed correct -> incorrect\n",
      "   r   e   e   e  |  l     Other = num tags changed incorrect -> incorrect\n",
      "   e   d   n   r  |  e\n",
      "------------------+-------------------------------------------------------\n",
      " 132 132   0   0  | AT->DT if Pos:NN@[-1]\n",
      "  85  85   0   0  | NN->, if Pos:NN@[-1] & Word:,@[0]\n",
      "  69  69   0   0  | NN->. if Pos:NN@[-1] & Word:.@[0]\n",
      "  51  51   0   0  | NN->IN if Pos:NN@[-1] & Word:of@[0]\n",
      "  47  63  16 161  | NN->IN if Pos:NNS@[-1]\n",
      "  33  33   0   0  | NN->TO if Pos:NN@[-1] & Word:to@[0]\n",
      "  26  26   0   0  | IN->. if Pos:NNS@[-1] & Word:.@[0]\n",
      "  24  24   0   0  | IN->, if Pos:NNS@[-1] & Word:,@[0]\n",
      "  22  27   5  24  | NN->-NONE- if Pos:VBD@[-1]\n",
      "  17  17   0   0  | NN->CC if Pos:NN@[-1] & Word:and@[0]\n",
      "  17  17   0   3  | NNS->POS if Pos:NN@[-1] & Word:'s@[0]\n",
      "  16  16   0   6  | NN->VB if Pos:TO@[-1]\n",
      "  16  16   0   0  | IN->CC if Pos:NNS@[-1] & Word:and@[0]\n",
      "  15  15   0   0  | NN->-NONE- if Pos:NN@[-1] & Word:*U*@[0]\n",
      "  15  15   0   0  | NN->IN if Pos:NN@[-1] & Word:for@[0]\n",
      "  14  14   0   0  | NN->VBD if Pos:NN@[-1] & Word:said@[0]\n",
      "  13  13   0   0  | AT->DT if Pos:VBD@[-1]\n",
      "  12  12   0   0  | CD->-NONE- if Pos:VBD@[-1] & Word:0@[0]\n",
      "  10  10   0   0  | NN->IN if Pos:NN@[-1] & Word:from@[0]\n",
      "   9   9   0   0  | AT->DT if Pos:NNS@[-1]\n",
      "   9   9   0   0  | NN->$ if Pos:NN@[-1] & Word:$@[0]\n",
      "   8   8   0   2  | VBD->VBN if Pos:IN@[-1]\n",
      "   8   8   0   0  | NN->-NONE- if Pos:NN@[-1] & Word:*@[0]\n",
      "   8  13   5  20  | NN->IN if Pos:-NONE-@[-1]\n",
      "   8   8   0   0  | NN->CD if Pos:CD@[-1] & Word:billion@[0]\n",
      "   8   8   0   0  | NN->IN if Pos:NN@[-1] & Word:on@[0]\n",
      "   8   8   0   0  | NN->IN if Pos:NN@[-1] & Word:with@[0]\n",
      "   8   8   0   0  | NNS->VBZ if Pos:NN@[-1] & Word:is@[0]\n",
      "   7   7   0   7  | IN->NNP if Pos:POS@[-1]\n",
      "  10  34  24  79  | NN->NNP if Pos:IN@[-1]\n",
      "   6   6   0   0  | AT->DT if Pos:VBG@[-1]\n",
      "   6   6   0   0  | IN->VBP if Pos:NNS@[-1] & Word:are@[0]\n",
      "   6   6   0   0  | NN->-NONE- if Pos:NN@[-1] & Word:*T*-1@[0]\n",
      "   6   6   0   0  | NNS->NN if Pos:IN@[-1] & Word:asbestos@[0]\n",
      "   5   5   0   0  | IN->-NONE- if Pos:-NONE-@[-1] & Word:*T*-1@[0]\n",
      "   5   5   0   0  | IN->VBD if Pos:NNS@[-1] & Word:were@[0]\n",
      "   5   5   0   0  | NN->CD if Pos:CD@[-1] & Word:million@[0]\n",
      "   5   5   0   0  | NNP->$ if Pos:IN@[-1] & Word:$@[0]\n",
      "   5   5   0   0  | NNS->VBZ if Pos:NN@[-1] & Word:has@[0]\n",
      "   4   4   0   0  | VBD->VBN if Pos:VBZ@[-1]\n",
      "   4   4   0   0  | VBG->NN if Pos:CC@[-1]\n",
      "   4   4   0   0  | CD->-NONE- if Pos:IN@[-1] & Word:0@[0]\n",
      "   4   4   0   0  | IN->NN if Pos:NNS@[-1] & Word:year@[0]\n",
      "   4   4   0   0  | NN->, if Pos:RB@[-1] & Word:,@[0]\n",
      "   4   4   0   0  | NN->: if Pos:NN@[-1] & Word:--@[0]\n",
      "   4   4   0   0  | NN->IN if Pos:NN@[-1] & Word:in@[0]\n",
      "   4   4   0   0  | NN->PRP if Pos:NN@[-1] & Word:it@[0]\n",
      "   4   4   0   0  | NN->TO if Pos:VBG@[-1] & Word:to@[0]\n",
      "TBL train (fast) (seqs: 100; tokens: 2417; tpls: 2; min score: 2; min acc: None)\n",
      "Finding initial useful rules...\n",
      "    Found 845 useful rules.\n",
      "\n",
      "           B      |\n",
      "   S   F   r   O  |        Score = Fixed - Broken\n",
      "   c   i   o   t  |  R     Fixed = num tags changed incorrect -> correct\n",
      "   o   x   k   h  |  u     Broken = num tags changed correct -> incorrect\n",
      "   r   e   e   e  |  l     Other = num tags changed incorrect -> incorrect\n",
      "   e   d   n   r  |  e\n",
      "------------------+-------------------------------------------------------\n",
      " 132 132   0   0  | AT->DT if Pos:NN@[-1]\n",
      "  85  85   0   0  | NN->, if Pos:NN@[-1] & Word:,@[0]\n",
      "  69  69   0   0  | NN->. if Pos:NN@[-1] & Word:.@[0]\n",
      "  51  51   0   0  | NN->IN if Pos:NN@[-1] & Word:of@[0]\n",
      "  47  63  16 161  | NN->IN if Pos:NNS@[-1]\n",
      "  33  33   0   0  | NN->TO if Pos:NN@[-1] & Word:to@[0]\n",
      "  26  26   0   0  | IN->. if Pos:NNS@[-1] & Word:.@[0]\n",
      "  24  24   0   0  | IN->, if Pos:NNS@[-1] & Word:,@[0]\n",
      "  22  27   5  24  | NN->-NONE- if Pos:VBD@[-1]\n",
      "  17  17   0   0  | NN->CC if Pos:NN@[-1] & Word:and@[0]\n",
      "  17  17   0   3  | NNS->POS if Pos:NN@[-1] & Word:'s@[0]\n",
      "  16  16   0   6  | NN->VB if Pos:TO@[-1]\n",
      "  16  16   0   0  | IN->CC if Pos:NNS@[-1] & Word:and@[0]\n",
      "  15  15   0   0  | NN->-NONE- if Pos:NN@[-1] & Word:*U*@[0]\n",
      "  15  15   0   0  | NN->IN if Pos:NN@[-1] & Word:for@[0]\n",
      "  14  14   0   0  | NN->VBD if Pos:NN@[-1] & Word:said@[0]\n",
      "  13  13   0   0  | AT->DT if Pos:VBD@[-1]\n",
      "  12  12   0   0  | CD->-NONE- if Pos:VBD@[-1] & Word:0@[0]\n",
      "  10  10   0   0  | NN->IN if Pos:NN@[-1] & Word:from@[0]\n",
      "   9   9   0   0  | AT->DT if Pos:NNS@[-1]\n",
      "   9   9   0   0  | NN->$ if Pos:NN@[-1] & Word:$@[0]\n",
      "   8   8   0   2  | VBD->VBN if Pos:IN@[-1]\n",
      "   8   8   0   0  | NN->-NONE- if Pos:NN@[-1] & Word:*@[0]\n",
      "   8  13   5  20  | NN->IN if Pos:-NONE-@[-1]\n",
      "   8   8   0   0  | NN->CD if Pos:CD@[-1] & Word:billion@[0]\n",
      "   8   8   0   0  | NN->IN if Pos:NN@[-1] & Word:on@[0]\n",
      "   8   8   0   0  | NN->IN if Pos:NN@[-1] & Word:with@[0]\n",
      "   8   8   0   0  | NNS->VBZ if Pos:NN@[-1] & Word:is@[0]\n",
      "   7   7   0   7  | IN->NNP if Pos:POS@[-1]\n",
      "  10  34  24  79  | NN->NNP if Pos:IN@[-1]\n",
      "   6   6   0   0  | AT->DT if Pos:VBG@[-1]\n",
      "   6   6   0   0  | IN->VBP if Pos:NNS@[-1] & Word:are@[0]\n",
      "   6   6   0   0  | NN->-NONE- if Pos:NN@[-1] & Word:*T*-1@[0]\n",
      "   6   6   0   0  | NNS->NN if Pos:IN@[-1] & Word:asbestos@[0]\n",
      "   5   5   0   0  | IN->-NONE- if Pos:-NONE-@[-1] & Word:*T*-1@[0]\n",
      "   5   5   0   0  | IN->VBD if Pos:NNS@[-1] & Word:were@[0]\n",
      "   5   5   0   0  | NN->CD if Pos:CD@[-1] & Word:million@[0]\n",
      "   5   5   0   0  | NNP->$ if Pos:IN@[-1] & Word:$@[0]\n",
      "   5   5   0   0  | NNS->VBZ if Pos:NN@[-1] & Word:has@[0]\n",
      "   4   4   0   0  | VBD->VBN if Pos:VBZ@[-1]\n",
      "   4   4   0   0  | VBG->NN if Pos:CC@[-1]\n",
      "   4   4   0   0  | CD->-NONE- if Pos:IN@[-1] & Word:0@[0]\n",
      "   4   4   0   0  | IN->NN if Pos:NNS@[-1] & Word:year@[0]\n",
      "   4   4   0   0  | NN->, if Pos:RB@[-1] & Word:,@[0]\n",
      "   4   4   0   0  | NN->: if Pos:NN@[-1] & Word:--@[0]\n",
      "   4   4   0   0  | NN->IN if Pos:NN@[-1] & Word:in@[0]\n",
      "   4   4   0   0  | NN->PRP if Pos:NN@[-1] & Word:it@[0]\n",
      "   4   4   0   0  | NN->TO if Pos:VBG@[-1] & Word:to@[0]\n",
      "   4   4   0   0  | NN->WDT if Pos:,@[-1] & Word:which@[0]\n",
      "TBL train (fast) (seqs: 100; tokens: 2417; tpls: 2; min score: 2; min acc: None)\n",
      "Finding initial useful rules...\n",
      "    Found 845 useful rules.\n",
      "\n",
      "           B      |\n",
      "   S   F   r   O  |        Score = Fixed - Broken\n",
      "   c   i   o   t  |  R     Fixed = num tags changed incorrect -> correct\n",
      "   o   x   k   h  |  u     Broken = num tags changed correct -> incorrect\n",
      "   r   e   e   e  |  l     Other = num tags changed incorrect -> incorrect\n",
      "   e   d   n   r  |  e\n",
      "------------------+-------------------------------------------------------\n",
      " 132 132   0   0  | AT->DT if Pos:NN@[-1]\n",
      "  85  85   0   0  | NN->, if Pos:NN@[-1] & Word:,@[0]\n",
      "  69  69   0   0  | NN->. if Pos:NN@[-1] & Word:.@[0]\n",
      "  51  51   0   0  | NN->IN if Pos:NN@[-1] & Word:of@[0]\n",
      "  47  63  16 161  | NN->IN if Pos:NNS@[-1]\n",
      "  33  33   0   0  | NN->TO if Pos:NN@[-1] & Word:to@[0]\n",
      "  26  26   0   0  | IN->. if Pos:NNS@[-1] & Word:.@[0]\n",
      "  24  24   0   0  | IN->, if Pos:NNS@[-1] & Word:,@[0]\n",
      "  22  27   5  24  | NN->-NONE- if Pos:VBD@[-1]\n",
      "  17  17   0   0  | NN->CC if Pos:NN@[-1] & Word:and@[0]\n",
      "  17  17   0   3  | NNS->POS if Pos:NN@[-1] & Word:'s@[0]\n",
      "  16  16   0   6  | NN->VB if Pos:TO@[-1]\n",
      "  16  16   0   0  | IN->CC if Pos:NNS@[-1] & Word:and@[0]\n",
      "  15  15   0   0  | NN->-NONE- if Pos:NN@[-1] & Word:*U*@[0]\n",
      "  15  15   0   0  | NN->IN if Pos:NN@[-1] & Word:for@[0]\n",
      "  14  14   0   0  | NN->VBD if Pos:NN@[-1] & Word:said@[0]\n",
      "  13  13   0   0  | AT->DT if Pos:VBD@[-1]\n",
      "  12  12   0   0  | CD->-NONE- if Pos:VBD@[-1] & Word:0@[0]\n",
      "  10  10   0   0  | NN->IN if Pos:NN@[-1] & Word:from@[0]\n",
      "   9   9   0   0  | AT->DT if Pos:NNS@[-1]\n",
      "   9   9   0   0  | NN->$ if Pos:NN@[-1] & Word:$@[0]\n",
      "   8   8   0   2  | VBD->VBN if Pos:IN@[-1]\n",
      "   8   8   0   0  | NN->-NONE- if Pos:NN@[-1] & Word:*@[0]\n",
      "   8  13   5  20  | NN->IN if Pos:-NONE-@[-1]\n",
      "   8   8   0   0  | NN->CD if Pos:CD@[-1] & Word:billion@[0]\n",
      "   8   8   0   0  | NN->IN if Pos:NN@[-1] & Word:on@[0]\n",
      "   8   8   0   0  | NN->IN if Pos:NN@[-1] & Word:with@[0]\n",
      "   8   8   0   0  | NNS->VBZ if Pos:NN@[-1] & Word:is@[0]\n",
      "   7   7   0   7  | IN->NNP if Pos:POS@[-1]\n",
      "  10  34  24  79  | NN->NNP if Pos:IN@[-1]\n",
      "   6   6   0   0  | AT->DT if Pos:VBG@[-1]\n",
      "   6   6   0   0  | IN->VBP if Pos:NNS@[-1] & Word:are@[0]\n",
      "   6   6   0   0  | NN->-NONE- if Pos:NN@[-1] & Word:*T*-1@[0]\n",
      "   6   6   0   0  | NNS->NN if Pos:IN@[-1] & Word:asbestos@[0]\n",
      "   5   5   0   0  | IN->-NONE- if Pos:-NONE-@[-1] & Word:*T*-1@[0]\n",
      "   5   5   0   0  | IN->VBD if Pos:NNS@[-1] & Word:were@[0]\n",
      "   5   5   0   0  | NN->CD if Pos:CD@[-1] & Word:million@[0]\n",
      "   5   5   0   0  | NNP->$ if Pos:IN@[-1] & Word:$@[0]\n",
      "   5   5   0   0  | NNS->VBZ if Pos:NN@[-1] & Word:has@[0]\n",
      "   4   4   0   0  | VBD->VBN if Pos:VBZ@[-1]\n",
      "   4   4   0   0  | VBG->NN if Pos:CC@[-1]\n",
      "   4   4   0   0  | CD->-NONE- if Pos:IN@[-1] & Word:0@[0]\n",
      "   4   4   0   0  | IN->NN if Pos:NNS@[-1] & Word:year@[0]\n",
      "   4   4   0   0  | NN->, if Pos:RB@[-1] & Word:,@[0]\n",
      "   4   4   0   0  | NN->: if Pos:NN@[-1] & Word:--@[0]\n",
      "   4   4   0   0  | NN->IN if Pos:NN@[-1] & Word:in@[0]\n",
      "   4   4   0   0  | NN->PRP if Pos:NN@[-1] & Word:it@[0]\n",
      "   4   4   0   0  | NN->TO if Pos:VBG@[-1] & Word:to@[0]\n",
      "   4   4   0   0  | NN->WDT if Pos:,@[-1] & Word:which@[0]\n",
      "   4   4   0   0  | NNP->DT if Pos:IN@[-1] & Word:any@[0]\n"
     ]
    }
   ],
   "source": [
    "rules = np.arange(1, 51)\n",
    "\n",
    "perfs = []\n",
    "\n",
    "for r in rules:\n",
    "\n",
    "    #templates \n",
    "    Template._cleartemplates() \n",
    "\n",
    "    #clear any templates created in earlier tests \n",
    "    templates = [Template(Pos([-1])), Template(Pos([-1]), Word([0]))]\n",
    "\n",
    "    #construct a BrillTaggerTrainer \n",
    "    tt = BrillTaggerTrainer(baseline, templates, trace=3)\n",
    "\n",
    "    tagger1 = tt.train(training_data, max_rules = r)\n",
    "    perfs.append(tagger1.evaluate(gold_data))"
   ]
  },
  {
   "cell_type": "markdown",
   "metadata": {},
   "source": [
    "*We when plot the results, we can see that performance is steadily increasing, although it begins to plateau at about 30-40 rules.*"
   ]
  },
  {
   "cell_type": "code",
   "execution_count": 182,
   "metadata": {},
   "outputs": [
    {
     "data": {
      "image/png": "[encoded data removed]",
      "text/plain": [
       "<Figure size 432x288 with 1 Axes>"
      ]
     },
     "metadata": {
      "needs_background": "light"
     },
     "output_type": "display_data"
    }
   ],
   "source": [
    "plt.plot(rules, perfs, '-bo')\n",
    "plt.title(\"Brill Tagger Performance by Number of Rules\")\n",
    "plt.xlabel(\"Number of Rules\")\n",
    "plt.ylabel('Performance')\n",
    "plt.show()"
   ]
  },
  {
   "cell_type": "markdown",
   "metadata": {},
   "source": [
    "##### 33.\n",
    "\n",
    "◑ Write code that builds a dictionary of dictionaries of sets. Use it to store the set of POS tags that can follow a given word having a given POS tag, i.e. $\\text{word}_i$ → $\\text{tag}_i$ → $\\text{tag}_{i+1}$.\n",
    "\n",
    "*It took quite a lot of trial and error to find the code that would create  nested dictionaries that were able to handle multiple entries.  It was quite easy to create nested dictionaries, but the problem was that instead of appending new key-value pairs, it would erase the previous one when updating to a new one.*"
   ]
  },
  {
   "cell_type": "code",
   "execution_count": 183,
   "metadata": {},
   "outputs": [],
   "source": [
    "tag_plus = []\n",
    "\n",
    "# simplified tagset\n",
    "bts = brown.tagged_sents(tagset = 'universal')\n",
    "\n",
    "# make a list of words with their tag and tag+1\n",
    "for sent in bts:\n",
    "    for i in range(len(sent) - 1):\n",
    "        tag_plus.append((sent[i][0].lower(), sent[i][1], sent[i + 1][1]))\n",
    "        \n",
    "\n",
    "# get rid of duplicates\n",
    "tag_plus = set(tag_plus)"
   ]
  },
  {
   "cell_type": "code",
   "execution_count": 184,
   "metadata": {},
   "outputs": [],
   "source": [
    "from collections import defaultdict \n",
    "\n",
    "POS = defaultdict(list)\n",
    "\n",
    "for word, tag1, tag2 in tag_plus:\n",
    "    POS[word].append({tag1: tag2})\n",
    "    "
   ]
  },
  {
   "cell_type": "code",
   "execution_count": 185,
   "metadata": {},
   "outputs": [
    {
     "data": {
      "text/plain": [
       "[{'DET': 'PRON'},\n",
       " {'X': 'X'},\n",
       " {'DET': 'ADJ'},\n",
       " {'DET': 'X'},\n",
       " {'DET': 'CONJ'},\n",
       " {'DET': 'ADV'},\n",
       " {'DET': 'ADP'},\n",
       " {'DET': 'NUM'},\n",
       " {'X': '.'},\n",
       " {'DET': 'PRT'},\n",
       " {'DET': 'NOUN'},\n",
       " {'DET': '.'},\n",
       " {'DET': 'VERB'}]"
      ]
     },
     "execution_count": 185,
     "metadata": {},
     "output_type": "execute_result"
    }
   ],
   "source": [
    "POS['the']"
   ]
  },
  {
   "cell_type": "code",
   "execution_count": 186,
   "metadata": {},
   "outputs": [
    {
     "data": {
      "text/plain": [
       "[{'AT': 'NNS$'},\n",
       " {'AT-HL': 'JJ-TL-HL'},\n",
       " {'AT': 'NR-TL'},\n",
       " {'AT': 'NPS-TL'},\n",
       " {'AT-HL': 'NP-TL-HL'},\n",
       " {'AT-HL': 'NNS-HL'},\n",
       " {'AT-HL': 'NR-HL'},\n",
       " {'AT-HL': 'NR-TL-HL'},\n",
       " {'AT': 'AP'},\n",
       " {'AT': 'VBN-TL'},\n",
       " {'AT': 'VBG-TL'},\n",
       " {'AT-TL': 'NP'},\n",
       " {'AT': 'JJT-TL'},\n",
       " {'AT': 'NR$-TL'},\n",
       " {'AT': 'NPS'},\n",
       " {'AT': 'FW-NN'},\n",
       " {'AT': 'NP-TL'},\n",
       " {'AT-NC': 'NN-NC'},\n",
       " {'AT-NC': 'JJR-NC'},\n",
       " {'AT': 'JJS-TL'},\n",
       " {'AT': 'JJ'},\n",
       " {'AT': 'VB'},\n",
       " {'AT': '``'},\n",
       " {'AT': 'FW-NN$'},\n",
       " {'AT': 'VBN'},\n",
       " {'AT-TL': 'NNS-TL'},\n",
       " {'AT': 'ABN'},\n",
       " {'AT-HL': 'JJ-TL'},\n",
       " {'AT-TL': 'NP-TL'},\n",
       " {'AT-TL': ','},\n",
       " {'AT': 'NN+BEZ'},\n",
       " {'AT': 'CC'},\n",
       " {'AT': 'FW-NN-TL'},\n",
       " {'AT': 'FW-CC'},\n",
       " {'AT': 'FW-JJ-TL'},\n",
       " {'AT': ','},\n",
       " {'AT-TL': 'NR-TL'},\n",
       " {'AT-TL': 'JJ$-TL'},\n",
       " {'AT': '--'},\n",
       " {'AT': 'NP'},\n",
       " {'AT': 'NN+HVZ'},\n",
       " {'AT-TL': 'NNS$-TL'},\n",
       " {'AT': 'NN-TL'},\n",
       " {'AT': 'PPO'},\n",
       " {'AT-TL': 'NPS-TL'},\n",
       " {'AT': 'JJ-TL'},\n",
       " {'AT': 'NP$-TL'},\n",
       " {'AT': 'VBD'},\n",
       " {'AT': 'UH'},\n",
       " {'AT': 'RB'},\n",
       " {'AT-TL': 'VBG'},\n",
       " {'AT-HL': 'NN-HL'},\n",
       " {'AT-TL': 'JJ-TL'},\n",
       " {'AT': 'FW-NNS'},\n",
       " {'AT': 'JJR'},\n",
       " {'AT-TL': 'JJ'},\n",
       " {'AT': 'NN'},\n",
       " {'AT': 'RB-TL'},\n",
       " {'AT': 'RP'},\n",
       " {'AT': 'AP-TL'},\n",
       " {'AT-HL': 'VBG-HL'},\n",
       " {'AT': '.'},\n",
       " {'AT': 'OD'},\n",
       " {'AT-HL': 'JJ'},\n",
       " {'AT': 'RBT'},\n",
       " {'NIL': 'NIL'},\n",
       " {'AT-TL': 'NPS'},\n",
       " {'AT': 'FW-NNS-TL'},\n",
       " {'AT': 'NNS-TL'},\n",
       " {'AT-TL': 'VBN-TL'},\n",
       " {'AT-NC': 'JJT-NC'},\n",
       " {'AT-HL': 'VBN-HL'},\n",
       " {'AT': 'PN'},\n",
       " {'AT-HL': 'OD-HL'},\n",
       " {'AT-HL': 'JJ-HL'},\n",
       " {'AT': 'CD'},\n",
       " {'AT': 'FW-JJT'},\n",
       " {'AT': 'IN'},\n",
       " {'AT': 'QL'},\n",
       " {'AT-HL': 'NP$-HL'},\n",
       " {'AT': \"'\"},\n",
       " {'AT': 'NR'},\n",
       " {'AT': \"''\"},\n",
       " {'AT-NC': 'NPS-NC'},\n",
       " {'AT-HL': 'JJR-HL'},\n",
       " {'AT': 'VBG'},\n",
       " {'AT-HL': 'NP-HL'},\n",
       " {'AT-TL': 'NN$-TL'},\n",
       " {'AT-HL': '``'},\n",
       " {'AT': 'JJ-HL'},\n",
       " {'AT': 'VBZ'},\n",
       " {'AT': 'JJR-TL'},\n",
       " {'AT': 'VB-TL'},\n",
       " {'AT': 'NNS'},\n",
       " {'AT': 'FW-JJ'},\n",
       " {'AT-TL': 'VBG-TL'},\n",
       " {'AT-TL-HL': 'VBN-TL-HL'},\n",
       " {'AT': 'MD'},\n",
       " {'AT': 'FW-VB'},\n",
       " {'AT-HL': 'NN-TL-HL'},\n",
       " {'AT-HL': 'CD-HL'},\n",
       " {'AT-TL': 'NN'},\n",
       " {'AT-HL': 'AP-HL'},\n",
       " {'AT-TL': 'OD-TL'},\n",
       " {'AT': 'NN$-TL'},\n",
       " {'AT-TL': 'JJT'},\n",
       " {'AT-TL': 'CD-TL'},\n",
       " {'AT': 'RBR'},\n",
       " {'AT-HL': 'WRB-HL'},\n",
       " {'AT': 'FW-NN-TL-NC'},\n",
       " {'AT-TL': 'NP$-TL'},\n",
       " {'AT-TL': 'RB-TL'},\n",
       " {'AT': 'BEZ-NC'},\n",
       " {'AT': 'AP$'},\n",
       " {'AT': 'JJS'},\n",
       " {'AT': 'NIL'},\n",
       " {'AT-TL': 'AP-TL'},\n",
       " {'AT': 'NN-HL'},\n",
       " {'AT-TL': 'JJR-TL'},\n",
       " {'AT': 'NN$'},\n",
       " {'AT-NC': 'NNS-NC'},\n",
       " {'AT': 'NNS$-TL'},\n",
       " {'AT': 'NPS$'},\n",
       " {'AT': 'FW-IN-TL'},\n",
       " {'AT': '('},\n",
       " {'AT': 'JJT'},\n",
       " {'AT': 'IN-TL'},\n",
       " {'AT': 'OD-TL'},\n",
       " {'AT-TL': 'CD'},\n",
       " {'AT': 'NN+MD'},\n",
       " {'AT-TL': '``'},\n",
       " {'AT': 'CD-TL'},\n",
       " {'AT': '*'},\n",
       " {'AT-TL': 'NN-TL'},\n",
       " {'AT': 'FW-RB'},\n",
       " {'AT': 'NP$'},\n",
       " {'AT-TL': 'JJR'},\n",
       " {'AT': 'FW-IN'},\n",
       " {'AT-HL': 'NN$-HL'},\n",
       " {'NIL': '``'}]"
      ]
     },
     "execution_count": 186,
     "metadata": {},
     "output_type": "execute_result"
    }
   ],
   "source": [
    "# same as above, but with the native Brown tags\n",
    "from collections import defaultdict \n",
    "tag_plus = []\n",
    "\n",
    "bts = brown.tagged_sents()\n",
    "\n",
    "# make a list of words with their tag and tag+1\n",
    "for sent in bts:\n",
    "    for i in range(len(sent) - 1):\n",
    "        tag_plus.append((sent[i][0].lower(), sent[i][1], sent[i + 1][1]))\n",
    "        \n",
    "\n",
    "# get rid of duplicates\n",
    "tag_plus = set(tag_plus)\n",
    "\n",
    "POS = defaultdict(list)\n",
    "\n",
    "for word, tag1, tag2 in tag_plus:\n",
    "    POS[word].append({tag1: tag2})\n",
    "    \n",
    "\n",
    "POS['the']"
   ]
  },
  {
   "cell_type": "markdown",
   "metadata": {},
   "source": [
    "##### 34. \n",
    "\n",
    "★ There are 264 distinct words in the Brown Corpus having exactly three possible tags.\n",
    "\n",
    "* a. Print a table with the integers 1..10 in one column, and the number of distinct words in the corpus having 1..10 distinct tags in the other column.\n",
    "\n",
    "* b. For the word with the greatest number of distinct tags, print out sentences from the corpus containing the word, one for each possible tag.\n",
    "\n",
    "*Using the same code as 5.15.2:*"
   ]
  },
  {
   "cell_type": "code",
   "execution_count": 187,
   "metadata": {},
   "outputs": [],
   "source": [
    "from collections import defaultdict\n",
    "\n",
    "# create a ConditionalFreqDist with all the words in the corpus,\n",
    "# with counts of each of their tags\n",
    "dt = nltk.ConditionalFreqDist(brown.tagged_words())\n",
    "\n",
    "# create a dictionary where the keys will be the number of distinct tags\n",
    "tags = defaultdict(list)\n",
    "for w in set(brown.words()):\n",
    "    tags[len(dt[w])].append(w)"
   ]
  },
  {
   "cell_type": "code",
   "execution_count": 188,
   "metadata": {},
   "outputs": [
    {
     "data": {
      "text/plain": [
       "1146"
      ]
     },
     "execution_count": 188,
     "metadata": {},
     "output_type": "execute_result"
    }
   ],
   "source": [
    "len(tags[3])"
   ]
  },
  {
   "cell_type": "markdown",
   "metadata": {},
   "source": [
    "*I'm very interested to know how they arrived at this figure.  If we just do a frequency distribution on the unaltered tags, we find that there are 1,146 words in the corpus with three possible tags.*\n",
    "\n",
    "*If we eliminate suffixes for headlines and cited passages, we'll get 267 words.  I played around with eliminating other combinations of tags, and this is as close as I could get to 264. However, the maximum number of distinct tags in this group is 7 - again different from what's specified in the question, where it appears we could have up to 10 distinct tags.*\n",
    "\n",
    "*So I'm just going to use the unaltered frequenices.  In this case, a word could have up to 12 distinct tags, not 10.*"
   ]
  },
  {
   "cell_type": "code",
   "execution_count": 189,
   "metadata": {},
   "outputs": [
    {
     "data": {
      "text/plain": [
       "12"
      ]
     },
     "execution_count": 189,
     "metadata": {},
     "output_type": "execute_result"
    }
   ],
   "source": [
    "max(tags)"
   ]
  },
  {
   "cell_type": "code",
   "execution_count": 190,
   "metadata": {},
   "outputs": [
    {
     "name": "stdout",
     "output_type": "stream",
     "text": [
      "1 \t 47328\n",
      "2 \t 7186\n",
      "3 \t 1146\n",
      "4 \t 265\n",
      "5 \t 87\n",
      "6 \t 27\n",
      "7 \t 12\n",
      "8 \t 1\n",
      "9 \t 1\n",
      "10 \t 2\n",
      "11 \t 1\n",
      "12 \t 1\n"
     ]
    }
   ],
   "source": [
    "for i in range(1, 13):\n",
    "    print(i, \"\\t\", len(tags[i]))"
   ]
  },
  {
   "cell_type": "code",
   "execution_count": 191,
   "metadata": {},
   "outputs": [
    {
     "data": {
      "text/plain": [
       "['that']"
      ]
     },
     "execution_count": 191,
     "metadata": {},
     "output_type": "execute_result"
    }
   ],
   "source": [
    "tags[12]"
   ]
  },
  {
   "cell_type": "code",
   "execution_count": 192,
   "metadata": {},
   "outputs": [
    {
     "name": "stdout",
     "output_type": "stream",
     "text": [
      "EXAMPLE OF CS:\n",
      "('The', 'AT')\n",
      "('Fulton', 'NP-TL')\n",
      "('County', 'NN-TL')\n",
      "('Grand', 'JJ-TL')\n",
      "('Jury', 'NN-TL')\n",
      "('said', 'VBD')\n",
      "('Friday', 'NR')\n",
      "('an', 'AT')\n",
      "('investigation', 'NN')\n",
      "('of', 'IN')\n",
      "(\"Atlanta's\", 'NP$')\n",
      "('recent', 'JJ')\n",
      "('primary', 'NN')\n",
      "('election', 'NN')\n",
      "('produced', 'VBD')\n",
      "('``', '``')\n",
      "('no', 'AT')\n",
      "('evidence', 'NN')\n",
      "(\"''\", \"''\")\n",
      "('that', 'CS')\n",
      "('any', 'DTI')\n",
      "('irregularities', 'NNS')\n",
      "('took', 'VBD')\n",
      "('place', 'NN')\n",
      "('.', '.')\n",
      "-------------------------\n",
      "EXAMPLE OF WPS:\n",
      "('Regarding', 'IN')\n",
      "(\"Atlanta's\", 'NP$')\n",
      "('new', 'JJ')\n",
      "('multi-million-dollar', 'JJ')\n",
      "('airport', 'NN')\n",
      "(',', ',')\n",
      "('the', 'AT')\n",
      "('jury', 'NN')\n",
      "('recommended', 'VBD')\n",
      "('``', '``')\n",
      "('that', 'CS')\n",
      "('when', 'WRB')\n",
      "('the', 'AT')\n",
      "('new', 'JJ')\n",
      "('management', 'NN')\n",
      "('takes', 'VBZ')\n",
      "('charge', 'NN')\n",
      "('Jan.', 'NP')\n",
      "('1', 'CD')\n",
      "('the', 'AT')\n",
      "('airport', 'NN')\n",
      "('be', 'BE')\n",
      "('operated', 'VBN')\n",
      "('in', 'IN')\n",
      "('a', 'AT')\n",
      "('manner', 'NN')\n",
      "('that', 'WPS')\n",
      "('will', 'MD')\n",
      "('eliminate', 'VB')\n",
      "('political', 'JJ')\n",
      "('influences', 'NNS')\n",
      "(\"''\", \"''\")\n",
      "('.', '.')\n",
      "-------------------------\n",
      "EXAMPLE OF DT:\n",
      "('``', '``')\n",
      "('Actually', 'RB')\n",
      "(',', ',')\n",
      "('the', 'AT')\n",
      "('abuse', 'NN')\n",
      "('of', 'IN')\n",
      "('the', 'AT')\n",
      "('process', 'NN')\n",
      "('may', 'MD')\n",
      "('have', 'HV')\n",
      "('constituted', 'VBN')\n",
      "('a', 'AT')\n",
      "('contempt', 'NN')\n",
      "('of', 'IN')\n",
      "('the', 'AT')\n",
      "('Criminal', 'JJ-TL')\n",
      "('court', 'NN-TL')\n",
      "('of', 'IN-TL')\n",
      "('Cook', 'NP')\n",
      "('county', 'NN')\n",
      "(',', ',')\n",
      "('altho', 'CS')\n",
      "('vindication', 'NN')\n",
      "('of', 'IN')\n",
      "('the', 'AT')\n",
      "('authority', 'NN')\n",
      "('of', 'IN')\n",
      "('that', 'DT')\n",
      "('court', 'NN')\n",
      "('is', 'BEZ')\n",
      "('not', '*')\n",
      "('the', 'AT')\n",
      "('function', 'NN')\n",
      "('of', 'IN')\n",
      "('this', 'DT')\n",
      "('court', 'NN')\n",
      "(\"''\", \"''\")\n",
      "(',', ',')\n",
      "('said', 'VBD')\n",
      "('Karns', 'NP')\n",
      "(',', ',')\n",
      "('who', 'WPS')\n",
      "('is', 'BEZ')\n",
      "('a', 'AT')\n",
      "('City', 'NN-TL')\n",
      "('judge', 'NN')\n",
      "('in', 'IN')\n",
      "('East', 'JJ-TL')\n",
      "('St.', 'NP-TL')\n",
      "('Louis', 'NP-TL')\n",
      "('sitting', 'VBG')\n",
      "('in', 'IN')\n",
      "('Cook', 'NP-TL')\n",
      "('County', 'NN-TL')\n",
      "('court', 'NN-TL')\n",
      "('.', '.')\n",
      "-------------------------\n",
      "EXAMPLE OF QL:\n",
      "('While', 'CS')\n",
      "('the', 'AT')\n",
      "('city', 'NN')\n",
      "('council', 'NN')\n",
      "('suggested', 'VBD')\n",
      "('that', 'CS')\n",
      "('the', 'AT')\n",
      "('Legislative', 'JJ-TL')\n",
      "('Council', 'NN-TL')\n",
      "('might', 'MD')\n",
      "('perform', 'VB')\n",
      "('the', 'AT')\n",
      "('review', 'NN')\n",
      "(',', ',')\n",
      "('Mr.', 'NP')\n",
      "('Notte', 'NP')\n",
      "('said', 'VBD')\n",
      "('that', 'QL')\n",
      "('instead', 'RB')\n",
      "('he', 'PPS')\n",
      "('will', 'MD')\n",
      "('take', 'VB')\n",
      "('up', 'RP')\n",
      "('the', 'AT')\n",
      "('matter', 'NN')\n",
      "('with', 'IN')\n",
      "('Atty.', 'NN-TL')\n",
      "('Gen.', 'JJ-TL')\n",
      "('J.', 'NP')\n",
      "('Joseph', 'NP')\n",
      "('Nugent', 'NP')\n",
      "('to', 'TO')\n",
      "('get', 'VB')\n",
      "('``', '``')\n",
      "('the', 'AT')\n",
      "('benefit', 'NN')\n",
      "('of', 'IN')\n",
      "('his', 'PP$')\n",
      "('views', 'VBZ')\n",
      "(\"''\", \"''\")\n",
      "('.', '.')\n",
      "-------------------------\n",
      "EXAMPLE OF WPO:\n",
      "('He', 'PPS')\n",
      "('was', 'BEDZ')\n",
      "('able', 'JJ')\n",
      "('to', 'TO')\n",
      "('smell', 'VB')\n",
      "('a', 'AT')\n",
      "('bargain', 'NN')\n",
      "('--', '--')\n",
      "('and', 'CC')\n",
      "('a', 'AT')\n",
      "('masterpiece', 'NN')\n",
      "('--', '--')\n",
      "('a', 'AT')\n",
      "('continent', 'NN')\n",
      "('away', 'RB')\n",
      "(',', ',')\n",
      "('and', 'CC')\n",
      "('the', 'AT')\n",
      "('Museum', 'NN-TL')\n",
      "('of', 'IN-TL')\n",
      "('Modern', 'JJ-TL')\n",
      "(\"Art's\", 'NN$-TL')\n",
      "('Alfred', 'NP')\n",
      "('Barr', 'NP')\n",
      "('said', 'VBD')\n",
      "('of', 'IN')\n",
      "('him', 'PPO')\n",
      "(':', ':')\n",
      "('``', '``')\n",
      "('I', 'PPSS')\n",
      "('have', 'HV')\n",
      "('never', 'RB')\n",
      "('mentioned', 'VBN')\n",
      "('a', 'AT')\n",
      "('new', 'JJ')\n",
      "('artist', 'NN')\n",
      "('that', 'WPO')\n",
      "('Thompson', 'NP')\n",
      "(\"didn't\", 'DOD*')\n",
      "('know', 'VB')\n",
      "('about', 'IN')\n",
      "(\"''\", \"''\")\n",
      "('.', '.')\n",
      "-------------------------\n",
      "EXAMPLE OF CS-HL:\n",
      "('According', 'IN')\n",
      "('to', 'IN')\n",
      "('the', 'AT')\n",
      "('official', 'JJ')\n",
      "('interpretation', 'NN')\n",
      "('of', 'IN')\n",
      "('the', 'AT')\n",
      "('Charter', 'NN-TL')\n",
      "(',', ',')\n",
      "('a', 'AT')\n",
      "('member', 'NN')\n",
      "('cannot', 'MD*')\n",
      "('be', 'BE')\n",
      "('penalized', 'VBN')\n",
      "('by', 'IN')\n",
      "('not', '*')\n",
      "('having', 'HVG')\n",
      "('the', 'AT')\n",
      "('right', 'NN')\n",
      "('to', 'TO')\n",
      "('vote', 'VB')\n",
      "('in', 'IN')\n",
      "('the', 'AT')\n",
      "('General', 'JJ-TL')\n",
      "('Assembly', 'NN-TL')\n",
      "('for', 'IN')\n",
      "('nonpayment', 'NN')\n",
      "('of', 'IN')\n",
      "('financial', 'JJ')\n",
      "('obligations', 'NNS')\n",
      "('to', 'IN')\n",
      "('the', 'AT')\n",
      "('``', '``')\n",
      "('special', 'JJ')\n",
      "(\"''\", \"''\")\n",
      "('United', 'VBN-TL')\n",
      "(\"Nations'\", 'NNS$-TL')\n",
      "('budgets', 'NNS')\n",
      "(',', ',')\n",
      "('and', 'CC')\n",
      "('of', 'IN')\n",
      "('course', 'NN')\n",
      "('cannot', 'MD*')\n",
      "('be', 'BE')\n",
      "('expelled', 'VBN')\n",
      "('from', 'IN')\n",
      "('the', 'AT')\n",
      "('Organization', 'NN-TL')\n",
      "('(', '(')\n",
      "('which', 'WDT')\n",
      "('you', 'PPSS')\n",
      "('suggested', 'VBD')\n",
      "('in', 'IN')\n",
      "('your', 'PP$')\n",
      "('editorial', 'NN')\n",
      "(')', ')')\n",
      "(',', ',')\n",
      "('due', 'RB')\n",
      "('to', 'IN-HL')\n",
      "('the', 'AT-HL')\n",
      "('fact', 'NN-HL')\n",
      "('that', 'CS-HL')\n",
      "('there', 'EX')\n",
      "('is', 'BEZ')\n",
      "('no', 'AT')\n",
      "('provision', 'NN')\n",
      "('in', 'IN')\n",
      "('the', 'AT')\n",
      "('Charter', 'NN-TL')\n",
      "('for', 'IN')\n",
      "('expulsion', 'NN')\n",
      "('.', '.')\n",
      "-------------------------\n",
      "EXAMPLE OF DT-NC:\n",
      "('He', 'PPS')\n",
      "('has', 'HVZ')\n",
      "('his', 'PP$')\n",
      "('own', 'JJ')\n",
      "('system', 'NN')\n",
      "('of', 'IN')\n",
      "('shorthand', 'NN')\n",
      "(',', ',')\n",
      "('devised', 'VBN')\n",
      "('by', 'IN')\n",
      "('abbreviations', 'NNS')\n",
      "(':', ':')\n",
      "('``', '``')\n",
      "('humility', 'NN')\n",
      "(\"''\", \"''\")\n",
      "('will', 'MD')\n",
      "('be', 'BE')\n",
      "('``', '``')\n",
      "('humly', 'NN-NC')\n",
      "(\"''\", \"''\")\n",
      "(',', ',')\n",
      "('``', '``')\n",
      "('with', 'IN-NC')\n",
      "(\"''\", \"''\")\n",
      "('will', 'MD')\n",
      "('be', 'BE')\n",
      "('``', '``')\n",
      "('w', 'NN')\n",
      "(\"''\", \"''\")\n",
      "(',', ',')\n",
      "('and', 'CC')\n",
      "('``', '``')\n",
      "('that', 'DT-NC')\n",
      "(\"''\", \"''\")\n",
      "('will', 'MD')\n",
      "('be', 'BE')\n",
      "('``', '``')\n",
      "('tt', 'NN')\n",
      "(\"''\", \"''\")\n",
      "('.', '.')\n",
      "-------------------------\n",
      "EXAMPLE OF NIL:\n",
      "('Thus', 'NIL')\n",
      "(',', ',')\n",
      "('as', 'NIL')\n",
      "('a', 'NIL')\n",
      "('development', 'NIL')\n",
      "('program', 'NIL')\n",
      "('is', 'NIL')\n",
      "('being', 'NIL')\n",
      "('launched', 'NIL')\n",
      "(',', ',')\n",
      "('commitments', 'NIL')\n",
      "('and', 'NIL')\n",
      "('obligations', 'NIL')\n",
      "('must', 'NIL')\n",
      "('be', 'NIL')\n",
      "('entered', 'NIL')\n",
      "('into', 'NIL')\n",
      "('in', 'NIL')\n",
      "('a', 'NIL')\n",
      "('given', 'NIL')\n",
      "('year', 'NIL')\n",
      "('which', 'NIL')\n",
      "('may', 'NIL')\n",
      "('exceed', 'NIL')\n",
      "('by', 'NIL')\n",
      "('twofold', 'NIL')\n",
      "('or', 'NIL')\n",
      "('threefold', 'NIL')\n",
      "('the', 'NIL')\n",
      "('expenditures', 'NIL')\n",
      "('to', 'NIL')\n",
      "('be', 'NIL')\n",
      "('made', 'NIL')\n",
      "('in', 'NIL')\n",
      "('that', 'NIL')\n",
      "('year', 'NIL')\n",
      "('.', '.')\n",
      "-------------------------\n",
      "EXAMPLE OF WPS-NC:\n",
      "('In', 'IN')\n",
      "('of', 'IN-NC')\n",
      "('all', 'ABN-NC')\n",
      "('the', 'AT-NC')\n",
      "('suggestions', 'NNS-NC')\n",
      "('that', 'WPS-NC')\n",
      "('were', 'BED-NC')\n",
      "('made', 'VBN-NC')\n",
      "(',', ',-NC')\n",
      "('his', 'PP$-NC')\n",
      "('was', 'BEDZ-NC')\n",
      "('the', 'AT-NC')\n",
      "('silliest', 'JJT-NC')\n",
      "('the', 'AT')\n",
      "('possessive', 'NN')\n",
      "('his', 'PP$-NC')\n",
      "('represents', 'VBZ')\n",
      "('his', 'PP$-NC')\n",
      "('suggestion', 'NN-NC')\n",
      "('and', 'CC')\n",
      "('is', 'BEZ')\n",
      "('stressed', 'VBN')\n",
      "('.', '.')\n",
      "-------------------------\n",
      "EXAMPLE OF WPO-NC:\n",
      "('Thus', 'RB')\n",
      "('to', 'IN-NC')\n",
      "('has', 'HVZ')\n",
      "('light', 'JJ')\n",
      "('stress', 'NN')\n",
      "('both', 'ABX')\n",
      "('in', 'IN')\n",
      "('that', 'DT-NC')\n",
      "('was', 'BEDZ-NC')\n",
      "('the', 'AT-NC')\n",
      "('conclusion', 'NN-NC')\n",
      "('that', 'WPO-NC')\n",
      "('I', 'PPSS-NC')\n",
      "('came', 'VBD-NC')\n",
      "('to', 'IN-NC')\n",
      "('and', 'CC')\n",
      "('in', 'IN')\n",
      "('that', 'DT-NC')\n",
      "('was', 'BEDZ-NC')\n",
      "('the', 'AT-NC')\n",
      "('conclusion', 'NN-NC')\n",
      "('I', 'PPSS-NC')\n",
      "('came', 'VBD-NC')\n",
      "('to', 'IN-NC')\n",
      "('.', '.')\n",
      "-------------------------\n",
      "EXAMPLE OF CS-NC:\n",
      "('But', 'CC')\n",
      "('when', 'WRB')\n",
      "('to', 'TO-NC')\n",
      "('represents', 'VBZ')\n",
      "('to', 'IN-NC')\n",
      "('consciousness', 'NN-NC')\n",
      "('in', 'IN')\n",
      "('that', 'WPS-NC')\n",
      "('was', 'BEDZ-NC')\n",
      "('the', 'AT-NC')\n",
      "('moment', 'NN-NC')\n",
      "('that', 'CS-NC')\n",
      "('I', 'PPSS-NC')\n",
      "('came', 'VBD-NC')\n",
      "('to', 'IN-NC')\n",
      "(',', ',')\n",
      "('and', 'CC')\n",
      "('similarly', 'RB')\n",
      "('in', 'IN')\n",
      "('that', 'WPS-NC')\n",
      "('was', 'BEDZ-NC')\n",
      "('the', 'AT-NC')\n",
      "('moment', 'NN-NC')\n",
      "('I', 'PPSS-NC')\n",
      "('came', 'VBD-NC')\n",
      "('to', 'IN-NC')\n",
      "(',', ',')\n",
      "('there', 'EX')\n",
      "('is', 'BEZ')\n",
      "('much', 'QL')\n",
      "('stronger', 'JJR')\n",
      "('stress', 'NN')\n",
      "('on', 'IN')\n",
      "('to', 'IN-NC')\n",
      "('.', '.')\n",
      "-------------------------\n",
      "EXAMPLE OF WPS-HL:\n",
      "('Factors', 'NNS-HL')\n",
      "('that', 'WPS-HL')\n",
      "('inhibit', 'VB-HL')\n",
      "('learning', 'VBG-HL')\n",
      "('and', 'CC-HL')\n",
      "('lead', 'VB-HL')\n",
      "('to', 'IN-HL')\n",
      "('maladjustment', 'NN-HL')\n",
      "-------------------------\n"
     ]
    }
   ],
   "source": [
    "that_tags = [tag for tag in dt['that']]\n",
    "\n",
    "for sent in brown.tagged_sents():\n",
    "    for word in sent:\n",
    "        if word[0] == 'that' and word[1] in that_tags:\n",
    "            print(\"EXAMPLE OF {}:\".format(word[1]))\n",
    "            print(*sent, sep = '\\n')\n",
    "            that_tags.remove(word[1])\n",
    "            print('-------------------------')\n"
   ]
  },
  {
   "cell_type": "markdown",
   "metadata": {},
   "source": [
    "##### 35.\n",
    "\n",
    "★ Write a program to classify contexts involving the word *must* according to the tag of the following word. Can this be used to discriminate between the epistemic and deontic uses of *must*?\n",
    "\n",
    "*__Epistemic__ and __deontic__ modality... Of course I know what you're talking about.  No need to explain anything for me...*\n",
    "\n",
    "*This wasn't hard to look up, but a definition would have been nice...  There's a [Wikipedia entry](https://en.wikipedia.org/wiki/Linguistic_modality#Epistemic_and_deontic_modality \"Epistemic and deontic modality\") which gives good examples.  Basically, epistemic modality refers to logically deducing something (E.g., \"He must have done it.\"); where deontic modality refers to obligation, and is comparable to \"have to\" (e.g., \"You must do it.\").*\n",
    "\n",
    "*I would argue that the tag of the following word can only partially discriminate between the two modalities.  If a verb other than 'have' follows 'must', we can be reasonably sure that this is a deontic use of 'must': e.g., \"You must brush your teeth before going to bed.\"*\n",
    "\n",
    "*If the following word is 'have', it's most likely that this is an epistemic use of 'must', since we're probably postulating that something __must have__ happened (e.g., \"He must have eaten my sandwich\").  However, there is still the slight possibility that 'have' is being used in the sense of 'to possess', in which case this would be a deontic use of 'must': e.g., \"You must have your permission slip to go on the trip.\"* \n",
    "\n",
    "*However, if the following word is 'be', we need to know the context in order to determine the modality.  \"You must be tired\" is clearly a epistemic use of \"must\"; whereas \"You must be quiet\" is surely a deontic use.*\n",
    "\n",
    "*In my code, I used a basic dictionary to tabulate the count of the tags that come after 'must':*"
   ]
  },
  {
   "cell_type": "code",
   "execution_count": 193,
   "metadata": {},
   "outputs": [],
   "source": [
    "must = {}\n",
    "\n",
    "bts = brown.tagged_sents()\n",
    "\n",
    "# tabulate the tags that come after 'must'\n",
    "for sent in bts:\n",
    "    for i in range(len(sent) - 1):\n",
    "        if sent[i][0].lower() == 'must':\n",
    "            must[sent[i + 1][1]] = must.get(sent[i + 1][1], 0) + 1\n"
   ]
  },
  {
   "cell_type": "code",
   "execution_count": 194,
   "metadata": {},
   "outputs": [
    {
     "data": {
      "text/plain": [
       "{'BE': 369,\n",
       " 'VB': 354,\n",
       " 'VB-HL': 2,\n",
       " 'HV': 136,\n",
       " '*': 21,\n",
       " 'VB-TL': 2,\n",
       " 'IN': 6,\n",
       " \"''\": 3,\n",
       " 'RB': 74,\n",
       " 'NP-HL': 1,\n",
       " ',': 17,\n",
       " 'DO': 7,\n",
       " 'PPSS': 1,\n",
       " 'AT': 2,\n",
       " '.': 1,\n",
       " 'NNS': 1,\n",
       " 'CC': 2,\n",
       " 'BE-HL': 2,\n",
       " 'VBZ': 1,\n",
       " 'HV-TL': 1,\n",
       " 'PPLS': 1,\n",
       " 'NIL': 1,\n",
       " 'RB-HL': 1,\n",
       " 'ABX': 1,\n",
       " 'PPO': 2,\n",
       " 'NN': 1,\n",
       " 'PPS': 2,\n",
       " 'ABN': 1}"
      ]
     },
     "execution_count": 194,
     "metadata": {},
     "output_type": "execute_result"
    }
   ],
   "source": [
    "must"
   ]
  },
  {
   "cell_type": "markdown",
   "metadata": {},
   "source": [
    "*I used a different program to sort the sentences by context.  The sentences are again grouped by the tag that follows 'must'.  Since the tagged sentences are a bit difficult to read, I used the corresponding sentence from `brown.sents()` instead.*"
   ]
  },
  {
   "cell_type": "code",
   "execution_count": 195,
   "metadata": {},
   "outputs": [],
   "source": [
    "from collections import defaultdict \n",
    "must_examples = defaultdict(list)\n",
    "\n",
    "bts = brown.tagged_sents()\n",
    "bs = brown.sents()\n",
    "\n",
    "# if a sentence has must, add the sentence to the dictionary\n",
    "for x in range(len(bts)):\n",
    "    for i in range(len(bts[x]) - 1):\n",
    "        if bts[x][i][0].lower() == 'must':\n",
    "            must_examples[bts[x][i + 1][1]].append(' '.join(bs[x]))"
   ]
  },
  {
   "cell_type": "code",
   "execution_count": 196,
   "metadata": {},
   "outputs": [
    {
     "data": {
      "text/plain": [
       "defaultdict(list,\n",
       "            {'BE': ['The largest hurdle the Republicans would have to face is a state law which says that before making a first race , one of two alternative courses must be taken : 1',\n",
       "              'On the negative side of the balance sheet must be set some disappointment that the United States leadership has not been as much in evidence as hoped for .',\n",
       "              \"The secretary's greatest achievement is perhaps the rekindling of NATO realization that East-West friction , wherever it take place around the globe , is in essence the general conflict between two entirely different societies , and must be treated as such without regard to geographical distance or lack of apparent connection .\",\n",
       "              \"The small shops `` must be retained , for they provide essential service to the community '' , according to the resolution , which added that they `` also are the source of livelihood for thousands of our neighbors '' .\",\n",
       "              'The law which governs home rule charter petitions states that they must be referred to the chairman of the board of canvassers for verification of the signatures within 10 days and Mr. Martinelli happens to hold that post .',\n",
       "              'At present all offenses must be taken to Sixth District Court for disposition .',\n",
       "              \"`` We have no reason to fear failure , but we must be extraordinarily patient '' , the assistant secretary said .\",\n",
       "              \"`` Nae , man '' , said Willie , `` ye must be countin' the echoes '' .\",\n",
       "              'The spokesman said the number to be furloughed cannot be estimated since the lay-offs must be carried out in each area depending on what men are most needed on the job .',\n",
       "              \"We must be ready for any needed sacrifice '' .\",\n",
       "              'In such an instance , revenuers stressed , the deduction must be reduced by the value of the benefit received .',\n",
       "              'Requests must be mailed in by December 5 .',\n",
       "              'In the above mentioned report of the Notre Dame Chapter of the American Association of University Professors , the basic outlook of the new breed of lay faculty emerges very clearly in the very statement of the problem as the members see it : `` Even with the best of intentions he ( the President of the university ) is loath to delegate such authority and responsibility to a group the membership of which , considered ( as it must be by him ) in individual terms , is inhomogeneous , mortal and of extremely varying temperament , interests and capabilities .',\n",
       "              'Once more the fallacious equation is advanced to argue that since business is restricted under the anti-monopoly laws , there must be a corresponding restriction against labor unions : the law must treat everybody equally .',\n",
       "              'If a substitute mechanism is needed for the control of a fictitious impersonal market , quite obviously some method must be devised for representing the public interest .',\n",
       "              'The problem must be faced squarely .',\n",
       "              'Education must not be limited to our youth but must be a continuing process through our entire lives , for it is only through knowledge that we , as a nation , can cope with the dangers that threaten our society .',\n",
       "              'If this choice is less exciting than New York Democrats may wish , it nevertheless must be made .',\n",
       "              'But because of the peculiar nature of the military situation in Laos , the Soviet leader must be tempted to let things ride -- a course that would appear to cost him little on the spot , but would bog Washington in a tactical mess .',\n",
       "              'Whether this , or overt action , was the cause of the crash must be promptly determined .',\n",
       "              'Of course , some of the credit for the sale boost must be given to improvement in the weather and to the fact that Easter comes more than two weeks earlier than in 1960 .',\n",
       "              'And there must be many Soviet citizens who know what is going on and who realize that before they can hope to enjoy the full life promised for 1980 they and their children must first survive .',\n",
       "              'We want the past forgiven , but at the same time we must be willing for God to direct the future .',\n",
       "              'Finally , we must be willing to forgive others as many times as they sin against us .',\n",
       "              'We expect him to be noble , and to make us so -- yet he knows , and tries to tell us , how very humble man must be .',\n",
       "              'On the question of admission to Veterans Administration hospitals of service-connected and non-service-connected disabled veterans , it must be recognized that there are many men who are greatly affected by war service .',\n",
       "              'The American public must be presented with the facts concerning VA hospitalization .',\n",
       "              'Morrison points out that since our country is more urbanized than the Soviet Union or Red China , it is the most vulnerable of the great powers -- Europe of course must be written off out of hand .',\n",
       "              'Somehow our contemporary Moloch must be induced to see reason .',\n",
       "              'To this must be added the 90 to 92 megatons of fission yield produced between the dawn of the atomic age in 1945 and the informal three-power test moratorium that began in November , 1958 .',\n",
       "              'But there must be a catalytic pressure .',\n",
       "              'as a result buyers , the public , must be satisfied with second-rate teachers .',\n",
       "              \"It holds an equally valuable lesson for a society where the word `` intellectual '' has become a term of opprobrium to millions of well-meaning people who somehow imagine that it must be destructive of the simpler human virtues .\",\n",
       "              'If your favorite song is not here it must be an unfamiliar one .',\n",
       "              \"He contends this idea doesn't conflict with experiments on which the principle of conservation of matter and energy is based because some slight error must be assumed in such experiments .\",\n",
       "              'Still a demurrer or two must be entered .',\n",
       "              'As faulty as has been our leadership clearly the United States must be relied upon to lead .',\n",
       "              'Such a man must be able and willing to give clear and sensible advice to the whole group , a person in whom all the member nations will have absolute confidence .',\n",
       "              'This leader must be a man who lives above illusions that heretofore have shaped the foreign policy of the United States , namely that Russia will agree to a reunited Germany , that the East German government does not exist , that events in Japan in June 1960 were Communist-inspired , that the true government of China is in Formosa , that Mao was the evil influence behind Khrushchev at the Summit Conference in Paris in May 1960 , and that either China or Russia wants or expects war .',\n",
       "              \"In West Africa , for example , where meat is a luxury and babies must be weaned early to make room at the breast for later arrivals , a childhood menace is kwashiorkor , or `` Red Johnny '' , a growth-stunting protein deficiency ( signs : reddish hair , bloated belly ) that kills more than half its victims , leaves the rest prey for parasites and lingering tropical disease .\",\n",
       "              'When we say that a mythological mode of thought must be completely abandoned , we mean it must be abandoned as the sole or proper means for presenting the Christian understanding of existence .',\n",
       "              'When we say that a mythological mode of thought must be completely abandoned , we mean it must be abandoned as the sole or proper means for presenting the Christian understanding of existence .',\n",
       "              'This is what we mean when we say this demand must be accepted without condition .',\n",
       "              'This must be stressed because it is absolutely essential to the argument of this concluding chapter .',\n",
       "              'When we say , then , that today , in our situation , the demand for demythologization must be accepted without condition , we are simply saying that at least this much of the liberal tradition is an enduring achievement .',\n",
       "              \"If the demand for demythologization is unavoidable and so must be accepted by theology unconditionally , the position of the `` right '' is clearly untenable .\",\n",
       "              'But it must be readily seen that the religious picture in England has so greatly changed during these hundred years as to engender hope , at least on the Catholic side .',\n",
       "              'While it must be said that these same Protestants have built some new churches during this period , and that religious population shifts have emptied churches , a principal reason for this phenomenon of redundancy is that fewer Protestants are going to church .',\n",
       "              'It must be getting more serious .',\n",
       "              \"A visitor from a more peaceful country across the sea was taken to one of our amusement parks , and after he had seen it all , he said to a friend : `` You must be a very sad people '' .\",\n",
       "              'It must be planned and carefully developed .',\n",
       "              'The entire membership of the local church must be alerted to their part in this dynamic process .',\n",
       "              'Care must be taken neither to confuse unity with uniformity nor God with our parochial ideas about him , but with these two qualifications , the statement stands .',\n",
       "              'Presumably , if the reverse is the case and the good effect is more certain than the evil result that may be forthcoming , not only must the good and the evil be prudentially weighed and found proportionate , but also calculation of the probabilities and of the degree of certainty or uncertainty in the good or evil effect must be taken into account .',\n",
       "              'Thus , moral decision must be entirely deduced backward from the likely eventuality ; ;',\n",
       "              'Several of the replies to Mr. Toynbee , without conscious resort to the traditional terminology with regard to the permission of evil , succeed in restoring the actual context in which present moral and political decisions must be made , by distinguishing between choosing a great evil and choosing in danger of this evil .',\n",
       "              'Finally , just as no different issues are posed for thoughtful analysis by the foreshortening of time that may yet pass before the end of human life on this earth , but only stimulation and alarm to the imagination , the same thing must be said in connection with the question of what we may perhaps already be doing , by human action , to accelerate this end .',\n",
       "              'Here , too , must be placed Unitarianism and , less obviously from Christian inspiration , Emerson , Transcendentalism , and the idealism of Walt Whitman .',\n",
       "              \"Do not wonder that I said to thee , `` You must be born again '' .\",\n",
       "              \"Do not wonder that I said to thee , ' You must be born again ' '' .\",\n",
       "              \"`` You must be born again '' ( St. John 3 : 7 ) .\",\n",
       "              \"Because of a missile's ballistic trajectory , the location of a fixed target must be known quite accurately .\",\n",
       "              'The forces which survive the initial attack must be found and destroyed .',\n",
       "              'Even mobile forces must be found and destroyed .',\n",
       "              'These crucial questions must be answered by post-attack reconnaissance .',\n",
       "              'The number of locking bars required depends on how many false moves must be prevented .',\n",
       "              \"Interlocking signals are normally at stop or `` red '' position , and a lever must be pulled to `` clear '' the signal .\",\n",
       "              'Fitting the locking bars and making the locking pieces is a rather tedious job since stop screws , tappets and locking bars must be removed and replaced many times .',\n",
       "              'As the work progresses the frame and moving parts become a sort of Chinese puzzle where several pieces must be removed before the part you are working on is accessible .',\n",
       "              'When more than two figures are separated by subtraction symbols the subtraction must be carried out from the left to right if the result is to be correct .',\n",
       "              'Cylinder volume can be determined mathematically but combustion chamber volume must be measured with a liquid .',\n",
       "              \"The volume of the cylinder opening in the head gasket must be computed by multiplying its area in square inches by the gasket's thickness in thousandths of an inch .\",\n",
       "              'Another thing that must be taken into consideration is the volume of the area between the top of the piston and the top of the cylinder block when the piston is in top dead center position .',\n",
       "              'A tire must be inflated to its normal hot operating pressure and the car must be loaded to its operating weight when this measurement is made .',\n",
       "              'A tire must be inflated to its normal hot operating pressure and the car must be loaded to its operating weight when this measurement is made .',\n",
       "              'The measurement must be in inches .',\n",
       "              'Any fraction of an inch involved in the measurement must be converted to a decimal equivalent to simplify the mathematics .',\n",
       "              \"The first time I saw the latter filly she trotted by me and I noticed such a family resemblance that I said to myself , `` that must be Hickory Ash '' .\",\n",
       "              'they must be free of oil , wax and dust .',\n",
       "              \"All dressing ( undressing to be more exact ) must be done in our small bath house or at the swimmers' homes .\",\n",
       "              'And divers must be enjoined to look before they leap , either on top of someone else or onto a pool edge .',\n",
       "              'All bottles must be kept a safe distance away from the pool and drinking glasses are banned in favor of plastic or metal cups .',\n",
       "              \"This is precisely what makes lucid , straightforward music so difficult to compose -- the clarity must be new , not old '' .\",\n",
       "              \"I think the answer is to be found in Prokofieff's own words : `` the clarity must be new , not old '' .\",\n",
       "              'It must be conceded that his native land provided Prokofieff with many of the necessary conditions for great creative incentive : economic security and cultural opportunities , incisive idioms , social fermentations for a new national ideology -- a sympathetic public and a large body of performers especially trained to fulfill his purpose .',\n",
       "              'Many cells , bacteria , and other microorganisms are transparent to visible light and must be stained for microscopic investigation .',\n",
       "              'The microscope and orthicon are both selected to operate well into the ultraviolet spectrum , which means that all lenses must be quartz .',\n",
       "              'For many of these measurements the chest must be opened , but the blood vessels and the heart itself remain undisturbed .',\n",
       "              'Animals eat only from one side , so the fence-line bunk must be twice as long as the mechanical bunk .',\n",
       "              'These bunks also serve as a fence , so part of the additional cost must be attributed to the fence .',\n",
       "              'All-weather roads must be provided next to the feeding floor so access will be possible all year .',\n",
       "              'Obviously , the four year provision limits this to fundamentals and much desirable material must be eliminated .',\n",
       "              \"He must be capable of designing for and supervising the manufacture of any craft materials needed in the furnishings '' .\",\n",
       "              'In the earlier years of training certain phases of the work must be covered and the synthetic problem has its use .',\n",
       "              'Here , too , the reality of actual furniture must be experienced .',\n",
       "              'Beyond any question of curriculum and approach to subject must be the quality of the teachers themselves .',\n",
       "              'The matter of sympathy of the academic professors for art objectives also must be taken into account .',\n",
       "              \"In granting bereavement leaves , specify the maximum time off and list what the worker's relation to the deceased must be to qualify .\",\n",
       "              'The amount paid by the oil company to Tri-State for the use of its oil distribution system and the privilege of supplying all the homes , is subject to negotiation but naturally must be profitable to both parties .',\n",
       "              'There must be a restriction in the deed to provide that the customer may not be charged more than the current market price for the oil , an obvious precaution , since the account is permanently wedded , just like with gas or electricity .',\n",
       "              'Frequently , the message must be changed at intervals to feature new products , price changes , etc. .',\n",
       "              'Three seconds flat is the usual time , and the space is crossed by moderate mileage , while the overwhelming immensity of such journeys must be conceived as a static pulsation through an enormous number of coexistent frequencies which perpetuate all events .',\n",
       "              'If the photographically realistic continuity of dreams , however bizarre their combinations , denies that it is purely a composition of the brain , it must be compounded from views of diverse realities , although some of them may never be encountered in what we are pleased to call the real life .',\n",
       "              'Privacy must be highly assured both in time and place .',\n",
       "              'This must be done at the rate at which new bony tissue grows , and no faster .',\n",
       "              \"The possibility has to be ruled out that the medium's ESP may tap the memory of the sitter , and to do this , the two central characters in this drama must be separated .\",\n",
       "              \"The farmer's life must be arranged to meet the demands of crops and livestock .\",\n",
       "              'Livestock must be tended every day , routinely .',\n",
       "              'No matter how well work is planned , bad weather or unexpected setbacks can cause extra work that must be caught up .',\n",
       "              'If the farm is rented , the rent must be paid .',\n",
       "              'If it is owned , taxes must be paid , and if the place is not free of mortgage , there will be interest and payments on the principal to take care of .',\n",
       "              'If you are considering a part-time farm where the water must be provided by a well , find out if there is a good well on the farm or the probable cost of having one drilled .',\n",
       "              'If the house is not wired adequately for electricity or if plumbing or a central heating system must be installed , check into the cost of making these improvements .',\n",
       "              \"But he is a West Point graduate and therefore must be born to command '' .\",\n",
       "              'And while every writer must be dealt with as a special case , the interested student will want to ask himself a number of questions about each .',\n",
       "              'While a wind wave never travels at more than 60 miles per hour , the velocity of a tsunami in the open sea must be reckoned in hundreds of miles per hour .',\n",
       "              'but if granting self-determination to the Algerian rebels entails sweeping that area into the Sino-Soviet orbit , then Algerian freedom must be postponed .',\n",
       "              'but if justice for Bantus entails driving the government of the Union of South Africa away from the West , then the Bantus must be prepared to carry their identification cards yet a while longer .',\n",
       "              'We had nearly decided that all the tales of Lao lethargy must be true , when we were invited to take a trip with the Prime Minister .',\n",
       "              'Those souls like to wander off , and must be called back .',\n",
       "              'If this must be done , they should always be corked and kept in a cool place ; ;',\n",
       "              'But it soon became clear that the search for eighteenth-century furniture ( which Mrs. Kennedy feels is the proper period for the White House ) must be pursued in places other than government storage rooms .',\n",
       "              \"Many years later ( on August 3 , 1915 ) , Lucy Upton wrote Winslow's daughter soon to be graduated from Smith College : `` While I love botany which , after dabbling in for years , I studied according to the methods of that day exactly forty years ago in a summer school , it must be fascinating to take up zoology in the way you are doing .\",\n",
       "              'To be sure , in tool-and-die work and in the building trades , the first job must be often on an apprentice basis , but two years of half-time vocational training enables the young man thus to anticipate one year of apprentice status .',\n",
       "              'The separate vocational or technical high schools in the large cities must be reckoned as permanent institutions .',\n",
       "              \"It has become almost trite to say that the ecumenical movement must be `` carried down to the grass roots '' .\",\n",
       "              \"The prevailing view in the industry was summed up in 1912 by a group of auto makers who told a Senate committee : `` The exceedingly unsatisfactory and uselessly expensive conditions , including delays surrounding legal disputes , particularly in patent litigation , are items of industrial burden which must be written large in figures of many millions of dollars of industrial waste '' .\",\n",
       "              'Engages must be loyal to the concessionaires , and must serve until the term provided in the engagement was ended .',\n",
       "              'Bienville realized that if the French were to hold the southeastern tribes against the enticements of British goods , French traders must be able to offer a supply as abundant as the Carolinians and at reasonable prices .',\n",
       "              'If this trade should be resumed , the habitants who had come to be farmers or artisans , and soldiers discharged from the army , must be hardened to the severe life of coureurs de bois .',\n",
       "              \"It would be directed against the actual location of the unjust policy which , for love's sake and for the sake of justice , must be removed , and , indivisible from this , to the economic injury of the people directly and objectively a part of this policy .\",\n",
       "              'His assumption seems to be that any such friends , being tolerable humans , must be more liberal than most Southerners and therefore at least partly in sympathy with his views .',\n",
       "              \"The pieces must be placed in the context of the prepared messages by Wisman's staff .\",\n",
       "              'The work must be true to both the physical and the spiritual character of the experience .',\n",
       "              'If the Union conceded this to them , the same right must be conceded to each remaining state whenever it saw fit to secede : This would destroy the federal balance between it and the states , and in the end sacrifice to the sovereignty of the states all the liberty the citizens had gained by their Union .',\n",
       "              \"It is there and it must be allowed in '' .\",\n",
       "              'But Aristotle kept the principle of levels and even augmented it by describing in the Poetics what kinds of character and action must be imitated if the play is to be a vehicle of serious and important human truths .',\n",
       "              \"A man must be able to say , `` Father , I have sinned '' , or there is no hope for him .\",\n",
       "              'He catches criminals not merely because he is paid to do so ( frequently he does not receive a fee at all ) , but because he enjoys his work , because he firmly believes that murder must be punished .',\n",
       "              'The networks for military communications are one of the best examples of networks which not only must be changed with the changes in objectives but also must be changed with the addition of new machines of war .',\n",
       "              'The networks for military communications are one of the best examples of networks which not only must be changed with the changes in objectives but also must be changed with the addition of new machines of war .',\n",
       "              'They also furnish proof that , in modern war , message sending must be monitored .',\n",
       "              'and for this human beings must be firmly in control of the economics on which our society rests .',\n",
       "              'Strikes should be declared illegal against corporations because disagreements would have to be settled by government representatives acting as controllers of the corporation whose responsibility to the state would now be defined against proprietorship because employees and proprietors must be completely interdependent , as they are each a part of the whole .',\n",
       "              'New ideas were dangerous and must be repressed , no matter how .',\n",
       "              'Of course , there must be clarity : a single distinct impression is more valuable than many fuzzy ones .',\n",
       "              'But the fact remains that even the unconscious acceptance of himself as a man of destiny divinely protected must be censored in any man who evades the responsibility for his major decisions , and thus for imposing his will on the people .',\n",
       "              'If the existent form is to be retained new factors that reinforce it must be introduced into the situation .',\n",
       "              'If many of the characters in contemporary novels appear to be the bloodless relations of characters in a case history it is because the novelist is often forgetful today that those things that we call character manifest themselves in surface behavior , that the ego is still the executive agency of personality , and that all we know of personality must be discerned through the ego .',\n",
       "              'It must be granted that the flouting of convention , no matter how well intentioned one may be , is sure to lead to trouble , or at least to the discomfort that goes with social disapproval .',\n",
       "              \"Miriam said that she must be assured that `` that other woman , Olga , will not be in luxury while I am scraping along '' .\",\n",
       "              'We must be ever alert that freedom does not wither through the careless amassing of restrictive controls or the lack of courage to deal boldly with the issues of the day .',\n",
       "              \"In The Publick Spirit of the Whigs , it may be noted , Swift himself contemptuously dismissed Steele's reference to his friend at court : `` I suppose by the Style of old Friend , and the like , it must be some Body there of his own Level ; ;\",\n",
       "              \"Mercer is supposed to have refused it with , `` Anyone who wears a square monacle must be affected '' ! !\",\n",
       "              'After allowing for group exposures , it is apparent that other factors must be considered if we are to comprehend fanaticism .',\n",
       "              'These moments are historical events in the lives of individual authors with which the student of comparative literature must be frequently concerned .',\n",
       "              'The volume is a piece of passionate special pleading , written with the heat -- and often with the wisdom , it must be said -- of a Liberal damning the shortsightedness of politicians from 1782 to 1832 .',\n",
       "              \"`` There must be a line '' ! !\",\n",
       "              \"Poetry , he said , must be `` dogmatic '' : it must not stoop to argue like a `` K.C. in cloth-of-gold '' .\",\n",
       "              'Banks the Butcher took Meltzer the Scholar as an apprentice and he made it very clear that a man of learning must be able to do more than just quote the Commentaries of the Talmud in order to live .',\n",
       "              \"Asked by the townsmen to cease his suit , Greville had answered that `` hytt shulde coste hym 500 first & sayed it must be tried ether before my Lorde Anderson in the countrey or his uncle Ffortescue in the exchequer with whom he colde more prevaile then we '' .\",\n",
       "              'In fact , if judgments are to be rendered upon the soundness of his historicism , they must be based on scanty evidence .',\n",
       "              'In all fairness it must be admitted that Adams made no pretense at being an impartial historian .',\n",
       "              'It was history that must be in error , not the historian .',\n",
       "              \"One example of this was his assertion that `` all servile revolts must be dealt with by physical force '' .\",\n",
       "              'He telephoned L. M. Birkhead and asked him and his wife to come to Europe as his guests , but Birkhead declined on the grounds that one of them must be in the United States when Elmer Gantry was published .',\n",
       "              \"In a pessimistic assessment of the cold war , Eden declared : `` There must be much closer unity within the West before there can be effective negotiation with the East '' .\",\n",
       "              \"While I fully agree with Sir Anthony's contention , I think that we must carry the analysis farther , bearing in mind that while common peril may be the measure of our need , the existence or absence of a positive sense of community must be the measure of our capacity .\",\n",
       "              \"A realistic balancing of the need for new forms of international organization on the one hand , and our capacity to achieve them on the other , must be approached through the concept of `` community '' .\",\n",
       "              'Evidence that other sources of financing are unavailable must be provided .',\n",
       "              \"To qualify for either type of loan , an applicant must be a small business or approved small business `` pool '' and must meet certain credit requirements .\",\n",
       "              'A proposed loan must be for sound purposes or sufficiently secured so as to assure a reasonable chance of repayment .',\n",
       "              'To be eligible to borrow from a Bank for Cooperatives , a cooperative must be an association in which farmers act together in processing and marketing farm products , purchasing farm supplies , or furnishing farm business services , and must meet the requirements set forth in the Farm Credit Act of 1933 , as amended .',\n",
       "              'It must be recognized that countries at different stages of development have very different capabilities of meeting such conditions .',\n",
       "              'Open societies can take many forms , and within very broad limits recipients must be free to set their own goals and to devise their own institutions to achieve those goals .',\n",
       "              \"Once we have made clear that we are genuinely concerned with a country's development potential , we can be blunt in suggesting the technical conditions that must be met for development to occur .\",\n",
       "              'For both economic and political reasons all segments of the population must be able to share in the growth of a country .',\n",
       "              'The whole program must be conceived of as an effort , stretching over a considerable number of years , to alter the basic social and economic conditions in the less developed world .',\n",
       "              'It must be recognized as a slow-acting tool designed to prevent political and military crises such as those recently confronted in Laos and Cuba .',\n",
       "              'Moreover , on complex projects , design work must be completed and orders for machinery and equipment placed months or even years before construction can commence .',\n",
       "              'Most important of all , the less developed countries must be persuaded to take the necessary steps to allocate and commit their own resources .',\n",
       "              'They must be induced to establish the necessary tax , fiscal , monetary , and regulatory policies .',\n",
       "              'They must be persuaded to adopt the other necessary self-help measures which are described in the preceding section .',\n",
       "              'If the less developed countries are to be persuaded to adopt a long-term approach , the United States , as the principal supplier of external aid , must be prepared to give long-term commitments .',\n",
       "              'However , it must be stressed that much depends upon the financial condition of the individual cities and towns involved .',\n",
       "              'each situation must be studied and a plan developed that takes into consideration such factors as the effect of the existing and prospective tax calendars , the financial condition of the treasuries , and the length of the transition interval .',\n",
       "              'Three requirements go with a blockade : It must be proclaimed ; ;',\n",
       "              'the blockading force must be powerful enough to enforce it ; ;',\n",
       "              'and it must be enforced without discrimination .',\n",
       "              \"If the resulting difference for the particular State is less or more than these extremes , the State's allotment percentage must be raised or lowered to the appropriate extreme .\",\n",
       "              \"( Each State's unadjusted allotment for any fiscal year , which exceeds its minimum allotment described in item 13 below by a percentage greater than one and one-half times the percentage by which the sum being allotted exceeds $23,000,000 , must be reduced by the amount of the excess .\",\n",
       "              \"If the resulting difference for the particular State is less or more than these extremes , the State's Federal share must be raised or lowered to the appropriate extreme .\",\n",
       "              'As soon as the shelter is completed a radio reception check must be made .',\n",
       "              'Food , medical supplies , utensils , and equipment , if not already stored in the shelter , must be quickly gathered up and carried into it .',\n",
       "              \"There we held `` that the statutory scheme for review , within the selective service system , entitles [ conscientious objectors ] to no guarantee that the FBI reports must be produced for their inspection '' .\",\n",
       "              'Means must be found to enable us to keep in touch as regularly and as efficiently as possible with our colleagues in other departments concerned with foreign policy .',\n",
       "              'Our aim must be to learn as much as we teach .',\n",
       "              'For this must be the project of the whole American people .',\n",
       "              'The extent to which participating bodies such as U. S. voluntary agencies , universities , international organizations , and the host country or institutions in the host country can and should share the cost of the Peace Corps programs must be fully explored .',\n",
       "              \"As you said in your State of the Union message , `` The problems are towering and unprecedented -- and the response must be towering and unprecedented as well '' .\",\n",
       "              'The change of emphasis from conventional-type to missile-type warfare must be made with care , mindful that the one type of warfare cannot be safely neglected in favor of the other .',\n",
       "              'Our military forces must be capable of contending successfully with any contingency which may be forced upon us , from limited emergencies to all-out nuclear general war .',\n",
       "              'The cost of developing a major weapon system is now so enormous that the greatest care must be exercised in selecting new systems for development , in determining the most satisfactory rate of development , and in deciding the proper time at which either to place a system into production or to abandon it .',\n",
       "              'Rather , such assignments are made , as they must be , on the basis of certain overall rules and standards , representing to some extent a statistical approach to the problem , taking into account for each situation some of the variables ( e.g. , power and station separations ) and averaging out others in order to achieve the balance which must be struck between protection against destructive interference and the assignment of a number of stations large enough to afford optimum radio service to the Nation .',\n",
       "              'Rather , such assignments are made , as they must be , on the basis of certain overall rules and standards , representing to some extent a statistical approach to the problem , taking into account for each situation some of the variables ( e.g. , power and station separations ) and averaging out others in order to achieve the balance which must be struck between protection against destructive interference and the assignment of a number of stations large enough to afford optimum radio service to the Nation .',\n",
       "              'The rules and policies to be applied in this process of course must be based on objectives which represent what is to be desired if radio service is to be of maximum use to the Nation .',\n",
       "              'During nighttime hours , because of the intense skywave propagation then prevailing , no large number of stations can be permitted to operate on one of these channels , if the wide area service for which these frequencies are assigned is to be rendered satisfactorily by the dominant stations which must be relied upon to render it .',\n",
       "              'Any failure to file timely returns or make estimated tax payments when due must be fully explained .',\n",
       "              'Extensions are not granted as a matter of course , and the reasons for your request must be substantial .',\n",
       "              'Interest at the rate of 6% a year must be paid on taxes that are not paid on or before their due date .',\n",
       "              'Such interest must be paid even though an extension of time for filing is granted .',\n",
       "              'Production must be adjusted accordingly , at minimum cost and quickly .',\n",
       "              'For the near term , however , it must be realized that the industrial and commercial market is somewhat more sensitive to general business conditions than is the military market , and for this reason I would expect that any gain in 1961 may be somewhat smaller than those of recent years ; ;',\n",
       "              'A busy president , conversant with a problem and its ramifications and beset by pressures to meet deadlines , tends naturally to assume that others must be as familiar with a problem as he is .',\n",
       "              'In the first instance , adequate appropriate reading materials and library accommodations must be planned .',\n",
       "              'Budgeting must be flexible to allow adaptation to the rapid changes in scientific and technological scholarship .',\n",
       "              'Since he can neither accept nor reject them all , he must be governed by the time and energy available for his prime professional obligations .',\n",
       "              'The apparent black-body disk temperature is the temperature which must be assumed for the black body in order that the intensity of its radiation should equal that of the observed radiation .',\n",
       "              'Under this assumption the space group must be Af and the following are the positions of the atoms in the unit cell .',\n",
       "              'Freed soil must be dispersed and protected against flocculation .',\n",
       "              'Cleaned cloth must be protected against the redeposition of dispersed soil .',\n",
       "              '-- Although there was some variation in results which must be attributed either to trace impurities or to variation in wall effects , the photochemical exchange in the gas phase was sufficiently reproducible so that it seemed meaningful to compare the reaction rates in different series of reaction tubes for the purpose of obtaining information on the effect of chlorine concentration and of carbon tetrachloride concentration on the reaction rate .',\n",
       "              'Since there is a continual loss of micrometeoritic material in space because of the radiation effects , there must be a continual replenishment : otherwise , micrometeorites would have disappeared from interplanetary space .',\n",
       "              'In considering BW defense , it must be recognized that a number of critical meterological parameters must be met for an aerosol to exhibit optimum effect .',\n",
       "              'In considering BW defense , it must be recognized that a number of critical meterological parameters must be met for an aerosol to exhibit optimum effect .',\n",
       "              'The secondary consequences from this could be very serious and must be taken into consideration in planning for defense .',\n",
       "              'It must be remembered , however , that there are many agents for which there is no solid immunity and a partial or low-grade immunity may be broken by an appropriate dose of agent .',\n",
       "              'There must be several dozen species in the United States alone .',\n",
       "              'This must be due to a completely identical response to the weather , in the plant and the animal .',\n",
       "              'Only the amethystine python and the anaconda must be excluded for lack or paucity of data .',\n",
       "              'However , as so many of the records are not certainly based on newborn snakes , these data must be taken tentatively ; ;',\n",
       "              'The mono- and di-iodotyrosine must be coupled to form tri-iodothyronine and thyroxine .',\n",
       "              'A function G such that Af , i.e. , Af , must be a polynomial function of degree Af or less : Af .',\n",
       "              \"For an experiment to qualify as a binomial experiment , it must have four properties : ( 1 ) there must be a fixed number of trials , ( 2 ) each trial must result in a `` success '' or a `` failure '' ( a binomial trial ) , ( 3 ) all trials must have identical probabilities of success , ( 4 ) the trials must be independent of each other .\",\n",
       "              \"For an experiment to qualify as a binomial experiment , it must have four properties : ( 1 ) there must be a fixed number of trials , ( 2 ) each trial must result in a `` success '' or a `` failure '' ( a binomial trial ) , ( 3 ) all trials must have identical probabilities of success , ( 4 ) the trials must be independent of each other .\",\n",
       "              'The fact that there can not be any limit points of the set except in closed intervals follows from the argument used in Lemma 1 , namely , that near any tangent point in the C-plane the curves C and Af are analytic , and therefore the difference between them must be a monotone function in some neighborhood on either side of the tangent point .',\n",
       "              'First , for any value of T for which all values of f{t} are ordinary points the number of values of f{t} must be odd .',\n",
       "              'For it is clear that the total number of ordinary intersections of C and Af must be even ( otherwise , starting in the interior of C , Af could not finally return to the interior ) , and the center of rotation at T is the argument of the function , not a value .',\n",
       "              'Then every component of the graph of F must be defined over a bounded sub-interval .',\n",
       "              'Thus the multiplicity of Af for a given T must be an even number .',\n",
       "              'There must be an odd number of such components , which will be called complete components .',\n",
       "              'Hence it follows that the involution within the bundle must be a perspective De Jonquieres involution of order Af and the invariant locus must have a multiple line of multiplicity either Af or Af .',\n",
       "              'But if no two lines of the regulus of multiple secants of **zg can intersect , then the regulus must be quadratic , or in other words , **zg must be either a Af or a Af curve on a nonsingular quadric surface .',\n",
       "              'But if no two lines of the regulus of multiple secants of **zg can intersect , then the regulus must be quadratic , or in other words , **zg must be either a Af or a Af curve on a nonsingular quadric surface .',\n",
       "              'Feelings of a community of interest will have to be recreated -- in some of the new nations , indeed , they must be built for the first time -- on a new basis which looks toward the future and does not rely only on shared memories of the past .',\n",
       "              'To achieve this goal of balanced development , communications between the central government and the local communities must be such that the needs and aspirations of the people themselves are effectively taken into account .',\n",
       "              'Several related tasks must be carried out if self-sustaining growth is to be achieved .',\n",
       "              'Capital imports drawn from a number of sources must be employed and combined skillfully enough to permit domestic investment programming to go forward .',\n",
       "              'Capital flows must be coordinated with national needs and planning .',\n",
       "              'Finally , a balance must be effected among project finance , utilization of agricultural surpluses , and general balance of payments support .',\n",
       "              'It must be marked by a patience and persistence which have not always been its trademark .',\n",
       "              'As seen in the B. family , there must be an attempt to help the client develop conscious awareness of the problem , especially in the absence of a formal request for assistance .',\n",
       "              'The unhealthy use of denial in the initial reaction to a stress must be handled through the medium of a positive controlled transference .',\n",
       "              'The initial interview must be therapeutic rather than purely exploratory in an information-seeking sense .',\n",
       "              \"Over a relatively short period of time , usually about four to twelve weeks , the worker must be able to shift the focus , back and forth , between immediate external stressful exigencies ( `` precipitating stress '' ) and the key , emotionally relevant issues ( `` underlying problem '' ) which are , often in a dramatic preconscious breakthrough , reactivated by the crisis situation , and hence once again amenable to resolution .\",\n",
       "              'In addition , in many cases , a variety of concrete social resources -- homemaker , day care , medical and financial aid -- must be reasonably available for the reality support needed to bolster the family in its individual and collective coping and integrative efforts .',\n",
       "              'Additional entries must be made from time to time .',\n",
       "              'Each adult is held personally responsible for assuring his inscription and obtaining an identification card which must be shown on demand .',\n",
       "              'In addition , two other differences in the two types of sections must be noted .',\n",
       "              'This information was accepted with the frequent interpretation that those persons who did not show arm-levitation must be preventing it .',\n",
       "              'They felt that they were relaxing as much as they could and that any control factors which might be present to prevent response must be on an unconscious level .',\n",
       "              'I thought she must be seeing me as some one who had just come from seeing her grandmother , in their distant home-city .',\n",
       "              'Thus , when more than one distinct form leads to a particular cell in the X-region , a chain of information cells must be created to accommodate the forms , one cell in the chain for each form .',\n",
       "              'Hence , when the address Af is computed from Af , the cell Af and all Y-cells in its chain must be inspected to determine whether Af is already in the form list or whether it should be added to the form list and the chain .',\n",
       "              'The grammatical description of each occurrence in the text must be retrieved from the dictionary to permit such an analysis .',\n",
       "              'One issue that must be faced is the relative difficulty of analysis of different phonologic subsystems .',\n",
       "              'My comments must be briefer than the papers deserve .',\n",
       "              'This must be considered primarily an amendment and supplement to his early A Short Description Of Item-Categories In Iraqw .',\n",
       "              'The registration figures given in Table 2 must be interpreted with caution since the estimate for eligible electors were made without the benefit of a reliable census .',\n",
       "              \"A few key skilled workers experienced in the company's type of work usually must be brought in with the plant manager , or hired away from a similar plant elsewhere .\",\n",
       "              'State and local agencies in the vocational education field must be encouraged to adopt a wider outlook on future job opportunities .',\n",
       "              'But briefly , the topping configuration must be examined for its inferences .',\n",
       "              'From this presumption it is an easy step to the conclusion that any observed increases in the basic wage rate must be due to union behavior different and more aggressive than assumed in our model .',\n",
       "              'To the extent that the jurisdictional principle of 1875 stands unmodified by subsequent legislation , federal equitable relief against state action must be available -- or so it seems to Mr. Justice Frankfurter .',\n",
       "              'If a litigant chooses to enforce a Federal right in a State court , he cannot be heard to object if he is treated exactly as are plaintiffs who press like claims arising under State law with regard to the form in which the claim must be stated -- the particularity , for instance , with which a cause of action must be described .',\n",
       "              'If a litigant chooses to enforce a Federal right in a State court , he cannot be heard to object if he is treated exactly as are plaintiffs who press like claims arising under State law with regard to the form in which the claim must be stated -- the particularity , for instance , with which a cause of action must be described .',\n",
       "              \"But the form in which the claim must be stated need not be different from what the State exacts in the enforcement of like obligations created by it , so long as a requirement does not add to , or diminish , the right as defined by Federal law , nor burden the realization of this right in the actualities of litigation '' .\",\n",
       "              'Furthermore , in a C reorganization the continuing interest of stockholders of the corporation which paid the tax must be greater than is necessary in a statutory merger , to which the statute is clearly inapplicable .',\n",
       "              'What they should recognize is that children who have been placed in one of these groups on a narrow academic basis still differ widely in attributes that influence success , and that they still must be treated as individuals .',\n",
       "              'Although the teacher must be concerned with maintaining standards , he must also be concerned about understanding differences in ability , background , and experience .',\n",
       "              \"All of this must be taken into account before the image of an `` all-Negro '' D.C. public school system is conjured up .\",\n",
       "              'Unfortunately , however , and for reasons to be discussed in the following chapter , no rate relationships can be made completely nondiscriminatory as long as all or some of the rates must be set above marginal costs in order to yield adequate revenues .',\n",
       "              'One such disagreement , which will receive attention in this next chapter , concerns the question whether rates for different kinds of service , in order to avoid the attribute of discrimination , must be made directly proportional to marginal costs , or whether they should be based instead on differences in marginal costs .',\n",
       "              'I think it must be said that , contrary to metaphysical insistence , these are questions so framed as to defy either empirical exploration or rational solutions .',\n",
       "              \"J. Wheaton Smith , editor of the Warren Telegraph stated that `` the ends of justice must be satisfied , a solitary example must be set , in order that all those misnamed philantropists , who , actuated by a blind zeal , dare to instigate riot , treason , and murder , may heed it and shape their future course accordingly '' .\",\n",
       "              \"J. Wheaton Smith , editor of the Warren Telegraph stated that `` the ends of justice must be satisfied , a solitary example must be set , in order that all those misnamed philantropists , who , actuated by a blind zeal , dare to instigate riot , treason , and murder , may heed it and shape their future course accordingly '' .\",\n",
       "              \"On November 22 , 1859 , the Providence Daily Journal stated that although Brown's `` pluck '' and honest fanaticism must be admired , any honor paid to Brown would only induce other fanatics to imitate his actions .\",\n",
       "              'Moreover , all three representations must be squeezed comfortably into little more than the length Brumidi allowed for each one of his .',\n",
       "              'It was obvious that to match Brumidi , white must be mixed with all but the darkest tones .',\n",
       "              \"I mention these features of the book because they are inherent in the book's character and therefore must be mentioned .\",\n",
       "              'I am saying only that until a fuller and different kind of evidence comes in , any discussion of alienation must be understood to have certain important limitations .',\n",
       "              'To the extent that a tale is twice told , its final author must be suspect , although plagiarism in an oral tradition is less a misdemeanor than the standard modus dicendi .',\n",
       "              'To the extent that a language is formulaic , its individual components must be regarded as no more distinguished than other cliches .',\n",
       "              'The label and operation columns must be blank and the continuation of the operand must begin in column 21 ; ;',\n",
       "              'i.e. , it must be left-justified in the operand column of the coding sheet .',\n",
       "              'Otherwise , special care must be taken to branch around them so that the program will not attempt to execute something in a data area as an instruction .',\n",
       "              'Each tape file must be described by Tape File Specifications , produced by Aj .',\n",
       "              'A DUF entry must be supplied for every unit record file describing the type of file and the unit record equipment to be used .',\n",
       "              'When the Input/Output Control System is to be used in a program , a DIOCS statement must be used to select the major methods of processing to be used .',\n",
       "              'The entry DIOCS must be written exactly as shown .',\n",
       "              'Logically , then , the first principle of the plan must be that it is not rigidly oriented toward any geographical area .',\n",
       "              'Therefore the second principle of the plan must be that , while providing for all-out hostilities , its effectiveness is not dependent on general war .',\n",
       "              'Therefore , the third principle of the plan must be that it does not depend for effectiveness on engagement by the same types , unless at an assured favorable exchange rate .',\n",
       "              'Therefore , the fourth principle of the plan must be that it provide for continuously increasing capabilities in the opponent .',\n",
       "              \"Therefore , the plan's fifth principle must be that it capitalize on the capabilities of all elements in combination .\",\n",
       "              'Therefore , the sixth principle of the plan must be that it concentrate on current measures which will reduce future force requirements .',\n",
       "              'it must be flexible enough to allow for technological breakthroughs , scientific progress , and changes in world conditions .',\n",
       "              'But it must be remembered that the plan should not be oriented geographically .',\n",
       "              'Consequently , the system giving area coverage ( if such coverage is less than world wide ) must be flexible and hence at least partially mobile .',\n",
       "              'All capabilities must be used to maximum advantage then .',\n",
       "              'For punched-card or tape storage of information all literature values must be conformed to a common language .',\n",
       "              'The presence of parasitic organisms such as Trichinella spiralis in pork introduces another factor which must be dealt with in food processing .',\n",
       "              'However , in the actual assessment of the cutting force by instrumental methods for any thickness of coating a number of spurious effects occur which must be taken into account and which make the measured value larger than the true cutting force indicated by eqn. ( 1 ) .',\n",
       "              'These tests are not accelerated and must be repeated to evaluate dimensional changes after repeated launderings .',\n",
       "              'It must be remembered that the fiber plates replace a glass window and a ( mica ) membrane , in addition to an optical output lens system .',\n",
       "              'To proceed from one stage to the next a sufficient number of feed states must be investigated to allow for interpolation ; ;',\n",
       "              'It must be noticed in Fig. 7-1 that the accelerometer responds to any input acceleration .',\n",
       "              'Since a lower loop gain and low-pass filtering increases the response time , a practical compromise must be reached .',\n",
       "              'Manual leveling is inconvenient if the platform must be maintained accurately level for any prolonged period of time .',\n",
       "              'The platform accelerometers must be slightly modified for this procedure .',\n",
       "              'Before the accelerometers are mounted on the platform , the direction of their sensitive axis must be accurately determined .',\n",
       "              'Although this technique is simple and satisfactory , one practical difficulty does exist : the direction of true north must be known for each launch point .',\n",
       "              'The church itself must be repaired .',\n",
       "              'But there was one thing that he had to stress , and that was that the contribution to the general church expenses , the dollar money , had been seriously falling behind in this church , and that must be looked after immediately .',\n",
       "              \"`` My dear , you must be mistaken '' .\",\n",
       "              'On a stage he always knew what to do , and tonight , to judge by the applause , he must be doing it better than usual .',\n",
       "              'Somewhere , beyond , where shadows lurked , must be the yawning pit of which Papa preached and the dreadful Lake of Fire .',\n",
       "              \"`` You must be a very learned man '' , says Voltaire to one of the bandits .\",\n",
       "              'It was the opinion of some of us that these must be part of the Committeemen who had been in the Battle of the North Bridge , which entitled them to a sort of veteran status , and we felt that if they employed this tactic , it was likely enough the best one .',\n",
       "              \"Matching photographs in oval frames of Mme Bonenfant and an elderly man who must be Alix's grandfather .\",\n",
       "              '`` I know , but there must be some other explanation .',\n",
       "              'She disciplined herself daily to do what must be done .',\n",
       "              'The officer had told him that both lists must be checked .',\n",
       "              \"Show her the new swimming pool and she would say , slapping her ankle , `` I suppose this must be where you breed your gigantic mosquitoes '' .\",\n",
       "              'The maid answered and he decided Nancy must be at work .',\n",
       "              'He turned around , saw nothing , and decided it must be a mouse .',\n",
       "              'He thought it must be some damn janitor or cleaning woman puttering around , figuring that Hirey had gone off and forgotten to turn off everything and lock up .',\n",
       "              \"It must be coming from an upright heater against the far wall in the supervisors' office .\",\n",
       "              'if she told anyone of the opium it must be Lucien , her husband .',\n",
       "              'it must be Lucien .',\n",
       "              \"In Blanche's defense , it must be said she was unaware of the newborn hope .\",\n",
       "              \"Blanche knew something must be causing Stanley's new , strange behavior but she never once connected it with Kitti Walker .\",\n",
       "              \"`` Well , with a house as big as that there must be at least one cellar window that wouldn't be noticed right away unless there was a police investigation '' .\",\n",
       "              'He disliked Garth on sight , conservative clothes and haircut , smile a shade too earnestly boyish for a man who must be well into his thirties , handclasp too consciously quick and firm .',\n",
       "              '`` Vocal peculiarities often become excessively irritating during prolonged intra-stellar distances and must be eliminated .',\n",
       "              'She must be cautious so as not to alert the scheming forest .',\n",
       "              'If she , Pamela , were being held responsible for his crimes , then hers must be the final act of expiation .',\n",
       "              'she must be poised and proud and unafraid in order to prove to the mountain that she was in earnest .',\n",
       "              'Finally Luis Hernandez said , `` What must be , must be .',\n",
       "              'Finally Luis Hernandez said , `` What must be , must be .',\n",
       "              'Maybe Lou was only unconscious , but right then I thought he must be dead .',\n",
       "              \"`` There must be some water under there '' .\",\n",
       "              '`` At 200 , 300 , 400 feet under the water , when he must be paying very much attention , he will be thinking about what you are telling him .',\n",
       "              'He decided that the marines must be deploying around the meadow , with the one left to distract him .',\n",
       "              'Now she must be thinking of a boy-name , something special .',\n",
       "              'It must be that son who sat before her now , shriveled to half his size and half his senses .',\n",
       "              'They must be freezing up there now .',\n",
       "              '`` And also , sir , two articles which were considered souvenirs now must be regarded in another light entirely .',\n",
       "              'And when he was alone again in the cabin , Alexander lowered his head into his arms and wept , for he knew full well what must be done , what in the end would be done .',\n",
       "              'He must be a million years old .',\n",
       "              \"Every doll in the house must be going with her '' .\",\n",
       "              \"On the defensive , he added , `` I wish you'd think what it must be like for her to be without Greg , to be a new widow , a young widow '' .\",\n",
       "              'its mate must be at home , silently guarding their nest .',\n",
       "              'for Mother to be able to call , Susan must be napping now , surrounded by her multitude of dolls .',\n",
       "              'He was an attentive and generous husband , overgenerous , a lot of people felt , because they knew that money must be a problem to him .',\n",
       "              'The difficulty was that each day seemed to produce its quota of details which must be cleaned up immediately .',\n",
       "              \"Not long ago a newspaper advised those taking part in a contest that `` snapshots must be of a person not larger than Af inches '' .\",\n",
       "              \"The bodies must be cleaned and seats wiped off '' .\",\n",
       "              '`` It must be awfully good for them .'],\n",
       "             'VB': ['Five per cent of the voters in each county must sign petitions requesting that the Republicans be allowed to place names of candidates on the general election ballot , or 2',\n",
       "              'The Republicans must hold a primary under the county unit system -- a system which the party opposes in its platform .',\n",
       "              \"`` We must solve the problems which have forced these people to depend upon ADC for subsistence '' , Martin said .\",\n",
       "              'He explained that by law the council must establish procedures for a vote on the issue within 60 days after the board of canvassers completes its work .',\n",
       "              \"Mitchell decried the high rate of unemployment in the state and said the Meyner administration and the Republican-controlled State Senate `` Must share the blame for this '' .\",\n",
       "              \"He said , `` We Democrats must resolve our issues on the test of what is right and just , and not what is expedient at the time '' .\",\n",
       "              \"`` We must keep the bloodstream of New Jersey clean '' , the former Superior Court judge said .\",\n",
       "              'Barnett , as the titular head of the Democratic party , apparently must make the move to reestablish relations with the national Democratic party or see a movement come from the loyalist ranks to completely bypass him as a party functionary .',\n",
       "              \"`` We must persuade them to enjoy a way of life which , if not identical , is congenial with ours '' , he said but adding that if they do not develop the kind of society they themselves want it will lack ritiuality and loyalty .\",\n",
       "              \"The United States must plan to absorb the exported goods of the country , at what he termed a `` social cost '' .\",\n",
       "              \"`` You must play it where it lies '' .\",\n",
       "              'Since the railroad cannot reduce the salary of individual union members under contract , it must accomplish its payroll reduction by placing some of the men on furlough , a B. & O. spokesman said .',\n",
       "              \"`` All we have left in the world is one another , and we must stay together the way Mother wanted '' , Kowalski said in telling his children of their mother's death yesterday afternoon .\",\n",
       "              \"But he emphasized that the agency must train people within its own employ to fulfill what Field handles , and he said he personally `` regrets very much that the agency has not done this in the past '' .\",\n",
       "              'We must justify our heritage .',\n",
       "              \"While he declined to suggest , how , he said that sooner or later we must get rid of Castro , `` for unless we do we're liable to face similar situations in this hemisphere .\",\n",
       "              'The High Court held that the company must apply its percentage allowance to the value of the raw materials removed from the ground , not to the revenue from finished products .',\n",
       "              'With a foreign car you must wear a cap -- it has a leather band in the back .',\n",
       "              'Once more the fallacious equation is advanced to argue that since business is restricted under the anti-monopoly laws , there must be a corresponding restriction against labor unions : the law must treat everybody equally .',\n",
       "              \"Or , in the words of Anatole France , `` The law in its majestic equality must forbid the rich , as well as the poor , from begging in the streets and sleeping under bridges '' .\",\n",
       "              'The anti-trust laws inform a business that it must compete , but along completely undefined lines ; ;',\n",
       "              'it must play a game in which there never is a winner .',\n",
       "              'Behind this reply , and its many variations , is the ever-present budget problem all libraries must face , from the largest to the smallest .',\n",
       "              \"These women whose organization grew out of the old suffrage movement are dedicated to Thomas Jefferson's dictum that one must cherish the people's spirit but `` Keep alive their attention '' .\",\n",
       "              'The inference has been too widely accepted that because the Communists have succeeded in building barricades across Berlin the free world must acquiesce in dismemberment of that living city .',\n",
       "              'He must show at the outset that he means exactly what he says .',\n",
       "              'In order to form a new government it must deal with one of the two rival parties which gained strength .',\n",
       "              'The concept of labor as a special class is outmoded , and in the task confronting America as bastion of the free world , labor must learn to put the national interest first if it is itself to survive .',\n",
       "              'He says the state , in order to proceed with economic development , must develop an understanding of how the various parts of its economy fit together and dovetail into the national economy .',\n",
       "              'Still we must confess that sometimes some of them go too far .',\n",
       "              'but , as a second-look safeguard , each new project must undergo a Board of Estimate public hearing before construction proceeds .',\n",
       "              'Forgiveness is the door through which a person must pass to enter the Kingdom of God .',\n",
       "              'These programs are volumes of waste paper and lost hours if the citizens of a community must stand aside while land developers tell them when , where , and in what manner the community shall grow .',\n",
       "              'The editorial concerned legislative proposals to ease the tax burden on DuPont stockholders , in connection with the United States Supreme Court ruling that DuPont must divest itself of its extensive General Motors stock holdings .',\n",
       "              'To the tens of thousands who must transfer to ride to Seventy-fourth Street and change for the IND , this takes a daily toll of time and temper .',\n",
       "              \"Writers of ads must get their inspiration from the attitude of `` modern '' parents they have observed .\",\n",
       "              \"From necessity , they are also inspired by the `` hard-sell '' attitude of the sponsor , so , finally , it is the sponsor who must take the responsibility for the good or bad taste of his advertising .\",\n",
       "              'So be it -- then we must embark on a crash program for 200-megaton bombs of the common or hydrogen variety , and neutron bombs , which do not exist but are said to be the coming thing .',\n",
       "              'The escalation must end sometime , and probably quite soon .',\n",
       "              'Yet if Washington gets too indignant about Soviet fallout , it will have to do a lot of fast footwork if America decides it too must start pushing up the radiation count .',\n",
       "              'Once again , the United States must choose .',\n",
       "              'Leaving aside the choice of unilateral cessation of tests as neither sane nor clearly moral , the question must arise as to why resumption of atmospheric tests on our part would not be a good choice .',\n",
       "              'So you yourself must seek these objective data , and come to your own conclusions .',\n",
       "              'They know that they must depend heavily on factors outside their own control .',\n",
       "              'To the average American , this must sound like an incredible tale from a Saturday night TV movie .',\n",
       "              'I must say , however , that I preferred the acting that had something of a biting edge to it .',\n",
       "              'Today , in the era of the integrated musical when an individual song must contribute to the over-all development of the show , it is understandable that a song , no matter how excellent it may be on its own terms , is cut out because it does not perform the function required of it .',\n",
       "              \"But to operate in American politics one must go a step further -- one must build a bridge to such names , establish a warmth , a personal connection '' .\",\n",
       "              \"But to operate in American politics one must go a step further -- one must build a bridge to such names , establish a warmth , a personal connection '' .\",\n",
       "              'On the whole , however , one must wonder at just what it is that forces a beloved artist to besmirch her own reputation as time marches inexorably on .',\n",
       "              'Futhermore , the station which wants real prestige must lead or participate in community improvement projects , not simply serve on the air .',\n",
       "              'Such a leader must strengthen NATO politically , and establish that true unity about which it has always talked .',\n",
       "              'Can we continue to alienate precisely those whose gifts we so desperately need and apart from whose co-operation our mission in the world must become increasingly precarious ? ?',\n",
       "              \"For we must number here not only the names of Bushnell , Clarke , and Rauschenbusch , not to mention those of `` the Chicago School '' and Macintosh , but those of the brothers Niebuhr and ( if America may claim him ! !\",\n",
       "              \"However much we may have to criticize liberal theology's constructive formulations , the theology we ourselves must strive to formulate can only go beyond liberalism , not behind it .\",\n",
       "              'His history is his alone , yet each man must recognize his own history in it .',\n",
       "              \"We have to tell ourselves that when Parker spoke in this vein , he believed what he said , because he could continue , `` But the truth , which cost me bitter tears to say , I must speak , though it cost other tears hotter than fire '' .\",\n",
       "              'As only a member of the family can share in the innermost joys of the family , likewise one must belong to the family of God in order to receive the benefits that are promised to those who are His own .',\n",
       "              'It is true that we must keep up our national defenses and scientific accomplishments ; ;',\n",
       "              'He must learn to say with true faith what the psalmist said in a similar world : `` The Lord is my light and my salvation ; ;',\n",
       "              'The pastor and the Membership Preparation and Assimilation Committee must follow through immediately with a carefully planned program .',\n",
       "              'When they unite with the Church they must find in this fellowship the satisfaction of their basic spiritual needs or they will never mature into effective Christians .',\n",
       "              'to escape this fate , it must rule some things out .',\n",
       "              'It is difficult to say what can be done about them except that we must learn to recognize when it is they , rather than pretexts for them , that are causing the trouble , and do everything possible to nurture the healthy personalities that will prevent the development of such deficiencies .',\n",
       "              \"Leslie Newbiggin reflects the dominant position within the World Council of Churches when he says , `` We must claim absoluteness and finality for Christ and His finished work , but that very claim forbids us to claim absoluteness and finality for our understanding of it '' .\",\n",
       "              'A few of the more prominent must serve as examples of what a complete listing and description would disclose .',\n",
       "              \"`` Thou mayst have supernatural powers '' , exclaimed Yang Shan , `` yet thou must give back the Spirit of Buddha to me '' .\",\n",
       "              'now we must use a heavy one .',\n",
       "              'If our national interest lies in being able to fight and win a war rather than committing national suicide , then we must take a much more penetrating look at ballistic missiles .',\n",
       "              'We must determine whether missiles can win a war all by themselves .',\n",
       "              'We must make certain that the aircraft is finished before we give the entire job to the missile .',\n",
       "              'Steinberg obviously has concluded that it is the lyric element which must dominate in this score , and he manages at times to create the effect of the whole orchestra bursting into song .',\n",
       "              'Next year 1962 , at Westminster , the Bench Show Committee has raised the requirements so that a junior must win 3 or more Junior Classes in the open division only to qualify for Westminster .',\n",
       "              'If your state has no provisions for the numbering of pleasure boats , you must apply for a number from the U.S. Coast Guard for any kind of boat with mechanical propulsion rated at more than 10 horsepower before it can be used on Federal waterways .',\n",
       "              'Where a building permit is required , find out what you must present when applying for one .',\n",
       "              'In many cases , you must file a complete set of plans with the local building inspector .',\n",
       "              'You must know before you start what the needs and objectives of your organization are ; ;',\n",
       "              'Our athletes are only just beginning to learn that they must study dance .',\n",
       "              'The gymnast must develop strength , flexibility , coordination , timing , rhythm , courage , discipline , persistence and the desire for perfection .',\n",
       "              'If the dance teachers of America make it their business to prepare their young charges for the gymnastics that must come some day if our schools are really responsible , we will be that much ahead .',\n",
       "              'So impressive were those serious years of study at the university that Hans later wrote , `` to be perfectly free , the young man must revel in the great kingdom of thought and imagination ; ;',\n",
       "              'And further he must understand his obligation to the client to not only meet his physical necessities but also to enhance and improve his life and to enlarge the cultural horizon of our society .',\n",
       "              'We must build a corps of highly professional teachers of interior design who have had education , experience in the profession and are willing to take on the usual accompaniments of teaching -- minimal income and minimal status among their confreres .',\n",
       "              \"there is no one point in a man's career at which he must select either the technical or the managerial path upward .\",\n",
       "              'They must learn to wear several hats , so to speak , working with management , sales and engineering problems related to the product .',\n",
       "              'He must undertake complete servicing of the oilheating equipment to assure fine heating .',\n",
       "              'Again , the oil man must read the meters at such intervals as he finds best .',\n",
       "              \"Says Clarence Thompson : `` We dealers must earn our mark-up by performing a service for the builder cheaper than he could do it himself '' .\",\n",
       "              'to spot these giveaways the therapist must know either intuitively or scientifically how to listen .',\n",
       "              'No one else must know .',\n",
       "              'Dreams that display events of the future with photographic detail call for a theory explaining their basic mystery and all its components , including that weird feeling of deja vue , inevitably fantastic though that theory must seem .',\n",
       "              'It is not through space nor time that the time machine most approved by science fiction must travel for a visit to the permanent prehistoric past , or the ever-existent past-fantasy future .',\n",
       "              'The Director , Walter E. Clark , believes that a school with children living full time in its care must take full responsibility for their welfare .',\n",
       "              'Everything must balance to the last penny .',\n",
       "              'One thing , I am sure of , you must get an interest in life .',\n",
       "              \"We must realize with Prof. Charles Morris in his The Open Self that `` Man is the being that can continually remake himself , the artisan that is himself the material for his own creation '' .\",\n",
       "              'This is obvious when it is remembered that , during childbirth , the vagina must dilate enough to permit the passage of the baby .',\n",
       "              'And just as domination today often begins with the wife , so the cure generally must lie with the husband .',\n",
       "              \"`` To get a marriage back where it belongs '' , comments Dr. Schillinger of the Lincoln Institute , `` the husband must take some very basic steps .\",\n",
       "              'He must begin , paradoxically , by becoming more selfish .',\n",
       "              \"He must become more expressive of his own desires , more demanding and less ' understanding ' '' .\",\n",
       "              'To become an orthodontist , a man must first be licensed by his state as a dentist , then he must spend at least two years in additional training to acquire a license as a specialist .',\n",
       "              'Now the original absent sitter must decide whether the statements are meaningful to him .',\n",
       "              \"So , after the sitting has been held , several readings at one time are mailed , and the distant sitter ( whose name or whose communicator's name was given to the medium ) must mark each little item as Correct ( Hit ) , Incorrect ( Miss ) , Doubtful , or Especially Significant ( applying to him and , he feels , not to anyone else ) .\",\n",
       "              'The farmer must get up early , and , at times , work late at night .',\n",
       "              'Frequently he must work long hours in the hot sun or cold rain .',\n",
       "              'Part-time farmers generally must pay higher prices for supplies than full-time farmers because they buy in smaller quantities .',\n",
       "              'If you are going to farm for extra cash income on a part-time basis you must keep in mind the needed machinery investments when you choose among farm enterprises .',\n",
       "              'The new site was somewhat warmer than Fort Douglas and much closer to the great herds of buffalo on which the settlement must depend for food .',\n",
       "              \"I don't feel much like a maryed man but I never forgit it sofar as to court enny other lady but if I should you must forgive me as I am so forgitful '' .\",\n",
       "              'If one wishes to discuss a literary figure who uses folklore in his work , the first thing he must realize is that the literary figure is probably part of this ignorant American public .',\n",
       "              'But dominant in the sense that every other objective , no matter how worthy intrinsically , must defer to it .',\n",
       "              'but if we must choose between peace and keeping the Communists out of Berlin , then we must fight .',\n",
       "              'but if we must choose between peace and keeping the Communists out of Berlin , then we must fight .',\n",
       "              'Communist political warfare , we must remember , is waged insidiously and in deliberate stages .',\n",
       "              'Postmaster General J. Edward Day , who must deal with matters of postal censorship , is himself author of a novel , Bartholf Street , albeit one he was obliged to publish at his own expense .',\n",
       "              \"Woman's place is in the home : man must attend to matters of the yard .\",\n",
       "              'But his is still a simple life relatively free of the female presence or influence , and he must go far , even though he may go fast , for sophisticated pleasures .',\n",
       "              'and both believed that intellectual growth must go hand in hand with the development of sturdy character and Christian zeal .',\n",
       "              'Statistically this has represented a loss to the nation , although one must admit that in an individual case the decision in retrospect may have been a wise one .',\n",
       "              'High motivation towards higher education must start early enough so that by the time the boy or girl reaches grade 9 he or she has at least developed those basic skills which are essential for academic work .',\n",
       "              'It is here that the local and ecumenical must meet .',\n",
       "              'It is here that the ecumenical must become local and the local become ecumenical .',\n",
       "              'In the specific case of time diffusion , we must emphasize the significance of the earlier development of mistrust when it is combined with the inevitable time crisis experienced by most ( if not all ) adolescents in our society , and with the failure of the adolescent period to provide opportunities for developing trust .',\n",
       "              'Even if he is gifted with the merest mustard grain of imagination , something must seep in .',\n",
       "              'The vulnerability of Protestantism to social differences stems from the peculiar role of the new religious style in middle-class life , where the congregation is a vehicle of social and economic group identity and must conform , therefore , to the principle of economic integration .',\n",
       "              'this recruitment , however , must follow the pattern of economic integration or it will disrupt the congregation ; ;',\n",
       "              'Engages must be loyal to the concessionaires , and must serve until the term provided in the engagement was ended .',\n",
       "              'But it coupled with this a requirement that Indians must bring their pelts to Mobile and thus save all costs of transportation into and out of the Indian country .',\n",
       "              \"He must take it from `` the red box '' .\",\n",
       "              \"Now we must become vague , for we are approaching one of the nation's most guarded secrets .\",\n",
       "              \"Each must match Wisman's `` pie '' with the fragment that he carries with him .\",\n",
       "              \"All three must compare notes and agree to `` go '' .\",\n",
       "              'It is the gait of the human who must run to live : arms dangling , legs barely swinging over the ground , head hung down and only occasionally swinging up to see the target , a loose motion that is just short of stumbling and yet is wonderfully graceful .',\n",
       "              'The smell is sexual , but so powerfully so that a civilized nose must deny it .',\n",
       "              \"Today the Negro must discover his role in an industrialized South , which indicates that the racial aspect of the Southern dilemma hasn't changed radically , but rather has gradually come to be reflected in this new context , this new coat of paint .\",\n",
       "              'Yet he presents a realm of source material which may well serve other writers if not himself : the problems with which a New South must grapple in groping through a blind adolescence into the maturity of urbanization .',\n",
       "              'With new mechanization the modern farmer must perform the work of six men : a machine stands between the agrarian and his soil .',\n",
       "              'The thousands of city migrants who desert the farms yearly must readjust with even greater stress and tension : the sacred wilderness is gradually surrendering to suburbs and research parks and industrial areas .',\n",
       "              'Again , the composer must select his own materials .',\n",
       "              \"The design is determined emotionally : `` I must reach into myself for the spring that will send me catapulting recklessly into the chaos of event with which the dance confronts me '' .\",\n",
       "              \"In his recognition of his impersonal self the dancer moves , and this self , in the `` first revealed stroke of its existence '' , states the theme from which all else must follow .\",\n",
       "              'But the metamorphosis must come first .',\n",
       "              'Then the choreographer must arbitrate .',\n",
       "              'He must rearrange matters so that two performers do not bump into each other .',\n",
       "              'He must construct transitions so that a dancer who is told to lie prone one second and to leap wildly the next will have some physical preparation for the leap .',\n",
       "              \"Lincoln saw that the act of secession made the issue for the Union a vital one : Whether it was a Union of sovereign citizens that should continue to live , or an association of sovereign states that must fall prey either to `` anarchy or despotism '' .\",\n",
       "              'I suggested that one must let it in because it is the truth , but Beckett did not take to the word truth .',\n",
       "              'One cannot speak anymore of being , one must speak only of the mess .',\n",
       "              'One girl describes her past , her succession of broken marriages , the abortions she has had and finally confesses that she loves sex and sees no reason why she must justify her passion .',\n",
       "              'The new fact the initiates of this cult have to learn is that they must move toward simplicity .',\n",
       "              'I must confess that I prefer the Liberal who is personally affected , who is willing to send his own children to a mixed school as proof of his faith .',\n",
       "              \"Being a teacher of American literature , I remembered Whittier's `` Massachusetts To Virginia '' , where he said : `` But that one dark loathsome burden ye must stagger with alone , And reap the bitter harvest which ye yourselves have sown '' .\",\n",
       "              'Now the detective must save his own skin by informing on the girl he loves , who is also the real murderer .',\n",
       "              'On the other hand , if he wishes to continue in his chosen profession , he must abandon his own code and sacrifice his precious individualism .',\n",
       "              'We must believe we have the ability to affect our own destinies : otherwise why try anything ? ?',\n",
       "              'Properly mindful of all the cultures in existence today throughout the world , we must employ these resources without war or violent revolution .',\n",
       "              'Businesses must develop as a result of the ideas , energies and ambitions of an individual having purpose and comprehensive ability within one mind .',\n",
       "              'Thus , if corporations are not to run away with us , they must become quasi-governmental institutions , subject to public control and needs .',\n",
       "              'Hence government must establish greater controls upon corporations so that their activities promote what is deemed essential to the national interest .',\n",
       "              'For answers to such questions we must turn to the anthropologists , the biologists , the historians , the psychologists , and the sociologists .',\n",
       "              \"but , he held , instead of continuing as an `` art of reduction '' , it must grow , must make a place for the contributions of the Raphaels and Poussins as well as for those of the early cubists and Mondrian .\",\n",
       "              \"but , he held , instead of continuing as an `` art of reduction '' , it must grow , must make a place for the contributions of the Raphaels and Poussins as well as for those of the early cubists and Mondrian .\",\n",
       "              \"Analogously , anyone who argues that Einstein's theory of gravitation is simpler than Newton's , must say rather more to explain how it is that the latter is mastered by student-physicists , while the former can be managed ( with difficulty ) only by accomplished experts .\",\n",
       "              \"Miriam Noel Wright said , `` Here I am at my own home , locked out so I must stand in the road '' ! !\",\n",
       "              \"Said : `` There are things I must tell you about this man you are marrying which he does not know himself '' .\",\n",
       "              'To you , for instance , the word innocence , in this connotation , probably retained its Biblical , or should I say technical sense , and therefore I suppose I must make myself quite clear by saying that I lost -- or rather handed over -- what you would have considered to be my innocence two weeks before I was legally entitled , and in fact by oath required , to hand it over along with what other goods and bads I had .',\n",
       "              'Just as in the case of every prodigy child , we must watch for the efficacy of my teaching to show up in the future -- if he should master all the strenuous exercises I inflicted on him .',\n",
       "              \"`` I felt that I must devote myself to the ' outside ' world '' .\",\n",
       "              'To remain secure and prosperous themselves , wealthy nations must extend the kind of co-operation to the less fortunate members that will inspire hope , confidence , and progress .',\n",
       "              'We must meet this situation by promoting a rising volume of exports and world trade .',\n",
       "              'Further , we must induce all industrialized nations of the Free World to work together to help lift the scourge of poverty from less fortunate .',\n",
       "              'I cannot express to you the depth of my conviction that , in our own and free world interest , we must co-operate with others to help these people achieve their legitimate ambitions , as expressed in their different multi-year plans .',\n",
       "              'We face , indeed , what may be a turning point in history , and we must act decisively and wisely .',\n",
       "              'No matter how earnest is our quest for guaranteed peace , we must maintain a high degree of military effectiveness at the same time we are engaged in negotiating the issue of arms reduction .',\n",
       "              'Community decision makers must make up their minds whether a claim is acceptable to the larger community in terms of prevailing expectations regarding members of nation states .',\n",
       "              'The decision maker who acts for the community as a whole must decide whether the objectives pursued and the methods used are appropriate to public policy regarding cultural groups .',\n",
       "              \"The idea here is one of discharge but this must stand in opposition to a second view , Plato's notion of the arousal of emotion .\",\n",
       "              \"If art is to release us from these postulated things ( things we must think symbolically about ) and bring us back to the ineffable beauty and richness of the aesthetic component of reality in its immediacy , it must sever its connection with these common sense entities '' .\",\n",
       "              \"If art is to release us from these postulated things ( things we must think symbolically about ) and bring us back to the ineffable beauty and richness of the aesthetic component of reality in its immediacy , it must sever its connection with these common sense entities '' .\",\n",
       "              'It is true that this distinction between style and idea often approaches the arbitrary since in the end we must admit that style and content frequently influence or interpenetrate one another and sometimes appear as expressions of the same insight .',\n",
       "              'One might , indeed , argue that the history of ideas , in so far as it includes the literatures , must center on characterizations of human nature and that the great periods of literary achievement may be distinguished from one another by reference to the images of human nature that they succeed in fashioning .',\n",
       "              'Such an understanding , although it must seek to be sympathetic , is not a matter of intuition .',\n",
       "              'Still , we must remember that we cannot construct and justify generalizations of this sort unless we are ready to consider many special instances of influence moving between such areas as theology , philosophy , political thought , and literature .',\n",
       "              \"We must avoid the notion , suggested to some people by examples such as those just mentioned , that ideas are `` units '' in some way comparable to coins or counters that can be passed intact from one group of people to another or even , for that matter , from one individual to another .\",\n",
       "              \"`` I must hurry to catch my train '' .\",\n",
       "              'Now come , Garry , we must go quickly .',\n",
       "              'A week in arrears , and without means to pay , I must go , it is the only right thing .',\n",
       "              'For this decision a man must take personal responsibility .',\n",
       "              'The same sort of thinking plays so large a part in both Babbitt and More , that we must examine it in some detail .',\n",
       "              'Both sides agreed that the theater must stand a moral test , but they could not agree on whether the poets were a good or a bad influence .',\n",
       "              \"His neighbors celebrated his return , even if it was only temporary , and Morgan was especially gratified by the quaint expression of an elderly friend , Isaac Lane , who told him , `` A man that has so often left all that is dear to him , as thou hast , to serve thy country , must create a sympathetic feeling in every patriotic heart '' .\",\n",
       "              'Therefore , what we must prove or disprove is that there were Saxons , in the broad sense in which we must construe the word , in the area of the Saxon Shore at the time it was called the Saxon Shore .',\n",
       "              'Therefore , what we must prove or disprove is that there were Saxons , in the broad sense in which we must construe the word , in the area of the Saxon Shore at the time it was called the Saxon Shore .',\n",
       "              'That is , we must find Saxons in East Anglia , Kent , Sussex and Hampshire in the last half of the fourth century .',\n",
       "              'Often the historian must consider the use of intuition or instinct by those individuals or nations which he is studying .',\n",
       "              'Furthermore , he must regard religion as the expression of human forces .',\n",
       "              'Certainly , he must recognize its power and attempt to ascertain its influence on the flow of history , but he must not confuse the natural and the mundane with the divine .',\n",
       "              'When Blackman emerged from the bedroom , everyone was gone except the tolerant Lord Thomson , who stayed and chatted with him for half an hour , and then Blackman lay awake most of that night , despairing of what he must expect on the Continent .',\n",
       "              'He smoked , as did everybody , and imbibed the various alcoholic beverages of that day , although his protestations while at Cambridge and after that he was no drunkard point to reasonable abstinence from the wild drinking bouts of some of the undergraduates and , we must add , of some of their elders including many of the regents or teachers .',\n",
       "              \"Frederick Pohl's `` The Midas Touch '' ( 1954 ) predicts an economy of abundance which , in order to remain prosperous , must set its robots to consuming surplus production ; ;\",\n",
       "              'I know that one must act .',\n",
       "              'and we must attend to it more closely than has usually been done .',\n",
       "              \"While I fully agree with Sir Anthony's contention , I think that we must carry the analysis farther , bearing in mind that while common peril may be the measure of our need , the existence or absence of a positive sense of community must be the measure of our capacity .\",\n",
       "              \"That time is now past and the Atlantic nations , if they are to survive , must develop a full-fledged community , and they must also look beyond the frontiers of `` Western civilization '' toward a world-wide `` concert of free nations '' .\",\n",
       "              'A working concept of the organic evolution of community must lead us in a different direction .',\n",
       "              'The history of the U.N. demonstrates that in a pluralistic world we must develop processes of influence and persuasion rather than coercion .',\n",
       "              'He is usually something of an underdog , he must battle the organized police force as well as recognized criminals .',\n",
       "              'The private detective must rely , as the Youngest Son or Trickster Hero does in primitive myth , on his wits .',\n",
       "              'He must become one who knows all about the injustice in the world , but who declines doing anything about it .',\n",
       "              \"To qualify for either type of loan , an applicant must be a small business or approved small business `` pool '' and must meet certain credit requirements .\",\n",
       "              'The record of past earnings and prospects for the future must indicate it has the ability to repay the loan out of current and anticipated income .',\n",
       "              'To be eligible to borrow from a Bank for Cooperatives , a cooperative must be an association in which farmers act together in processing and marketing farm products , purchasing farm supplies , or furnishing farm business services , and must meet the requirements set forth in the Farm Credit Act of 1933 , as amended .',\n",
       "              \"it must express the nation's own will and goal .\",\n",
       "              'It is vitally important that the new U.S. aid program should encourage all of them , since the main thrust for development must come from the less developed countries themselves .',\n",
       "              'To have any success in this effort , we must ourselves view it as an enterprise stretching over a considerable number of years , and we must encourage the recipients of our aid to view it in the same fashion .',\n",
       "              'More importantly , several of the more advanced of the less developed countries have found through experience that they must plan their own complex investment programs for at least 5 years forward and tentatively for considerably more than that if they are to be sure that the various interdependent activities involved are all to take place in the proper sequence .',\n",
       "              \"It seems to me that the prayers of the whole free world must rise like some vast petition to Providence that Sam Rayburn's vigor and his life remain undiminished through the coming decades .\",\n",
       "              'Thus , there has come into being a situation in which the state must raise all of its own revenues and , in addition , must give assistance to its local governments .',\n",
       "              'Thus , there has come into being a situation in which the state must raise all of its own revenues and , in addition , must give assistance to its local governments .',\n",
       "              'We must ask ourselves which of the two alternatives will help the commuter -- the two-way B. & O. - C. & O. merger , or the three-way New York Central - B. & O. - C. & O. merger .',\n",
       "              'One need not waver in his belief in virile law enforcement to insist that there are other things in American life which are also of great importance , and to which even law enforcement must accommodate itself .',\n",
       "              'We in this Department must think about foreign policy in its total context .',\n",
       "              'That means that , if we are to achieve a new standard of leadership , we must think in terms of the total context of our situation .',\n",
       "              'If there is anything which we can do in the executive branch of the Government to speed up the processes by which we come to decisions on matters on which we must act promptly , that in itself would be a major contribution to the conduct of our affairs .',\n",
       "              'He knows that he must give the expert his place , but he knows that he must also keep him in it .',\n",
       "              'He must think about which of these principles must take precedence .',\n",
       "              'He must think about which of these principles must take precedence .',\n",
       "              'He must deal with the question of how to manage a part when it cannot be handled without relation to the whole -- when the whole is too large to grasp .',\n",
       "              'He must think of others who have a stake in the question and in its answer .',\n",
       "              'If the reserve components are to serve effectively in time of war , their basic organization and objectives must conform to the changing character and missions of the active forces .',\n",
       "              'Quality and combat readiness must take precedence over mere numbers .',\n",
       "              'If you mail A return or tax payment , you must place it in the mails in ample time to reach the district director on or before the due date .',\n",
       "              \"If A taxpayer dies , the executor , administrator , or legal representative must file the final return for the decedent on or before the 15th day of the 4th month following the close of the deceased taxpayer's normal tax year .\",\n",
       "              'Your application must include the following information : ( 1 ) your reasons for requesting an extension , ( 2 ) whether you filed timely income tax returns for the 3 preceding years , and ( 3 ) whether you were required to file an estimated return for the year , and if so whether you did file and have paid the estimated tax payments on or before the due dates .',\n",
       "              'You must attach a statement to your return , if you take advantage of this automatic extension , showing that you were in Alaska or were outside the United States or Puerto Rico on April 15 or other due date .',\n",
       "              'Since he had gross income of $600 or more , he must file a return in which he may claim an exemption deduction of $600 .',\n",
       "              'But when there is not freedom and opportunity to choose , men -- individual men -- must remain in status and society does not , cannot , progress .',\n",
       "              'and we think them largely futile because , for true excellence of accomplishment , every scholar and every artist must cross boundaries of knowledge and boundaries of points of view .',\n",
       "              'Our research and development program , serving as it does an industry which must compete against low-cost production throughout the world , continues to have primary emphasis at Leesona .',\n",
       "              'But more important , we believe , it must concentrate on the development of entirely new concepts in textile processing as do the Unifil loom winder and our more recent Uniconer automatic coning machine .',\n",
       "              'Each semester every student must attend ten of the services or religious meetings .',\n",
       "              'There are certain aspects of personnel development in which a president must involve himself directly .',\n",
       "              'Before deciding where it is going , however , a college or university must know where it is .',\n",
       "              'In the national interest even the affluent universities must consider some division of labor among them to replace their present ambitions to keep up with the Joneses in all branches .',\n",
       "              'Not all the observers have used the same procedures or made the same assumptions about the lunar brightness distribution when reducing the data , and this , together with differences in the methods of calibrating the antennae and receivers , must account for much of the disagreement in the measured radio brightness temperatures .',\n",
       "              'The energy for any isothermal work done by the perfect gas must come as thermal energy from its surroundings .',\n",
       "              'Further , the corpuscular radiation , i.e. , the solar-wind protons , must sputter away the surface atoms of the dust and cause a slow diminution in size , with a resultant increase in both the Poynting-Robertson effect and the ratio of the repulsive force to the gravitational force .',\n",
       "              'However , one must expect that vaporization and ejection of material by hypervelocity impacts would cause a deviation from a linear relationship .',\n",
       "              'One must include the preparation of soft drinks and the processing of milk and milk products .',\n",
       "              \"I must add at once that these animals are what we call `` queens '' , young females that have mated in the previous summer or autumn .\",\n",
       "              'I must plead guilty to a special sympathy for nomias .',\n",
       "              'Since the circulating thyroid hormones are the amino acids thyroxine and tri-iodothyronine ( cf. Section C ) , it is clear that some mechanism must exist in the thyroid gland for their release from proteins before secretion .',\n",
       "              'In evaluating data on the concentration of TSH in blood , one must examine critically the bio-assay methods used to obtain them .',\n",
       "              'To describe the space of solutions to Af , one must know something about differential equations ; ;',\n",
       "              'that is , one must know something about D other than the fact that it is a linear operator .',\n",
       "              \"For an experiment to qualify as a binomial experiment , it must have four properties : ( 1 ) there must be a fixed number of trials , ( 2 ) each trial must result in a `` success '' or a `` failure '' ( a binomial trial ) , ( 3 ) all trials must have identical probabilities of success , ( 4 ) the trials must be independent of each other .\",\n",
       "              'As S approaches T the square will be outside C and therefore both Af and Af must cross C an odd number of times as S varies from zero to T .',\n",
       "              'This set must consist of isolated points and closed intervals .',\n",
       "              \"Moreover , if Af and Af are two planes intersecting in a line l , tangent to Q at a point P , the two free intersections of the image curves Af and Af must coincide at P' , the image of P , and at this point Af and Af must have a common tangent l' .\",\n",
       "              'This contradicts the preceding observations , and so , under the assumption of this paper , we must reject the possibility that **zg is a Af curve on a quadric surface .',\n",
       "              'They must continue to satisfy basic capital needs ; ;',\n",
       "              'These countries must formulate a comprehensive , long-term program covering the objectives of both the private and the public sectors of the economy .',\n",
       "              'This is the stage at which democratic developments must take place if the society is to become an open community of creative people .',\n",
       "              'Foreign policy now takes on a different perspective and must become skilled not merely at response but also at projection .',\n",
       "              'but basically that pace depends on changes in the supply of resources and in the human attitudes , political institutions , and social structure which each society must generate .',\n",
       "              \"To establish an emotionally meaningful relationship the worker must demonstrate actual or potential helpfulness immediately , preferably within the first interview , by meeting the client's specific needs .\",\n",
       "              \"In this relationship-building stage the worker must communicate confidence in the client's ability to deal with the problem .\",\n",
       "              \"While some suppression and some denial are not only necessary but healthy , the worker's clinical knowledge must determine how these defenses are being used , what healthy shifts in defensive adaptation are indicated , and when efforts at bringing about change can be most effectively timed .\",\n",
       "              'A more realistic analysis must take into account the fact that Brandywine people in the urban-fringe area are , in general , less segregated locally than group members in rural areas .',\n",
       "              'But first , we must define two terms so that their meaning will be clearly understood : form -- any unique sequence of alphabetic characters that can appear in a language preceded and followed by a space ; ;',\n",
       "              'The phonemic systems which must support these morphophonemic systems , however , are very different .',\n",
       "              'Federal assistance is limited to half of the total expenditure , and the state or local districts must pay at least half .',\n",
       "              'There is little evidence that existing public or private training programs have any great difficulty getting students to enroll in their programs , even though they must pay tuition , receive no subsistence payments , and are not guaranteed a job .',\n",
       "              'Diametric opposition must persist as to the future course of prices , if there is to persist a market at all .',\n",
       "              'And the few must win what the many lose , for the opposite arrangement would not support markets as we know them at all , and is , in fact , unimaginable .',\n",
       "              'To appreciate this development , we must relate it to other aspects of nineteenth-century philosophy .',\n",
       "              'In a society dominated by middle-class values and working in an institution which transmits and strengthens these social values , it is clear that the educational profession must work for the values which are characteristic of the society .',\n",
       "              'For more explicit expositions , one must distinguish different types of analyses .',\n",
       "              'But before turning to this example , we must distinguish two subtypes of analysis , both of which belong to the single-step type rather than to the double-step type .',\n",
       "              'Included as a minimum are the costs of metering and billing along with whatever other expenses the company must incur in taking on another consumer .',\n",
       "              'Those modern scholars who urge that we must keep in mind the fundamental continuity of Aegean development from earliest times -- granted occasional irruptions of peoples and ideas from outside -- are correct ; ;',\n",
       "              'The historian can only point out those lines which were major enough to find reflection in our limited evidence , and must hope that future excavations will enrich our understanding .',\n",
       "              'On this principle of division I must postpone the evolution of sculpture , architecture , society , and politics ; ;',\n",
       "              'Beyond the aesthetic and technical aspects of this expansion we must consider the change in pottery style on broader lines .',\n",
       "              'The appeal of the suburb is particularly strong for heavy industry , which must move bulky objects along a lengthy assembly line and wants enough land area to do the entire job on one floor .',\n",
       "              'It would come down to saying that Fromm paints with a broad brush , and that , after all , is not a conclusion one must work toward but an impression he has from the outset .',\n",
       "              'Until such work is done , there must remain the nagging suspicion that alienation may be little more than an expression of the malaise of the intellectual , who , rejected by and in turn rejecting the larger society , projects his own fear and despair onto the broader social screen .',\n",
       "              'Until such evidence appears , we must make do with the evidence we have .',\n",
       "              \"Mussorgsky paints a telling picture of the common people , those who must suffer the effects of their rulers' struggle for power without understanding the causes .\",\n",
       "              \"From the dated poems we can venture certain conclusions about Hardy's career in poetry , always remembering that conclusions based on a fraction of the whole must remain tentative .\",\n",
       "              'he must improvise continuously with no apparent effort .',\n",
       "              \"The respectability which money confers implies a different etiquette , and , upon taking up the life of a London gentleman , Pip must learn from Herbert Pocket that `` the spoon is not generally used over-hand , but under '' .\",\n",
       "              'The label and operation columns must be blank and the continuation of the operand must begin in column 21 ; ;',\n",
       "              'This exchange must result in our ending up with some effective units .',\n",
       "              'They are still considered to be for use in restricted waters , however , and targets must come within a few yards of them .',\n",
       "              'To permit the storage of food for long periods of time , a method of preservation must accomplish the destruction of microorganisms and inhibition of enzymatic action .',\n",
       "              'The person using these tests must determine which combination of procedures is practical for any specific item in order to evaluate the dimensional changes of textile fabrics or garments after laundering procedures commonly used in the home or commercial laundry .',\n",
       "              'He recognized that whatever transformation may be effected in the first stage of an R-stage process , the remaining stages must use an optimal Af-stage policy with respect to the state resulting from the first stage , if there is to be any chance of optimizing the complete process .',\n",
       "              \"`` An optimal policy has the property that whatever the initial state and initial decision are , the remaining decisions must constitute an optimal policy with respect to the state resulting from the first decision '' .\",\n",
       "              'This is the feed state of the subsequent Af stages which , according to the principle of optimality , must use an optimal Af-stage policy with respect to this state .',\n",
       "              'The third column gives the optimal policy , but we must wait to see the outcome of stage R and enter the preceding section of the table at this state .',\n",
       "              'No , they must look the other way and climb one more painful step up the ladder .',\n",
       "              'At any cost , he must leave the dreary Pennsylvania mining town where his father was a pharmacist .',\n",
       "              'Wilson made up his mind that he must receive at least $2,500 , but when he mentioned this to the Deacons they said nothing .',\n",
       "              'And yet Wilson knew that this place must go or he must go .',\n",
       "              'And yet Wilson knew that this place must go or he must go .',\n",
       "              \"To know God he must follow in Papa's footsteps .\",\n",
       "              'he must pray to be spared .',\n",
       "              \"`` You must make an opera out of this material '' .\",\n",
       "              'Rousseau was aware that he must seem like a hypocrite , standing there and arguing that he could not possibly permit a public performance .',\n",
       "              \"Now times have changed , and I must pretend that hair doesn't grow on my face .\",\n",
       "              'I must state that the faster things happened , the slower they happened ; ;',\n",
       "              \"Monsieur Favre's threat would become a reality , for he continued to proclaim loudly that the city must rid itself of `` that Frenchman '' .\",\n",
       "              'Geneva must remain a sovereign state .',\n",
       "              'Then came their bathroom , and then a bedroom that , judging by the photographs on the walls , must belong to Mme Cestre .',\n",
       "              'His Mary would be slender of limb and delicate of proportion , yet she must hold this full-grown man as securely and convincingly as she would a child .',\n",
       "              'Though this sculpture must take place thirty-three years after her moment of decision , he could not conceive of her as a woman in her mid-fifties , old , wrinkled , broken in body and face by labor or worry .',\n",
       "              'They all prayed now that the North would realize that peace must come , for Virginia had defended her land victoriously .',\n",
       "              \"I am getting deaf , I must admit it '' .\",\n",
       "              'I must know that that was my greatest weakness underlined three times .',\n",
       "              'Kayabashi must feel fairly certain of his victory in order to make a visit like this , a trip which could be so easily misinterpreted by the people in the village .',\n",
       "              \"You may stay as long as you wish , of course , but if arranging for the care of the girls must take time into account , I think a day or two should be enough to finish our business in '' .\",\n",
       "              \"He would wear this same costume in Florida , despite his wife Cleota's reminders over the past five days that he must take some cool clothes with him .\",\n",
       "              'One part of her audience was totally engaged , the connoisseur witnessing a peculiarly fine performance of some ancient classic , the other part , the guest of the connoisseur , attentive as one who must take an intelligent interest in that which he does not fully understand .',\n",
       "              \"After a minute he went on , `` People must think the curse is on me , seeing you fresh as an apple and me old and gray '' .\",\n",
       "              'The expedient thing -- yes , very true , one must make do as one could , in some situations .',\n",
       "              \"They've found some sort of new evidence , a bundle of clothes or something , and it must link the kid even stronger to the crime .\",\n",
       "              'But you realize , I am sure , how much old deeds incite to new ones , and you must forgive me if I tell you first of the old ones .',\n",
       "              'You must know what gets into people , even such as Red and Handley , before you can tell what comes out of them .',\n",
       "              'The quarrel ended in a ridiculous draw , but I must tell you about it .',\n",
       "              'One other cause of jealousy between them I must tell you .',\n",
       "              \"`` All right '' , he conceded finally , `` if you must know , I don't get along with the landlord .\",\n",
       "              \"You must understand , I haven't been in this state too long .\",\n",
       "              \"But we must know if this is in accordance with your customs , and must have your agreement they will not misuse the power we put in their hands , to our hurt '' .\",\n",
       "              'Begging my pardon , he must express his astonishment over seeing a person of my background applying at the hall .',\n",
       "              'indeed , my scholastic qualifications were such that he , a college graduate himself , must envy me them .',\n",
       "              'Yet he must chance it .',\n",
       "              'You must forgive me if I seem to dwell too much on her physical aspects but I am an artist , accustomed to studying the physical body .',\n",
       "              'I must say the figure was well made up .',\n",
       "              'he was very thirsty , but he must observe water discipline .',\n",
       "              'Everything must wait upon this mission , this sentimental duty of a pilgrim whose nature avoided graveyards .',\n",
       "              \"`` We ourselves must stand sentinel '' .\",\n",
       "              \"With all his heart he had loved the Navy and now he must act in accordance with the Navy's implacable laws .\",\n",
       "              'He complained to me once that I must talk to her .',\n",
       "              \"Or you could hope the parachute wouldn't open just so you could say you saw it not open , not because you meant any harm to Starkey Poe in his suit of red underwear , but mainly because you were tired of being an old maid -- a thing which cannot admit when it thinks it might be pregnant , but must stand the dizzy feeling all alone and go on like everything is all right instead of being able to say to somebody in a normal voice : `` I think I'm pregnant '' .\",\n",
       "              'She glanced at the man nodding beside her , a man with weather cracks furrowed into his lean cheeks , with powdery pale eyes reflecting all the droughts he had seen , reflecting the sky and the drought which must follow now in August -- yes , with eyes predicting the drought and here it was only June , only festival time again and thoughts of Gratt Shafer would not leave her .',\n",
       "              'In my person they would always remember that last long time of me alone with her , so if they told themselves that I could have prevented it , I can understand that by now and love them still , because everyone must justify , have a scapegoat for what is not to be borne .',\n",
       "              '`` If you must flog someone , let it be her , your daughter .',\n",
       "              'Keep him back , if you must tell me what to do .',\n",
       "              'I had also thought a lot about how God must look on true love , and so in a way I was keeping my promise to God , my promise to remain pure until I was married .',\n",
       "              'I must remember to warn the girl next to you in Larkspur .',\n",
       "              \"`` I feel I must answer the question '' , he said , `` since the onus later , if any , should fall on me -- I don't relish recriminations spread broadcast outside my family .\",\n",
       "              \"`` The human ego being what it is '' , I put in , `` science fiction has always assumed that the creatures on the planets of a thousand larger solar systems than ours must look like gigantic tube-nosed fruit bats .\"],\n",
       "             'VB-HL': [\"`` Must solve problem ''\",\n",
       "              'We must use common sense in applying conditions'],\n",
       "             'HV': [\"`` Certain people must have known about it '' .\",\n",
       "              \"Mrs. Molvar , who kept reiterating her request that they `` please take a stand '' , said , `` We must have faith in somebody -- on the local level , and it wouldn't be possible for everyone to rush to a school to get their children '' .\",\n",
       "              'The pretty coeds must have ogled him all day long -- but he dutifully kept his eye on the gravy .',\n",
       "              'What a swinging group they must have been when they first started entertaining ! !',\n",
       "              'With their huge backs and overdeveloped shoulders , both must have their clothes made to order .',\n",
       "              'To almost two generations of Americans it must have seemed as though the existence of Mr. Sam coincided with that of the House .',\n",
       "              \"The Secretary General must have , subject to the constitutional direction of the Security Council and the General Assembly , the power to act , to propose action and to organize action without being hobbled by advisers and assistants acting on someone else's instructions .\",\n",
       "              \"What we must have , if the United Nations is to survive , is as nonpolitical , nonpartisan an organization at the top as human beings can make it , subject to no single nation's direction and subservient to no single nation's ambition .\",\n",
       "              'Taking off his hat and signaling the driver with it , Mr. Podger stepped into the road , lifted the surprised turtle and consummated its road-crossing with what must have been a breath-taking suddenness .',\n",
       "              \"Cried one professor after a few months of Student Schiele's tantrums and rebellion : `` The devil himself must have defecated you into my classroom '' ! !\",\n",
       "              'Nervousness at the start must have caused the blemishes of her first scene , or she may warm up slowly .',\n",
       "              \"If it was , then it must have been God's intention to translate him at a certain point from time to eternity .\",\n",
       "              'In Psalm 27 : 1 you read those beautiful words which you must have in your heart if you are to master the fears that surround you , or to drive them out if they have you in their grip : `` The Lord is my light and my salvation ; ;',\n",
       "              'yet some must have survived , because the old interest in number symbolism , divination , and magic persisted on into the Han dynasty , which succeeded in reuniting China and keeping it together for a longer period ( from 202 B.C. to A.D. 220 ) .',\n",
       "              'The existing reverence for Centrality must have been still further stimulated toward the close of the second century B.C. , when the Han Emperor Wu Ti ordered the dynastic color changed to yellow -- which symbolized the Center among the traditional Five Directions -- and took 5 as the dynastic number , believing that he would thus place himself , his imperial family , and the nation under the most auspicious influences .',\n",
       "              'Every member of the family must have a vital place in its life .',\n",
       "              \"But contest definition -- that dramatic muscular separation of every muscle group that seems as though it must have been carved by a sculptor's chisel -- is something quite different .\",\n",
       "              \"In order to destroy the enemy's mobile , moving , or imprecisely located strategic forces , we must have a hunter-killer capability in addition to our missiles .\",\n",
       "              \"It seems reasonable that if general nuclear war is not to be one cataclysmic act of burning each other's citizens to cinders , we must have a manned strategic force of long-endurance aircraft capable of going into China or Russia to find and destroy their strategic forces which continued to threaten us .\",\n",
       "              'A number of them must have fallen into disfavor ; ;',\n",
       "              'From here you can easily include a side trip to the old whaling port of Nantucket , Massachusetts , which looks just as it must have two centuries ago .',\n",
       "              \"The reporter must have written this with tongue in cheek , because Dexter's oration could hardly be understood ; ;\",\n",
       "              'Diving boards must have non-skid surfaces ( coco matting takes an awful beating from chlorine and rots quickly , but grit-impregnated paints are excellent ) .',\n",
       "              'you must have a list of requirements on where , how many , and what type sites are needed .',\n",
       "              'It will occur to anyone that the teacher must have adequate education , a depth and breadth of knowledge far beyond the immediate necessities of his course plus complete dedication to his subject and to his students .',\n",
       "              'For proper accreditation of schools , teachers in any course must have a degree at least one level above that for which the student is a candidate .',\n",
       "              'The basic problem involved is that a college setting up a graduate school must have an entirely separate faculty for the advanced degree .',\n",
       "              \"aside from her specifically regional accent , she reveals by the use of the triad , `` irritable , tense , depressed '' , a certain pedantic itemization that indicates she has some familiarity with literary or scientific language ( i.e. , she must have had at least a high-school education ) , and she is telling a story she has mentally rehearsed some time before .\",\n",
       "              'He was almost positive it was not Assyrian nor Cassite , and imagined it must have been German or English .',\n",
       "              'It was a rugged finish for what must have been a very interesting night .',\n",
       "              'Even Hudson , experienced in Arctic sailing and determined as he was , must have had qualms as he slid down the Thames .',\n",
       "              \"This must have been Hudson's blackest discovery .\",\n",
       "              'What actually occurred in the past is seldom as important as what a given generation feels must have occurred .',\n",
       "              \"On March 21 , 1845 the bark Bashaw weighed anchor at New Orleans , while on the levee Henry and William Palfrey waved farewell to their father's former chattels who must have looked back at the receding shore with mingled regret and jubilation .\",\n",
       "              'She must have looked temptingly pretty to the dean as he put the crown on her head .',\n",
       "              'He said Morse and Borden had quarreled violently in the house that day , information which must have come from Lizzie .',\n",
       "              'Travelers entering from the desert were confounded by what must have seemed an illusion : a great garden filled with nightingales and roses , cut by canals and terraced promenades , studded with water tanks of turquoise tile in which were reflected the glistening blue curves of a hundred domes .',\n",
       "              \"`` You must have some security '' , said a young clerk .\",\n",
       "              'It may , however , be noted that his gift for color and imagery must have been greatly stimulated by his stay in Paris .',\n",
       "              'Ideas we must have , and we seek them everywhere .',\n",
       "              'The novelist who has been badly baptized in psychoanalysis often gives us the impression that since all men must have an Oedipus complex all men must have the same faces .',\n",
       "              'The novelist who has been badly baptized in psychoanalysis often gives us the impression that since all men must have an Oedipus complex all men must have the same faces .',\n",
       "              'But they must have technical and investment assistance .',\n",
       "              'It sounded like a fair enough invitation , Peter Marshall reflected , and Bang-Jensen must have thought so too , because on the thirteenth , he met the group of three on the thirty-sixth floor of the U.N. .',\n",
       "              'Hanoverian agents assisted in promoting circulation , said to have reached 40,000 , and if one may judge by the reaction of Swift and other government writers , the work must have had considerable impact .',\n",
       "              \"It is not in the record , but he must have galloped his horse at Peach Tree Creek when he brought up Ward's guns to save Newton's crumbling line .\",\n",
       "              'The dispatch must have been sent after sundown on September 1 .',\n",
       "              'since my silence must have ended when I gave the purposed volume to you .',\n",
       "              \"From the outset , she must have realized that marriage with him was out of the question , and although she was displeased by the `` unwarrantable '' interference , it seems probable that she did agree with her mother's suggestion that the poet was `` perhaps '' a man `` most fitted to live & die solitary , & in the love only of the Highest Lover '' .\",\n",
       "              'Mando , pleading her cause , must have said that Dr. Brown was the most distinguished physician in the United States of America , for our man poured out his symptoms and drew a madly waving line indicating the irregularity of his pulse .',\n",
       "              'Gorton appeared for her , however , and what he told the magistrates must have been plenty , for he was charged with deluding the court , fined , and told to leave the colony within fourteen days .',\n",
       "              'In the spring , it must have been , he began working on the play that he called The House , which later would be Mannerhouse .',\n",
       "              'There must have been special feelings of joy and patriotism in the heart of Daniel Morgan too , when the news was received on April 30th of the recognition by France of the independence of the United States .',\n",
       "              \"The troops must have more than the common quantity of liquor , and perhaps there will be some little drunkenness among them '' .\",\n",
       "              'I must have written to say how much I had enjoyed his fine book The Building Of Eternal Rome , and I found he had not regretted giving me the highest mark in his old course on the later Latin poets , although in my final examination I had ignored the questions and filled the bluebook with a comparison of Propertius and Coleridge .',\n",
       "              'The churches , the taverns , and the various other places of the town must have known his figure well as he roved to and about them .',\n",
       "              'The immense amount of interest that the new jazz had for the younger generation must have impressed him , and he began working toward the merger of jazz and poetry , as he had previously attempted the union of graphic art and poetry .',\n",
       "              'The credit requirements stipulate that the applicant must have the ability to operate the business successfully and have enough capital in the business so that , with loan assistance from the SBA , it will be able to operate on a sound financial basis .',\n",
       "              \"If these services are to be maintained , the New York Central must have the revenues to make them possible '' .\",\n",
       "              'The entrance must have at least one right-angle turn .',\n",
       "              \"It must have been with some pleasure and relief that on September 12 , 1848 , Joseph Brown made the momentous entry in his job book , in his characteristically cryptic style , `` Lucian Sharpe came to work for me this day as an apprentice '' .\",\n",
       "              'A student to be eligible for the captaincy of any Carleton team must have a scholastic record of at least 1.00 .',\n",
       "              'The radius is calculated from the mass by assuming spheres of density Af except for the smallest particles , which must have a higher mass density to remain in the solar system in the presence of solar-radiation pressure .',\n",
       "              'William Beebe reports 26 inches and 2.4 ounces ( this snake must have been emaciated ) for the length and the weight of a young anaconda from British Guiana .',\n",
       "              '( Actually , a nilpotent operator on an n-dimensional space must have its T power 0 ; ;',\n",
       "              \"For an experiment to qualify as a binomial experiment , it must have four properties : ( 1 ) there must be a fixed number of trials , ( 2 ) each trial must result in a `` success '' or a `` failure '' ( a binomial trial ) , ( 3 ) all trials must have identical probabilities of success , ( 4 ) the trials must be independent of each other .\",\n",
       "              \"For an experiment to qualify as a binomial experiment , it must have four properties : ( 1 ) there must be a fixed number of trials , ( 2 ) each trial must result in a `` success '' or a `` failure '' ( a binomial trial ) , ( 3 ) all trials must have identical probabilities of success , ( 4 ) the trials must be independent of each other .\",\n",
       "              \"Moreover , if Af and Af are two planes intersecting in a line l , tangent to Q at a point P , the two free intersections of the image curves Af and Af must coincide at P' , the image of P , and at this point Af and Af must have a common tangent l' .\",\n",
       "              'Hence it follows that the involution within the bundle must be a perspective De Jonquieres involution of order Af and the invariant locus must have a multiple line of multiplicity either Af or Af .',\n",
       "              'Hence **zg must have either a regulus of Af-fold secants or a regulus of Af-fold secants .',\n",
       "              'It follows that any effective policy toward the underdeveloped countries must have a realistically long working horizon .',\n",
       "              \"Since the writer had not noticed this characteristic in married students scattered throughout the various sections previous to this experiment , nor , as a matter of fact , in those who were continuing in `` single sections '' , he can only conclude that there must have been something `` contagious '' within the specific group which caused this to occur .\",\n",
       "              \"As we think of the long and excruciating pain it must have suffered , we are very likely to say : `` It was a bad thing that the little animal should suffer so '' .\",\n",
       "              \"These must have been for local calls strictly , as in May 1900 the `` only long distance telephone '' in town was transferred from C. B. Carleton's to Young's shoe store .\",\n",
       "              'In submarine defense these must have maximum stress .',\n",
       "              'Therefore , the on-the-scene commander must have detailed operating instructions based on measurement of conditions , in the area , at the time of encounter .',\n",
       "              'Somehow he had forgotten what he must have been told , that combat was an intermittent activity .',\n",
       "              'Wilson stressed the fact that clear as this was , they must have a better church , a more business-like conduct of the church organization , and an effort to get this religious center out of its rut of wild worship into a modern church organization .',\n",
       "              \"`` To have become so corrupt '' , he says , `` surely you must have studied many arts and sciences '' .\",\n",
       "              \"`` It was a terrible loss to me '' , said Kate quietly , feeling the pain twist again at the mention , knowing now that Juanita must have written to him at Grafton .\",\n",
       "              'Eileen must have wheedled a little out of Precious .',\n",
       "              'Her hair was dyed , and her bloom was fading , and she must have been crowding forty , but she seemed to be one of those women who cling to the manners and graces of a pretty child of eight .',\n",
       "              \"Mark's thoughts must have been keeping silent pace beside his own , climbing the same crags in dirty white sneakers , clambering out on top of the headland and coming upon the sudden glinting water at the same instant .\",\n",
       "              \"She had surprised Hans like she had surprised me when she said she'd go , and then she surprised him again when she came back so quick like she must have , because when I came in with the snow she was there with a bottle with three white feathers on its label and Hans was holding it angrily by the throat .\",\n",
       "              \"`` We were on our vacation in Canada '' , Howard explained , in a muffled voice that must have been used to booming , `` and the news didn't catch up with us till we were nearly home .\",\n",
       "              'The night after reading her letter about her surgeon uncle -- it must have been late in September -- I had a vision of myself returned in ragged uniform from The Front , nearly dying , my head bandaged and blooded , and Jessica bending over me , the power of her love bringing me back to life .',\n",
       "              \"`` You must have loved that girl very much , but you couldn't have meant it when you said that you wanted to kill her '' .\",\n",
       "              'Something in my voice must have touched her deeply because her anger passed quickly , and she turned away to keep me from seeing her face .',\n",
       "              'Marty knew how the Union soldiers must have felt at Chancellorsville and Antietam and Gettysburg when the ragged gray ranks charged at them , screaming the wild banshee howl they called the Rebel yell .',\n",
       "              'The cars must have had their gas pedals pushed down to the floor boards .',\n",
       "              'He was a salesman for something or other and must have been transferred .',\n",
       "              'He , of course , must have been equally unprepared for what confronted him , but , nonetheless , I did find his reaction startling .',\n",
       "              'There had also been a man who must have had St. Vitus or something , because he kept jerking his head .',\n",
       "              'Must have cost plenty .',\n",
       "              \"He must have '' --\",\n",
       "              'Alfredo certainly must have enjoyed being alone .',\n",
       "              'It must have been the sort of look that can call a bluff without saying a word .',\n",
       "              'He made the mistake of answering in an offhand way , and instantly realized that his skepticism must have showed in his face or voice .',\n",
       "              'If Hal Yarrow had been killed in a crash , he must have wanted it that way .',\n",
       "              'Sigmen himself must have foreseen it .',\n",
       "              \"`` All the more reason , then '' , Jack said , `` why we must have a treaty .\",\n",
       "              \"But we must know if this is in accordance with your customs , and must have your agreement they will not misuse the power we put in their hands , to our hurt '' .\",\n",
       "              'It must have hurt her even to walk , for the sole was completely off her left foot and Morgan saw that it was bruised and bleeding .',\n",
       "              \"It must have got there when you fell against me '' .\",\n",
       "              \"`` We know Penny spent some -- and Carmer must have dropped a few dollars getting that load on '' .\",\n",
       "              'The man must have leaped to his death from the topmost rung of the tultul .',\n",
       "              'I must have a powerful representative here , a firm with a national distribution and ten , twenty thousand dollars to advertise my products .',\n",
       "              'Drunk on sake , he must have wandered off from his bivouac .',\n",
       "              'He must have saturated himself in the drink , for the bullet not to shock him out of his drunken haze .',\n",
       "              'He must have fallen in with evil companions , for he was a simple youth and quite trusting and inexperienced .',\n",
       "              'Ruffians must have robbed and beaten him before bringing him back to our house to die .',\n",
       "              \"He didn't tell Miss Jen , but she must have got word from the cook or nurse , who of course knew those Quinzaine nigs , and she really took a fit .\",\n",
       "              \"`` He must have forgiven me '' , Henrietta murmured to the room .\",\n",
       "              'She did suddenly , through the link of memory with his father , old Titus , who must have been in his nineties when Henrietta ran away .',\n",
       "              'The woman ( she must have been a tiny baby when Hetty and Delia had stood arm in arm , watching great age grow small ) answered the nod with her own .',\n",
       "              '`` When your mother was here he must have been a young boy .',\n",
       "              'that he must have since he was there like the radio for you to turn on or snap off when you got tired of him , that other guy .',\n",
       "              \"`` Via must have it '' , I answered readily enough , recalling her last visit .\",\n",
       "              \"`` She must have taken the registration when she went to Walter's .\",\n",
       "              'I tried to believe that what must have happened was that , restless , disturbed by this telephone call or whatever , she walked out in the night , as she had a habit of doing .',\n",
       "              '`` You must have been good at history at school .',\n",
       "              'he must have slept again .',\n",
       "              'She must have put his clothes in the closet .',\n",
       "              'Being an intelligent man , John must have guessed what everyone thought about Edythe , but he never let on by so much as a brave smile .',\n",
       "              '`` You must have done something , something wrong .',\n",
       "              'He was a director of S. & M. and must have been in on the decision .',\n",
       "              'I must have dozed off , because I came to with a start at the sound of voices .',\n",
       "              'She must have seen the ring on my left hand .',\n",
       "              'No child , this tart , she must have been thirty-five or even forty .',\n",
       "              'He must have thought I was a tourist .',\n",
       "              'Must have really smelled up her sweater , he thought , and wondered idly just why she kept the sweater fast-frozen .',\n",
       "              \"Another factor must have been the eventual disposal of Willis' fortune ; ;\",\n",
       "              '( An actor must have discipline .',\n",
       "              'An old-fashioned mother said to her modern daughter , `` You must have gotten in quite late last night , dear .',\n",
       "              '`` But you must have heard it said that the drawing-room disappeared forever with the somnolent years of James and the antic heyday of Coward .',\n",
       "              'You danced two tangos and a paso doble , which must have been fairly enervating in that milieu .'],\n",
       "             '*': [\"He cited East Germany where after 15 years of Soviet rule it has become necessary to build a wall to keep the people in , and added , `` so long as people rebel , we must not give up '' .\",\n",
       "              'Education must not be limited to our youth but must be a continuing process through our entire lives , for it is only through knowledge that we , as a nation , can cope with the dangers that threaten our society .',\n",
       "              'We must not permit our society to become a slave to the scientific age , as might well happen without the cultural and spiritual restraint that comes from the development of the human mind through wisdom absorbed from the written word .',\n",
       "              'These warnings must not be treated lightly .',\n",
       "              'The article also said that a person had to be 18 years old or over , and must not be going to high school to attend these classes .',\n",
       "              'Yet in the contemporary context this is precisely what one must not do .',\n",
       "              \"If the content of faith is to be presented today in a form that can be `` understanded of the people '' -- and this , it must not be forgotten , is one of the goals of the perennial theological task -- there is no other choice but to abandon completely a mythological manner of representation .\",\n",
       "              \"But we must not forget man's soul .\",\n",
       "              'There must not only be greater good than evil objectively in view , but also greater probability of actually doing more good than harm .',\n",
       "              'Of course , it must not be forgotten that in achieving this historical feat , Prokofieff had the vast resources of his people behind him ; ;',\n",
       "              'We must not forget , to be sure , that free discussion and debate have produced beneficial results .',\n",
       "              'These peoples , desperately hoping to lift themselves to decent levels of living must not , by our neglect , be forced to seek help from , and finally become virtual satellites of , those who proclaim their hostility to freedom .',\n",
       "              \"Poetry , he said , must be `` dogmatic '' : it must not stoop to argue like a `` K.C. in cloth-of-gold '' .\",\n",
       "              \"He explains that his citizens must not be corrupted by any of the misrepresentations of the gods or heroes that one finds in much poetry , and he observes that all `` these pantomimic gentlemen '' will be sent to another state .\",\n",
       "              'Certainly , he must recognize its power and attempt to ascertain its influence on the flow of history , but he must not confuse the natural and the mundane with the divine .',\n",
       "              'He must not fail to hear it .',\n",
       "              'In that moment of vision Adam heard the voice within himself saying : I must not hate him , I must not hate him or I shall die .',\n",
       "              'In that moment of vision Adam heard the voice within himself saying : I must not hate him , I must not hate him or I shall die .',\n",
       "              \"In his great and glorious wisdom , he knew that our enemies the Israelites must not be able to read therein what we planned '' .\",\n",
       "              'She must not think about time .',\n",
       "              \"They said that we must not fight but wait for the Messiah '' .\"],\n",
       "             'VB-TL': [\"Emcee Jack Herbert insists Dick Nixon's campaign slogan for governor of California is , `` Knight Must Fall '' ! !\",\n",
       "              \"If it is not enough that all of our internationalist One Worlders are advocating that we join this market , I refer you to an article in the New York Times' magazine section ( Nov. 12 , 1961 ) , by Mr. Eric Johnston , entitled `` We Must Join The Common Market '' .\"],\n",
       "             'IN': ['The increase in mechanical harvesting of cotton makes cleaning and drying equipment a must for modern gin operation .',\n",
       "              'Anyone familiar with the details of the McClellan hearings must at once realize that the sweetheart arrangements augmented employer profits far more than they augmented the earnings of the corruptible labor leaders .',\n",
       "              'All this will serve to show off the Ory style in fine fashion and is a must for those who want to collect elements of the old-time jazz before it is too late to lay hands on the gems .',\n",
       "              'In addition , production machinery must in many cases be designed to handle with equal efficiency both natural fibers and the increasing number of synthetics , as well as blends .',\n",
       "              'They must in their planning be able to count on at least tentative commitments of foreign capital assistance over periods of several years .',\n",
       "              'Or should we argue that if we want adjustment of children to children of different races and that that is impossible in an all-something-or-the-other school , we must at least provide him some opportunity to adjust to people of another race within the school -- namely , to a teacher of another race .'],\n",
       "             \"''\": [\"He said that from his experience of two years with Gen. Clay in West Berlin administration , that `` Russia respects our show of strength , but that presently we're not acting as we should and must '' .\",\n",
       "              \"The skyline , the bridges , Broadway , and the Staten Island ferry are only a few of the spots to put on your `` must '' list for New York City .\",\n",
       "              \"His `` articulate Jewish friends '' convinced him that education ( read `` reading '' ) was `` a must '' .\"],\n",
       "             'RB': ['You must also wear a car coat .',\n",
       "              'And there must be many Soviet citizens who know what is going on and who realize that before they can hope to enjoy the full life promised for 1980 they and their children must first survive .',\n",
       "              'But , with all due respects and allowances , it must truthfully be said that what they heard was more syrupy than sweet , more mannered than musical .',\n",
       "              'The Department of Agriculture averaged out U.S. food consumption last year at 1,488 lbs. per person , which , allowing for the 17 million Americans that John Kennedy said go to bed hungry every night , means that certain gluttons on the upper end must somehow down 8 lbs. or more a day .',\n",
       "              'Yet this utterly individual historical person must also contain within himself the common history of mankind .',\n",
       "              \"Man's life , originally shaped for immortality and for communion with God , must now be conformed to the shape of death .\",\n",
       "              'But , in spite of all this , enough evidence remains to show that the magic square of three must indeed have been the object of a rather extensive cult -- or series of cults -- reaching fullest expression in the Han period .',\n",
       "              \"His immediate motive for doing this may not have been directly inspired by the Lo Shu , but this measure must inevitably have increased the existing beliefs in the latter's efficacy .\",\n",
       "              'No one anticipates any radical shift in this situation , but questions concerning reading habits , the availability of such data and the places where it is discussed must surely be raised .',\n",
       "              'We must also remember those who reacted against the dream as a kind of myth -- among them Melville , Hawthorne , and Henry James the elder , all of them out of a Christian background .',\n",
       "              'One must first detect a fleeting mobile or moving target , decide that it is worthy of destruction , select the missile to be fired against the target , compute ballistics for the flight , and prepare the missile for firing .',\n",
       "              \"But because science is based on mathematics doesn't mean that a hot rodder must necessarily be a mathematician .\",\n",
       "              'The interior designer , then , must first be an artist but also understand carpentry and painting and lighting and plumbing and finance .',\n",
       "              \"At the end of its letter was the information that applicants for this position `` must also be prepared to teach costume design and advertising art '' .\",\n",
       "              'therapist and/or linguist must always consider the alternatives .',\n",
       "              \"Serious attention must also be given to the husband's problems in the honeymoon situation .\",\n",
       "              \"However , this does not mean that a child's teeth or jaws must necessarily resemble those of someone in his family .\",\n",
       "              'To become an orthodontist , a man must first be licensed by his state as a dentist , then he must spend at least two years in additional training to acquire a license as a specialist .',\n",
       "              'Denouncing the view that the sexual union is an end in itself , the Conference declared : `` We steadfastly uphold what must always be regarded as the governing considerations of Christian marriage .',\n",
       "              'But we must never forget , most of the appropriate heroes and their legends were created overnight , to answer immediate needs , almost always with conscious aims and ends .',\n",
       "              'my point is that where conflicts arise they must always be resolved in favor of achieving the indispensable condition for a tolerant world -- the absence of Soviet Communist power .',\n",
       "              'There must first be a deeper sense that the church belongs not to us but to Christ , and that it is His purpose , not our own interests and preferences , that determines what it is to be and do .',\n",
       "              'With all these agencies , the congressman must constantly check the political wind and trim his sails accordingly .',\n",
       "              'Without agreeing with every phrase in this statement , we must certainly assert the great difference between Christian love and any form of resistance , and then go on beyond the Mennonite position and affirm that Christian love-in-action must first justify and then determine the moral principles limiting resistance .',\n",
       "              'Without agreeing with every phrase in this statement , we must certainly assert the great difference between Christian love and any form of resistance , and then go on beyond the Mennonite position and affirm that Christian love-in-action must first justify and then determine the moral principles limiting resistance .',\n",
       "              'There must also be additional and more fundamental discrimination in the use of means of resistance , violent or non-violent .',\n",
       "              \"Not only should this provision be enforced but other economic and political actions might be taken which , this author believes , `` must surely be supported by every American who values the freedom that has been won for him and whose conscience is not so dominated by the lines in his account books that he can willingly and knowingly contribute to the enslavement of another nation '' .\",\n",
       "              'Let us look in on one of these nerve centers -- SAC at Omaha -- and see what must still happen before a wing of B-52 bombers could drop their Aj .',\n",
       "              \"An approach that has appealed to some choreographers is reminiscent of Charles Olson's statement of the process of projective verse : `` one perception must immediately and directly lead to a further perception '' .\",\n",
       "              'But do the plays deal with the same facets of experience religion must also deal with ? ?',\n",
       "              \"In short , the fictional private eye is a specialized version of Adam Smith's ideal entrepreneur , the man whose private ambitions must always and everywhere promote the public welfare .\",\n",
       "              'If the detective insists upon retaining his personal standards , he must now do so in conscious defiance of his society .',\n",
       "              \"So we must first analyze our present institutions with respect to the effect of each on man's major needs .\",\n",
       "              'Through the World Bank and other instrumentalities , as well as through individual action by every nation in position to help , we must squarely face this titanic challenge .',\n",
       "              'The crew of the Caravan never failed to amaze Ann , who during her stay in Salem must frequently have overheard strong sailorly language .',\n",
       "              \"The working test of `` the facts '' must always be the best available description obtainable from scholars and scientists who have applied their methods of investigation to relevant situations .\",\n",
       "              \"`` I must then be standing on the line between France and Germany '' .\",\n",
       "              'Such a list must naturally be selective , and the treatment of each man is brief , for I am interested only in their general ideas on the moral measure of literature .',\n",
       "              'In all the talk of feudal rights , the knights and bishops must never forget the woolworkers , nor was it easy to do so , for all along the road to Italy they passed the Florentine pack trains going home with their loads of raw wool from England and rough Flemish cloth , the former to be spun and woven by the Arte Della Lana and the latter to be refined and dyed by the Arte Della Calimala with the pigment recently discovered in Asia Minor by one of their members , Bernardo Rucellai , the secret of which they jealously kept for themselves .',\n",
       "              'Quiney was in London again in June , 1601 , and in November , when he rode up , as Shakespeare must often have done , by way of Oxford , High Wycombe , and Uxbridge , and home through Aylesbury and Banbury .',\n",
       "              'Adams firmly contended that the historian must never underrate the impact of the geographical environment on history .',\n",
       "              'This is not to assume that his work was without merit , but the validity of his assumptions concerning the meaning of history must always be considered against this background of an unprofessional approach .',\n",
       "              \"Like ours , the economy of the space merchants must constantly expand in order to survive , and , like ours , it is based on the principle of `` ever increasing everybody's work and profits in the circle of consumption '' .\",\n",
       "              \"That time is now past and the Atlantic nations , if they are to survive , must develop a full-fledged community , and they must also look beyond the frontiers of `` Western civilization '' toward a world-wide `` concert of free nations '' .\",\n",
       "              'He is forced to play for little money , and must often take another job to live .',\n",
       "              'And , if we follow the Rayburn pattern , as consciously or by an instinctual political sense I like to think I have followed it , then the very nature of our loyalty to our own immediate areas must necessarily be reflected in the devotion of our services to our country .',\n",
       "              'The judgment must therefore be reversed and the cause remanded to the District Court for a determination , after further hearing , of the equitable relief necessary and appropriate in the public interest to eliminate the effects of the acquisition offensive to the statute .',\n",
       "              'He knows that he must give the expert his place , but he knows that he must also keep him in it .',\n",
       "              'The 20-to-1 ratio for cochannel interference embodies one of the fundamental limiting principles which we must always take into account in AM assignments and allocations -- that signals from a particular station are potential sources of objectionable interference over an area much greater than that within which they provide useful service .',\n",
       "              \"Nevertheless , they made naught of Marx's prophecy that capitalism would never pay the `` workers '' -- to use Marx's word -- more than a subsistence wage , with the consequence that increased productivity must inevitably find its way into the capitalists' pockets with the result , in turn , that the gap between the rich and the poor would irrevocably widen and the misery of the poor increase .\",\n",
       "              'On those rare occasions when a faculty member on tenure is not meeting the standards of the institution , the president must also bear the ultimate burden of decision and action .',\n",
       "              'A plan must therefore be brought up to date periodically , possibly with the assistance of a permanent planning officer .',\n",
       "              'Although Andrena is gregarious , so that we may find hundreds and hundreds of burrows together , we must still call it a solitary bee .',\n",
       "              'We must now show that on some component of the graph there exist two points for which the corresponding diagonal points in the C-plane are on opposite sides of C .',\n",
       "              'To do this we must first show that every line which meets **zg in a point P meets its image at P .',\n",
       "              'Hall , for example , was quite explicit on this point when he said states outside European civilization must formally enter into the circle of law-governed countries .',\n",
       "              'Proper evidence of the liquidation and succession must also be filed .',\n",
       "              'Although the teacher must be concerned with maintaining standards , he must also be concerned about understanding differences in ability , background , and experience .',\n",
       "              'Should the requirement , which must therefore be Federal in nature , be legislated by the United States Congress ? ?',\n",
       "              'and these costs must somehow be apportioned among the various classes and then must somehow be reapportioned among the units of service in order to report unit costs that can serve as tentative measures of reasonable rates .',\n",
       "              'and these costs must somehow be apportioned among the various classes and then must somehow be reapportioned among the units of service in order to report unit costs that can serve as tentative measures of reasonable rates .',\n",
       "              'But before we can do this , we must first find answers to our original questions 1 and 2 ; ;',\n",
       "              'Only a radical change in the nature of the population in the central city would be likely to destroy this preference -- and we must now turn our attention to the question of whether such a change , gloomily foreseen by so many urban diagnosticians , is actually upon us .',\n",
       "              \"A work so broad , even when it is directed by a leading idea and informed by a moral vision , must necessarily `` fail '' .\",\n",
       "              'But we can say that since a writing poet , with leisure before him , would seem unlikely to invent a technique based upon frequent and substantial circumlocution , the kennings like the epithets must reasonably be ascribed to an oral tradition .',\n",
       "              'Words or phrases that connoisseurs have admired as handsome or ironic or humorous must therefore lose merit and become regarded as mere inevitable time-servers , sometimes accurate and sometimes not .',\n",
       "              'These variations must eventually be measured horizontally as well as vertically .',\n",
       "              'The operator must continually supply the correct amount of turning current to the gyro torquers so that the effect of gyro drift is canceled .',\n",
       "              'He must mentally pull the blinds and close the window , so that all that existed was in the books before him .',\n",
       "              'But then , after the little operetta had been given its feeble amateur rendering , everyone insisted that it was too good to be lost forever , and that the Royal Academy of Music must now have the manuscript in order to give it the really first-rate performance it merited .',\n",
       "              'He was seeing , somehow , the face of a young boy , the boy Simms Purdew must once have been , a boy with sorrel hair , and blue eyes dancing with gaiety , and the boy mouth grinning trustfully among the freckles .',\n",
       "              'However , no diagram of her brain patterns , no early I.Q. tests recorded certain essential facts about Helva that Central must eventually learn .',\n",
       "              \"Somebody in this town must still have some backbone '' .\",\n",
       "              \"Over the rapidly-diminishing outline of a jump seat piled high with luggage Herry's black brushcut was just discernible , near , or enviably near that spot where -- hidden -- more delicately-textured , most beautifully tinted hair must still be streaming back in cool , oh cool wind sweetly perfumed with sagebrush and yucca flowers and engine fumes .\"],\n",
       "             'NP-HL': ['Must Berlin remain divided ? ?'],\n",
       "             ',': ['Mayor Robert F. Wagner must , as his opponents demand , assume responsibility for his performance in office .',\n",
       "              'But those who would revitalize so complex an organization must , first of all , overcome the resistance of layers of officials wedded to traditional procedures , suspicious of innovation and fearful of mistakes .',\n",
       "              \"We must , first of all , be willing to forgive others before we can secure God's forgiveness .\",\n",
       "              'I must , in fairness , take issue with his premise , primarily because the so-called scandals in labor unions were very much connected with business scandals .',\n",
       "              \"He does what he can and may and must , without regarding himself as lord of the future or , on the other hand , as covered with guilt by accident or unforeseen consequences or by results he did not `` permit '' in the sense explained .\",\n",
       "              'Most professors in the course must , naturally , again have a higher degree than the course offers .',\n",
       "              'Independent art schools granting degrees must , naturally , follow this with academic accreditation by the appropriate regional group .',\n",
       "              'Thus , red wine must , if possible , never be disturbed or shaken ; ;',\n",
       "              'He must , in short , cease to be a detective and become a rebel .',\n",
       "              'He must , consequently , exist as a self-perceived substantive , developing agent , or he does not exist as man .',\n",
       "              'It must , apparently , be motion without termini .',\n",
       "              'We must , therefore , have a look at the new archaeological material and re-examine the literary and place-name evidence which bears upon the problem .',\n",
       "              'There is no explanation of terms nor a qualification that most such revolts have been dealt with by force -- only a bald dogmatism that they must , because of some undefined compulsion , be so repelled .',\n",
       "              'Nevertheless , Mrs. Lewis was still solicitous of his condition : let him do as he wished , let him sleep with chambermaids if he must , but , she begged Blackman , try to keep him from drinking a great deal and bring him back in good health .',\n",
       "              'They must , therefore , be related to long-range development plans .',\n",
       "              'An attempt to improve the life of the anodes or the efficiency of the plasma generators must , therefore , aim at a reduction of the anode loss .',\n",
       "              'Since a gentleman must , if possible , avoid sullying them by work , his hands , as importantly as his accent , become the index of social status .'],\n",
       "             'DO': [\"But competent observers believe he is making progress , particularly toward what Sen. Jackson lists as the primary need -- `` a clearer understanding of where our vital national interests lie and what we must do to promote them '' .\",\n",
       "              'Now the government must do that ; ;',\n",
       "              \"That is why it is so very important that ethical analysis keep clear the problem of decision as to `` permitted '' effects , and not draw back in fright from any conceivable contingency or suffer paralysis of action before possibilities or probabilities unrelated , or not directly morally related , to what we can and may and must do as long as human history endures .\",\n",
       "              'School teachers , all too unprepared for the job they must do , will need demonstrators .',\n",
       "              'The extent to which we can persuade the less developed countries to appraise their own resources , to set targets toward which they should be working , to establish in the light of this forward perspective the most urgent priorities for their immediate attention , and to do the other things which they must do to help themselves , all on a realistic long-term basis , will depend importantly on the incentives we place before them .',\n",
       "              \"They must do something with the acquiescence of the latter , or some of them , which amounts to an acceptance of the law in its entirety beyond all possibility of misconstruction '' .\",\n",
       "              \"Furthermore , Bern decrees that we must do as we are ordered by the Council , preach only the word of God and stop meddling in politics '' ! !\"],\n",
       "             'PPSS': ['How many times must we get burned before we learn ? ?'],\n",
       "             'AT': ['Presumably , if the reverse is the case and the good effect is more certain than the evil result that may be forthcoming , not only must the good and the evil be prudentially weighed and found proportionate , but also calculation of the probabilities and of the degree of certainty or uncertainty in the good or evil effect must be taken into account .',\n",
       "              'As these maladies overlap , so must the cure .'],\n",
       "             '.': [\"The moral is : don't transplant it any oftener than you must .\"],\n",
       "             'NNS': ['Must records always sound like records ? ?'],\n",
       "             'CC': ['must and should do .',\n",
       "              'Must or should the Federal government help ? ?'],\n",
       "             'BE-HL': ['Life must be kept in harmony',\n",
       "              'There must be a fixed number n of repeated trials .'],\n",
       "             'VBZ': ['In some cities games were broadcast throughout the week and then on weekends the announcer was silenced , and fans must needs drive to the city from all the broadcast area to discover how their heroes were faring .'],\n",
       "             'HV-TL': [\"with Harry Warren he did `` The Girl Friend Of The Whirling Dervish '' , `` Jeepers Creepers '' , and `` You Must Have Been A Beautiful Baby '' .\"],\n",
       "             'PPLS': ['To have any success in this effort , we must ourselves view it as an enterprise stretching over a considerable number of years , and we must encourage the recipients of our aid to view it in the same fashion .'],\n",
       "             'NIL': ['Thus , as a development program is being launched , commitments and obligations must be entered into in a given year which may exceed by twofold or threefold the expenditures to be made in that year .'],\n",
       "             'RB-HL': ['Minors minors must also file returns if they earn $600 or more during the year .'],\n",
       "             'ABX': ['Now Af and Af must both be tangent points on the T component in the f-plane ; ;'],\n",
       "             'PPO': ['Or must it become law by amendment of the United States Constitution ? ?',\n",
       "              '`` Captain Jan must you go inside Majdanek ? ?'],\n",
       "             'NN': ['The Providence Daily Journal stated that although the guilt of Brown was evident , the South must guarantee him a fair trial to preserve domestic peace .'],\n",
       "             'PPS': ['No , she would not pretend modesty , but neither must she be crudely bold .',\n",
       "              'If she chose , and in that final decision discarded , what , above all , all of us value , life itself , must she not have risen to her fullest height , and transcending her murky self , felt at last the passion of a great moral decision ? ?'],\n",
       "             'ABN': [\"`` Let's just remember , Sergeant , that we must all carry our own umbrella .\"]})"
      ]
     },
     "execution_count": 196,
     "metadata": {},
     "output_type": "execute_result"
    }
   ],
   "source": [
    "must_examples"
   ]
  },
  {
   "cell_type": "markdown",
   "metadata": {},
   "source": [
    "##### 35.\n",
    "\n",
    "★ Create a regular expression tagger and various unigram and n-gram taggers, incorporating backoff, and train them on part of the Brown corpus.\n",
    "\n",
    "* a. Create three different combinations of the taggers. Test the accuracy of each combined tagger. Which combination works best?\n",
    "\n",
    "* b. Try varying the size of the training corpus. How does it affect your results?"
   ]
  },
  {
   "cell_type": "code",
   "execution_count": 197,
   "metadata": {},
   "outputs": [
    {
     "data": {
      "text/plain": [
       "0.9160118186961715"
      ]
     },
     "execution_count": 197,
     "metadata": {},
     "output_type": "execute_result"
    }
   ],
   "source": [
    "# adapted from question 27\n",
    "\n",
    "size = int(len(brown.tagged_sents()) * .9)\n",
    "train_sents = brown.tagged_sents()[:size]\n",
    "test_sents = brown.tagged_sents()[size:]\n",
    "\n",
    "# patterns adapted from question 22\n",
    "\n",
    "patterns = [\n",
    "    (r'.*ing$', 'VBG'),                      # gerunds \n",
    "    (r'.*ed$', 'VBD'),                       # simple past\n",
    "    (r'.*es$', 'VBZ'),                       # 3rd singular present\n",
    "    (r'.*ould$', 'MD'),                      # modals\n",
    "    (r'.\\'s$', 'NN$'),                       # possessive nouns\n",
    "    (r'.*s$', 'NNS'),                        # plural nouns\n",
    "    (r'^-?[0-9]+(\\.[0-9]+)?$', 'CD'),        # cardinal numbers\n",
    "    (r'.*ly$|.*wise', 'ADV'),                # adverbs\n",
    "    \n",
    "    # adjectives\n",
    "    (r'.*y$|.*ish$|.*ive$|.*[ai]ble$|.*ful$|.*ous$|.*less', 'JJ'),\n",
    "    \n",
    "    (r'^th.{1,3}|^an?$', 'DET'),             # determiners/articles \n",
    "    (r'[\\.,!\\?;:\\'\\\"\\(\\)\\[\\]``]', '.'),      # punctuation \n",
    "    (r'.*ate$|.*en$|.*fy$|.*i[sz]e$', 'VB'), # verbs, base form\n",
    "    (r'.*', 'NN')                            # nouns (default)\n",
    "]\n",
    "\n",
    "t0 = regexp_tagger = nltk.RegexpTagger(patterns)\n",
    "t1 = nltk.UnigramTagger(train_sents, backoff = t0)\n",
    "t2 = nltk.BigramTagger(train_sents, backoff = t1)\n",
    "t2.evaluate(test_sents)"
   ]
  },
  {
   "cell_type": "markdown",
   "metadata": {},
   "source": [
    "*The accuracy when using the default tagger (i.e., everything 'NN') was .9125751765470128, so there is a slight improvement when using the regex tagger.*\n",
    "\n",
    "*There are only $!3$ (or 6) ways of combining three taggers, so we may as well try all the combinations.  Instead of renaming the taggers, I'll just change the ordering.*"
   ]
  },
  {
   "cell_type": "code",
   "execution_count": 198,
   "metadata": {},
   "outputs": [
    {
     "data": {
      "text/plain": [
       "0.8666624756396555"
      ]
     },
     "execution_count": 198,
     "metadata": {},
     "output_type": "execute_result"
    }
   ],
   "source": [
    "t1 = nltk.UnigramTagger(train_sents)\n",
    "t0 = regexp_tagger = nltk.RegexpTagger(patterns, backoff = t1)\n",
    "t2 = nltk.BigramTagger(train_sents, backoff = t0)\n",
    "t2.evaluate(test_sents)"
   ]
  },
  {
   "cell_type": "code",
   "execution_count": 199,
   "metadata": {},
   "outputs": [
    {
     "data": {
      "text/plain": [
       "0.8948680874248235"
      ]
     },
     "execution_count": 199,
     "metadata": {},
     "output_type": "execute_result"
    }
   ],
   "source": [
    "t2 = nltk.BigramTagger(train_sents)\n",
    "t0 = regexp_tagger = nltk.RegexpTagger(patterns, backoff = t2)\n",
    "t1 = nltk.UnigramTagger(train_sents, backoff = t0)\n",
    "t1.evaluate(test_sents)"
   ]
  },
  {
   "cell_type": "code",
   "execution_count": 200,
   "metadata": {},
   "outputs": [
    {
     "data": {
      "text/plain": [
       "0.8948680874248235"
      ]
     },
     "execution_count": 200,
     "metadata": {},
     "output_type": "execute_result"
    }
   ],
   "source": [
    "t0 = regexp_tagger = nltk.RegexpTagger(patterns)\n",
    "t2 = nltk.BigramTagger(train_sents, backoff = t0)\n",
    "t1 = nltk.UnigramTagger(train_sents, backoff = t0)\n",
    "t1.evaluate(test_sents)"
   ]
  },
  {
   "cell_type": "code",
   "execution_count": 201,
   "metadata": {},
   "outputs": [
    {
     "data": {
      "text/plain": [
       "0.2313446910165336"
      ]
     },
     "execution_count": 201,
     "metadata": {},
     "output_type": "execute_result"
    }
   ],
   "source": [
    "t1 = nltk.UnigramTagger(train_sents)\n",
    "t2 = nltk.BigramTagger(train_sents, backoff = t1)\n",
    "t0 = regexp_tagger = nltk.RegexpTagger(patterns, backoff = t2)\n",
    "t0.evaluate(test_sents)"
   ]
  },
  {
   "cell_type": "code",
   "execution_count": 202,
   "metadata": {},
   "outputs": [
    {
     "data": {
      "text/plain": [
       "0.2313446910165336"
      ]
     },
     "execution_count": 202,
     "metadata": {},
     "output_type": "execute_result"
    }
   ],
   "source": [
    "t2 = nltk.BigramTagger(train_sents)\n",
    "t1 = nltk.UnigramTagger(train_sents, backoff = t2)\n",
    "t0 = regexp_tagger = nltk.RegexpTagger(patterns, backoff = t1)\n",
    "t0.evaluate(test_sents)"
   ]
  },
  {
   "cell_type": "markdown",
   "metadata": {},
   "source": [
    "*None of these combinations was as accurate as the first.*\n",
    "\n",
    "*Before we start diving into training size, there is one issue I want to deal with.  In there is any sort of order in our set, we should perform some sort of shuffling operation to guarantee that we take a random selection of samples for our training set.  If we just train on the beginning of the set and test on the end of set, we might end up training and testing on two quite different groups of data.*"
   ]
  },
  {
   "cell_type": "code",
   "execution_count": 203,
   "metadata": {},
   "outputs": [
    {
     "data": {
      "text/plain": [
       "0.9274675906981603"
      ]
     },
     "execution_count": 203,
     "metadata": {},
     "output_type": "execute_result"
    }
   ],
   "source": [
    "import random\n",
    "\n",
    "new_list = [sent for sent in brown.tagged_sents()]\n",
    "shuffled = random.sample(new_list, len(new_list))\n",
    "size = int(len(shuffled) * .9)\n",
    "\n",
    "\n",
    "train_sents = shuffled[:size]\n",
    "test_sents = shuffled[size:]\n",
    "\n",
    "# patterns adapted from question 22\n",
    "\n",
    "patterns = [\n",
    "    (r'.*ing$', 'VBG'),                      # gerunds \n",
    "    (r'.*ed$', 'VBD'),                       # simple past\n",
    "    (r'.*es$', 'VBZ'),                       # 3rd singular present\n",
    "    (r'.*ould$', 'MD'),                      # modals\n",
    "    (r'.\\'s$', 'NN$'),                       # possessive nouns\n",
    "    (r'.*s$', 'NNS'),                        # plural nouns\n",
    "    (r'^-?[0-9]+(\\.[0-9]+)?$', 'CD'),        # cardinal numbers\n",
    "    (r'.*ly$|.*wise', 'ADV'),                # adverbs\n",
    "    \n",
    "    # adjectives\n",
    "    (r'.*y$|.*ish$|.*ive$|.*[ai]ble$|.*ful$|.*ous$|.*less', 'JJ'),\n",
    "    \n",
    "    (r'^th.{1,3}|^an?$', 'DET'),             # determiners/articles \n",
    "    (r'[\\.,!\\?;:\\'\\\"\\(\\)\\[\\]``]', '.'),      # punctuation \n",
    "    (r'.*ate$|.*en$|.*fy$|.*i[sz]e$', 'VB'), # verbs, base form\n",
    "    (r'.*', 'NN')                            # nouns (default)\n",
    "]\n",
    "\n",
    "t0 = regexp_tagger = nltk.RegexpTagger(patterns)\n",
    "t1 = nltk.UnigramTagger(train_sents, backoff = t0)\n",
    "t2 = nltk.BigramTagger(train_sents, backoff = t1)\n",
    "t2.evaluate(test_sents)"
   ]
  },
  {
   "cell_type": "markdown",
   "metadata": {},
   "source": [
    "*The improvement may not seem huge, but we were already close to 100%, so we could look at this as reducing our error rate by more than 10%.*\n",
    "\n",
    "*Let's see how accurate the tagger is on a variety of training set sizes.  We'll start at 10% for the training set and go up to 90%:*"
   ]
  },
  {
   "cell_type": "code",
   "execution_count": 204,
   "metadata": {},
   "outputs": [],
   "source": [
    "import numpy as np\n",
    "\n",
    "new_list = [sent for sent in brown.tagged_sents()]\n",
    "shuffled = random.sample(new_list, len(new_list))\n",
    "\n",
    "sizes = np.arange(.1, 1, .1)\n",
    "perfs = []\n",
    "\n",
    "for s in sizes:\n",
    "\n",
    "    size = int(len(shuffled) * s)\n",
    "\n",
    "\n",
    "    train_sents = shuffled[:size]\n",
    "    test_sents = shuffled[size:]\n",
    "\n",
    "    # patterns adapted from question 22\n",
    "\n",
    "    patterns = [\n",
    "        (r'.*ing$', 'VBG'),                      # gerunds \n",
    "        (r'.*ed$', 'VBD'),                       # simple past\n",
    "        (r'.*es$', 'VBZ'),                       # 3rd singular present\n",
    "        (r'.*ould$', 'MD'),                      # modals\n",
    "        (r'.\\'s$', 'NN$'),                       # possessive nouns\n",
    "        (r'.*s$', 'NNS'),                        # plural nouns\n",
    "        (r'^-?[0-9]+(\\.[0-9]+)?$', 'CD'),        # cardinal numbers\n",
    "        (r'.*ly$|.*wise', 'ADV'),                # adverbs\n",
    "\n",
    "        # adjectives\n",
    "        (r'.*y$|.*ish$|.*ive$|.*[ai]ble$|.*ful$|.*ous$|.*less', 'JJ'),\n",
    "\n",
    "        (r'^th.{1,3}|^an?$', 'DET'),             # determiners/articles \n",
    "        (r'[\\.,!\\?;:\\'\\\"\\(\\)\\[\\]``]', '.'),      # punctuation \n",
    "        (r'.*ate$|.*en$|.*fy$|.*i[sz]e$', 'VB'), # verbs, base form\n",
    "        (r'.*', 'NN')                            # nouns (default)\n",
    "    ]\n",
    "\n",
    "    t0 = regexp_tagger = nltk.RegexpTagger(patterns)\n",
    "    t1 = nltk.UnigramTagger(train_sents, backoff = t0)\n",
    "    t2 = nltk.BigramTagger(train_sents, backoff = t1)\n",
    "    perfs.append(t2.evaluate(test_sents))"
   ]
  },
  {
   "cell_type": "code",
   "execution_count": 205,
   "metadata": {},
   "outputs": [
    {
     "data": {
      "image/png": "[encoded data removed]",
      "text/plain": [
       "<Figure size 432x288 with 1 Axes>"
      ]
     },
     "metadata": {
      "needs_background": "light"
     },
     "output_type": "display_data"
    }
   ],
   "source": [
    "import matplotlib.pyplot as plt\n",
    "\n",
    "plt.plot(sizes, perfs, '-bo')\n",
    "plt.title(\"Performance Based on Training Set Size\")\n",
    "plt.xlabel(\"Size of Training Set (as a Percentage of the Whole)\")\n",
    "plt.ylabel(\"Accuracy\")\n",
    "plt.show()"
   ]
  },
  {
   "cell_type": "markdown",
   "metadata": {},
   "source": [
    "*Unsurprisingly, performance goes up with an increase in the size of the training set.*\n",
    "\n",
    "##### 37. \n",
    "\n",
    "★ Our approach for tagging an unknown word has been to consider the letters of the word (using `RegexpTagger()`), or to ignore the word altogether and tag it as a noun (using `nltk.DefaultTagger()`). These methods will not do well for texts having new words that are not nouns. Consider the sentence *I like to blog on Kim's blog*. If *blog* is a new word, then looking at the previous tag (`TO` versus `NP$`) would probably be helpful. I.e. we need a default tagger \n",
    "that is sensitive to the preceding tag.\n",
    "\n",
    "* a. Create a new kind of unigram tagger that looks at the tag of the previous word, and ignores the current word. (The best way to do this is to modify the source code for `UnigramTagger()`, which presumes knowledge of object-oriented programming in Python.)\n",
    "\n",
    "* b. Add this tagger to the sequence of backoff taggers (including ordinary trigram and bigram taggers that look at words), right before the usual default tagger.\n",
    "\n",
    "* c. Evaluate the contribution of this new unigram tagger.\n",
    "\n",
    "*Source code for the taggers is available [here](https://www.nltk.org/_modules/nltk/tag/sequential.html#UnigramTagger.context \"UnigramTagger\").  I've often visited [this guy's repo](https://github.com/walshbr/nltk/blob/master/ch_five/37.py) as he's posted almost all of his answers to the questions in the NLTK.  I don't often find his code useful (I feel that he often misunderstands the questions), but in this case he hit the nail right on the head with a very simple solution.  I tried my best not to copy his solution; but considering how basic it is, there's not much I could do to change it.*"
   ]
  },
  {
   "cell_type": "code",
   "execution_count": 206,
   "metadata": {},
   "outputs": [
    {
     "data": {
      "text/plain": [
       "[('I', 'PPSS'),\n",
       " ('like', 'VB'),\n",
       " ('to', 'TO'),\n",
       " ('blog', 'VB'),\n",
       " ('on', 'IN'),\n",
       " (\"Kim's\", 'AT'),\n",
       " ('blog', 'NN')]"
      ]
     },
     "execution_count": 206,
     "metadata": {},
     "output_type": "execute_result"
    }
   ],
   "source": [
    "from nltk.tag.sequential import *\n",
    "from nltk import jsontags\n",
    "\n",
    "\n",
    "\n",
    "tagged_sents = brown.tagged_sents(categories=\"news\")\n",
    "\n",
    "size = int(len(tagged_sents) * 0.9)\n",
    "train_sents = tagged_sents[:size]\n",
    "test_sents = tagged_sents[size:]\n",
    "\n",
    "\n",
    "@jsontags.register_tag\n",
    "class PreviousTagger(UnigramTagger):\n",
    "    json_tag = \"nltk.tag.sequential.PreviousTagger\"\n",
    "    \n",
    "    def __init__(self, train=None, model=None, backoff=None, cutoff=0, verbose=False):\n",
    "        NgramTagger.__init__(self, 0, train, model, backoff, cutoff, verbose)\n",
    "        \n",
    "    def encode_json_obj(self):\n",
    "        return self._context_to_tag, self.backoff\n",
    "\n",
    "\n",
    "    @classmethod\n",
    "    def decode_json_obj(cls, obj):\n",
    "        _context_to_tag, backoff = obj\n",
    "        return cls(model = _context_to_tag, backoff = backoff)\n",
    "\n",
    "    def context(self, tokens, index, history):\n",
    "        if index != 0:\n",
    "            return history[index-1]\n",
    "        else:\n",
    "            return None\n",
    "\n",
    "\n",
    "t0 = nltk.DefaultTagger('NN')\n",
    "t1 = PreviousTagger(train_sents, backoff = t0)\n",
    "t2 = nltk.UnigramTagger(train_sents, backoff = t1)\n",
    "t3 = nltk.BigramTagger(train_sents, backoff = t2)\n",
    "t4 = nltk.TrigramTagger(train_sents, backoff = t3)\n",
    "\n",
    "# example from the book\n",
    "t4.tag([\"I\", \"like\", \"to\", \"blog\", \"on\", \"Kim's\", \"blog\"])"
   ]
  },
  {
   "cell_type": "code",
   "execution_count": 207,
   "metadata": {},
   "outputs": [
    {
     "data": {
      "text/plain": [
       "0.9235303749795317"
      ]
     },
     "execution_count": 207,
     "metadata": {},
     "output_type": "execute_result"
    }
   ],
   "source": [
    "new_list = [sent for sent in brown.tagged_sents()]\n",
    "shuffled = random.sample(new_list, len(new_list))\n",
    "\n",
    "size = int(len(shuffled) * .9)\n",
    "\n",
    "\n",
    "train_sents = shuffled[:size]\n",
    "test_sents = shuffled[size:]\n",
    "\n",
    "t0 = nltk.DefaultTagger('NN')\n",
    "t1 = PreviousTagger(train_sents, backoff=t0)\n",
    "t2 = nltk.UnigramTagger(train_sents, backoff=t1)\n",
    "t3 = nltk.BigramTagger(train_sents, backoff=t2)\n",
    "t4 = nltk.TrigramTagger(train_sents, backoff=t3)\n",
    "t4.evaluate(test_sents)"
   ]
  },
  {
   "cell_type": "markdown",
   "metadata": {},
   "source": [
    "*Performance is slightly better than the default tagger, but slightly worse than with the regex classifier.*\n",
    "\n",
    "*What if we combine this with the regex tagger?*"
   ]
  },
  {
   "cell_type": "code",
   "execution_count": 208,
   "metadata": {},
   "outputs": [
    {
     "data": {
      "text/plain": [
       "0.9238061585928141"
      ]
     },
     "execution_count": 208,
     "metadata": {},
     "output_type": "execute_result"
    }
   ],
   "source": [
    "patterns = [\n",
    "        (r'.*ing$', 'VBG'),                      # gerunds \n",
    "        (r'.*ed$', 'VBD'),                       # simple past\n",
    "        (r'.*es$', 'VBZ'),                       # 3rd singular present\n",
    "        (r'.*ould$', 'MD'),                      # modals\n",
    "        (r'.\\'s$', 'NN$'),                       # possessive nouns\n",
    "        (r'.*s$', 'NNS'),                        # plural nouns\n",
    "        (r'^-?[0-9]+(\\.[0-9]+)?$', 'CD'),        # cardinal numbers\n",
    "        (r'.*ly$|.*wise', 'ADV'),                # adverbs\n",
    "\n",
    "        # adjectives\n",
    "        (r'.*y$|.*ish$|.*ive$|.*[ai]ble$|.*ful$|.*ous$|.*less', 'JJ'),\n",
    "\n",
    "        (r'^th.{1,3}|^an?$', 'DET'),             # determiners/articles \n",
    "        (r'[\\.,!\\?;:\\'\\\"\\(\\)\\[\\]``]', '.'),      # punctuation \n",
    "        (r'.*ate$|.*en$|.*fy$|.*i[sz]e$', 'VB'), # verbs, base form\n",
    "        (r'.*', 'NN')                            # nouns (default)\n",
    "    ]\n",
    "\n",
    "t0 = regexp_tagger = nltk.RegexpTagger(patterns)\n",
    "t1 = PreviousTagger(train_sents, backoff = t0)\n",
    "t2 = nltk.UnigramTagger(train_sents, backoff = t1)\n",
    "t3 = nltk.BigramTagger(train_sents, backoff = t2)\n",
    "t4 = nltk.TrigramTagger(train_sents, backoff = t3)\n",
    "t4.evaluate(test_sents)"
   ]
  },
  {
   "cell_type": "markdown",
   "metadata": {},
   "source": [
    "*Again, it's slightly worse than with the combination of the default tagger and the regex tagger. What if we switched the ordering?*"
   ]
  },
  {
   "cell_type": "code",
   "execution_count": 209,
   "metadata": {},
   "outputs": [
    {
     "data": {
      "text/plain": [
       "0.9290288107693501"
      ]
     },
     "execution_count": 209,
     "metadata": {},
     "output_type": "execute_result"
    }
   ],
   "source": [
    "t0 = PreviousTagger(train_sents)\n",
    "t1 = regexp_tagger = nltk.RegexpTagger(patterns, backoff = t0)\n",
    "t2 = nltk.UnigramTagger(train_sents, backoff = t1)\n",
    "t3 = nltk.BigramTagger(train_sents, backoff = t2)\n",
    "t4 = nltk.TrigramTagger(train_sents, backoff = t3)\n",
    "t4.evaluate(test_sents)"
   ]
  },
  {
   "cell_type": "markdown",
   "metadata": {},
   "source": [
    "*The performance goes up again - albeit slightly.  This demonstrates that the `regexp_tagger` is more accurate than `PreviousTagger`, no matter how much I dislike the regex tagger.*\n",
    "\n",
    "##### 38.\n",
    "\n",
    "★ Consider the code in [5](https://www.nltk.org/book/ch05.html#sec-n-gram-tagging) which determines the upper bound for accuracy of a trigram tagger. Review Abney's discussion concerning the impossibility of exact tagging (Church, Young, & Bloothooft, 1996). Explain why correct tagging of these examples requires access to other kinds of information than just words and tags. How might you estimate the scale of this problem?\n",
    "\n",
    "*What we're touching on here is whether a machine can acquire \"real world\" knowledge in order to solve an NLP problem.  Although I'm in no position to label myself an expert on such matters, it seems that in the last nearly 25 years the question has shifted considerably.  Creating \"real world\" knowledge requires crafting sophisticated rules which are very laborious and brittle, and since the writing of the original NLTK book, attitudes have shifted considerably. Now, in the age of Big Data and neural networks, the belief is that with enough data, we can forgo such rule-building systems.  In systems such as Word2Vec, with enough examples machines can build networks to show how words are related to each other, and these networks can be used as proxies for knowledge about the real world.*\n",
    "\n",
    "##### 39. \n",
    "\n",
    "★ Use some of the estimation techniques in `nltk.probability`, such as *Lidstone* or *Laplace* estimation, to develop a statistical tagger that does a better job than n-gram backoff taggers in cases where contexts encountered during testing were not seen during training.\n"
   ]
  },
  {
   "cell_type": "markdown",
   "metadata": {},
   "source": [
    "*Taggers that use smoothing take a long time to train and evaluate, so we'll use smaller train/test corpora here:*"
   ]
  },
  {
   "cell_type": "code",
   "execution_count": 210,
   "metadata": {},
   "outputs": [],
   "source": [
    "# adapted from http://www.nltk.org/howto/probability.html\n",
    "\n",
    "# train/test split\n",
    "train_corpus = shuffled[:4500]\n",
    "test_corpus = shuffled[4500:5000]"
   ]
  },
  {
   "cell_type": "code",
   "execution_count": 211,
   "metadata": {},
   "outputs": [],
   "source": [
    "# with Laplace smoothing\n",
    "from nltk.probability import *\n",
    "\n",
    "tagger = trainer.train_supervised(train_corpus, estimator = LaplaceProbDist)"
   ]
  },
  {
   "cell_type": "code",
   "execution_count": 20,
   "metadata": {},
   "outputs": [
    {
     "data": {
      "text/plain": [
       "0.7806855500821018"
      ]
     },
     "execution_count": 20,
     "metadata": {},
     "output_type": "execute_result"
    }
   ],
   "source": [
    "tagger.evaluate(test_corpus)"
   ]
  },
  {
   "cell_type": "code",
   "execution_count": 15,
   "metadata": {},
   "outputs": [],
   "source": [
    "def lidstone(gamma):\n",
    "    return lambda fd, bins: LidstoneProbDist(fd, gamma, bins)\n"
   ]
  },
  {
   "cell_type": "code",
   "execution_count": 217,
   "metadata": {},
   "outputs": [],
   "source": [
    "tagger = trainer.train_supervised(train_corpus, estimator = lidstone(0.1))"
   ]
  },
  {
   "cell_type": "code",
   "execution_count": 218,
   "metadata": {},
   "outputs": [
    {
     "data": {
      "text/plain": [
       "0.8604673526300606"
      ]
     },
     "execution_count": 218,
     "metadata": {},
     "output_type": "execute_result"
    }
   ],
   "source": [
    "# With Lidstone smoothing\n",
    "tagger.evaluate(test_corpus)"
   ]
  },
  {
   "cell_type": "code",
   "execution_count": 213,
   "metadata": {},
   "outputs": [],
   "source": [
    "# trying various gamma rates\n",
    "gamma = [1.0, 0.5, 0.1, 0.05, 0.01, 0.005]\n",
    "\n",
    "perfs = []\n",
    "\n",
    "for g in gamma:\n",
    "    tagger = trainer.train_supervised(train_corpus, estimator = lidstone(g))\n",
    "    perfs.append(tagger.evaluate(test_corpus))\n",
    "    "
   ]
  },
  {
   "cell_type": "code",
   "execution_count": 216,
   "metadata": {},
   "outputs": [
    {
     "data": {
      "image/png": "[encoded data removed]",
      "text/plain": [
       "<Figure size 432x288 with 1 Axes>"
      ]
     },
     "metadata": {
      "needs_background": "light"
     },
     "output_type": "display_data"
    }
   ],
   "source": [
    "plt.plot(gamma, perfs, '-bo')\n",
    "plt.title(\"Tagger Accuracy with Lidstone Smoothing over Various Rates of Gamma\")\n",
    "plt.xlabel('Gamma')\n",
    "plt.ylabel('Accuracy')\n",
    "plt.xlim(1.0, 0)\n",
    "plt.show()"
   ]
  },
  {
   "cell_type": "markdown",
   "metadata": {},
   "source": [
    "*As the plot above shows, accuracy peaks when gamma is about 0.1.*\n",
    "\n",
    "*For the sake of comparison, we can compare how a bigram tagger with backoff would do with the same corpora:*"
   ]
  },
  {
   "cell_type": "code",
   "execution_count": 23,
   "metadata": {},
   "outputs": [
    {
     "data": {
      "text/plain": [
       "0.8599137931034483"
      ]
     },
     "execution_count": 23,
     "metadata": {},
     "output_type": "execute_result"
    }
   ],
   "source": [
    "t0 = nltk.DefaultTagger('NN')\n",
    "t1 = nltk.UnigramTagger(train_corpus, backoff = t0)\n",
    "t2 = nltk.BigramTagger(train_corpus, backoff = t1)\n",
    "t2.evaluate(test_corpus)"
   ]
  },
  {
   "cell_type": "markdown",
   "metadata": {},
   "source": [
    "*The tagger with Laplace smoothing fared worse than the bigram tagger, but when the tagger with Lidstone smoothing used the most appropriate gamma rate, it performed slightly better.*"
   ]
  },
  {
   "cell_type": "markdown",
   "metadata": {},
   "source": [
    "##### 40.\n",
    "\n",
    "★ Inspect the diagnostic files created by the Brill tagger `rules.out` and `errors.out`. Obtain the demonstration code by accessing the source code (at http://www.nltk.org/code) and create your own version of the Brill tagger. Delete some of the rule templates, based on what you learned from inspecting `rules.out`. Add some new rule templates which employ contexts that might help to correct the errors you saw in `errors.out`.\n",
    "\n",
    "*I'll have to skip this, since there are issues with the Brill tagger and it does not seem possible at present to access either the `rules.out` or `errors.out` files.*"
   ]
  },
  {
   "cell_type": "markdown",
   "metadata": {},
   "source": [
    "##### 41. \n",
    "\n",
    "★ Develop an n-gram backoff tagger that permits \"anti-n-grams\" such as `[\"the\", \"the\"]` to be specified when a tagger is initialized. An anti-ngram is assigned a count of zero and is used to prevent backoff for this n-gram (e.g. to avoid estimating P(*the* | *the*) as just P(*the*)).\n",
    "\n",
    "*I don't understand how I'm supposed to approach this, and I'm not sure anyone else does, either: A quick search online reveals that no one else has tackled this and then published their results.  So, at this moment I think my time might be better spent on other problems.*\n",
    "\n",
    "##### 42. \n",
    "\n",
    "★ Investigate three different ways to define the split between training and testing data when developing a tagger using the Brown Corpus: genre (`category`), source (`fileid`), and sentence. Compare their relative performance and discuss which method is the most legitimate. (You might use n-fold cross validation, discussed in [3](https://www.nltk.org/book/ch06.html#sec-evaluation), to improve the accuracy of the evaluations.)\n",
    "\n",
    "*Before we try any of the new methods, let's set up a reference point.  We'll just try something similar to some of the train/test splits used in the book so far: place 90% of the corpus in the training set and 10% in the testing set.  To determine which sentences go into which corpora, we'll calculate the length of the corpus, multiply this by 90%, put anything before this marker in training set, and anything after in the test set.*"
   ]
  },
  {
   "cell_type": "code",
   "execution_count": 237,
   "metadata": {},
   "outputs": [],
   "source": [
    "bts = brown.tagged_sents()\n",
    "size = int(len(bts) * 0.9)\n",
    "\n",
    "train_corpus = bts[:size]\n",
    "test_corpus = bts[size:]"
   ]
  },
  {
   "cell_type": "code",
   "execution_count": 238,
   "metadata": {},
   "outputs": [
    {
     "data": {
      "text/plain": [
       "0.9125751765470128"
      ]
     },
     "execution_count": 238,
     "metadata": {},
     "output_type": "execute_result"
    }
   ],
   "source": [
    "t0 = nltk.DefaultTagger('NN')\n",
    "t1 = nltk.UnigramTagger(train_corpus, backoff = t0)\n",
    "t2 = nltk.BigramTagger(train_corpus, backoff = t1)\n",
    "t2.evaluate(test_corpus)"
   ]
  },
  {
   "cell_type": "markdown",
   "metadata": {},
   "source": [
    "*But as I mentioned above, this method assumes there's no order to the indexing.  If certain categories are indexed at certain spots, they may be featured only in either the training or the test set, but not both.  This will affect the accuracy of the evaluations.  To avoid this, the first thing I will try is going through the corpus category by category and dividing each category into a 90/10 training/test split.*"
   ]
  },
  {
   "cell_type": "code",
   "execution_count": 235,
   "metadata": {},
   "outputs": [],
   "source": [
    "train_corpus = []\n",
    "test_corpus = []\n",
    "\n",
    "for c in brown.categories():\n",
    "\n",
    "    bts = brown.tagged_sents(categories = c)\n",
    "    size = int(len(bts) * 0.9)\n",
    "\n",
    "    temp_train = bts[:size]\n",
    "    temp_test = bts[size:]\n",
    "\n",
    "    train_corpus += temp_train\n",
    "    test_corpus += temp_test"
   ]
  },
  {
   "cell_type": "code",
   "execution_count": 236,
   "metadata": {},
   "outputs": [
    {
     "data": {
      "text/plain": [
       "0.909745418623536"
      ]
     },
     "execution_count": 236,
     "metadata": {},
     "output_type": "execute_result"
    }
   ],
   "source": [
    "t0 = nltk.DefaultTagger('NN')\n",
    "t1 = nltk.UnigramTagger(train_corpus, backoff = t0)\n",
    "t2 = nltk.BigramTagger(train_corpus, backoff = t1)\n",
    "t2.evaluate(test_corpus)"
   ]
  },
  {
   "cell_type": "markdown",
   "metadata": {},
   "source": [
    "*This actually performed slightly worse, which surprised me somewhat.*\n",
    "\n",
    "*The next method I would like to try uses the `fileids` for each document inside the corpus.  Each document has a four-character i.d.: the first two characters are letters indicating which category the document belongs, and the last two characters are digits sequentially labelling the documents.  If I place all of the documents whose i.d. ends with \"1\" into the testing corpus, I'll end up with a random assortment of about 10% of the total documents.*"
   ]
  },
  {
   "cell_type": "code",
   "execution_count": 250,
   "metadata": {},
   "outputs": [],
   "source": [
    "train_corpus = []\n",
    "test_corpus = []\n",
    "\n",
    "for i in brown.fileids():\n",
    "    if i[-1] == \"1\":\n",
    "        test_corpus += [sent for sent in brown.tagged_sents(fileids = i)]\n",
    "    else:\n",
    "        train_corpus += [sent for sent in brown.tagged_sents(fileids = i)]"
   ]
  },
  {
   "cell_type": "code",
   "execution_count": 251,
   "metadata": {},
   "outputs": [
    {
     "data": {
      "text/plain": [
       "0.9093961883084617"
      ]
     },
     "execution_count": 251,
     "metadata": {},
     "output_type": "execute_result"
    }
   ],
   "source": [
    "t0 = nltk.DefaultTagger('NN')\n",
    "t1 = nltk.UnigramTagger(train_corpus, backoff = t0)\n",
    "t2 = nltk.BigramTagger(train_corpus, backoff = t1)\n",
    "t2.evaluate(test_corpus)"
   ]
  },
  {
   "cell_type": "markdown",
   "metadata": {},
   "source": [
    "*Again, I'm somewhat surprised the results are again a bit worse than the baseline.*\n",
    "\n",
    "*The next thing I'll try is shuffling the sentences so that they are out of order.  This way, pure luck decides which sentences end up in the training set and which end up in the test set.*"
   ]
  },
  {
   "cell_type": "code",
   "execution_count": 255,
   "metadata": {},
   "outputs": [],
   "source": [
    "import random\n",
    "\n",
    "bts = list(brown.tagged_sents())\n",
    "random.shuffle(bts)\n",
    "size = int(len(bts) * 0.9)\n",
    "\n",
    "train_corpus = bts[:size]\n",
    "test_corpus = bts[size:]"
   ]
  },
  {
   "cell_type": "code",
   "execution_count": 256,
   "metadata": {},
   "outputs": [
    {
     "data": {
      "text/plain": [
       "0.9241682177258185"
      ]
     },
     "execution_count": 256,
     "metadata": {},
     "output_type": "execute_result"
    }
   ],
   "source": [
    "t0 = nltk.DefaultTagger('NN')\n",
    "t1 = nltk.UnigramTagger(train_corpus, backoff = t0)\n",
    "t2 = nltk.BigramTagger(train_corpus, backoff = t1)\n",
    "t2.evaluate(test_corpus)"
   ]
  },
  {
   "cell_type": "markdown",
   "metadata": {},
   "source": [
    "*This performed slightly better than the baseline.  If we consider it from the perspective of the amount of error reduced, we're now doing about 10% better.*\n",
    "\n",
    "*The last thing I'll try is k-folds cross validation.*"
   ]
  },
  {
   "cell_type": "code",
   "execution_count": 282,
   "metadata": {},
   "outputs": [],
   "source": [
    "slices = [x for x in np.arange(.1, 1.0, 0.1)]\n",
    "\n",
    "evals = []\n",
    "for i in range(len(slices)):\n",
    "    if i == 0:\n",
    "        bts = brown.tagged_sents()\n",
    "        size = int(len(bts) * slices[i])\n",
    "        train_corpus, test_corpus = bts[size:], bts[:size]\n",
    "    elif i == 8:\n",
    "        bts = brown.tagged_sents()\n",
    "        size = int(len(bts) * slices[i])\n",
    "        train_corpus, test_corpus = bts[:size], bts[size:]\n",
    "    else:\n",
    "        bts = brown.tagged_sents()\n",
    "        size1 = int(len(bts) * slices[i])\n",
    "        size2 = int(len(bts) * slices[i + 1])\n",
    "        train_corpus = bts[:size1] + bts[size2:]\n",
    "        test_corpus = bts[size1:size2]\n",
    "        \n",
    "    t0 = nltk.DefaultTagger('NN')\n",
    "    t1 = nltk.UnigramTagger(train_corpus, backoff = t0)\n",
    "    t2 = nltk.BigramTagger(train_corpus, backoff = t1)\n",
    "    evals.append(t2.evaluate(test_corpus))\n",
    "    "
   ]
  },
  {
   "cell_type": "code",
   "execution_count": 283,
   "metadata": {},
   "outputs": [
    {
     "data": {
      "text/plain": [
       "0.9069345663394456"
      ]
     },
     "execution_count": 283,
     "metadata": {},
     "output_type": "execute_result"
    }
   ],
   "source": [
    "np.average(evals)"
   ]
  },
  {
   "cell_type": "markdown",
   "metadata": {},
   "source": [
    "*Interesting to note that this produces a lower accuracy figure than any of the randomization methods we've tried.*\n",
    "\n",
    "##### 43 \n",
    "\n",
    "★ Develop your own `NgramTagger` class that inherits from NLTK's class, and which encapsulates the method of collapsing the vocabulary of the tagged training and testing data that was described in this chapter. Make sure that the unigram and default backoff taggers have access to the full vocabulary.\n",
    "\n",
    "*This also looks like it would take more time than I have to dedicate now.  The wording of the question is also a bit confusing: When the authors mention \"the method of collapsing vocabulary ... that was described in this chapter\", I assume they are referring to the practice of replacing words that occur less than $X$ times with the 'UNK' token, as was described in question 30.*\n",
    "\n",
    "*I had some issues with question 30, and for practice I revisited [a site I came across when working on this question for the first time](https://gawron.sdsu.edu/compling/course_core/comp_ling_assignments/NLTK_tagging_assignment_answer.html \"using 'UNK'\").  The code seems to be from an (older) blog with answers to questions from a CS class.  Initially I couldn't reproduce the author's results, but this time I was able to get it to work.*\n",
    "\n",
    "*In theory, it wouldn't be impossible to develop a new class to do the same thing as the code below.  However, this code was designed to work specifically with the Brown Corpus, and crafting code that would work with any corpus would take more time than I'm will to spend now.*"
   ]
  },
  {
   "cell_type": "code",
   "execution_count": 289,
   "metadata": {},
   "outputs": [],
   "source": [
    "fd = nltk.FreqDist(brown.words())\n",
    "word_list = fd.keys()"
   ]
  },
  {
   "cell_type": "code",
   "execution_count": 290,
   "metadata": {},
   "outputs": [
    {
     "data": {
      "text/plain": [
       "0.9206618160071763"
      ]
     },
     "execution_count": 290,
     "metadata": {},
     "output_type": "execute_result"
    }
   ],
   "source": [
    "word_mapping = dict((w, w) if fd[w] > 3 else (w, 'UNK')\n",
    "                    for w in word_list)\n",
    "brown_tagged_sent = brown.tagged_sents(categories = 'news')\n",
    "new_brown_tagged_sent = [[(word_mapping[wd], tag) for \n",
    "                          (wd, tag) in sent]\n",
    "                          for sent in brown_tagged_sent]\n",
    "training_size = int(len(brown_tagged_sents) * 0.9)\n",
    "unk_train_sents = new_brown_tagged_sent[:training_size]\n",
    "unk_test_sents = new_brown_tagged_sent[training_size:]\n",
    "t0 = nltk.UnigramTagger(unk_train_sents)\n",
    "t1 = nltk.BigramTagger(unk_train_sents, backoff = t0)\n",
    "t2.evaluate(unk_test_sents)"
   ]
  },
  {
   "cell_type": "code",
   "execution_count": 291,
   "metadata": {},
   "outputs": [],
   "source": [
    "t0 = nltk.UnigramTagger(unk_train_sents)\n",
    "t1 = nltk.BigramTagger(unk_train_sents, backoff = t0)\n",
    "t2 = nltk.UnigramTagger(train_sents, backoff = t1)\n",
    "t3 = nltk.BigramTagger(train_sents, backoff = t2)"
   ]
  },
  {
   "cell_type": "code",
   "execution_count": 292,
   "metadata": {},
   "outputs": [],
   "source": [
    "train_wds = set([wd for sent in train_sents for (wd, tag) in sent])"
   ]
  },
  {
   "cell_type": "code",
   "execution_count": 293,
   "metadata": {},
   "outputs": [
    {
     "data": {
      "text/plain": [
       "0.9618513435566959"
      ]
     },
     "execution_count": 293,
     "metadata": {},
     "output_type": "execute_result"
    }
   ],
   "source": [
    "prep_test_sent = [[(wd, tag) if wd in train_wds else ('UNK', tag)\n",
    "                   for (wd, tag) in sent] for sent in brown_tagged_sent]\n",
    "t3.evaluate(prep_test_sent)"
   ]
  }
 ],
 "metadata": {
  "kernelspec": {
   "display_name": "Python 3",
   "language": "python",
   "name": "python3"
  },
  "language_info": {
   "codemirror_mode": {
    "name": "ipython",
    "version": 3
   },
   "file_extension": ".py",
   "mimetype": "text/x-python",
   "name": "python",
   "nbconvert_exporter": "python",
   "pygments_lexer": "ipython3",
   "version": "3.7.3"
  }
 },
 "nbformat": 4,
 "nbformat_minor": 2
}
