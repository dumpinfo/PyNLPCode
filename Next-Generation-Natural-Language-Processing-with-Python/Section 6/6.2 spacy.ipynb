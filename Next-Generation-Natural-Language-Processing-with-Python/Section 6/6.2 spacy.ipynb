{
 "cells": [
  {
   "cell_type": "code",
   "execution_count": 8,
   "metadata": {
    "collapsed": true
   },
   "outputs": [],
   "source": [
    "import spacy\n",
    "from spacy import displacy"
   ]
  },
  {
   "cell_type": "code",
   "execution_count": 4,
   "metadata": {},
   "outputs": [
    {
     "name": "stdout",
     "output_type": "stream",
     "text": [
      "Collecting https://github.com/explosion/spacy-models/releases/download/en_core_web_sm-2.0.0/en_core_web_sm-2.0.0.tar.gz\n",
      "  Downloading https://github.com/explosion/spacy-models/releases/download/en_core_web_sm-2.0.0/en_core_web_sm-2.0.0.tar.gz (37.4MB)\n",
      "\u001b[K    100% |████████████████████████████████| 37.4MB 921kB/s ta 0:00:011   26% |████████▋                       | 10.0MB 1.7MB/s eta 0:00:16    42% |█████████████▊                  | 16.0MB 749kB/s eta 0:00:29\n",
      "\u001b[?25h  Requirement already satisfied (use --upgrade to upgrade): en-core-web-sm==2.0.0 from https://github.com/explosion/spacy-models/releases/download/en_core_web_sm-2.0.0/en_core_web_sm-2.0.0.tar.gz in /Users/nesh/anaconda3/lib/python3.6/site-packages\n",
      "Requirement already satisfied: spacy>=2.0.0a18 in /Users/nesh/anaconda3/lib/python3.6/site-packages (from en-core-web-sm==2.0.0)\n",
      "Requirement already satisfied: numpy>=1.7 in /Users/nesh/anaconda3/lib/python3.6/site-packages (from spacy>=2.0.0a18->en-core-web-sm==2.0.0)\n",
      "Requirement already satisfied: murmurhash<0.29,>=0.28 in /Users/nesh/anaconda3/lib/python3.6/site-packages (from spacy>=2.0.0a18->en-core-web-sm==2.0.0)\n",
      "Requirement already satisfied: cymem<1.32,>=1.30 in /Users/nesh/anaconda3/lib/python3.6/site-packages (from spacy>=2.0.0a18->en-core-web-sm==2.0.0)\n",
      "Requirement already satisfied: preshed<2.0.0,>=1.0.0 in /Users/nesh/anaconda3/lib/python3.6/site-packages (from spacy>=2.0.0a18->en-core-web-sm==2.0.0)\n",
      "Requirement already satisfied: thinc<6.11.0,>=6.10.1 in /Users/nesh/anaconda3/lib/python3.6/site-packages (from spacy>=2.0.0a18->en-core-web-sm==2.0.0)\n",
      "Requirement already satisfied: plac<1.0.0,>=0.9.6 in /Users/nesh/anaconda3/lib/python3.6/site-packages (from spacy>=2.0.0a18->en-core-web-sm==2.0.0)\n",
      "Requirement already satisfied: six in /Users/nesh/anaconda3/lib/python3.6/site-packages (from spacy>=2.0.0a18->en-core-web-sm==2.0.0)\n",
      "Requirement already satisfied: pathlib in /Users/nesh/anaconda3/lib/python3.6/site-packages (from spacy>=2.0.0a18->en-core-web-sm==2.0.0)\n",
      "Requirement already satisfied: ujson>=1.35 in /Users/nesh/anaconda3/lib/python3.6/site-packages (from spacy>=2.0.0a18->en-core-web-sm==2.0.0)\n",
      "Requirement already satisfied: dill<0.3,>=0.2 in /Users/nesh/anaconda3/lib/python3.6/site-packages (from spacy>=2.0.0a18->en-core-web-sm==2.0.0)\n",
      "Requirement already satisfied: requests<3.0.0,>=2.13.0 in /Users/nesh/anaconda3/lib/python3.6/site-packages (from spacy>=2.0.0a18->en-core-web-sm==2.0.0)\n",
      "Requirement already satisfied: regex==2017.4.5 in /Users/nesh/anaconda3/lib/python3.6/site-packages (from spacy>=2.0.0a18->en-core-web-sm==2.0.0)\n",
      "Requirement already satisfied: ftfy<5.0.0,>=4.4.2 in /Users/nesh/anaconda3/lib/python3.6/site-packages (from spacy>=2.0.0a18->en-core-web-sm==2.0.0)\n",
      "Requirement already satisfied: msgpack-python in /Users/nesh/anaconda3/lib/python3.6/site-packages (from spacy>=2.0.0a18->en-core-web-sm==2.0.0)\n",
      "Requirement already satisfied: msgpack-numpy==0.4.1 in /Users/nesh/anaconda3/lib/python3.6/site-packages (from spacy>=2.0.0a18->en-core-web-sm==2.0.0)\n",
      "Requirement already satisfied: wrapt in /Users/nesh/anaconda3/lib/python3.6/site-packages (from thinc<6.11.0,>=6.10.1->spacy>=2.0.0a18->en-core-web-sm==2.0.0)\n",
      "Requirement already satisfied: tqdm<5.0.0,>=4.10.0 in /Users/nesh/anaconda3/lib/python3.6/site-packages (from thinc<6.11.0,>=6.10.1->spacy>=2.0.0a18->en-core-web-sm==2.0.0)\n",
      "Requirement already satisfied: cytoolz<0.9,>=0.8 in /Users/nesh/anaconda3/lib/python3.6/site-packages (from thinc<6.11.0,>=6.10.1->spacy>=2.0.0a18->en-core-web-sm==2.0.0)\n",
      "Requirement already satisfied: termcolor in /Users/nesh/anaconda3/lib/python3.6/site-packages (from thinc<6.11.0,>=6.10.1->spacy>=2.0.0a18->en-core-web-sm==2.0.0)\n",
      "Requirement already satisfied: chardet<3.1.0,>=3.0.2 in /Users/nesh/anaconda3/lib/python3.6/site-packages (from requests<3.0.0,>=2.13.0->spacy>=2.0.0a18->en-core-web-sm==2.0.0)\n",
      "Requirement already satisfied: idna<2.7,>=2.5 in /Users/nesh/anaconda3/lib/python3.6/site-packages (from requests<3.0.0,>=2.13.0->spacy>=2.0.0a18->en-core-web-sm==2.0.0)\n",
      "Requirement already satisfied: urllib3<1.23,>=1.21.1 in /Users/nesh/anaconda3/lib/python3.6/site-packages (from requests<3.0.0,>=2.13.0->spacy>=2.0.0a18->en-core-web-sm==2.0.0)\n",
      "Requirement already satisfied: certifi>=2017.4.17 in /Users/nesh/anaconda3/lib/python3.6/site-packages (from requests<3.0.0,>=2.13.0->spacy>=2.0.0a18->en-core-web-sm==2.0.0)\n",
      "Requirement already satisfied: html5lib in /Users/nesh/anaconda3/lib/python3.6/site-packages (from ftfy<5.0.0,>=4.4.2->spacy>=2.0.0a18->en-core-web-sm==2.0.0)\n",
      "Requirement already satisfied: wcwidth in /Users/nesh/anaconda3/lib/python3.6/site-packages (from ftfy<5.0.0,>=4.4.2->spacy>=2.0.0a18->en-core-web-sm==2.0.0)\n",
      "Requirement already satisfied: toolz>=0.8.0 in /Users/nesh/anaconda3/lib/python3.6/site-packages (from cytoolz<0.9,>=0.8->thinc<6.11.0,>=6.10.1->spacy>=2.0.0a18->en-core-web-sm==2.0.0)\n",
      "Requirement already satisfied: webencodings in /Users/nesh/anaconda3/lib/python3.6/site-packages (from html5lib->ftfy<5.0.0,>=4.4.2->spacy>=2.0.0a18->en-core-web-sm==2.0.0)\n",
      "Requirement already satisfied: setuptools>=18.5 in /Users/nesh/anaconda3/lib/python3.6/site-packages (from html5lib->ftfy<5.0.0,>=4.4.2->spacy>=2.0.0a18->en-core-web-sm==2.0.0)\n",
      "\n",
      "\u001b[93m    Linking successful\u001b[0m\n",
      "    /Users/nesh/anaconda3/lib/python3.6/site-packages/en_core_web_sm -->\n",
      "    /Users/nesh/anaconda3/lib/python3.6/site-packages/spacy/data/en\n",
      "\n",
      "    You can now load the model via spacy.load('en')\n",
      "\n"
     ]
    }
   ],
   "source": [
    "!python -m spacy download en"
   ]
  },
  {
   "cell_type": "code",
   "execution_count": 9,
   "metadata": {
    "collapsed": true
   },
   "outputs": [],
   "source": [
    "nlp = spacy.load('en')"
   ]
  },
  {
   "cell_type": "markdown",
   "metadata": {},
   "source": [
    "## Break down a document"
   ]
  },
  {
   "cell_type": "code",
   "execution_count": 10,
   "metadata": {
    "collapsed": true
   },
   "outputs": [],
   "source": [
    "doc = nlp(u'This is a sentence.')"
   ]
  },
  {
   "cell_type": "code",
   "execution_count": 11,
   "metadata": {},
   "outputs": [
    {
     "name": "stdout",
     "output_type": "stream",
     "text": [
      "This : DET\n",
      "is : VERB\n",
      "a : DET\n",
      "sentence : NOUN\n",
      ". : PUNCT\n"
     ]
    }
   ],
   "source": [
    "for token in doc:\n",
    "    print('{:s} : {:s}'.format(token.text,token.pos_))"
   ]
  },
  {
   "cell_type": "markdown",
   "metadata": {},
   "source": [
    "## Visualise the parse tree"
   ]
  },
  {
   "cell_type": "code",
   "execution_count": 12,
   "metadata": {},
   "outputs": [
    {
     "name": "stderr",
     "output_type": "stream",
     "text": [
      "/Users/nesh/anaconda3/lib/python3.6/runpy.py:193: DeprecationWarning: Positional arguments to Doc.merge are deprecated. Instead, use the keyword arguments, for example tag=, lemma= or ent_type=.\n",
      "  \"__main__\", mod_spec)\n"
     ]
    },
    {
     "name": "stdout",
     "output_type": "stream",
     "text": [
      "\n",
      "\u001b[93m    Serving on port 5000...\u001b[0m\n",
      "    Using the 'dep' visualizer\n",
      "\n",
      "\n",
      "    Shutting down server on port 5000.\n",
      "\n"
     ]
    }
   ],
   "source": [
    "displacy.serve(doc)"
   ]
  },
  {
   "cell_type": "markdown",
   "metadata": {},
   "source": [
    "## Extract entities"
   ]
  },
  {
   "cell_type": "code",
   "execution_count": 14,
   "metadata": {},
   "outputs": [
    {
     "name": "stdout",
     "output_type": "stream",
     "text": [
      "Beatles\n"
     ]
    }
   ],
   "source": [
    "for ent in nlp('I love the Beatles').ents:\n",
    "    print(ent)"
   ]
  },
  {
   "cell_type": "markdown",
   "metadata": {},
   "source": [
    "## Strip adjectives from nouns"
   ]
  },
  {
   "cell_type": "code",
   "execution_count": 15,
   "metadata": {},
   "outputs": [
    {
     "name": "stdout",
     "output_type": "stream",
     "text": [
      "fried : VERB\n",
      "egg : NOUN\n",
      "-------\n",
      "boiled : VERB\n",
      "egg : NOUN\n",
      "-------\n",
      "pickled : VERB\n",
      "egg : NOUN\n",
      "-------\n"
     ]
    }
   ],
   "source": [
    "for ingredient in ['fried egg','boiled egg','pickled egg']:\n",
    "    for token in nlp(ingredient):\n",
    "        print('{:s} : {:s}'.format(token.text,token.pos_))\n",
    "    print('-------')"
   ]
  },
  {
   "cell_type": "code",
   "execution_count": null,
   "metadata": {
    "collapsed": true
   },
   "outputs": [],
   "source": []
  }
 ],
 "metadata": {
  "kernelspec": {
   "display_name": "Python 3",
   "language": "python",
   "name": "python3"
  },
  "language_info": {
   "codemirror_mode": {
    "name": "ipython",
    "version": 3
   },
   "file_extension": ".py",
   "mimetype": "text/x-python",
   "name": "python",
   "nbconvert_exporter": "python",
   "pygments_lexer": "ipython3",
   "version": "3.6.3"
  }
 },
 "nbformat": 4,
 "nbformat_minor": 2
}
